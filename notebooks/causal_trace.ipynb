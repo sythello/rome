{
 "cells": [
  {
   "cell_type": "markdown",
   "metadata": {},
   "source": [
    "<a href=\"https://colab.research.google.com/github/kmeng01/rome/blob/main/notebooks/causal_trace.ipynb\"><img src=\"https://colab.research.google.com/assets/colab-badge.svg\" align=\"left\"/></a>&nbsp;or in a local notebook."
   ]
  },
  {
   "cell_type": "code",
   "execution_count": 1,
   "metadata": {},
   "outputs": [],
   "source": [
    "# %%bash\n",
    "# !(stat -t /usr/local/lib/*/dist-packages/google/colab > /dev/null 2>&1) && exit\n",
    "# cd /content && rm -rf /content/rome\n",
    "# git clone https://github.com/kmeng01/rome rome > install.log 2>&1\n",
    "# pip install -r /content/rome/scripts/colab_reqs/rome.txt >> install.log 2>&1\n",
    "# pip install --upgrade google-cloud-storage >> install.log 2>&1"
   ]
  },
  {
   "cell_type": "code",
   "execution_count": 2,
   "metadata": {},
   "outputs": [],
   "source": [
    "IS_COLAB = False\n",
    "try:\n",
    "    import google.colab, torch, os\n",
    "\n",
    "    IS_COLAB = True\n",
    "    os.chdir(\"/content/rome\")\n",
    "    if not torch.cuda.is_available():\n",
    "        raise Exception(\"Change runtime type to include a GPU.\")\n",
    "except ModuleNotFoundError as _:\n",
    "    pass"
   ]
  },
  {
   "cell_type": "markdown",
   "metadata": {},
   "source": [
    "## Causal Tracing\n",
    "\n",
    "A demonstration of the double-intervention causal tracing method.\n",
    "\n",
    "The strategy used by causal tracing is to understand important\n",
    "states within a transfomer by doing two interventions simultaneously:\n",
    "\n",
    "1. Corrupt a subset of the input.  In our paper, we corrupt the subject tokens\n",
    "   to frustrate the ability of the transformer to accurately complete factual\n",
    "   prompts about the subject.\n",
    "2. Restore a subset of the internal hidden states.  In our paper, we scan\n",
    "   hidden states at all layers and all tokens, searching for individual states\n",
    "   that carry the necessary information for the transformer to recover its\n",
    "   capability to complete the factual prompt.\n",
    "\n",
    "The traces of decisive states can be shown on a heatmap.  This notebook\n",
    "demonstrates the code for conducting causal traces and creating these heatmaps."
   ]
  },
  {
   "cell_type": "code",
   "execution_count": 3,
   "metadata": {
    "scrolled": false
   },
   "outputs": [],
   "source": [
    "%load_ext autoreload\n",
    "%autoreload 2"
   ]
  },
  {
   "cell_type": "markdown",
   "metadata": {},
   "source": [
    "The `experiments.causal_trace` module contains a set of functions for running causal traces.\n",
    "\n",
    "In this notebook, we reproduce, demonstrate and discuss the interesting functions.\n",
    "\n",
    "We begin by importing several utility functions that deal with tokens and transformer models."
   ]
  },
  {
   "cell_type": "code",
   "execution_count": 4,
   "metadata": {},
   "outputs": [],
   "source": [
    "import os, sys, re, json\n",
    "import string\n",
    "import torch\n",
    "import numpy as np\n",
    "import copy\n",
    "from collections import defaultdict\n",
    "from util import nethook\n",
    "from util.globals import DATA_DIR\n",
    "from experiments.causal_trace import (\n",
    "    ModelAndTokenizer,\n",
    "    layername,\n",
    "    guess_subject,\n",
    "    plot_trace_heatmap,\n",
    ")\n",
    "from experiments.causal_trace import (\n",
    "    make_inputs,\n",
    "    decode_tokens,\n",
    "    find_token_range,\n",
    "    predict_token,\n",
    "    predict_from_input,\n",
    "    collect_embedding_std,\n",
    ")\n",
    "from dsets import KnownsDataset"
   ]
  },
  {
   "cell_type": "code",
   "execution_count": 5,
   "metadata": {
    "scrolled": false
   },
   "outputs": [
    {
     "data": {
      "text/plain": [
       "<torch.autograd.grad_mode.set_grad_enabled at 0x7f702c594fa0>"
      ]
     },
     "execution_count": 5,
     "metadata": {},
     "output_type": "execute_result"
    }
   ],
   "source": [
    "torch.set_grad_enabled(False)"
   ]
  },
  {
   "cell_type": "code",
   "execution_count": 6,
   "metadata": {},
   "outputs": [],
   "source": [
    "os.environ['CUDA_VISIBLE_DEVICES'] = '0'"
   ]
  },
  {
   "cell_type": "markdown",
   "metadata": {},
   "source": [
    "Now we load a model and tokenizer, and show that it can complete a couple factual statements correctly."
   ]
  },
  {
   "cell_type": "code",
   "execution_count": 5,
   "metadata": {
    "scrolled": true
   },
   "outputs": [
    {
     "data": {
      "application/vnd.jupyter.widget-view+json": {
       "model_id": "5c4b9b4f092f402d8cbe50a2ce710b98",
       "version_major": 2,
       "version_minor": 0
      },
      "text/plain": [
       "Downloading:   0%|          | 0.00/689 [00:00<?, ?B/s]"
      ]
     },
     "metadata": {},
     "output_type": "display_data"
    },
    {
     "data": {
      "application/vnd.jupyter.widget-view+json": {
       "model_id": "a5f30ec44fd545649182cfc62e600205",
       "version_major": 2,
       "version_minor": 0
      },
      "text/plain": [
       "Downloading:   0%|          | 0.00/0.99M [00:00<?, ?B/s]"
      ]
     },
     "metadata": {},
     "output_type": "display_data"
    },
    {
     "data": {
      "application/vnd.jupyter.widget-view+json": {
       "model_id": "39f862a1412b4147985a9ec689b2cb8a",
       "version_major": 2,
       "version_minor": 0
      },
      "text/plain": [
       "Downloading:   0%|          | 0.00/446k [00:00<?, ?B/s]"
      ]
     },
     "metadata": {},
     "output_type": "display_data"
    },
    {
     "data": {
      "application/vnd.jupyter.widget-view+json": {
       "model_id": "fe27c802807940b88b3014584cf634bb",
       "version_major": 2,
       "version_minor": 0
      },
      "text/plain": [
       "Downloading:   0%|          | 0.00/1.29M [00:00<?, ?B/s]"
      ]
     },
     "metadata": {},
     "output_type": "display_data"
    },
    {
     "data": {
      "application/vnd.jupyter.widget-view+json": {
       "model_id": "4cbad3de646b49ad865fce729ccc9d28",
       "version_major": 2,
       "version_minor": 0
      },
      "text/plain": [
       "Downloading:   0%|          | 0.00/5.99G [00:00<?, ?B/s]"
      ]
     },
     "metadata": {},
     "output_type": "display_data"
    }
   ],
   "source": [
    "# model_name = \"gpt2-xl\"  # or \"EleutherAI/gpt-j-6B\" or \"EleutherAI/gpt-neox-20b\"\n",
    "# mt = ModelAndTokenizer(\n",
    "#     model_name,\n",
    "#     low_cpu_mem_usage=IS_COLAB,\n",
    "#     torch_dtype=(torch.float16 if \"20b\" in model_name else None),\n",
    "# )"
   ]
  },
  {
   "cell_type": "code",
   "execution_count": null,
   "metadata": {},
   "outputs": [],
   "source": [
    "# mt.model"
   ]
  },
  {
   "cell_type": "code",
   "execution_count": 6,
   "metadata": {},
   "outputs": [
    {
     "data": {
      "text/plain": [
       "([' soccer', ' Seattle'], tensor([0.7675, 0.9552], device='cuda:0'))"
      ]
     },
     "execution_count": 6,
     "metadata": {},
     "output_type": "execute_result"
    }
   ],
   "source": [
    "# predict_token(\n",
    "#     mt,\n",
    "#     [\"Megan Rapinoe plays the sport of\", \"The Space Needle is in the city of\"],\n",
    "#     return_p=True,\n",
    "# )"
   ]
  },
  {
   "cell_type": "markdown",
   "metadata": {},
   "source": [
    "To obfuscate the subject during Causal Tracing, we use noise sampled from a zero-centered spherical Gaussian, whose stddev is 3 times the $\\sigma$ stddev the model's embeddings. Let's compute that value."
   ]
  },
  {
   "cell_type": "code",
   "execution_count": 7,
   "metadata": {},
   "outputs": [
    {
     "name": "stdout",
     "output_type": "stream",
     "text": [
      "data/known_1000.json does not exist. Downloading from https://rome.baulab.info/data/dsets/known_1000.json\n"
     ]
    },
    {
     "data": {
      "application/vnd.jupyter.widget-view+json": {
       "model_id": "3f915b7884a94c789c869772d950fe7e",
       "version_major": 2,
       "version_minor": 0
      },
      "text/plain": [
       "  0%|          | 0.00/335k [00:00<?, ?B/s]"
      ]
     },
     "metadata": {},
     "output_type": "display_data"
    },
    {
     "name": "stdout",
     "output_type": "stream",
     "text": [
      "Loaded dataset with 1209 elements\n",
      "Using noise level 0.13462981581687927\n"
     ]
    }
   ],
   "source": [
    "# knowns = KnownsDataset(DATA_DIR)  # Dataset of known facts\n",
    "# noise_level = 3 * collect_embedding_std(mt, [k[\"subject\"] for k in knowns])\n",
    "# print(f\"Using noise level {noise_level}\")"
   ]
  },
  {
   "cell_type": "markdown",
   "metadata": {},
   "source": [
    "## Tracing a single location\n",
    "\n",
    "The core intervention in causal tracing is captured in this function:\n",
    "\n",
    "`trace_with_patch` a single causal trace.\n",
    "\n",
    "It enables running a batch of inferences with two interventions.\n",
    "\n",
    "  1. Random noise can be added to corrupt the inputs of some of the batch.\n",
    "  2. At any point, clean non-noised state can be copied over from an\n",
    "     uncorrupted batch member to other batch members.\n",
    "  \n",
    "The convention used by this function is that the zeroth element of the\n",
    "batch is the uncorrupted run, and the subsequent elements of the batch\n",
    "are the corrupted runs.  The argument tokens_to_mix specifies an\n",
    "be corrupted by adding Gaussian noise to the embedding for the batch\n",
    "inputs other than the first element in the batch.  Alternately,\n",
    "subsequent runs could be corrupted by simply providing different\n",
    "input tokens via the passed input batch.\n",
    "\n",
    "To ensure that corrupted behavior is representative, in practice, we\n",
    "will actually run several (ten) corrupted runs in the same batch,\n",
    "each with its own sample of noise.\n",
    "\n",
    "Then when running, a specified set of hidden states will be uncorrupted\n",
    "by restoring their values to the same vector that they had in the\n",
    "zeroth uncorrupted run.  This set of hidden states is listed in\n",
    "states_to_patch, by listing [(token_index, layername), ...] pairs.\n",
    "To trace the effect of just a single state, this can be just a single\n",
    "token/layer pair.  To trace the effect of restoring a set of states,\n",
    "any number of token indices and layers can be listed.\n",
    "\n",
    "Note that this function is also in experiments.causal_trace; the code\n",
    "is shown here to show the logic."
   ]
  },
  {
   "cell_type": "code",
   "execution_count": 8,
   "metadata": {},
   "outputs": [],
   "source": [
    "def trace_with_patch(\n",
    "    model,  # The model\n",
    "    inp,  # A set of inputs\n",
    "    states_to_patch,  # A list of (token index, layername) triples to restore\n",
    "    answers_t,  # Answer probabilities to collect\n",
    "    tokens_to_mix,  # Range of tokens to corrupt (begin, end)\n",
    "    noise=0.1,  # Level of noise to add\n",
    "    trace_layers=None,  # List of traced outputs to return\n",
    "):\n",
    "    prng = numpy.random.RandomState(1)  # For reproducibility, use pseudorandom noise\n",
    "    patch_spec = defaultdict(list)\n",
    "    for t, l in states_to_patch:\n",
    "        patch_spec[l].append(t)\n",
    "    embed_layername = layername(model, 0, \"embed\")\n",
    "\n",
    "    def untuple(x):\n",
    "        return x[0] if isinstance(x, tuple) else x\n",
    "\n",
    "    # Define the model-patching rule.\n",
    "    def patch_rep(x, layer):\n",
    "        if layer == embed_layername:\n",
    "            # If requested, we corrupt a range of token embeddings on batch items x[1:]\n",
    "            if tokens_to_mix is not None:\n",
    "                b, e = tokens_to_mix\n",
    "                x[1:, b:e] += noise * torch.from_numpy(\n",
    "                    prng.randn(x.shape[0] - 1, e - b, x.shape[2])\n",
    "                ).to(x.device)\n",
    "            return x\n",
    "        if layer not in patch_spec:\n",
    "            return x\n",
    "        # If this layer is in the patch_spec, restore the uncorrupted hidden state\n",
    "        # for selected tokens.\n",
    "        h = untuple(x)\n",
    "        for t in patch_spec[layer]:\n",
    "            h[1:, t] = h[0, t]\n",
    "        return x\n",
    "\n",
    "    # With the patching rules defined, run the patched model in inference.\n",
    "    additional_layers = [] if trace_layers is None else trace_layers\n",
    "    with torch.no_grad(), nethook.TraceDict(\n",
    "        model,\n",
    "        [embed_layername] + list(patch_spec.keys()) + additional_layers,\n",
    "        edit_output=patch_rep,\n",
    "    ) as td:\n",
    "        outputs_exp = model(**inp)\n",
    "\n",
    "    # We report softmax probabilities for the answers_t token predictions of interest.\n",
    "    probs = torch.softmax(outputs_exp.logits[1:, -1, :], dim=1).mean(dim=0)[answers_t]\n",
    "\n",
    "    # If tracing all layers, collect all activations together to return.\n",
    "    if trace_layers is not None:\n",
    "        all_traced = torch.stack(\n",
    "            [untuple(td[layer].output).detach().cpu() for layer in trace_layers], dim=2\n",
    "        )\n",
    "        return probs, all_traced\n",
    "\n",
    "    return probs"
   ]
  },
  {
   "cell_type": "markdown",
   "metadata": {},
   "source": [
    "## Scanning all locations\n",
    "\n",
    "A causal flow heatmap is created by repeating `trace_with_patch` at every individual hidden state, and measuring the impact of restoring state at each location.\n",
    "\n",
    "The `calculate_hidden_flow` function does this loop.  It handles both the case of restoring a single hidden state, and also restoring MLP or attention states.  Because MLP and attention make small residual contributions, to observe a causal effect in those cases, we need to restore several layers of contributions at once, which is done by `trace_important_window`."
   ]
  },
  {
   "cell_type": "code",
   "execution_count": 9,
   "metadata": {},
   "outputs": [],
   "source": [
    "def calculate_hidden_flow(\n",
    "    mt, prompt, subject, samples=10, noise=0.1, window=10, kind=None\n",
    "):\n",
    "    \"\"\"\n",
    "    Runs causal tracing over every token/layer combination in the network\n",
    "    and returns a dictionary numerically summarizing the results.\n",
    "    \"\"\"\n",
    "    inp = make_inputs(mt.tokenizer, [prompt] * (samples + 1))\n",
    "    with torch.no_grad():\n",
    "        answer_t, base_score = [d[0] for d in predict_from_input(mt.model, inp)]\n",
    "    [answer] = decode_tokens(mt.tokenizer, [answer_t])\n",
    "    e_range = find_token_range(mt.tokenizer, inp[\"input_ids\"][0], subject)\n",
    "    low_score = trace_with_patch(\n",
    "        mt.model, inp, [], answer_t, e_range, noise=noise\n",
    "    ).item()\n",
    "    if not kind:\n",
    "        differences = trace_important_states(\n",
    "            mt.model, mt.num_layers, inp, e_range, answer_t, noise=noise\n",
    "        )\n",
    "    else:\n",
    "        differences = trace_important_window(\n",
    "            mt.model,\n",
    "            mt.num_layers,\n",
    "            inp,\n",
    "            e_range,\n",
    "            answer_t,\n",
    "            noise=noise,\n",
    "            window=window,\n",
    "            kind=kind,\n",
    "        )\n",
    "    differences = differences.detach().cpu()\n",
    "    return dict(\n",
    "        scores=differences,\n",
    "        low_score=low_score,\n",
    "        high_score=base_score,\n",
    "        input_ids=inp[\"input_ids\"][0],\n",
    "        input_tokens=decode_tokens(mt.tokenizer, inp[\"input_ids\"][0]),\n",
    "        subject_range=e_range,\n",
    "        answer=answer,\n",
    "        window=window,\n",
    "        kind=kind or \"\",\n",
    "    )\n",
    "\n",
    "\n",
    "def trace_important_states(model, num_layers, inp, e_range, answer_t, noise=0.1):\n",
    "    ntoks = inp[\"input_ids\"].shape[1]\n",
    "    table = []\n",
    "    for tnum in range(ntoks):\n",
    "        row = []\n",
    "        for layer in range(0, num_layers):\n",
    "            r = trace_with_patch(\n",
    "                model,\n",
    "                inp,\n",
    "                [(tnum, layername(model, layer))],\n",
    "                answer_t,\n",
    "                tokens_to_mix=e_range,\n",
    "                noise=noise,\n",
    "            )\n",
    "            row.append(r)\n",
    "        table.append(torch.stack(row))\n",
    "    return torch.stack(table)\n",
    "\n",
    "\n",
    "def trace_important_window(\n",
    "    model, num_layers, inp, e_range, answer_t, kind, window=10, noise=0.1\n",
    "):\n",
    "    ntoks = inp[\"input_ids\"].shape[1]\n",
    "    table = []\n",
    "    for tnum in range(ntoks):\n",
    "        row = []\n",
    "        for layer in range(0, num_layers):\n",
    "            layerlist = [\n",
    "                (tnum, layername(model, L, kind))\n",
    "                for L in range(\n",
    "                    max(0, layer - window // 2), min(num_layers, layer - (-window // 2))\n",
    "                )\n",
    "            ]\n",
    "            r = trace_with_patch(\n",
    "                model, inp, layerlist, answer_t, tokens_to_mix=e_range, noise=noise\n",
    "            )\n",
    "            row.append(r)\n",
    "        table.append(torch.stack(row))\n",
    "    return torch.stack(table)"
   ]
  },
  {
   "cell_type": "markdown",
   "metadata": {},
   "source": [
    "## Plotting the results\n",
    "\n",
    "The `plot_trace_heatmap` function draws the data on a heatmap.  That function is not shown here; it is in `experiments.causal_trace`.\n"
   ]
  },
  {
   "cell_type": "code",
   "execution_count": 10,
   "metadata": {},
   "outputs": [],
   "source": [
    "def plot_hidden_flow(\n",
    "    mt,\n",
    "    prompt,\n",
    "    subject=None,\n",
    "    samples=10,\n",
    "    noise=0.1,\n",
    "    window=10,\n",
    "    kind=None,\n",
    "    modelname=None,\n",
    "    savepdf=None,\n",
    "):\n",
    "    if subject is None:\n",
    "        subject = guess_subject(prompt)\n",
    "    result = calculate_hidden_flow(\n",
    "        mt, prompt, subject, samples=samples, noise=noise, window=window, kind=kind\n",
    "    )\n",
    "    plot_trace_heatmap(result, savepdf, modelname=modelname)\n",
    "\n",
    "\n",
    "def plot_all_flow(mt, prompt, subject=None, noise=0.1, modelname=None):\n",
    "    for kind in [None, \"mlp\", \"attn\"]:\n",
    "        plot_hidden_flow(\n",
    "            mt, prompt, subject, modelname=modelname, noise=noise, kind=kind\n",
    "        )"
   ]
  },
  {
   "cell_type": "markdown",
   "metadata": {},
   "source": [
    "The following prompt can be changed to any factual statement to trace."
   ]
  },
  {
   "cell_type": "code",
   "execution_count": 11,
   "metadata": {
    "scrolled": true
   },
   "outputs": [
    {
     "name": "stderr",
     "output_type": "stream",
     "text": [
      "findfont: Font family ['Times New Roman'] not found. Falling back to DejaVu Sans.\n",
      "findfont: Font family ['Times New Roman'] not found. Falling back to DejaVu Sans.\n"
     ]
    },
    {
     "data": {
      "image/png": "[encoded data removed]",
      "text/plain": [
       "<Figure size 700x400 with 2 Axes>"
      ]
     },
     "metadata": {
      "needs_background": "light"
     },
     "output_type": "display_data"
    },
    {
     "data": {
      "image/png": "[encoded data removed]",
      "text/plain": [
       "<Figure size 700x400 with 2 Axes>"
      ]
     },
     "metadata": {
      "needs_background": "light"
     },
     "output_type": "display_data"
    },
    {
     "data": {
      "image/png": "[encoded data removed]",
      "text/plain": [
       "<Figure size 700x400 with 2 Axes>"
      ]
     },
     "metadata": {
      "needs_background": "light"
     },
     "output_type": "display_data"
    }
   ],
   "source": [
    "plot_all_flow(mt, \"The Space Needle is in the city of\", noise=noise_level)"
   ]
  },
  {
   "cell_type": "markdown",
   "metadata": {},
   "source": [
    "Here we trace a few more factual statements from a file of test cases."
   ]
  },
  {
   "cell_type": "code",
   "execution_count": 12,
   "metadata": {
    "scrolled": true
   },
   "outputs": [
    {
     "data": {
      "text/plain": [
       "[{'known_id': 0,\n",
       "  'subject': 'Vinson Massif',\n",
       "  'attribute': 'Antarctica',\n",
       "  'template': '{} is located in the continent',\n",
       "  'prediction': ' of Antarctica. It is the largest of the three',\n",
       "  'prompt': 'Vinson Massif is located in the continent of',\n",
       "  'relation_id': 'P30'},\n",
       " {'known_id': 1,\n",
       "  'subject': 'Beats Music',\n",
       "  'attribute': 'Apple',\n",
       "  'template': '{} is owned by',\n",
       "  'prediction': ' Apple, which is also the owner of Beats Electronics',\n",
       "  'prompt': 'Beats Music is owned by',\n",
       "  'relation_id': 'P127'},\n",
       " {'known_id': 2,\n",
       "  'subject': 'Audible.com',\n",
       "  'attribute': 'Amazon',\n",
       "  'template': '{} is owned by',\n",
       "  'prediction': ' Amazon.com, Inc. or its affiliates.',\n",
       "  'prompt': 'Audible.com is owned by',\n",
       "  'relation_id': 'P127'},\n",
       " {'known_id': 3,\n",
       "  'subject': 'The Big Bang Theory',\n",
       "  'attribute': 'CBS',\n",
       "  'template': '{} premieres on',\n",
       "  'prediction': ' CBS on September 22.<|endoftext|>',\n",
       "  'prompt': 'The Big Bang Theory premieres on',\n",
       "  'relation_id': 'P449'},\n",
       " {'known_id': 4,\n",
       "  'subject': 'MacApp',\n",
       "  'attribute': 'Apple',\n",
       "  'template': '{}, a product created by',\n",
       "  'prediction': ' Apple to help developers create apps for the iPhone and',\n",
       "  'prompt': 'MacApp, a product created by',\n",
       "  'relation_id': 'P178'}]"
      ]
     },
     "execution_count": 12,
     "metadata": {},
     "output_type": "execute_result"
    }
   ],
   "source": [
    "knowns[:5]"
   ]
  },
  {
   "cell_type": "code",
   "execution_count": null,
   "metadata": {},
   "outputs": [],
   "source": [
    "for knowledge in knowns[:5]:\n",
    "    plot_all_flow(mt, knowledge[\"prompt\"], knowledge[\"subject\"], noise=noise_level)"
   ]
  },
  {
   "cell_type": "markdown",
   "metadata": {},
   "source": [
    "## Checking T5"
   ]
  },
  {
   "cell_type": "code",
   "execution_count": 44,
   "metadata": {},
   "outputs": [],
   "source": [
    "from transformers import AutoModel\n",
    "\n",
    "from experiments import causal_trace_t5 as ctt5"
   ]
  },
  {
   "cell_type": "code",
   "execution_count": 15,
   "metadata": {},
   "outputs": [],
   "source": [
    "t5_name = \"t5-base\"\n",
    "\n",
    "t5_model = AutoModel.from_pretrained(t5_name)"
   ]
  },
  {
   "cell_type": "code",
   "execution_count": null,
   "metadata": {},
   "outputs": [],
   "source": [
    "t5_model"
   ]
  },
  {
   "cell_type": "code",
   "execution_count": null,
   "metadata": {},
   "outputs": [],
   "source": [
    "[n for n, m in mt.model.named_modules()]"
   ]
  },
  {
   "cell_type": "code",
   "execution_count": null,
   "metadata": {},
   "outputs": [],
   "source": [
    "[n for n, m in t5_model.named_modules()]"
   ]
  },
  {
   "cell_type": "code",
   "execution_count": 26,
   "metadata": {},
   "outputs": [
    {
     "data": {
      "text/plain": [
       "True"
      ]
     },
     "execution_count": 26,
     "metadata": {},
     "output_type": "execute_result"
    }
   ],
   "source": [
    "t5_model.shared == t5_model.encoder.embed_tokens == t5_model.decoder.embed_tokens"
   ]
  },
  {
   "cell_type": "code",
   "execution_count": 122,
   "metadata": {},
   "outputs": [],
   "source": [
    "model_name = \"t5-base\"\n",
    "mt = ctt5.ModelAndTokenizer_T5(\n",
    "    model_name,\n",
    "    low_cpu_mem_usage=IS_COLAB,\n",
    "    torch_dtype=(torch.float16 if \"20b\" in model_name else None),\n",
    ")"
   ]
  },
  {
   "cell_type": "code",
   "execution_count": 123,
   "metadata": {},
   "outputs": [],
   "source": [
    "res = ctt5.predict_token_t5(\n",
    "    mt,\n",
    "    enc_sentences=[\"translate English to German: My name is Wolfgang and I live in Berlin.\"],\n",
    "    dec_prompts=[\"Mein Name ist\"],\n",
    "    return_p=True,\n",
    ")"
   ]
  },
  {
   "cell_type": "code",
   "execution_count": 124,
   "metadata": {},
   "outputs": [
    {
     "data": {
      "text/plain": [
       "(['Wolfgang'], tensor([0.9922], device='cuda:0'))"
      ]
     },
     "execution_count": 124,
     "metadata": {},
     "output_type": "execute_result"
    }
   ],
   "source": [
    "res"
   ]
  },
  {
   "cell_type": "code",
   "execution_count": 155,
   "metadata": {},
   "outputs": [],
   "source": [
    "inp = ctt5.make_inputs_t5(\n",
    "    mt.tokenizer,\n",
    "    enc_sentences=[\"Translate to German: My name is Wolfgang and I live in Berlin\"],\n",
    "    dec_prompts=[\"Mein Name ist Wolfgang\"],\n",
    "    device=\"cuda:0\",\n",
    ")"
   ]
  },
  {
   "cell_type": "code",
   "execution_count": 156,
   "metadata": {},
   "outputs": [
    {
     "data": {
      "text/plain": [
       "{'input_ids': tensor([[30355,    15,    12,  2968,    10,   499,   564,    19, 26513,    11,\n",
       "             27,   619,    16,  4308,     1]], device='cuda:0'),\n",
       " 'attention_mask': tensor([[1, 1, 1, 1, 1, 1, 1, 1, 1, 1, 1, 1, 1, 1, 1]], device='cuda:0'),\n",
       " 'decoder_input_ids': tensor([[    0, 16232,  5570,   229, 26513]], device='cuda:0'),\n",
       " 'decoder_attention_mask': tensor([[1, 1, 1, 1, 1]], device='cuda:0')}"
      ]
     },
     "execution_count": 156,
     "metadata": {},
     "output_type": "execute_result"
    }
   ],
   "source": [
    "inp"
   ]
  },
  {
   "cell_type": "code",
   "execution_count": 157,
   "metadata": {},
   "outputs": [
    {
     "data": {
      "text/plain": [
       "'<pad> Mein Name ist Wolfgang'"
      ]
     },
     "execution_count": 157,
     "metadata": {},
     "output_type": "execute_result"
    }
   ],
   "source": [
    "mt.tokenizer.decode(inp['decoder_input_ids'][0])"
   ]
  },
  {
   "cell_type": "code",
   "execution_count": 158,
   "metadata": {},
   "outputs": [],
   "source": [
    "out = mt.model(**inp)"
   ]
  },
  {
   "cell_type": "code",
   "execution_count": 159,
   "metadata": {},
   "outputs": [
    {
     "data": {
      "text/plain": [
       "torch.Size([1, 5, 32128])"
      ]
     },
     "execution_count": 159,
     "metadata": {},
     "output_type": "execute_result"
    }
   ],
   "source": [
    "out[\"logits\"].size()"
   ]
  },
  {
   "cell_type": "code",
   "execution_count": 160,
   "metadata": {},
   "outputs": [
    {
     "data": {
      "text/plain": [
       "(32128,)"
      ]
     },
     "execution_count": 160,
     "metadata": {},
     "output_type": "execute_result"
    }
   ],
   "source": [
    "logits = out[\"logits\"][0, -1].detach().cpu().numpy()\n",
    "logits.shape"
   ]
  },
  {
   "cell_type": "code",
   "execution_count": 161,
   "metadata": {},
   "outputs": [
    {
     "data": {
      "text/plain": [
       "[(64, -2.0804775),\n",
       " (6, -4.0525026),\n",
       " (11, -5.717272),\n",
       " (5, -5.8535347),\n",
       " (3, -7.126668)]"
      ]
     },
     "execution_count": 161,
     "metadata": {},
     "output_type": "execute_result"
    }
   ],
   "source": [
    "top_5 = sorted(list(enumerate(logits)), key=lambda p: -p[1])[:5]\n",
    "top_5"
   ]
  },
  {
   "cell_type": "code",
   "execution_count": 162,
   "metadata": {},
   "outputs": [
    {
     "data": {
      "text/plain": [
       "['und', ',', 'and', '.', '']"
      ]
     },
     "execution_count": 162,
     "metadata": {},
     "output_type": "execute_result"
    }
   ],
   "source": [
    "[mt.tokenizer.decode([p[0]]) for p in top_5]"
   ]
  },
  {
   "cell_type": "markdown",
   "metadata": {},
   "source": [
    "### T5 analysis"
   ]
  },
  {
   "cell_type": "code",
   "execution_count": 163,
   "metadata": {},
   "outputs": [
    {
     "data": {
      "application/vnd.jupyter.widget-view+json": {
       "model_id": "91912550855644089ddec2339fcd7730",
       "version_major": 2,
       "version_minor": 0
      },
      "text/plain": [
       "trace_important_states_t5.encoder:   0%|          | 0/180 [00:00<?, ?it/s]"
      ]
     },
     "metadata": {},
     "output_type": "display_data"
    },
    {
     "data": {
      "application/vnd.jupyter.widget-view+json": {
       "model_id": "f71485096b8c46c686d6b8064cb00b74",
       "version_major": 2,
       "version_minor": 0
      },
      "text/plain": [
       "trace_important_states_t5.decoder:   0%|          | 0/60 [00:00<?, ?it/s]"
      ]
     },
     "metadata": {},
     "output_type": "display_data"
    }
   ],
   "source": [
    "result = ctt5.calculate_hidden_flow_t5(\n",
    "    mt,\n",
    "    enc_sentence=\"Translate to German: My name is Wolfgang and I live in Berlin\",\n",
    "    dec_prompt=\"Mein Name ist Wolfgang\",\n",
    "    subject=\"and\",\n",
    ")"
   ]
  },
  {
   "cell_type": "code",
   "execution_count": null,
   "metadata": {},
   "outputs": [],
   "source": [
    "ctt5.plot_trace_heatmap_t5(result)"
   ]
  },
  {
   "cell_type": "code",
   "execution_count": 134,
   "metadata": {},
   "outputs": [
    {
     "data": {
      "text/plain": [
       "{'decoder.embed_tokens', 'encoder.embed_tokens'}"
      ]
     },
     "execution_count": 134,
     "metadata": {},
     "output_type": "execute_result"
    }
   ],
   "source": [
    "# named_modules remove_duplicate\n",
    "set([k for k,v in mt.model.named_modules(remove_duplicate=False)]) - set([k for k,v in mt.model.named_modules(remove_duplicate=True)])"
   ]
  },
  {
   "cell_type": "code",
   "execution_count": null,
   "metadata": {},
   "outputs": [],
   "source": [
    "# named_parameters: `remove_duplicate` not available (don't know how to include dup here...)\n",
    "([k for k,v in mt.model.named_parameters()])"
   ]
  },
  {
   "cell_type": "markdown",
   "metadata": {},
   "source": [
    "## USKG"
   ]
  },
  {
   "cell_type": "code",
   "execution_count": 353,
   "metadata": {},
   "outputs": [],
   "source": [
    "from transformers import (\n",
    "    HfArgumentParser,\n",
    "    set_seed,\n",
    "    AutoTokenizer\n",
    ")\n",
    "\n",
    "# from uskg.models.unified.prefixtuning import Model\n",
    "from uskg.models.unified import finetune, prefixtuning\n",
    "from uskg.utils.configue import Configure\n",
    "from uskg.utils.training_arguments import WrappedSeq2SeqTrainingArguments\n",
    "from uskg.seq2seq_construction import spider as s2s_spider\n",
    "from uskg.third_party.spider.preprocess.get_tables import dump_db_json_schema\n",
    "from uskg.third_party.spider import evaluation as sp_eval\n",
    "from tqdm.auto import tqdm\n",
    "\n",
    "# from nltk.stem.wordnet import WordNetLemmatizer\n",
    "# import stanza\n",
    "\n",
    "import matplotlib.pyplot as plt\n",
    "import sqlite3\n",
    "\n",
    "from experiments import causal_trace_uskg as ctu"
   ]
  },
  {
   "cell_type": "code",
   "execution_count": 313,
   "metadata": {},
   "outputs": [
    {
     "name": "stdout",
     "output_type": "stream",
     "text": [
      "Using tokenizer_uskg: hkunlp/from_all_T5_large_prefix_spider_with_cell_value2\n",
      "Using tokenizer_fast: t5-large\n",
      "prefix-tuning sequence length is 10.\n"
     ]
    }
   ],
   "source": [
    "mt_uskg = ctu.ModelAndTokenizer_USKG('t5-large-prefix')"
   ]
  },
  {
   "cell_type": "code",
   "execution_count": 314,
   "metadata": {},
   "outputs": [
    {
     "data": {
      "text/plain": [
       "[('constructor', 'seq2seq_construction.spider'),\n",
       " ('schema_serialization_with_db_content', True),\n",
       " ('target_with_db_id', False)]"
      ]
     },
     "execution_count": 314,
     "metadata": {},
     "output_type": "execute_result"
    }
   ],
   "source": [
    "list(mt_uskg.task_args.seq2seq)"
   ]
  },
  {
   "cell_type": "code",
   "execution_count": 315,
   "metadata": {},
   "outputs": [
    {
     "data": {
      "text/plain": [
       "(True, False)"
      ]
     },
     "execution_count": 315,
     "metadata": {},
     "output_type": "execute_result"
    }
   ],
   "source": [
    "mt_uskg.model.pretrain_model.encoder.embed_tokens is mt_uskg.model.pretrain_model.shared, \\\n",
    "mt_uskg.model.pretrain_model.decoder.embed_tokens is mt_uskg.model.pretrain_model.shared"
   ]
  },
  {
   "cell_type": "code",
   "execution_count": 316,
   "metadata": {},
   "outputs": [],
   "source": [
    "# [k for k,v in mt_uskg.model.named_parameters()]"
   ]
  },
  {
   "cell_type": "code",
   "execution_count": 317,
   "metadata": {},
   "outputs": [],
   "source": [
    "inp = ctu.make_inputs_t5(\n",
    "    mt_uskg.tokenizer,\n",
    "    enc_sentences=[\"Translate to German: My name is Wolfgang and I live in Berlin\"],\n",
    "    dec_prompts=[\"Mein Name ist Wolfgang\"],\n",
    "    device=\"cuda:0\"\n",
    ")"
   ]
  },
  {
   "cell_type": "code",
   "execution_count": 318,
   "metadata": {},
   "outputs": [],
   "source": [
    "out = ctu.run_model_forward_uskg(mt_uskg.model, **inp)"
   ]
  },
  {
   "cell_type": "code",
   "execution_count": 319,
   "metadata": {},
   "outputs": [
    {
     "data": {
      "text/plain": [
       "(odict_keys(['logits', 'past_key_values', 'encoder_last_hidden_state']),\n",
       " torch.Size([1, 5, 32102]))"
      ]
     },
     "execution_count": 319,
     "metadata": {},
     "output_type": "execute_result"
    }
   ],
   "source": [
    "out.keys(), out['logits'].size()"
   ]
  },
  {
   "cell_type": "code",
   "execution_count": 320,
   "metadata": {},
   "outputs": [
    {
     "data": {
      "text/plain": [
       "(32102,)"
      ]
     },
     "execution_count": 320,
     "metadata": {},
     "output_type": "execute_result"
    }
   ],
   "source": [
    "logits = out[\"logits\"][0, -1].detach().cpu().numpy()\n",
    "logits.shape"
   ]
  },
  {
   "cell_type": "code",
   "execution_count": 321,
   "metadata": {},
   "outputs": [
    {
     "data": {
      "text/plain": [
       "[(11, -1.8642352),\n",
       " (6, -9.727753),\n",
       " (5, -10.966707),\n",
       " (27, -11.037394),\n",
       " (213, -12.864212)]"
      ]
     },
     "execution_count": 321,
     "metadata": {},
     "output_type": "execute_result"
    }
   ],
   "source": [
    "top_5 = sorted(list(enumerate(logits)), key=lambda p: -p[1])[:5]\n",
    "top_5"
   ]
  },
  {
   "cell_type": "code",
   "execution_count": 322,
   "metadata": {},
   "outputs": [
    {
     "data": {
      "text/plain": [
       "['and', ',', '.', 'I', 'where']"
      ]
     },
     "execution_count": 322,
     "metadata": {},
     "output_type": "execute_result"
    }
   ],
   "source": [
    "[mt_uskg.tokenizer.decode([p[0]]) for p in top_5]"
   ]
  },
  {
   "cell_type": "markdown",
   "metadata": {},
   "source": [
    "### USKG analysis - toy example"
   ]
  },
  {
   "cell_type": "code",
   "execution_count": null,
   "metadata": {},
   "outputs": [],
   "source": [
    "result = ctu.calculate_hidden_flow_uskg(\n",
    "    mt_uskg,\n",
    "    enc_sentence=\"Translate to German: My name is Wolfgang and I live in Berlin\",\n",
    "    dec_prompt=\"Mein Name\",\n",
    "    expect=\"ist Wolfgang\"\n",
    "#     subject=\"and\",\n",
    ")"
   ]
  },
  {
   "cell_type": "code",
   "execution_count": null,
   "metadata": {},
   "outputs": [],
   "source": [
    "ctu.plot_trace_heatmap_t5(result)"
   ]
  },
  {
   "cell_type": "markdown",
   "metadata": {},
   "source": [
    "### Load spider dataset"
   ]
  },
  {
   "cell_type": "code",
   "execution_count": 14,
   "metadata": {},
   "outputs": [],
   "source": [
    "spider_dev_path = '/home/yshao/Projects/SDR-analysis/data/spider/dev+ratsql_graph.json'\n",
    "spider_db_dir = '/home/yshao/Projects/language/language/xsp/data/spider/database'\n",
    "\n",
    "# with open(spider_dev_path, 'r') as f:\n",
    "#     raw_spider_dev = json.load(f)\n",
    "# len(raw_spider_dev)"
   ]
  },
  {
   "cell_type": "code",
   "execution_count": 15,
   "metadata": {},
   "outputs": [],
   "source": [
    "# ## adapted from uskg/tasks/spider.py\n",
    "\n",
    "# SCHEMA_CACHE = dict()\n",
    "\n",
    "# def load_raw_dataset(data_filepath, db_path, schema_cache=None):\n",
    "#     with open(data_filepath, encoding=\"utf-8\") as f:\n",
    "#         spider = json.load(f)\n",
    "\n",
    "#     out_dataset = []\n",
    "#     for idx, sample in enumerate(spider):\n",
    "#         db_id = sample[\"db_id\"]\n",
    "#         if db_id not in schema_cache:\n",
    "#             schema_cache[db_id] = dump_db_json_schema(\n",
    "#                 db_path + \"/\" + db_id + \"/\" + db_id + \".sqlite\", db_id\n",
    "#             )\n",
    "#         schema = schema_cache[db_id]\n",
    "#         out_dataset.append({\n",
    "#             \"query\": sample[\"query\"],\n",
    "#             \"question\": sample[\"question\"],\n",
    "#             \"db_id\": db_id,\n",
    "#             \"db_path\": db_path,\n",
    "#             \"db_table_names\": schema[\"table_names_original\"],\n",
    "# #             \"db_column_names\": [\n",
    "# #                 {\"table_id\": table_id, \"column_name\": column_name}\n",
    "# #                 for table_id, column_name in schema[\"column_names_original\"]\n",
    "# #             ],\n",
    "#             \"db_column_names\": {\n",
    "#                 \"table_id\": [table_id for table_id, _ in schema[\"column_names_original\"]],\n",
    "#                 \"column_name\": [column_name for _, column_name in schema[\"column_names_original\"]]\n",
    "#             },\n",
    "#             \"db_column_types\": schema[\"column_types\"],\n",
    "# #             \"db_primary_keys\": [{\"column_id\": column_id} for column_id in schema[\"primary_keys\"]],\n",
    "#             \"db_primary_keys\": {\n",
    "#                 \"column_id\": schema[\"primary_keys\"]\n",
    "#             },\n",
    "# #             \"db_foreign_keys\": [\n",
    "# #                 {\"column_id\": column_id, \"other_column_id\": other_column_id}\n",
    "# #                 for column_id, other_column_id in schema[\"foreign_keys\"]\n",
    "# #             ],\n",
    "#             \"db_foreign_keys\": {\n",
    "#                 \"column_id\": [column_id for column_id, _ in schema[\"foreign_keys\"]],\n",
    "#                 \"other_column_id\": [other_column_id for _, other_column_id in schema[\"foreign_keys\"]]\n",
    "#             },\n",
    "#             \"rat_sql_graph\": sample[\"rat_sql_graph\"]\n",
    "#         })\n",
    "#     return out_dataset"
   ]
  },
  {
   "cell_type": "code",
   "execution_count": 16,
   "metadata": {},
   "outputs": [
    {
     "data": {
      "text/plain": [
       "1034"
      ]
     },
     "execution_count": 16,
     "metadata": {},
     "output_type": "execute_result"
    }
   ],
   "source": [
    "raw_spider_dev = ctu.load_raw_dataset(\n",
    "    data_filepath = spider_dev_path,\n",
    "    db_path=spider_db_dir,\n",
    "#     schema_cache=SCHEMA_CACHE\n",
    ")\n",
    "len(raw_spider_dev)"
   ]
  },
  {
   "cell_type": "code",
   "execution_count": 17,
   "metadata": {},
   "outputs": [
    {
     "data": {
      "text/plain": [
       "dict_keys(['query', 'question', 'db_id', 'db_path', 'db_table_names', 'db_column_names', 'db_column_types', 'db_primary_keys', 'db_foreign_keys', 'rat_sql_graph'])"
      ]
     },
     "execution_count": 17,
     "metadata": {},
     "output_type": "execute_result"
    }
   ],
   "source": [
    "raw_spider_dev[0].keys()"
   ]
  },
  {
   "cell_type": "code",
   "execution_count": 18,
   "metadata": {
    "scrolled": false
   },
   "outputs": [
    {
     "data": {
      "text/plain": [
       "True"
      ]
     },
     "execution_count": 18,
     "metadata": {},
     "output_type": "execute_result"
    }
   ],
   "source": [
    "mt_uskg.task_args.dataset.use_cache"
   ]
  },
  {
   "cell_type": "code",
   "execution_count": 19,
   "metadata": {},
   "outputs": [],
   "source": [
    "# _args = copy.deepcopy(mt_uskg.task_args)\n",
    "# _args.dataset.use_cache = False\n",
    "\n",
    "processed_spider_dev = s2s_spider.DevDataset(\n",
    "    args=mt_uskg.task_args,\n",
    "    raw_datasets=raw_spider_dev,\n",
    "    cache_root='../cache')"
   ]
  },
  {
   "cell_type": "code",
   "execution_count": 20,
   "metadata": {},
   "outputs": [
    {
     "data": {
      "text/plain": [
       "('What is the average, minimum, and maximum age of all singers from France?',\n",
       " '| concert_singer | stadium : stadium_id , location , name , capacity , highest , lowest , average | singer : singer_id , name , country ( France ) , song_name , song_release_year , age , is_male | concert : concert_id , concert_name , theme , stadium_id , year | singer_in_concert : concert_id , singer_id',\n",
       " \"select avg(age), min(age), max(age) from singer where country = 'France'\")"
      ]
     },
     "execution_count": 20,
     "metadata": {},
     "output_type": "execute_result"
    }
   ],
   "source": [
    "processed_spider_dev[4]['text_in'], \\\n",
    "processed_spider_dev[4]['struct_in'], \\\n",
    "processed_spider_dev[4]['seq_out']"
   ]
  },
  {
   "cell_type": "code",
   "execution_count": 21,
   "metadata": {},
   "outputs": [],
   "source": [
    "# _occ_punct = set()\n",
    "\n",
    "for _id in range(len(processed_spider_dev)):\n",
    "    ex = processed_spider_dev[_id]\n",
    "#     _occ_punct.update(set(string.punctuation) & set(ex['seq_out']))\n",
    "    if '_(' in ex['struct_in'] and 'official' in ex['seq_out']:\n",
    "        print(_id, ex['question'])\n",
    "        print(ex['struct_in'])\n",
    "        print(ex['seq_out'])\n",
    "        print()"
   ]
  },
  {
   "cell_type": "code",
   "execution_count": 22,
   "metadata": {},
   "outputs": [],
   "source": [
    "# ''.join(_occ_punct)"
   ]
  },
  {
   "cell_type": "code",
   "execution_count": null,
   "metadata": {},
   "outputs": [],
   "source": []
  },
  {
   "cell_type": "markdown",
   "metadata": {},
   "source": [
    "#### Analysis sample 1 (ID = 0)"
   ]
  },
  {
   "cell_type": "code",
   "execution_count": 32,
   "metadata": {},
   "outputs": [
    {
     "data": {
      "text/plain": [
       "('How many singers do we have?', 'select count(*) from singer')"
      ]
     },
     "execution_count": 32,
     "metadata": {},
     "output_type": "execute_result"
    }
   ],
   "source": [
    "ex = processed_spider_dev[0]\n",
    "ex['question'], ex['seq_out']"
   ]
  },
  {
   "cell_type": "code",
   "execution_count": 33,
   "metadata": {},
   "outputs": [],
   "source": [
    "text_in = ex['text_in']\n",
    "struct_in = ex['struct_in']\n",
    "\n",
    "enc_sentence = f\"{text_in}; structed knowledge: {struct_in}\"\n",
    "dec_prompt = 'select count(*) from'\n",
    "\n",
    "inp = ctu.make_inputs_t5(\n",
    "    mt_uskg.tokenizer,\n",
    "    enc_sentences=[enc_sentence],\n",
    "    dec_prompts=[dec_prompt],\n",
    "    device=\"cuda:0\"\n",
    ")"
   ]
  },
  {
   "cell_type": "code",
   "execution_count": 34,
   "metadata": {},
   "outputs": [
    {
     "data": {
      "text/plain": [
       "('How many singers do we have?; structed knowledge: | concert_singer | stadium : stadium_id, location, name, capacity, highest, lowest, average | singer : singer_id, name, country, song_name, song_release_year, age, is_male | concert : concert_id, concert_name, theme, stadium_id, year | singer_in_concert : concert_id, singer_id</s>',\n",
       " '<pad> select count(*) from')"
      ]
     },
     "execution_count": 34,
     "metadata": {},
     "output_type": "execute_result"
    }
   ],
   "source": [
    "mt_uskg.tokenizer.decode(inp['input_ids'][0]), mt_uskg.tokenizer.decode(inp['decoder_input_ids'][0])"
   ]
  },
  {
   "cell_type": "code",
   "execution_count": 35,
   "metadata": {},
   "outputs": [],
   "source": [
    "out = ctu.run_model_forward_uskg(mt_uskg.model, **inp)"
   ]
  },
  {
   "cell_type": "code",
   "execution_count": 36,
   "metadata": {},
   "outputs": [
    {
     "data": {
      "text/plain": [
       "(odict_keys(['logits', 'past_key_values', 'encoder_last_hidden_state']),\n",
       " torch.Size([1, 7, 32102]))"
      ]
     },
     "execution_count": 36,
     "metadata": {},
     "output_type": "execute_result"
    }
   ],
   "source": [
    "out.keys(), out['logits'].size()"
   ]
  },
  {
   "cell_type": "code",
   "execution_count": 37,
   "metadata": {},
   "outputs": [
    {
     "data": {
      "text/plain": [
       "(32102,)"
      ]
     },
     "execution_count": 37,
     "metadata": {},
     "output_type": "execute_result"
    }
   ],
   "source": [
    "logits = out[\"logits\"][0, -1].detach().cpu().numpy()\n",
    "logits.shape"
   ]
  },
  {
   "cell_type": "code",
   "execution_count": 38,
   "metadata": {},
   "outputs": [
    {
     "data": {
      "text/plain": [
       "[(7634, -5.629301),\n",
       " (6721, -15.1248665),\n",
       " (10159, -17.77869),\n",
       " (2377, -18.263933),\n",
       " (8782, -18.631098)]"
      ]
     },
     "execution_count": 38,
     "metadata": {},
     "output_type": "execute_result"
    }
   ],
   "source": [
    "top_5 = sorted(list(enumerate(logits)), key=lambda p: -p[1])[:5]\n",
    "top_5"
   ]
  },
  {
   "cell_type": "code",
   "execution_count": 39,
   "metadata": {},
   "outputs": [
    {
     "data": {
      "text/plain": [
       "['singer', 'vocal', 'sing', 'artist', 'singing']"
      ]
     },
     "execution_count": 39,
     "metadata": {},
     "output_type": "execute_result"
    }
   ],
   "source": [
    "[mt_uskg.tokenizer.decode([p[0]]) for p in top_5]"
   ]
  },
  {
   "cell_type": "code",
   "execution_count": 40,
   "metadata": {},
   "outputs": [],
   "source": [
    "# e_range = ctu.find_token_range(mt_uskg.tokenizer, inp[\"input_ids\"][0], 'singer')\n",
    "# e_range"
   ]
  },
  {
   "cell_type": "code",
   "execution_count": 41,
   "metadata": {},
   "outputs": [
    {
     "data": {
      "text/plain": [
       "((0, 8), (15, 125))"
      ]
     },
     "execution_count": 41,
     "metadata": {},
     "output_type": "execute_result"
    }
   ],
   "source": [
    "text_range, struct_range = ctu.find_text_struct_in_range(mt_uskg.tokenizer, inp[\"input_ids\"][0])\n",
    "text_range, struct_range"
   ]
  },
  {
   "cell_type": "code",
   "execution_count": 42,
   "metadata": {},
   "outputs": [
    {
     "data": {
      "text/plain": [
       "('How many singers do we have?; structed knowledge: | concert_singer | stadium : stadium_id, location, name, capacity, highest, lowest, average | singer : singer_id, name, country, song_name, song_release_year, age, is_male | concert : concert_id, concert_name, theme, stadium_id, year | singer_in_concert : concert_id, singer_id</s>',\n",
       " 'How many singers do we have?',\n",
       " '| concert_singer | stadium : stadium_id, location, name, capacity, highest, lowest, average | singer : singer_id, name, country, song_name, song_release_year, age, is_male | concert : concert_id, concert_name, theme, stadium_id, year | singer_in_concert : concert_id, singer_id')"
      ]
     },
     "execution_count": 42,
     "metadata": {},
     "output_type": "execute_result"
    }
   ],
   "source": [
    "tb, te = text_range\n",
    "sb, se = struct_range\n",
    "mt_uskg.tokenizer.decode(inp['input_ids'][0]), \\\n",
    "mt_uskg.tokenizer.decode(inp['input_ids'][0][tb:te]), \\\n",
    "mt_uskg.tokenizer.decode(inp['input_ids'][0][sb:se])"
   ]
  },
  {
   "cell_type": "code",
   "execution_count": 43,
   "metadata": {
    "scrolled": true
   },
   "outputs": [
    {
     "name": "stdout",
     "output_type": "stream",
     "text": [
      "calculate_hidden_flow_uskg(): corrupted input: *How *many *singer *s *do *we *have *? *; * *struct *e *d *knowledge *: *| *concert *_ *s *inger *| *stadium * *: *stadium *_ *i *d * *, *location * *, *name * *, *capacity * *, *highest * *, *lowest * *, *average *| *singer * *: *singer *_ *i *d * *, *name * *, *country * *, *song *_ *name * *, *song *_ *release *_ *year * *, *age * *, *is *_ *male *| *concert * *: *concert *_ *i *d * *, *concert *_ *name * *, *theme * *, *stadium *_ *i *d * *, *year *| *singer *_ *in *_ *conce *r *t * *: *concert *_ *i *d * *, *singer *_ *i *d *</s>\n"
     ]
    },
    {
     "data": {
      "application/vnd.jupyter.widget-view+json": {
       "model_id": "b2a6ab59e50d4835b614db67be994427",
       "version_major": 2,
       "version_minor": 0
      },
      "text/plain": [
       "trace_important_states_uskg.encoder:   0%|          | 0/1512 [00:00<?, ?it/s]"
      ]
     },
     "metadata": {},
     "output_type": "display_data"
    },
    {
     "data": {
      "application/vnd.jupyter.widget-view+json": {
       "model_id": "3493e4be9d4a49a9a8120a648d6df427",
       "version_major": 2,
       "version_minor": 0
      },
      "text/plain": [
       "trace_important_states_uskg.decoder:   0%|          | 0/84 [00:00<?, ?it/s]"
      ]
     },
     "metadata": {},
     "output_type": "display_data"
    }
   ],
   "source": [
    "result = ctu.calculate_hidden_flow_uskg(\n",
    "    mt_uskg,\n",
    "    enc_sentence=enc_sentence,\n",
    "    dec_prompt=dec_prompt,\n",
    "    subject='singer',\n",
    "    replace=True,\n",
    ")"
   ]
  },
  {
   "cell_type": "code",
   "execution_count": 44,
   "metadata": {},
   "outputs": [
    {
     "data": {
      "text/plain": [
       "(dict_keys(['scores', 'low_score', 'high_score', 'input_ids', 'input_tokens', 'dec_input_ids', 'dec_input_tokens', 'subject_range', 'answer', 'window', 'correct_prediction', 'kind']),\n",
       " True)"
      ]
     },
     "execution_count": 44,
     "metadata": {},
     "output_type": "execute_result"
    }
   ],
   "source": [
    "result.keys(), result['correct_prediction']"
   ]
  },
  {
   "cell_type": "code",
   "execution_count": 45,
   "metadata": {},
   "outputs": [
    {
     "data": {
      "text/plain": [
       "3.2487089356436627e-06"
      ]
     },
     "execution_count": 45,
     "metadata": {},
     "output_type": "execute_result"
    }
   ],
   "source": [
    "result['low_score']"
   ]
  },
  {
   "cell_type": "code",
   "execution_count": null,
   "metadata": {
    "scrolled": true
   },
   "outputs": [],
   "source": [
    "ctu.plot_trace_heatmap_t5(result)"
   ]
  },
  {
   "cell_type": "markdown",
   "metadata": {},
   "source": [
    "#### Analysis sample 2 (ID = 9)"
   ]
  },
  {
   "cell_type": "code",
   "execution_count": 50,
   "metadata": {},
   "outputs": [
    {
     "data": {
      "text/plain": [
       "('What are  the different countries with singers above age 20?',\n",
       " 'select distinct country from singer where age > 20')"
      ]
     },
     "execution_count": 50,
     "metadata": {},
     "output_type": "execute_result"
    }
   ],
   "source": [
    "_id = 9\n",
    "ex = processed_spider_dev[_id]\n",
    "ex['question'], ex['seq_out']"
   ]
  },
  {
   "cell_type": "code",
   "execution_count": 51,
   "metadata": {},
   "outputs": [],
   "source": [
    "text_in = ex['text_in']\n",
    "struct_in = ex['struct_in']\n",
    "\n",
    "enc_sentence = f\"{text_in}; structed knowledge: {struct_in}\"\n",
    "dec_prompt = \"select distinct country from singer where\"\n",
    "expect = \"age\""
   ]
  },
  {
   "cell_type": "code",
   "execution_count": 52,
   "metadata": {},
   "outputs": [
    {
     "data": {
      "text/plain": [
       "'| concert_singer | stadium : stadium_id , location , name , capacity , highest , lowest , average | singer : singer_id , name , country , song_name , song_release_year , age , is_male | concert : concert_id , concert_name , theme , stadium_id , year | singer_in_concert : concert_id , singer_id'"
      ]
     },
     "execution_count": 52,
     "metadata": {},
     "output_type": "execute_result"
    }
   ],
   "source": [
    "struct_in"
   ]
  },
  {
   "cell_type": "code",
   "execution_count": 53,
   "metadata": {},
   "outputs": [
    {
     "name": "stdout",
     "output_type": "stream",
     "text": [
      "calculate_hidden_flow_uskg(): corrupted input: *What *are *the *different *countries *with *singer *s *above *age *20 *? *; * *struct *e *d *knowledge *: *| *concert *_ *s *inger *| *stadium * *: *stadium *_ *i *d * *, *location * *, *name * *, *capacity * *, *highest * *, *lowest * *, *average *| *singer * *: *singer *_ *i *d * *, *name * *, *country * *, *song *_ *name * *, *song *_ *release *_ *year * *, *age * *, *is *_ *male *| *concert * *: *concert *_ *i *d * *, *concert *_ *name * *, *theme * *, *stadium *_ *i *d * *, *year *| *singer *_ *in *_ *conce *r *t * *: *concert *_ *i *d * *, *singer *_ *i *d *</s>\n"
     ]
    },
    {
     "data": {
      "application/vnd.jupyter.widget-view+json": {
       "model_id": "eac04e3d082042f2a990247ac1f0c95d",
       "version_major": 2,
       "version_minor": 0
      },
      "text/plain": [
       "trace_important_states_uskg.encoder:   0%|          | 0/1560 [00:00<?, ?it/s]"
      ]
     },
     "metadata": {},
     "output_type": "display_data"
    },
    {
     "data": {
      "application/vnd.jupyter.widget-view+json": {
       "model_id": "28a50b4d88314031b157eb615ed72989",
       "version_major": 2,
       "version_minor": 0
      },
      "text/plain": [
       "trace_important_states_uskg.decoder:   0%|          | 0/84 [00:00<?, ?it/s]"
      ]
     },
     "metadata": {},
     "output_type": "display_data"
    }
   ],
   "source": [
    "result = ctu.calculate_hidden_flow_uskg(\n",
    "    mt_uskg,\n",
    "    enc_sentence=enc_sentence,\n",
    "    dec_prompt=dec_prompt,\n",
    "    subject='singer',\n",
    "    replace=True,\n",
    "    expect=expect,\n",
    ")"
   ]
  },
  {
   "cell_type": "code",
   "execution_count": 54,
   "metadata": {},
   "outputs": [
    {
     "data": {
      "text/plain": [
       "(dict_keys(['scores', 'low_score', 'high_score', 'input_ids', 'input_tokens', 'dec_input_ids', 'dec_input_tokens', 'subject_range', 'answer', 'window', 'correct_prediction', 'kind']),\n",
       " True,\n",
       " tensor(1.0000, device='cuda:0'),\n",
       " 0.0005113474908284843)"
      ]
     },
     "execution_count": 54,
     "metadata": {},
     "output_type": "execute_result"
    }
   ],
   "source": [
    "result.keys(), result['correct_prediction'], result['high_score'], result['low_score']"
   ]
  },
  {
   "cell_type": "code",
   "execution_count": null,
   "metadata": {},
   "outputs": [],
   "source": [
    "ctu.plot_trace_heatmap_t5(result)"
   ]
  },
  {
   "cell_type": "markdown",
   "metadata": {},
   "source": [
    "#### Analysis sample 3 (ID = 97)"
   ]
  },
  {
   "cell_type": "code",
   "execution_count": 56,
   "metadata": {},
   "outputs": [
    {
     "data": {
      "text/plain": [
       "('Find the model of the car whose weight is below the average weight.',\n",
       " 'select t1.model from car_names as t1 join cars_data as t2 on t1.makeid = t2.id where t2.weight < (select avg(weight) from cars_data)')"
      ]
     },
     "execution_count": 56,
     "metadata": {},
     "output_type": "execute_result"
    }
   ],
   "source": [
    "_id = 97\n",
    "ex = processed_spider_dev[_id]\n",
    "ex['question'], ex['seq_out']"
   ]
  },
  {
   "cell_type": "code",
   "execution_count": 57,
   "metadata": {},
   "outputs": [],
   "source": [
    "text_in = ex['text_in']\n",
    "struct_in = ex['struct_in']\n",
    "\n",
    "enc_sentence = f\"{text_in}; structed knowledge: {struct_in}\"\n",
    "dec_prompt = \"select t1.model from car_names as t1 join cars_\"\n",
    "expect = \"data\""
   ]
  },
  {
   "cell_type": "code",
   "execution_count": 58,
   "metadata": {},
   "outputs": [
    {
     "data": {
      "text/plain": [
       "'| car_1 | continents : contid , continent | countries : countryid , countryname , continent | car_makers : id , maker , fullname , country | model_list : modelid , maker , model | car_names : makeid , model , make | cars_data : id , mpg , cylinders , edispl , horsepower , weight , accelerate , year'"
      ]
     },
     "execution_count": 58,
     "metadata": {},
     "output_type": "execute_result"
    }
   ],
   "source": [
    "struct_in"
   ]
  },
  {
   "cell_type": "code",
   "execution_count": 59,
   "metadata": {},
   "outputs": [
    {
     "data": {
      "text/plain": [
       "[('data', -10.943039),\n",
       " ('stat', -21.073414),\n",
       " ('daten', -22.921432),\n",
       " ('re', -23.442766),\n",
       " ('performance', -23.719862)]"
      ]
     },
     "execution_count": 59,
     "metadata": {},
     "output_type": "execute_result"
    }
   ],
   "source": [
    "# text_in = ex['text_in']\n",
    "# struct_in = ex['struct_in']\n",
    "\n",
    "# enc_sentence = f\"{text_in}; structed knowledge: {struct_in}\"\n",
    "# dec_prompt = \"select t1.model from car_names as t1 join cars_\"\n",
    "# expect = \"data\"\n",
    "\n",
    "inp = ctu.make_inputs_t5(\n",
    "    mt_uskg.tokenizer,\n",
    "    enc_sentences=[enc_sentence],\n",
    "    dec_prompts=[dec_prompt],\n",
    "    device=\"cuda:0\"\n",
    ")\n",
    "out = ctu.run_model_forward_uskg(mt_uskg.model, **inp)\n",
    "logits = out[\"logits\"][0, -1].detach().cpu().numpy()\n",
    "\n",
    "top_5 = sorted(list(enumerate(logits)), key=lambda p: -p[1])[:5]\n",
    "\n",
    "[(mt_uskg.tokenizer.decode([p[0]]), p[1]) for p in top_5]\n"
   ]
  },
  {
   "cell_type": "code",
   "execution_count": 60,
   "metadata": {},
   "outputs": [
    {
     "name": "stdout",
     "output_type": "stream",
     "text": [
      "calculate_hidden_flow_uskg(): corrupted input: *Find *the *model *of *the *car * *whose *weight *is *below *the *average *weight *. *; * *struct *e *d *knowledge *: *| *car *_ *1 *| *continent *s * *: *cont *i *d * *, *continent *| *countries * *: *country *i *d * *, *country *name * *, *continent *| *car *_ *makers * *: * *i *d * *, *maker * *, *full *name * *, *country *| *model *_ *list * *: *model *i *d * *, *maker * *, *model *| *car *_ *name *s * *: *make *i *d * *, *model * *, *make *| *cars *_ *data * *: * *i *d * *, * *mp *g * *, * *cylinder *s * *, * *e *disp *l * *, *horsepower * *, *weight * *, *accelerate * *, *year *</s>\n"
     ]
    },
    {
     "data": {
      "application/vnd.jupyter.widget-view+json": {
       "model_id": "328d97f4b69940a0a2f6058f1a370b93",
       "version_major": 2,
       "version_minor": 0
      },
      "text/plain": [
       "trace_important_states_uskg.encoder:   0%|          | 0/1668 [00:00<?, ?it/s]"
      ]
     },
     "metadata": {},
     "output_type": "display_data"
    },
    {
     "data": {
      "application/vnd.jupyter.widget-view+json": {
       "model_id": "376e361260d747ea9dd41d81a85207ea",
       "version_major": 2,
       "version_minor": 0
      },
      "text/plain": [
       "trace_important_states_uskg.decoder:   0%|          | 0/216 [00:00<?, ?it/s]"
      ]
     },
     "metadata": {},
     "output_type": "display_data"
    }
   ],
   "source": [
    "result = ctu.calculate_hidden_flow_uskg(\n",
    "    mt_uskg,\n",
    "    enc_sentence=enc_sentence,\n",
    "    dec_prompt=dec_prompt,\n",
    "    subject=None,\n",
    "    replace=True,\n",
    "    expect=expect,\n",
    ")"
   ]
  },
  {
   "cell_type": "code",
   "execution_count": 61,
   "metadata": {},
   "outputs": [
    {
     "data": {
      "text/plain": [
       "(dict_keys(['scores', 'low_score', 'high_score', 'input_ids', 'input_tokens', 'dec_input_ids', 'dec_input_tokens', 'subject_range', 'answer', 'window', 'correct_prediction', 'kind']),\n",
       " True,\n",
       " tensor(0.9999, device='cuda:0'),\n",
       " 0.0008115010568872094)"
      ]
     },
     "execution_count": 61,
     "metadata": {},
     "output_type": "execute_result"
    }
   ],
   "source": [
    "result.keys(), result['correct_prediction'], result['high_score'], result['low_score']"
   ]
  },
  {
   "cell_type": "code",
   "execution_count": null,
   "metadata": {},
   "outputs": [],
   "source": [
    "ctu.plot_trace_heatmap_t5(result)"
   ]
  },
  {
   "cell_type": "code",
   "execution_count": 63,
   "metadata": {},
   "outputs": [],
   "source": [
    "# Another position"
   ]
  },
  {
   "cell_type": "code",
   "execution_count": 69,
   "metadata": {},
   "outputs": [],
   "source": [
    "enc_sentence = f\"{text_in}; structed knowledge: {struct_in}\"\n",
    "dec_prompt = \"select t1.model from car_names\"\n",
    "expect = \"as\"  # 't1' -> '_', 't', '1'"
   ]
  },
  {
   "cell_type": "code",
   "execution_count": 70,
   "metadata": {},
   "outputs": [
    {
     "name": "stdout",
     "output_type": "stream",
     "text": [
      "calculate_hidden_flow_uskg(): corrupted input: *Find *the *model *of *the *car * *whose *weight *is *below *the *average *weight *. *; * *struct *e *d *knowledge *: *| *car *_ *1 *| *continent *s * *: *cont *i *d * *, *continent *| *countries * *: *country *i *d * *, *country *name * *, *continent *| *car *_ *makers * *: * *i *d * *, *maker * *, *full *name * *, *country *| *model *_ *list * *: *model *i *d * *, *maker * *, *model *| *car *_ *name *s * *: *make *i *d * *, *model * *, *make *| *cars *_ *data * *: * *i *d * *, * *mp *g * *, * *cylinder *s * *, * *e *disp *l * *, *horsepower * *, *weight * *, *accelerate * *, *year *</s>\n"
     ]
    },
    {
     "data": {
      "application/vnd.jupyter.widget-view+json": {
       "model_id": "dfa85cbc173a4f46b93d0c489d3ddcd0",
       "version_major": 2,
       "version_minor": 0
      },
      "text/plain": [
       "trace_important_states_uskg.encoder:   0%|          | 0/1668 [00:00<?, ?it/s]"
      ]
     },
     "metadata": {},
     "output_type": "display_data"
    },
    {
     "data": {
      "application/vnd.jupyter.widget-view+json": {
       "model_id": "79ca6ec568f14fcd80b325cfe0cdc393",
       "version_major": 2,
       "version_minor": 0
      },
      "text/plain": [
       "trace_important_states_uskg.decoder:   0%|          | 0/132 [00:00<?, ?it/s]"
      ]
     },
     "metadata": {},
     "output_type": "display_data"
    }
   ],
   "source": [
    "result = ctu.calculate_hidden_flow_uskg(\n",
    "    mt_uskg,\n",
    "    enc_sentence=enc_sentence,\n",
    "    dec_prompt=dec_prompt,\n",
    "    subject=None,\n",
    "    replace=True,\n",
    "    expect=expect,\n",
    ")"
   ]
  },
  {
   "cell_type": "code",
   "execution_count": 71,
   "metadata": {},
   "outputs": [
    {
     "data": {
      "text/plain": [
       "(dict_keys(['scores', 'low_score', 'high_score', 'input_ids', 'input_tokens', 'dec_input_ids', 'dec_input_tokens', 'subject_range', 'answer', 'window', 'correct_prediction', 'kind']),\n",
       " True,\n",
       " tensor(1.0000, device='cuda:0'),\n",
       " 0.9942196011543274)"
      ]
     },
     "execution_count": 71,
     "metadata": {},
     "output_type": "execute_result"
    }
   ],
   "source": [
    "result.keys(), result['correct_prediction'], result['high_score'], result['low_score']"
   ]
  },
  {
   "cell_type": "code",
   "execution_count": null,
   "metadata": {},
   "outputs": [],
   "source": [
    "ctu.plot_trace_heatmap_t5(result)"
   ]
  },
  {
   "cell_type": "markdown",
   "metadata": {},
   "source": [
    "### Helpers"
   ]
  },
  {
   "cell_type": "markdown",
   "metadata": {},
   "source": [
    "#### Evaluator"
   ]
  },
  {
   "cell_type": "code",
   "execution_count": 267,
   "metadata": {},
   "outputs": [],
   "source": [
    "table_path = '/home/yshao/Projects/language/language/xsp/data/spider/tables.json'\n",
    "db_dir = '/home/yshao/Projects/language/language/xsp/data/spider/database'"
   ]
  },
  {
   "cell_type": "code",
   "execution_count": 280,
   "metadata": {},
   "outputs": [],
   "source": [
    "kmaps = sp_eval.build_foreign_key_map_from_json(table_path)\n",
    "evaluator = sp_eval.Evaluator(db_dir=db_dir, kmaps=kmaps, etype='all')"
   ]
  },
  {
   "cell_type": "code",
   "execution_count": 281,
   "metadata": {},
   "outputs": [
    {
     "data": {
      "text/plain": [
       "(3, 0, 0, 'hard')"
      ]
     },
     "execution_count": 281,
     "metadata": {},
     "output_type": "execute_result"
    }
   ],
   "source": [
    "# test\n",
    "_sql_str = 'select t1.birth_date from people as t1 join poker_player as t2 on t1.people_id = t2.people_id order by t2.earnings asc limit 1'\n",
    "db_name = 'poker_player'\n",
    "schema = evaluator.schemas[db_name]\n",
    "_sql = sp_eval.get_sql(schema, _sql_str)\n",
    "sp_eval.count_component1(_sql), sp_eval.count_component2(_sql), sp_eval.count_others(_sql), \\\n",
    "evaluator.eval_hardness(_sql)"
   ]
  },
  {
   "cell_type": "code",
   "execution_count": null,
   "metadata": {},
   "outputs": [],
   "source": []
  },
  {
   "cell_type": "markdown",
   "metadata": {},
   "source": [
    "### Study the influence of corrupting a token"
   ]
  },
  {
   "cell_type": "code",
   "execution_count": 439,
   "metadata": {},
   "outputs": [
    {
     "data": {
      "text/plain": [
       "(\"How many battles did not lose any ship with tonnage '225'?\",\n",
       " \"select count(*) from battle where id not in ( select lost_in_battle from ship where tonnage = '225' );\")"
      ]
     },
     "execution_count": 439,
     "metadata": {},
     "output_type": "execute_result"
    }
   ],
   "source": [
    "_id = 503\n",
    "ex = processed_spider_dev[_id]\n",
    "ex['question'], ex['seq_out']"
   ]
  },
  {
   "cell_type": "code",
   "execution_count": 440,
   "metadata": {},
   "outputs": [
    {
     "data": {
      "text/plain": [
       "('select count(*) from battle where id not in ( select', 'lost_in_battle')"
      ]
     },
     "execution_count": 440,
     "metadata": {},
     "output_type": "execute_result"
    }
   ],
   "source": [
    "text_in = ex['text_in']\n",
    "struct_in = ex['struct_in']\n",
    "\n",
    "enc_sentence = f\"{text_in}; structed knowledge: {struct_in}\"\n",
    "\n",
    "# expect = 'singer'\n",
    "# expect = 'age'\n",
    "expect = 'lost_in_battle'\n",
    "dec_prompt = ctu.make_dec_prompt(ex['seq_out'], expect)\n",
    "\n",
    "ex['enc_sentence'] = enc_sentence\n",
    "ex['dec_prompt'] = dec_prompt\n",
    "ex['expect'] = expect\n",
    "dec_prompt, expect"
   ]
  },
  {
   "cell_type": "code",
   "execution_count": 441,
   "metadata": {},
   "outputs": [
    {
     "data": {
      "text/plain": [
       "['lost', '_', 'in', '_', 'b', 'a', 'ttle']"
      ]
     },
     "execution_count": 441,
     "metadata": {},
     "output_type": "execute_result"
    }
   ],
   "source": [
    "ans_toks = decode_tokens(mt_uskg.tokenizer, mt_uskg.tokenizer.encode(expect, add_special_tokens=False))\n",
    "ans_toks"
   ]
  },
  {
   "cell_type": "code",
   "execution_count": 445,
   "metadata": {},
   "outputs": [
    {
     "data": {
      "text/plain": [
       "(0.9968727231025696, 'lost_in_battle')"
      ]
     },
     "execution_count": 445,
     "metadata": {},
     "output_type": "execute_result"
    }
   ],
   "source": [
    "inp = ctu.make_inputs_t5(\n",
    "    mt_uskg.tokenizer,\n",
    "    [enc_sentence],\n",
    "    [dec_prompt],\n",
    "    answer=expect,\n",
    "    device='cuda'\n",
    ")\n",
    "\n",
    "answer_len = len(mt_uskg.tokenizer.tokenize(expect))\n",
    "with torch.no_grad():\n",
    "    answers_t, base_score = [d[0] for d in ctu.predict_from_input_uskg_multi_token(mt_uskg.model, inp, pred_len=answer_len)]\n",
    "base_score = base_score.min().item()\n",
    "answer = ctu.decode_sentences(mt_uskg.tokenizer, answers_t)\n",
    "base_score, answer"
   ]
  },
  {
   "cell_type": "code",
   "execution_count": 451,
   "metadata": {},
   "outputs": [],
   "source": [
    "result = ctu.token_corruption_influence_uskg(\n",
    "    mt_uskg,\n",
    "#     enc_sentence=enc_sentence,\n",
    "#     dec_prompt=dec_prompt,\n",
    "#     expect=expect,\n",
    "    ex,\n",
    "    replace=True,\n",
    "    use_tqdm=False,\n",
    ")"
   ]
  },
  {
   "cell_type": "code",
   "execution_count": 452,
   "metadata": {
    "scrolled": true
   },
   "outputs": [
    {
     "data": {
      "text/plain": [
       "[{'corrpt_type': 'column',\n",
       "  'corrpt_idx': (43, 44),\n",
       "  'corrpt_token': 'date',\n",
       "  'corrpt_score': 0.9956726431846619,\n",
       "  'corrpt_drop': 0.001199960708618164},\n",
       " {'corrpt_type': 'column',\n",
       "  'corrpt_idx': (46, 51),\n",
       "  'corrpt_token': 'bulgarian_commander',\n",
       "  'corrpt_score': 0.9961294531822205,\n",
       "  'corrpt_drop': 0.0007431507110595703},\n",
       " {'corrpt_type': 'column',\n",
       "  'corrpt_idx': (53, 58),\n",
       "  'corrpt_token': 'latin_commander',\n",
       "  'corrpt_score': 0.9959133267402649,\n",
       "  'corrpt_drop': 0.0009592771530151367},\n",
       " {'corrpt_type': 'column',\n",
       "  'corrpt_idx': (60, 61),\n",
       "  'corrpt_token': 'result',\n",
       "  'corrpt_score': 0.9948825240135193,\n",
       "  'corrpt_drop': 0.001990079879760742},\n",
       " {'corrpt_type': 'column',\n",
       "  'corrpt_idx': (65, 72),\n",
       "  'corrpt_token': 'lost_in_battle',\n",
       "  'corrpt_score': 7.789944334035681e-07,\n",
       "  'corrpt_drop': 0.9968718248988466},\n",
       " {'corrpt_type': 'column',\n",
       "  'corrpt_idx': (82, 85),\n",
       "  'corrpt_token': 'tonnage',\n",
       "  'corrpt_score': 0.8420044183731079,\n",
       "  'corrpt_drop': 0.15486818552017212},\n",
       " {'corrpt_type': 'column',\n",
       "  'corrpt_idx': (87, 90),\n",
       "  'corrpt_token': 'ship_type',\n",
       "  'corrpt_score': 0.992283821105957,\n",
       "  'corrpt_drop': 0.004588782787322998},\n",
       " {'corrpt_type': 'column',\n",
       "  'corrpt_idx': (92, 93),\n",
       "  'corrpt_token': 'location',\n",
       "  'corrpt_score': 0.9948905110359192,\n",
       "  'corrpt_drop': 0.00198209285736084},\n",
       " {'corrpt_type': 'column',\n",
       "  'corrpt_idx': (95, 100),\n",
       "  'corrpt_token': 'disposition_of_ship',\n",
       "  'corrpt_score': 0.9915664792060852,\n",
       "  'corrpt_drop': 0.005306124687194824},\n",
       " {'corrpt_type': 'column',\n",
       "  'corrpt_idx': (104, 112),\n",
       "  'corrpt_token': 'caused_by_ship_id',\n",
       "  'corrpt_score': 0.9950641989707947,\n",
       "  'corrpt_drop': 0.0018084049224853516},\n",
       " {'corrpt_type': 'column',\n",
       "  'corrpt_idx': (119, 120),\n",
       "  'corrpt_token': 'note',\n",
       "  'corrpt_score': 0.9970488548278809,\n",
       "  'corrpt_drop': -0.00017625093460083008},\n",
       " {'corrpt_type': 'column',\n",
       "  'corrpt_idx': (122, 123),\n",
       "  'corrpt_token': 'killed',\n",
       "  'corrpt_score': 0.9965221285820007,\n",
       "  'corrpt_drop': 0.0003504753112792969},\n",
       " {'corrpt_type': 'column',\n",
       "  'corrpt_idx': (125, 126),\n",
       "  'corrpt_token': 'injured',\n",
       "  'corrpt_score': 0.997848629951477,\n",
       "  'corrpt_drop': -0.0009760260581970215},\n",
       " {'corrpt_type': 'table',\n",
       "  'corrpt_idx': (32, 33),\n",
       "  'corrpt_token': 'battle',\n",
       "  'corrpt_score': 0.9904336333274841,\n",
       "  'corrpt_drop': 0.0064389705657958984},\n",
       " {'corrpt_type': 'table',\n",
       "  'corrpt_idx': (62, 63),\n",
       "  'corrpt_token': 'ship',\n",
       "  'corrpt_score': 0.9999851584434509,\n",
       "  'corrpt_drop': -0.0031125545501708984},\n",
       " {'corrpt_type': 'table',\n",
       "  'corrpt_idx': (101, 102),\n",
       "  'corrpt_token': 'death',\n",
       "  'corrpt_score': 0.9960187077522278,\n",
       "  'corrpt_drop': 0.0008538961410522461}]"
      ]
     },
     "execution_count": 452,
     "metadata": {},
     "output_type": "execute_result"
    }
   ],
   "source": [
    "[d for d in result if d['corrpt_type'] != 'token']"
   ]
  },
  {
   "cell_type": "code",
   "execution_count": 116,
   "metadata": {},
   "outputs": [
    {
     "name": "stdout",
     "output_type": "stream",
     "text": [
      "0\tHow\t-5.125999450683594e-06\n",
      "1\tmany\t2.2232532501220703e-05\n",
      "2*\tsinger\t0.9999071359067503\n",
      "3\ts\t6.67572021484375e-06\n",
      "4\tdo\t6.318092346191406e-06\n",
      "5\twe\t4.684925079345703e-05\n",
      "6\thave\t9.715557098388672e-06\n",
      "7\t?\t1.4901161193847656e-05\n",
      "8\t;\t9.179115295410156e-06\n",
      "9\t\t7.927417755126953e-06\n",
      "10\tstruct\t5.424022674560547e-06\n",
      "11\te\t2.086162567138672e-06\n",
      "12\td\t2.3245811462402344e-06\n",
      "13\tknowledge\t-5.364418029785156e-07\n",
      "14\t:\t1.0728836059570312e-06\n",
      "15\t|\t4.112720489501953e-06\n",
      "16\tconcert\t-2.2232532501220703e-05\n",
      "17\t_\t3.635883331298828e-06\n",
      "18\ts\t1.2993812561035156e-05\n",
      "19\tinger\t1.2040138244628906e-05\n",
      "20\t|\t7.748603820800781e-06\n",
      "21\tstadium\t1.7881393432617188e-07\n",
      "22\t\t-1.4901161193847656e-06\n",
      "23\t:\t5.185604095458984e-06\n",
      "24\tstadium\t-3.6954879760742188e-06\n",
      "25\t_\t1.6093254089355469e-06\n",
      "26\ti\t-1.7285346984863281e-06\n",
      "27\td\t-1.1324882507324219e-06\n",
      "28\t\t-5.364418029785156e-07\n",
      "29\t,\t3.993511199951172e-06\n",
      "30\tlocation\t9.238719940185547e-06\n",
      "31\t\t7.748603820800781e-07\n",
      "32\t,\t6.377696990966797e-06\n",
      "33\tname\t7.748603820800781e-07\n",
      "34\t\t-5.364418029785156e-07\n",
      "35\t,\t-3.5762786865234375e-07\n",
      "36\tcapacity\t1.8477439880371094e-06\n",
      "37\t\t-1.430511474609375e-06\n",
      "38\t,\t-3.039836883544922e-06\n",
      "39\thighest\t-1.3113021850585938e-06\n",
      "40\t\t-1.2516975402832031e-06\n",
      "41\t,\t-2.562999725341797e-06\n",
      "42\tlowest\t5.7220458984375e-06\n",
      "43\t\t-4.470348358154297e-06\n",
      "44\t,\t1.6093254089355469e-06\n",
      "45\taverage\t-3.635883331298828e-06\n",
      "46\t|\t8.404254913330078e-05\n",
      "47\tsinger\t0.014446079730987549\n",
      "48\t\t-9.238719940185547e-06\n",
      "49\t:\t-6.556510925292969e-06\n",
      "50\tsinger\t-3.2961368560791016e-05\n",
      "51\t_\t-1.9073486328125e-06\n",
      "52\ti\t6.556510925292969e-07\n",
      "53\td\t6.496906280517578e-06\n",
      "54\t\t1.0609626770019531e-05\n",
      "55\t,\t-5.7220458984375e-06\n",
      "56\tname\t-1.4662742614746094e-05\n",
      "57\t\t-3.993511199951172e-06\n",
      "58\t,\t-2.682209014892578e-06\n",
      "59\tcountry\t-2.682209014892578e-06\n",
      "60\t\t8.940696716308594e-07\n",
      "61\t,\t3.814697265625e-06\n",
      "62\tsong\t8.046627044677734e-06\n",
      "63\t_\t-4.76837158203125e-07\n",
      "64\tname\t-1.430511474609375e-06\n",
      "65\t\t4.470348358154297e-06\n",
      "66\t,\t3.4570693969726562e-06\n",
      "67\tsong\t9.059906005859375e-06\n",
      "68\t_\t-3.2186508178710938e-06\n",
      "69\trelease\t3.7550926208496094e-06\n",
      "70\t_\t-4.76837158203125e-06\n",
      "71\tyear\t-8.344650268554688e-07\n",
      "72\t\t2.384185791015625e-06\n",
      "73\t,\t3.159046173095703e-06\n",
      "74\tage\t3.7550926208496094e-06\n",
      "75\t\t1.7881393432617188e-07\n",
      "76\t,\t1.6093254089355469e-06\n",
      "77\tis\t1.8477439880371094e-06\n",
      "78\t_\t-1.2278556823730469e-05\n",
      "79\tmale\t-8.404254913330078e-06\n",
      "80\t|\t-2.2470951080322266e-05\n",
      "81\tconcert\t-6.020069122314453e-06\n",
      "82\t\t4.172325134277344e-07\n",
      "83\t:\t-2.086162567138672e-06\n",
      "84\tconcert\t-9.5367431640625e-07\n",
      "85\t_\t4.947185516357422e-06\n",
      "86\ti\t2.980232238769531e-07\n",
      "87\td\t1.6093254089355469e-06\n",
      "88\t\t-5.364418029785156e-07\n",
      "89\t,\t-1.0132789611816406e-06\n",
      "90\tconcert\t2.980232238769531e-07\n",
      "91\t_\t2.86102294921875e-06\n",
      "92\tname\t4.76837158203125e-07\n",
      "93\t\t1.6093254089355469e-06\n",
      "94\t,\t-1.7881393432617188e-07\n",
      "95\ttheme\t5.900859832763672e-06\n",
      "96\t\t3.814697265625e-06\n",
      "97\t,\t9.5367431640625e-07\n",
      "98\tstadium\t0.0\n",
      "99\t_\t2.5033950805664062e-06\n",
      "100\ti\t1.2516975402832031e-06\n",
      "101\td\t7.748603820800781e-07\n",
      "102\t\t-9.5367431640625e-07\n",
      "103\t,\t-3.516674041748047e-06\n",
      "104\tyear\t2.086162567138672e-06\n",
      "105\t|\t1.2993812561035156e-05\n",
      "106\tsinger\t-7.927417755126953e-06\n",
      "107\t_\t-1.7821788787841797e-05\n",
      "108\tin\t-1.4901161193847656e-06\n",
      "109\t_\t-3.6954879760742188e-06\n",
      "110\tconce\t1.3470649719238281e-05\n",
      "111\tr\t8.940696716308594e-07\n",
      "112\tt\t1.7285346984863281e-06\n",
      "113\t\t-1.7285346984863281e-06\n",
      "114\t:\t-1.0132789611816406e-06\n",
      "115\tconcert\t7.927417755126953e-06\n",
      "116\t_\t3.814697265625e-06\n",
      "117\ti\t-1.7881393432617188e-07\n",
      "118\td\t5.960464477539062e-07\n",
      "119\t\t-1.3113021850585938e-06\n",
      "120\t,\t-2.682209014892578e-06\n",
      "121\tsinger\t-4.112720489501953e-06\n",
      "122\t_\t5.960464477539062e-07\n",
      "123\ti\t2.205371856689453e-06\n",
      "124\td\t-1.9073486328125e-06\n"
     ]
    }
   ],
   "source": [
    "# # ID = 0\n",
    "\n",
    "# l = []\n",
    "# for i, d in enumerate(result):\n",
    "#     if d['corrpt_drop'] > 0.1:\n",
    "#         l.append(f'{i}*\\t{d[\"corrpt_token\"]}\\t{d[\"corrpt_drop\"]}')\n",
    "#     else:\n",
    "#         l.append(f'{i}\\t{d[\"corrpt_token\"]}\\t{d[\"corrpt_drop\"]}')\n",
    "# print('\\n'.join(l))"
   ]
  },
  {
   "cell_type": "code",
   "execution_count": 138,
   "metadata": {},
   "outputs": [
    {
     "name": "stdout",
     "output_type": "stream",
     "text": [
      "0\tWhat\t-2.384185791015625e-07\n",
      "1\tare\t-1.7881393432617188e-07\n",
      "2\tthe\t5.960464477539063e-08\n",
      "3\tdifferent\t7.748603820800781e-07\n",
      "4\tcountries\t1.9788742065429688e-05\n",
      "5\twith\t-5.960464477539063e-08\n",
      "6\tsinger\t0.014161169528961182\n",
      "7\ts\t-3.5762786865234375e-07\n",
      "8\tabove\t1.3709068298339844e-06\n",
      "9\tage\t1.627206802368164e-05\n",
      "10\t20\t-5.960464477539063e-08\n",
      "11\t?\t-5.960464477539063e-08\n",
      "12\t;\t7.748603820800781e-07\n",
      "13\t\t-1.7881393432617188e-07\n",
      "14\tstruct\t5.960464477539063e-08\n",
      "15\te\t-5.960464477539063e-08\n",
      "16\td\t-5.960464477539063e-08\n",
      "17\tknowledge\t-1.7881393432617188e-07\n",
      "18\t:\t-1.7881393432617188e-07\n",
      "19\t|\t-1.7881393432617188e-07\n",
      "20\tconcert\t-5.960464477539063e-08\n",
      "21\t_\t5.960464477539063e-08\n",
      "22\ts\t-5.960464477539063e-08\n",
      "23\tinger\t-5.960464477539063e-08\n",
      "24\t|\t2.980232238769531e-07\n",
      "25\tstadium\t-5.960464477539063e-08\n",
      "26\t\t-5.960464477539063e-08\n",
      "27\t:\t2.980232238769531e-07\n",
      "28\tstadium\t-5.960464477539063e-08\n",
      "29\t_\t-5.960464477539063e-08\n",
      "30\ti\t-1.7881393432617188e-07\n",
      "31\td\t-5.960464477539063e-08\n",
      "32\t\t-5.960464477539063e-08\n",
      "33\t,\t2.384185791015625e-07\n",
      "34\tlocation\t2.384185791015625e-07\n",
      "35\t\t-5.960464477539063e-08\n",
      "36\t,\t-5.960464477539063e-08\n",
      "37\tname\t2.384185791015625e-07\n",
      "38\t\t-5.960464477539063e-08\n",
      "39\t,\t-5.960464477539063e-08\n",
      "40\tcapacity\t-5.960464477539063e-08\n",
      "41\t\t-1.7881393432617188e-07\n",
      "42\t,\t-5.960464477539063e-08\n",
      "43\thighest\t5.960464477539063e-08\n",
      "44\t\t-5.960464477539063e-08\n",
      "45\t,\t-5.960464477539063e-08\n",
      "46\tlowest\t1.1920928955078125e-07\n",
      "47\t\t-5.960464477539063e-08\n",
      "48\t,\t-5.960464477539063e-08\n",
      "49\taverage\t5.960464477539063e-08\n",
      "50\t|\t2.0265579223632812e-06\n",
      "51\tsinger\t-3.5762786865234375e-07\n",
      "52\t\t-5.960464477539063e-08\n",
      "53\t:\t2.980232238769531e-07\n",
      "54\tsinger\t5.960464477539063e-08\n",
      "55\t_\t5.960464477539063e-08\n",
      "56\ti\t-1.7881393432617188e-07\n",
      "57\td\t-5.960464477539063e-08\n",
      "58\t\t5.960464477539063e-08\n",
      "59\t,\t5.364418029785156e-07\n",
      "60\tname\t5.364418029785156e-07\n",
      "61\t\t2.980232238769531e-07\n",
      "62\t,\t4.172325134277344e-07\n",
      "63\tcountry\t7.748603820800781e-07\n",
      "64\t\t5.960464477539063e-08\n",
      "65\t,\t1.0132789611816406e-06\n",
      "66\tsong\t5.960464477539063e-08\n",
      "67\t_\t5.960464477539062e-07\n",
      "68\tname\t4.172325134277344e-07\n",
      "69\t\t-1.7881393432617188e-07\n",
      "70\t,\t8.940696716308594e-07\n",
      "71\tsong\t5.960464477539063e-08\n",
      "72\t_\t2.4437904357910156e-06\n",
      "73\trelease\t-5.960464477539063e-08\n",
      "74\t_\t-5.960464477539063e-08\n",
      "75\tyear\t-3.5762786865234375e-07\n",
      "76\t\t5.960464477539063e-08\n",
      "77\t,\t0.0011740922927856445\n",
      "78*\tage\t0.1626650094985962\n",
      "79\t\t-1.7881393432617188e-07\n",
      "80\t,\t-7.152557373046875e-07\n",
      "81\tis\t-5.364418029785156e-07\n",
      "82\t_\t-7.152557373046875e-07\n",
      "83\tmale\t0.0005614757537841797\n",
      "84\t|\t2.384185791015625e-07\n",
      "85\tconcert\t-2.384185791015625e-07\n",
      "86\t\t-1.7881393432617188e-07\n",
      "87\t:\t1.1920928955078125e-07\n",
      "88\tconcert\t-2.384185791015625e-07\n",
      "89\t_\t-5.960464477539063e-08\n",
      "90\ti\t-5.960464477539063e-08\n",
      "91\td\t-1.7881393432617188e-07\n",
      "92\t\t-1.7881393432617188e-07\n",
      "93\t,\t1.1920928955078125e-07\n",
      "94\tconcert\t-5.960464477539063e-08\n",
      "95\t_\t-5.960464477539063e-08\n",
      "96\tname\t-5.960464477539063e-08\n",
      "97\t\t-5.960464477539063e-08\n",
      "98\t,\t1.1920928955078125e-07\n",
      "99\ttheme\t-5.960464477539063e-08\n",
      "100\t\t-5.960464477539063e-08\n",
      "101\t,\t1.1920928955078125e-07\n",
      "102\tstadium\t-5.960464477539063e-08\n",
      "103\t_\t-5.960464477539063e-08\n",
      "104\ti\t-5.960464477539063e-08\n",
      "105\td\t-5.960464477539063e-08\n",
      "106\t\t-5.960464477539063e-08\n",
      "107\t,\t5.960464477539063e-08\n",
      "108\tyear\t-5.960464477539063e-08\n",
      "109\t|\t7.748603820800781e-07\n",
      "110\tsinger\t2.384185791015625e-07\n",
      "111\t_\t-5.960464477539063e-08\n",
      "112\tin\t-5.960464477539063e-08\n",
      "113\t_\t1.1920928955078125e-07\n",
      "114\tconce\t-2.384185791015625e-07\n",
      "115\tr\t-5.960464477539063e-08\n",
      "116\tt\t2.384185791015625e-07\n",
      "117\t\t5.960464477539063e-08\n",
      "118\t:\t5.960464477539063e-08\n",
      "119\tconcert\t-1.7881393432617188e-07\n",
      "120\t_\t-5.960464477539063e-08\n",
      "121\ti\t-5.960464477539063e-08\n",
      "122\td\t-5.960464477539063e-08\n",
      "123\t\t-5.960464477539063e-08\n",
      "124\t,\t1.1920928955078125e-07\n",
      "125\tsinger\t-5.960464477539063e-08\n",
      "126\t_\t-5.960464477539063e-08\n",
      "127\ti\t-1.7881393432617188e-07\n",
      "128\td\t-5.960464477539063e-08\n"
     ]
    }
   ],
   "source": [
    "# # ID = 9\n",
    "\n",
    "# l = []\n",
    "# for i, d in enumerate(result):\n",
    "#     if d['corrpt_drop'] > 0.1:\n",
    "#         l.append(f'{i}*\\t{d[\"corrpt_token\"]}\\t{d[\"corrpt_drop\"]}')\n",
    "#     else:\n",
    "#         l.append(f'{i}\\t{d[\"corrpt_token\"]}\\t{d[\"corrpt_drop\"]}')\n",
    "# print('\\n'.join(l))"
   ]
  },
  {
   "cell_type": "code",
   "execution_count": 453,
   "metadata": {},
   "outputs": [
    {
     "name": "stdout",
     "output_type": "stream",
     "text": [
      "0\tHow\t0.0037964582443237305\n",
      "1\tmany\t0.0013628602027893066\n",
      "2\tbattle\t0.01413428783416748\n",
      "3\ts\t-0.0008431673049926758\n",
      "4\tdid\t0.052848875522613525\n",
      "5\tnot\t0.09322965145111084\n",
      "6\tlose\t0.002241969108581543\n",
      "7\tany\t0.056729793548583984\n",
      "8\tship\t-0.0024902820587158203\n",
      "9\twith\t0.04180067777633667\n",
      "10\tto\t0.006940901279449463\n",
      "11\tn\t0.07953697443008423\n",
      "12\tnage\t0.0018101334571838379\n",
      "13\t\t0.0008842945098876953\n",
      "14\t'\t0.0007312297821044922\n",
      "15\t225\t-0.002007007598876953\n",
      "16\t'\t0.000843048095703125\n",
      "17\t?\t0.001425027847290039\n",
      "18\t;\t-0.0008304119110107422\n",
      "19\t\t0.0033646225929260254\n",
      "20\tstruct\t0.005487203598022461\n",
      "21\te\t-0.0010203719139099121\n",
      "22\td\t0.0009642243385314941\n",
      "23\tknowledge\t-0.00048089027404785156\n",
      "24\t:\t-0.00015664100646972656\n",
      "25\t|\t0.0022062063217163086\n",
      "26\tbattle\t0.0007958412170410156\n",
      "27\t_\t0.000949561595916748\n",
      "28\tde\t0.002287924289703369\n",
      "29\ta\t0.0008778572082519531\n",
      "30\tth\t0.0004265308380126953\n",
      "31\t|\t0.0012375712394714355\n",
      "32\tbattle\t0.0064389705657958984\n",
      "33\t\t-0.0003082752227783203\n",
      "34\t:\t-0.0015889406204223633\n",
      "35\t\t-0.002041161060333252\n",
      "36\ti\t-0.002639591693878174\n",
      "37\td\t0.0030516386032104492\n",
      "38\t\t0.0008799433708190918\n",
      "39\t,\t0.001226961612701416\n",
      "40\tname\t0.0022575855255126953\n",
      "41\t\t0.0013141632080078125\n",
      "42\t,\t0.0004660487174987793\n",
      "43\tdate\t0.001199960708618164\n",
      "44\t\t0.0036588311195373535\n",
      "45\t,\t0.002676248550415039\n",
      "46\tbulg\t0.00016325712203979492\n",
      "47\tarian\t0.0017170906066894531\n",
      "48\t_\t0.00043189525604248047\n",
      "49\tcommand\t0.017362475395202637\n",
      "50\ter\t0.004083693027496338\n",
      "51\t\t0.003155231475830078\n",
      "52\t,\t0.0028000473976135254\n",
      "53\t\t0.0020836591720581055\n",
      "54\tlatin\t0.0017630457878112793\n",
      "55\t_\t0.0010582804679870605\n",
      "56\tcommand\t0.006787300109863281\n",
      "57\ter\t0.005815982818603516\n",
      "58\t\t0.005763590335845947\n",
      "59\t,\t0.01128298044204712\n",
      "60\tresult\t0.001990079879760742\n",
      "61\t|\t-0.0022734999656677246\n",
      "62\tship\t-0.0031125545501708984\n",
      "63\t\t-0.002832651138305664\n",
      "64\t:\t0.2955291271209717\n",
      "S*65*\tlost\t0.9968710248273283\n",
      "*66*\t_\t0.5390499830245972\n",
      "*67*\tin\t0.8797281607985497\n",
      "68\t_\t0.49318522214889526\n",
      "*69*\tb\t0.8122162520885468\n",
      "*70*\ta\t0.6109114289283752\n",
      "*71*E\tttle\t0.7297702133655548\n",
      "72\t\t-0.0015021562576293945\n",
      "73\t,\t0.023115992546081543\n",
      "74\t\t-0.003117501735687256\n",
      "75\ti\t-0.002889871597290039\n",
      "76\td\t-0.0015906691551208496\n",
      "77\t\t-0.00035506486892700195\n",
      "78\t,\t0.0039408206939697266\n",
      "79\tname\t-0.002143383026123047\n",
      "80\t\t0.0008987188339233398\n",
      "81\t,\t0.006338953971862793\n",
      "82\tto\t0.06164884567260742\n",
      "83\tn\t0.029359042644500732\n",
      "84\tnage\t0.0030454397201538086\n",
      "85\t\t0.005168020725250244\n",
      "86\t,\t0.001688838005065918\n",
      "87\tship\t0.008625507354736328\n",
      "88\t_\t0.005386054515838623\n",
      "89\ttype\t-0.0006664395332336426\n",
      "90\t\t0.009672999382019043\n",
      "91\t,\t0.0002510547637939453\n",
      "92\tlocation\t0.00198209285736084\n",
      "93\t\t0.0018159747123718262\n",
      "94\t,\t0.0002453327178955078\n",
      "95\tdisposition\t0.000460207462310791\n",
      "96\t_\t0.0017185211181640625\n",
      "97\tof\t0.0002980232238769531\n",
      "98\t_\t0.0056972503662109375\n",
      "99\tship\t0.0028567910194396973\n",
      "100\t|\t0.01932370662689209\n",
      "101\tdeath\t0.0008538961410522461\n",
      "102\t\t-0.001347661018371582\n",
      "103\t:\t0.002463400363922119\n",
      "104\tcaused\t-0.0013953447341918945\n",
      "105\t_\t0.0009922981262207031\n",
      "106\tby\t0.005261480808258057\n",
      "107\t_\t0.004453897476196289\n",
      "108\tship\t0.0012708306312561035\n",
      "109\t_\t0.002262592315673828\n",
      "110\ti\t0.00289839506149292\n",
      "111\td\t0.007022380828857422\n",
      "112\t\t-0.0002517104148864746\n",
      "113\t,\t-4.589557647705078e-05\n",
      "114\t\t-0.00299072265625\n",
      "115\ti\t-0.0028443336486816406\n",
      "116\td\t-0.0026192665100097656\n",
      "117\t\t-0.0006656646728515625\n",
      "118\t,\t0.0003933906555175781\n",
      "119\tnote\t-0.00017625093460083008\n",
      "120\t\t0.0006151795387268066\n",
      "121\t,\t5.9485435485839844e-05\n",
      "122\tkilled\t0.0003504753112792969\n",
      "123\t\t-0.0002913475036621094\n",
      "124\t,\t-0.0006744861602783203\n",
      "125\tinjured\t-0.0009760260581970215\n"
     ]
    }
   ],
   "source": [
    "# ID = 503\n",
    "\n",
    "_seq_len = len([d for d in result if d['corrpt_type'] == 'token'])\n",
    "_tags = [[False, False, False] for _ in range(_seq_len)]  # (is_span_start, is_span_end, is_unit)\n",
    "for i, d in enumerate(result):\n",
    "    if d['corrpt_drop'] > 0.5:\n",
    "        s, e = d['corrpt_idx']\n",
    "        if e - s > 1:\n",
    "            _tags[s][0] = True\n",
    "            _tags[e-1][1] = True\n",
    "        else:\n",
    "            _tags[s][2] = True\n",
    "\n",
    "l = []\n",
    "for i in range(_seq_len):\n",
    "    id_str = str(i)\n",
    "    if _tags[i][2]:\n",
    "        id_str = f'*{i}*'\n",
    "    if _tags[i][0]:\n",
    "        id_str = 'S' + id_str\n",
    "    if _tags[i][1]:\n",
    "        id_str = id_str + 'E'\n",
    "    \n",
    "    d = result[i]\n",
    "    l.append(f'{id_str}\\t{d[\"corrpt_token\"]}\\t{d[\"corrpt_drop\"]}')\n",
    "#         l.append(f'{i}\\t{d[\"corrpt_token\"]}\\t{d[\"corrpt_drop\"]}')\n",
    "print('\\n'.join(l))"
   ]
  },
  {
   "cell_type": "markdown",
   "metadata": {},
   "source": [
    "#### run for all"
   ]
  },
  {
   "cell_type": "code",
   "execution_count": null,
   "metadata": {},
   "outputs": [],
   "source": [
    "all_results = []\n",
    "subject_type = 'column'\n",
    "\n",
    "for ex_id, ex in enumerate(tqdm(processed_spider_dev)):\n",
    "    text_in = ex['text_in']\n",
    "    struct_in = ex['struct_in']\n",
    "\n",
    "    enc_sentence = f\"{text_in}; structed knowledge: {struct_in}\"\n",
    "\n",
    "    token_ranges_dict = ctu.find_struct_name_ranges(mt, enc_tokenized['input_ids'], struct_in)\n",
    "    if subject_type == 'column':\n",
    "        node_name_ranges = token_ranges_dict['col_name_ranges']\n",
    "    elif subject_type == 'table':\n",
    "        node_name_ranges = token_ranges_dict['table_name_ranges']\n",
    "    \n",
    "    sql_tokens = separate_punct(ex['seq_out']).split(' ')\n",
    "    sql_nodes = set()\n",
    "    for t in sql_tokens:\n",
    "        if t in node_name_ranges:\n",
    "            sql_nodes.add(t)\n",
    "    \n",
    "    if subject_type == 'column':\n",
    "        for t in list(sql_nodes):\n",
    "            if len(col2table[t]) == 0:\n",
    "                raise ValueError(struct_in, t)\n",
    "            elif (len(col2table[t]) > 1) and remove_struct_duplicate_cols:\n",
    "                sql_nodes.remove(t)\n",
    "\n",
    "    all_results = []\n",
    "    for node in sql_nodes:\n",
    "        tok_ranges = node_name_ranges[node]\n",
    "        \n",
    "    expect = 'lost_in_battle'\n",
    "    dec_prompt = ctu.make_dec_prompt(ex['seq_out'], expect)\n",
    "\n",
    "    ex['enc_sentence'] = enc_sentence\n",
    "    ex['dec_prompt'] = dec_prompt\n",
    "    ex['expect'] = expect\n",
    "    dec_prompt, expect\n"
   ]
  },
  {
   "cell_type": "code",
   "execution_count": null,
   "metadata": {},
   "outputs": [],
   "source": []
  },
  {
   "cell_type": "code",
   "execution_count": null,
   "metadata": {},
   "outputs": [],
   "source": []
  },
  {
   "cell_type": "code",
   "execution_count": 40,
   "metadata": {},
   "outputs": [
    {
     "data": {
      "text/plain": [
       "('car_names',\n",
       " tensor([ 443,  834, 4350,    7]),\n",
       " 'car_names',\n",
       " tensor([0.5643, 1.0000, 0.9996, 1.0000]))"
      ]
     },
     "execution_count": 40,
     "metadata": {},
     "output_type": "execute_result"
    }
   ],
   "source": [
    "# # inp = ctu.make_inputs_t5(mt_uskg.tokenizer, [text_in] * 11, [dec_prompt] * 11)\n",
    "# inp = ctu.make_inputs_t5(mt_uskg.tokenizer, [enc_sentence] * 11, [dec_prompt] * 11, answer=expect, device='cpu')\n",
    "# # answer_t, base_score = [d[0] for d in ctu.predict_from_input_uskg(mt_uskg.model, inp)]\n",
    "# # base_score = base_score.item()\n",
    "# # [answer] = ctu.decode_tokens(mt_uskg.tokenizer, [answer_t])\n",
    "# answer_len = 1\n",
    "# if expect is not None:\n",
    "#     answer_len = len(mt_uskg.tokenizer.tokenize(expect))\n",
    "# with torch.no_grad():\n",
    "#     answers_t, base_score = [d[0] for d in ctu.predict_from_input_uskg_multi_token(mt_uskg.model, inp, pred_len=answer_len)]\n",
    "# # base_score = base_score.min().item()\n",
    "# # [answer] = decode_tokens(mt.tokenizer, [answer_t])\n",
    "# answer = ctu.decode_sentences(mt_uskg.tokenizer, answers_t)\n",
    "\n",
    "# expect, answers_t, answer, base_score"
   ]
  },
  {
   "cell_type": "code",
   "execution_count": null,
   "metadata": {},
   "outputs": [],
   "source": [
    "# # e_range = (129, 132)\n",
    "# # e_range = [8, 13, 131]\n",
    "# e_range = list(range(7, 14))\n",
    "\n",
    "# r = ctu.trace_with_patch_uskg(\n",
    "#     mt_uskg.model,\n",
    "#     inp=inp,\n",
    "#     states_to_patch=[], \n",
    "#     answers_t=answer_t, \n",
    "#     tokens_to_mix=e_range,\n",
    "#     tokens_to_mix_individual_indices=True,\n",
    "#     replace=True,\n",
    "# )\n",
    "\n",
    "# r"
   ]
  },
  {
   "cell_type": "markdown",
   "metadata": {},
   "source": [
    "### Analyse multi-tokens pred"
   ]
  },
  {
   "cell_type": "markdown",
   "metadata": {},
   "source": [
    "#### Sample 4 (ID = 97)\n",
    "- FROM table\n",
    "- t5-base-p: wrong prediction\n",
    "- t5-large-p: correct (but p is only ~0.56)"
   ]
  },
  {
   "cell_type": "code",
   "execution_count": 23,
   "metadata": {},
   "outputs": [
    {
     "data": {
      "text/plain": [
       "('Find the model of the car whose weight is below the average weight.',\n",
       " '| car_1 | continents : contid , continent | countries : countryid , countryname , continent | car_makers : id , maker , fullname , country | model_list : modelid , maker , model | car_names : makeid , model , make | cars_data : id , mpg , cylinders , edispl , horsepower , weight , accelerate , year',\n",
       " 'select t1.model from car_names as t1 join cars_data as t2 on t1.makeid = t2.id where t2.weight < (select avg(weight) from cars_data)')"
      ]
     },
     "execution_count": 23,
     "metadata": {},
     "output_type": "execute_result"
    }
   ],
   "source": [
    "_id = 97\n",
    "ex = processed_spider_dev[_id]\n",
    "ex['question'], ex['struct_in'], ex['seq_out']"
   ]
  },
  {
   "cell_type": "code",
   "execution_count": 24,
   "metadata": {},
   "outputs": [
    {
     "data": {
      "text/plain": [
       "['car', '_', 'name', 's']"
      ]
     },
     "execution_count": 24,
     "metadata": {},
     "output_type": "execute_result"
    }
   ],
   "source": [
    "text_in = ex['text_in']\n",
    "struct_in = ex['struct_in']\n",
    "\n",
    "enc_sentence = f\"{text_in}; structed knowledge: {struct_in}\"\n",
    "dec_prompt = \"select t1.model from\"\n",
    "expect = \"car_names\"\n",
    "\n",
    "ans_toks = decode_tokens(mt_uskg.tokenizer, mt_uskg.tokenizer.encode(expect, add_special_tokens=False))\n",
    "ans_toks"
   ]
  },
  {
   "cell_type": "code",
   "execution_count": 25,
   "metadata": {},
   "outputs": [
    {
     "data": {
      "text/plain": [
       "[[('car', 0.56428814),\n",
       "  ('model', 0.43506715),\n",
       "  ('vehicle', 0.00021862303),\n",
       "  ('cars', 0.00014308267),\n",
       "  ('models', 8.6197484e-05)],\n",
       " [('_', 0.9999999),\n",
       "  ('-', 7.3583514e-08),\n",
       "  (\"'\", 4.1157877e-09),\n",
       "  ('/', 1.4668213e-09),\n",
       "  ('\\xad', 8.863828e-10)],\n",
       " [('name', 0.9996331),\n",
       "  ('list', 0.00026160118),\n",
       "  ('naming', 3.392447e-05),\n",
       "  ('namen', 1.0954519e-05),\n",
       "  ('Name', 8.198361e-06)],\n",
       " [('s', 0.9999963),\n",
       "  ('as', 3.6612994e-06),\n",
       "  ('and', 1.3562294e-08),\n",
       "  ('_', 1.0642934e-08),\n",
       "  ('', 3.6112402e-09)]]"
      ]
     },
     "execution_count": 25,
     "metadata": {},
     "output_type": "execute_result"
    }
   ],
   "source": [
    "inp = ctu.make_inputs_t5(\n",
    "    mt_uskg.tokenizer,\n",
    "    enc_sentences=[enc_sentence],\n",
    "    dec_prompts=[dec_prompt],\n",
    "    answer=expect,\n",
    "    device=\"cuda:0\"\n",
    ")\n",
    "out = ctu.run_model_forward_uskg(mt_uskg.model, **inp)\n",
    "ans_logits = out[\"logits\"][0, -len(ans_toks):].detach().cpu()\n",
    "ans_probs = ans_logits.softmax(dim=-1).numpy()\n",
    "\n",
    "ans_top_5 = []\n",
    "for probs in ans_probs:\n",
    "    top_5 = sorted(list(enumerate(probs)), key=lambda p: -p[1])[:5]\n",
    "    ans_top_5.append(top_5)\n",
    "\n",
    "[[(mt_uskg.tokenizer.decode([p[0]]), p[1]) for p in top_5] for top_5 in ans_top_5]"
   ]
  },
  {
   "cell_type": "code",
   "execution_count": null,
   "metadata": {},
   "outputs": [],
   "source": [
    "result = ctu.calculate_hidden_flow_uskg(\n",
    "    mt_uskg,\n",
    "    enc_sentence=enc_sentence,\n",
    "    dec_prompt=dec_prompt,\n",
    "    subject=None,\n",
    "    replace=True,\n",
    "    expect=expect,\n",
    ")"
   ]
  },
  {
   "cell_type": "markdown",
   "metadata": {},
   "source": [
    "#### Sample 5 (ID = 97)\n",
    "- JOIN table\n",
    "- t5-base-p: wrong prediction\n",
    "- t5-large-p: also wrong prediction"
   ]
  },
  {
   "cell_type": "code",
   "execution_count": 26,
   "metadata": {},
   "outputs": [
    {
     "data": {
      "text/plain": [
       "('Find the model of the car whose weight is below the average weight.',\n",
       " '| car_1 | continents : contid , continent | countries : countryid , countryname , continent | car_makers : id , maker , fullname , country | model_list : modelid , maker , model | car_names : makeid , model , make | cars_data : id , mpg , cylinders , edispl , horsepower , weight , accelerate , year',\n",
       " 'select t1.model from car_names as t1 join cars_data as t2 on t1.makeid = t2.id where t2.weight < (select avg(weight) from cars_data)')"
      ]
     },
     "execution_count": 26,
     "metadata": {},
     "output_type": "execute_result"
    }
   ],
   "source": [
    "_id = 97\n",
    "ex = processed_spider_dev[_id]\n",
    "ex['question'], ex['struct_in'], ex['seq_out']"
   ]
  },
  {
   "cell_type": "code",
   "execution_count": 27,
   "metadata": {},
   "outputs": [
    {
     "data": {
      "text/plain": [
       "['cars', '_', 'data']"
      ]
     },
     "execution_count": 27,
     "metadata": {},
     "output_type": "execute_result"
    }
   ],
   "source": [
    "text_in = ex['text_in']\n",
    "struct_in = ex['struct_in']\n",
    "\n",
    "enc_sentence = f\"{text_in}; structed knowledge: {struct_in}\"\n",
    "dec_prompt = \"select t1.model from car_names as t1 join\"\n",
    "expect = \"cars_data\"\n",
    "\n",
    "ans_toks = decode_tokens(mt_uskg.tokenizer, mt_uskg.tokenizer.encode(expect, add_special_tokens=False))\n",
    "ans_toks"
   ]
  },
  {
   "cell_type": "code",
   "execution_count": 28,
   "metadata": {},
   "outputs": [
    {
     "data": {
      "text/plain": [
       "[[('model', 0.9760669),\n",
       "  ('car', 0.016085088),\n",
       "  ('cars', 0.0039663976),\n",
       "  ('models', 0.0038412896),\n",
       "  ('', 9.609355e-06)],\n",
       " [('_', 1.0),\n",
       "  ('-', 2.7060212e-08),\n",
       "  (\"'\", 1.5179106e-09),\n",
       "  ('\\xad', 6.841498e-10),\n",
       "  ('data', 6.186581e-10)],\n",
       " [('data', 0.99999964),\n",
       "  ('Data', 2.567518e-07),\n",
       "  ('DATA', 4.1680394e-08),\n",
       "  ('video', 1.4779907e-08),\n",
       "  ('daten', 5.5116405e-09)]]"
      ]
     },
     "execution_count": 28,
     "metadata": {},
     "output_type": "execute_result"
    }
   ],
   "source": [
    "inp = ctu.make_inputs_t5(\n",
    "    mt_uskg.tokenizer,\n",
    "    enc_sentences=[enc_sentence],\n",
    "    dec_prompts=[dec_prompt],\n",
    "    answer=expect,\n",
    "    device=\"cuda:0\"\n",
    ")\n",
    "out = ctu.run_model_forward_uskg(mt_uskg.model, **inp)\n",
    "ans_logits = out[\"logits\"][0, -len(ans_toks):].detach().cpu()\n",
    "ans_probs = ans_logits.softmax(dim=-1).numpy()\n",
    "\n",
    "ans_top_5 = []\n",
    "for probs in ans_probs:\n",
    "    top_5 = sorted(list(enumerate(probs)), key=lambda p: -p[1])[:5]\n",
    "    ans_top_5.append(top_5)\n",
    "\n",
    "[[(mt_uskg.tokenizer.decode([p[0]]), p[1]) for p in top_5] for top_5 in ans_top_5]"
   ]
  },
  {
   "cell_type": "markdown",
   "metadata": {},
   "source": [
    "#### Sample 6 (ID = 666)\n",
    "- SELECT column (exact match with \\_ )"
   ]
  },
  {
   "cell_type": "code",
   "execution_count": 73,
   "metadata": {},
   "outputs": [
    {
     "data": {
      "text/plain": [
       "('poker_player',\n",
       " 'Return the birth date of the poker player with the lowest earnings.',\n",
       " '| poker_player | poker_player : poker_player_id , people_id , final_table_made , best_finish , money_rank , earnings | people : people_id , nationality , name , birth_date , height',\n",
       " 'select t1.birth_date from people as t1 join poker_player as t2 on t1.people_id = t2.people_id order by t2.earnings asc limit 1')"
      ]
     },
     "execution_count": 73,
     "metadata": {},
     "output_type": "execute_result"
    }
   ],
   "source": [
    "_id = 666\n",
    "ex = processed_spider_dev[_id]\n",
    "ex['db_id'], ex['question'], ex['struct_in'], ex['seq_out']"
   ]
  },
  {
   "cell_type": "code",
   "execution_count": 45,
   "metadata": {},
   "outputs": [
    {
     "data": {
      "text/plain": [
       "['birth', '_', 'date']"
      ]
     },
     "execution_count": 45,
     "metadata": {},
     "output_type": "execute_result"
    }
   ],
   "source": [
    "text_in = ex['text_in']\n",
    "struct_in = ex['struct_in']\n",
    "\n",
    "enc_sentence = f\"{text_in}; structed knowledge: {struct_in}\"\n",
    "dec_prompt = \"select t1.\"\n",
    "expect = \"birth_date\"\n",
    "\n",
    "ans_toks = decode_tokens(mt_uskg.tokenizer, mt_uskg.tokenizer.encode(expect, add_special_tokens=False))\n",
    "ans_toks"
   ]
  },
  {
   "cell_type": "code",
   "execution_count": 52,
   "metadata": {},
   "outputs": [
    {
     "data": {
      "text/plain": [
       "[[('birth', 0.9999958),\n",
       "  ('born', 3.516807e-06),\n",
       "  ('b', 5.719771e-07),\n",
       "  ('bab', 4.4713634e-08),\n",
       "  ('life', 2.745312e-08)],\n",
       " [('_', 0.9999999),\n",
       "  ('-', 1.3111651e-07),\n",
       "  ('\\xad', 1.8326639e-10),\n",
       "  (\"'\", 3.599415e-11),\n",
       "  ('date', 2.546532e-11)],\n",
       " [('date', 0.99999607),\n",
       "  ('day', 3.6722647e-06),\n",
       "  ('dated', 7.673061e-08),\n",
       "  ('name', 4.8584365e-08),\n",
       "  ('year', 4.305469e-08)]]"
      ]
     },
     "execution_count": 52,
     "metadata": {},
     "output_type": "execute_result"
    }
   ],
   "source": [
    "inp = ctu.make_inputs_t5(\n",
    "    mt_uskg.tokenizer,\n",
    "    enc_sentences=[enc_sentence]*11,\n",
    "    dec_prompts=[dec_prompt]*11,\n",
    "    answer=expect,\n",
    ")\n",
    "out = ctu.run_model_forward_uskg(mt_uskg.model, **inp)\n",
    "ans_logits = out[\"logits\"][0, -len(ans_toks):].detach().cpu()\n",
    "ans_probs = ans_logits.softmax(dim=-1).numpy()\n",
    "\n",
    "ans_top_5 = []\n",
    "for probs in ans_probs:\n",
    "    top_5 = sorted(list(enumerate(probs)), key=lambda p: -p[1])[:5]\n",
    "    ans_top_5.append(top_5)\n",
    "\n",
    "[[(mt_uskg.tokenizer.decode([p[0]]), p[1]) for p in top_5] for top_5 in ans_top_5]"
   ]
  },
  {
   "cell_type": "code",
   "execution_count": 47,
   "metadata": {},
   "outputs": [
    {
     "data": {
      "application/vnd.jupyter.widget-view+json": {
       "model_id": "58b4caf6160c487fb9050962d5398bdf",
       "version_major": 2,
       "version_minor": 0
      },
      "text/plain": [
       "  0%|          | 0/85 [00:00<?, ?it/s]"
      ]
     },
     "metadata": {},
     "output_type": "display_data"
    }
   ],
   "source": [
    "# corruption analysis\n",
    "result = ctu.token_corruption_influence_uskg(\n",
    "    mt_uskg,\n",
    "    enc_sentence=enc_sentence,\n",
    "    dec_prompt=dec_prompt,\n",
    "    expect=expect,\n",
    "    replace=True,\n",
    ")"
   ]
  },
  {
   "cell_type": "code",
   "execution_count": 49,
   "metadata": {
    "scrolled": true
   },
   "outputs": [
    {
     "name": "stdout",
     "output_type": "stream",
     "text": [
      "0\tReturn\t-4.76837158203125e-07\n",
      "1\tthe\t-1.3113021850585938e-06\n",
      "2\tbirth\t-1.9669532775878906e-06\n",
      "3\tdate\t4.112720489501953e-06\n",
      "4\tof\t1.1920928955078125e-07\n",
      "5\tthe\t-2.980232238769531e-07\n",
      "6\tpoker\t-4.76837158203125e-07\n",
      "7\tplayer\t-1.7881393432617188e-07\n",
      "8\twith\t-6.556510925292969e-07\n",
      "9\tthe\t1.1920928955078125e-07\n",
      "10\tlowest\t0.0\n",
      "11\tearnings\t2.980232238769531e-07\n",
      "12\t.\t2.980232238769531e-07\n",
      "13\t;\t-1.7881393432617188e-07\n",
      "14\t\t-5.960464477539063e-08\n",
      "15\tstruct\t-1.7881393432617188e-07\n",
      "16\te\t-4.76837158203125e-07\n",
      "17\td\t-3.5762786865234375e-07\n",
      "18\tknowledge\t-4.76837158203125e-07\n",
      "19\t:\t-1.7881393432617188e-07\n",
      "20\t|\t-3.5762786865234375e-07\n",
      "21\tpoker\t0.0\n",
      "22\t_\t0.0\n",
      "23\tplayer\t-1.7881393432617188e-07\n",
      "24\t|\t-2.980232238769531e-07\n",
      "25\tpoker\t1.7881393432617188e-07\n",
      "26\t_\t4.76837158203125e-07\n",
      "27\tplayer\t-3.5762786865234375e-07\n",
      "28\t\t-2.980232238769531e-07\n",
      "29\t:\t-5.364418029785156e-07\n",
      "30\tpoker\t9.5367431640625e-07\n",
      "31\t_\t-3.5762786865234375e-07\n",
      "32\tplayer\t6.556510925292969e-07\n",
      "33\t_\t-3.5762786865234375e-07\n",
      "34\ti\t-4.76837158203125e-07\n",
      "35\td\t-3.5762786865234375e-07\n",
      "36\t\t-1.7881393432617188e-07\n",
      "37\t,\t1.7881393432617188e-07\n",
      "38\tpeople\t1.9073486328125e-06\n",
      "39\t_\t-5.960464477539063e-08\n",
      "40\ti\t4.76837158203125e-07\n",
      "41\td\t0.0\n",
      "42\t\t-5.960464477539063e-08\n",
      "43\t,\t-5.960464477539063e-08\n",
      "44\tfinal\t-2.980232238769531e-07\n",
      "45\t_\t-3.5762786865234375e-07\n",
      "46\ttable\t-3.5762786865234375e-07\n",
      "47\t_\t-4.76837158203125e-07\n",
      "48\tmade\t-3.5762786865234375e-07\n",
      "49\t\t-1.7881393432617188e-07\n",
      "50\t,\t-1.7881393432617188e-07\n",
      "51\tbest\t-1.7881393432617188e-07\n",
      "52\t_\t-4.76837158203125e-07\n",
      "53\tfinish\t-2.980232238769531e-07\n",
      "54\t\t-1.7881393432617188e-07\n",
      "55\t,\t-5.960464477539063e-08\n",
      "56\tmoney\t-5.960464477539063e-08\n",
      "57\t_\t-3.5762786865234375e-07\n",
      "58\trank\t-1.7881393432617188e-07\n",
      "59\t\t-2.980232238769531e-07\n",
      "60\t,\t-5.960464477539063e-08\n",
      "61\tearnings\t6.556510925292969e-07\n",
      "62\t|\t-1.0132789611816406e-06\n",
      "63\tpeople\t-1.3113021850585938e-06\n",
      "64\t\t-1.0132789611816406e-06\n",
      "65\t:\t-6.556510925292969e-07\n",
      "66\tpeople\t5.960464477539062e-07\n",
      "67\t_\t-7.748603820800781e-07\n",
      "68\ti\t0.0\n",
      "69\td\t1.1920928955078125e-07\n",
      "70\t\t-4.76837158203125e-07\n",
      "71\t,\t-5.364418029785156e-07\n",
      "72\tnational\t-4.76837158203125e-07\n",
      "73\tity\t-1.7881393432617188e-07\n",
      "74\t\t-4.76837158203125e-07\n",
      "75\t,\t-1.0132789611816406e-06\n",
      "76\tname\t9.5367431640625e-07\n",
      "77\t\t-6.556510925292969e-07\n",
      "78\t,\t0.06219959259033203\n",
      "*79*\tbirth\t0.5907706022262573\n",
      "*80*\t_\t0.49510109424591064\n",
      "*81*\tdate\t0.6682354211807251\n",
      "82\t\t1.2516975402832031e-06\n",
      "83\t,\t-2.980232238769531e-07\n",
      "84\theight\t-5.960464477539063e-08\n"
     ]
    }
   ],
   "source": [
    "# ID = 666\n",
    "\n",
    "l = []\n",
    "for i, d in enumerate(result):\n",
    "    if d['corrpt_drop'] > 0.1:\n",
    "        l.append(f'*{i}*\\t{d[\"corrpt_token\"]}\\t{d[\"corrpt_drop\"]}')\n",
    "    else:\n",
    "        l.append(f'{i}\\t{d[\"corrpt_token\"]}\\t{d[\"corrpt_drop\"]}')\n",
    "print('\\n'.join(l))"
   ]
  },
  {
   "cell_type": "code",
   "execution_count": 63,
   "metadata": {},
   "outputs": [
    {
     "data": {
      "text/plain": [
       "[3879, 834, 5522]"
      ]
     },
     "execution_count": 63,
     "metadata": {},
     "output_type": "execute_result"
    }
   ],
   "source": [
    "# NOTE: Shouldn't encode(answer)!\n",
    "\n",
    "mt_uskg.tokenizer.encode(expect, add_special_tokens=False)"
   ]
  },
  {
   "cell_type": "code",
   "execution_count": 65,
   "metadata": {},
   "outputs": [
    {
     "data": {
      "text/plain": [
       "tensor([20663,   834,  5522], device='cuda:0')"
      ]
     },
     "execution_count": 65,
     "metadata": {},
     "output_type": "execute_result"
    }
   ],
   "source": [
    "with torch.no_grad():\n",
    "    answers_t, base_score = [d[0] for d in ctu.predict_from_input_uskg_multi_token(mt_uskg.model, inp, pred_len=len(ans_toks))]\n",
    "answers_t"
   ]
  },
  {
   "cell_type": "code",
   "execution_count": 61,
   "metadata": {},
   "outputs": [
    {
     "data": {
      "text/plain": [
       "['birth', '_', 'date']"
      ]
     },
     "execution_count": 61,
     "metadata": {},
     "output_type": "execute_result"
    }
   ],
   "source": [
    "ctu.decode_tokens(mt_uskg.tokenizer, answers_t)"
   ]
  },
  {
   "cell_type": "code",
   "execution_count": 64,
   "metadata": {},
   "outputs": [
    {
     "data": {
      "text/plain": [
       "[tensor(1.0000, device='cuda:0'),\n",
       " tensor(1.0000, device='cuda:0'),\n",
       " tensor(1.0000, device='cuda:0')]"
      ]
     },
     "execution_count": 64,
     "metadata": {},
     "output_type": "execute_result"
    }
   ],
   "source": [
    "# e_range = (129, 132)\n",
    "# e_range = [8, 13, 131]\n",
    "# e_range = list(range(2, 3))\n",
    "e_range=None\n",
    "\n",
    "r = ctu.trace_with_patch_uskg_multi_token(\n",
    "    mt_uskg.model,\n",
    "    inp=inp,\n",
    "    states_to_patch=[], \n",
    "    answers_t=answers_t, \n",
    "    tokens_to_mix=e_range,\n",
    "    tokens_to_mix_individual_indices=True,\n",
    "    replace=True,\n",
    ")\n",
    "\n",
    "r"
   ]
  },
  {
   "cell_type": "code",
   "execution_count": null,
   "metadata": {},
   "outputs": [],
   "source": []
  },
  {
   "cell_type": "markdown",
   "metadata": {},
   "source": [
    "### Exp-1: column/table corruption"
   ]
  },
  {
   "cell_type": "markdown",
   "metadata": {},
   "source": [
    "#### Impl on a sample"
   ]
  },
  {
   "cell_type": "code",
   "execution_count": 140,
   "metadata": {},
   "outputs": [
    {
     "data": {
      "text/plain": [
       "('What is the average, minimum, and maximum age of all singers from France?',\n",
       " '| concert_singer | stadium : stadium_id , location , name , capacity , highest , lowest , average | singer : singer_id , name , country ( France ) , song_name , song_release_year , age , is_male | concert : concert_id , concert_name , theme , stadium_id , year | singer_in_concert : concert_id , singer_id',\n",
       " \"select avg(age), min(age), max(age) from singer where country = 'France'\")"
      ]
     },
     "execution_count": 140,
     "metadata": {},
     "output_type": "execute_result"
    }
   ],
   "source": [
    "_id = 4\n",
    "ex = processed_spider_dev[_id]\n",
    "ex['question'], ex['struct_in'], ex['seq_out']"
   ]
  },
  {
   "cell_type": "code",
   "execution_count": 141,
   "metadata": {},
   "outputs": [
    {
     "data": {
      "text/plain": [
       "{'input_ids': [363, 19, 8, 1348, 6, 2559, 6, 11, 2411, 1246, 13, 66, 7634, 7, 45, 1410, 58, 117, 3, 7593, 15, 26, 1103, 10, 1820, 4219, 834, 7, 9963, 1820, 14939, 3, 10, 14939, 834, 23, 26, 3, 6, 1128, 3, 6, 564, 3, 6, 2614, 3, 6, 2030, 3, 6, 7402, 3, 6, 1348, 1820, 7634, 3, 10, 7634, 834, 23, 26, 3, 6, 564, 3, 6, 684, 41, 1410, 3, 61, 3, 6, 2324, 834, 4350, 3, 6, 2324, 834, 21019, 834, 1201, 3, 6, 1246, 3, 6, 19, 834, 13513, 1820, 4219, 3, 10, 4219, 834, 23, 26, 3, 6, 4219, 834, 4350, 3, 6, 3800, 3, 6, 14939, 834, 23, 26, 3, 6, 215, 1820, 7634, 834, 77, 834, 11620, 52, 17, 3, 10, 4219, 834, 23, 26, 3, 6, 7634, 834, 23, 26, 1], 'attention_mask': [1, 1, 1, 1, 1, 1, 1, 1, 1, 1, 1, 1, 1, 1, 1, 1, 1, 1, 1, 1, 1, 1, 1, 1, 1, 1, 1, 1, 1, 1, 1, 1, 1, 1, 1, 1, 1, 1, 1, 1, 1, 1, 1, 1, 1, 1, 1, 1, 1, 1, 1, 1, 1, 1, 1, 1, 1, 1, 1, 1, 1, 1, 1, 1, 1, 1, 1, 1, 1, 1, 1, 1, 1, 1, 1, 1, 1, 1, 1, 1, 1, 1, 1, 1, 1, 1, 1, 1, 1, 1, 1, 1, 1, 1, 1, 1, 1, 1, 1, 1, 1, 1, 1, 1, 1, 1, 1, 1, 1, 1, 1, 1, 1, 1, 1, 1, 1, 1, 1, 1, 1, 1, 1, 1, 1, 1, 1, 1, 1, 1, 1, 1, 1, 1, 1, 1, 1, 1, 1]}"
      ]
     },
     "execution_count": 141,
     "metadata": {},
     "output_type": "execute_result"
    }
   ],
   "source": [
    "text_in = ex['text_in']\n",
    "struct_in = ex['struct_in']\n",
    "\n",
    "enc_sentence = f\"{text_in}; structed knowledge: {struct_in}\"\n",
    "enc_tokenized = mt_uskg.tokenizer(enc_sentence)\n",
    "enc_tokenized"
   ]
  },
  {
   "cell_type": "code",
   "execution_count": 142,
   "metadata": {},
   "outputs": [
    {
     "data": {
      "text/plain": [
       "'What is the average, minimum, and maximum age of all singers from France?; structed knowledge: | concert_singer | stadium : stadium_id, location, name, capacity, highest, lowest, average | singer : singer_id, name, country ( France ), song_name, song_release_year, age, is_male | concert : concert_id, concert_name, theme, stadium_id, year | singer_in_concert : concert_id, singer_id</s>'"
      ]
     },
     "execution_count": 142,
     "metadata": {},
     "output_type": "execute_result"
    }
   ],
   "source": [
    "ctu.decode_sentences(mt_uskg.tokenizer, enc_tokenized['input_ids'])"
   ]
  },
  {
   "cell_type": "code",
   "execution_count": 159,
   "metadata": {},
   "outputs": [],
   "source": [
    "token_ranges_dict = ctu.find_struct_name_ranges(mt_uskg.tokenizer, enc_tokenized['input_ids'], struct_in)"
   ]
  },
  {
   "cell_type": "code",
   "execution_count": 160,
   "metadata": {},
   "outputs": [
    {
     "data": {
      "text/plain": [
       "{'db_id_ranges': defaultdict(list, {'concert_singer': [(25, 29)]}),\n",
       " 'table_name_ranges': defaultdict(list,\n",
       "             {'stadium': [(30, 31)],\n",
       "              'singer': [(56, 57)],\n",
       "              'concert': [(94, 95)],\n",
       "              'singer_in_concert': [(119, 126)]}),\n",
       " 'col_name_ranges': defaultdict(list,\n",
       "             {'stadium_id': [(33, 37), (111, 115)],\n",
       "              'location': [(39, 40)],\n",
       "              'name': [(42, 43), (65, 66)],\n",
       "              'capacity': [(45, 46)],\n",
       "              'highest': [(48, 49)],\n",
       "              'lowest': [(51, 52)],\n",
       "              'average': [(54, 55)],\n",
       "              'singer_id': [(59, 63), (134, 138)],\n",
       "              'country': [(68, 73)],\n",
       "              'song_name': [(75, 78)],\n",
       "              'song_release_year': [(80, 85)],\n",
       "              'age': [(87, 88)],\n",
       "              'is_male': [(90, 93)],\n",
       "              'concert_id': [(97, 101), (128, 132)],\n",
       "              'concert_name': [(103, 106)],\n",
       "              'theme': [(108, 109)],\n",
       "              'year': [(117, 118)]}),\n",
       " 'val_name_ranges': defaultdict(list, {'France': [(70, 71)]})}"
      ]
     },
     "execution_count": 160,
     "metadata": {},
     "output_type": "execute_result"
    }
   ],
   "source": [
    "token_ranges_dict"
   ]
  },
  {
   "cell_type": "code",
   "execution_count": 162,
   "metadata": {},
   "outputs": [
    {
     "name": "stdout",
     "output_type": "stream",
     "text": [
      "['select', 'avg', '(', 'age', ')', ',', 'min', '(', 'age', ')', ',', 'max', '(', 'age', ')', 'from', 'singer', 'where', 'country', '=', \"'\", 'France', \"'\"]\n"
     ]
    }
   ],
   "source": [
    "sql_tokens = ctu.separate_punct(ex['seq_out']).split(' ')\n",
    "print(sql_tokens)"
   ]
  },
  {
   "cell_type": "code",
   "execution_count": 163,
   "metadata": {},
   "outputs": [
    {
     "data": {
      "text/plain": [
       "{'age', 'country'}"
      ]
     },
     "execution_count": 163,
     "metadata": {},
     "output_type": "execute_result"
    }
   ],
   "source": [
    "# columns\n",
    "\n",
    "col_name_ranges = token_ranges_dict['col_name_ranges']\n",
    "\n",
    "sql_cols = set()\n",
    "for t in sql_tokens:\n",
    "    if t in col_name_ranges:\n",
    "        sql_cols.add(t)\n",
    "sql_cols"
   ]
  },
  {
   "cell_type": "code",
   "execution_count": 164,
   "metadata": {},
   "outputs": [],
   "source": [
    "def make_dec_prompt(dec_target, subject):\n",
    "    dec_target = ' ' + dec_target + ' '  # to avoid the matching problems at the ends \n",
    "    m = re.search(fr'\\W({subject})\\W', dec_target)\n",
    "    assert m is not None\n",
    "    s, e = m.span(1)\n",
    "    prompt = dec_target[:s].strip()\n",
    "    return prompt"
   ]
  },
  {
   "cell_type": "code",
   "execution_count": 166,
   "metadata": {},
   "outputs": [
    {
     "data": {
      "text/plain": [
       "'select avg(age), min(age), max(age) from singer where'"
      ]
     },
     "execution_count": 166,
     "metadata": {},
     "output_type": "execute_result"
    }
   ],
   "source": [
    "make_dec_prompt(ex['seq_out'], 'country')"
   ]
  },
  {
   "cell_type": "code",
   "execution_count": 167,
   "metadata": {},
   "outputs": [
    {
     "data": {
      "text/plain": [
       "('select avg(age), min(age), max(age) from singer where', [68, 69, 70, 71, 72])"
      ]
     },
     "execution_count": 167,
     "metadata": {},
     "output_type": "execute_result"
    }
   ],
   "source": [
    "# for col in sql_cols:\n",
    "col = 'country'\n",
    "tok_ranges = col_name_ranges[col]\n",
    "tok_indices = [i for s, e in tok_ranges for i in range(s, e)]\n",
    "\n",
    "dec_prompt = make_dec_prompt(ex['seq_out'], col)\n",
    "\n",
    "dec_prompt, tok_indices"
   ]
  },
  {
   "cell_type": "code",
   "execution_count": 183,
   "metadata": {},
   "outputs": [
    {
     "name": "stdout",
     "output_type": "stream",
     "text": [
      "calculate_hidden_flow_uskg(): corrupted input: *What *is *the *average *, *minimum *, *and *maximum *age *of *all *singer *s *from *France *? *; * *struct *e *d *knowledge *: *| *concert *_ *s *inger *| *stadium * *: *stadium *_ *i *d * *, *location * *, *name * *, *capacity * *, *highest * *, *lowest * *, *average *| *singer * *: *singer *_ *i *d * *, *name * *, *country *( *France * *) * *, *song *_ *name * *, *song *_ *release *_ *year * *, *age * *, *is *_ *male *| *concert * *: *concert *_ *i *d * *, *concert *_ *name * *, *theme * *, *stadium *_ *i *d * *, *year *| *singer *_ *in *_ *conce *r *t * *: *concert *_ *i *d * *, *singer *_ *i *d *</s>\n"
     ]
    },
    {
     "data": {
      "application/vnd.jupyter.widget-view+json": {
       "model_id": "8f78c7b2f5504471bec1973a99bd5e87",
       "version_major": 2,
       "version_minor": 0
      },
      "text/plain": [
       "trace_important_states_uskg.encoder:   0%|          | 0/139 [00:00<?, ?it/s]"
      ]
     },
     "metadata": {},
     "output_type": "display_data"
    },
    {
     "data": {
      "application/vnd.jupyter.widget-view+json": {
       "model_id": "2c432bffd1a14fb396ad1877d09e2bcb",
       "version_major": 2,
       "version_minor": 0
      },
      "text/plain": [
       "trace_important_states_uskg.decoder:   0%|          | 0/20 [00:00<?, ?it/s]"
      ]
     },
     "metadata": {},
     "output_type": "display_data"
    }
   ],
   "source": [
    "result = ctu.calculate_hidden_flow_uskg(\n",
    "    mt_uskg,\n",
    "    enc_sentence=enc_sentence,\n",
    "    dec_prompt=dec_prompt,\n",
    "    expect=col,\n",
    "#     e_range=tok_indices,\n",
    "    tokens_to_mix_individual_indices=True,\n",
    "    replace=True,\n",
    ")"
   ]
  },
  {
   "cell_type": "code",
   "execution_count": 184,
   "metadata": {
    "scrolled": true
   },
   "outputs": [
    {
     "name": "stdout",
     "output_type": "stream",
     "text": [
      "{'low_score': 3.155492549922201e-06, 'high_score': 0.9999995231628418, 'input_ids': [363, 19, 8, 1348, 6, 2559, 6, 11, 2411, 1246, 13, 66, 7634, 7, 45, 1410, 58, 117, 3, 7593, 15, 26, 1103, 10, 1820, 4219, 834, 7, 9963, 1820, 14939, 3, 10, 14939, 834, 23, 26, 3, 6, 1128, 3, 6, 564, 3, 6, 2614, 3, 6, 2030, 3, 6, 7402, 3, 6, 1348, 1820, 7634, 3, 10, 7634, 834, 23, 26, 3, 6, 564, 3, 6, 684, 41, 1410, 3, 61, 3, 6, 2324, 834, 4350, 3, 6, 2324, 834, 21019, 834, 1201, 3, 6, 1246, 3, 6, 19, 834, 13513, 1820, 4219, 3, 10, 4219, 834, 23, 26, 3, 6, 4219, 834, 4350, 3, 6, 3800, 3, 6, 14939, 834, 23, 26, 3, 6, 215, 1820, 7634, 834, 77, 834, 11620, 52, 17, 3, 10, 4219, 834, 23, 26, 3, 6, 7634, 834, 23, 26, 1], 'input_tokens': ['What', 'is', 'the', 'average', ',', 'minimum', ',', 'and', 'maximum', 'age', 'of', 'all', 'singer', 's', 'from', 'France', '?', ';', '', 'struct', 'e', 'd', 'knowledge', ':', '|', 'concert', '_', 's', 'inger', '|', 'stadium', '', ':', 'stadium', '_', 'i', 'd', '', ',', 'location', '', ',', 'name', '', ',', 'capacity', '', ',', 'highest', '', ',', 'lowest', '', ',', 'average', '|', 'singer', '', ':', 'singer', '_', 'i', 'd', '', ',', 'name', '', ',', 'country', '(', 'France', '', ')', '', ',', 'song', '_', 'name', '', ',', 'song', '_', 'release', '_', 'year', '', ',', 'age', '', ',', 'is', '_', 'male', '|', 'concert', '', ':', 'concert', '_', 'i', 'd', '', ',', 'concert', '_', 'name', '', ',', 'theme', '', ',', 'stadium', '_', 'i', 'd', '', ',', 'year', '|', 'singer', '_', 'in', '_', 'conce', 'r', 't', '', ':', 'concert', '_', 'i', 'd', '', ',', 'singer', '_', 'i', 'd', '</s>'], 'dec_input_ids': [0, 1738, 3, 9, 208, 122, 599, 545, 201, 3519, 599, 545, 201, 9858, 599, 545, 61, 45, 7634, 213], 'dec_input_tokens': ['<pad>', 'select', '', 'a', 'v', 'g', '(', 'age', '),', 'min', '(', 'age', '),', 'max', '(', 'age', ')', 'from', 'singer', 'where'], 'subject_range': [0, 1, 2, 3, 4, 5, 6, 7, 8, 9, 10, 11, 12, 13, 14, 15, 16, 17, 18, 19, 20, 21, 22, 23, 24, 25, 26, 27, 28, 29, 30, 31, 32, 33, 34, 35, 36, 37, 38, 39, 40, 41, 42, 43, 44, 45, 46, 47, 48, 49, 50, 51, 52, 53, 54, 55, 56, 57, 58, 59, 60, 61, 62, 63, 64, 65, 66, 67, 68, 69, 70, 71, 72, 73, 74, 75, 76, 77, 78, 79, 80, 81, 82, 83, 84, 85, 86, 87, 88, 89, 90, 91, 92, 93, 94, 95, 96, 97, 98, 99, 100, 101, 102, 103, 104, 105, 106, 107, 108, 109, 110, 111, 112, 113, 114, 115, 116, 117, 118, 119, 120, 121, 122, 123, 124, 125, 126, 127, 128, 129, 130, 131, 132, 133, 134, 135, 136, 137, 138], 'subject_range_individual_indices': True, 'answer': 'country', 'window': 10, 'correct_prediction': True, 'kind': '', 'scores': ([[3.577892812245409e-06], [5.049522314948263e-06], [3.5250448036094895e-06], [2.724787236729753e-06], [3.194250666638254e-06], [2.7510072868608404e-06], [2.9743448521912796e-06], [3.338161832289188e-06], [3.269118451498798e-06], [3.324851149955066e-06], [3.819440735242097e-06], [3.1062656944413902e-06], [3.4956822219101014e-06], [2.9355348942772252e-06], [2.740964873737539e-06], [5.682804840034805e-06], [1.3389635569183156e-06], [3.530507456162013e-06], [2.9170919333409984e-06], [3.0740186502953293e-06], [3.0710907594766468e-06], [2.8962901978957234e-06], [3.461453843556228e-06], [8.596917723480146e-06], [3.156106686219573e-06], [3.783414058489143e-06], [3.3926862670341507e-06], [2.9148861813155236e-06], [3.0992152915132465e-06], [1.4679394553240854e-05], [3.455346131886472e-06], [3.462120730546303e-06], [3.4172085179307032e-06], [3.6071564863959793e-06], [2.9211641958681867e-06], [3.1626125291950302e-06], [3.09947358800855e-06], [3.0158614663378103e-06], [2.9733771498285932e-06], [3.231386017432669e-06], [3.319462848594412e-06], [2.809307943607564e-06], [3.036014732060721e-06], [1.8156166561311693e-06], [2.878568693631678e-06], [3.427217279750039e-06], [3.3686901588225737e-06], [2.878607119782828e-06], [2.984865432154038e-06], [5.068140580988256e-06], [2.936085138571798e-06], [2.786768163787201e-06], [4.114214334549615e-06], [3.7603949749609455e-06], [2.9135831027815584e-06], [3.770076318687643e-06], [2.6930301828542724e-06], [4.229404567013262e-06], [3.062628593397676e-06], [2.8977974579902366e-06], [3.0770331704843557e-06], [3.3470453217887552e-06], [3.192240683347336e-06], [2.7591490834311116e-06], [2.908859869421576e-06], [3.1626173040422145e-06], [4.118968263355782e-06], [2.687754431462963e-06], [8.031097422644962e-06], [2.8838758225901984e-06], [4.231790171616012e-06], [3.6586632177204592e-06], [2.37107633438427e-06], [3.988880962424446e-06], [2.8263038984732702e-06], [2.9524715046136407e-06], [2.9961120162624866e-06], [3.0774706374359084e-06], [4.496458132052794e-06], [3.3394778711226536e-06], [2.8983217816858087e-06], [3.450473741395399e-06], [2.97519909508992e-06], [3.592653001760482e-06], [3.164996769555728e-06], [3.667918008432025e-06], [1.3140112287146621e-06], [1.6878569795153453e-06], [3.701531113620149e-06], [1.3104180425216327e-06], [3.120140945611638e-06], [3.0080882424954325e-06], [3.1517556635662913e-06], [7.069037565088365e-06], [3.3495045954623492e-06], [5.637742560793413e-06], [2.9914704100519884e-06], [4.078306119481567e-06], [2.889754568968783e-06], [3.237103101128014e-06], [3.0081862405495485e-06], [5.984011295367964e-06], [3.5617765661299927e-06], [3.319129291412537e-06], [3.0500368666253053e-06], [4.2590372686390765e-06], [4.231489583617076e-06], [3.2344066767109325e-06], [3.1563511129206745e-06], [3.5911682516598376e-06], [3.065566488658078e-06], [3.3840344713098602e-06], [3.1330480396718485e-06], [3.146782546536997e-06], [2.962115786431241e-06], [4.4593430175154936e-06], [3.088726998612401e-06], [3.29302997670311e-06], [2.749992290773662e-06], [2.4988669338199543e-06], [3.473417336863349e-06], [3.269627768531791e-06], [3.1044776278577046e-06], [3.2900200039875926e-06], [3.1387037324748235e-06], [5.735930699302116e-06], [3.651228780654492e-06], [8.469424756185617e-06], [3.433835900068516e-06], [3.1558622595184715e-06], [3.1362978916149586e-06], [3.1066920200828463e-06], [3.605695383157581e-06], [4.422805432113819e-06], [2.2411643385567004e-06], [2.956075832116767e-06], [3.172771585013834e-06], [4.451623226486845e-06], [4.279266795492731e-05]], [[3.2739906146161957e-06], [3.1332808703155024e-06], [3.155633748974651e-06], [3.0988514936325373e-06], [3.051115072594257e-06], [3.154915020786575e-06], [3.1106053484108998e-06], [3.158231947963941e-06], [3.1632862373953685e-06], [2.8267027118999977e-06], [3.327864533275715e-06], [3.1002914511191193e-06], [3.265368377469713e-06], [3.0322296424856177e-06], [3.451383236097172e-06], [3.409033297430142e-06], [2.9060436190775363e-06], [3.188233677065e-06], [1.985418521144311e-06], [6.660101917077554e-06]]), 'is_good_sample': True}\n"
     ]
    }
   ],
   "source": [
    "print(result)"
   ]
  },
  {
   "cell_type": "code",
   "execution_count": 185,
   "metadata": {
    "scrolled": true
   },
   "outputs": [
    {
     "data": {
      "text/plain": [
       "'{\"low_score\": 3.155492549922201e-06, \"high_score\": 0.9999995231628418, \"input_ids\": [363, 19, 8, 1348, 6, 2559, 6, 11, 2411, 1246, 13, 66, 7634, 7, 45, 1410, 58, 117, 3, 7593, 15, 26, 1103, 10, 1820, 4219, 834, 7, 9963, 1820, 14939, 3, 10, 14939, 834, 23, 26, 3, 6, 1128, 3, 6, 564, 3, 6, 2614, 3, 6, 2030, 3, 6, 7402, 3, 6, 1348, 1820, 7634, 3, 10, 7634, 834, 23, 26, 3, 6, 564, 3, 6, 684, 41, 1410, 3, 61, 3, 6, 2324, 834, 4350, 3, 6, 2324, 834, 21019, 834, 1201, 3, 6, 1246, 3, 6, 19, 834, 13513, 1820, 4219, 3, 10, 4219, 834, 23, 26, 3, 6, 4219, 834, 4350, 3, 6, 3800, 3, 6, 14939, 834, 23, 26, 3, 6, 215, 1820, 7634, 834, 77, 834, 11620, 52, 17, 3, 10, 4219, 834, 23, 26, 3, 6, 7634, 834, 23, 26, 1], \"input_tokens\": [\"What\", \"is\", \"the\", \"average\", \",\", \"minimum\", \",\", \"and\", \"maximum\", \"age\", \"of\", \"all\", \"singer\", \"s\", \"from\", \"France\", \"?\", \";\", \"\", \"struct\", \"e\", \"d\", \"knowledge\", \":\", \"|\", \"concert\", \"_\", \"s\", \"inger\", \"|\", \"stadium\", \"\", \":\", \"stadium\", \"_\", \"i\", \"d\", \"\", \",\", \"location\", \"\", \",\", \"name\", \"\", \",\", \"capacity\", \"\", \",\", \"highest\", \"\", \",\", \"lowest\", \"\", \",\", \"average\", \"|\", \"singer\", \"\", \":\", \"singer\", \"_\", \"i\", \"d\", \"\", \",\", \"name\", \"\", \",\", \"country\", \"(\", \"France\", \"\", \")\", \"\", \",\", \"song\", \"_\", \"name\", \"\", \",\", \"song\", \"_\", \"release\", \"_\", \"year\", \"\", \",\", \"age\", \"\", \",\", \"is\", \"_\", \"male\", \"|\", \"concert\", \"\", \":\", \"concert\", \"_\", \"i\", \"d\", \"\", \",\", \"concert\", \"_\", \"name\", \"\", \",\", \"theme\", \"\", \",\", \"stadium\", \"_\", \"i\", \"d\", \"\", \",\", \"year\", \"|\", \"singer\", \"_\", \"in\", \"_\", \"conce\", \"r\", \"t\", \"\", \":\", \"concert\", \"_\", \"i\", \"d\", \"\", \",\", \"singer\", \"_\", \"i\", \"d\", \"</s>\"], \"dec_input_ids\": [0, 1738, 3, 9, 208, 122, 599, 545, 201, 3519, 599, 545, 201, 9858, 599, 545, 61, 45, 7634, 213], \"dec_input_tokens\": [\"<pad>\", \"select\", \"\", \"a\", \"v\", \"g\", \"(\", \"age\", \"),\", \"min\", \"(\", \"age\", \"),\", \"max\", \"(\", \"age\", \")\", \"from\", \"singer\", \"where\"], \"subject_range\": [0, 1, 2, 3, 4, 5, 6, 7, 8, 9, 10, 11, 12, 13, 14, 15, 16, 17, 18, 19, 20, 21, 22, 23, 24, 25, 26, 27, 28, 29, 30, 31, 32, 33, 34, 35, 36, 37, 38, 39, 40, 41, 42, 43, 44, 45, 46, 47, 48, 49, 50, 51, 52, 53, 54, 55, 56, 57, 58, 59, 60, 61, 62, 63, 64, 65, 66, 67, 68, 69, 70, 71, 72, 73, 74, 75, 76, 77, 78, 79, 80, 81, 82, 83, 84, 85, 86, 87, 88, 89, 90, 91, 92, 93, 94, 95, 96, 97, 98, 99, 100, 101, 102, 103, 104, 105, 106, 107, 108, 109, 110, 111, 112, 113, 114, 115, 116, 117, 118, 119, 120, 121, 122, 123, 124, 125, 126, 127, 128, 129, 130, 131, 132, 133, 134, 135, 136, 137, 138], \"subject_range_individual_indices\": true, \"answer\": \"country\", \"window\": 10, \"correct_prediction\": true, \"kind\": \"\", \"scores\": [[[3.577892812245409e-06], [5.049522314948263e-06], [3.5250448036094895e-06], [2.724787236729753e-06], [3.194250666638254e-06], [2.7510072868608404e-06], [2.9743448521912796e-06], [3.338161832289188e-06], [3.269118451498798e-06], [3.324851149955066e-06], [3.819440735242097e-06], [3.1062656944413902e-06], [3.4956822219101014e-06], [2.9355348942772252e-06], [2.740964873737539e-06], [5.682804840034805e-06], [1.3389635569183156e-06], [3.530507456162013e-06], [2.9170919333409984e-06], [3.0740186502953293e-06], [3.0710907594766468e-06], [2.8962901978957234e-06], [3.461453843556228e-06], [8.596917723480146e-06], [3.156106686219573e-06], [3.783414058489143e-06], [3.3926862670341507e-06], [2.9148861813155236e-06], [3.0992152915132465e-06], [1.4679394553240854e-05], [3.455346131886472e-06], [3.462120730546303e-06], [3.4172085179307032e-06], [3.6071564863959793e-06], [2.9211641958681867e-06], [3.1626125291950302e-06], [3.09947358800855e-06], [3.0158614663378103e-06], [2.9733771498285932e-06], [3.231386017432669e-06], [3.319462848594412e-06], [2.809307943607564e-06], [3.036014732060721e-06], [1.8156166561311693e-06], [2.878568693631678e-06], [3.427217279750039e-06], [3.3686901588225737e-06], [2.878607119782828e-06], [2.984865432154038e-06], [5.068140580988256e-06], [2.936085138571798e-06], [2.786768163787201e-06], [4.114214334549615e-06], [3.7603949749609455e-06], [2.9135831027815584e-06], [3.770076318687643e-06], [2.6930301828542724e-06], [4.229404567013262e-06], [3.062628593397676e-06], [2.8977974579902366e-06], [3.0770331704843557e-06], [3.3470453217887552e-06], [3.192240683347336e-06], [2.7591490834311116e-06], [2.908859869421576e-06], [3.1626173040422145e-06], [4.118968263355782e-06], [2.687754431462963e-06], [8.031097422644962e-06], [2.8838758225901984e-06], [4.231790171616012e-06], [3.6586632177204592e-06], [2.37107633438427e-06], [3.988880962424446e-06], [2.8263038984732702e-06], [2.9524715046136407e-06], [2.9961120162624866e-06], [3.0774706374359084e-06], [4.496458132052794e-06], [3.3394778711226536e-06], [2.8983217816858087e-06], [3.450473741395399e-06], [2.97519909508992e-06], [3.592653001760482e-06], [3.164996769555728e-06], [3.667918008432025e-06], [1.3140112287146621e-06], [1.6878569795153453e-06], [3.701531113620149e-06], [1.3104180425216327e-06], [3.120140945611638e-06], [3.0080882424954325e-06], [3.1517556635662913e-06], [7.069037565088365e-06], [3.3495045954623492e-06], [5.637742560793413e-06], [2.9914704100519884e-06], [4.078306119481567e-06], [2.889754568968783e-06], [3.237103101128014e-06], [3.0081862405495485e-06], [5.984011295367964e-06], [3.5617765661299927e-06], [3.319129291412537e-06], [3.0500368666253053e-06], [4.2590372686390765e-06], [4.231489583617076e-06], [3.2344066767109325e-06], [3.1563511129206745e-06], [3.5911682516598376e-06], [3.065566488658078e-06], [3.3840344713098602e-06], [3.1330480396718485e-06], [3.146782546536997e-06], [2.962115786431241e-06], [4.4593430175154936e-06], [3.088726998612401e-06], [3.29302997670311e-06], [2.749992290773662e-06], [2.4988669338199543e-06], [3.473417336863349e-06], [3.269627768531791e-06], [3.1044776278577046e-06], [3.2900200039875926e-06], [3.1387037324748235e-06], [5.735930699302116e-06], [3.651228780654492e-06], [8.469424756185617e-06], [3.433835900068516e-06], [3.1558622595184715e-06], [3.1362978916149586e-06], [3.1066920200828463e-06], [3.605695383157581e-06], [4.422805432113819e-06], [2.2411643385567004e-06], [2.956075832116767e-06], [3.172771585013834e-06], [4.451623226486845e-06], [4.279266795492731e-05]], [[3.2739906146161957e-06], [3.1332808703155024e-06], [3.155633748974651e-06], [3.0988514936325373e-06], [3.051115072594257e-06], [3.154915020786575e-06], [3.1106053484108998e-06], [3.158231947963941e-06], [3.1632862373953685e-06], [2.8267027118999977e-06], [3.327864533275715e-06], [3.1002914511191193e-06], [3.265368377469713e-06], [3.0322296424856177e-06], [3.451383236097172e-06], [3.409033297430142e-06], [2.9060436190775363e-06], [3.188233677065e-06], [1.985418521144311e-06], [6.660101917077554e-06]]], \"is_good_sample\": true}'"
      ]
     },
     "execution_count": 185,
     "metadata": {},
     "output_type": "execute_result"
    }
   ],
   "source": [
    "json.dumps(result)"
   ]
  },
  {
   "cell_type": "code",
   "execution_count": 186,
   "metadata": {},
   "outputs": [
    {
     "data": {
      "text/plain": [
       "dict_keys(['low_score', 'high_score', 'input_ids', 'input_tokens', 'dec_input_ids', 'dec_input_tokens', 'subject_range', 'subject_range_individual_indices', 'answer', 'window', 'correct_prediction', 'kind', 'scores', 'is_good_sample'])"
      ]
     },
     "execution_count": 186,
     "metadata": {},
     "output_type": "execute_result"
    }
   ],
   "source": [
    "result.keys()"
   ]
  },
  {
   "cell_type": "markdown",
   "metadata": {},
   "source": [
    "#### Make a func "
   ]
  },
  {
   "cell_type": "code",
   "execution_count": 191,
   "metadata": {},
   "outputs": [
    {
     "name": "stdout",
     "output_type": "stream",
     "text": [
      "calculate_hidden_flow_uskg(): corrupted input: What is the average , minimum , and maximum age of all singer s from France ? ;  struct e d knowledge : | concert _ s inger | stadium  : stadium _ i d  , location  , name  , capacity  , highest  , lowest  , average | singer  : singer _ i d  , name  , *country *( *France * *)  , song _ name  , song _ release _ year  , age  , is _ male | concert  : concert _ i d  , concert _ name  , theme  , stadium _ i d  , year | singer _ in _ conce r t  : concert _ i d  , singer _ i d </s>\n",
      "calculate_hidden_flow_uskg(): corrupted input: What is the average , minimum , and maximum age of all singer s from France ? ;  struct e d knowledge : | concert _ s inger | stadium  : stadium _ i d  , location  , name  , capacity  , highest  , lowest  , average | singer  : singer _ i d  , name  , country ( France  )  , song _ name  , song _ release _ year  , *age  , is _ male | concert  : concert _ i d  , concert _ name  , theme  , stadium _ i d  , year | singer _ in _ conce r t  : concert _ i d  , singer _ i d </s>\n"
     ]
    }
   ],
   "source": [
    "result = ctu.trace_struct_restore(\n",
    "    mt=mt_uskg,\n",
    "    ex=processed_spider_dev[4],\n",
    "    subject_type='column',\n",
    "    replace=True\n",
    ")"
   ]
  },
  {
   "cell_type": "code",
   "execution_count": 193,
   "metadata": {
    "scrolled": true
   },
   "outputs": [
    {
     "name": "stdout",
     "output_type": "stream",
     "text": [
      "{'low_score': 0.8780713081359863, 'high_score': 0.9999995231628418, 'input_ids': [363, 19, 8, 1348, 6, 2559, 6, 11, 2411, 1246, 13, 66, 7634, 7, 45, 1410, 58, 117, 3, 7593, 15, 26, 1103, 10, 1820, 4219, 834, 7, 9963, 1820, 14939, 3, 10, 14939, 834, 23, 26, 3, 6, 1128, 3, 6, 564, 3, 6, 2614, 3, 6, 2030, 3, 6, 7402, 3, 6, 1348, 1820, 7634, 3, 10, 7634, 834, 23, 26, 3, 6, 564, 3, 6, 684, 41, 1410, 3, 61, 3, 6, 2324, 834, 4350, 3, 6, 2324, 834, 21019, 834, 1201, 3, 6, 1246, 3, 6, 19, 834, 13513, 1820, 4219, 3, 10, 4219, 834, 23, 26, 3, 6, 4219, 834, 4350, 3, 6, 3800, 3, 6, 14939, 834, 23, 26, 3, 6, 215, 1820, 7634, 834, 77, 834, 11620, 52, 17, 3, 10, 4219, 834, 23, 26, 3, 6, 7634, 834, 23, 26, 1], 'input_tokens': ['What', 'is', 'the', 'average', ',', 'minimum', ',', 'and', 'maximum', 'age', 'of', 'all', 'singer', 's', 'from', 'France', '?', ';', '', 'struct', 'e', 'd', 'knowledge', ':', '|', 'concert', '_', 's', 'inger', '|', 'stadium', '', ':', 'stadium', '_', 'i', 'd', '', ',', 'location', '', ',', 'name', '', ',', 'capacity', '', ',', 'highest', '', ',', 'lowest', '', ',', 'average', '|', 'singer', '', ':', 'singer', '_', 'i', 'd', '', ',', 'name', '', ',', 'country', '(', 'France', '', ')', '', ',', 'song', '_', 'name', '', ',', 'song', '_', 'release', '_', 'year', '', ',', 'age', '', ',', 'is', '_', 'male', '|', 'concert', '', ':', 'concert', '_', 'i', 'd', '', ',', 'concert', '_', 'name', '', ',', 'theme', '', ',', 'stadium', '_', 'i', 'd', '', ',', 'year', '|', 'singer', '_', 'in', '_', 'conce', 'r', 't', '', ':', 'concert', '_', 'i', 'd', '', ',', 'singer', '_', 'i', 'd', '</s>'], 'dec_input_ids': [0, 1738, 3, 9, 208, 122, 599, 545, 201, 3519, 599, 545, 201, 9858, 599, 545, 61, 45, 7634, 213], 'dec_input_tokens': ['<pad>', 'select', '', 'a', 'v', 'g', '(', 'age', '),', 'min', '(', 'age', '),', 'max', '(', 'age', ')', 'from', 'singer', 'where'], 'subject_range': [68, 69, 70, 71, 72], 'subject_range_individual_indices': True, 'answer': 'country', 'window': 10, 'correct_prediction': True, 'kind': '', 'is_good_sample': False, 'target_node': 'country'}\n",
      "{'low_score': 0.9957572221755981, 'high_score': 0.9999992847442627, 'input_ids': [363, 19, 8, 1348, 6, 2559, 6, 11, 2411, 1246, 13, 66, 7634, 7, 45, 1410, 58, 117, 3, 7593, 15, 26, 1103, 10, 1820, 4219, 834, 7, 9963, 1820, 14939, 3, 10, 14939, 834, 23, 26, 3, 6, 1128, 3, 6, 564, 3, 6, 2614, 3, 6, 2030, 3, 6, 7402, 3, 6, 1348, 1820, 7634, 3, 10, 7634, 834, 23, 26, 3, 6, 564, 3, 6, 684, 41, 1410, 3, 61, 3, 6, 2324, 834, 4350, 3, 6, 2324, 834, 21019, 834, 1201, 3, 6, 1246, 3, 6, 19, 834, 13513, 1820, 4219, 3, 10, 4219, 834, 23, 26, 3, 6, 4219, 834, 4350, 3, 6, 3800, 3, 6, 14939, 834, 23, 26, 3, 6, 215, 1820, 7634, 834, 77, 834, 11620, 52, 17, 3, 10, 4219, 834, 23, 26, 3, 6, 7634, 834, 23, 26, 1], 'input_tokens': ['What', 'is', 'the', 'average', ',', 'minimum', ',', 'and', 'maximum', 'age', 'of', 'all', 'singer', 's', 'from', 'France', '?', ';', '', 'struct', 'e', 'd', 'knowledge', ':', '|', 'concert', '_', 's', 'inger', '|', 'stadium', '', ':', 'stadium', '_', 'i', 'd', '', ',', 'location', '', ',', 'name', '', ',', 'capacity', '', ',', 'highest', '', ',', 'lowest', '', ',', 'average', '|', 'singer', '', ':', 'singer', '_', 'i', 'd', '', ',', 'name', '', ',', 'country', '(', 'France', '', ')', '', ',', 'song', '_', 'name', '', ',', 'song', '_', 'release', '_', 'year', '', ',', 'age', '', ',', 'is', '_', 'male', '|', 'concert', '', ':', 'concert', '_', 'i', 'd', '', ',', 'concert', '_', 'name', '', ',', 'theme', '', ',', 'stadium', '_', 'i', 'd', '', ',', 'year', '|', 'singer', '_', 'in', '_', 'conce', 'r', 't', '', ':', 'concert', '_', 'i', 'd', '', ',', 'singer', '_', 'i', 'd', '</s>'], 'dec_input_ids': [0, 1738, 3, 9, 208, 122, 599], 'dec_input_tokens': ['<pad>', 'select', '', 'a', 'v', 'g', '('], 'subject_range': [87], 'subject_range_individual_indices': True, 'answer': 'age', 'window': 10, 'correct_prediction': True, 'kind': '', 'is_good_sample': False, 'target_node': 'age'}\n"
     ]
    }
   ],
   "source": [
    "for r in result:\n",
    "    print(r)"
   ]
  },
  {
   "cell_type": "markdown",
   "metadata": {},
   "source": [
    "#### Plotting results"
   ]
  },
  {
   "cell_type": "code",
   "execution_count": 310,
   "metadata": {},
   "outputs": [
    {
     "data": {
      "text/plain": [
       "154"
      ]
     },
     "execution_count": 310,
     "metadata": {},
     "output_type": "execute_result"
    }
   ],
   "source": [
    "exp_name = 'dev_column'\n",
    "\n",
    "res_json_path = f'/home/yshao/Projects/rome/results/struct_node_restore/{exp_name}.jsonl'\n",
    "with open(res_json_path, 'r') as f:\n",
    "#     res_dicts = [json.loads(l) for l in f if l]\n",
    "    all_str = f.read()\n",
    "all_str = all_str.replace('{\"ex_id\":', '\\n{\"ex_id\":').strip()\n",
    "res_dicts = [json.loads(l) for l in all_str.split('\\n')]\n",
    "len(res_dicts)"
   ]
  },
  {
   "cell_type": "code",
   "execution_count": 311,
   "metadata": {},
   "outputs": [
    {
     "data": {
      "text/plain": [
       "147"
      ]
     },
     "execution_count": 311,
     "metadata": {},
     "output_type": "execute_result"
    }
   ],
   "source": [
    "len([r for d in res_dicts for r in d['trace_results']])"
   ]
  },
  {
   "cell_type": "code",
   "execution_count": 312,
   "metadata": {},
   "outputs": [
    {
     "data": {
      "text/plain": [
       "92"
      ]
     },
     "execution_count": 312,
     "metadata": {},
     "output_type": "execute_result"
    }
   ],
   "source": [
    "good_trace_results = []\n",
    "for d in res_dicts:\n",
    "    for r in d['trace_results']:\n",
    "        if r['correct_prediction'] and r['is_good_sample']:\n",
    "            r['ex_id'] = d['ex_id']\n",
    "            good_trace_results.append(r)\n",
    "len(good_trace_results)"
   ]
  },
  {
   "cell_type": "code",
   "execution_count": 313,
   "metadata": {},
   "outputs": [
    {
     "data": {
      "text/plain": [
       "(dict_keys(['ex_id', 'trace_results']),\n",
       " dict_keys(['low_score', 'high_score', 'input_ids', 'input_tokens', 'dec_input_ids', 'dec_input_tokens', 'subject_range', 'subject_range_individual_indices', 'answer', 'window', 'correct_prediction', 'kind', 'scores', 'is_good_sample', 'target_node', 'ex_id']),\n",
       " list)"
      ]
     },
     "execution_count": 313,
     "metadata": {},
     "output_type": "execute_result"
    }
   ],
   "source": [
    "d.keys(), good_trace_results[0].keys(), type(good_trace_results[0]['scores'])"
   ]
  },
  {
   "cell_type": "code",
   "execution_count": null,
   "metadata": {},
   "outputs": [],
   "source": [
    "# Generating all plots\n",
    "fig_save_dir = f'/home/yshao/Projects/rome/results/struct_node_restore/figs/{exp_name}'\n",
    "\n",
    "for i, r in enumerate(tqdm(good_trace_results)):\n",
    "    result = dict(r)\n",
    "\n",
    "    enc_s, dec_s = result['scores']\n",
    "    enc_s = np.array(enc_s)\n",
    "    dec_s = np.array(dec_s)\n",
    "    result['scores'] = [enc_s, dec_s]\n",
    "\n",
    "    ex_id = r['ex_id']\n",
    "    ctu.plot_trace_heatmap_t5(result, savepdf=os.path.join(fig_save_dir, f'{i}-ex_id={ex_id}.pdf'))\n",
    "    "
   ]
  },
  {
   "cell_type": "markdown",
   "metadata": {},
   "source": [
    "#### Finding special samples"
   ]
  },
  {
   "cell_type": "code",
   "execution_count": 314,
   "metadata": {},
   "outputs": [
    {
     "name": "stdout",
     "output_type": "stream",
     "text": [
      "57-ex_id=69\n",
      "60-ex_id=70\n",
      "83-ex_id=139\n",
      "87-ex_id=143\n",
      "88-ex_id=144\n",
      "89-ex_id=145\n",
      "91-ex_id=153\n"
     ]
    }
   ],
   "source": [
    "for i, r in enumerate(good_trace_results):\n",
    "    _, dec_s = r['scores']\n",
    "    ## dec_s: (n_toks, n_layers)\n",
    "    non_last_token_s = np.array(dec_s)[:-1]\n",
    "    if (non_last_token_s > 0.5).any():\n",
    "        print(f'{i}-ex_id={r[\"ex_id\"]}')\n",
    "    "
   ]
  },
  {
   "cell_type": "code",
   "execution_count": null,
   "metadata": {},
   "outputs": [],
   "source": []
  },
  {
   "cell_type": "markdown",
   "metadata": {},
   "source": [
    "### Exp-1.1: severing decoder cross-attention"
   ]
  },
  {
   "cell_type": "markdown",
   "metadata": {},
   "source": [
    "#### Single sample (ID = 2)"
   ]
  },
  {
   "cell_type": "code",
   "execution_count": 315,
   "metadata": {},
   "outputs": [
    {
     "data": {
      "text/plain": [
       "('Show name, country, age for all singers ordered by age from the oldest to the youngest.',\n",
       " '| concert_singer | stadium : stadium_id , location , name , capacity , highest , lowest , average | singer : singer_id , name , country , song_name , song_release_year , age , is_male | concert : concert_id , concert_name , theme , stadium_id , year | singer_in_concert : concert_id , singer_id',\n",
       " 'select name, country, age from singer order by age desc')"
      ]
     },
     "execution_count": 315,
     "metadata": {},
     "output_type": "execute_result"
    }
   ],
   "source": [
    "_id = 2\n",
    "ex = processed_spider_dev[_id]\n",
    "ex['question'], ex['struct_in'], ex['seq_out']"
   ]
  },
  {
   "cell_type": "code",
   "execution_count": 316,
   "metadata": {
    "scrolled": true
   },
   "outputs": [
    {
     "data": {
      "text/plain": [
       "{'db_id_ranges': defaultdict(list, {'concert_singer': [(28, 32)]}),\n",
       " 'table_name_ranges': defaultdict(list,\n",
       "             {'stadium': [(33, 34)],\n",
       "              'singer': [(59, 60)],\n",
       "              'concert': [(93, 94)],\n",
       "              'singer_in_concert': [(118, 125)]}),\n",
       " 'col_name_ranges': defaultdict(list,\n",
       "             {'stadium_id': [(36, 40), (110, 114)],\n",
       "              'location': [(42, 43)],\n",
       "              'name': [(45, 46), (68, 69)],\n",
       "              'capacity': [(48, 49)],\n",
       "              'highest': [(51, 52)],\n",
       "              'lowest': [(54, 55)],\n",
       "              'average': [(57, 58)],\n",
       "              'singer_id': [(62, 66), (133, 137)],\n",
       "              'country': [(71, 72)],\n",
       "              'song_name': [(74, 77)],\n",
       "              'song_release_year': [(79, 84)],\n",
       "              'age': [(86, 87)],\n",
       "              'is_male': [(89, 92)],\n",
       "              'concert_id': [(96, 100), (127, 131)],\n",
       "              'concert_name': [(102, 105)],\n",
       "              'theme': [(107, 108)],\n",
       "              'year': [(116, 117)]}),\n",
       " 'val_name_ranges': defaultdict(list, {})}"
      ]
     },
     "execution_count": 316,
     "metadata": {},
     "output_type": "execute_result"
    }
   ],
   "source": [
    "text_in = ex['text_in']\n",
    "struct_in = ex['struct_in']\n",
    "\n",
    "enc_sentence = f\"{text_in}; structed knowledge: {struct_in}\"\n",
    "enc_tokenized = mt_uskg.tokenizer(enc_sentence)\n",
    "\n",
    "token_ranges_dict = ctu.find_struct_name_ranges(mt_uskg.tokenizer, enc_tokenized['input_ids'], struct_in)\n",
    "token_ranges_dict"
   ]
  },
  {
   "cell_type": "code",
   "execution_count": 317,
   "metadata": {},
   "outputs": [
    {
     "data": {
      "text/plain": [
       "('select', [45, 68])"
      ]
     },
     "execution_count": 317,
     "metadata": {},
     "output_type": "execute_result"
    }
   ],
   "source": [
    "col = 'name'\n",
    "tok_ranges = token_ranges_dict['col_name_ranges'][col]\n",
    "tok_indices = [i for s, e in tok_ranges for i in range(s, e)]\n",
    "\n",
    "dec_prompt = make_dec_prompt(ex['seq_out'], col)\n",
    "\n",
    "dec_prompt, tok_indices"
   ]
  },
  {
   "cell_type": "code",
   "execution_count": 336,
   "metadata": {},
   "outputs": [
    {
     "name": "stdout",
     "output_type": "stream",
     "text": [
      "calculate_hidden_flow_uskg(): corrupted input: Show name , country , age for all singer s ordered by age from the oldest to the youngest . ;  struct e d knowledge : | concert _ s inger | stadium  : stadium _ i d  , location  , *name  , capacity  , highest  , lowest  , average | singer  : singer _ i d  , *name  , country  , song _ name  , song _ release _ year  , age  , is _ male | concert  : concert _ i d  , concert _ name  , theme  , stadium _ i d  , year | singer _ in _ conce r t  : concert _ i d  , singer _ i d </s>\n"
     ]
    },
    {
     "data": {
      "application/vnd.jupyter.widget-view+json": {
       "model_id": "8633e9e0bc00464e85c493f2bb505d00",
       "version_major": 2,
       "version_minor": 0
      },
      "text/plain": [
       "trace_important_states_uskg.decoder:   0%|          | 0/48 [00:00<?, ?it/s]"
      ]
     },
     "metadata": {},
     "output_type": "display_data"
    }
   ],
   "source": [
    "result = ctu.calculate_hidden_flow_uskg(\n",
    "    mt_uskg,\n",
    "    enc_sentence=enc_sentence,\n",
    "    dec_prompt=dec_prompt,\n",
    "    expect=col,\n",
    "    e_range=tok_indices,\n",
    "    enc_token_range=[],    # no analysis\n",
    "    dec_token_range=None,  # full analysis\n",
    "    tokens_to_mix_individual_indices=True,\n",
    "    replace=True,\n",
    "    sever_kind='self_attn'\n",
    ")"
   ]
  },
  {
   "cell_type": "code",
   "execution_count": 331,
   "metadata": {},
   "outputs": [
    {
     "data": {
      "image/png": "[encoded data removed]",
      "text/plain": [
       "<Figure size 700x3000 with 3 Axes>"
      ]
     },
     "metadata": {
      "needs_background": "light"
     },
     "output_type": "display_data"
    },
    {
     "name": "stdout",
     "output_type": "stream",
     "text": [
      "['0.00', '0.00', '0.00', '0.00', '0.00', '0.00', '0.00', '0.00', '0.00', '0.00', '0.00', '0.00', '0.00', '0.00', '0.00', '0.00', '0.00', '0.08', '0.77', '0.99', '1.00', '1.00', '1.00', '1.00']\n"
     ]
    }
   ],
   "source": [
    "# no sever\n",
    "ctu.plot_trace_heatmap_t5(result)\n",
    "print([f\"{s:.2f}\" for s in result['scores'][1][-1]])"
   ]
  },
  {
   "cell_type": "code",
   "execution_count": 333,
   "metadata": {},
   "outputs": [
    {
     "data": {
      "image/png": "[encoded data removed]",
      "text/plain": [
       "<Figure size 700x3000 with 3 Axes>"
      ]
     },
     "metadata": {
      "needs_background": "light"
     },
     "output_type": "display_data"
    },
    {
     "name": "stdout",
     "output_type": "stream",
     "text": [
      "['0.00', '0.00', '0.00', '0.00', '0.00', '0.00', '0.00', '0.00', '0.00', '0.00', '0.00', '0.00', '0.00', '0.00', '0.00', '0.00', '0.00', '0.00', '0.17', '0.99', '1.00', '1.00', '1.00', '1.00']\n"
     ]
    }
   ],
   "source": [
    "# sever cross_attn\n",
    "ctu.plot_trace_heatmap_t5(result)\n",
    "print([f\"{s:.2f}\" for s in result['scores'][1][-1]])"
   ]
  },
  {
   "cell_type": "code",
   "execution_count": 335,
   "metadata": {},
   "outputs": [
    {
     "data": {
      "image/png": "[encoded data removed]",
      "text/plain": [
       "<Figure size 700x3000 with 3 Axes>"
      ]
     },
     "metadata": {
      "needs_background": "light"
     },
     "output_type": "display_data"
    },
    {
     "name": "stdout",
     "output_type": "stream",
     "text": [
      "['0.00', '0.00', '0.00', '0.00', '0.00', '0.00', '0.00', '0.00', '0.00', '0.00', '0.00', '0.00', '0.00', '0.00', '0.00', '0.00', '0.00', '0.16', '0.88', '1.00', '1.00', '1.00', '1.00', '1.00']\n"
     ]
    }
   ],
   "source": [
    "# sever mlp; a bit better than no severing??\n",
    "ctu.plot_trace_heatmap_t5(result)\n",
    "print([f\"{s:.2f}\" for s in result['scores'][1][-1]])"
   ]
  },
  {
   "cell_type": "code",
   "execution_count": 337,
   "metadata": {},
   "outputs": [
    {
     "data": {
      "image/png": "[encoded data removed]",
      "text/plain": [
       "<Figure size 700x3000 with 3 Axes>"
      ]
     },
     "metadata": {
      "needs_background": "light"
     },
     "output_type": "display_data"
    },
    {
     "name": "stdout",
     "output_type": "stream",
     "text": [
      "['0.00', '0.00', '0.00', '0.00', '0.00', '0.00', '0.00', '0.00', '0.00', '0.00', '0.00', '0.00', '0.00', '0.00', '0.00', '0.00', '0.00', '0.04', '0.52', '0.96', '1.00', '1.00', '1.00', '1.00']\n"
     ]
    }
   ],
   "source": [
    "# sever self_attn\n",
    "ctu.plot_trace_heatmap_t5(result)\n",
    "print([f\"{s:.2f}\" for s in result['scores'][1][-1]])"
   ]
  },
  {
   "cell_type": "code",
   "execution_count": 338,
   "metadata": {},
   "outputs": [
    {
     "data": {
      "text/plain": [
       "24"
      ]
     },
     "execution_count": 338,
     "metadata": {},
     "output_type": "execute_result"
    }
   ],
   "source": [
    "len(result['scores'][1][-1])"
   ]
  },
  {
   "cell_type": "markdown",
   "metadata": {},
   "source": [
    "### Exp-2: dirty text recovery\n",
    "- Corrupt the text, restore different parts of encoder final output\n",
    "- Idea is to check the existence of contextual understanding (incorporating text info into struct representation)"
   ]
  },
  {
   "cell_type": "markdown",
   "metadata": {},
   "source": [
    "#### Single sample\n",
    "- ID = 2, col = 'name': (name exact match with text)\n",
    "    - none: wrong; text: correct; struct: correct; col: correct\n",
    "- ID = 5, col = 'country': (no exact match, but value match with text (French) )\n",
    "    - none: wrong; text: correct; struct: correct; col: correct\n",
    "- ID = 145, col = 'year': (no exact match, but value match with text (1980) )\n",
    "    - none: wrong; text: correct; struct: correct; col: correct\n",
    "- ID = 7, col = 'song_release_year': (multi-token, and with confusing columns in table (song_name) )\n",
    "    - none: wrong; text: wrong; struct: correct; col: wrong\n",
    "    - hypothesis: need clean struct to avoid confusion\n",
    "- ID = 185, col = 'airportcode': (multi-token, with confusing col (airportname), but have match with text (airport code) )\n",
    "    - none: wrong; text: correct; struct: wrong (2nd token); col: wrong\n",
    "    - differs from hypothesis... clean struct should know sql info about the column"
   ]
  },
  {
   "cell_type": "code",
   "execution_count": 192,
   "metadata": {},
   "outputs": [
    {
     "data": {
      "text/plain": [
       "('concert_singer',\n",
       " 'Show the stadium name and capacity with most number of concerts in year 2014 or after.',\n",
       " '| concert_singer | stadium : stadium_id , location , name , capacity , highest , lowest , average | singer : singer_id , name , country , song_name , song_release_year , age , is_male | concert : concert_id , concert_name , theme , stadium_id , year | singer_in_concert : concert_id , singer_id',\n",
       " 'select t2.name, t2.capacity from concert as t1 join stadium as t2 on t1.stadium_id = t2.stadium_id where t1.year >= 2014 group by t2.stadium_id order by count(*) desc limit 1')"
      ]
     },
     "execution_count": 192,
     "metadata": {},
     "output_type": "execute_result"
    }
   ],
   "source": [
    "_id = 24\n",
    "ex = processed_spider_dev[_id]\n",
    "ex['db_id'], ex['question'], ex['struct_in'], ex['seq_out']"
   ]
  },
  {
   "cell_type": "code",
   "execution_count": 193,
   "metadata": {},
   "outputs": [
    {
     "data": {
      "text/plain": [
       "((0, 17), (24, 134))"
      ]
     },
     "execution_count": 193,
     "metadata": {},
     "output_type": "execute_result"
    }
   ],
   "source": [
    "text_in = ex['text_in']\n",
    "struct_in = ex['struct_in']\n",
    "\n",
    "enc_sentence = f\"{text_in}; structed knowledge: {struct_in}\"\n",
    "enc_tokenized = mt_uskg.tokenizer(enc_sentence)\n",
    "\n",
    "text_range, struct_range = ctu.find_text_struct_in_range(mt_uskg.tokenizer, enc_tokenized['input_ids'])\n",
    "text_range, struct_range"
   ]
  },
  {
   "cell_type": "code",
   "execution_count": 34,
   "metadata": {},
   "outputs": [
    {
     "data": {
      "text/plain": [
       "{'name', 'nationality'}"
      ]
     },
     "execution_count": 34,
     "metadata": {},
     "output_type": "execute_result"
    }
   ],
   "source": [
    "token_ranges_dict = ctu.find_struct_name_ranges(mt_uskg.tokenizer, enc_tokenized['input_ids'], struct_in)\n",
    "\n",
    "col_name_ranges = token_ranges_dict['col_name_ranges']\n",
    "\n",
    "sql_tokens = ctu.separate_punct(ex['seq_out']).split(' ')\n",
    "\n",
    "sql_cols = set()\n",
    "for t in sql_tokens:\n",
    "    if t in col_name_ranges:\n",
    "        sql_cols.add(t)\n",
    "sql_cols"
   ]
  },
  {
   "cell_type": "code",
   "execution_count": 35,
   "metadata": {
    "scrolled": true
   },
   "outputs": [
    {
     "data": {
      "text/plain": [
       "((1, 'orchestra', 'orchestra'),\n",
       " [((3, 'conductor', 'conductor'),\n",
       "   [[(5, 'conductor_id', 'conductor_id'), []],\n",
       "    [(7, 'name', 'name'), []],\n",
       "    [(9, 'age', 'age'), []],\n",
       "    [(11, 'nationality', 'nationality ( USA )'), [(13, 'USA', 'USA')]],\n",
       "    [(16, 'year_of_work', 'year_of_work'), []]]),\n",
       "  ((18, 'orchestra', 'orchestra'),\n",
       "   [[(20, 'orchestra_id', 'orchestra_id'), []],\n",
       "    [(22, 'orchestra', 'orchestra'), []],\n",
       "    [(24, 'conductor_id', 'conductor_id'), []],\n",
       "    [(26, 'record_company', 'record_company'), []],\n",
       "    [(28, 'year_of_founded', 'year_of_founded'), []],\n",
       "    [(30, 'major_record_format', 'major_record_format'), []]]),\n",
       "  ((32, 'performance', 'performance'),\n",
       "   [[(34, 'performance_id', 'performance_id'), []],\n",
       "    [(36, 'orchestra_id', 'orchestra_id'), []],\n",
       "    [(38, 'type', 'type'), []],\n",
       "    [(40, 'date', 'date'), []],\n",
       "    [(42, 'official_ratings_(millions)', 'official_ratings_(millions)'), []],\n",
       "    [(44, 'weekly_rank', 'weekly_rank'), []],\n",
       "    [(46, 'share', 'share'), []]]),\n",
       "  ((48, 'show', 'show'),\n",
       "   [[(50, 'show_id', 'show_id'), []],\n",
       "    [(52, 'performance_id', 'performance_id'), []],\n",
       "    [(54, 'if_first_show', 'if_first_show'), []],\n",
       "    [(56, 'result', 'result'), []],\n",
       "    [(58, 'attendance', 'attendance'), []]])])"
      ]
     },
     "execution_count": 35,
     "metadata": {},
     "output_type": "execute_result"
    }
   ],
   "source": [
    "parsed_struct_in = ctu.parse_struct_in(struct_in)\n",
    "parsed_struct_in"
   ]
  },
  {
   "cell_type": "code",
   "execution_count": 37,
   "metadata": {},
   "outputs": [
    {
     "data": {
      "text/plain": [
       "('select name from conductor where', 'nationality')"
      ]
     },
     "execution_count": 37,
     "metadata": {},
     "output_type": "execute_result"
    }
   ],
   "source": [
    "col = 'nationality'\n",
    "# tok_ranges = token_ranges_dict['col_name_ranges'][col]\n",
    "# tok_indices = [i for s, e in tok_ranges for i in range(s, e)]\n",
    "dec_prompt = ctu.make_dec_prompt(ex['seq_out'], col)\n",
    "expect = col\n",
    "dec_prompt, expect"
   ]
  },
  {
   "cell_type": "code",
   "execution_count": 38,
   "metadata": {},
   "outputs": [
    {
     "data": {
      "text/plain": [
       "('nationality', [(45, 51)])"
      ]
     },
     "execution_count": 38,
     "metadata": {},
     "output_type": "execute_result"
    }
   ],
   "source": [
    "col_toks = token_ranges_dict['col_name_ranges'][col]\n",
    "col, col_toks"
   ]
  },
  {
   "cell_type": "code",
   "execution_count": 39,
   "metadata": {},
   "outputs": [],
   "source": [
    "# result = ctu.calculate_hidden_flow_uskg(\n",
    "#     mt_uskg,\n",
    "#     enc_sentence=enc_sentence,\n",
    "#     dec_prompt=dec_prompt,\n",
    "#     expect=col,\n",
    "#     e_range=text_range,\n",
    "#     enc_token_range=[],    # no analysis\n",
    "#     dec_token_range=None,  # full analysis\n",
    "#     tokens_to_mix_individual_indices=False,\n",
    "#     replace=True,\n",
    "#     sever_kind=None,\n",
    "# )\n",
    "\n",
    "inp = ctu.make_inputs_t5(\n",
    "    mt_uskg.tokenizer,\n",
    "    [enc_sentence] * 11,\n",
    "    [dec_prompt] * 11,\n",
    "    answer=expect)\n",
    "\n",
    "encoder_text_last_layer_states = [\n",
    "    (tnum, ctu.layername_uskg(mt_uskg.model, 'encoder', mt_uskg.num_enc_layers - 1))\n",
    "    for tnum in range(*text_range)\n",
    "]\n",
    "\n",
    "encoder_struct_last_layer_states = [\n",
    "    (tnum, ctu.layername_uskg(mt_uskg.model, 'encoder', mt_uskg.num_enc_layers - 1))\n",
    "    for tnum in range(*struct_range)\n",
    "]\n",
    "\n",
    "encoder_col_last_layer_states = [\n",
    "    (tnum, ctu.layername_uskg(mt_uskg.model, 'encoder', mt_uskg.num_enc_layers - 1))\n",
    "    for tnum in col_toks\n",
    "]\n",
    "\n",
    "answer_len = len(mt_uskg.tokenizer.tokenize(expect))\n",
    "answers_t, base_score = [d[0] for d in ctu.predict_from_input_uskg_multi_token(mt_uskg.model, inp, pred_len=answer_len)]"
   ]
  },
  {
   "cell_type": "code",
   "execution_count": 40,
   "metadata": {},
   "outputs": [
    {
     "data": {
      "text/plain": [
       "tensor([1.0000, 1.0000], device='cuda:0')"
      ]
     },
     "execution_count": 40,
     "metadata": {},
     "output_type": "execute_result"
    }
   ],
   "source": [
    "base_score"
   ]
  },
  {
   "cell_type": "code",
   "execution_count": 41,
   "metadata": {},
   "outputs": [
    {
     "data": {
      "text/plain": [
       "([tensor(0.1734, device='cuda:0'), tensor(1.0000, device='cuda:0')],\n",
       " tensor(0.1734, device='cuda:0'))"
      ]
     },
     "execution_count": 41,
     "metadata": {},
     "output_type": "execute_result"
    }
   ],
   "source": [
    "## Corrupting text: expect wrong pred \n",
    "\n",
    "all_ans_probs = ctu.trace_with_repatch_uskg_multi_token(\n",
    "    model=mt_uskg.model,\n",
    "    inp=inp,\n",
    "    states_to_patch=[],\n",
    "    states_to_unpatch=[],\n",
    "    answers_t=answers_t,\n",
    "    tokens_to_mix=text_range,\n",
    "    tokens_to_mix_individual_indices=False,\n",
    "    replace=True,\n",
    ")\n",
    "all_ans_probs, min(all_ans_probs)"
   ]
  },
  {
   "cell_type": "code",
   "execution_count": 42,
   "metadata": {},
   "outputs": [
    {
     "data": {
      "text/plain": [
       "([tensor(1.0000, device='cuda:0'), tensor(0.9999, device='cuda:0')],\n",
       " tensor(0.9999, device='cuda:0'))"
      ]
     },
     "execution_count": 42,
     "metadata": {},
     "output_type": "execute_result"
    }
   ],
   "source": [
    "## Restoring text encoding for decoder, but struct encoding are with dirty text encoding \n",
    "\n",
    "all_ans_probs = ctu.trace_with_repatch_uskg_multi_token(\n",
    "    model=mt_uskg.model,\n",
    "    inp=inp,\n",
    "    states_to_patch=encoder_text_last_layer_states,\n",
    "    states_to_unpatch=[],\n",
    "    answers_t=answers_t,\n",
    "    tokens_to_mix=text_range,\n",
    "    tokens_to_mix_individual_indices=False,\n",
    "    replace=True,\n",
    ")\n",
    "all_ans_probs, min(all_ans_probs)"
   ]
  },
  {
   "cell_type": "code",
   "execution_count": 43,
   "metadata": {},
   "outputs": [
    {
     "data": {
      "text/plain": [
       "([tensor(1.0000, device='cuda:0'), tensor(1., device='cuda:0')],\n",
       " tensor(1.0000, device='cuda:0'))"
      ]
     },
     "execution_count": 43,
     "metadata": {},
     "output_type": "execute_result"
    }
   ],
   "source": [
    "## Restoring clean struct encoding but dirty text encoding for decoder\n",
    "## Prediction being correct means encoder final output has \"contextual\" or \"semantic\" understanding of struct_in \n",
    "\n",
    "all_ans_probs = ctu.trace_with_repatch_uskg_multi_token(\n",
    "    model=mt_uskg.model,\n",
    "    inp=inp,\n",
    "    states_to_patch=encoder_struct_last_layer_states,\n",
    "    states_to_unpatch=[],\n",
    "    answers_t=answers_t,\n",
    "    tokens_to_mix=text_range,\n",
    "    tokens_to_mix_individual_indices=False,\n",
    "    replace=True,\n",
    ")\n",
    "all_ans_probs, min(all_ans_probs)"
   ]
  },
  {
   "cell_type": "code",
   "execution_count": 44,
   "metadata": {},
   "outputs": [
    {
     "data": {
      "text/plain": [
       "([tensor(1.0000, device='cuda:0'), tensor(1.0000, device='cuda:0')],\n",
       " tensor(1.0000, device='cuda:0'))"
      ]
     },
     "execution_count": 44,
     "metadata": {},
     "output_type": "execute_result"
    }
   ],
   "source": [
    "## Restoring clean col_name encoding but dirty text encoding for decoder (stricter than above)\n",
    "\n",
    "all_ans_probs = ctu.trace_with_repatch_uskg_multi_token(\n",
    "    model=mt_uskg.model,\n",
    "    inp=inp,\n",
    "    states_to_patch=encoder_col_last_layer_states,\n",
    "    states_to_unpatch=[],\n",
    "    answers_t=answers_t,\n",
    "    tokens_to_mix=text_range,\n",
    "    tokens_to_mix_individual_indices=False,\n",
    "    replace=True,\n",
    ")\n",
    "all_ans_probs, min(all_ans_probs)"
   ]
  },
  {
   "cell_type": "code",
   "execution_count": 45,
   "metadata": {},
   "outputs": [
    {
     "data": {
      "text/plain": [
       "([tensor(1.0000, device='cuda:0'), tensor(1.0000, device='cuda:0')],\n",
       " tensor(1.0000, device='cuda:0'))"
      ]
     },
     "execution_count": 45,
     "metadata": {},
     "output_type": "execute_result"
    }
   ],
   "source": [
    "## For exp-2.1: mutual corruption\n",
    "# First pass: corrupt text (no restore)\n",
    "# Second pass: corrupt struct, no restore, reset struct output to first pass\n",
    "\n",
    "all_ans_probs = ctu.trace_with_repatch_uskg_multi_token(\n",
    "    model=mt_uskg.model,\n",
    "    inp=inp,\n",
    "    states_to_patch=[],\n",
    "    states_to_unpatch=encoder_struct_last_layer_states,\n",
    "    answers_t=answers_t,\n",
    "    tokens_to_mix_1st_pass=text_range,\n",
    "    tokens_to_mix=struct_range,\n",
    "    tokens_to_mix_individual_indices=False,\n",
    "    replace=True,\n",
    ")\n",
    "all_ans_probs, min(all_ans_probs)"
   ]
  },
  {
   "cell_type": "code",
   "execution_count": null,
   "metadata": {},
   "outputs": [],
   "source": []
  },
  {
   "cell_type": "markdown",
   "metadata": {},
   "source": [
    "#### Full dataset analysis\n",
    "- +exp2.1 (text-struct-mutual)\n",
    "- +exp2.1.1 (finer-grained text-struct-mutual 3x3)"
   ]
  },
  {
   "cell_type": "code",
   "execution_count": 18,
   "metadata": {},
   "outputs": [],
   "source": [
    "out_dir = '/home/yshao/Projects/rome/results/exp2_text_struct_interaction'\n",
    "os.makedirs(out_dir, exist_ok=True)\n",
    "res_save_path = os.path.join(out_dir, 'exp=2_dev_column.jsonl')"
   ]
  },
  {
   "cell_type": "code",
   "execution_count": 19,
   "metadata": {},
   "outputs": [],
   "source": [
    "total_samples = 0\n",
    "n_good_samples = 0\n",
    "n_too_hard = 0      # base score < 0.5\n",
    "n_too_easy = 0      # base > 0.5, base - low < 0.5\n",
    "\n",
    "base_scores = []\n",
    "low_scores = []\n",
    "\n",
    "## len = n_good_samples\n",
    "restore_scores_dict = {\n",
    "    'text': [],\n",
    "    'struct': [],\n",
    "    'col': [],\n",
    "    # 2.0.1: cancelled\n",
    "    # 'ctname': [],      # col name + table name (col belongs to) \n",
    "    # 'catname': [],     # col name + all table names \n",
    "    # 'full_table': [],  # full table (col belongs to) \n",
    "    # 'all_col': [],     # all col names (regardless of table)\n",
    "}\n",
    "\n",
    "## len = total_samples\n",
    "mutual_scores_dict = {\n",
    "    f'{text}-{struct}': []\n",
    "    for text in ['clean_t', 'dc_t', 'dirty_t']\n",
    "    for struct in ['clean_s', 'dc_s', 'dirty_s']\n",
    "}\n"
   ]
  },
  {
   "cell_type": "code",
   "execution_count": 29,
   "metadata": {},
   "outputs": [],
   "source": [
    "# mutual_scores_dict\n",
    "# clean_t-clean_s: base\n",
    "# clean_t-dc_s: 1-pass, corrupt text, patch text\n",
    "# clean_t-dirty_s: 1-pass, corrupt struct, patch text\n",
    "# dc_t-clean_s: 1-pass, corrupt struct, patch struct\n",
    "# dc_t-dc_s: done (prev \"mutual\")\n",
    "# dc_t-dirty_s: 1-pass, corrupt struct\n",
    "# dirty_t-clean_s: 1-pass, corrupt text, patch struct\n",
    "# dirty_t-dc_s: 1-pass, corrupt text\n",
    "# dirty_t-dirty_s: 1-pass, corrupt both"
   ]
  },
  {
   "cell_type": "code",
   "execution_count": 30,
   "metadata": {},
   "outputs": [
    {
     "data": {
      "application/vnd.jupyter.widget-view+json": {
       "model_id": "40b38734d970400194559b12e7c540bc",
       "version_major": 2,
       "version_minor": 0
      },
      "text/plain": [
       "  0%|          | 0/1034 [00:00<?, ?it/s]"
      ]
     },
     "metadata": {},
     "output_type": "display_data"
    },
    {
     "data": {
      "text/plain": [
       "(1655, 1287, 3, 365)"
      ]
     },
     "execution_count": 30,
     "metadata": {},
     "output_type": "execute_result"
    }
   ],
   "source": [
    "## NOTICE: this code is updated after the correct_prediction fix but not yet run!\n",
    "\n",
    "f = open(res_save_path, 'w')\n",
    "\n",
    "n_ex = len(processed_spider_dev)\n",
    "start_id = 0\n",
    "\n",
    "for ex_id in tqdm(range(start_id, n_ex)):\n",
    "    ex = processed_spider_dev[ex_id]\n",
    "    \n",
    "    text_in = ex['text_in']\n",
    "    struct_in = ex['struct_in']\n",
    "\n",
    "    enc_sentence = f\"{text_in}; structed knowledge: {struct_in}\"\n",
    "    enc_tokenized = mt_uskg.tokenizer(enc_sentence)\n",
    "\n",
    "    parsed_struct_in = ctu.parse_struct_in(struct_in)\n",
    "    col2table = defaultdict(list)\n",
    "    # table2full_range = dict()\n",
    "    db_id_t, tables = parsed_struct_in\n",
    "    for table_name_t, cols in tables:\n",
    "        for col_name_t, vals in cols:\n",
    "            _, table_name, _ = table_name_t\n",
    "            _, col_name, _ = col_name_t\n",
    "            col2table[col_name].append(table_name)\n",
    "    \n",
    "    text_range, struct_range = ctu.find_text_struct_in_range(mt_uskg.tokenizer, enc_tokenized['input_ids'])\n",
    "    token_ranges_dict = ctu.find_struct_name_ranges(mt_uskg.tokenizer, enc_tokenized['input_ids'], struct_in)\n",
    "    col_name_ranges = token_ranges_dict['col_name_ranges']\n",
    "    tab_name_ranges = token_ranges_dict['table_name_ranges']\n",
    "\n",
    "    sql_tokens = ctu.separate_punct(ex['seq_out']).split(' ')\n",
    "    sql_cols = set()\n",
    "    for t in sql_tokens:\n",
    "        if t in col_name_ranges:\n",
    "            sql_cols.add(t)\n",
    "    # Update: remove columns appearing multiple times in struct, which may differ from trend of others \n",
    "    for t in list(sql_cols):\n",
    "        if len(col2table[t]) == 0:\n",
    "            raise ValueError(ex_id, struct_in, t)\n",
    "        elif len(col2table[t]) > 1:\n",
    "            sql_cols.remove(t)\n",
    "    \n",
    "    ex_results = []\n",
    "    \n",
    "    for col in sql_cols:\n",
    "        total_samples += 1\n",
    "        \n",
    "        dec_prompt = ctu.make_dec_prompt(ex['seq_out'], col)\n",
    "        expect = col\n",
    "        tab, = col2table[col]    # assert singleton by \",\"\n",
    "        col_range, = col_name_ranges[col]\n",
    "        tab_range, = tab_name_ranges[tab]\n",
    "        struct_no_col_toks = [tnum for tnum in range(*struct_range) if tnum not in range(*col_range)]\n",
    "        \n",
    "        result = {\n",
    "            \"text_in\": text_in,\n",
    "            \"struct_in\": struct_in,\n",
    "            \"seq_out\": ex['seq_out'],\n",
    "            \"dec_prompt\": dec_prompt,\n",
    "            \"expect\": col,\n",
    "            \"table\": tab,\n",
    "            \"expect_input_range\": col_range,\n",
    "            \"mutual_scores\": dict()\n",
    "        }\n",
    "\n",
    "        inp = ctu.make_inputs_t5(\n",
    "            mt_uskg.tokenizer,\n",
    "            [enc_sentence] * 11,\n",
    "            [dec_prompt] * 11,\n",
    "            answer=expect)\n",
    "\n",
    "        encoder_text_last_layer_states = [\n",
    "            (tnum, ctu.layername_uskg(mt_uskg.model, 'encoder', mt_uskg.num_enc_layers - 1))\n",
    "            for tnum in range(*text_range)\n",
    "        ]\n",
    "        encoder_struct_last_layer_states = [\n",
    "            (tnum, ctu.layername_uskg(mt_uskg.model, 'encoder', mt_uskg.num_enc_layers - 1))\n",
    "            for tnum in range(*struct_range)\n",
    "        ]\n",
    "        encoder_col_last_layer_states = [\n",
    "            (tnum, ctu.layername_uskg(mt_uskg.model, 'encoder', mt_uskg.num_enc_layers - 1))\n",
    "            for tnum in range(*col_range)\n",
    "        ]\n",
    "        encoder_struct_no_col_last_layer_states = [\n",
    "            (tnum, ctu.layername_uskg(mt_uskg.model, 'encoder', mt_uskg.num_enc_layers - 1))\n",
    "            for tnum in struct_no_col_toks\n",
    "        ]\n",
    "\n",
    "        answer_len = len(mt_uskg.tokenizer.tokenize(expect))\n",
    "        answers_t, base_score = [d[0] for d in ctu.predict_from_input_uskg_multi_token(mt_uskg.model, inp, pred_len=answer_len)]\n",
    "        base_score = min(base_score).item()\n",
    "        answer = ctu.decode_sentences(mt_uskg.tokenizer, answers_t)\n",
    "        \n",
    "        result['answer'] = answer\n",
    "        result['answers_t'] = answers_t.detach().cpu().numpy().tolist()\n",
    "        is_correct_pred = (answer.strip() == expect)\n",
    "        result['correct_prediction'] = is_correct_pred\n",
    "        \n",
    "        if not is_correct_pred:\n",
    "            # scores don't make sense when clean pred is wrong \n",
    "            result['is_good_sample'] = False\n",
    "            ex_results.append(result)\n",
    "            continue\n",
    "        \n",
    "        \"\"\" Starting Exp2.1.1: finer grained text struct mutual \"\"\"\n",
    "        result['mutual_scores']['clean_t-clean_s'] = base_score\n",
    "        \n",
    "        # equivalent to restore_text\n",
    "        result['mutual_scores']['clean_t-dc_s'] = ctu.trace_with_repatch_uskg(\n",
    "            model=mt_uskg.model,\n",
    "            inp=inp,\n",
    "            states_to_patch=encoder_text_last_layer_states,\n",
    "            states_to_unpatch=[],\n",
    "            answers_t=answers_t,\n",
    "            tokens_to_mix=text_range,\n",
    "            tokens_to_mix_individual_indices=False,\n",
    "            replace=True,\n",
    "        ).item()\n",
    "        \n",
    "        result['mutual_scores']['clean_t-dirty_s'] = ctu.trace_with_repatch_uskg(\n",
    "            model=mt_uskg.model,\n",
    "            inp=inp,\n",
    "            states_to_patch=encoder_text_last_layer_states,\n",
    "            states_to_unpatch=[],\n",
    "            answers_t=answers_t,\n",
    "            tokens_to_mix=struct_range,\n",
    "            tokens_to_mix_individual_indices=False,\n",
    "            replace=True,\n",
    "        ).item()\n",
    "        \n",
    "        result['mutual_scores']['dc_t-clean_s'] = ctu.trace_with_repatch_uskg(\n",
    "            model=mt_uskg.model,\n",
    "            inp=inp,\n",
    "            states_to_patch=encoder_struct_last_layer_states,\n",
    "            states_to_unpatch=[],\n",
    "            answers_t=answers_t,\n",
    "            tokens_to_mix=struct_range,\n",
    "            tokens_to_mix_individual_indices=False,\n",
    "            replace=True,\n",
    "        ).item()\n",
    "        \n",
    "        ## For exp-2.1: mutual corruption\n",
    "        # First pass: corrupt text (no restore)\n",
    "        # Second pass: corrupt struct, no restore, reset struct output to first pass\n",
    "        result['mutual_scores']['dc_t-dc_s'] = ctu.trace_with_repatch_uskg(\n",
    "            model=mt_uskg.model,\n",
    "            inp=inp,\n",
    "            states_to_patch=[],\n",
    "            states_to_unpatch=encoder_struct_last_layer_states,\n",
    "            answers_t=answers_t,\n",
    "            tokens_to_mix_1st_pass=text_range,\n",
    "            tokens_to_mix=struct_range,\n",
    "            tokens_to_mix_individual_indices=False,\n",
    "            replace=True,\n",
    "        ).item()\n",
    "        \n",
    "        result['mutual_scores']['dc_t-dirty_s'] = ctu.trace_with_repatch_uskg(\n",
    "            model=mt_uskg.model,\n",
    "            inp=inp,\n",
    "            states_to_patch=[],\n",
    "            states_to_unpatch=[],\n",
    "            answers_t=answers_t,\n",
    "            tokens_to_mix=struct_range,\n",
    "            tokens_to_mix_individual_indices=False,\n",
    "            replace=True,\n",
    "        ).item()\n",
    "        \n",
    "        # equivalent to restore_struct\n",
    "        result['mutual_scores']['dirty_t-clean_s'] = ctu.trace_with_repatch_uskg(\n",
    "            model=mt_uskg.model,\n",
    "            inp=inp,\n",
    "            states_to_patch=encoder_struct_last_layer_states,\n",
    "            states_to_unpatch=[],\n",
    "            answers_t=answers_t,\n",
    "            tokens_to_mix=text_range,\n",
    "            tokens_to_mix_individual_indices=False,\n",
    "            replace=True,\n",
    "        ).item()\n",
    "        \n",
    "        # equivalent to low_score (for text corruption)\n",
    "        result['mutual_scores']['dirty_t-dc_s'] = ctu.trace_with_repatch_uskg(\n",
    "            model=mt_uskg.model,\n",
    "            inp=inp,\n",
    "            states_to_patch=[],\n",
    "            states_to_unpatch=[],\n",
    "            answers_t=answers_t,\n",
    "            tokens_to_mix=text_range,\n",
    "            tokens_to_mix_individual_indices=False,\n",
    "            replace=True,\n",
    "        ).item()\n",
    "        \n",
    "        result['mutual_scores']['dirty_t-dirty_s'] = ctu.trace_with_repatch_uskg(\n",
    "            model=mt_uskg.model,\n",
    "            inp=inp,\n",
    "            states_to_patch=[],\n",
    "            states_to_unpatch=[],\n",
    "            answers_t=answers_t,\n",
    "            tokens_to_mix=list(range(*text_range)) + list(range(*struct_range)),\n",
    "            tokens_to_mix_individual_indices=True,\n",
    "            replace=True,\n",
    "        ).item()\n",
    "        \n",
    "        for k in mutual_scores_dict:\n",
    "            mutual_scores_dict[k].append(result['mutual_scores'][k])\n",
    "        \n",
    "        \"\"\" Starting Exp2: dirty text recovery \"\"\"\n",
    "        result['base_score'] = result['mutual_scores']['clean_t-clean_s']\n",
    "        low_score = result['low_score'] = result['mutual_scores']['dirty_t-dc_s']\n",
    "        # if base_score < 0.5:\n",
    "        if answer.strip() != col:\n",
    "            n_too_hard += 1\n",
    "            result['is_good_sample'] = False\n",
    "            ex_results.append(result)\n",
    "            continue\n",
    "        \n",
    "        ## Corrupting text: expect wrong pred \n",
    "        if base_score - low_score < 0.5:\n",
    "            n_too_easy += 1\n",
    "            result['is_good_sample'] = False\n",
    "            ex_results.append(result)\n",
    "            continue\n",
    "        \n",
    "        n_good_samples += 1\n",
    "        result['is_good_sample'] = True\n",
    "        \n",
    "        ## Restoring text encoding for decoder, but struct encoding are with dirty text encoding \n",
    "#         r_text_score = ctu.trace_with_repatch_uskg(\n",
    "#             model=mt_uskg.model,\n",
    "#             inp=inp,\n",
    "#             states_to_patch=encoder_text_last_layer_states,\n",
    "#             states_to_unpatch=[],\n",
    "#             answers_t=answers_t,\n",
    "#             tokens_to_mix=text_range,\n",
    "#             tokens_to_mix_individual_indices=False,\n",
    "#             replace=True,\n",
    "#         ).item()\n",
    "#         assert np.allclose(r_text_score, result['mutual_scores']['clean_t-dc_s']), \\\n",
    "#             (r_text_score, result['mutual_scores']['clean_t-dc_s'])\n",
    "        r_text_score = result['mutual_scores']['clean_t-dc_s']\n",
    "        \n",
    "        ## Restoring clean struct encoding but dirty text encoding for decoder\n",
    "#         r_struct_score = ctu.trace_with_repatch_uskg(\n",
    "#             model=mt_uskg.model,\n",
    "#             inp=inp,\n",
    "#             states_to_patch=encoder_struct_last_layer_states,\n",
    "#             states_to_unpatch=[],\n",
    "#             answers_t=answers_t,\n",
    "#             tokens_to_mix=text_range,\n",
    "#             tokens_to_mix_individual_indices=False,\n",
    "#             replace=True,\n",
    "#         ).item()\n",
    "#         assert np.allclose(r_struct_score, result['mutual_scores']['dirty_t-clean_s']), \\\n",
    "#             (r_struct_score, result['mutual_scores']['dirty_t-clean_s'])\n",
    "        r_struct_score = result['mutual_scores']['dirty_t-clean_s']\n",
    "        \n",
    "        ## Restoring clean col_name encoding but dirty text encoding for decoder (stricter than above)\n",
    "        r_col_score = ctu.trace_with_repatch_uskg(\n",
    "            model=mt_uskg.model,\n",
    "            inp=inp,\n",
    "            states_to_patch=encoder_col_last_layer_states,\n",
    "            states_to_unpatch=[],\n",
    "            answers_t=answers_t,\n",
    "            tokens_to_mix=text_range,\n",
    "            tokens_to_mix_individual_indices=False,\n",
    "            replace=True,\n",
    "        ).item()\n",
    "        \n",
    "        ## For exp-2.1: mutual corruption\n",
    "        # First pass: corrupt text (no restore)\n",
    "        # Second pass: corrupt struct, no restore, reset struct output to first pass\n",
    "#         mutual_corrupt_score = ctu.trace_with_repatch_uskg(\n",
    "#             model=mt_uskg.model,\n",
    "#             inp=inp,\n",
    "#             states_to_patch=[],\n",
    "#             states_to_unpatch=encoder_struct_last_layer_states,\n",
    "#             answers_t=answers_t,\n",
    "#             tokens_to_mix_1st_pass=text_range,\n",
    "#             tokens_to_mix=struct_range,\n",
    "#             tokens_to_mix_individual_indices=False,\n",
    "#             replace=True,\n",
    "#         ).item()\n",
    "\n",
    "        ## Restoring struct except column of interest. Check contextualization of this column into other nodes\n",
    "        r_struct_no_col_score = ctu.trace_with_repatch_uskg(\n",
    "            model=mt_uskg.model,\n",
    "            inp=inp,\n",
    "            states_to_patch=encoder_struct_no_col_last_layer_states,\n",
    "            states_to_unpatch=[],\n",
    "            answers_t=answers_t,\n",
    "            tokens_to_mix=text_range,\n",
    "            tokens_to_mix_individual_indices=False,\n",
    "            replace=True,\n",
    "        ).item()\n",
    "\n",
    "        ## Restoring clean col_name encoding; corrupt all tokens. Check if only this column is enough \n",
    "        r_col_corrupt_all_score = ctu.trace_with_repatch_uskg(\n",
    "            model=mt_uskg.model,\n",
    "            inp=inp,\n",
    "            states_to_patch=encoder_col_last_layer_states,\n",
    "            states_to_unpatch=[],\n",
    "            answers_t=answers_t,\n",
    "            tokens_to_mix=(0, struct_range[1]),\n",
    "            tokens_to_mix_individual_indices=False,\n",
    "            replace=True,\n",
    "        ).item()\n",
    "        \n",
    "        result['r_text_score'] = r_text_score\n",
    "        result['r_struct_score'] = r_struct_score\n",
    "        result['r_col_score'] = r_col_score\n",
    "        result['r_struct_no_col_score'] = r_struct_no_col_score\n",
    "        result['r_col_corrupt_all_score'] = r_col_corrupt_all_score\n",
    "#         result['m-dc_t-dc_s'] = mutual_corrupt_score\n",
    "        ex_results.append(result)\n",
    "        \n",
    "        base_scores.append(base_score)\n",
    "        low_scores.append(low_score)\n",
    "        restore_scores_dict['text'].append(r_text_score)\n",
    "        restore_scores_dict['struct'].append(r_struct_score)\n",
    "        restore_scores_dict['col'].append(r_col_score)\n",
    "        restore_scores_dict['struct_no_col'].append(r_struct_no_col_score)\n",
    "        restore_scores_dict['col_corrupt_all'].append(r_col_corrupt_all_score)\n",
    "#         mutual_scores_dict['dc_t-dc_s'].append(mutual_corrupt_score)\n",
    "\n",
    "    ex_out_dict = {\n",
    "        'ex_id': ex_id,\n",
    "        'trace_results': ex_results,\n",
    "    }\n",
    "    f.write(json.dumps(ex_out_dict, indent=None) + '\\n')\n",
    "\n",
    "f.close()\n",
    "total_samples, n_good_samples, n_too_hard, n_too_easy"
   ]
  },
  {
   "cell_type": "code",
   "execution_count": 134,
   "metadata": {},
   "outputs": [
    {
     "data": {
      "text/plain": [
       "(167, 170)"
      ]
     },
     "execution_count": 134,
     "metadata": {},
     "output_type": "execute_result"
    }
   ],
   "source": [
    "col_range"
   ]
  },
  {
   "cell_type": "code",
   "execution_count": 137,
   "metadata": {},
   "outputs": [
    {
     "data": {
      "text/plain": [
       "(0.9850877505823357,\n",
       " 0.04326892671237934,\n",
       " 0.5651500559138737,\n",
       " 0.8269292973303458,\n",
       " 0.6717712843135197,\n",
       " 0.43050430311842003)"
      ]
     },
     "execution_count": 137,
     "metadata": {},
     "output_type": "execute_result"
    }
   ],
   "source": [
    "np.mean(base_scores), np.mean(low_scores), \\\n",
    "np.mean(restore_scores_dict['text']), np.mean(restore_scores_dict['struct']), np.mean(restore_scores_dict['col']), \\\n",
    "np.mean(mutual_scores_dict['dc_t-dc_s'])"
   ]
  },
  {
   "cell_type": "code",
   "execution_count": 138,
   "metadata": {},
   "outputs": [
    {
     "name": "stdout",
     "output_type": "stream",
     "text": [
      "Score                    avg_gain\tperc_recover\n",
      "base_scores              0.9418\t\t1.0000\n",
      "restore_text_scores      0.5219\t\t0.5470\n",
      "restore_struct_scores    0.7837\t\t0.8291\n",
      "restore_col_scores       0.6285\t\t0.6752\n",
      "mutual_corrupt_scores    0.3872\t\t0.4071\n"
     ]
    }
   ],
   "source": [
    "print(f'{\"Score\":25s}avg_gain\\tperc_recover')\n",
    "for score_label, high_scores in [\n",
    "    ('base_scores', base_scores),\n",
    "    ('restore_text_scores', restore_scores_dict['text']),\n",
    "    ('restore_struct_scores', restore_scores_dict['struct']),\n",
    "    ('restore_col_scores', restore_scores_dict['col']),\n",
    "    ('mutual_corrupt_scores', mutual_scores_dict['dc_t-dc_s']),\n",
    "]:\n",
    "    avg_gain = np.mean([h - l for h, l in zip(high_scores, low_scores)])\n",
    "    perc_recover = np.mean([h - l > 0.5 for h, l in zip(high_scores, low_scores)])\n",
    "    print(f'{score_label:25s}{avg_gain:.4f}\\t\\t{perc_recover:.4f}')"
   ]
  },
  {
   "cell_type": "code",
   "execution_count": 139,
   "metadata": {},
   "outputs": [
    {
     "data": {
      "text/plain": [
       "'0.3465 0.0901 0.4631'"
      ]
     },
     "execution_count": 139,
     "metadata": {},
     "output_type": "execute_result"
    }
   ],
   "source": [
    "perc_better = np.mean([(h1 - l > 0.5) and (h2 - l < 0.5)\n",
    "                       for h1, h2, l in zip(restore_struct_scores, restore_text_scores, low_scores)])\n",
    "perc_worse = np.mean([(h1 - l < 0.5) and (h2 - l > 0.5)\n",
    "                       for h1, h2, l in zip(restore_struct_scores, restore_text_scores, low_scores)])\n",
    "perc_both = np.mean([(h1 - l > 0.5) and (h2 - l > 0.5)\n",
    "                       for h1, h2, l in zip(restore_struct_scores, restore_text_scores, low_scores)])\n",
    "f'{perc_better:.4f} {perc_worse:.4f} {perc_both:.4f}'"
   ]
  },
  {
   "cell_type": "code",
   "execution_count": 141,
   "metadata": {},
   "outputs": [
    {
     "data": {
      "text/plain": [
       "(array([246.,  39.,  42.,  45.,  39.,  37.,  53.,  46.,  72., 668.]),\n",
       " array([3.45504051e-12, 1.00000000e-01, 2.00000000e-01, 3.00000000e-01,\n",
       "        4.00000000e-01, 5.00000000e-01, 6.00000000e-01, 7.00000000e-01,\n",
       "        8.00000000e-01, 9.00000000e-01, 1.00000000e+00]),\n",
       " <BarContainer object of 10 artists>)"
      ]
     },
     "execution_count": 141,
     "metadata": {},
     "output_type": "execute_result"
    },
    {
     "data": {
      "image/png": "[encoded data removed]",
      "text/plain": [
       "<Figure size 432x288 with 1 Axes>"
      ]
     },
     "metadata": {
      "needs_background": "light"
     },
     "output_type": "display_data"
    }
   ],
   "source": [
    "# check scores distribution (clutter at 0 or 1, as expected)\n",
    "plt.hist(restore_scores_dict['col'])"
   ]
  },
  {
   "cell_type": "markdown",
   "metadata": {},
   "source": [
    "##### Fix: correct_prediction\n",
    "- changing criteria of \"too hard\" from \"base < 0.5\" to \"answer being incorrect\"\n",
    "    - only 3 \"too hard\", none is changed!\n",
    "- **Important update: check correct_prediction first!**"
   ]
  },
  {
   "cell_type": "code",
   "execution_count": 29,
   "metadata": {},
   "outputs": [
    {
     "data": {
      "text/plain": [
       "1034"
      ]
     },
     "execution_count": 29,
     "metadata": {},
     "output_type": "execute_result"
    }
   ],
   "source": [
    "out_dir = '/home/yshao/Projects/rome/results/exp2_text_struct_interaction'\n",
    "in_path = os.path.join(out_dir, 'exp=2_dev_column_old_v3.jsonl')\n",
    "out_path = os.path.join(out_dir, 'exp=2_dev_column.jsonl')\n",
    "\n",
    "with open(in_path, 'r') as f:\n",
    "    all_samples = [json.loads(l) for l in f]\n",
    "    \n",
    "len(all_samples)"
   ]
  },
  {
   "cell_type": "code",
   "execution_count": 30,
   "metadata": {
    "scrolled": true
   },
   "outputs": [
    {
     "data": {
      "text/plain": [
       "{'text_in': 'What is the average, minimum, and maximum age of all singers from France?',\n",
       " 'struct_in': '| concert_singer | stadium : stadium_id , location , name , capacity , highest , lowest , average | singer : singer_id , name , country ( France ) , song_name , song_release_year , age , is_male | concert : concert_id , concert_name , theme , stadium_id , year | singer_in_concert : concert_id , singer_id',\n",
       " 'seq_out': \"select avg(age), min(age), max(age) from singer where country = 'France'\",\n",
       " 'dec_prompt': 'select avg(',\n",
       " 'expect': 'age',\n",
       " 'table': 'singer',\n",
       " 'expect_input_range': [87, 88],\n",
       " 'mutual_scores': {'clean_t-clean_s': 0.9999992847442627,\n",
       "  'clean_t-dc_s': 0.998543381690979,\n",
       "  'clean_t-dirty_s': 0.7733225226402283,\n",
       "  'dc_t-clean_s': 0.9999985098838806,\n",
       "  'dc_t-dc_s': 0.9991669058799744,\n",
       "  'dc_t-dirty_s': 0.8866943717002869,\n",
       "  'dirty_t-clean_s': 0.999991238117218,\n",
       "  'dirty_t-dc_s': 0.008637415245175362,\n",
       "  'dirty_t-dirty_s': 2.0123667127336375e-05},\n",
       " 'base_score': 0.9999992847442627,\n",
       " 'low_score': 0.008637415245175362,\n",
       " 'is_good_sample': True,\n",
       " 'r_text_score': 0.998543381690979,\n",
       " 'r_struct_score': 0.999991238117218,\n",
       " 'r_col_score': 0.9999753832817078}"
      ]
     },
     "execution_count": 30,
     "metadata": {},
     "output_type": "execute_result"
    }
   ],
   "source": [
    "all_samples[4]['trace_results'][0]"
   ]
  },
  {
   "cell_type": "code",
   "execution_count": 32,
   "metadata": {},
   "outputs": [
    {
     "data": {
      "application/vnd.jupyter.widget-view+json": {
       "model_id": "6c57f4b9387145a385c080241085cf2c",
       "version_major": 2,
       "version_minor": 0
      },
      "text/plain": [
       "  0%|          | 0/1034 [00:00<?, ?it/s]"
      ]
     },
     "metadata": {},
     "output_type": "display_data"
    },
    {
     "data": {
      "text/plain": [
       "(0, -304, 0, 0)"
      ]
     },
     "execution_count": 32,
     "metadata": {},
     "output_type": "execute_result"
    }
   ],
   "source": [
    "f = open(out_path, 'w')\n",
    "\n",
    "n_ex = len(processed_spider_dev)\n",
    "start_id = 0\n",
    "\n",
    "for ex_id in tqdm(range(start_id, n_ex)):\n",
    "    ex = all_samples[ex_id]\n",
    "    for r in ex['trace_results']:\n",
    "        # Important update: check correct_prediction! If incorrect, all scores don't make sense \n",
    "        # \"Too hard\" -> correct_prediction==False\n",
    "        \n",
    "        text_in = r['text_in']\n",
    "        struct_in = r['struct_in']\n",
    "        dec_prompt = r['dec_prompt']\n",
    "        col = expect = r['expect']\n",
    "        \n",
    "        enc_sentence = f\"{text_in}; structed knowledge: {struct_in}\"\n",
    "        enc_tokenized = mt_uskg.tokenizer(enc_sentence)\n",
    "        \n",
    "        text_range, struct_range = ctu.find_text_struct_in_range(mt_uskg.tokenizer, enc_tokenized['input_ids'])\n",
    "        token_ranges_dict = ctu.find_struct_name_ranges(mt_uskg.tokenizer, enc_tokenized['input_ids'], struct_in)\n",
    "        col_name_ranges = token_ranges_dict['col_name_ranges']\n",
    "        tab_name_ranges = token_ranges_dict['table_name_ranges']\n",
    "        \n",
    "        col_range, = col_name_ranges[col]\n",
    "\n",
    "        inp = ctu.make_inputs_t5(\n",
    "            mt_uskg.tokenizer,\n",
    "            [enc_sentence] * 11,\n",
    "            [dec_prompt] * 11,\n",
    "            answer=expect)\n",
    "\n",
    "        encoder_text_last_layer_states = [\n",
    "            (tnum, ctu.layername_uskg(mt_uskg.model, 'encoder', mt_uskg.num_enc_layers - 1))\n",
    "            for tnum in range(*text_range)\n",
    "        ]\n",
    "        encoder_struct_last_layer_states = [\n",
    "            (tnum, ctu.layername_uskg(mt_uskg.model, 'encoder', mt_uskg.num_enc_layers - 1))\n",
    "            for tnum in range(*struct_range)\n",
    "        ]\n",
    "        encoder_col_last_layer_states = [\n",
    "            (tnum, ctu.layername_uskg(mt_uskg.model, 'encoder', mt_uskg.num_enc_layers - 1))\n",
    "            for tnum in range(*col_range)\n",
    "        ]\n",
    "\n",
    "        answer_len = len(mt_uskg.tokenizer.tokenize(expect))\n",
    "        answers_t, base_score = [d[0] for d in ctu.predict_from_input_uskg_multi_token(mt_uskg.model, inp, pred_len=answer_len)]\n",
    "        base_score = min(base_score).item()\n",
    "        \n",
    "        answer = ctu.decode_sentences(mt_uskg.tokenizer, answers_t)\n",
    "        r['answer'] = answer\n",
    "        r['answers_t'] = answers_t.detach().cpu().numpy().tolist()\n",
    "        is_correct_pred = (answer.strip() == r['expect'])\n",
    "        r['correct_prediction'] = is_correct_pred\n",
    "        \n",
    "        if is_correct_pred:\n",
    "            r['is_good_sample'] = (r['base_score'] - r['low_score'] > 0.5)\n",
    "            continue\n",
    "\n",
    "        if (not is_correct_pred) and r['is_good_sample']:\n",
    "            # change to non-good sample\n",
    "            # keep the scores there for simplicity, but shouldn't use them \n",
    "            # should first check 'is_good_sample' before using\n",
    "            r['is_good_sample'] = False\n",
    "            n_good_samples -= 1\n",
    "            continue\n",
    "        \n",
    "    f.write(json.dumps(ex, indent=None) + '\\n')\n",
    "\n",
    "f.close()\n",
    "total_samples, n_good_samples, n_too_hard, n_too_easy"
   ]
  },
  {
   "cell_type": "markdown",
   "metadata": {},
   "source": [
    "##### Add scores\n",
    "- +restore_struct_no_col (done)\n",
    "- +restore_col_corrupt_all (done)"
   ]
  },
  {
   "cell_type": "code",
   "execution_count": 23,
   "metadata": {},
   "outputs": [
    {
     "data": {
      "text/plain": [
       "1034"
      ]
     },
     "execution_count": 23,
     "metadata": {},
     "output_type": "execute_result"
    }
   ],
   "source": [
    "out_dir = '/home/yshao/Projects/rome/results/exp2_text_struct_interaction'\n",
    "in_path = os.path.join(out_dir, 'exp=2_dev_column_old.jsonl')\n",
    "out_path = os.path.join(out_dir, 'exp=2_dev_column.jsonl')\n",
    "\n",
    "with open(in_path, 'r') as f:\n",
    "    all_samples = [json.loads(l) for l in f]\n",
    "    \n",
    "len(all_samples)"
   ]
  },
  {
   "cell_type": "code",
   "execution_count": 24,
   "metadata": {},
   "outputs": [
    {
     "data": {
      "text/plain": [
       "{'text_in': 'What is the average, minimum, and maximum age of all singers from France?',\n",
       " 'struct_in': '| concert_singer | stadium : stadium_id , location , name , capacity , highest , lowest , average | singer : singer_id , name , country ( France ) , song_name , song_release_year , age , is_male | concert : concert_id , concert_name , theme , stadium_id , year | singer_in_concert : concert_id , singer_id',\n",
       " 'seq_out': \"select avg(age), min(age), max(age) from singer where country = 'France'\",\n",
       " 'dec_prompt': 'select avg(',\n",
       " 'expect': 'age',\n",
       " 'table': 'singer',\n",
       " 'expect_input_range': [87, 88],\n",
       " 'mutual_scores': {'clean_t-clean_s': 0.9999992847442627,\n",
       "  'clean_t-dc_s': 0.998543381690979,\n",
       "  'clean_t-dirty_s': 0.7733225226402283,\n",
       "  'dc_t-clean_s': 0.9999985098838806,\n",
       "  'dc_t-dc_s': 0.9991669058799744,\n",
       "  'dc_t-dirty_s': 0.8866943717002869,\n",
       "  'dirty_t-clean_s': 0.999991238117218,\n",
       "  'dirty_t-dc_s': 0.008637415245175362,\n",
       "  'dirty_t-dirty_s': 2.0123667127336375e-05},\n",
       " 'base_score': 0.9999992847442627,\n",
       " 'low_score': 0.008637415245175362,\n",
       " 'is_good_sample': True,\n",
       " 'r_text_score': 0.998543381690979,\n",
       " 'r_struct_score': 0.999991238117218,\n",
       " 'r_col_score': 0.9999753832817078,\n",
       " 'answer': 'age',\n",
       " 'correct_prediction': True,\n",
       " 'answers_t': [545],\n",
       " 'r_struct_no_col_score': 0.021973881870508194}"
      ]
     },
     "execution_count": 24,
     "metadata": {},
     "output_type": "execute_result"
    }
   ],
   "source": [
    "all_samples[4]['trace_results'][0]"
   ]
  },
  {
   "cell_type": "code",
   "execution_count": 25,
   "metadata": {},
   "outputs": [
    {
     "data": {
      "application/vnd.jupyter.widget-view+json": {
       "model_id": "9b22349f610d4e719b0dcf3ed390f5f8",
       "version_major": 2,
       "version_minor": 0
      },
      "text/plain": [
       "  0%|          | 0/1034 [00:00<?, ?it/s]"
      ]
     },
     "metadata": {},
     "output_type": "display_data"
    }
   ],
   "source": [
    "f = open(out_path, 'w')\n",
    "\n",
    "n_ex = len(processed_spider_dev)\n",
    "start_id = 0\n",
    "\n",
    "for ex_id in tqdm(range(start_id, n_ex)):\n",
    "    ex = all_samples[ex_id]\n",
    "    for r in ex['trace_results']:\n",
    "        # if not r['is_good_sample']:\n",
    "        if not r['correct_prediction']:\n",
    "            # for restore_col_corrupt_all, even if sample is \"too easy\" (corrupt text still correct),\n",
    "            # can still compute this, since corrupting all tokens almost always gives wrong pred\n",
    "            # However, is clean prediction is wrong, then it still doesn't make sense \n",
    "            continue\n",
    "        \n",
    "        text_in = r['text_in']\n",
    "        struct_in = r['struct_in']\n",
    "        dec_prompt = r['dec_prompt']\n",
    "        col = expect = r['expect']\n",
    "        \n",
    "        enc_sentence = f\"{text_in}; structed knowledge: {struct_in}\"\n",
    "        enc_tokenized = mt_uskg.tokenizer(enc_sentence)\n",
    "        \n",
    "        text_range, struct_range = ctu.find_text_struct_in_range(mt_uskg.tokenizer, enc_tokenized['input_ids'])\n",
    "        token_ranges_dict = ctu.find_struct_name_ranges(mt_uskg.tokenizer, enc_tokenized['input_ids'], struct_in)\n",
    "        col_name_ranges = token_ranges_dict['col_name_ranges']\n",
    "        # tab_name_ranges = token_ranges_dict['table_name_ranges']\n",
    "        \n",
    "        col_range, = col_name_ranges[col]\n",
    "#         struct_no_col_toks = [tnum for tnum in range(*struct_range) if tnum not in range(*col_range)]\n",
    "\n",
    "        inp = ctu.make_inputs_t5(\n",
    "            mt_uskg.tokenizer,\n",
    "            [enc_sentence] * 11,\n",
    "            [dec_prompt] * 11,\n",
    "            answer=expect)\n",
    "\n",
    "        encoder_text_last_layer_states = [\n",
    "            (tnum, ctu.layername_uskg(mt_uskg.model, 'encoder', mt_uskg.num_enc_layers - 1))\n",
    "            for tnum in range(*text_range)\n",
    "        ]\n",
    "#         encoder_struct_last_layer_states = [\n",
    "#             (tnum, ctu.layername_uskg(mt_uskg.model, 'encoder', mt_uskg.num_enc_layers - 1))\n",
    "#             for tnum in range(*struct_range)\n",
    "#         ]\n",
    "        encoder_col_last_layer_states = [\n",
    "            (tnum, ctu.layername_uskg(mt_uskg.model, 'encoder', mt_uskg.num_enc_layers - 1))\n",
    "            for tnum in range(*col_range)\n",
    "        ]\n",
    "#         encoder_struct_no_col_last_layer_states = [\n",
    "#             (tnum, ctu.layername_uskg(mt_uskg.model, 'encoder', mt_uskg.num_enc_layers - 1))\n",
    "#             for tnum in struct_no_col_toks\n",
    "#         ]\n",
    "        \n",
    "        answer_len = len(mt_uskg.tokenizer.tokenize(expect))\n",
    "        answers_t, base_score = [d[0] for d in ctu.predict_from_input_uskg_multi_token(mt_uskg.model, inp, pred_len=answer_len)]\n",
    "        base_score = min(base_score).item()\n",
    "        # r['answers_t'] = answers_t.detach().cpu().numpy().tolist()   # already added\n",
    "\n",
    "        ## Restoring clean col_name encoding; corrupt all tokens. Check if only this column is enough \n",
    "        r_col_corrupt_all_score = ctu.trace_with_repatch_uskg(\n",
    "            model=mt_uskg.model,\n",
    "            inp=inp,\n",
    "            states_to_patch=encoder_col_last_layer_states,\n",
    "            states_to_unpatch=[],\n",
    "            answers_t=answers_t,\n",
    "            tokens_to_mix=(0, struct_range[1]),\n",
    "            tokens_to_mix_individual_indices=False,\n",
    "            replace=True,\n",
    "        ).item()\n",
    "        r['r_col_corrupt_all_score'] = r_col_corrupt_all_score\n",
    "        \n",
    "    f.write(json.dumps(ex, indent=None) + '\\n')\n",
    "\n",
    "f.close()\n",
    "# total_samples, n_good_samples, n_too_hard, n_too_easy"
   ]
  },
  {
   "cell_type": "markdown",
   "metadata": {},
   "source": [
    "#### Load & Check results"
   ]
  },
  {
   "cell_type": "code",
   "execution_count": 63,
   "metadata": {},
   "outputs": [
    {
     "data": {
      "text/plain": [
       "1034"
      ]
     },
     "execution_count": 63,
     "metadata": {},
     "output_type": "execute_result"
    }
   ],
   "source": [
    "res_path = '/home/yshao/Projects/rome/results/exp2_text_struct_interaction/exp=2_dev_column.jsonl'\n",
    "\n",
    "with open(res_path, 'r') as f:\n",
    "    all_samples = [json.loads(l) for l in f]\n",
    "len(all_samples)"
   ]
  },
  {
   "cell_type": "code",
   "execution_count": 27,
   "metadata": {},
   "outputs": [],
   "source": [
    "total_samples = 0\n",
    "n_good_samples = 0\n",
    "n_too_hard = 0      # wrong answer \n",
    "n_too_easy = 0      # base - low < 0.5\n",
    "\n",
    "base_scores = []\n",
    "low_scores = []\n",
    "\n",
    "## len = n_good_samples\n",
    "restore_scores_dict = {\n",
    "    'text': [],\n",
    "    'struct': [],\n",
    "    'col': [],\n",
    "    'struct_no_col': [],\n",
    "    'col_corrupt_all': [],\n",
    "    # 2.0.1: cancelled\n",
    "    # 'ctname': [],      # col name + table name (col belongs to) \n",
    "    # 'catname': [],     # col name + all table names \n",
    "    # 'full_table': [],  # full table (col belongs to) \n",
    "    # 'all_col': [],     # all col names (regardless of table)\n",
    "}\n",
    "\n",
    "## len = total_samples\n",
    "mutual_scores_dict = {\n",
    "    f'{text}-{struct}': []\n",
    "    for text in ['clean_t', 'dc_t', 'dirty_t']\n",
    "    for struct in ['clean_s', 'dc_s', 'dirty_s']\n",
    "}\n"
   ]
  },
  {
   "cell_type": "code",
   "execution_count": 28,
   "metadata": {},
   "outputs": [
    {
     "data": {
      "text/plain": [
       "(1655, (983, 983), 477, 195)"
      ]
     },
     "execution_count": 28,
     "metadata": {},
     "output_type": "execute_result"
    }
   ],
   "source": [
    "good_samples = []\n",
    "\n",
    "for i, ex in enumerate(all_samples):\n",
    "    for d in ex['trace_results']:\n",
    "        total_samples += 1\n",
    "        if d['is_good_sample']:\n",
    "            n_good_samples += 1\n",
    "            d['ex_id'] = i\n",
    "            good_samples.append(d)\n",
    "        elif not d['correct_prediction']:\n",
    "            n_too_hard += 1\n",
    "        else:\n",
    "            assert d['base_score'] - d['low_score'] < 0.5\n",
    "            n_too_easy += 1\n",
    "            \n",
    "total_samples, (n_good_samples, len(good_samples)), n_too_hard, n_too_easy"
   ]
  },
  {
   "cell_type": "code",
   "execution_count": 29,
   "metadata": {},
   "outputs": [
    {
     "data": {
      "text/plain": [
       "(dict_keys(['text_in', 'struct_in', 'seq_out', 'dec_prompt', 'expect', 'table', 'expect_input_range', 'mutual_scores', 'base_score', 'low_score', 'is_good_sample', 'r_text_score', 'r_struct_score', 'r_col_score', 'answer', 'correct_prediction', 'answers_t', 'r_struct_no_col_score', 'r_col_corrupt_all_score', 'ex_id']),\n",
       " dict_keys(['clean_t-clean_s', 'clean_t-dc_s', 'clean_t-dirty_s', 'dc_t-clean_s', 'dc_t-dc_s', 'dc_t-dirty_s', 'dirty_t-clean_s', 'dirty_t-dc_s', 'dirty_t-dirty_s']))"
      ]
     },
     "execution_count": 29,
     "metadata": {},
     "output_type": "execute_result"
    }
   ],
   "source": [
    "d.keys(), d['mutual_scores'].keys()"
   ]
  },
  {
   "cell_type": "code",
   "execution_count": 30,
   "metadata": {},
   "outputs": [],
   "source": [
    "for d in good_samples:\n",
    "    base_scores.append(d['base_score'])\n",
    "    low_scores.append(d['low_score'])\n",
    "    for k in restore_scores_dict.keys():\n",
    "        restore_scores_dict[k].append(d[f'r_{k}_score'])\n",
    "    for k in mutual_scores_dict.keys():\n",
    "        mutual_scores_dict[k].append(d['mutual_scores'][k])"
   ]
  },
  {
   "cell_type": "code",
   "execution_count": 31,
   "metadata": {},
   "outputs": [
    {
     "data": {
      "text/plain": [
       "(983, 983, 983)"
      ]
     },
     "execution_count": 31,
     "metadata": {},
     "output_type": "execute_result"
    }
   ],
   "source": [
    "len(base_scores), len(restore_scores_dict['text']), len(mutual_scores_dict['dc_t-dc_s'])"
   ]
  },
  {
   "cell_type": "code",
   "execution_count": 32,
   "metadata": {},
   "outputs": [
    {
     "name": "stdout",
     "output_type": "stream",
     "text": [
      "text           0.5930\n",
      "struct         0.8514\n",
      "col            0.7269\n",
      "struct_no_col  0.1234\n",
      "col_corrupt_all0.7547\n"
     ]
    }
   ],
   "source": [
    "# results for exp2\n",
    "for k, scores in restore_scores_dict.items():\n",
    "    avg = np.mean(scores)\n",
    "    print(f'{k:<15s}{avg:.4f}')"
   ]
  },
  {
   "cell_type": "code",
   "execution_count": 33,
   "metadata": {},
   "outputs": [
    {
     "name": "stdout",
     "output_type": "stream",
     "text": [
      "Score\tavg_gain\tperc_recover\n",
      "base_scores\t0.9466\t1.0000\n",
      "restore_text_scores\t0.5491\t0.5809\n",
      "restore_struct_scores\t0.8075\t0.8576\n",
      "restore_col_scores\t0.6830\t0.7355\n",
      "restore_struct_no_col_scores\t0.0795\t0.0895\n",
      "restore_col_corrupt_all_scores\t0.7108\t0.7528\n"
     ]
    }
   ],
   "source": [
    "print(f'Score\\tavg_gain\\tperc_recover')\n",
    "for score_label, high_scores in [\n",
    "    ('base_scores', base_scores),\n",
    "    ('restore_text_scores', restore_scores_dict['text']),\n",
    "    ('restore_struct_scores', restore_scores_dict['struct']),\n",
    "    ('restore_col_scores', restore_scores_dict['col']),\n",
    "    ('restore_struct_no_col_scores', restore_scores_dict['struct_no_col']),\n",
    "    ('restore_col_corrupt_all_scores', restore_scores_dict['col_corrupt_all']),\n",
    "]:\n",
    "    avg_gain = np.mean([h - l for h, l in zip(high_scores, low_scores)])\n",
    "    perc_recover = np.mean([h - l > 0.5 for h, l in zip(high_scores, low_scores)])\n",
    "    print(f'{score_label}\\t{avg_gain:.4f}\\t{perc_recover:.4f}')"
   ]
  },
  {
   "cell_type": "code",
   "execution_count": 34,
   "metadata": {},
   "outputs": [
    {
     "name": "stdout",
     "output_type": "stream",
     "text": [
      "        clean_t dc_t    dirty_t \n",
      "clean_s 0.9905  0.9591  0.8514  \n",
      "dc_s    0.5930  0.4638  0.0439  \n",
      "dirty_s 0.3730  0.3263  0.0175  \n",
      "\n"
     ]
    }
   ],
   "source": [
    "# results for exp2.1.1 \n",
    "msg = ' '*8\n",
    "for k_t in ['clean_t', 'dc_t', 'dirty_t']:\n",
    "    msg += f'{k_t:8s}'\n",
    "msg += '\\n'\n",
    "for k_s in ['clean_s', 'dc_s', 'dirty_s']:\n",
    "    msg += f'{k_s:8s}'\n",
    "    for k_t in ['clean_t', 'dc_t', 'dirty_t']:\n",
    "        k = f'{k_t}-{k_s}'\n",
    "        scores = mutual_scores_dict[k]\n",
    "        avg = np.mean(scores)\n",
    "        msg += f'{avg:.4f}  '\n",
    "    msg += '\\n'\n",
    "print(msg)"
   ]
  },
  {
   "cell_type": "code",
   "execution_count": null,
   "metadata": {},
   "outputs": [],
   "source": []
  },
  {
   "cell_type": "markdown",
   "metadata": {},
   "source": [
    "#### Exp-2.1: (merged above)"
   ]
  },
  {
   "cell_type": "code",
   "execution_count": 62,
   "metadata": {},
   "outputs": [],
   "source": [
    "# one-time post-processing: add \"is_good_sample\"=True\n",
    "\n",
    "# res_tmp_path = os.path.join(out_dir, 'dev_column-tmp.jsonl')\n",
    "# res_tmp_path, res_save_path\n",
    "\n",
    "# with open(res_tmp_path, 'r') as f_tmp:\n",
    "#     all_samples = [json.loads(l) for l in f_tmp]\n",
    "\n",
    "# with open(res_save_path, 'w') as f:\n",
    "#     for ex in all_samples:\n",
    "#         for d in ex['trace_results']:\n",
    "#             if 'mutual_corrupt_score' in d:\n",
    "#                 assert d['base_score'] - d['low_score'] > 0.5, d\n",
    "#                 d['is_good_sample'] = True\n",
    "#             else:\n",
    "#                 assert d['is_good_sample'] == False, d\n",
    "#         f.write(json.dumps(ex) + '\\n')\n",
    "    "
   ]
  },
  {
   "cell_type": "markdown",
   "metadata": {},
   "source": [
    "#### Exp-2.1.1 (merged)"
   ]
  },
  {
   "cell_type": "markdown",
   "metadata": {},
   "source": [
    "#### Split by hardness"
   ]
  },
  {
   "cell_type": "code",
   "execution_count": 163,
   "metadata": {},
   "outputs": [
    {
     "data": {
      "text/plain": [
       "[('easy', 248), ('medium', 446), ('hard', 174), ('extra', 166)]"
      ]
     },
     "execution_count": 163,
     "metadata": {},
     "output_type": "execute_result"
    }
   ],
   "source": [
    "# build an index for hardness \n",
    "\n",
    "spider_indices_per_hardness = defaultdict(list)\n",
    "spider_id2hardness = dict()\n",
    "\n",
    "for i, ex in enumerate(processed_spider_dev):\n",
    "    db_id = ex['db_id']\n",
    "    sql_str = ex['seq_out']\n",
    "    sql = sp_eval.get_sql(evaluator.schemas[db_id], sql_str)\n",
    "    hardness = evaluator.eval_hardness(sql)\n",
    "    spider_indices_per_hardness[hardness].append(i)\n",
    "    spider_id2hardness[i] = hardness\n",
    "\n",
    "[(h, len(indices)) for h, indices in spider_indices_per_hardness.items()]"
   ]
  },
  {
   "cell_type": "code",
   "execution_count": 191,
   "metadata": {},
   "outputs": [
    {
     "data": {
      "text/plain": [
       "[24, 25, 41, 42, 57, 58, 59, 60, 61, 62]"
      ]
     },
     "execution_count": 191,
     "metadata": {},
     "output_type": "execute_result"
    }
   ],
   "source": [
    "spider_indices_per_hardness['extra'][:10]"
   ]
  },
  {
   "cell_type": "code",
   "execution_count": 164,
   "metadata": {},
   "outputs": [],
   "source": [
    "# exp2 + exp2.1.1 \n",
    "# res_path = '/home/yshao/Projects/rome/results/exp2_text_struct_interaction/exp=2_dev_column.jsonl'\n",
    "\n",
    "# with open(res_path, 'r') as f:\n",
    "#     all_samples = [json.loads(l) for l in f]\n",
    "# len(all_samples)"
   ]
  },
  {
   "cell_type": "code",
   "execution_count": 165,
   "metadata": {},
   "outputs": [
    {
     "data": {
      "text/plain": [
       "983"
      ]
     },
     "execution_count": 165,
     "metadata": {},
     "output_type": "execute_result"
    }
   ],
   "source": [
    "good_samples = []\n",
    "\n",
    "for i, ex in enumerate(all_samples):\n",
    "    for d in ex['trace_results']:\n",
    "        if d['is_good_sample']:\n",
    "            d['ex_id'] = i\n",
    "            good_samples.append(d)\n",
    "len(good_samples)"
   ]
  },
  {
   "cell_type": "code",
   "execution_count": 166,
   "metadata": {},
   "outputs": [],
   "source": [
    "samples_by_hardness = defaultdict(list)\n",
    "\n",
    "# for ex in all_samples:\n",
    "#     for d in ex['trace_results']:\n",
    "#         if not d['is_good_sample']:\n",
    "#             continue\n",
    "\n",
    "for d in good_samples:\n",
    "#     sql_str = d['seq_out']\n",
    "#     db_id = d['struct_in'].split('|')[1].strip()    # TODO: add db_id to result during experiment main run \n",
    "#     sql = sp_eval.get_sql(evaluator.schemas[db_id], sql_str)\n",
    "#     hardness = evaluator.eval_hardness(sql)\n",
    "    hardness = spider_id2hardness[d['ex_id']]\n",
    "    samples_by_hardness[hardness].append(d)"
   ]
  },
  {
   "cell_type": "code",
   "execution_count": 167,
   "metadata": {},
   "outputs": [
    {
     "data": {
      "text/plain": [
       "[('medium', 480), ('easy', 181), ('hard', 186), ('extra', 136)]"
      ]
     },
     "execution_count": 167,
     "metadata": {},
     "output_type": "execute_result"
    }
   ],
   "source": [
    "[(h, len(samples)) for h, samples in samples_by_hardness.items()]"
   ]
  },
  {
   "cell_type": "code",
   "execution_count": 177,
   "metadata": {
    "scrolled": true
   },
   "outputs": [
    {
     "name": "stdout",
     "output_type": "stream",
     "text": [
      "Hardness: easy (181)\n",
      "[Example sql] select distinct country from singer where age > 20\n",
      "Score\tavg_gain\tperc_recover\n",
      "base_score\t0.9572\t1.0000\n",
      "r_text_score\t0.6232\t0.6740\n",
      "r_struct_score\t0.8541\t0.9061\n",
      "r_col_score\t0.7442\t0.8011\n",
      "r_struct_no_col_score\t0.0945\t0.1105\n",
      "r_col_corrupt_all_score\t0.7708\t0.8177\n",
      "\n",
      "Hardness: medium (480)\n",
      "[Example sql] select name, country, age from singer order by age desc\n",
      "Score\tavg_gain\tperc_recover\n",
      "base_score\t0.9462\t1.0000\n",
      "r_text_score\t0.5521\t0.5938\n",
      "r_struct_score\t0.8132\t0.8688\n",
      "r_col_score\t0.6674\t0.7188\n",
      "r_struct_no_col_score\t0.0577\t0.0583\n",
      "r_col_corrupt_all_score\t0.6774\t0.7208\n",
      "\n",
      "Hardness: hard (186)\n",
      "[Example sql] select song_name from singer where age > (select avg(age) from singer)\n",
      "Score\tavg_gain\tperc_recover\n",
      "base_score\t0.9462\t1.0000\n",
      "r_text_score\t0.5662\t0.5914\n",
      "r_struct_score\t0.7303\t0.7688\n",
      "r_col_score\t0.6793\t0.7204\n",
      "r_struct_no_col_score\t0.0947\t0.1183\n",
      "r_col_corrupt_all_score\t0.7154\t0.7419\n",
      "\n",
      "Hardness: extra (136)\n",
      "[Example sql] select t2.name, t2.location from concert as t1 join stadium as t2 on t1.stadium_id = t2.stadium_id where t1.year = 2014 intersect select t2.name, t2.location from concert as t1 join stadium as t2 on t1.stadium_id = t2.stadium_id where t1.year = 2015\n",
      "Score\tavg_gain\tperc_recover\n",
      "base_score\t0.9346\t1.0000\n",
      "r_text_score\t0.4163\t0.3971\n",
      "r_struct_score\t0.8308\t0.8750\n",
      "r_col_score\t0.6615\t0.7279\n",
      "r_struct_no_col_score\t0.1152\t0.1324\n",
      "r_col_corrupt_all_score\t0.7424\t0.7941\n",
      "\n"
     ]
    }
   ],
   "source": [
    "for h in ['easy', 'medium', 'hard', 'extra']:\n",
    "    samples = samples_by_hardness[h]\n",
    "    print(f'Hardness: {h} ({len(samples)})')\n",
    "    print('[Example sql]', samples[0]['seq_out'])\n",
    "    print(f'Score\\tavg_gain\\tperc_recover')\n",
    "    \n",
    "    low_scores = [d['low_score'] for d in samples]\n",
    "    for score_label in [\n",
    "        'base_score',\n",
    "        'r_text_score',\n",
    "        'r_struct_score',\n",
    "        'r_col_score',\n",
    "        'r_struct_no_col_score',\n",
    "        'r_col_corrupt_all_score'\n",
    "    ]:\n",
    "        high_scores = [d[score_label] for d in samples]\n",
    "        avg_gain = np.mean([h - l for h, l in zip(high_scores, low_scores)])\n",
    "        perc_recover = np.mean([h - l > 0.5 for h, l in zip(high_scores, low_scores)])\n",
    "        print(f'{score_label}\\t{avg_gain:.4f}\\t{perc_recover:.4f}')\n",
    "    print()"
   ]
  },
  {
   "cell_type": "markdown",
   "metadata": {},
   "source": [
    "#### Split by column role"
   ]
  },
  {
   "cell_type": "code",
   "execution_count": 169,
   "metadata": {},
   "outputs": [],
   "source": [
    "role_keyword_pattern = r'\\W(select|where|join|group by|having|order by)\\W'"
   ]
  },
  {
   "cell_type": "code",
   "execution_count": 170,
   "metadata": {},
   "outputs": [
    {
     "data": {
      "text/plain": [
       "'select t2.name, t2.location from concert as t1 join stadium as t2 on t1.stadium_id = t2.stadium_id where t1.year = 2014 intersect select t2.name, t2.location from concert as t1 join stadium as t2 on t1.stadium_id = t2.stadium_id where t1.year = 2015'"
      ]
     },
     "execution_count": 170,
     "metadata": {},
     "output_type": "execute_result"
    }
   ],
   "source": [
    "_sql_str = samples_by_hardness['extra'][0]['seq_out']\n",
    "_sql_str"
   ]
  },
  {
   "cell_type": "code",
   "execution_count": 171,
   "metadata": {},
   "outputs": [
    {
     "data": {
      "text/plain": [
       "['select', 'join', 'where', 'select', 'join', 'where']"
      ]
     },
     "execution_count": 171,
     "metadata": {},
     "output_type": "execute_result"
    }
   ],
   "source": [
    "re.findall(role_keyword_pattern, ' ' + _sql_str + ' ')"
   ]
  },
  {
   "cell_type": "code",
   "execution_count": 172,
   "metadata": {},
   "outputs": [],
   "source": [
    "def _detect_column_role(dec_prompt):\n",
    "    role_keyword_pattern = r'\\W(select|where|join|group by|having|order by)\\W'\n",
    "    all_kws = re.findall(role_keyword_pattern, ' ' + dec_prompt + ' ')\n",
    "    assert len(all_kws) > 0, dec_prompt\n",
    "    col_role_kw = all_kws[-1]\n",
    "    return col_role_kw"
   ]
  },
  {
   "cell_type": "code",
   "execution_count": 173,
   "metadata": {},
   "outputs": [
    {
     "data": {
      "text/plain": [
       "[('select', 632),\n",
       " ('where', 231),\n",
       " ('order by', 57),\n",
       " ('join', 60),\n",
       " ('group by', 1),\n",
       " ('having', 2)]"
      ]
     },
     "execution_count": 173,
     "metadata": {},
     "output_type": "execute_result"
    }
   ],
   "source": [
    "samples_by_column_role = defaultdict(list)\n",
    "\n",
    "for d in good_samples:\n",
    "#     all_kws = re.findall(role_keyword_pattern, ' ' + d['dec_prompt'] + ' ')\n",
    "#     assert len(all_kws) > 0, d['dec_prompt']\n",
    "#     col_role_kw = all_kws[-1]\n",
    "    col_role_kw = _detect_column_role(d['dec_prompt'])\n",
    "    samples_by_column_role[col_role_kw].append(d)\n",
    "\n",
    "[(r, len(samples)) for r, samples in samples_by_column_role.items()]"
   ]
  },
  {
   "cell_type": "code",
   "execution_count": 176,
   "metadata": {
    "scrolled": true
   },
   "outputs": [
    {
     "name": "stdout",
     "output_type": "stream",
     "text": [
      "Column role: select (632)\n",
      "[Example prompt] select name, country,\n",
      "Score\tavg_gain\tperc_recover\n",
      "base_score\t0.9639\t1.0000\n",
      "r_text_score\t0.6161\t0.6519\n",
      "r_struct_score\t0.7748\t0.8070\n",
      "r_col_score\t0.6741\t0.7184\n",
      "r_struct_no_col_score\t0.0500\t0.0475\n",
      "r_col_corrupt_all_score\t0.6990\t0.7278\n",
      "\n",
      "Column role: where (231)\n",
      "[Example prompt] select avg(age), min(age), max(age) from singer where\n",
      "Score\tavg_gain\tperc_recover\n",
      "base_score\t0.9186\t1.0000\n",
      "r_text_score\t0.5183\t0.5584\n",
      "r_struct_score\t0.8727\t0.9654\n",
      "r_col_score\t0.8211\t0.9091\n",
      "r_struct_no_col_score\t0.0841\t0.1212\n",
      "r_col_corrupt_all_score\t0.7374\t0.8139\n",
      "\n",
      "Column role: order by (57)\n",
      "[Example prompt] select song_name, song_release_year from singer order by\n",
      "Score\tavg_gain\tperc_recover\n",
      "base_score\t0.9447\t1.0000\n",
      "r_text_score\t0.4849\t0.5263\n",
      "r_struct_score\t0.9077\t0.9649\n",
      "r_col_score\t0.8048\t0.8596\n",
      "r_struct_no_col_score\t-0.0102\t0.0000\n",
      "r_col_corrupt_all_score\t0.5500\t0.5789\n",
      "\n",
      "Column role: join (60)\n",
      "[Example prompt] select t2.countryname from car_makers as t1 join countries as t2 on t1.country = t2.\n",
      "Score\tavg_gain\tperc_recover\n",
      "base_score\t0.8718\t1.0000\n",
      "r_text_score\t0.0407\t0.0000\n",
      "r_struct_score\t0.8127\t0.8833\n",
      "r_col_score\t0.1594\t0.1667\n",
      "r_struct_no_col_score\t0.4611\t0.5000\n",
      "r_col_corrupt_all_score\t0.8877\t0.9500\n",
      "\n"
     ]
    }
   ],
   "source": [
    "for r in samples_by_column_role.keys():\n",
    "    samples = samples_by_column_role[r]\n",
    "    if len(samples) < 10:\n",
    "        continue\n",
    "    print(f'Column role: {r} ({len(samples)})')\n",
    "    print('[Example prompt]', samples[0]['dec_prompt'])\n",
    "    print(f'Score\\tavg_gain\\tperc_recover')\n",
    "    \n",
    "    low_scores = [d['low_score'] for d in samples]\n",
    "    for score_label in [\n",
    "        'base_score',\n",
    "        'r_text_score',\n",
    "        'r_struct_score',\n",
    "        'r_col_score',\n",
    "        'r_struct_no_col_score',\n",
    "        'r_col_corrupt_all_score'\n",
    "    ]:\n",
    "        high_scores = [d[score_label] for d in samples]\n",
    "        avg_gain = np.mean([h - l for h, l in zip(high_scores, low_scores)])\n",
    "        perc_recover = np.mean([h - l > 0.5 for h, l in zip(high_scores, low_scores)])\n",
    "        print(f'{score_label}\\t{avg_gain:.4f}\\t{perc_recover:.4f}')\n",
    "    print()"
   ]
  },
  {
   "cell_type": "code",
   "execution_count": 35,
   "metadata": {},
   "outputs": [],
   "source": [
    "# res_path = '/home/yshao/Projects/rome/results/exp2_text_struct_interaction/exp=2_dev_column.jsonl'\n",
    "# with open(res_path, 'r') as f:\n",
    "#     all_samples = [json.loads(l) for l in f]\n",
    "# len(all_samples)"
   ]
  },
  {
   "cell_type": "markdown",
   "metadata": {},
   "source": [
    "#### Split by text match"
   ]
  },
  {
   "cell_type": "code",
   "execution_count": 64,
   "metadata": {},
   "outputs": [
    {
     "data": {
      "text/plain": [
       "1034"
      ]
     },
     "execution_count": 64,
     "metadata": {},
     "output_type": "execute_result"
    }
   ],
   "source": [
    "len(all_samples)"
   ]
  },
  {
   "cell_type": "code",
   "execution_count": null,
   "metadata": {
    "scrolled": true
   },
   "outputs": [],
   "source": [
    "ctu.RAT_SQL_RELATION_ID2NAME\n",
    "REL2ID = {v : k for k, v in ctu.RAT_SQL_RELATION_ID2NAME.items()}\n",
    "REL2ID"
   ]
  },
  {
   "cell_type": "code",
   "execution_count": null,
   "metadata": {
    "scrolled": true
   },
   "outputs": [],
   "source": [
    "all_samples[2]"
   ]
  },
  {
   "cell_type": "code",
   "execution_count": null,
   "metadata": {},
   "outputs": [],
   "source": [
    "processed_spider_dev[2]"
   ]
  },
  {
   "cell_type": "code",
   "execution_count": 68,
   "metadata": {
    "scrolled": true
   },
   "outputs": [
    {
     "data": {
      "text/plain": [
       "(45, 45)"
      ]
     },
     "execution_count": 68,
     "metadata": {},
     "output_type": "execute_result"
    }
   ],
   "source": [
    "rel_matrix = np.array(json.loads(processed_spider_dev[2]['rat_sql_graph']['relations']), dtype=int)\n",
    "rel_matrix.shape"
   ]
  },
  {
   "cell_type": "code",
   "execution_count": 69,
   "metadata": {},
   "outputs": [
    {
     "data": {
      "text/plain": [
       "[(27, 8), (40, 8)]"
      ]
     },
     "execution_count": 69,
     "metadata": {},
     "output_type": "execute_result"
    }
   ],
   "source": [
    "xs, ys = np.where(rel_matrix == 42)\n",
    "list(zip(xs, ys))"
   ]
  },
  {
   "cell_type": "code",
   "execution_count": 70,
   "metadata": {},
   "outputs": [
    {
     "name": "stdout",
     "output_type": "stream",
     "text": [
      "<C>singer::singer_id singer\n",
      "<C>singer_in_concert::singer_id singer\n"
     ]
    }
   ],
   "source": [
    "_nodes = processed_spider_dev[2]['rat_sql_graph']['nodes']\n",
    "\n",
    "for x, y in zip(xs, ys):\n",
    "    print(_nodes[x], _nodes[y])"
   ]
  },
  {
   "cell_type": "code",
   "execution_count": null,
   "metadata": {},
   "outputs": [],
   "source": [
    "ctu.parse_struct_in(spider_ex['struct_in'])"
   ]
  },
  {
   "cell_type": "code",
   "execution_count": 181,
   "metadata": {},
   "outputs": [],
   "source": [
    "def _check_text_match(spider_ex, col, tab=None):\n",
    "    # col = result_d['expect']\n",
    "    # tab = result_d['table']\n",
    "    # node_name = f'<C>{tab}::{col}'\n",
    "    nodes = spider_ex['rat_sql_graph']['nodes']\n",
    "    \n",
    "    \"\"\" TODO: if tab not given, infer from parsed_struct_in (first appearing col name) \"\"\"\n",
    "    if tab is None:\n",
    "        raise NotImplementedError\n",
    "    \n",
    "    struct_in = spider_ex['struct_in']\n",
    "    \n",
    "    # use struct_in to find column id in table and table id; use these to index ratsql node\n",
    "    db_id, tables = ctu.parse_struct_in(spider_ex['struct_in'])\n",
    "    for tid, (tab_name_t, cols) in enumerate(tables):\n",
    "        if tab_name_t[1] != tab:\n",
    "            continue\n",
    "        for cid, (col_name_t, vals) in enumerate(cols):\n",
    "            if col_name_t[1] != col:\n",
    "                continue\n",
    "            # Found the node table/column; save them \n",
    "            node_tid = tid\n",
    "            node_cid = cid\n",
    "            break\n",
    "            \n",
    "    all_tab_nodes = [n for n in nodes if n.startswith('<T>')]\n",
    "    tab_node = all_tab_nodes[node_tid]\n",
    "    ratsql_tab_name = tab_node.split('<T>')[1]\n",
    "    tab_prefix = f'<C>{ratsql_tab_name}::'\n",
    "    tab_all_col_nodes = [n for n in nodes if n.startswith(tab_prefix)]\n",
    "    col_node = tab_all_col_nodes[node_cid]\n",
    "    node_idx = nodes.index(col_node)\n",
    "    \n",
    "    rel_matrix = json.loads(spider_ex['rat_sql_graph']['relations'])\n",
    "    rel_row = rel_matrix[node_idx]\n",
    "    \n",
    "    if REL2ID['cqCEM'] in rel_row:\n",
    "        return 'exact'\n",
    "    elif REL2ID['cqCPM'] in rel_row:\n",
    "        return 'partial'\n",
    "    else:\n",
    "        return 'no-match'\n",
    "    "
   ]
  },
  {
   "cell_type": "code",
   "execution_count": 182,
   "metadata": {},
   "outputs": [
    {
     "data": {
      "text/plain": [
       "('shop',\n",
       " 'number_products',\n",
       " 'Sort all the shops by number products in descending order, and return the name, location and district of each shop.',\n",
       " 'exact')"
      ]
     },
     "execution_count": 182,
     "metadata": {},
     "output_type": "execute_result"
    }
   ],
   "source": [
    "d = good_samples[244]\n",
    "spider_ex = processed_spider_dev[d['ex_id']]\n",
    "col = d['expect']\n",
    "tab = d['table']\n",
    "d['table'], d['expect'], d['text_in'], _check_text_match(spider_ex, col, tab)"
   ]
  },
  {
   "cell_type": "code",
   "execution_count": 148,
   "metadata": {},
   "outputs": [
    {
     "data": {
      "text/plain": [
       "[('exact', 553), ('partial', 159), ('no-match', 271)]"
      ]
     },
     "execution_count": 148,
     "metadata": {},
     "output_type": "execute_result"
    }
   ],
   "source": [
    "samples_by_text_match = {k: [] for k in ['exact', 'partial', 'no-match']}\n",
    "\n",
    "for d in good_samples:\n",
    "    spider_ex = processed_spider_dev[d['ex_id']]\n",
    "    text_match = _check_text_match(spider_ex, d)\n",
    "    samples_by_text_match[text_match].append(d)\n",
    "\n",
    "[(m, len(samples)) for m, samples in samples_by_text_match.items()]"
   ]
  },
  {
   "cell_type": "code",
   "execution_count": 154,
   "metadata": {
    "scrolled": true
   },
   "outputs": [
    {
     "name": "stdout",
     "output_type": "stream",
     "text": [
      "Text match: exact (553)\n",
      "[Example] Show name, country, age for all singers ordered by age from the oldest to the youngest.\n",
      "[Example] select name, country, *age*\n",
      "Score\tavg_gain\tperc_recover\n",
      "base_score\t0.9501\t1.0000\n",
      "r_text_score\t0.7393\t0.7830\n",
      "r_struct_score\t0.7989\t0.8517\n",
      "r_col_score\t0.6998\t0.7468\n",
      "r_struct_no_col_score\t0.0679\t0.0723\n",
      "r_col_corrupt_all_score\t0.7193\t0.7595\n",
      "\n",
      "Text match: partial (159)\n",
      "[Example] Show the name and the release year of the song by the youngest singer.\n",
      "[Example] select song_name, *song_release_year*\n",
      "Score\tavg_gain\tperc_recover\n",
      "base_score\t0.9513\t1.0000\n",
      "r_text_score\t0.2488\t0.2767\n",
      "r_struct_score\t0.7862\t0.8239\n",
      "r_col_score\t0.6924\t0.7484\n",
      "r_struct_no_col_score\t0.0420\t0.0692\n",
      "r_col_corrupt_all_score\t0.5945\t0.6415\n",
      "\n",
      "Text match: no-match (271)\n",
      "[Example] What is the average, minimum, and maximum age of all singers from France?\n",
      "[Example] select avg(age), min(age), max(age) from singer where *country*\n",
      "Score\tavg_gain\tperc_recover\n",
      "base_score\t0.9366\t1.0000\n",
      "r_text_score\t0.3370\t0.3469\n",
      "r_struct_score\t0.8375\t0.8893\n",
      "r_col_score\t0.6432\t0.7048\n",
      "r_struct_no_col_score\t0.1251\t0.1365\n",
      "r_col_corrupt_all_score\t0.7618\t0.8044\n",
      "\n"
     ]
    }
   ],
   "source": [
    "for m in ['exact', 'partial', 'no-match']:\n",
    "    samples = samples_by_text_match[m]\n",
    "    print(f'Text match: {m} ({len(samples)})')\n",
    "    print('[Example]', samples[0]['text_in'])\n",
    "    print(f\"[Example] {samples[0]['dec_prompt']} *{samples[0]['expect']}*\")\n",
    "    print(f'Score\\tavg_gain\\tperc_recover')\n",
    "    \n",
    "    low_scores = [d['low_score'] for d in samples]\n",
    "    for score_label in [\n",
    "        'base_score',\n",
    "        'r_text_score',\n",
    "        'r_struct_score',\n",
    "        'r_col_score',\n",
    "        'r_struct_no_col_score',\n",
    "        'r_col_corrupt_all_score'\n",
    "#         'm-dc_t-dc_s-score',\n",
    "    ]:\n",
    "        high_scores = [d[score_label] for d in samples]\n",
    "        avg_gain = np.mean([h - l for h, l in zip(high_scores, low_scores)])\n",
    "        perc_recover = np.mean([h - l > 0.5 for h, l in zip(high_scores, low_scores)])\n",
    "        print(f'{score_label}\\t{avg_gain:.4f}\\t{perc_recover:.4f}')\n",
    "    print()"
   ]
  },
  {
   "cell_type": "code",
   "execution_count": 200,
   "metadata": {},
   "outputs": [],
   "source": [
    "ex = samples_by_text_match['no-match'][50]"
   ]
  },
  {
   "cell_type": "code",
   "execution_count": 202,
   "metadata": {},
   "outputs": [
    {
     "data": {
      "text/plain": [
       "\"What are the names of all European countries with at least 3 manufacturers? The database is as following: | car_1 | continents : contid , continent ( europe ) | countries : countryid , countryname , continent | car_makers : id , maker , fullname , country | model_list : modelid , maker , model | car_names : makeid , model , make | cars_data : id , mpg , cylinders , edispl , horsepower , weight , accelerate , year => select t1.countryname from countries as t1 join continents as t2 on t1.continent = t2.contid join car_makers as t3 on t1.countryid = t3.country where t2.continent = 'europe' group by t1.countryname having count(*) >= 3;\""
      ]
     },
     "execution_count": 202,
     "metadata": {},
     "output_type": "execute_result"
    }
   ],
   "source": [
    "text_in = ex['text_in']\n",
    "struct_in = ex['struct_in']\n",
    "\n",
    "enc_sentence = f\"{text_in} The database is as following: {struct_in}\"\n",
    "\n",
    "f\"{enc_sentence} => {ex['seq_out']}\""
   ]
  },
  {
   "cell_type": "code",
   "execution_count": 203,
   "metadata": {},
   "outputs": [
    {
     "data": {
      "text/plain": [
       "130"
      ]
     },
     "execution_count": 203,
     "metadata": {},
     "output_type": "execute_result"
    }
   ],
   "source": [
    "ex['ex_id']"
   ]
  },
  {
   "cell_type": "code",
   "execution_count": null,
   "metadata": {},
   "outputs": [],
   "source": []
  },
  {
   "cell_type": "markdown",
   "metadata": {},
   "source": [
    "### Exp-2.2: dirty text struct restore"
   ]
  },
  {
   "cell_type": "code",
   "execution_count": 37,
   "metadata": {},
   "outputs": [],
   "source": [
    "# # one-time patching: result['enc_token_range'] = enc_token_range\n",
    "\n",
    "# in_path = f'/home/yshao/Projects/rome/results/exp2.2_dirty_text_struct_restore/exp=2.2_dev_column_old_v1.jsonl'\n",
    "# out_path = f'/home/yshao/Projects/rome/results/exp2.2_dirty_text_struct_restore/exp=2.2_dev_column.jsonl'\n",
    "\n",
    "# with open(in_path, 'r') as f:\n",
    "#     all_samples = [json.loads(l) for l in f]\n",
    "    \n",
    "# for ex_id in range(len(all_samples)):\n",
    "#     ex = all_samples[ex_id]\n",
    "#     spider_ex = processed_spider_dev[ex_id]\n",
    "    \n",
    "#     text_in = spider_ex['text_in']\n",
    "#     struct_in = spider_ex['struct_in']\n",
    "#     enc_sentence = f\"{text_in}; structed knowledge: {struct_in}\"\n",
    "#     enc_tokenized = mt_uskg.tokenizer(enc_sentence)\n",
    "\n",
    "#     token_ranges_dict = ctu.find_struct_name_ranges(mt_uskg.tokenizer, enc_tokenized['input_ids'], struct_in)\n",
    "#     col_name_ranges = token_ranges_dict['col_name_ranges']\n",
    "    \n",
    "#     for r in ex['trace_results']:\n",
    "#         if not (r['correct_prediction'] and r['is_good_sample']):\n",
    "#             continue\n",
    "        \n",
    "#         node = r['target_node']\n",
    "#         tok_ranges = col_name_ranges[node]\n",
    "#         enc_token_range = [[i for s, e in tok_ranges for i in range(s, e)]]\n",
    "#         r['enc_token_range'] = enc_token_range\n",
    "\n",
    "# with open(out_path, 'w') as f:\n",
    "#     for ex in all_samples:\n",
    "#         f.write(json.dumps(ex, indent=None) + '\\n')"
   ]
  },
  {
   "cell_type": "markdown",
   "metadata": {},
   "source": [
    "#### Load & Plotting results"
   ]
  },
  {
   "cell_type": "code",
   "execution_count": 217,
   "metadata": {},
   "outputs": [
    {
     "data": {
      "text/plain": [
       "(1034, 983)"
      ]
     },
     "execution_count": 217,
     "metadata": {},
     "output_type": "execute_result"
    }
   ],
   "source": [
    "res_json_path = f'/home/yshao/Projects/rome/results/exp2.2_dirty_text_struct_restore/exp=2.2_dev_column.jsonl'\n",
    "\n",
    "with open(res_json_path, 'r') as f:\n",
    "    all_samples = [json.loads(l) for l in f]\n",
    "\n",
    "good_trace_results = []\n",
    "for ex in all_samples:\n",
    "    for r in ex['trace_results']:\n",
    "        if r['is_good_sample']:\n",
    "            r['ex_id'] = ex['ex_id']\n",
    "            good_trace_results.append(r)\n",
    "    \n",
    "len(all_samples), len(good_trace_results)"
   ]
  },
  {
   "cell_type": "code",
   "execution_count": null,
   "metadata": {},
   "outputs": [],
   "source": [
    "good_trace_results[0]"
   ]
  },
  {
   "cell_type": "code",
   "execution_count": null,
   "metadata": {},
   "outputs": [],
   "source": [
    "# # Generating all plots\n",
    "# fig_save_dir = f'/home/yshao/Projects/rome/results/figs/exp2.2_dirty_text_struct_restore/exp=2.2_dev_column'\n",
    "\n",
    "# for i, r in enumerate(tqdm(good_trace_results)):\n",
    "#     result = dict(r)\n",
    "\n",
    "#     enc_s, dec_s = result['scores']\n",
    "    \n",
    "#     # enc_s = np.array(enc_s)\n",
    "#     enc_layers_vec = np.array(enc_s[0])\n",
    "#     assert enc_layers_vec.shape == (mt_uskg.num_enc_layers,)\n",
    "#     enc_token_range, = result['enc_token_range']\n",
    "    \n",
    "#     enc_s = np.zeros((len(result['input_tokens']), mt_uskg.num_enc_layers))\n",
    "#     enc_s[enc_token_range] = enc_layers_vec\n",
    "    \n",
    "#     dec_s = np.zeros((len(result['dec_input_tokens']), mt_uskg.num_dec_layers))\n",
    "#     result['scores'] = [enc_s, dec_s]\n",
    "\n",
    "#     ex_id = r['ex_id']\n",
    "#     ctu.plot_trace_heatmap_t5(result, savepdf=os.path.join(fig_save_dir, f'{i}-ex_id={ex_id}.pdf'))\n",
    "    "
   ]
  },
  {
   "cell_type": "markdown",
   "metadata": {},
   "source": [
    "#### Check avg per layer"
   ]
  },
  {
   "cell_type": "code",
   "execution_count": 223,
   "metadata": {},
   "outputs": [],
   "source": [
    "scores_per_layer = [[] for _ in range(mt_uskg.num_enc_layers)]\n",
    "\n",
    "for r in good_trace_results:\n",
    "    enc_s, dec_s = r['scores']\n",
    "    for l, s in enumerate(enc_s[0]):\n",
    "        scores_per_layer[l].append(s)"
   ]
  },
  {
   "cell_type": "code",
   "execution_count": 224,
   "metadata": {
    "scrolled": true
   },
   "outputs": [
    {
     "data": {
      "text/plain": [
       "[0.04524680863619921,\n",
       " 0.04823612960266694,\n",
       " 0.05050564487260127,\n",
       " 0.05117493436306537,\n",
       " 0.05102834660817652,\n",
       " 0.054566656168091233,\n",
       " 0.06774559314524954,\n",
       " 0.07099460938245039,\n",
       " 0.11058849725319542,\n",
       " 0.1448350074068227,\n",
       " 0.17444474233965226,\n",
       " 0.20740230451881006,\n",
       " 0.26972563701313523,\n",
       " 0.343722437901298,\n",
       " 0.3446454598649206,\n",
       " 0.3750752314326425,\n",
       " 0.44991763415652863,\n",
       " 0.42479658773356327,\n",
       " 0.44894314747310937,\n",
       " 0.500455887096794,\n",
       " 0.511449336873387,\n",
       " 0.6113965333640995,\n",
       " 0.6624105991627,\n",
       " 0.7269043749944363]"
      ]
     },
     "execution_count": 224,
     "metadata": {},
     "output_type": "execute_result"
    }
   ],
   "source": [
    "avg_by_layer = [np.mean(scores) for scores in scores_per_layer]\n",
    "avg_by_layer"
   ]
  },
  {
   "cell_type": "code",
   "execution_count": 225,
   "metadata": {
    "scrolled": true
   },
   "outputs": [
    {
     "name": "stdout",
     "output_type": "stream",
     "text": [
      "Layer\tAvg. Score\n",
      "0    \t0.0452\n",
      "1    \t0.0482\n",
      "2    \t0.0505\n",
      "3    \t0.0512\n",
      "4    \t0.0510\n",
      "5    \t0.0546\n",
      "6    \t0.0677\n",
      "7    \t0.0710\n",
      "8    \t0.1106\n",
      "9    \t0.1448\n",
      "10   \t0.1744\n",
      "11   \t0.2074\n",
      "12   \t0.2697\n",
      "13   \t0.3437\n",
      "14   \t0.3446\n",
      "15   \t0.3751\n",
      "16   \t0.4499\n",
      "17   \t0.4248\n",
      "18   \t0.4489\n",
      "19   \t0.5005\n",
      "20   \t0.5114\n",
      "21   \t0.6114\n",
      "22   \t0.6624\n",
      "23   \t0.7269\n"
     ]
    }
   ],
   "source": [
    "print('Layer\\tAvg. Score')\n",
    "for l, avg in enumerate(avg_by_layer):\n",
    "    print(f'{l:<5d}\\t{avg:.4f}')"
   ]
  },
  {
   "cell_type": "code",
   "execution_count": 226,
   "metadata": {},
   "outputs": [
    {
     "data": {
      "text/plain": [
       "<matplotlib.legend.Legend at 0x7f6f8d610c40>"
      ]
     },
     "execution_count": 226,
     "metadata": {},
     "output_type": "execute_result"
    },
    {
     "data": {
      "image/png": "[encoded data removed]",
      "text/plain": [
       "<Figure size 432x288 with 1 Axes>"
      ]
     },
     "metadata": {
      "needs_background": "light"
     },
     "output_type": "display_data"
    }
   ],
   "source": [
    "fig, ax = plt.subplots(1, 1)\n",
    "ax.plot(avg_by_layer, label='All')\n",
    "ax.set_xlabel('Layer to restore')\n",
    "ax.set_ylabel('Avg. P(correct answer)')\n",
    "ax.legend()"
   ]
  },
  {
   "cell_type": "markdown",
   "metadata": {},
   "source": [
    "####  by hardness "
   ]
  },
  {
   "cell_type": "code",
   "execution_count": 236,
   "metadata": {},
   "outputs": [
    {
     "data": {
      "text/plain": [
       "[('easy', 181), ('medium', 480), ('hard', 186), ('extra', 136)]"
      ]
     },
     "execution_count": 236,
     "metadata": {},
     "output_type": "execute_result"
    }
   ],
   "source": [
    "# {h : [[score], ...]}\n",
    "scores_by_hardness = {hardness : [] for hardness in ['easy', 'medium', 'hard', 'extra']}   \n",
    "\n",
    "for r in good_trace_results:\n",
    "    enc_s, dec_s = r['scores']\n",
    "    scores, = enc_s\n",
    "    hardness = spider_id2hardness[r['ex_id']]\n",
    "    scores_by_hardness[hardness].append(scores)\n",
    "\n",
    "[(h, len(scores)) for h, scores in scores_by_hardness.items()]"
   ]
  },
  {
   "cell_type": "code",
   "execution_count": 237,
   "metadata": {},
   "outputs": [
    {
     "name": "stdout",
     "output_type": "stream",
     "text": [
      "easy\n",
      "['0.04', '0.05', '0.05', '0.05', '0.05', '0.06', '0.08', '0.08', '0.14', '0.20', '0.23', '0.28', '0.34', '0.41', '0.40', '0.42', '0.48', '0.47', '0.49', '0.54', '0.54', '0.65', '0.71', '0.78']\n",
      "\n",
      "medium\n",
      "['0.05', '0.05', '0.05', '0.05', '0.05', '0.06', '0.07', '0.07', '0.11', '0.14', '0.17', '0.19', '0.26', '0.34', '0.34', '0.37', '0.43', '0.40', '0.43', '0.48', '0.49', '0.59', '0.65', '0.72']\n",
      "\n",
      "hard\n",
      "['0.04', '0.04', '0.04', '0.04', '0.04', '0.04', '0.06', '0.06', '0.10', '0.13', '0.16', '0.19', '0.26', '0.33', '0.35', '0.39', '0.47', '0.45', '0.45', '0.51', '0.51', '0.59', '0.64', '0.72']\n",
      "\n",
      "extra\n",
      "['0.05', '0.05', '0.05', '0.05', '0.05', '0.06', '0.07', '0.07', '0.10', '0.12', '0.15', '0.17', '0.23', '0.30', '0.29', '0.32', '0.44', '0.41', '0.46', '0.53', '0.54', '0.66', '0.68', '0.71']\n",
      "\n"
     ]
    }
   ],
   "source": [
    "for h, sample_scores in scores_by_hardness.items():\n",
    "    print(h)\n",
    "    scores_by_layer = zip(*sample_scores)\n",
    "    avg_by_layer = [np.mean(scores) for scores in scores_by_layer]\n",
    "    print([f'{avg:.2f}' for avg in avg_by_layer])\n",
    "    print()"
   ]
  },
  {
   "cell_type": "code",
   "execution_count": 238,
   "metadata": {},
   "outputs": [
    {
     "data": {
      "text/plain": [
       "<matplotlib.legend.Legend at 0x7f6f9581ca30>"
      ]
     },
     "execution_count": 238,
     "metadata": {},
     "output_type": "execute_result"
    },
    {
     "data": {
      "image/png": "[encoded data removed]",
      "text/plain": [
       "<Figure size 432x288 with 1 Axes>"
      ]
     },
     "metadata": {
      "needs_background": "light"
     },
     "output_type": "display_data"
    }
   ],
   "source": [
    "fig, ax = plt.subplots()\n",
    "ax.plot(avg_by_layer, label='All')\n",
    "for h, sample_scores in scores_by_hardness.items():\n",
    "    h_scores_by_layer = zip(*sample_scores)\n",
    "    h_avg_by_layer = [np.mean(scores) for scores in h_scores_by_layer]\n",
    "    ax.plot(h_avg_by_layer, label=h)\n",
    "ax.set_xlabel('Layer to restore')\n",
    "ax.set_ylabel('Avg. P(correct answer)')\n",
    "ax.legend()"
   ]
  },
  {
   "cell_type": "markdown",
   "metadata": {},
   "source": [
    "####  by column role "
   ]
  },
  {
   "cell_type": "code",
   "execution_count": 239,
   "metadata": {},
   "outputs": [
    {
     "data": {
      "text/plain": [
       "[('select', 631),\n",
       " ('where', 232),\n",
       " ('order by', 57),\n",
       " ('join', 60),\n",
       " ('group by', 1),\n",
       " ('having', 2)]"
      ]
     },
     "execution_count": 239,
     "metadata": {},
     "output_type": "execute_result"
    }
   ],
   "source": [
    "# {h : [[score], ...]}\n",
    "scores_by_column_role = defaultdict(list)\n",
    "\n",
    "for r in good_trace_results:\n",
    "    enc_s, dec_s = r['scores']\n",
    "    scores, = enc_s\n",
    "    role = _detect_column_role(' '.join(r['dec_input_tokens']))\n",
    "    scores_by_column_role[role].append(scores)\n",
    "\n",
    "[(r, len(scores)) for r, scores in scores_by_column_role.items()]"
   ]
  },
  {
   "cell_type": "code",
   "execution_count": 240,
   "metadata": {},
   "outputs": [
    {
     "name": "stdout",
     "output_type": "stream",
     "text": [
      "select\n",
      "['0.03', '0.03', '0.03', '0.03', '0.03', '0.03', '0.03', '0.04', '0.04', '0.06', '0.07', '0.09', '0.13', '0.18', '0.17', '0.19', '0.26', '0.24', '0.28', '0.34', '0.36', '0.53', '0.60', '0.70']\n",
      "\n",
      "where\n",
      "['0.08', '0.09', '0.10', '0.10', '0.10', '0.12', '0.16', '0.17', '0.32', '0.41', '0.49', '0.57', '0.67', '0.78', '0.79', '0.84', '0.91', '0.89', '0.89', '0.92', '0.91', '0.89', '0.89', '0.90']\n",
      "\n",
      "order by\n",
      "['0.05', '0.05', '0.05', '0.05', '0.05', '0.05', '0.06', '0.06', '0.08', '0.10', '0.14', '0.19', '0.35', '0.60', '0.59', '0.68', '0.82', '0.72', '0.74', '0.83', '0.84', '0.82', '0.84', '0.86']\n",
      "\n",
      "join\n",
      "['0.06', '0.06', '0.06', '0.06', '0.06', '0.06', '0.06', '0.06', '0.06', '0.07', '0.07', '0.09', '0.14', '0.21', '0.21', '0.23', '0.31', '0.29', '0.30', '0.32', '0.29', '0.26', '0.25', '0.22']\n",
      "\n"
     ]
    }
   ],
   "source": [
    "for r, sample_scores in scores_by_column_role.items():\n",
    "    if len(sample_scores) < 10:\n",
    "        continue\n",
    "    print(r)\n",
    "    scores_by_layer = zip(*sample_scores)\n",
    "    avg_by_layer = [np.mean(scores) for scores in scores_by_layer]\n",
    "    print([f'{avg:.2f}' for avg in avg_by_layer])\n",
    "    print()"
   ]
  },
  {
   "cell_type": "code",
   "execution_count": 241,
   "metadata": {},
   "outputs": [
    {
     "data": {
      "text/plain": [
       "<matplotlib.legend.Legend at 0x7f6fa9b11100>"
      ]
     },
     "execution_count": 241,
     "metadata": {},
     "output_type": "execute_result"
    },
    {
     "data": {
      "image/png": "[encoded data removed]",
      "text/plain": [
       "<Figure size 432x288 with 1 Axes>"
      ]
     },
     "metadata": {
      "needs_background": "light"
     },
     "output_type": "display_data"
    }
   ],
   "source": [
    "fig, ax = plt.subplots()\n",
    "ax.plot(avg_by_layer, label='All')\n",
    "for r, sample_scores in scores_by_column_role.items():\n",
    "    if len(sample_scores) < 10:\n",
    "        continue\n",
    "    r_scores_by_layer = zip(*sample_scores)\n",
    "    r_avg_by_layer = [np.mean(scores) for scores in r_scores_by_layer]\n",
    "    ax.plot(r_avg_by_layer, label=r)\n",
    "ax.set_xlabel('Layer to restore')\n",
    "ax.set_ylabel('Avg. P(correct answer)')\n",
    "ax.legend()"
   ]
  },
  {
   "cell_type": "markdown",
   "metadata": {},
   "source": [
    "#### by text matching"
   ]
  },
  {
   "cell_type": "code",
   "execution_count": 244,
   "metadata": {},
   "outputs": [
    {
     "data": {
      "text/plain": [
       "[('exact', 553), ('partial', 159), ('no-match', 271)]"
      ]
     },
     "execution_count": 244,
     "metadata": {},
     "output_type": "execute_result"
    }
   ],
   "source": [
    "scores_by_text_matching = {k: [] for k in ['exact', 'partial', 'no-match']}\n",
    "\n",
    "for r in good_trace_results:\n",
    "    spider_ex = processed_spider_dev[r['ex_id']]\n",
    "    col = r['target_node']\n",
    "    tab = r['target_node_table']\n",
    "    m = _check_text_match(spider_ex, col, tab)\n",
    "\n",
    "    enc_s, dec_s = r['scores']\n",
    "    scores, = enc_s\n",
    "    scores_by_text_matching[m].append(scores)\n",
    "\n",
    "[(m, len(samples)) for m, samples in scores_by_text_matching.items()]"
   ]
  },
  {
   "cell_type": "code",
   "execution_count": 245,
   "metadata": {},
   "outputs": [
    {
     "name": "stdout",
     "output_type": "stream",
     "text": [
      "exact\n",
      "['0.05', '0.05', '0.05', '0.05', '0.05', '0.06', '0.07', '0.07', '0.12', '0.16', '0.19', '0.22', '0.27', '0.33', '0.33', '0.36', '0.43', '0.40', '0.42', '0.48', '0.50', '0.62', '0.67', '0.74']\n",
      "\n",
      "partial\n",
      "['0.04', '0.04', '0.04', '0.04', '0.04', '0.04', '0.05', '0.05', '0.07', '0.09', '0.11', '0.13', '0.21', '0.30', '0.30', '0.34', '0.43', '0.42', '0.46', '0.51', '0.51', '0.61', '0.67', '0.73']\n",
      "\n",
      "no-match\n",
      "['0.05', '0.05', '0.05', '0.05', '0.05', '0.06', '0.08', '0.08', '0.12', '0.15', '0.19', '0.23', '0.31', '0.40', '0.40', '0.43', '0.51', '0.48', '0.50', '0.55', '0.54', '0.59', '0.64', '0.69']\n",
      "\n"
     ]
    }
   ],
   "source": [
    "for r, sample_scores in scores_by_text_matching.items():\n",
    "    if len(sample_scores) < 10:\n",
    "        continue\n",
    "    print(r)\n",
    "    scores_by_layer = zip(*sample_scores)\n",
    "    avg_by_layer = [np.mean(scores) for scores in scores_by_layer]\n",
    "    print([f'{avg:.2f}' for avg in avg_by_layer])\n",
    "    print()"
   ]
  },
  {
   "cell_type": "code",
   "execution_count": 246,
   "metadata": {},
   "outputs": [
    {
     "data": {
      "text/plain": [
       "<matplotlib.legend.Legend at 0x7f6d3afcad60>"
      ]
     },
     "execution_count": 246,
     "metadata": {},
     "output_type": "execute_result"
    },
    {
     "data": {
      "image/png": "[encoded data removed]",
      "text/plain": [
       "<Figure size 432x288 with 1 Axes>"
      ]
     },
     "metadata": {
      "needs_background": "light"
     },
     "output_type": "display_data"
    }
   ],
   "source": [
    "fig, ax = plt.subplots()\n",
    "ax.plot(avg_by_layer, label='All')\n",
    "for m, sample_scores in scores_by_text_matching.items():\n",
    "    if len(sample_scores) < 10:\n",
    "        continue\n",
    "    r_scores_by_layer = zip(*sample_scores)\n",
    "    r_avg_by_layer = [np.mean(scores) for scores in r_scores_by_layer]\n",
    "    ax.plot(r_avg_by_layer, label=m)\n",
    "ax.set_xlabel('Layer to restore')\n",
    "ax.set_ylabel('Avg. P(correct answer)')\n",
    "ax.legend()"
   ]
  },
  {
   "cell_type": "code",
   "execution_count": null,
   "metadata": {},
   "outputs": [],
   "source": []
  },
  {
   "cell_type": "code",
   "execution_count": null,
   "metadata": {},
   "outputs": [],
   "source": []
  },
  {
   "cell_type": "markdown",
   "metadata": {},
   "source": [
    "#### post-proc: adding info to result dict\n",
    "- +table (done)"
   ]
  },
  {
   "cell_type": "code",
   "execution_count": 206,
   "metadata": {},
   "outputs": [
    {
     "data": {
      "text/plain": [
       "(1034, 1034)"
      ]
     },
     "execution_count": 206,
     "metadata": {},
     "output_type": "execute_result"
    }
   ],
   "source": [
    "in_path = f'/home/yshao/Projects/rome/results/exp2.2_dirty_text_struct_restore/exp=2.2_dev_column_old.jsonl'\n",
    "out_path = f'/home/yshao/Projects/rome/results/exp2.2_dirty_text_struct_restore/exp=2.2_dev_column.jsonl'\n",
    "ref_path = f'/home/yshao/Projects/rome/results/exp2_text_struct_interaction/exp=2_dev_column.jsonl'\n",
    "\n",
    "with open(in_path, 'r') as f:\n",
    "    all_samples = [json.loads(l) for l in f]\n",
    "with open(ref_path, 'r') as f:\n",
    "    ref_samples = [json.loads(l) for l in f]\n",
    "    \n",
    "len(all_samples), len(ref_samples)"
   ]
  },
  {
   "cell_type": "code",
   "execution_count": 210,
   "metadata": {},
   "outputs": [
    {
     "data": {
      "text/plain": [
       "(dict_keys(['low_score', 'high_score', 'input_ids', 'input_tokens', 'dec_input_ids', 'dec_input_tokens', 'subject_range', 'subject_range_individual_indices', 'answer', 'window', 'correct_prediction', 'kind', 'sever_kind', 'scores', 'is_good_sample', 'target_node', 'db_id', 'enc_token_range']),\n",
       " dict_keys(['text_in', 'struct_in', 'seq_out', 'dec_prompt', 'expect', 'table', 'expect_input_range', 'mutual_scores', 'base_score', 'low_score', 'is_good_sample', 'r_text_score', 'r_struct_score', 'r_col_score', 'answer', 'correct_prediction', 'answers_t', 'r_struct_no_col_score', 'r_col_corrupt_all_score']))"
      ]
     },
     "execution_count": 210,
     "metadata": {},
     "output_type": "execute_result"
    }
   ],
   "source": [
    "all_samples[2]['trace_results'][0].keys(), ref_samples[2]['trace_results'][0].keys()"
   ]
  },
  {
   "cell_type": "code",
   "execution_count": 215,
   "metadata": {},
   "outputs": [],
   "source": [
    "for i, (ex, ref_ex) in enumerate(zip(all_samples, ref_samples)):\n",
    "    cols = set([d['target_node'] for d in ex['trace_results']])\n",
    "    ref_cols = set([d['expect'] for d in ref_ex['trace_results']])\n",
    "    assert cols == ref_cols, (cols, ref_cols)\n",
    "    \n",
    "    _c2t = {d['expect'] : d['table'] for d in ref_ex['trace_results']}\n",
    "    for d in ex['trace_results']:\n",
    "        col = d['target_node']\n",
    "        tab = _c2t[col]\n",
    "        d['target_node_table'] = tab"
   ]
  },
  {
   "cell_type": "code",
   "execution_count": 216,
   "metadata": {},
   "outputs": [],
   "source": [
    "with open(out_path, 'w') as f:\n",
    "    for ex in all_samples:\n",
    "        f.write(json.dumps(ex, indent=None) + '\\n')"
   ]
  },
  {
   "cell_type": "code",
   "execution_count": null,
   "metadata": {},
   "outputs": [],
   "source": []
  },
  {
   "cell_type": "markdown",
   "metadata": {},
   "source": [
    "## USKG error analysis"
   ]
  },
  {
   "cell_type": "code",
   "execution_count": 335,
   "metadata": {},
   "outputs": [],
   "source": [
    "# adapted from play_pred()\n",
    "\n",
    "def pred_sql(mt, ex):\n",
    "    text_in = ex['text_in']\n",
    "    struct_in = ex['struct_in']\n",
    "\n",
    "    txt = f\"{text_in}; structed knowledge: {struct_in}\"\n",
    "    \n",
    "    tokenized_txt = mt.tokenizer_uskg([txt], max_length=1024, padding=\"max_length\", truncation=True)\n",
    "    \n",
    "    device = mt.model.device\n",
    "    pred = mt.tokenizer_uskg.batch_decode(\n",
    "      mt.model.generate(\n",
    "        torch.tensor(tokenized_txt.data['input_ids'], dtype=int, device=device),\n",
    "        torch.tensor(tokenized_txt.data['attention_mask'], dtype=int, device=device),\n",
    "        num_beams=1, \n",
    "        max_length=256\n",
    "        ), \n",
    "      skip_special_tokens=True \n",
    "    )\n",
    "    return pred[0]\n"
   ]
  },
  {
   "cell_type": "code",
   "execution_count": 336,
   "metadata": {},
   "outputs": [],
   "source": [
    "# adapted from evaluator.evaluate_one()\n",
    "\n",
    "def evaluate_sql(evaluator, db_name, gold, predicted):\n",
    "    schema = evaluator.schemas[db_name]\n",
    "    g_sql = sp_eval.get_sql(schema, gold)\n",
    "    hardness = evaluator.eval_hardness(g_sql)\n",
    "    # self.scores[hardness][\"count\"] += 1\n",
    "    # self.scores[\"all\"][\"count\"] += 1\n",
    "\n",
    "    parse_error = False\n",
    "    try:\n",
    "        p_sql = sp_eval.get_sql(schema, predicted)\n",
    "    except:\n",
    "        # If p_sql is not valid, then we will use an empty sql to evaluate with the correct sql\n",
    "        p_sql = {\n",
    "            \"except\": None,\n",
    "            \"from\": {\"conds\": [], \"table_units\": []},\n",
    "            \"groupBy\": [],\n",
    "            \"having\": [],\n",
    "            \"intersect\": None,\n",
    "            \"limit\": None,\n",
    "            \"orderBy\": [],\n",
    "            \"select\": [False, []],\n",
    "            \"union\": None,\n",
    "            \"where\": [],\n",
    "        }\n",
    "\n",
    "        # TODO fix\n",
    "        parse_error = True\n",
    "\n",
    "    # rebuild sql for value evaluation\n",
    "    kmap = evaluator.kmaps[db_name]\n",
    "    g_valid_col_units = sp_eval.build_valid_col_units(g_sql[\"from\"][\"table_units\"], schema)\n",
    "    g_sql = sp_eval.rebuild_sql_val(g_sql)\n",
    "    g_sql = sp_eval.rebuild_sql_col(g_valid_col_units, g_sql, kmap)\n",
    "    p_valid_col_units = sp_eval.build_valid_col_units(p_sql[\"from\"][\"table_units\"], schema)\n",
    "    p_sql = sp_eval.rebuild_sql_val(p_sql)\n",
    "    p_sql = sp_eval.rebuild_sql_col(p_valid_col_units, p_sql, kmap)\n",
    "    \n",
    "    exec_score = None\n",
    "    partial_scores = None\n",
    "    exact_score = None\n",
    "    if evaluator.etype in [\"all\", \"exec\"]:\n",
    "        exec_score = sp_eval.eval_exec_match(\n",
    "            evaluator.db_paths[db_name], predicted, gold, p_sql, g_sql\n",
    "        )\n",
    "        exec_score = int(exec_score)\n",
    "    if evaluator.etype in [\"all\", \"match\"]:\n",
    "        partial_scores = evaluator.eval_partial_match(p_sql, g_sql)\n",
    "        exact_score = evaluator.eval_exact_match(p_sql, g_sql, partial_scores)\n",
    "        # update_scores_match(self.scores, exact_score, hardness, partial_scores, PARTIAL_TYPES)\n",
    "\n",
    "    return {\n",
    "        \"predicted\": predicted,\n",
    "        \"gold\": gold,\n",
    "        \"predicted_parse_error\": parse_error,\n",
    "        \"hardness\": hardness,\n",
    "        \"exact\": exact_score,\n",
    "        \"partial\": partial_scores,\n",
    "        \"exec\": exec_score,\n",
    "    }"
   ]
  },
  {
   "cell_type": "code",
   "execution_count": 354,
   "metadata": {},
   "outputs": [],
   "source": [
    "db_dir = '/home/yshao/Projects/language/language/xsp/data/spider/database'\n",
    "\n",
    "def execute_sql(db, sql_str):\n",
    "    db_path = os.path.join(db_dir, db, f'{db}.sqlite')\n",
    "    conn = sqlite3.connect(db_path)\n",
    "    cursor = conn.cursor()\n",
    "    try:\n",
    "        cursor.execute(sql_str)\n",
    "        res = cursor.fetchall()\n",
    "    except:\n",
    "        res = 'ERROR'\n",
    "    conn.close()\n",
    "    return res"
   ]
  },
  {
   "cell_type": "code",
   "execution_count": 403,
   "metadata": {},
   "outputs": [
    {
     "data": {
      "text/plain": [
       "dict_keys(['query', 'question', 'db_id', 'db_path', 'db_table_names', 'db_column_names', 'db_column_types', 'db_primary_keys', 'db_foreign_keys', 'rat_sql_graph', 'serialized_schema', 'struct_in', 'text_in', 'seq_out'])"
      ]
     },
     "execution_count": 403,
     "metadata": {},
     "output_type": "execute_result"
    }
   ],
   "source": [
    "ex = processed_spider_dev[503]\n",
    "ex.keys()"
   ]
  },
  {
   "cell_type": "code",
   "execution_count": 404,
   "metadata": {},
   "outputs": [
    {
     "data": {
      "text/plain": [
       "('battle_death',\n",
       " \"How many battles did not lose any ship with tonnage '225'?\",\n",
       " \"select count(*) from battle where id not in ( select lost_in_battle from ship where tonnage = '225' );\",\n",
       " 'select count(*) from battle where id not in ( select lost_in_battle from ship where tonnage > 225 )')"
      ]
     },
     "execution_count": 404,
     "metadata": {},
     "output_type": "execute_result"
    }
   ],
   "source": [
    "pred = pred_sql(mt_uskg, ex)\n",
    "ex['db_id'], ex['text_in'], ex['seq_out'], pred"
   ]
  },
  {
   "cell_type": "code",
   "execution_count": null,
   "metadata": {},
   "outputs": [],
   "source": [
    "text_in = ex['text_in']\n",
    "struct_in = ex['struct_in']\n",
    "txt = f\"{text_in}; structed knowledge: {struct_in}\"\n",
    "txt_toks = mt_uskg.tokenizer_uskg.tokenize(txt)\n",
    "len(txt_toks)"
   ]
  },
  {
   "cell_type": "code",
   "execution_count": null,
   "metadata": {},
   "outputs": [],
   "source": [
    "txt_toks"
   ]
  },
  {
   "cell_type": "code",
   "execution_count": 405,
   "metadata": {},
   "outputs": [
    {
     "data": {
      "text/plain": [
       "(\"select count(*) from battle where id not in ( select lost_in_battle from ship where tonnage = '225' );\",\n",
       " [(7,)])"
      ]
     },
     "execution_count": 405,
     "metadata": {},
     "output_type": "execute_result"
    }
   ],
   "source": [
    "exec_res = execute_sql(ex['db_id'], ex['seq_out'])\n",
    "ex['seq_out'], exec_res"
   ]
  },
  {
   "cell_type": "code",
   "execution_count": 406,
   "metadata": {},
   "outputs": [
    {
     "data": {
      "text/plain": [
       "('select count(*) from battle where id not in ( select lost_in_battle from ship where tonnage > 225 )',\n",
       " [(3,)])"
      ]
     },
     "execution_count": 406,
     "metadata": {},
     "output_type": "execute_result"
    }
   ],
   "source": [
    "exec_res = execute_sql(ex['db_id'], pred)\n",
    "pred, exec_res"
   ]
  },
  {
   "cell_type": "code",
   "execution_count": 407,
   "metadata": {},
   "outputs": [
    {
     "data": {
      "text/plain": [
       "[(8,)]"
      ]
     },
     "execution_count": 407,
     "metadata": {},
     "output_type": "execute_result"
    }
   ],
   "source": [
    "chatgpt_pred = \"\"\"\n",
    "SELECT COUNT(DISTINCT battle.id) AS num_battles\n",
    "FROM battle\n",
    "LEFT JOIN ship ON battle.id = ship.lost_in_battle\n",
    "WHERE (ship.tonnage != '225' OR ship.tonnage IS NULL)\n",
    "\"\"\"\n",
    "\n",
    "execute_sql(ex['db_id'], chatgpt_pred)"
   ]
  },
  {
   "cell_type": "code",
   "execution_count": 339,
   "metadata": {},
   "outputs": [],
   "source": [
    "eval_res = evaluate_sql(evaluator, db_name=spider_ex['db_id'], gold=spider_ex['seq_out'], predicted=pred)"
   ]
  },
  {
   "cell_type": "code",
   "execution_count": 340,
   "metadata": {
    "scrolled": true
   },
   "outputs": [
    {
     "data": {
      "text/plain": [
       "{'predicted': 'select avg(num_of_staff) from museum where open_year  < 2009',\n",
       " 'gold': 'select avg(num_of_staff) from museum where open_year < 2009',\n",
       " 'predicted_parse_error': False,\n",
       " 'hardness': 'easy',\n",
       " 'exact': True,\n",
       " 'partial': {'select': {'acc': 1,\n",
       "   'rec': 1,\n",
       "   'f1': 1,\n",
       "   'label_total': 1,\n",
       "   'pred_total': 1},\n",
       "  'select(no AGG)': {'acc': 1,\n",
       "   'rec': 1,\n",
       "   'f1': 1,\n",
       "   'label_total': 1,\n",
       "   'pred_total': 1},\n",
       "  'where': {'acc': 1, 'rec': 1, 'f1': 1, 'label_total': 1, 'pred_total': 1},\n",
       "  'where(no OP)': {'acc': 1,\n",
       "   'rec': 1,\n",
       "   'f1': 1,\n",
       "   'label_total': 1,\n",
       "   'pred_total': 1},\n",
       "  'group(no Having)': {'acc': 1,\n",
       "   'rec': 1,\n",
       "   'f1': 1,\n",
       "   'label_total': 0,\n",
       "   'pred_total': 0},\n",
       "  'group': {'acc': 1, 'rec': 1, 'f1': 1, 'label_total': 0, 'pred_total': 0},\n",
       "  'order': {'acc': 1, 'rec': 1, 'f1': 1, 'label_total': 0, 'pred_total': 0},\n",
       "  'and/or': {'acc': 1, 'rec': 1, 'f1': 1, 'label_total': 1, 'pred_total': 1},\n",
       "  'IUEN': {'acc': 1, 'rec': 1, 'f1': 1, 'label_total': 0, 'pred_total': 0},\n",
       "  'keywords': {'acc': 1,\n",
       "   'rec': 1,\n",
       "   'f1': 1,\n",
       "   'label_total': 1,\n",
       "   'pred_total': 1}},\n",
       " 'exec': 1}"
      ]
     },
     "execution_count": 340,
     "metadata": {},
     "output_type": "execute_result"
    }
   ],
   "source": [
    "eval_res"
   ]
  },
  {
   "cell_type": "code",
   "execution_count": 411,
   "metadata": {},
   "outputs": [
    {
     "data": {
      "application/vnd.jupyter.widget-view+json": {
       "model_id": "dab76cae127742adbc790384e85093b6",
       "version_major": 2,
       "version_minor": 0
      },
      "text/plain": [
       "  0%|          | 0/1034 [00:00<?, ?it/s]"
      ]
     },
     "metadata": {},
     "output_type": "display_data"
    }
   ],
   "source": [
    "# Eval all \n",
    "# TODO: rerun with tokenizer_uskg decoding \n",
    "\n",
    "eval_sql_results = []\n",
    "\n",
    "for ex_id, ex in enumerate(tqdm(processed_spider_dev)):\n",
    "    pred = pred_sql(mt_uskg, ex)\n",
    "    eval_res = evaluate_sql(evaluator, db_name=ex['db_id'], gold=ex['seq_out'], predicted=pred)\n",
    "    eval_sql_results.append(eval_res)\n",
    "    "
   ]
  },
  {
   "cell_type": "code",
   "execution_count": 412,
   "metadata": {},
   "outputs": [
    {
     "data": {
      "text/plain": [
       "(0.6692456479690522, 0.6808510638297872)"
      ]
     },
     "execution_count": 412,
     "metadata": {},
     "output_type": "execute_result"
    }
   ],
   "source": [
    "avg_exact = np.mean([d['exact'] for d in eval_sql_results])\n",
    "avg_exec = np.mean([d['exec'] for d in eval_sql_results])\n",
    "avg_exact, avg_exec"
   ]
  },
  {
   "cell_type": "code",
   "execution_count": null,
   "metadata": {},
   "outputs": [],
   "source": [
    "for i, d in enumerate(eval_sql_results):\n",
    "    if d['exact'] and d['exec']:\n",
    "        continue\n",
    "    err_msg = ('A' if not d['exact'] else '') + ('X' if not d['exec'] else '')\n",
    "    ex = processed_spider_dev[i]\n",
    "    print(f'ID = {i}: {err_msg}  ({ex[\"db_id\"]}) {ex[\"text_in\"]}')\n",
    "    print(f'Pred: {d[\"predicted\"]}')\n",
    "    print(f'Gold: {d[\"gold\"]}')\n",
    "    print()"
   ]
  },
  {
   "cell_type": "code",
   "execution_count": null,
   "metadata": {
    "scrolled": true
   },
   "outputs": [],
   "source": [
    "evaluator.schemas['dog_kennels'].schema"
   ]
  },
  {
   "cell_type": "code",
   "execution_count": 414,
   "metadata": {},
   "outputs": [
    {
     "data": {
      "text/plain": [
       "20"
      ]
     },
     "execution_count": 414,
     "metadata": {},
     "output_type": "execute_result"
    }
   ],
   "source": [
    "# acc by db_id \n",
    "eval_sql_results_by_db_id = defaultdict(list)\n",
    "\n",
    "for i, d in enumerate(eval_sql_results):\n",
    "    d['ex_id'] = i\n",
    "    ex = processed_spider_dev[i]\n",
    "    db_id = ex['db_id']\n",
    "    eval_sql_results_by_db_id[db_id].append(d)\n",
    "\n",
    "len(eval_sql_results_by_db_id)"
   ]
  },
  {
   "cell_type": "code",
   "execution_count": 415,
   "metadata": {},
   "outputs": [
    {
     "name": "stdout",
     "output_type": "stream",
     "text": [
      "concert_singer\t0.8889\t0.8889\n",
      "pets_1\t0.5714\t0.7381\n",
      "car_1\t0.3478\t0.3913\n",
      "flight_2\t0.7000\t0.7500\n",
      "employee_hire_evaluation\t0.9474\t0.9737\n",
      "cre_Doc_Template_Mgt\t0.8333\t0.9048\n",
      "course_teach\t0.8667\t0.9333\n",
      "museum_visit\t0.7222\t0.8333\n",
      "wta_1\t0.6774\t0.6129\n",
      "battle_death\t0.5000\t0.5000\n",
      "student_transcripts_tracking\t0.6667\t0.6795\n",
      "tvshow\t0.7258\t0.6613\n",
      "poker_player\t0.8750\t0.8750\n",
      "voter_1\t0.6000\t0.6667\n",
      "world_1\t0.5083\t0.4833\n",
      "orchestra\t0.8000\t0.8750\n",
      "network_1\t0.6250\t0.4643\n",
      "dog_kennels\t0.5854\t0.5976\n",
      "singer\t0.8667\t0.8667\n",
      "real_estate_properties\t0.5000\t0.5000\n"
     ]
    }
   ],
   "source": [
    "for db_id, results in eval_sql_results_by_db_id.items():\n",
    "    _avg_exact = np.mean([d['exact'] for d in results])\n",
    "    _avg_exec = np.mean([d['exec'] for d in results])\n",
    "    print(f'{db_id}\\t{_avg_exact:.4f}\\t{_avg_exec:.4f}')"
   ]
  },
  {
   "cell_type": "code",
   "execution_count": null,
   "metadata": {},
   "outputs": [],
   "source": []
  },
  {
   "cell_type": "code",
   "execution_count": null,
   "metadata": {},
   "outputs": [],
   "source": []
  },
  {
   "cell_type": "markdown",
   "metadata": {},
   "source": [
    "## Temp"
   ]
  },
  {
   "cell_type": "markdown",
   "metadata": {},
   "source": [
    "### Debugging exp"
   ]
  },
  {
   "cell_type": "code",
   "execution_count": 497,
   "metadata": {},
   "outputs": [],
   "source": [
    "ex = processed_spider_dev[97]\n",
    "text_in = ex['text_in']\n",
    "struct_in = ex['struct_in']\n",
    "\n",
    "enc_sentence = f\"{text_in}; structed knowledge: {struct_in}\"\n",
    "dec_prompt = \"select t1.model from\"\n",
    "expect = \"car_names\""
   ]
  },
  {
   "cell_type": "code",
   "execution_count": 498,
   "metadata": {},
   "outputs": [],
   "source": [
    "inp = ctu.make_inputs_t5(\n",
    "    mt_uskg.tokenizer,\n",
    "    enc_sentences=[enc_sentence]*11,\n",
    "    dec_prompts=[dec_prompt]*11,\n",
    "    answer=expect\n",
    ")"
   ]
  },
  {
   "cell_type": "code",
   "execution_count": 499,
   "metadata": {},
   "outputs": [
    {
     "data": {
      "text/plain": [
       "['car', '_', 'name', 's']"
      ]
     },
     "execution_count": 499,
     "metadata": {},
     "output_type": "execute_result"
    }
   ],
   "source": [
    "ans_toks = decode_tokens(mt_uskg.tokenizer, mt_uskg.tokenizer.encode(expect, add_special_tokens=False))\n",
    "ans_toks"
   ]
  },
  {
   "cell_type": "code",
   "execution_count": 500,
   "metadata": {},
   "outputs": [
    {
     "data": {
      "text/plain": [
       "'<pad> select t1.model from car_name'"
      ]
     },
     "execution_count": 500,
     "metadata": {},
     "output_type": "execute_result"
    }
   ],
   "source": [
    "mt_uskg.tokenizer.decode(inp['decoder_input_ids'][0])"
   ]
  },
  {
   "cell_type": "code",
   "execution_count": 501,
   "metadata": {},
   "outputs": [
    {
     "data": {
      "text/plain": [
       "(['▁select', '▁', 't', '1.', 'model', '▁from'], 6)"
      ]
     },
     "execution_count": 501,
     "metadata": {},
     "output_type": "execute_result"
    }
   ],
   "source": [
    "mt_uskg.tokenizer.tokenize(dec_prompt), len(mt_uskg.tokenizer.tokenize(dec_prompt))"
   ]
  },
  {
   "cell_type": "code",
   "execution_count": 502,
   "metadata": {},
   "outputs": [
    {
     "data": {
      "text/plain": [
       "139"
      ]
     },
     "execution_count": 502,
     "metadata": {},
     "output_type": "execute_result"
    }
   ],
   "source": [
    "len(inp['input_ids'][0])"
   ]
  },
  {
   "cell_type": "code",
   "execution_count": 503,
   "metadata": {},
   "outputs": [],
   "source": [
    "# r = ctu.trace_with_patch_uskg_multi_token(\n",
    "#     mt_uskg.model,\n",
    "#     inp=inp,\n",
    "# #     states_to_patch=[(4, ctu.layername_uskg(mt_uskg.model, 'decoder', 3))],\n",
    "#     states_to_patch=[],\n",
    "# #     answers_t=mt_uskg.tokenizer.encode(expect, add_special_tokens=False),\n",
    "# #     tokens_to_mix=(0, len(inp['input_ids'][0])-1),\n",
    "#     tokens_to_mix=None,\n",
    "#     replace=True,\n",
    "# )"
   ]
  },
  {
   "cell_type": "code",
   "execution_count": 504,
   "metadata": {},
   "outputs": [
    {
     "data": {
      "text/plain": [
       "[tensor(0.5643, device='cuda:0'),\n",
       " tensor(1.0000, device='cuda:0'),\n",
       " tensor(0.9996, device='cuda:0'),\n",
       " tensor(1.0000, device='cuda:0')]"
      ]
     },
     "execution_count": 504,
     "metadata": {},
     "output_type": "execute_result"
    }
   ],
   "source": [
    "# r"
   ]
  },
  {
   "cell_type": "code",
   "execution_count": 506,
   "metadata": {},
   "outputs": [
    {
     "data": {
      "text/plain": [
       "tensor([ 443,  834, 4350,    7], device='cuda:0')"
      ]
     },
     "execution_count": 506,
     "metadata": {},
     "output_type": "execute_result"
    }
   ],
   "source": [
    "answer_len = len(mt_uskg.tokenizer.tokenize(expect))\n",
    "pred_out = ctu.predict_from_input_uskg_multi_token(mt_uskg.model, inp, pred_len=answer_len)\n",
    "pred, p = pred_out\n",
    "pred[0]"
   ]
  },
  {
   "cell_type": "code",
   "execution_count": 224,
   "metadata": {},
   "outputs": [
    {
     "data": {
      "text/plain": [
       "[('model', 'car'), ('_', '_'), ('name', 'name'), ('s', 's')]"
      ]
     },
     "execution_count": 224,
     "metadata": {},
     "output_type": "execute_result"
    }
   ],
   "source": [
    "# pred_toks = decode_tokens(mt_uskg.tokenizer, pred[0])\n",
    "# list(zip(pred_toks, ans_toks))"
   ]
  },
  {
   "cell_type": "code",
   "execution_count": 507,
   "metadata": {},
   "outputs": [
    {
     "data": {
      "text/plain": [
       "('car_1',\n",
       " 'Find the model of the car whose weight is below the average weight.',\n",
       " '| car_1 | continents : contid , continent | countries : countryid , countryname , continent | car_makers : id , maker , fullname , country | model_list : modelid , maker , model | car_names : makeid , model , make | cars_data : id , mpg , cylinders , edispl , horsepower , weight , accelerate , year',\n",
       " 'select t1.model from car_names as t1 join cars_data as t2 on t1.makeid = t2.id where t2.weight < (select avg(weight) from cars_data)')"
      ]
     },
     "execution_count": 507,
     "metadata": {},
     "output_type": "execute_result"
    }
   ],
   "source": [
    "ex['db_id'], ex['question'], ex['struct_in'], ex['seq_out']"
   ]
  },
  {
   "cell_type": "code",
   "execution_count": 510,
   "metadata": {
    "scrolled": true
   },
   "outputs": [
    {
     "name": "stdout",
     "output_type": "stream",
     "text": [
      "* 1st pass, layer: pretrain_model.encoder.embed_tokens, corrupting: (5, 15, 25)\n",
      "* 1st pass, layer: pretrain_model.decoder.block.0, restoring: [4]\n",
      "* 1st pass, layer: pretrain_model.decoder.block.1, restoring: [4]\n",
      "* 1st pass, layer: pretrain_model.decoder.block.2, restoring: [4]\n",
      "* 1st pass, layer: pretrain_model.decoder.block.3, restoring: [4]\n",
      "* 1st pass, layer: pretrain_model.decoder.block.4, restoring: [4]\n",
      "* 1st pass, layer: pretrain_model.decoder.block.5, restoring: [4]\n",
      "* 1st pass, layer: pretrain_model.decoder.block.6, restoring: [4]\n",
      "* 1st pass, layer: pretrain_model.decoder.block.7, restoring: [4]\n",
      "* 1st pass, layer: pretrain_model.decoder.block.8, restoring: [4]\n",
      "* 1st pass, layer: pretrain_model.decoder.block.9, restoring: [4]\n",
      "* 1st pass, layer: pretrain_model.decoder.block.10, restoring: [4]\n",
      "* 1st pass, layer: pretrain_model.decoder.block.11, restoring: [4]\n",
      "* 1st pass, layer: pretrain_model.decoder.block.12, restoring: [4]\n",
      "* 1st pass, layer: pretrain_model.decoder.block.13, restoring: [4]\n",
      "* 1st pass, layer: pretrain_model.decoder.block.14, restoring: [4]\n",
      "* 1st pass, layer: pretrain_model.decoder.block.15, restoring: [4]\n",
      "* 1st pass, layer: pretrain_model.decoder.block.16, restoring: [4]\n",
      "* 1st pass, layer: pretrain_model.decoder.block.17, restoring: [4]\n",
      "* 1st pass, layer: pretrain_model.decoder.block.18, restoring: [4]\n",
      "* 1st pass, layer: pretrain_model.decoder.block.19, restoring: [4]\n",
      "* 1st pass, layer: pretrain_model.decoder.block.20, restoring: [4]\n",
      "* 1st pass, layer: pretrain_model.decoder.block.21, restoring: [4]\n",
      "* 1st pass, layer: pretrain_model.decoder.block.22, restoring: [4]\n",
      "* 1st pass, layer: pretrain_model.decoder.block.23, restoring: [4]\n",
      "* 2nd pass, layer: pretrain_model.encoder.embed_tokens, corrupting: (10, 20, 30, 40)\n",
      "* 2nd pass, layer: pretrain_model.decoder.block.3, restoring: [4]\n",
      "* 2nd pass, layer: pretrain_model.decoder.block.4.layer.1.EncDecAttention, unpatching: [4]\n"
     ]
    }
   ],
   "source": [
    "r = ctu.trace_with_repatch_uskg_multi_token(\n",
    "    mt_uskg.model,\n",
    "    inp=inp,\n",
    "    states_to_patch=[(4, ctu.layername_uskg(mt_uskg.model, 'decoder', 3))],\n",
    "    states_to_unpatch=[(4, ctu.layername_uskg(mt_uskg.model, 'decoder', 4, 'cross_attn'))],\n",
    "    states_to_patch_1st_pass=[(4, ctu.layername_uskg(mt_uskg.model, 'decoder', l)) for l in range(mt_uskg.num_enc_layers)],\n",
    "    answers_t=pred[0],\n",
    "    tokens_to_mix=(10, 20, 30, 40),\n",
    "    tokens_to_mix_1st_pass=(5, 15, 25),\n",
    "    tokens_to_mix_individual_indices=True,\n",
    "    replace=True,\n",
    ")"
   ]
  },
  {
   "cell_type": "code",
   "execution_count": 511,
   "metadata": {},
   "outputs": [
    {
     "data": {
      "text/plain": [
       "[tensor(0.5877, device='cuda:0'),\n",
       " tensor(1., device='cuda:0'),\n",
       " tensor(0.9988, device='cuda:0'),\n",
       " tensor(1.0000, device='cuda:0')]"
      ]
     },
     "execution_count": 511,
     "metadata": {},
     "output_type": "execute_result"
    }
   ],
   "source": [
    "r"
   ]
  },
  {
   "cell_type": "code",
   "execution_count": null,
   "metadata": {},
   "outputs": [],
   "source": []
  },
  {
   "cell_type": "markdown",
   "metadata": {},
   "source": [
    "### Moving models"
   ]
  },
  {
   "cell_type": "code",
   "execution_count": 82,
   "metadata": {},
   "outputs": [
    {
     "data": {
      "text/plain": [
       "device(type='cpu')"
      ]
     },
     "execution_count": 82,
     "metadata": {},
     "output_type": "execute_result"
    }
   ],
   "source": [
    "mt_uskg.model.device"
   ]
  },
  {
   "cell_type": "code",
   "execution_count": null,
   "metadata": {},
   "outputs": [],
   "source": []
  },
  {
   "cell_type": "markdown",
   "metadata": {},
   "source": [
    "### tokenizer"
   ]
  },
  {
   "cell_type": "code",
   "execution_count": 11,
   "metadata": {},
   "outputs": [],
   "source": [
    "tokenizer = mt_uskg.tokenizer"
   ]
  },
  {
   "cell_type": "code",
   "execution_count": 433,
   "metadata": {},
   "outputs": [
    {
     "data": {
      "text/plain": [
       "(['▁mar', 'y', ':', '▁has', '▁', 'a', '▁little', '▁lamb', 'b', 'b'],\n",
       " ['▁mar', 'y', ':', '▁has', '▁', 'a', '▁little', '▁lamb', 'b', 'b'])"
      ]
     },
     "execution_count": 433,
     "metadata": {},
     "output_type": "execute_result"
    }
   ],
   "source": [
    "s = \"mary: has a little  lambbb\"\n",
    "s_ = \"mary: has a little lambbb\"\n",
    "tokenizer.tokenize(s), tokenizer.tokenize(s_)"
   ]
  },
  {
   "cell_type": "code",
   "execution_count": 428,
   "metadata": {},
   "outputs": [
    {
     "data": {
      "text/plain": [
       "{'input_ids': [3157, 63, 10, 65, 3, 9, 385, 17871, 115, 115, 1], 'attention_mask': [1, 1, 1, 1, 1, 1, 1, 1, 1, 1, 1]}"
      ]
     },
     "execution_count": 428,
     "metadata": {},
     "output_type": "execute_result"
    }
   ],
   "source": [
    "t = tokenizer(s)\n",
    "t"
   ]
  },
  {
   "cell_type": "code",
   "execution_count": 429,
   "metadata": {},
   "outputs": [
    {
     "data": {
      "text/plain": [
       "[(0, '▁mar'),\n",
       " (1, 'y'),\n",
       " (2, ':'),\n",
       " (3, '▁has'),\n",
       " (4, '▁'),\n",
       " (5, 'a'),\n",
       " (6, '▁little'),\n",
       " (7, '▁lamb'),\n",
       " (8, 'b'),\n",
       " (9, 'b'),\n",
       " (10, '</s>')]"
      ]
     },
     "execution_count": 429,
     "metadata": {},
     "output_type": "execute_result"
    }
   ],
   "source": [
    "list(enumerate(t.tokens()))"
   ]
  },
  {
   "cell_type": "code",
   "execution_count": 430,
   "metadata": {},
   "outputs": [
    {
     "data": {
      "text/plain": [
       "TokenSpan(start=7, end=10)"
      ]
     },
     "execution_count": 430,
     "metadata": {},
     "output_type": "execute_result"
    }
   ],
   "source": [
    "t.word_to_tokens(4)"
   ]
  },
  {
   "cell_type": "code",
   "execution_count": 431,
   "metadata": {},
   "outputs": [
    {
     "data": {
      "text/plain": [
       "'lambbb'"
      ]
     },
     "execution_count": 431,
     "metadata": {},
     "output_type": "execute_result"
    }
   ],
   "source": [
    "ctu.decode_sentences(tokenizer, t['input_ids'][7:10])"
   ]
  },
  {
   "cell_type": "code",
   "execution_count": null,
   "metadata": {},
   "outputs": [],
   "source": [
    "\"(a(a)a)\".rindex(\")\"), \"(a(a)a)\".index(\")\")"
   ]
  },
  {
   "cell_type": "markdown",
   "metadata": {},
   "source": [
    "### Debug sample number inconsistency"
   ]
  },
  {
   "cell_type": "code",
   "execution_count": 100,
   "metadata": {},
   "outputs": [],
   "source": [
    "in_path1 = '/home/yshao/Projects/rome/results/exp2_text_struct_interaction/exp=2_dev_column.jsonl'\n",
    "in_path2 = '/home/yshao/Projects/rome/results/exp2.2_dirty_text_struct_restore/exp=2.2_dev_column.jsonl'"
   ]
  },
  {
   "cell_type": "code",
   "execution_count": 101,
   "metadata": {},
   "outputs": [],
   "source": [
    "with open(in_path1, 'r') as f:\n",
    "    all_samples_1 = [json.loads(l) for l in f]\n",
    "with open(in_path2, 'r') as f:\n",
    "    all_samples_2 = [json.loads(l) for l in f]"
   ]
  },
  {
   "cell_type": "code",
   "execution_count": 102,
   "metadata": {},
   "outputs": [
    {
     "data": {
      "text/plain": [
       "(1034, 1034)"
      ]
     },
     "execution_count": 102,
     "metadata": {},
     "output_type": "execute_result"
    }
   ],
   "source": [
    "len(all_samples_1), len(all_samples_2)"
   ]
  },
  {
   "cell_type": "code",
   "execution_count": 107,
   "metadata": {},
   "outputs": [],
   "source": [
    "_mismatches = []\n",
    "\n",
    "for i, (ex1, ex2) in enumerate(zip(all_samples_1, all_samples_2)):\n",
    "    assert len(ex1['trace_results']) == len(ex2['trace_results'])\n",
    "    for r1, r2 in zip(ex1['trace_results'], ex2['trace_results']):\n",
    "        if r1['is_good_sample'] != r2['is_good_sample']:\n",
    "            _mismatches.append(i)"
   ]
  },
  {
   "cell_type": "code",
   "execution_count": 108,
   "metadata": {},
   "outputs": [
    {
     "data": {
      "text/plain": [
       "(476, [16, 16, 17, 24, 25, 33, 33, 34, 34, 47])"
      ]
     },
     "execution_count": 108,
     "metadata": {},
     "output_type": "execute_result"
    }
   ],
   "source": [
    "len(_mismatches), _mismatches[:10]"
   ]
  },
  {
   "cell_type": "code",
   "execution_count": 105,
   "metadata": {
    "scrolled": true
   },
   "outputs": [
    {
     "data": {
      "text/plain": [
       "{'ex_id': 16,\n",
       " 'trace_results': [{'text_in': 'What is the maximum capacity and the average of all stadiums ?',\n",
       "   'struct_in': '| concert_singer | stadium : stadium_id , location , name , capacity , highest , lowest , average | singer : singer_id , name , country , song_name , song_release_year , age , is_male | concert : concert_id , concert_name , theme , stadium_id , year | singer_in_concert : concert_id , singer_id',\n",
       "   'seq_out': 'select max(capacity), average from stadium',\n",
       "   'dec_prompt': 'select max(',\n",
       "   'expect': 'capacity',\n",
       "   'table': 'stadium',\n",
       "   'expect_input_range': [42, 43],\n",
       "   'mutual_scores': {'clean_t-clean_s': 0.999998927116394,\n",
       "    'clean_t-dc_s': 0.9749717116355896,\n",
       "    'clean_t-dirty_s': 0.9999902844429016,\n",
       "    'dc_t-clean_s': 0.9999997019767761,\n",
       "    'dc_t-dc_s': 0.9776398539543152,\n",
       "    'dc_t-dirty_s': 0.9865049719810486,\n",
       "    'dirty_t-clean_s': 0.9999929666519165,\n",
       "    'dirty_t-dc_s': 0.003765759989619255,\n",
       "    'dirty_t-dirty_s': 7.378806010649441e-09},\n",
       "   'base_score': 0.999998927116394,\n",
       "   'low_score': 0.003765759989619255,\n",
       "   'is_good_sample': True,\n",
       "   'r_text_score': 0.9749717116355896,\n",
       "   'r_struct_score': 0.9999929666519165,\n",
       "   'r_col_score': 0.7660433053970337},\n",
       "  {'text_in': 'What is the maximum capacity and the average of all stadiums ?',\n",
       "   'struct_in': '| concert_singer | stadium : stadium_id , location , name , capacity , highest , lowest , average | singer : singer_id , name , country , song_name , song_release_year , age , is_male | concert : concert_id , concert_name , theme , stadium_id , year | singer_in_concert : concert_id , singer_id',\n",
       "   'seq_out': 'select max(capacity), average from stadium',\n",
       "   'dec_prompt': 'select max(capacity),',\n",
       "   'expect': 'average',\n",
       "   'table': 'stadium',\n",
       "   'expect_input_range': [51, 52],\n",
       "   'mutual_scores': {'clean_t-clean_s': 0.99814772605896,\n",
       "    'clean_t-dc_s': 0.9999954104423523,\n",
       "    'clean_t-dirty_s': 0.9999954104423523,\n",
       "    'dc_t-clean_s': 0.9999687075614929,\n",
       "    'dc_t-dc_s': 0.9999951720237732,\n",
       "    'dc_t-dirty_s': 0.9999958276748657,\n",
       "    'dirty_t-clean_s': 0.27055686712265015,\n",
       "    'dirty_t-dc_s': 0.26698222756385803,\n",
       "    'dirty_t-dirty_s': 0.7233393788337708},\n",
       "   'base_score': 0.99814772605896,\n",
       "   'low_score': 0.26698222756385803,\n",
       "   'is_good_sample': True,\n",
       "   'r_text_score': 0.9999954104423523,\n",
       "   'r_struct_score': 0.27055686712265015,\n",
       "   'r_col_score': 0.04232977703213692}]}"
      ]
     },
     "execution_count": 105,
     "metadata": {},
     "output_type": "execute_result"
    }
   ],
   "source": [
    "all_samples_1[16]"
   ]
  },
  {
   "cell_type": "code",
   "execution_count": 106,
   "metadata": {},
   "outputs": [
    {
     "data": {
      "text/plain": [
       "{'ex_id': 16,\n",
       " 'trace_results': [{'correct_prediction': False,\n",
       "   'is_good_sample': False,\n",
       "   'target_node': 'capacity',\n",
       "   'db_id': 'concert_singer'},\n",
       "  {'correct_prediction': False,\n",
       "   'is_good_sample': False,\n",
       "   'target_node': 'average',\n",
       "   'db_id': 'concert_singer'}]}"
      ]
     },
     "execution_count": 106,
     "metadata": {},
     "output_type": "execute_result"
    }
   ],
   "source": [
    "all_samples_2[16]"
   ]
  },
  {
   "cell_type": "code",
   "execution_count": null,
   "metadata": {},
   "outputs": [],
   "source": []
  },
  {
   "cell_type": "code",
   "execution_count": null,
   "metadata": {},
   "outputs": [],
   "source": []
  },
  {
   "cell_type": "code",
   "execution_count": null,
   "metadata": {},
   "outputs": [],
   "source": []
  },
  {
   "cell_type": "markdown",
   "metadata": {},
   "source": [
    "### Test struct_in parsing"
   ]
  },
  {
   "cell_type": "code",
   "execution_count": 66,
   "metadata": {},
   "outputs": [],
   "source": [
    "_struct_in = \"\"\"| concert_singer | stadium : stadium_id , location , name , capacity , highest , lowest , \\\n",
    "average | singer : singer_id , name ( First Last ) , country ( France , Germany , United States ) , \\\n",
    "song_name , song_release_year , age , is_male | concert : concert_id , concert_name , theme , \\\n",
    "stadium_id , year ( 2008 , 2012 , 2022 ) | singer_in_concert : concert_id , singer_id\"\"\""
   ]
  },
  {
   "cell_type": "code",
   "execution_count": 71,
   "metadata": {},
   "outputs": [
    {
     "data": {
      "text/plain": [
       "[((3, 'stadium'),\n",
       "  [[(5, 'stadium_id'), []],\n",
       "   [(7, 'location'), []],\n",
       "   [(9, 'name'), []],\n",
       "   [(11, 'capacity'), []],\n",
       "   [(13, 'highest'), []],\n",
       "   [(15, 'lowest'), []],\n",
       "   [(17, 'average'), []]]),\n",
       " ((19, 'singer'),\n",
       "  [[(21, 'singer_id'), []],\n",
       "   [(23, 'name'), [(25, 'First Last')]],\n",
       "   [(29, 'country'), [(31, 'France'), (33, 'Germany'), (35, 'United States')]],\n",
       "   [(39, 'song_name'), []],\n",
       "   [(41, 'song_release_year'), []],\n",
       "   [(43, 'age'), []],\n",
       "   [(45, 'is_male'), []]]),\n",
       " ((47, 'concert'),\n",
       "  [[(49, 'concert_id'), []],\n",
       "   [(51, 'concert_name'), []],\n",
       "   [(53, 'theme'), []],\n",
       "   [(55, 'stadium_id'), []],\n",
       "   [(57, 'year'), [(59, '2008'), (61, '2012'), (63, '2022')]]]),\n",
       " ((66, 'singer_in_concert'),\n",
       "  [[(68, 'concert_id'), []], [(70, 'singer_id'), []]])]"
      ]
     },
     "execution_count": 71,
     "metadata": {},
     "output_type": "execute_result"
    }
   ],
   "source": [
    "ctu.parse_struct_in(_struct_in)"
   ]
  },
  {
   "cell_type": "code",
   "execution_count": 84,
   "metadata": {},
   "outputs": [],
   "source": [
    "_text_in = text_in\n",
    "\n",
    "enc_sentence = f\"{_text_in}; structed knowledge: {_struct_in}\"\n",
    "enc_tokenized = mt_uskg.tokenizer(enc_sentence)"
   ]
  },
  {
   "cell_type": "code",
   "execution_count": 85,
   "metadata": {},
   "outputs": [],
   "source": [
    "token_ranges_dict = ctu.find_struct_name_ranges(mt_uskg.tokenizer, enc_tokenized['input_ids'], _struct_in)"
   ]
  },
  {
   "cell_type": "code",
   "execution_count": 86,
   "metadata": {
    "scrolled": true
   },
   "outputs": [
    {
     "data": {
      "text/plain": [
       "{'db_id_ranges': defaultdict(list, {'concert_singer': [(25, 29)]}),\n",
       " 'table_name_ranges': defaultdict(list,\n",
       "             {'stadium': [(30, 31)],\n",
       "              'singer': [(56, 57)],\n",
       "              'concert': [(106, 107)],\n",
       "              'singer_in_concert': [(142, 149)]}),\n",
       " 'col_name_ranges': defaultdict(list,\n",
       "             {'stadium_id': [(33, 37), (123, 127)],\n",
       "              'location': [(39, 40)],\n",
       "              'name': [(42, 43), (65, 66)],\n",
       "              'capacity': [(45, 46)],\n",
       "              'highest': [(48, 49)],\n",
       "              'lowest': [(51, 52)],\n",
       "              'average': [(54, 55)],\n",
       "              'singer_id': [(59, 63), (157, 161)],\n",
       "              'country': [(73, 74)],\n",
       "              'song_name': [(87, 90)],\n",
       "              'song_release_year': [(92, 97)],\n",
       "              'age': [(99, 100)],\n",
       "              'is_male': [(102, 105)],\n",
       "              'concert_id': [(109, 113), (151, 155)],\n",
       "              'concert_name': [(115, 118)],\n",
       "              'theme': [(120, 121)],\n",
       "              'year': [(129, 130)]}),\n",
       " 'val_name_ranges': defaultdict(list,\n",
       "             {'First Last': [(67, 69)],\n",
       "              'France': [(75, 76)],\n",
       "              'Germany': [(78, 79)],\n",
       "              'United States': [(81, 83)],\n",
       "              '2008': [(131, 132)],\n",
       "              '2012': [(134, 135)],\n",
       "              '2022': [(137, 139)]})}"
      ]
     },
     "execution_count": 86,
     "metadata": {},
     "output_type": "execute_result"
    }
   ],
   "source": [
    "token_ranges_dict"
   ]
  },
  {
   "cell_type": "code",
   "execution_count": 161,
   "metadata": {
    "scrolled": true
   },
   "outputs": [
    {
     "name": "stdout",
     "output_type": "stream",
     "text": [
      "db_id_ranges\tconcert_singer\tconcert_singer\n",
      "table_name_ranges\tstadium\tstadium\n",
      "table_name_ranges\tsinger\tsinger\n",
      "table_name_ranges\tconcert\tconcert\n",
      "table_name_ranges\tsinger_in_concert\tsinger_in_concert\n",
      "col_name_ranges\tstadium_id\tstadium_id\n",
      "col_name_ranges\tstadium_id\tstadium_id\n",
      "col_name_ranges\tlocation\tlocation\n",
      "col_name_ranges\tname\tname\n",
      "col_name_ranges\tname\tname\n",
      "col_name_ranges\tcapacity\tcapacity\n",
      "col_name_ranges\thighest\thighest\n",
      "col_name_ranges\tlowest\tlowest\n",
      "col_name_ranges\taverage\taverage\n",
      "col_name_ranges\tsinger_id\tsinger_id\n",
      "col_name_ranges\tsinger_id\tsinger_id\n",
      "col_name_ranges\tcountry\tcountry ( France )\n",
      "col_name_ranges\tsong_name\tsong_name\n",
      "col_name_ranges\tsong_release_year\tsong_release_year\n",
      "col_name_ranges\tage\tage\n",
      "col_name_ranges\tis_male\tis_male\n",
      "col_name_ranges\tconcert_id\tconcert_id\n",
      "col_name_ranges\tconcert_id\tconcert_id\n",
      "col_name_ranges\tconcert_name\tconcert_name\n",
      "col_name_ranges\ttheme\ttheme\n",
      "col_name_ranges\tyear\tyear\n",
      "val_name_ranges\tFrance\tFrance\n"
     ]
    }
   ],
   "source": [
    "for d_key, d in token_ranges_dict.items():\n",
    "    for name, ranges in d.items():\n",
    "        for s, e in ranges:\n",
    "            recs_name = ctu.decode_sentences(mt_uskg.tokenizer, enc_tokenized['input_ids'][s:e])\n",
    "            print(f'{d_key}\\t{name}\\t{recs_name}')"
   ]
  },
  {
   "cell_type": "code",
   "execution_count": null,
   "metadata": {},
   "outputs": [],
   "source": []
  },
  {
   "cell_type": "markdown",
   "metadata": {},
   "source": [
    "### Stanza"
   ]
  },
  {
   "cell_type": "code",
   "execution_count": 99,
   "metadata": {},
   "outputs": [],
   "source": [
    "import stanza"
   ]
  },
  {
   "cell_type": "code",
   "execution_count": null,
   "metadata": {},
   "outputs": [],
   "source": [
    "nlp = stanza.Pipeline(lang='en', processors='tokenize,mwt,pos,lemma')"
   ]
  },
  {
   "cell_type": "code",
   "execution_count": 102,
   "metadata": {
    "scrolled": true
   },
   "outputs": [
    {
     "name": "stdout",
     "output_type": "stream",
     "text": [
      "word: cars \tlemma: car\n",
      "word: data \tlemma: datum\n"
     ]
    }
   ],
   "source": [
    "doc = nlp('cars data')\n",
    "print(*[f'word: {word.text+\" \"}\\tlemma: {word.lemma}' for sent in doc.sentences for word in sent.words], sep='\\n')"
   ]
  },
  {
   "cell_type": "code",
   "execution_count": 122,
   "metadata": {},
   "outputs": [
    {
     "data": {
      "text/plain": [
       "{\n",
       "  \"id\": 1,\n",
       "  \"text\": \"cars\",\n",
       "  \"lemma\": \"car\",\n",
       "  \"upos\": \"NOUN\",\n",
       "  \"xpos\": \"NNS\",\n",
       "  \"feats\": \"Number=Plur\",\n",
       "  \"start_char\": 0,\n",
       "  \"end_char\": 4\n",
       "}"
      ]
     },
     "execution_count": 122,
     "metadata": {},
     "output_type": "execute_result"
    }
   ],
   "source": [
    "doc = nlp('cars data')\n",
    "doc.sentences[0].words[0]"
   ]
  },
  {
   "cell_type": "code",
   "execution_count": null,
   "metadata": {},
   "outputs": [],
   "source": [
    "# lemmatizer = WordNetLemmatizer()\n",
    "\n",
    "# stanza_nlp = stanza.Pipeline(lang='en', processors='tokenize,mwt,pos,lemma')"
   ]
  },
  {
   "cell_type": "code",
   "execution_count": 132,
   "metadata": {},
   "outputs": [],
   "source": [
    "# lemm_cache = dict()\n",
    "\n",
    "# def _lemmatize(name):\n",
    "# #     toks = []\n",
    "# #     for t in name.split('_'):\n",
    "# #         lemm_t = lemm_cache.get(t, None)\n",
    "# #         if lemm_t is None:\n",
    "# #             _doc = stanza_nlp(t)\n",
    "# #             lemm_t = _doc.sentences[0].words[0].lemma\n",
    "# #             lemm_cache[t] = lemm_t\n",
    "# #         toks.append(lemm_t)\n",
    "# #     return '_'.join(toks)\n",
    "#     _name = ' '.join(name.split('_'))\n",
    "#     _doc = stanza_nlp(_name)\n",
    "#     lemm_name = [w.lemma for sent in _doc.sentences for w in sent.words]\n",
    "#     return lemm_name\n",
    "    "
   ]
  },
  {
   "cell_type": "code",
   "execution_count": null,
   "metadata": {},
   "outputs": [],
   "source": [
    "# _lemmatize('ranking_date')"
   ]
  },
  {
   "cell_type": "code",
   "execution_count": 130,
   "metadata": {},
   "outputs": [],
   "source": [
    "# def _check_text_match(spider_ex, result_d):\n",
    "#     col = result_d['expect']\n",
    "#     tab = result_d['table']\n",
    "#     node_name = f'<C>{tab}::{col}'\n",
    "#     nodes = spider_ex['rat_sql_graph']['nodes']\n",
    "    \n",
    "#     if node_name in nodes:\n",
    "#         node_idx = nodes.index(node_name)\n",
    "#     else:\n",
    "#         _col = _lemmatize(col)\n",
    "#         _tab = _lemmatize(tab)\n",
    "#         _node_name = f'<C>{_tab}::{_col}'\n",
    "# #         if col != _col:\n",
    "# #             print(f'* Lemmatize: {node_name} ==> {_node_name}')\n",
    "#         if _node_name in nodes:\n",
    "#             node_idx = nodes.index(_node_name)\n",
    "#         else:\n",
    "#             assert False, ((node_name, _node_name), nodes)\n",
    "    \n",
    "#     rel_matrix = json.loads(spider_ex['rat_sql_graph']['relations'])\n",
    "#     rel_row = rel_matrix[node_idx]\n",
    "    \n",
    "#     if REL2ID['cqCEM'] in rel_row:\n",
    "#         return 'exact'\n",
    "#     elif REL2ID['cqCPM'] in rel_row:\n",
    "#         return 'partial'\n",
    "#     else:\n",
    "#         return 'no-match'\n",
    "    "
   ]
  },
  {
   "cell_type": "markdown",
   "metadata": {},
   "source": [
    "### Tokenizer-fast / uskg"
   ]
  },
  {
   "cell_type": "code",
   "execution_count": 331,
   "metadata": {},
   "outputs": [],
   "source": [
    "ex = processed_spider_dev[416]"
   ]
  },
  {
   "cell_type": "code",
   "execution_count": 332,
   "metadata": {},
   "outputs": [
    {
     "data": {
      "text/plain": [
       "tensor([[    0,  1738,     3,     9,   208,   122,   599,  5525,   834,   858,\n",
       "           834, 26416,    61,    45,  7071,   213,   539,   834,  1201, 32100,\n",
       "          2464,     1]], device='cuda:0')"
      ]
     },
     "execution_count": 332,
     "metadata": {},
     "output_type": "execute_result"
    }
   ],
   "source": [
    "# TODO: add special token (<, <=) to t5-tokenizer \n",
    "# could use uskg tokenizer, but it's not TokenizerFast \n",
    "\n",
    "text_in = ex['text_in']\n",
    "struct_in = ex['struct_in']\n",
    "\n",
    "txt = f\"{text_in}; structed knowledge: {struct_in}\"\n",
    "\n",
    "tokenized_txt = mt_uskg.tokenizer([txt], max_length=1024, padding=\"max_length\", truncation=True)\n",
    "\n",
    "device = mt_uskg.model.device\n",
    "_output = mt_uskg.model.generate(\n",
    "    torch.tensor(tokenized_txt.data['input_ids'], dtype=int, device=device),\n",
    "    torch.tensor(tokenized_txt.data['attention_mask'], dtype=int, device=device),\n",
    "    num_beams=1, \n",
    "    max_length=256\n",
    ")\n",
    "\n",
    "_output"
   ]
  },
  {
   "cell_type": "code",
   "execution_count": 334,
   "metadata": {},
   "outputs": [
    {
     "data": {
      "text/plain": [
       "['select avg(num_of_staff) from museum where open_year 2009']"
      ]
     },
     "execution_count": 334,
     "metadata": {},
     "output_type": "execute_result"
    }
   ],
   "source": [
    "mt_uskg.tokenizer.batch_decode(\n",
    "    _output,\n",
    "    skip_special_tokens=True \n",
    ")"
   ]
  },
  {
   "cell_type": "code",
   "execution_count": 333,
   "metadata": {},
   "outputs": [
    {
     "data": {
      "text/plain": [
       "['select avg(num_of_staff) from museum where open_year  < 2009']"
      ]
     },
     "execution_count": 333,
     "metadata": {},
     "output_type": "execute_result"
    }
   ],
   "source": [
    "mt_uskg.tokenizer_uskg.batch_decode(\n",
    "    _output,\n",
    "    skip_special_tokens=True \n",
    ")"
   ]
  },
  {
   "cell_type": "code",
   "execution_count": null,
   "metadata": {},
   "outputs": [],
   "source": []
  },
  {
   "cell_type": "markdown",
   "metadata": {},
   "source": [
    "### Prepare input for chatgpt"
   ]
  },
  {
   "cell_type": "code",
   "execution_count": 401,
   "metadata": {},
   "outputs": [],
   "source": [
    "ex = processed_spider_dev[503]"
   ]
  },
  {
   "cell_type": "code",
   "execution_count": 402,
   "metadata": {},
   "outputs": [
    {
     "name": "stdout",
     "output_type": "stream",
     "text": [
      "How many battles did not lose any ship with tonnage '225'?; structed knowledge: | battle_death | battle : id , name , date , bulgarian_commander , latin_commander , result | ship : lost_in_battle , id , name , tonnage , ship_type , location , disposition_of_ship | death : caused_by_ship_id , id , note , killed , injured => select count(*) from battle where id not in ( select lost_in_battle from ship where tonnage = '225' );\n"
     ]
    }
   ],
   "source": [
    "text_in = ex['text_in']\n",
    "struct_in = ex['struct_in']\n",
    "\n",
    "enc_sentence = f\"{text_in}; structed knowledge: {struct_in}\"\n",
    "\n",
    "print(f\"{enc_sentence} => {ex['seq_out']}\")"
   ]
  },
  {
   "cell_type": "code",
   "execution_count": null,
   "metadata": {},
   "outputs": [],
   "source": []
  },
  {
   "cell_type": "markdown",
   "metadata": {},
   "source": [
    "### other temp"
   ]
  },
  {
   "cell_type": "code",
   "execution_count": 143,
   "metadata": {},
   "outputs": [
    {
     "name": "stdout",
     "output_type": "stream",
     "text": [
      "huggingface/tokenizers: The current process just got forked, after parallelism has already been used. Disabling parallelism to avoid deadlocks...\n",
      "To disable this warning, you can either:\n",
      "\t- Avoid using `tokenizers` before the fork if possible\n",
      "\t- Explicitly set the environment variable TOKENIZERS_PARALLELISM=(true | false)\n",
      "Name: matplotlib\n",
      "Version: 3.5.1\n",
      "Summary: Python plotting package\n",
      "Home-page: https://matplotlib.org\n",
      "Author: John D. Hunter, Michael Droettboom\n",
      "Author-email: matplotlib-users@python.org\n",
      "License: PSF\n",
      "Location: /home/yshao/anaconda3/envs/rome/lib/python3.9/site-packages\n",
      "Requires: packaging, fonttools, python-dateutil, kiwisolver, numpy, pillow, pyparsing, cycler\n",
      "Required-by: \n"
     ]
    }
   ],
   "source": [
    "!pip show matplotlib"
   ]
  },
  {
   "cell_type": "code",
   "execution_count": 196,
   "metadata": {},
   "outputs": [
    {
     "data": {
      "text/plain": [
       "torch.nn.parameter.Parameter"
      ]
     },
     "execution_count": 196,
     "metadata": {},
     "output_type": "execute_result"
    }
   ],
   "source": [
    "type(mt_uskg.model.pretrain_model.shared.weight)"
   ]
  },
  {
   "cell_type": "code",
   "execution_count": 198,
   "metadata": {},
   "outputs": [
    {
     "data": {
      "text/plain": [
       "torch.Tensor"
      ]
     },
     "execution_count": 198,
     "metadata": {},
     "output_type": "execute_result"
    }
   ],
   "source": [
    "_emb = mt_uskg.model.pretrain_model.shared.weight.clone()\n",
    "type(_emb)"
   ]
  },
  {
   "cell_type": "code",
   "execution_count": 202,
   "metadata": {},
   "outputs": [
    {
     "data": {
      "text/plain": [
       "False"
      ]
     },
     "execution_count": 202,
     "metadata": {},
     "output_type": "execute_result"
    }
   ],
   "source": [
    "_emb is mt_uskg.model.pretrain_model.shared.weight"
   ]
  },
  {
   "cell_type": "code",
   "execution_count": 203,
   "metadata": {},
   "outputs": [
    {
     "data": {
      "text/plain": [
       "True"
      ]
     },
     "execution_count": 203,
     "metadata": {},
     "output_type": "execute_result"
    }
   ],
   "source": [
    "_ref = mt_uskg.model.pretrain_model.shared.weight\n",
    "_ref is mt_uskg.model.pretrain_model.shared.weight"
   ]
  },
  {
   "cell_type": "code",
   "execution_count": 194,
   "metadata": {},
   "outputs": [],
   "source": [
    "m = mt_uskg.model.pretrain_model"
   ]
  },
  {
   "cell_type": "code",
   "execution_count": 196,
   "metadata": {},
   "outputs": [
    {
     "data": {
      "text/plain": [
       "torch.Size([32102, 1024])"
      ]
     },
     "execution_count": 196,
     "metadata": {},
     "output_type": "execute_result"
    }
   ],
   "source": [
    "m.encoder.embed_tokens.weight.size()"
   ]
  },
  {
   "cell_type": "code",
   "execution_count": 226,
   "metadata": {},
   "outputs": [],
   "source": [
    "m.decoder.embed_tokens = copy.deepcopy(m.encoder.embed_tokens)"
   ]
  },
  {
   "cell_type": "code",
   "execution_count": null,
   "metadata": {},
   "outputs": [],
   "source": [
    "[k for k,v in m.named_modules()]"
   ]
  },
  {
   "cell_type": "code",
   "execution_count": 322,
   "metadata": {},
   "outputs": [
    {
     "data": {
      "text/plain": [
       "['▁as', '▁', 't', '1']"
      ]
     },
     "execution_count": 322,
     "metadata": {},
     "output_type": "execute_result"
    }
   ],
   "source": [
    "mt_uskg.tokenizer.tokenize('as t1')"
   ]
  },
  {
   "cell_type": "code",
   "execution_count": 328,
   "metadata": {},
   "outputs": [],
   "source": [
    "ex = processed_spider_dev[4]"
   ]
  },
  {
   "cell_type": "code",
   "execution_count": 329,
   "metadata": {},
   "outputs": [
    {
     "data": {
      "text/plain": [
       "[('in', -3.781785),\n",
       " ('s', -7.1667466),\n",
       " ('in', -11.278912),\n",
       " ('for', -11.461598),\n",
       " ('and', -11.540182)]"
      ]
     },
     "execution_count": 329,
     "metadata": {},
     "output_type": "execute_result"
    }
   ],
   "source": [
    "text_in = ex['text_in']\n",
    "struct_in = ex['struct_in']\n",
    "\n",
    "enc_sentence = f\"{text_in}; structed knowledge: {struct_in}\"\n",
    "dec_prompt = \"select t1.model from car_names as t1 join cars_\"\n",
    "expect = \"data\"\n",
    "\n",
    "inp = ctu.make_inputs_t5(\n",
    "    mt_uskg.tokenizer,\n",
    "    enc_sentences=[enc_sentence],\n",
    "    dec_prompts=[dec_prompt],\n",
    "    device=\"cuda:0\"\n",
    ")\n",
    "out = ctu.run_model_forward_uskg(mt_uskg.model, **inp)\n",
    "logits = out[\"logits\"][0, -1].detach().cpu().numpy()\n",
    "\n",
    "top_5 = sorted(list(enumerate(logits)), key=lambda p: -p[1])[:5]\n",
    "\n",
    "[(mt_uskg.tokenizer.decode([p[0]]), p[1]) for p in top_5]\n"
   ]
  },
  {
   "cell_type": "code",
   "execution_count": 365,
   "metadata": {},
   "outputs": [
    {
     "data": {
      "text/plain": [
       "['',\n",
       " 'pretrain_model',\n",
       " 'pretrain_model.shared',\n",
       " 'pretrain_model.encoder',\n",
       " 'pretrain_model.encoder.block',\n",
       " 'pretrain_model.encoder.block.0',\n",
       " 'pretrain_model.encoder.block.0.layer',\n",
       " 'pretrain_model.encoder.block.0.layer.0',\n",
       " 'pretrain_model.encoder.block.0.layer.0.SelfAttention',\n",
       " 'pretrain_model.encoder.block.0.layer.0.SelfAttention.q',\n",
       " 'pretrain_model.encoder.block.0.layer.0.SelfAttention.k',\n",
       " 'pretrain_model.encoder.block.0.layer.0.SelfAttention.v',\n",
       " 'pretrain_model.encoder.block.0.layer.0.SelfAttention.o',\n",
       " 'pretrain_model.encoder.block.0.layer.0.SelfAttention.relative_attention_bias',\n",
       " 'pretrain_model.encoder.block.0.layer.0.layer_norm',\n",
       " 'pretrain_model.encoder.block.0.layer.0.dropout',\n",
       " 'pretrain_model.encoder.block.0.layer.1',\n",
       " 'pretrain_model.encoder.block.0.layer.1.DenseReluDense',\n",
       " 'pretrain_model.encoder.block.0.layer.1.DenseReluDense.wi',\n",
       " 'pretrain_model.encoder.block.0.layer.1.DenseReluDense.wo',\n",
       " 'pretrain_model.encoder.block.0.layer.1.DenseReluDense.dropout',\n",
       " 'pretrain_model.encoder.block.0.layer.1.layer_norm',\n",
       " 'pretrain_model.encoder.block.0.layer.1.dropout',\n",
       " 'pretrain_model.encoder.block.1',\n",
       " 'pretrain_model.encoder.block.1.layer',\n",
       " 'pretrain_model.encoder.block.1.layer.0',\n",
       " 'pretrain_model.encoder.block.1.layer.0.SelfAttention',\n",
       " 'pretrain_model.encoder.block.1.layer.0.SelfAttention.q',\n",
       " 'pretrain_model.encoder.block.1.layer.0.SelfAttention.k',\n",
       " 'pretrain_model.encoder.block.1.layer.0.SelfAttention.v',\n",
       " 'pretrain_model.encoder.block.1.layer.0.SelfAttention.o',\n",
       " 'pretrain_model.encoder.block.1.layer.0.layer_norm',\n",
       " 'pretrain_model.encoder.block.1.layer.0.dropout',\n",
       " 'pretrain_model.encoder.block.1.layer.1',\n",
       " 'pretrain_model.encoder.block.1.layer.1.DenseReluDense',\n",
       " 'pretrain_model.encoder.block.1.layer.1.DenseReluDense.wi',\n",
       " 'pretrain_model.encoder.block.1.layer.1.DenseReluDense.wo',\n",
       " 'pretrain_model.encoder.block.1.layer.1.DenseReluDense.dropout',\n",
       " 'pretrain_model.encoder.block.1.layer.1.layer_norm',\n",
       " 'pretrain_model.encoder.block.1.layer.1.dropout',\n",
       " 'pretrain_model.encoder.block.2',\n",
       " 'pretrain_model.encoder.block.2.layer',\n",
       " 'pretrain_model.encoder.block.2.layer.0',\n",
       " 'pretrain_model.encoder.block.2.layer.0.SelfAttention',\n",
       " 'pretrain_model.encoder.block.2.layer.0.SelfAttention.q',\n",
       " 'pretrain_model.encoder.block.2.layer.0.SelfAttention.k',\n",
       " 'pretrain_model.encoder.block.2.layer.0.SelfAttention.v',\n",
       " 'pretrain_model.encoder.block.2.layer.0.SelfAttention.o',\n",
       " 'pretrain_model.encoder.block.2.layer.0.layer_norm',\n",
       " 'pretrain_model.encoder.block.2.layer.0.dropout',\n",
       " 'pretrain_model.encoder.block.2.layer.1',\n",
       " 'pretrain_model.encoder.block.2.layer.1.DenseReluDense',\n",
       " 'pretrain_model.encoder.block.2.layer.1.DenseReluDense.wi',\n",
       " 'pretrain_model.encoder.block.2.layer.1.DenseReluDense.wo',\n",
       " 'pretrain_model.encoder.block.2.layer.1.DenseReluDense.dropout',\n",
       " 'pretrain_model.encoder.block.2.layer.1.layer_norm',\n",
       " 'pretrain_model.encoder.block.2.layer.1.dropout',\n",
       " 'pretrain_model.encoder.block.3',\n",
       " 'pretrain_model.encoder.block.3.layer',\n",
       " 'pretrain_model.encoder.block.3.layer.0',\n",
       " 'pretrain_model.encoder.block.3.layer.0.SelfAttention',\n",
       " 'pretrain_model.encoder.block.3.layer.0.SelfAttention.q',\n",
       " 'pretrain_model.encoder.block.3.layer.0.SelfAttention.k',\n",
       " 'pretrain_model.encoder.block.3.layer.0.SelfAttention.v',\n",
       " 'pretrain_model.encoder.block.3.layer.0.SelfAttention.o',\n",
       " 'pretrain_model.encoder.block.3.layer.0.layer_norm',\n",
       " 'pretrain_model.encoder.block.3.layer.0.dropout',\n",
       " 'pretrain_model.encoder.block.3.layer.1',\n",
       " 'pretrain_model.encoder.block.3.layer.1.DenseReluDense',\n",
       " 'pretrain_model.encoder.block.3.layer.1.DenseReluDense.wi',\n",
       " 'pretrain_model.encoder.block.3.layer.1.DenseReluDense.wo',\n",
       " 'pretrain_model.encoder.block.3.layer.1.DenseReluDense.dropout',\n",
       " 'pretrain_model.encoder.block.3.layer.1.layer_norm',\n",
       " 'pretrain_model.encoder.block.3.layer.1.dropout',\n",
       " 'pretrain_model.encoder.block.4',\n",
       " 'pretrain_model.encoder.block.4.layer',\n",
       " 'pretrain_model.encoder.block.4.layer.0',\n",
       " 'pretrain_model.encoder.block.4.layer.0.SelfAttention',\n",
       " 'pretrain_model.encoder.block.4.layer.0.SelfAttention.q',\n",
       " 'pretrain_model.encoder.block.4.layer.0.SelfAttention.k',\n",
       " 'pretrain_model.encoder.block.4.layer.0.SelfAttention.v',\n",
       " 'pretrain_model.encoder.block.4.layer.0.SelfAttention.o',\n",
       " 'pretrain_model.encoder.block.4.layer.0.layer_norm',\n",
       " 'pretrain_model.encoder.block.4.layer.0.dropout',\n",
       " 'pretrain_model.encoder.block.4.layer.1',\n",
       " 'pretrain_model.encoder.block.4.layer.1.DenseReluDense',\n",
       " 'pretrain_model.encoder.block.4.layer.1.DenseReluDense.wi',\n",
       " 'pretrain_model.encoder.block.4.layer.1.DenseReluDense.wo',\n",
       " 'pretrain_model.encoder.block.4.layer.1.DenseReluDense.dropout',\n",
       " 'pretrain_model.encoder.block.4.layer.1.layer_norm',\n",
       " 'pretrain_model.encoder.block.4.layer.1.dropout',\n",
       " 'pretrain_model.encoder.block.5',\n",
       " 'pretrain_model.encoder.block.5.layer',\n",
       " 'pretrain_model.encoder.block.5.layer.0',\n",
       " 'pretrain_model.encoder.block.5.layer.0.SelfAttention',\n",
       " 'pretrain_model.encoder.block.5.layer.0.SelfAttention.q',\n",
       " 'pretrain_model.encoder.block.5.layer.0.SelfAttention.k',\n",
       " 'pretrain_model.encoder.block.5.layer.0.SelfAttention.v',\n",
       " 'pretrain_model.encoder.block.5.layer.0.SelfAttention.o',\n",
       " 'pretrain_model.encoder.block.5.layer.0.layer_norm',\n",
       " 'pretrain_model.encoder.block.5.layer.0.dropout',\n",
       " 'pretrain_model.encoder.block.5.layer.1',\n",
       " 'pretrain_model.encoder.block.5.layer.1.DenseReluDense',\n",
       " 'pretrain_model.encoder.block.5.layer.1.DenseReluDense.wi',\n",
       " 'pretrain_model.encoder.block.5.layer.1.DenseReluDense.wo',\n",
       " 'pretrain_model.encoder.block.5.layer.1.DenseReluDense.dropout',\n",
       " 'pretrain_model.encoder.block.5.layer.1.layer_norm',\n",
       " 'pretrain_model.encoder.block.5.layer.1.dropout',\n",
       " 'pretrain_model.encoder.block.6',\n",
       " 'pretrain_model.encoder.block.6.layer',\n",
       " 'pretrain_model.encoder.block.6.layer.0',\n",
       " 'pretrain_model.encoder.block.6.layer.0.SelfAttention',\n",
       " 'pretrain_model.encoder.block.6.layer.0.SelfAttention.q',\n",
       " 'pretrain_model.encoder.block.6.layer.0.SelfAttention.k',\n",
       " 'pretrain_model.encoder.block.6.layer.0.SelfAttention.v',\n",
       " 'pretrain_model.encoder.block.6.layer.0.SelfAttention.o',\n",
       " 'pretrain_model.encoder.block.6.layer.0.layer_norm',\n",
       " 'pretrain_model.encoder.block.6.layer.0.dropout',\n",
       " 'pretrain_model.encoder.block.6.layer.1',\n",
       " 'pretrain_model.encoder.block.6.layer.1.DenseReluDense',\n",
       " 'pretrain_model.encoder.block.6.layer.1.DenseReluDense.wi',\n",
       " 'pretrain_model.encoder.block.6.layer.1.DenseReluDense.wo',\n",
       " 'pretrain_model.encoder.block.6.layer.1.DenseReluDense.dropout',\n",
       " 'pretrain_model.encoder.block.6.layer.1.layer_norm',\n",
       " 'pretrain_model.encoder.block.6.layer.1.dropout',\n",
       " 'pretrain_model.encoder.block.7',\n",
       " 'pretrain_model.encoder.block.7.layer',\n",
       " 'pretrain_model.encoder.block.7.layer.0',\n",
       " 'pretrain_model.encoder.block.7.layer.0.SelfAttention',\n",
       " 'pretrain_model.encoder.block.7.layer.0.SelfAttention.q',\n",
       " 'pretrain_model.encoder.block.7.layer.0.SelfAttention.k',\n",
       " 'pretrain_model.encoder.block.7.layer.0.SelfAttention.v',\n",
       " 'pretrain_model.encoder.block.7.layer.0.SelfAttention.o',\n",
       " 'pretrain_model.encoder.block.7.layer.0.layer_norm',\n",
       " 'pretrain_model.encoder.block.7.layer.0.dropout',\n",
       " 'pretrain_model.encoder.block.7.layer.1',\n",
       " 'pretrain_model.encoder.block.7.layer.1.DenseReluDense',\n",
       " 'pretrain_model.encoder.block.7.layer.1.DenseReluDense.wi',\n",
       " 'pretrain_model.encoder.block.7.layer.1.DenseReluDense.wo',\n",
       " 'pretrain_model.encoder.block.7.layer.1.DenseReluDense.dropout',\n",
       " 'pretrain_model.encoder.block.7.layer.1.layer_norm',\n",
       " 'pretrain_model.encoder.block.7.layer.1.dropout',\n",
       " 'pretrain_model.encoder.block.8',\n",
       " 'pretrain_model.encoder.block.8.layer',\n",
       " 'pretrain_model.encoder.block.8.layer.0',\n",
       " 'pretrain_model.encoder.block.8.layer.0.SelfAttention',\n",
       " 'pretrain_model.encoder.block.8.layer.0.SelfAttention.q',\n",
       " 'pretrain_model.encoder.block.8.layer.0.SelfAttention.k',\n",
       " 'pretrain_model.encoder.block.8.layer.0.SelfAttention.v',\n",
       " 'pretrain_model.encoder.block.8.layer.0.SelfAttention.o',\n",
       " 'pretrain_model.encoder.block.8.layer.0.layer_norm',\n",
       " 'pretrain_model.encoder.block.8.layer.0.dropout',\n",
       " 'pretrain_model.encoder.block.8.layer.1',\n",
       " 'pretrain_model.encoder.block.8.layer.1.DenseReluDense',\n",
       " 'pretrain_model.encoder.block.8.layer.1.DenseReluDense.wi',\n",
       " 'pretrain_model.encoder.block.8.layer.1.DenseReluDense.wo',\n",
       " 'pretrain_model.encoder.block.8.layer.1.DenseReluDense.dropout',\n",
       " 'pretrain_model.encoder.block.8.layer.1.layer_norm',\n",
       " 'pretrain_model.encoder.block.8.layer.1.dropout',\n",
       " 'pretrain_model.encoder.block.9',\n",
       " 'pretrain_model.encoder.block.9.layer',\n",
       " 'pretrain_model.encoder.block.9.layer.0',\n",
       " 'pretrain_model.encoder.block.9.layer.0.SelfAttention',\n",
       " 'pretrain_model.encoder.block.9.layer.0.SelfAttention.q',\n",
       " 'pretrain_model.encoder.block.9.layer.0.SelfAttention.k',\n",
       " 'pretrain_model.encoder.block.9.layer.0.SelfAttention.v',\n",
       " 'pretrain_model.encoder.block.9.layer.0.SelfAttention.o',\n",
       " 'pretrain_model.encoder.block.9.layer.0.layer_norm',\n",
       " 'pretrain_model.encoder.block.9.layer.0.dropout',\n",
       " 'pretrain_model.encoder.block.9.layer.1',\n",
       " 'pretrain_model.encoder.block.9.layer.1.DenseReluDense',\n",
       " 'pretrain_model.encoder.block.9.layer.1.DenseReluDense.wi',\n",
       " 'pretrain_model.encoder.block.9.layer.1.DenseReluDense.wo',\n",
       " 'pretrain_model.encoder.block.9.layer.1.DenseReluDense.dropout',\n",
       " 'pretrain_model.encoder.block.9.layer.1.layer_norm',\n",
       " 'pretrain_model.encoder.block.9.layer.1.dropout',\n",
       " 'pretrain_model.encoder.block.10',\n",
       " 'pretrain_model.encoder.block.10.layer',\n",
       " 'pretrain_model.encoder.block.10.layer.0',\n",
       " 'pretrain_model.encoder.block.10.layer.0.SelfAttention',\n",
       " 'pretrain_model.encoder.block.10.layer.0.SelfAttention.q',\n",
       " 'pretrain_model.encoder.block.10.layer.0.SelfAttention.k',\n",
       " 'pretrain_model.encoder.block.10.layer.0.SelfAttention.v',\n",
       " 'pretrain_model.encoder.block.10.layer.0.SelfAttention.o',\n",
       " 'pretrain_model.encoder.block.10.layer.0.layer_norm',\n",
       " 'pretrain_model.encoder.block.10.layer.0.dropout',\n",
       " 'pretrain_model.encoder.block.10.layer.1',\n",
       " 'pretrain_model.encoder.block.10.layer.1.DenseReluDense',\n",
       " 'pretrain_model.encoder.block.10.layer.1.DenseReluDense.wi',\n",
       " 'pretrain_model.encoder.block.10.layer.1.DenseReluDense.wo',\n",
       " 'pretrain_model.encoder.block.10.layer.1.DenseReluDense.dropout',\n",
       " 'pretrain_model.encoder.block.10.layer.1.layer_norm',\n",
       " 'pretrain_model.encoder.block.10.layer.1.dropout',\n",
       " 'pretrain_model.encoder.block.11',\n",
       " 'pretrain_model.encoder.block.11.layer',\n",
       " 'pretrain_model.encoder.block.11.layer.0',\n",
       " 'pretrain_model.encoder.block.11.layer.0.SelfAttention',\n",
       " 'pretrain_model.encoder.block.11.layer.0.SelfAttention.q',\n",
       " 'pretrain_model.encoder.block.11.layer.0.SelfAttention.k',\n",
       " 'pretrain_model.encoder.block.11.layer.0.SelfAttention.v',\n",
       " 'pretrain_model.encoder.block.11.layer.0.SelfAttention.o',\n",
       " 'pretrain_model.encoder.block.11.layer.0.layer_norm',\n",
       " 'pretrain_model.encoder.block.11.layer.0.dropout',\n",
       " 'pretrain_model.encoder.block.11.layer.1',\n",
       " 'pretrain_model.encoder.block.11.layer.1.DenseReluDense',\n",
       " 'pretrain_model.encoder.block.11.layer.1.DenseReluDense.wi',\n",
       " 'pretrain_model.encoder.block.11.layer.1.DenseReluDense.wo',\n",
       " 'pretrain_model.encoder.block.11.layer.1.DenseReluDense.dropout',\n",
       " 'pretrain_model.encoder.block.11.layer.1.layer_norm',\n",
       " 'pretrain_model.encoder.block.11.layer.1.dropout',\n",
       " 'pretrain_model.encoder.final_layer_norm',\n",
       " 'pretrain_model.encoder.dropout',\n",
       " 'pretrain_model.decoder',\n",
       " 'pretrain_model.decoder.embed_tokens',\n",
       " 'pretrain_model.decoder.block',\n",
       " 'pretrain_model.decoder.block.0',\n",
       " 'pretrain_model.decoder.block.0.layer',\n",
       " 'pretrain_model.decoder.block.0.layer.0',\n",
       " 'pretrain_model.decoder.block.0.layer.0.SelfAttention',\n",
       " 'pretrain_model.decoder.block.0.layer.0.SelfAttention.q',\n",
       " 'pretrain_model.decoder.block.0.layer.0.SelfAttention.k',\n",
       " 'pretrain_model.decoder.block.0.layer.0.SelfAttention.v',\n",
       " 'pretrain_model.decoder.block.0.layer.0.SelfAttention.o',\n",
       " 'pretrain_model.decoder.block.0.layer.0.SelfAttention.relative_attention_bias',\n",
       " 'pretrain_model.decoder.block.0.layer.0.layer_norm',\n",
       " 'pretrain_model.decoder.block.0.layer.0.dropout',\n",
       " 'pretrain_model.decoder.block.0.layer.1',\n",
       " 'pretrain_model.decoder.block.0.layer.1.EncDecAttention',\n",
       " 'pretrain_model.decoder.block.0.layer.1.EncDecAttention.q',\n",
       " 'pretrain_model.decoder.block.0.layer.1.EncDecAttention.k',\n",
       " 'pretrain_model.decoder.block.0.layer.1.EncDecAttention.v',\n",
       " 'pretrain_model.decoder.block.0.layer.1.EncDecAttention.o',\n",
       " 'pretrain_model.decoder.block.0.layer.1.layer_norm',\n",
       " 'pretrain_model.decoder.block.0.layer.1.dropout',\n",
       " 'pretrain_model.decoder.block.0.layer.2',\n",
       " 'pretrain_model.decoder.block.0.layer.2.DenseReluDense',\n",
       " 'pretrain_model.decoder.block.0.layer.2.DenseReluDense.wi',\n",
       " 'pretrain_model.decoder.block.0.layer.2.DenseReluDense.wo',\n",
       " 'pretrain_model.decoder.block.0.layer.2.DenseReluDense.dropout',\n",
       " 'pretrain_model.decoder.block.0.layer.2.layer_norm',\n",
       " 'pretrain_model.decoder.block.0.layer.2.dropout',\n",
       " 'pretrain_model.decoder.block.1',\n",
       " 'pretrain_model.decoder.block.1.layer',\n",
       " 'pretrain_model.decoder.block.1.layer.0',\n",
       " 'pretrain_model.decoder.block.1.layer.0.SelfAttention',\n",
       " 'pretrain_model.decoder.block.1.layer.0.SelfAttention.q',\n",
       " 'pretrain_model.decoder.block.1.layer.0.SelfAttention.k',\n",
       " 'pretrain_model.decoder.block.1.layer.0.SelfAttention.v',\n",
       " 'pretrain_model.decoder.block.1.layer.0.SelfAttention.o',\n",
       " 'pretrain_model.decoder.block.1.layer.0.layer_norm',\n",
       " 'pretrain_model.decoder.block.1.layer.0.dropout',\n",
       " 'pretrain_model.decoder.block.1.layer.1',\n",
       " 'pretrain_model.decoder.block.1.layer.1.EncDecAttention',\n",
       " 'pretrain_model.decoder.block.1.layer.1.EncDecAttention.q',\n",
       " 'pretrain_model.decoder.block.1.layer.1.EncDecAttention.k',\n",
       " 'pretrain_model.decoder.block.1.layer.1.EncDecAttention.v',\n",
       " 'pretrain_model.decoder.block.1.layer.1.EncDecAttention.o',\n",
       " 'pretrain_model.decoder.block.1.layer.1.layer_norm',\n",
       " 'pretrain_model.decoder.block.1.layer.1.dropout',\n",
       " 'pretrain_model.decoder.block.1.layer.2',\n",
       " 'pretrain_model.decoder.block.1.layer.2.DenseReluDense',\n",
       " 'pretrain_model.decoder.block.1.layer.2.DenseReluDense.wi',\n",
       " 'pretrain_model.decoder.block.1.layer.2.DenseReluDense.wo',\n",
       " 'pretrain_model.decoder.block.1.layer.2.DenseReluDense.dropout',\n",
       " 'pretrain_model.decoder.block.1.layer.2.layer_norm',\n",
       " 'pretrain_model.decoder.block.1.layer.2.dropout',\n",
       " 'pretrain_model.decoder.block.2',\n",
       " 'pretrain_model.decoder.block.2.layer',\n",
       " 'pretrain_model.decoder.block.2.layer.0',\n",
       " 'pretrain_model.decoder.block.2.layer.0.SelfAttention',\n",
       " 'pretrain_model.decoder.block.2.layer.0.SelfAttention.q',\n",
       " 'pretrain_model.decoder.block.2.layer.0.SelfAttention.k',\n",
       " 'pretrain_model.decoder.block.2.layer.0.SelfAttention.v',\n",
       " 'pretrain_model.decoder.block.2.layer.0.SelfAttention.o',\n",
       " 'pretrain_model.decoder.block.2.layer.0.layer_norm',\n",
       " 'pretrain_model.decoder.block.2.layer.0.dropout',\n",
       " 'pretrain_model.decoder.block.2.layer.1',\n",
       " 'pretrain_model.decoder.block.2.layer.1.EncDecAttention',\n",
       " 'pretrain_model.decoder.block.2.layer.1.EncDecAttention.q',\n",
       " 'pretrain_model.decoder.block.2.layer.1.EncDecAttention.k',\n",
       " 'pretrain_model.decoder.block.2.layer.1.EncDecAttention.v',\n",
       " 'pretrain_model.decoder.block.2.layer.1.EncDecAttention.o',\n",
       " 'pretrain_model.decoder.block.2.layer.1.layer_norm',\n",
       " 'pretrain_model.decoder.block.2.layer.1.dropout',\n",
       " 'pretrain_model.decoder.block.2.layer.2',\n",
       " 'pretrain_model.decoder.block.2.layer.2.DenseReluDense',\n",
       " 'pretrain_model.decoder.block.2.layer.2.DenseReluDense.wi',\n",
       " 'pretrain_model.decoder.block.2.layer.2.DenseReluDense.wo',\n",
       " 'pretrain_model.decoder.block.2.layer.2.DenseReluDense.dropout',\n",
       " 'pretrain_model.decoder.block.2.layer.2.layer_norm',\n",
       " 'pretrain_model.decoder.block.2.layer.2.dropout',\n",
       " 'pretrain_model.decoder.block.3',\n",
       " 'pretrain_model.decoder.block.3.layer',\n",
       " 'pretrain_model.decoder.block.3.layer.0',\n",
       " 'pretrain_model.decoder.block.3.layer.0.SelfAttention',\n",
       " 'pretrain_model.decoder.block.3.layer.0.SelfAttention.q',\n",
       " 'pretrain_model.decoder.block.3.layer.0.SelfAttention.k',\n",
       " 'pretrain_model.decoder.block.3.layer.0.SelfAttention.v',\n",
       " 'pretrain_model.decoder.block.3.layer.0.SelfAttention.o',\n",
       " 'pretrain_model.decoder.block.3.layer.0.layer_norm',\n",
       " 'pretrain_model.decoder.block.3.layer.0.dropout',\n",
       " 'pretrain_model.decoder.block.3.layer.1',\n",
       " 'pretrain_model.decoder.block.3.layer.1.EncDecAttention',\n",
       " 'pretrain_model.decoder.block.3.layer.1.EncDecAttention.q',\n",
       " 'pretrain_model.decoder.block.3.layer.1.EncDecAttention.k',\n",
       " 'pretrain_model.decoder.block.3.layer.1.EncDecAttention.v',\n",
       " 'pretrain_model.decoder.block.3.layer.1.EncDecAttention.o',\n",
       " 'pretrain_model.decoder.block.3.layer.1.layer_norm',\n",
       " 'pretrain_model.decoder.block.3.layer.1.dropout',\n",
       " 'pretrain_model.decoder.block.3.layer.2',\n",
       " 'pretrain_model.decoder.block.3.layer.2.DenseReluDense',\n",
       " 'pretrain_model.decoder.block.3.layer.2.DenseReluDense.wi',\n",
       " 'pretrain_model.decoder.block.3.layer.2.DenseReluDense.wo',\n",
       " 'pretrain_model.decoder.block.3.layer.2.DenseReluDense.dropout',\n",
       " 'pretrain_model.decoder.block.3.layer.2.layer_norm',\n",
       " 'pretrain_model.decoder.block.3.layer.2.dropout',\n",
       " 'pretrain_model.decoder.block.4',\n",
       " 'pretrain_model.decoder.block.4.layer',\n",
       " 'pretrain_model.decoder.block.4.layer.0',\n",
       " 'pretrain_model.decoder.block.4.layer.0.SelfAttention',\n",
       " 'pretrain_model.decoder.block.4.layer.0.SelfAttention.q',\n",
       " 'pretrain_model.decoder.block.4.layer.0.SelfAttention.k',\n",
       " 'pretrain_model.decoder.block.4.layer.0.SelfAttention.v',\n",
       " 'pretrain_model.decoder.block.4.layer.0.SelfAttention.o',\n",
       " 'pretrain_model.decoder.block.4.layer.0.layer_norm',\n",
       " 'pretrain_model.decoder.block.4.layer.0.dropout',\n",
       " 'pretrain_model.decoder.block.4.layer.1',\n",
       " 'pretrain_model.decoder.block.4.layer.1.EncDecAttention',\n",
       " 'pretrain_model.decoder.block.4.layer.1.EncDecAttention.q',\n",
       " 'pretrain_model.decoder.block.4.layer.1.EncDecAttention.k',\n",
       " 'pretrain_model.decoder.block.4.layer.1.EncDecAttention.v',\n",
       " 'pretrain_model.decoder.block.4.layer.1.EncDecAttention.o',\n",
       " 'pretrain_model.decoder.block.4.layer.1.layer_norm',\n",
       " 'pretrain_model.decoder.block.4.layer.1.dropout',\n",
       " 'pretrain_model.decoder.block.4.layer.2',\n",
       " 'pretrain_model.decoder.block.4.layer.2.DenseReluDense',\n",
       " 'pretrain_model.decoder.block.4.layer.2.DenseReluDense.wi',\n",
       " 'pretrain_model.decoder.block.4.layer.2.DenseReluDense.wo',\n",
       " 'pretrain_model.decoder.block.4.layer.2.DenseReluDense.dropout',\n",
       " 'pretrain_model.decoder.block.4.layer.2.layer_norm',\n",
       " 'pretrain_model.decoder.block.4.layer.2.dropout',\n",
       " 'pretrain_model.decoder.block.5',\n",
       " 'pretrain_model.decoder.block.5.layer',\n",
       " 'pretrain_model.decoder.block.5.layer.0',\n",
       " 'pretrain_model.decoder.block.5.layer.0.SelfAttention',\n",
       " 'pretrain_model.decoder.block.5.layer.0.SelfAttention.q',\n",
       " 'pretrain_model.decoder.block.5.layer.0.SelfAttention.k',\n",
       " 'pretrain_model.decoder.block.5.layer.0.SelfAttention.v',\n",
       " 'pretrain_model.decoder.block.5.layer.0.SelfAttention.o',\n",
       " 'pretrain_model.decoder.block.5.layer.0.layer_norm',\n",
       " 'pretrain_model.decoder.block.5.layer.0.dropout',\n",
       " 'pretrain_model.decoder.block.5.layer.1',\n",
       " 'pretrain_model.decoder.block.5.layer.1.EncDecAttention',\n",
       " 'pretrain_model.decoder.block.5.layer.1.EncDecAttention.q',\n",
       " 'pretrain_model.decoder.block.5.layer.1.EncDecAttention.k',\n",
       " 'pretrain_model.decoder.block.5.layer.1.EncDecAttention.v',\n",
       " 'pretrain_model.decoder.block.5.layer.1.EncDecAttention.o',\n",
       " 'pretrain_model.decoder.block.5.layer.1.layer_norm',\n",
       " 'pretrain_model.decoder.block.5.layer.1.dropout',\n",
       " 'pretrain_model.decoder.block.5.layer.2',\n",
       " 'pretrain_model.decoder.block.5.layer.2.DenseReluDense',\n",
       " 'pretrain_model.decoder.block.5.layer.2.DenseReluDense.wi',\n",
       " 'pretrain_model.decoder.block.5.layer.2.DenseReluDense.wo',\n",
       " 'pretrain_model.decoder.block.5.layer.2.DenseReluDense.dropout',\n",
       " 'pretrain_model.decoder.block.5.layer.2.layer_norm',\n",
       " 'pretrain_model.decoder.block.5.layer.2.dropout',\n",
       " 'pretrain_model.decoder.block.6',\n",
       " 'pretrain_model.decoder.block.6.layer',\n",
       " 'pretrain_model.decoder.block.6.layer.0',\n",
       " 'pretrain_model.decoder.block.6.layer.0.SelfAttention',\n",
       " 'pretrain_model.decoder.block.6.layer.0.SelfAttention.q',\n",
       " 'pretrain_model.decoder.block.6.layer.0.SelfAttention.k',\n",
       " 'pretrain_model.decoder.block.6.layer.0.SelfAttention.v',\n",
       " 'pretrain_model.decoder.block.6.layer.0.SelfAttention.o',\n",
       " 'pretrain_model.decoder.block.6.layer.0.layer_norm',\n",
       " 'pretrain_model.decoder.block.6.layer.0.dropout',\n",
       " 'pretrain_model.decoder.block.6.layer.1',\n",
       " 'pretrain_model.decoder.block.6.layer.1.EncDecAttention',\n",
       " 'pretrain_model.decoder.block.6.layer.1.EncDecAttention.q',\n",
       " 'pretrain_model.decoder.block.6.layer.1.EncDecAttention.k',\n",
       " 'pretrain_model.decoder.block.6.layer.1.EncDecAttention.v',\n",
       " 'pretrain_model.decoder.block.6.layer.1.EncDecAttention.o',\n",
       " 'pretrain_model.decoder.block.6.layer.1.layer_norm',\n",
       " 'pretrain_model.decoder.block.6.layer.1.dropout',\n",
       " 'pretrain_model.decoder.block.6.layer.2',\n",
       " 'pretrain_model.decoder.block.6.layer.2.DenseReluDense',\n",
       " 'pretrain_model.decoder.block.6.layer.2.DenseReluDense.wi',\n",
       " 'pretrain_model.decoder.block.6.layer.2.DenseReluDense.wo',\n",
       " 'pretrain_model.decoder.block.6.layer.2.DenseReluDense.dropout',\n",
       " 'pretrain_model.decoder.block.6.layer.2.layer_norm',\n",
       " 'pretrain_model.decoder.block.6.layer.2.dropout',\n",
       " 'pretrain_model.decoder.block.7',\n",
       " 'pretrain_model.decoder.block.7.layer',\n",
       " 'pretrain_model.decoder.block.7.layer.0',\n",
       " 'pretrain_model.decoder.block.7.layer.0.SelfAttention',\n",
       " 'pretrain_model.decoder.block.7.layer.0.SelfAttention.q',\n",
       " 'pretrain_model.decoder.block.7.layer.0.SelfAttention.k',\n",
       " 'pretrain_model.decoder.block.7.layer.0.SelfAttention.v',\n",
       " 'pretrain_model.decoder.block.7.layer.0.SelfAttention.o',\n",
       " 'pretrain_model.decoder.block.7.layer.0.layer_norm',\n",
       " 'pretrain_model.decoder.block.7.layer.0.dropout',\n",
       " 'pretrain_model.decoder.block.7.layer.1',\n",
       " 'pretrain_model.decoder.block.7.layer.1.EncDecAttention',\n",
       " 'pretrain_model.decoder.block.7.layer.1.EncDecAttention.q',\n",
       " 'pretrain_model.decoder.block.7.layer.1.EncDecAttention.k',\n",
       " 'pretrain_model.decoder.block.7.layer.1.EncDecAttention.v',\n",
       " 'pretrain_model.decoder.block.7.layer.1.EncDecAttention.o',\n",
       " 'pretrain_model.decoder.block.7.layer.1.layer_norm',\n",
       " 'pretrain_model.decoder.block.7.layer.1.dropout',\n",
       " 'pretrain_model.decoder.block.7.layer.2',\n",
       " 'pretrain_model.decoder.block.7.layer.2.DenseReluDense',\n",
       " 'pretrain_model.decoder.block.7.layer.2.DenseReluDense.wi',\n",
       " 'pretrain_model.decoder.block.7.layer.2.DenseReluDense.wo',\n",
       " 'pretrain_model.decoder.block.7.layer.2.DenseReluDense.dropout',\n",
       " 'pretrain_model.decoder.block.7.layer.2.layer_norm',\n",
       " 'pretrain_model.decoder.block.7.layer.2.dropout',\n",
       " 'pretrain_model.decoder.block.8',\n",
       " 'pretrain_model.decoder.block.8.layer',\n",
       " 'pretrain_model.decoder.block.8.layer.0',\n",
       " 'pretrain_model.decoder.block.8.layer.0.SelfAttention',\n",
       " 'pretrain_model.decoder.block.8.layer.0.SelfAttention.q',\n",
       " 'pretrain_model.decoder.block.8.layer.0.SelfAttention.k',\n",
       " 'pretrain_model.decoder.block.8.layer.0.SelfAttention.v',\n",
       " 'pretrain_model.decoder.block.8.layer.0.SelfAttention.o',\n",
       " 'pretrain_model.decoder.block.8.layer.0.layer_norm',\n",
       " 'pretrain_model.decoder.block.8.layer.0.dropout',\n",
       " 'pretrain_model.decoder.block.8.layer.1',\n",
       " 'pretrain_model.decoder.block.8.layer.1.EncDecAttention',\n",
       " 'pretrain_model.decoder.block.8.layer.1.EncDecAttention.q',\n",
       " 'pretrain_model.decoder.block.8.layer.1.EncDecAttention.k',\n",
       " 'pretrain_model.decoder.block.8.layer.1.EncDecAttention.v',\n",
       " 'pretrain_model.decoder.block.8.layer.1.EncDecAttention.o',\n",
       " 'pretrain_model.decoder.block.8.layer.1.layer_norm',\n",
       " 'pretrain_model.decoder.block.8.layer.1.dropout',\n",
       " 'pretrain_model.decoder.block.8.layer.2',\n",
       " 'pretrain_model.decoder.block.8.layer.2.DenseReluDense',\n",
       " 'pretrain_model.decoder.block.8.layer.2.DenseReluDense.wi',\n",
       " 'pretrain_model.decoder.block.8.layer.2.DenseReluDense.wo',\n",
       " 'pretrain_model.decoder.block.8.layer.2.DenseReluDense.dropout',\n",
       " 'pretrain_model.decoder.block.8.layer.2.layer_norm',\n",
       " 'pretrain_model.decoder.block.8.layer.2.dropout',\n",
       " 'pretrain_model.decoder.block.9',\n",
       " 'pretrain_model.decoder.block.9.layer',\n",
       " 'pretrain_model.decoder.block.9.layer.0',\n",
       " 'pretrain_model.decoder.block.9.layer.0.SelfAttention',\n",
       " 'pretrain_model.decoder.block.9.layer.0.SelfAttention.q',\n",
       " 'pretrain_model.decoder.block.9.layer.0.SelfAttention.k',\n",
       " 'pretrain_model.decoder.block.9.layer.0.SelfAttention.v',\n",
       " 'pretrain_model.decoder.block.9.layer.0.SelfAttention.o',\n",
       " 'pretrain_model.decoder.block.9.layer.0.layer_norm',\n",
       " 'pretrain_model.decoder.block.9.layer.0.dropout',\n",
       " 'pretrain_model.decoder.block.9.layer.1',\n",
       " 'pretrain_model.decoder.block.9.layer.1.EncDecAttention',\n",
       " 'pretrain_model.decoder.block.9.layer.1.EncDecAttention.q',\n",
       " 'pretrain_model.decoder.block.9.layer.1.EncDecAttention.k',\n",
       " 'pretrain_model.decoder.block.9.layer.1.EncDecAttention.v',\n",
       " 'pretrain_model.decoder.block.9.layer.1.EncDecAttention.o',\n",
       " 'pretrain_model.decoder.block.9.layer.1.layer_norm',\n",
       " 'pretrain_model.decoder.block.9.layer.1.dropout',\n",
       " 'pretrain_model.decoder.block.9.layer.2',\n",
       " 'pretrain_model.decoder.block.9.layer.2.DenseReluDense',\n",
       " 'pretrain_model.decoder.block.9.layer.2.DenseReluDense.wi',\n",
       " 'pretrain_model.decoder.block.9.layer.2.DenseReluDense.wo',\n",
       " 'pretrain_model.decoder.block.9.layer.2.DenseReluDense.dropout',\n",
       " 'pretrain_model.decoder.block.9.layer.2.layer_norm',\n",
       " 'pretrain_model.decoder.block.9.layer.2.dropout',\n",
       " 'pretrain_model.decoder.block.10',\n",
       " 'pretrain_model.decoder.block.10.layer',\n",
       " 'pretrain_model.decoder.block.10.layer.0',\n",
       " 'pretrain_model.decoder.block.10.layer.0.SelfAttention',\n",
       " 'pretrain_model.decoder.block.10.layer.0.SelfAttention.q',\n",
       " 'pretrain_model.decoder.block.10.layer.0.SelfAttention.k',\n",
       " 'pretrain_model.decoder.block.10.layer.0.SelfAttention.v',\n",
       " 'pretrain_model.decoder.block.10.layer.0.SelfAttention.o',\n",
       " 'pretrain_model.decoder.block.10.layer.0.layer_norm',\n",
       " 'pretrain_model.decoder.block.10.layer.0.dropout',\n",
       " 'pretrain_model.decoder.block.10.layer.1',\n",
       " 'pretrain_model.decoder.block.10.layer.1.EncDecAttention',\n",
       " 'pretrain_model.decoder.block.10.layer.1.EncDecAttention.q',\n",
       " 'pretrain_model.decoder.block.10.layer.1.EncDecAttention.k',\n",
       " 'pretrain_model.decoder.block.10.layer.1.EncDecAttention.v',\n",
       " 'pretrain_model.decoder.block.10.layer.1.EncDecAttention.o',\n",
       " 'pretrain_model.decoder.block.10.layer.1.layer_norm',\n",
       " 'pretrain_model.decoder.block.10.layer.1.dropout',\n",
       " 'pretrain_model.decoder.block.10.layer.2',\n",
       " 'pretrain_model.decoder.block.10.layer.2.DenseReluDense',\n",
       " 'pretrain_model.decoder.block.10.layer.2.DenseReluDense.wi',\n",
       " 'pretrain_model.decoder.block.10.layer.2.DenseReluDense.wo',\n",
       " 'pretrain_model.decoder.block.10.layer.2.DenseReluDense.dropout',\n",
       " 'pretrain_model.decoder.block.10.layer.2.layer_norm',\n",
       " 'pretrain_model.decoder.block.10.layer.2.dropout',\n",
       " 'pretrain_model.decoder.block.11',\n",
       " 'pretrain_model.decoder.block.11.layer',\n",
       " 'pretrain_model.decoder.block.11.layer.0',\n",
       " 'pretrain_model.decoder.block.11.layer.0.SelfAttention',\n",
       " 'pretrain_model.decoder.block.11.layer.0.SelfAttention.q',\n",
       " 'pretrain_model.decoder.block.11.layer.0.SelfAttention.k',\n",
       " 'pretrain_model.decoder.block.11.layer.0.SelfAttention.v',\n",
       " 'pretrain_model.decoder.block.11.layer.0.SelfAttention.o',\n",
       " 'pretrain_model.decoder.block.11.layer.0.layer_norm',\n",
       " 'pretrain_model.decoder.block.11.layer.0.dropout',\n",
       " 'pretrain_model.decoder.block.11.layer.1',\n",
       " 'pretrain_model.decoder.block.11.layer.1.EncDecAttention',\n",
       " 'pretrain_model.decoder.block.11.layer.1.EncDecAttention.q',\n",
       " 'pretrain_model.decoder.block.11.layer.1.EncDecAttention.k',\n",
       " 'pretrain_model.decoder.block.11.layer.1.EncDecAttention.v',\n",
       " 'pretrain_model.decoder.block.11.layer.1.EncDecAttention.o',\n",
       " 'pretrain_model.decoder.block.11.layer.1.layer_norm',\n",
       " 'pretrain_model.decoder.block.11.layer.1.dropout',\n",
       " 'pretrain_model.decoder.block.11.layer.2',\n",
       " 'pretrain_model.decoder.block.11.layer.2.DenseReluDense',\n",
       " 'pretrain_model.decoder.block.11.layer.2.DenseReluDense.wi',\n",
       " 'pretrain_model.decoder.block.11.layer.2.DenseReluDense.wo',\n",
       " 'pretrain_model.decoder.block.11.layer.2.DenseReluDense.dropout',\n",
       " 'pretrain_model.decoder.block.11.layer.2.layer_norm',\n",
       " 'pretrain_model.decoder.block.11.layer.2.dropout',\n",
       " 'pretrain_model.decoder.final_layer_norm',\n",
       " 'pretrain_model.decoder.dropout',\n",
       " 'pretrain_model.lm_head',\n",
       " 'wte',\n",
       " 'control_trans',\n",
       " 'control_trans.0',\n",
       " 'control_trans.1',\n",
       " 'control_trans.2',\n",
       " 'wte_enc',\n",
       " 'control_trans_enc',\n",
       " 'control_trans_enc.0',\n",
       " 'control_trans_enc.1',\n",
       " 'control_trans_enc.2',\n",
       " 'wte_dec',\n",
       " 'control_trans_dec',\n",
       " 'control_trans_dec.0',\n",
       " 'control_trans_dec.1',\n",
       " 'control_trans_dec.2',\n",
       " 'dropout']"
      ]
     },
     "execution_count": 365,
     "metadata": {},
     "output_type": "execute_result"
    }
   ],
   "source": [
    "[k for k,v in mt_uskg.model.named_modules()]"
   ]
  },
  {
   "cell_type": "code",
   "execution_count": 183,
   "metadata": {},
   "outputs": [
    {
     "data": {
      "text/plain": [
       "tensor([[1., 0.],\n",
       "        [0., 1.]])"
      ]
     },
     "execution_count": 183,
     "metadata": {},
     "output_type": "execute_result"
    }
   ],
   "source": [
    "a = torch.eye(3, device=\"cpu\")\n",
    "b = torch.eye(2, dtype=float, device=\"cuda:0\")\n",
    "b.to(device=a.device, dtype=a.dtype)"
   ]
  },
  {
   "cell_type": "code",
   "execution_count": 184,
   "metadata": {},
   "outputs": [
    {
     "data": {
      "text/plain": [
       "tensor([[1., 0., 0.],\n",
       "        [1., 1., 0.],\n",
       "        [0., 0., 1.]])"
      ]
     },
     "execution_count": 184,
     "metadata": {},
     "output_type": "execute_result"
    }
   ],
   "source": [
    "a[1:, [0, 2]] = b.to(device=a.device, dtype=a.dtype)\n",
    "a"
   ]
  },
  {
   "cell_type": "code",
   "execution_count": 192,
   "metadata": {},
   "outputs": [
    {
     "data": {
      "text/plain": [
       "[3, 17, 536]"
      ]
     },
     "execution_count": 192,
     "metadata": {},
     "output_type": "execute_result"
    }
   ],
   "source": [
    "mt_uskg.tokenizer.encode('t1', add_special_tokens=False)"
   ]
  },
  {
   "cell_type": "code",
   "execution_count": 57,
   "metadata": {},
   "outputs": [
    {
     "data": {
      "text/plain": [
       "[<re.Match object; span=(151, 187), match='( France , Germany , United States )'>,\n",
       " <re.Match object; span=(303, 325), match='( 2008 , 2012 , 2022 )'>]"
      ]
     },
     "execution_count": 57,
     "metadata": {},
     "output_type": "execute_result"
    }
   ],
   "source": [
    "val_split_pattern = r'\\([^\\)]*?\\s,\\s.*?\\)'\n",
    "l = list(re.finditer(val_split_pattern, _struct_in))\n",
    "l"
   ]
  },
  {
   "cell_type": "code",
   "execution_count": 63,
   "metadata": {},
   "outputs": [
    {
     "data": {
      "text/plain": [
       "(151, 187)"
      ]
     },
     "execution_count": 63,
     "metadata": {},
     "output_type": "execute_result"
    }
   ],
   "source": [
    "l[0].span()\n"
   ]
  },
  {
   "cell_type": "code",
   "execution_count": 282,
   "metadata": {},
   "outputs": [],
   "source": [
    "_sql = \"select avg(t1.age), is_male from singer where country = '%land%'\""
   ]
  },
  {
   "cell_type": "code",
   "execution_count": 283,
   "metadata": {},
   "outputs": [
    {
     "data": {
      "text/plain": [
       "\"select avg ( t1 . age ) , is_male from singer where country = ' % land % '\""
      ]
     },
     "execution_count": 283,
     "metadata": {},
     "output_type": "execute_result"
    }
   ],
   "source": [
    "ctu.separate_punct(_sql)"
   ]
  },
  {
   "cell_type": "code",
   "execution_count": 125,
   "metadata": {},
   "outputs": [
    {
     "data": {
      "text/plain": [
       "<re.Match object; span=(2, 9), match='.abcde '>"
      ]
     },
     "execution_count": 125,
     "metadata": {},
     "output_type": "execute_result"
    }
   ],
   "source": [
    "x = re.search(r'\\W(abcde)\\W', 't1.abcde ')\n",
    "x"
   ]
  },
  {
   "cell_type": "code",
   "execution_count": 132,
   "metadata": {},
   "outputs": [
    {
     "data": {
      "text/plain": [
       "(3, 8)"
      ]
     },
     "execution_count": 132,
     "metadata": {},
     "output_type": "execute_result"
    }
   ],
   "source": [
    "x.span(1)"
   ]
  },
  {
   "cell_type": "code",
   "execution_count": 123,
   "metadata": {},
   "outputs": [
    {
     "data": {
      "text/plain": [
       "(['▁select', '▁', 'a', 'v', 'g', '▁(', '▁age', '▁', ')'],\n",
       " ['▁select', '▁', 'a', 'v', 'g', '(', 'age', ')'])"
      ]
     },
     "execution_count": 123,
     "metadata": {},
     "output_type": "execute_result"
    }
   ],
   "source": [
    "mt_uskg.tokenizer.tokenize(\"select avg ( age )\"), \\\n",
    "mt_uskg.tokenizer.tokenize(\"select avg(age)\")"
   ]
  },
  {
   "cell_type": "code",
   "execution_count": 248,
   "metadata": {
    "scrolled": true
   },
   "outputs": [
    {
     "data": {
      "text/plain": [
       "[{'ex_id': 0, 'trace_results': []},\n",
       " {'ex_id': 1, 'trace_results': []},\n",
       " {'ex_id': 22, 'trace_results': []},\n",
       " {'ex_id': 23, 'trace_results': []},\n",
       " {'ex_id': 24, 'trace_results': []},\n",
       " {'ex_id': 25, 'trace_results': []},\n",
       " {'ex_id': 33, 'trace_results': []},\n",
       " {'ex_id': 34, 'trace_results': []},\n",
       " {'ex_id': 35, 'trace_results': []},\n",
       " {'ex_id': 36, 'trace_results': []},\n",
       " {'ex_id': 37, 'trace_results': []},\n",
       " {'ex_id': 38, 'trace_results': []},\n",
       " {'ex_id': 41, 'trace_results': []},\n",
       " {'ex_id': 42, 'trace_results': []},\n",
       " {'ex_id': 51, 'trace_results': []},\n",
       " {'ex_id': 52, 'trace_results': []},\n",
       " {'ex_id': 53, 'trace_results': []},\n",
       " {'ex_id': 54, 'trace_results': []},\n",
       " {'ex_id': 57, 'trace_results': []},\n",
       " {'ex_id': 58, 'trace_results': []},\n",
       " {'ex_id': 59, 'trace_results': []},\n",
       " {'ex_id': 60, 'trace_results': []},\n",
       " {'ex_id': 65, 'trace_results': []},\n",
       " {'ex_id': 66, 'trace_results': []},\n",
       " {'ex_id': 75, 'trace_results': []},\n",
       " {'ex_id': 76, 'trace_results': []},\n",
       " {'ex_id': 77, 'trace_results': []},\n",
       " {'ex_id': 78, 'trace_results': []},\n",
       " {'ex_id': 79, 'trace_results': []},\n",
       " {'ex_id': 80, 'trace_results': []},\n",
       " {'ex_id': 81, 'trace_results': []},\n",
       " {'ex_id': 82, 'trace_results': []},\n",
       " {'ex_id': 83, 'trace_results': []},\n",
       " {'ex_id': 84, 'trace_results': []},\n",
       " {'ex_id': 87, 'trace_results': []},\n",
       " {'ex_id': 88, 'trace_results': []},\n",
       " {'ex_id': 89, 'trace_results': []},\n",
       " {'ex_id': 90, 'trace_results': []},\n",
       " {'ex_id': 91, 'trace_results': []},\n",
       " {'ex_id': 92, 'trace_results': []},\n",
       " {'ex_id': 93, 'trace_results': []},\n",
       " {'ex_id': 94, 'trace_results': []},\n",
       " {'ex_id': 95, 'trace_results': []},\n",
       " {'ex_id': 96, 'trace_results': []},\n",
       " {'ex_id': 99, 'trace_results': []},\n",
       " {'ex_id': 100, 'trace_results': []},\n",
       " {'ex_id': 103, 'trace_results': []},\n",
       " {'ex_id': 104, 'trace_results': []},\n",
       " {'ex_id': 105, 'trace_results': []},\n",
       " {'ex_id': 106, 'trace_results': []},\n",
       " {'ex_id': 107, 'trace_results': []},\n",
       " {'ex_id': 108, 'trace_results': []},\n",
       " {'ex_id': 109, 'trace_results': []},\n",
       " {'ex_id': 110, 'trace_results': []},\n",
       " {'ex_id': 111, 'trace_results': []},\n",
       " {'ex_id': 112, 'trace_results': []},\n",
       " {'ex_id': 113, 'trace_results': []},\n",
       " {'ex_id': 114, 'trace_results': []},\n",
       " {'ex_id': 115, 'trace_results': []},\n",
       " {'ex_id': 116, 'trace_results': []},\n",
       " {'ex_id': 123, 'trace_results': []},\n",
       " {'ex_id': 124, 'trace_results': []},\n",
       " {'ex_id': 129, 'trace_results': []},\n",
       " {'ex_id': 130, 'trace_results': []},\n",
       " {'ex_id': 131, 'trace_results': []},\n",
       " {'ex_id': 132, 'trace_results': []},\n",
       " {'ex_id': 133, 'trace_results': []},\n",
       " {'ex_id': 134, 'trace_results': []},\n",
       " {'ex_id': 137, 'trace_results': []},\n",
       " {'ex_id': 138, 'trace_results': []}]"
      ]
     },
     "execution_count": 248,
     "metadata": {},
     "output_type": "execute_result"
    }
   ],
   "source": [
    "[d for d in res_dicts if not d['trace_results']]"
   ]
  },
  {
   "cell_type": "code",
   "execution_count": 250,
   "metadata": {},
   "outputs": [
    {
     "data": {
      "text/plain": [
       "'select t2.name, count(*) from concert as t1 join stadium as t2 on t1.stadium_id = t2.stadium_id group by t1.stadium_id'"
      ]
     },
     "execution_count": 250,
     "metadata": {},
     "output_type": "execute_result"
    }
   ],
   "source": [
    "processed_spider_dev[22]['seq_out']"
   ]
  },
  {
   "cell_type": "code",
   "execution_count": 295,
   "metadata": {},
   "outputs": [
    {
     "data": {
      "text/plain": [
       "tensor([])"
      ]
     },
     "execution_count": 295,
     "metadata": {},
     "output_type": "execute_result"
    }
   ],
   "source": [
    "torch.tensor([])"
   ]
  },
  {
   "cell_type": "code",
   "execution_count": 131,
   "metadata": {
    "scrolled": true
   },
   "outputs": [
    {
     "ename": "ValueError",
     "evalue": "not enough values to unpack (expected 2, got 1)",
     "output_type": "error",
     "traceback": [
      "\u001b[0;31m---------------------------------------------------------------------------\u001b[0m",
      "\u001b[0;31mValueError\u001b[0m                                Traceback (most recent call last)",
      "Input \u001b[0;32mIn [131]\u001b[0m, in \u001b[0;36m<module>\u001b[0;34m\u001b[0m\n\u001b[0;32m----> 1\u001b[0m a, b \u001b[38;5;241m=\u001b[39m [(\u001b[38;5;241m1\u001b[39m, \u001b[38;5;241m2\u001b[39m)]\n\u001b[1;32m      2\u001b[0m a\n",
      "\u001b[0;31mValueError\u001b[0m: not enough values to unpack (expected 2, got 1)"
     ]
    }
   ],
   "source": [
    "a, b = [(1, 2)]\n",
    "a"
   ]
  },
  {
   "cell_type": "code",
   "execution_count": 132,
   "metadata": {},
   "outputs": [
    {
     "data": {
      "text/plain": [
       "(1, 2)"
      ]
     },
     "execution_count": 132,
     "metadata": {},
     "output_type": "execute_result"
    }
   ],
   "source": [
    "a, = [(1, 2)]\n",
    "a"
   ]
  },
  {
   "cell_type": "code",
   "execution_count": 38,
   "metadata": {},
   "outputs": [
    {
     "data": {
      "text/plain": [
       "array([[1., 1., 1., 1.],\n",
       "       [0., 0., 0., 0.],\n",
       "       [1., 1., 1., 1.],\n",
       "       [0., 0., 0., 0.]])"
      ]
     },
     "execution_count": 38,
     "metadata": {},
     "output_type": "execute_result"
    }
   ],
   "source": [
    "a = np.zeros((4,4))\n",
    "a[[0, 2]] = np.ones(4)\n",
    "a"
   ]
  },
  {
   "cell_type": "code",
   "execution_count": 77,
   "metadata": {},
   "outputs": [],
   "source": [
    "from nltk.stem.wordnet import WordNetLemmatizer"
   ]
  },
  {
   "cell_type": "code",
   "execution_count": 78,
   "metadata": {},
   "outputs": [],
   "source": [
    "lemm = WordNetLemmatizer()"
   ]
  },
  {
   "cell_type": "code",
   "execution_count": 89,
   "metadata": {},
   "outputs": [
    {
     "data": {
      "text/plain": [
       "'num_of_singers'"
      ]
     },
     "execution_count": 89,
     "metadata": {},
     "output_type": "execute_result"
    }
   ],
   "source": [
    "lemm.lemmatize('num_of_singers')"
   ]
  },
  {
   "cell_type": "code",
   "execution_count": 80,
   "metadata": {},
   "outputs": [
    {
     "name": "stderr",
     "output_type": "stream",
     "text": [
      "[nltk_data] Downloading package wordnet to /home/yshao/nltk_data...\n"
     ]
    },
    {
     "data": {
      "text/plain": [
       "True"
      ]
     },
     "execution_count": 80,
     "metadata": {},
     "output_type": "execute_result"
    }
   ],
   "source": [
    "import nltk\n",
    "nltk.download('wordnet')"
   ]
  },
  {
   "cell_type": "code",
   "execution_count": null,
   "metadata": {},
   "outputs": [],
   "source": []
  },
  {
   "cell_type": "code",
   "execution_count": null,
   "metadata": {},
   "outputs": [],
   "source": []
  },
  {
   "cell_type": "code",
   "execution_count": null,
   "metadata": {},
   "outputs": [],
   "source": []
  }
 ],
 "metadata": {
  "accelerator": "GPU",
  "kernelspec": {
   "display_name": "Python 3 (ipykernel)",
   "language": "python",
   "name": "python3"
  },
  "language_info": {
   "codemirror_mode": {
    "name": "ipython",
    "version": 3
   },
   "file_extension": ".py",
   "mimetype": "text/x-python",
   "name": "python",
   "nbconvert_exporter": "python",
   "pygments_lexer": "ipython3",
   "version": "3.9.7"
  },
  "toc": {
   "base_numbering": 1,
   "nav_menu": {},
   "number_sections": true,
   "sideBar": true,
   "skip_h1_title": false,
   "title_cell": "Table of Contents",
   "title_sidebar": "Contents",
   "toc_cell": false,
   "toc_position": {
    "height": "706px",
    "left": "31px",
    "top": "319px",
    "width": "259px"
   },
   "toc_section_display": true,
   "toc_window_display": true
  },
  "vscode": {
   "interpreter": {
    "hash": "2c3ec9f9cb0aa45979d92499665f4b05f2a3528d3b2ca0efacea2020d32b93f4"
   }
  }
 },
 "nbformat": 4,
 "nbformat_minor": 4
}

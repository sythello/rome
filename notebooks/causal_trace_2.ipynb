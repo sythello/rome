{
 "cells": [
  {
   "cell_type": "markdown",
   "metadata": {},
   "source": [
    "<a href=\"https://colab.research.google.com/github/kmeng01/rome/blob/main/notebooks/causal_trace.ipynb\"><img src=\"https://colab.research.google.com/assets/colab-badge.svg\" align=\"left\"/></a>&nbsp;or in a local notebook."
   ]
  },
  {
   "cell_type": "code",
   "execution_count": 1,
   "metadata": {},
   "outputs": [],
   "source": [
    "IS_COLAB = False"
   ]
  },
  {
   "cell_type": "markdown",
   "metadata": {},
   "source": [
    "## Causal Tracing\n",
    "\n",
    "A demonstration of the double-intervention causal tracing method.\n",
    "\n",
    "The strategy used by causal tracing is to understand important\n",
    "states within a transfomer by doing two interventions simultaneously:\n",
    "\n",
    "1. Corrupt a subset of the input.  In our paper, we corrupt the subject tokens\n",
    "   to frustrate the ability of the transformer to accurately complete factual\n",
    "   prompts about the subject.\n",
    "2. Restore a subset of the internal hidden states.  In our paper, we scan\n",
    "   hidden states at all layers and all tokens, searching for individual states\n",
    "   that carry the necessary information for the transformer to recover its\n",
    "   capability to complete the factual prompt.\n",
    "\n",
    "The traces of decisive states can be shown on a heatmap.  This notebook\n",
    "demonstrates the code for conducting causal traces and creating these heatmaps."
   ]
  },
  {
   "cell_type": "code",
   "execution_count": 2,
   "metadata": {
    "scrolled": false
   },
   "outputs": [],
   "source": [
    "%load_ext autoreload\n",
    "%autoreload 2"
   ]
  },
  {
   "cell_type": "markdown",
   "metadata": {},
   "source": [
    "The `experiments.causal_trace` module contains a set of functions for running causal traces.\n",
    "\n",
    "In this notebook, we reproduce, demonstrate and discuss the interesting functions.\n",
    "\n",
    "We begin by importing several utility functions that deal with tokens and transformer models."
   ]
  },
  {
   "cell_type": "code",
   "execution_count": 3,
   "metadata": {},
   "outputs": [],
   "source": [
    "import os, sys, re, json\n",
    "import string\n",
    "import torch\n",
    "import numpy as np\n",
    "import copy\n",
    "from collections import defaultdict, Counter\n",
    "from util import nethook\n",
    "from util.globals import DATA_DIR\n",
    "from experiments.causal_trace import (\n",
    "    ModelAndTokenizer,\n",
    "    layername,\n",
    "    guess_subject,\n",
    "    plot_trace_heatmap,\n",
    ")\n",
    "from experiments.causal_trace import (\n",
    "    make_inputs,\n",
    "    decode_tokens,\n",
    "    find_token_range,\n",
    "    predict_token,\n",
    "    predict_from_input,\n",
    "    collect_embedding_std,\n",
    ")\n",
    "from dsets import KnownsDataset"
   ]
  },
  {
   "cell_type": "code",
   "execution_count": 4,
   "metadata": {
    "scrolled": false
   },
   "outputs": [
    {
     "data": {
      "text/plain": [
       "<torch.autograd.grad_mode.set_grad_enabled at 0x7f6a77cc75e0>"
      ]
     },
     "execution_count": 4,
     "metadata": {},
     "output_type": "execute_result"
    }
   ],
   "source": [
    "torch.set_grad_enabled(False)"
   ]
  },
  {
   "cell_type": "code",
   "execution_count": 5,
   "metadata": {},
   "outputs": [],
   "source": [
    "os.environ['CUDA_VISIBLE_DEVICES'] = '0'"
   ]
  },
  {
   "cell_type": "markdown",
   "metadata": {},
   "source": [
    "## USKG"
   ]
  },
  {
   "cell_type": "code",
   "execution_count": 6,
   "metadata": {},
   "outputs": [],
   "source": [
    "from transformers import (\n",
    "    HfArgumentParser,\n",
    "    set_seed,\n",
    "    AutoTokenizer\n",
    ")\n",
    "\n",
    "# from uskg.models.unified.prefixtuning import Model\n",
    "from uskg.models.unified import finetune, prefixtuning\n",
    "from uskg.utils.configue import Configure\n",
    "from uskg.utils.training_arguments import WrappedSeq2SeqTrainingArguments\n",
    "from uskg.seq2seq_construction import spider as s2s_spider\n",
    "from uskg.third_party.spider.preprocess.get_tables import dump_db_json_schema\n",
    "from uskg.third_party.spider import evaluation as sp_eval\n",
    "from tqdm.notebook import tqdm\n",
    "\n",
    "# from nltk.stem.wordnet import WordNetLemmatizer\n",
    "# import stanza\n",
    "\n",
    "import matplotlib.pyplot as plt\n",
    "import sqlite3\n",
    "\n",
    "from experiments import causal_trace_uskg as ctu"
   ]
  },
  {
   "cell_type": "code",
   "execution_count": 8,
   "metadata": {
    "scrolled": true
   },
   "outputs": [
    {
     "name": "stdout",
     "output_type": "stream",
     "text": [
      "Using tokenizer_uskg: hkunlp/from_all_T5_large_prefix_spider_with_cell_value2\n",
      "Using tokenizer_fast: t5-large\n",
      "prefix-tuning sequence length is 10.\n"
     ]
    }
   ],
   "source": [
    "mt_uskg = ctu.ModelAndTokenizer_USKG('t5-large-prefix')"
   ]
  },
  {
   "cell_type": "code",
   "execution_count": 9,
   "metadata": {},
   "outputs": [
    {
     "data": {
      "text/plain": [
       "[('constructor', 'seq2seq_construction.spider'),\n",
       " ('schema_serialization_with_db_content', True),\n",
       " ('target_with_db_id', False)]"
      ]
     },
     "execution_count": 9,
     "metadata": {},
     "output_type": "execute_result"
    }
   ],
   "source": [
    "list(mt_uskg.task_args.seq2seq)"
   ]
  },
  {
   "cell_type": "code",
   "execution_count": 10,
   "metadata": {},
   "outputs": [
    {
     "data": {
      "text/plain": [
       "(True, False)"
      ]
     },
     "execution_count": 10,
     "metadata": {},
     "output_type": "execute_result"
    }
   ],
   "source": [
    "mt_uskg.model.pretrain_model.encoder.embed_tokens is mt_uskg.model.pretrain_model.shared, \\\n",
    "mt_uskg.model.pretrain_model.decoder.embed_tokens is mt_uskg.model.pretrain_model.shared"
   ]
  },
  {
   "cell_type": "code",
   "execution_count": 11,
   "metadata": {},
   "outputs": [
    {
     "data": {
      "text/plain": [
       "10"
      ]
     },
     "execution_count": 11,
     "metadata": {},
     "output_type": "execute_result"
    }
   ],
   "source": [
    "mt_uskg.model.preseqlen"
   ]
  },
  {
   "cell_type": "code",
   "execution_count": 12,
   "metadata": {},
   "outputs": [],
   "source": [
    "# [k for k,v in mt_uskg.model.named_parameters()]"
   ]
  },
  {
   "cell_type": "code",
   "execution_count": 13,
   "metadata": {},
   "outputs": [],
   "source": [
    "inp = ctu.make_inputs_t5(\n",
    "    mt_uskg.tokenizer,\n",
    "    enc_sentences=[\"Translate to German: My name is Wolfgang and I live in Berlin\"],\n",
    "    dec_prompts=[\"Mein Name ist Wolfgang\"],\n",
    "    device=\"cuda:0\"\n",
    ")"
   ]
  },
  {
   "cell_type": "code",
   "execution_count": 14,
   "metadata": {},
   "outputs": [],
   "source": [
    "out = ctu.run_model_forward_uskg(mt_uskg.model, **inp)"
   ]
  },
  {
   "cell_type": "code",
   "execution_count": 15,
   "metadata": {},
   "outputs": [
    {
     "data": {
      "text/plain": [
       "(odict_keys(['logits', 'past_key_values', 'encoder_last_hidden_state']),\n",
       " torch.Size([1, 5, 32102]))"
      ]
     },
     "execution_count": 15,
     "metadata": {},
     "output_type": "execute_result"
    }
   ],
   "source": [
    "out.keys(), out['logits'].size()"
   ]
  },
  {
   "cell_type": "code",
   "execution_count": 16,
   "metadata": {},
   "outputs": [
    {
     "data": {
      "text/plain": [
       "(32102,)"
      ]
     },
     "execution_count": 16,
     "metadata": {},
     "output_type": "execute_result"
    }
   ],
   "source": [
    "logits = out[\"logits\"][0, -1].detach().cpu().numpy()\n",
    "logits.shape"
   ]
  },
  {
   "cell_type": "code",
   "execution_count": 17,
   "metadata": {},
   "outputs": [
    {
     "data": {
      "text/plain": [
       "[(11, -1.8642352),\n",
       " (6, -9.727753),\n",
       " (5, -10.966707),\n",
       " (27, -11.037394),\n",
       " (213, -12.864212)]"
      ]
     },
     "execution_count": 17,
     "metadata": {},
     "output_type": "execute_result"
    }
   ],
   "source": [
    "top_5 = sorted(list(enumerate(logits)), key=lambda p: -p[1])[:5]\n",
    "top_5"
   ]
  },
  {
   "cell_type": "code",
   "execution_count": 18,
   "metadata": {},
   "outputs": [
    {
     "data": {
      "text/plain": [
       "['and', ',', '.', 'I', 'where']"
      ]
     },
     "execution_count": 18,
     "metadata": {},
     "output_type": "execute_result"
    }
   ],
   "source": [
    "[mt_uskg.tokenizer.decode([p[0]]) for p in top_5]"
   ]
  },
  {
   "cell_type": "markdown",
   "metadata": {},
   "source": [
    "### Load spider dataset"
   ]
  },
  {
   "cell_type": "code",
   "execution_count": 18,
   "metadata": {},
   "outputs": [],
   "source": [
    "spider_train_path = '/home/yshao/Projects/SDR-analysis/data/spider/train+ratsql_graph.json'\n",
    "spider_dev_path = '/home/yshao/Projects/SDR-analysis/data/spider/dev+ratsql_graph.json'\n",
    "spider_db_dir = '/home/yshao/Projects/language/language/xsp/data/spider/database'"
   ]
  },
  {
   "cell_type": "code",
   "execution_count": 19,
   "metadata": {},
   "outputs": [
    {
     "data": {
      "text/plain": [
       "1034"
      ]
     },
     "execution_count": 19,
     "metadata": {},
     "output_type": "execute_result"
    }
   ],
   "source": [
    "raw_spider_dev = ctu.load_raw_dataset(\n",
    "    data_filepath = spider_dev_path,\n",
    "    db_path=spider_db_dir,\n",
    "#     schema_cache=SCHEMA_CACHE\n",
    ")\n",
    "len(raw_spider_dev)"
   ]
  },
  {
   "cell_type": "code",
   "execution_count": 20,
   "metadata": {},
   "outputs": [
    {
     "data": {
      "text/plain": [
       "dict_keys(['query', 'question', 'db_id', 'db_path', 'db_table_names', 'db_column_names', 'db_column_types', 'db_primary_keys', 'db_foreign_keys', 'rat_sql_graph'])"
      ]
     },
     "execution_count": 20,
     "metadata": {},
     "output_type": "execute_result"
    }
   ],
   "source": [
    "raw_spider_dev[0].keys()"
   ]
  },
  {
   "cell_type": "code",
   "execution_count": 21,
   "metadata": {
    "scrolled": false
   },
   "outputs": [
    {
     "data": {
      "text/plain": [
       "True"
      ]
     },
     "execution_count": 21,
     "metadata": {},
     "output_type": "execute_result"
    }
   ],
   "source": [
    "mt_uskg.task_args.dataset.use_cache"
   ]
  },
  {
   "cell_type": "code",
   "execution_count": 22,
   "metadata": {},
   "outputs": [],
   "source": [
    "processed_spider_dev = s2s_spider.DevDataset(\n",
    "    args=mt_uskg.task_args,\n",
    "    raw_datasets=raw_spider_dev,\n",
    "    cache_root='../cache')"
   ]
  },
  {
   "cell_type": "code",
   "execution_count": 23,
   "metadata": {},
   "outputs": [
    {
     "data": {
      "text/plain": [
       "('What are the names of all European countries with at least 3 manufacturers?',\n",
       " '| car_1 | continents : contid , continent ( europe ) | countries : countryid , countryname , continent | car_makers : id , maker , fullname , country | model_list : modelid , maker , model | car_names : makeid , model , make | cars_data : id , mpg , cylinders , edispl , horsepower , weight , accelerate , year',\n",
       " \"select t1.countryname from countries as t1 join continents as t2 on t1.continent = t2.contid join car_makers as t3 on t1.countryid = t3.country where t2.continent = 'europe' group by t1.countryname having count(*) >= 3;\")"
      ]
     },
     "execution_count": 23,
     "metadata": {},
     "output_type": "execute_result"
    }
   ],
   "source": [
    "_id = 130\n",
    "processed_spider_dev[_id]['text_in'], \\\n",
    "processed_spider_dev[_id]['struct_in'], \\\n",
    "processed_spider_dev[_id]['seq_out']"
   ]
  },
  {
   "cell_type": "code",
   "execution_count": 24,
   "metadata": {},
   "outputs": [
    {
     "data": {
      "text/plain": [
       "142"
      ]
     },
     "execution_count": 24,
     "metadata": {},
     "output_type": "execute_result"
    }
   ],
   "source": [
    "_enc_sentence = f\"{processed_spider_dev[_id]['text_in']}; structed knowledge: {processed_spider_dev[_id]['struct_in']}\"\n",
    "_toks = mt_uskg.tokenizer.tokenize(_enc_sentence)\n",
    "len(_toks)"
   ]
  },
  {
   "cell_type": "code",
   "execution_count": 25,
   "metadata": {},
   "outputs": [],
   "source": [
    "# # _occ_punct = set()\n",
    "\n",
    "# for _id in range(len(processed_spider_dev)):\n",
    "#     ex = processed_spider_dev[_id]\n",
    "# #     _occ_punct.update(set(string.punctuation) & set(ex['seq_out']))\n",
    "#     if '_(' in ex['struct_in']:\n",
    "#         print(_id, ex['question'])\n",
    "#         print(ex['struct_in'])\n",
    "#         print(ex['seq_out'])\n",
    "#         print()"
   ]
  },
  {
   "cell_type": "code",
   "execution_count": null,
   "metadata": {},
   "outputs": [],
   "source": [
    "# ## Train set\n",
    "\n",
    "# raw_spider_train = ctu.load_raw_dataset(\n",
    "#     data_filepath = spider_train_path,\n",
    "#     db_path=spider_db_dir,\n",
    "# )\n",
    "# processed_spider_train = s2s_spider.TrainDataset(\n",
    "#     args=mt_uskg.task_args,\n",
    "#     raw_datasets=raw_spider_train,\n",
    "#     cache_root='../cache')\n",
    "# len(processed_spider_train)"
   ]
  },
  {
   "cell_type": "code",
   "execution_count": null,
   "metadata": {},
   "outputs": [],
   "source": [
    "# processed_spider_train[5441]"
   ]
  },
  {
   "cell_type": "markdown",
   "metadata": {},
   "source": [
    "#### Analysis sample 1 (ID = 0)"
   ]
  },
  {
   "cell_type": "code",
   "execution_count": 32,
   "metadata": {},
   "outputs": [
    {
     "data": {
      "text/plain": [
       "('How many singers do we have?', 'select count(*) from singer')"
      ]
     },
     "execution_count": 32,
     "metadata": {},
     "output_type": "execute_result"
    }
   ],
   "source": [
    "ex = processed_spider_dev[0]\n",
    "ex['question'], ex['seq_out']"
   ]
  },
  {
   "cell_type": "code",
   "execution_count": 33,
   "metadata": {},
   "outputs": [],
   "source": [
    "text_in = ex['text_in']\n",
    "struct_in = ex['struct_in']\n",
    "\n",
    "enc_sentence = f\"{text_in}; structed knowledge: {struct_in}\"\n",
    "dec_prompt = 'select count(*) from'\n",
    "\n",
    "inp = ctu.make_inputs_t5(\n",
    "    mt_uskg.tokenizer,\n",
    "    enc_sentences=[enc_sentence],\n",
    "    dec_prompts=[dec_prompt],\n",
    "    device=\"cuda:0\"\n",
    ")"
   ]
  },
  {
   "cell_type": "code",
   "execution_count": 34,
   "metadata": {},
   "outputs": [
    {
     "data": {
      "text/plain": [
       "('How many singers do we have?; structed knowledge: | concert_singer | stadium : stadium_id, location, name, capacity, highest, lowest, average | singer : singer_id, name, country, song_name, song_release_year, age, is_male | concert : concert_id, concert_name, theme, stadium_id, year | singer_in_concert : concert_id, singer_id</s>',\n",
       " '<pad> select count(*) from')"
      ]
     },
     "execution_count": 34,
     "metadata": {},
     "output_type": "execute_result"
    }
   ],
   "source": [
    "mt_uskg.tokenizer.decode(inp['input_ids'][0]), mt_uskg.tokenizer.decode(inp['decoder_input_ids'][0])"
   ]
  },
  {
   "cell_type": "code",
   "execution_count": 35,
   "metadata": {},
   "outputs": [],
   "source": [
    "out = ctu.run_model_forward_uskg(mt_uskg.model, **inp)"
   ]
  },
  {
   "cell_type": "code",
   "execution_count": 36,
   "metadata": {},
   "outputs": [
    {
     "data": {
      "text/plain": [
       "(odict_keys(['logits', 'past_key_values', 'encoder_last_hidden_state']),\n",
       " torch.Size([1, 7, 32102]))"
      ]
     },
     "execution_count": 36,
     "metadata": {},
     "output_type": "execute_result"
    }
   ],
   "source": [
    "out.keys(), out['logits'].size()"
   ]
  },
  {
   "cell_type": "code",
   "execution_count": 37,
   "metadata": {},
   "outputs": [
    {
     "data": {
      "text/plain": [
       "(32102,)"
      ]
     },
     "execution_count": 37,
     "metadata": {},
     "output_type": "execute_result"
    }
   ],
   "source": [
    "logits = out[\"logits\"][0, -1].detach().cpu().numpy()\n",
    "logits.shape"
   ]
  },
  {
   "cell_type": "code",
   "execution_count": 38,
   "metadata": {},
   "outputs": [
    {
     "data": {
      "text/plain": [
       "[(7634, -5.629301),\n",
       " (6721, -15.1248665),\n",
       " (10159, -17.77869),\n",
       " (2377, -18.263933),\n",
       " (8782, -18.631098)]"
      ]
     },
     "execution_count": 38,
     "metadata": {},
     "output_type": "execute_result"
    }
   ],
   "source": [
    "top_5 = sorted(list(enumerate(logits)), key=lambda p: -p[1])[:5]\n",
    "top_5"
   ]
  },
  {
   "cell_type": "code",
   "execution_count": 39,
   "metadata": {},
   "outputs": [
    {
     "data": {
      "text/plain": [
       "['singer', 'vocal', 'sing', 'artist', 'singing']"
      ]
     },
     "execution_count": 39,
     "metadata": {},
     "output_type": "execute_result"
    }
   ],
   "source": [
    "[mt_uskg.tokenizer.decode([p[0]]) for p in top_5]"
   ]
  },
  {
   "cell_type": "code",
   "execution_count": 40,
   "metadata": {},
   "outputs": [],
   "source": [
    "# e_range = ctu.find_token_range(mt_uskg.tokenizer, inp[\"input_ids\"][0], 'singer')\n",
    "# e_range"
   ]
  },
  {
   "cell_type": "code",
   "execution_count": 41,
   "metadata": {},
   "outputs": [
    {
     "data": {
      "text/plain": [
       "((0, 8), (15, 125))"
      ]
     },
     "execution_count": 41,
     "metadata": {},
     "output_type": "execute_result"
    }
   ],
   "source": [
    "text_range, struct_range = ctu.find_text_struct_in_range(mt_uskg.tokenizer, inp[\"input_ids\"][0])\n",
    "text_range, struct_range"
   ]
  },
  {
   "cell_type": "code",
   "execution_count": 42,
   "metadata": {},
   "outputs": [
    {
     "data": {
      "text/plain": [
       "('How many singers do we have?; structed knowledge: | concert_singer | stadium : stadium_id, location, name, capacity, highest, lowest, average | singer : singer_id, name, country, song_name, song_release_year, age, is_male | concert : concert_id, concert_name, theme, stadium_id, year | singer_in_concert : concert_id, singer_id</s>',\n",
       " 'How many singers do we have?',\n",
       " '| concert_singer | stadium : stadium_id, location, name, capacity, highest, lowest, average | singer : singer_id, name, country, song_name, song_release_year, age, is_male | concert : concert_id, concert_name, theme, stadium_id, year | singer_in_concert : concert_id, singer_id')"
      ]
     },
     "execution_count": 42,
     "metadata": {},
     "output_type": "execute_result"
    }
   ],
   "source": [
    "tb, te = text_range\n",
    "sb, se = struct_range\n",
    "mt_uskg.tokenizer.decode(inp['input_ids'][0]), \\\n",
    "mt_uskg.tokenizer.decode(inp['input_ids'][0][tb:te]), \\\n",
    "mt_uskg.tokenizer.decode(inp['input_ids'][0][sb:se])"
   ]
  },
  {
   "cell_type": "code",
   "execution_count": 43,
   "metadata": {
    "scrolled": true
   },
   "outputs": [
    {
     "name": "stdout",
     "output_type": "stream",
     "text": [
      "calculate_hidden_flow_uskg(): corrupted input: *How *many *singer *s *do *we *have *? *; * *struct *e *d *knowledge *: *| *concert *_ *s *inger *| *stadium * *: *stadium *_ *i *d * *, *location * *, *name * *, *capacity * *, *highest * *, *lowest * *, *average *| *singer * *: *singer *_ *i *d * *, *name * *, *country * *, *song *_ *name * *, *song *_ *release *_ *year * *, *age * *, *is *_ *male *| *concert * *: *concert *_ *i *d * *, *concert *_ *name * *, *theme * *, *stadium *_ *i *d * *, *year *| *singer *_ *in *_ *conce *r *t * *: *concert *_ *i *d * *, *singer *_ *i *d *</s>\n"
     ]
    },
    {
     "data": {
      "application/vnd.jupyter.widget-view+json": {
       "model_id": "b2a6ab59e50d4835b614db67be994427",
       "version_major": 2,
       "version_minor": 0
      },
      "text/plain": [
       "trace_important_states_uskg.encoder:   0%|          | 0/1512 [00:00<?, ?it/s]"
      ]
     },
     "metadata": {},
     "output_type": "display_data"
    },
    {
     "data": {
      "application/vnd.jupyter.widget-view+json": {
       "model_id": "3493e4be9d4a49a9a8120a648d6df427",
       "version_major": 2,
       "version_minor": 0
      },
      "text/plain": [
       "trace_important_states_uskg.decoder:   0%|          | 0/84 [00:00<?, ?it/s]"
      ]
     },
     "metadata": {},
     "output_type": "display_data"
    }
   ],
   "source": [
    "result = ctu.calculate_hidden_flow_uskg(\n",
    "    mt_uskg,\n",
    "    enc_sentence=enc_sentence,\n",
    "    dec_prompt=dec_prompt,\n",
    "    subject='singer',\n",
    "    replace=True,\n",
    ")"
   ]
  },
  {
   "cell_type": "code",
   "execution_count": 44,
   "metadata": {},
   "outputs": [
    {
     "data": {
      "text/plain": [
       "(dict_keys(['scores', 'low_score', 'high_score', 'input_ids', 'input_tokens', 'dec_input_ids', 'dec_input_tokens', 'subject_range', 'answer', 'window', 'correct_prediction', 'kind']),\n",
       " True)"
      ]
     },
     "execution_count": 44,
     "metadata": {},
     "output_type": "execute_result"
    }
   ],
   "source": [
    "result.keys(), result['correct_prediction']"
   ]
  },
  {
   "cell_type": "code",
   "execution_count": 45,
   "metadata": {},
   "outputs": [
    {
     "data": {
      "text/plain": [
       "3.2487089356436627e-06"
      ]
     },
     "execution_count": 45,
     "metadata": {},
     "output_type": "execute_result"
    }
   ],
   "source": [
    "result['low_score']"
   ]
  },
  {
   "cell_type": "code",
   "execution_count": null,
   "metadata": {
    "scrolled": true
   },
   "outputs": [],
   "source": [
    "ctu.plot_trace_heatmap_t5(result)"
   ]
  },
  {
   "cell_type": "markdown",
   "metadata": {},
   "source": [
    "#### Analysis sample 2 (ID = 9)"
   ]
  },
  {
   "cell_type": "code",
   "execution_count": 50,
   "metadata": {},
   "outputs": [
    {
     "data": {
      "text/plain": [
       "('What are  the different countries with singers above age 20?',\n",
       " 'select distinct country from singer where age > 20')"
      ]
     },
     "execution_count": 50,
     "metadata": {},
     "output_type": "execute_result"
    }
   ],
   "source": [
    "_id = 9\n",
    "ex = processed_spider_dev[_id]\n",
    "ex['question'], ex['seq_out']"
   ]
  },
  {
   "cell_type": "code",
   "execution_count": 51,
   "metadata": {},
   "outputs": [],
   "source": [
    "text_in = ex['text_in']\n",
    "struct_in = ex['struct_in']\n",
    "\n",
    "enc_sentence = f\"{text_in}; structed knowledge: {struct_in}\"\n",
    "dec_prompt = \"select distinct country from singer where\"\n",
    "expect = \"age\""
   ]
  },
  {
   "cell_type": "code",
   "execution_count": 52,
   "metadata": {},
   "outputs": [
    {
     "data": {
      "text/plain": [
       "'| concert_singer | stadium : stadium_id , location , name , capacity , highest , lowest , average | singer : singer_id , name , country , song_name , song_release_year , age , is_male | concert : concert_id , concert_name , theme , stadium_id , year | singer_in_concert : concert_id , singer_id'"
      ]
     },
     "execution_count": 52,
     "metadata": {},
     "output_type": "execute_result"
    }
   ],
   "source": [
    "struct_in"
   ]
  },
  {
   "cell_type": "code",
   "execution_count": 53,
   "metadata": {},
   "outputs": [
    {
     "name": "stdout",
     "output_type": "stream",
     "text": [
      "calculate_hidden_flow_uskg(): corrupted input: *What *are *the *different *countries *with *singer *s *above *age *20 *? *; * *struct *e *d *knowledge *: *| *concert *_ *s *inger *| *stadium * *: *stadium *_ *i *d * *, *location * *, *name * *, *capacity * *, *highest * *, *lowest * *, *average *| *singer * *: *singer *_ *i *d * *, *name * *, *country * *, *song *_ *name * *, *song *_ *release *_ *year * *, *age * *, *is *_ *male *| *concert * *: *concert *_ *i *d * *, *concert *_ *name * *, *theme * *, *stadium *_ *i *d * *, *year *| *singer *_ *in *_ *conce *r *t * *: *concert *_ *i *d * *, *singer *_ *i *d *</s>\n"
     ]
    },
    {
     "data": {
      "application/vnd.jupyter.widget-view+json": {
       "model_id": "eac04e3d082042f2a990247ac1f0c95d",
       "version_major": 2,
       "version_minor": 0
      },
      "text/plain": [
       "trace_important_states_uskg.encoder:   0%|          | 0/1560 [00:00<?, ?it/s]"
      ]
     },
     "metadata": {},
     "output_type": "display_data"
    },
    {
     "data": {
      "application/vnd.jupyter.widget-view+json": {
       "model_id": "28a50b4d88314031b157eb615ed72989",
       "version_major": 2,
       "version_minor": 0
      },
      "text/plain": [
       "trace_important_states_uskg.decoder:   0%|          | 0/84 [00:00<?, ?it/s]"
      ]
     },
     "metadata": {},
     "output_type": "display_data"
    }
   ],
   "source": [
    "result = ctu.calculate_hidden_flow_uskg(\n",
    "    mt_uskg,\n",
    "    enc_sentence=enc_sentence,\n",
    "    dec_prompt=dec_prompt,\n",
    "    subject='singer',\n",
    "    replace=True,\n",
    "    expect=expect,\n",
    ")"
   ]
  },
  {
   "cell_type": "code",
   "execution_count": 54,
   "metadata": {},
   "outputs": [
    {
     "data": {
      "text/plain": [
       "(dict_keys(['scores', 'low_score', 'high_score', 'input_ids', 'input_tokens', 'dec_input_ids', 'dec_input_tokens', 'subject_range', 'answer', 'window', 'correct_prediction', 'kind']),\n",
       " True,\n",
       " tensor(1.0000, device='cuda:0'),\n",
       " 0.0005113474908284843)"
      ]
     },
     "execution_count": 54,
     "metadata": {},
     "output_type": "execute_result"
    }
   ],
   "source": [
    "result.keys(), result['correct_prediction'], result['high_score'], result['low_score']"
   ]
  },
  {
   "cell_type": "code",
   "execution_count": null,
   "metadata": {},
   "outputs": [],
   "source": [
    "ctu.plot_trace_heatmap_t5(result)"
   ]
  },
  {
   "cell_type": "markdown",
   "metadata": {},
   "source": [
    "#### Analysis sample 3 (ID = 97)"
   ]
  },
  {
   "cell_type": "code",
   "execution_count": 56,
   "metadata": {},
   "outputs": [
    {
     "data": {
      "text/plain": [
       "('Find the model of the car whose weight is below the average weight.',\n",
       " 'select t1.model from car_names as t1 join cars_data as t2 on t1.makeid = t2.id where t2.weight < (select avg(weight) from cars_data)')"
      ]
     },
     "execution_count": 56,
     "metadata": {},
     "output_type": "execute_result"
    }
   ],
   "source": [
    "_id = 97\n",
    "ex = processed_spider_dev[_id]\n",
    "ex['question'], ex['seq_out']"
   ]
  },
  {
   "cell_type": "code",
   "execution_count": 57,
   "metadata": {},
   "outputs": [],
   "source": [
    "text_in = ex['text_in']\n",
    "struct_in = ex['struct_in']\n",
    "\n",
    "enc_sentence = f\"{text_in}; structed knowledge: {struct_in}\"\n",
    "dec_prompt = \"select t1.model from car_names as t1 join cars_\"\n",
    "expect = \"data\""
   ]
  },
  {
   "cell_type": "code",
   "execution_count": 58,
   "metadata": {},
   "outputs": [
    {
     "data": {
      "text/plain": [
       "'| car_1 | continents : contid , continent | countries : countryid , countryname , continent | car_makers : id , maker , fullname , country | model_list : modelid , maker , model | car_names : makeid , model , make | cars_data : id , mpg , cylinders , edispl , horsepower , weight , accelerate , year'"
      ]
     },
     "execution_count": 58,
     "metadata": {},
     "output_type": "execute_result"
    }
   ],
   "source": [
    "struct_in"
   ]
  },
  {
   "cell_type": "code",
   "execution_count": 59,
   "metadata": {},
   "outputs": [
    {
     "data": {
      "text/plain": [
       "[('data', -10.943039),\n",
       " ('stat', -21.073414),\n",
       " ('daten', -22.921432),\n",
       " ('re', -23.442766),\n",
       " ('performance', -23.719862)]"
      ]
     },
     "execution_count": 59,
     "metadata": {},
     "output_type": "execute_result"
    }
   ],
   "source": [
    "# text_in = ex['text_in']\n",
    "# struct_in = ex['struct_in']\n",
    "\n",
    "# enc_sentence = f\"{text_in}; structed knowledge: {struct_in}\"\n",
    "# dec_prompt = \"select t1.model from car_names as t1 join cars_\"\n",
    "# expect = \"data\"\n",
    "\n",
    "inp = ctu.make_inputs_t5(\n",
    "    mt_uskg.tokenizer,\n",
    "    enc_sentences=[enc_sentence],\n",
    "    dec_prompts=[dec_prompt],\n",
    "    device=\"cuda:0\"\n",
    ")\n",
    "out = ctu.run_model_forward_uskg(mt_uskg.model, **inp)\n",
    "logits = out[\"logits\"][0, -1].detach().cpu().numpy()\n",
    "\n",
    "top_5 = sorted(list(enumerate(logits)), key=lambda p: -p[1])[:5]\n",
    "\n",
    "[(mt_uskg.tokenizer.decode([p[0]]), p[1]) for p in top_5]\n"
   ]
  },
  {
   "cell_type": "code",
   "execution_count": 60,
   "metadata": {},
   "outputs": [
    {
     "name": "stdout",
     "output_type": "stream",
     "text": [
      "calculate_hidden_flow_uskg(): corrupted input: *Find *the *model *of *the *car * *whose *weight *is *below *the *average *weight *. *; * *struct *e *d *knowledge *: *| *car *_ *1 *| *continent *s * *: *cont *i *d * *, *continent *| *countries * *: *country *i *d * *, *country *name * *, *continent *| *car *_ *makers * *: * *i *d * *, *maker * *, *full *name * *, *country *| *model *_ *list * *: *model *i *d * *, *maker * *, *model *| *car *_ *name *s * *: *make *i *d * *, *model * *, *make *| *cars *_ *data * *: * *i *d * *, * *mp *g * *, * *cylinder *s * *, * *e *disp *l * *, *horsepower * *, *weight * *, *accelerate * *, *year *</s>\n"
     ]
    },
    {
     "data": {
      "application/vnd.jupyter.widget-view+json": {
       "model_id": "328d97f4b69940a0a2f6058f1a370b93",
       "version_major": 2,
       "version_minor": 0
      },
      "text/plain": [
       "trace_important_states_uskg.encoder:   0%|          | 0/1668 [00:00<?, ?it/s]"
      ]
     },
     "metadata": {},
     "output_type": "display_data"
    },
    {
     "data": {
      "application/vnd.jupyter.widget-view+json": {
       "model_id": "376e361260d747ea9dd41d81a85207ea",
       "version_major": 2,
       "version_minor": 0
      },
      "text/plain": [
       "trace_important_states_uskg.decoder:   0%|          | 0/216 [00:00<?, ?it/s]"
      ]
     },
     "metadata": {},
     "output_type": "display_data"
    }
   ],
   "source": [
    "result = ctu.calculate_hidden_flow_uskg(\n",
    "    mt_uskg,\n",
    "    enc_sentence=enc_sentence,\n",
    "    dec_prompt=dec_prompt,\n",
    "    subject=None,\n",
    "    replace=True,\n",
    "    expect=expect,\n",
    ")"
   ]
  },
  {
   "cell_type": "code",
   "execution_count": 61,
   "metadata": {},
   "outputs": [
    {
     "data": {
      "text/plain": [
       "(dict_keys(['scores', 'low_score', 'high_score', 'input_ids', 'input_tokens', 'dec_input_ids', 'dec_input_tokens', 'subject_range', 'answer', 'window', 'correct_prediction', 'kind']),\n",
       " True,\n",
       " tensor(0.9999, device='cuda:0'),\n",
       " 0.0008115010568872094)"
      ]
     },
     "execution_count": 61,
     "metadata": {},
     "output_type": "execute_result"
    }
   ],
   "source": [
    "result.keys(), result['correct_prediction'], result['high_score'], result['low_score']"
   ]
  },
  {
   "cell_type": "code",
   "execution_count": null,
   "metadata": {},
   "outputs": [],
   "source": [
    "ctu.plot_trace_heatmap_t5(result)"
   ]
  },
  {
   "cell_type": "code",
   "execution_count": 63,
   "metadata": {},
   "outputs": [],
   "source": [
    "# Another position"
   ]
  },
  {
   "cell_type": "code",
   "execution_count": 69,
   "metadata": {},
   "outputs": [],
   "source": [
    "enc_sentence = f\"{text_in}; structed knowledge: {struct_in}\"\n",
    "dec_prompt = \"select t1.model from car_names\"\n",
    "expect = \"as\"  # 't1' -> '_', 't', '1'"
   ]
  },
  {
   "cell_type": "code",
   "execution_count": 70,
   "metadata": {},
   "outputs": [
    {
     "name": "stdout",
     "output_type": "stream",
     "text": [
      "calculate_hidden_flow_uskg(): corrupted input: *Find *the *model *of *the *car * *whose *weight *is *below *the *average *weight *. *; * *struct *e *d *knowledge *: *| *car *_ *1 *| *continent *s * *: *cont *i *d * *, *continent *| *countries * *: *country *i *d * *, *country *name * *, *continent *| *car *_ *makers * *: * *i *d * *, *maker * *, *full *name * *, *country *| *model *_ *list * *: *model *i *d * *, *maker * *, *model *| *car *_ *name *s * *: *make *i *d * *, *model * *, *make *| *cars *_ *data * *: * *i *d * *, * *mp *g * *, * *cylinder *s * *, * *e *disp *l * *, *horsepower * *, *weight * *, *accelerate * *, *year *</s>\n"
     ]
    },
    {
     "data": {
      "application/vnd.jupyter.widget-view+json": {
       "model_id": "dfa85cbc173a4f46b93d0c489d3ddcd0",
       "version_major": 2,
       "version_minor": 0
      },
      "text/plain": [
       "trace_important_states_uskg.encoder:   0%|          | 0/1668 [00:00<?, ?it/s]"
      ]
     },
     "metadata": {},
     "output_type": "display_data"
    },
    {
     "data": {
      "application/vnd.jupyter.widget-view+json": {
       "model_id": "79ca6ec568f14fcd80b325cfe0cdc393",
       "version_major": 2,
       "version_minor": 0
      },
      "text/plain": [
       "trace_important_states_uskg.decoder:   0%|          | 0/132 [00:00<?, ?it/s]"
      ]
     },
     "metadata": {},
     "output_type": "display_data"
    }
   ],
   "source": [
    "result = ctu.calculate_hidden_flow_uskg(\n",
    "    mt_uskg,\n",
    "    enc_sentence=enc_sentence,\n",
    "    dec_prompt=dec_prompt,\n",
    "    subject=None,\n",
    "    replace=True,\n",
    "    expect=expect,\n",
    ")"
   ]
  },
  {
   "cell_type": "code",
   "execution_count": 71,
   "metadata": {},
   "outputs": [
    {
     "data": {
      "text/plain": [
       "(dict_keys(['scores', 'low_score', 'high_score', 'input_ids', 'input_tokens', 'dec_input_ids', 'dec_input_tokens', 'subject_range', 'answer', 'window', 'correct_prediction', 'kind']),\n",
       " True,\n",
       " tensor(1.0000, device='cuda:0'),\n",
       " 0.9942196011543274)"
      ]
     },
     "execution_count": 71,
     "metadata": {},
     "output_type": "execute_result"
    }
   ],
   "source": [
    "result.keys(), result['correct_prediction'], result['high_score'], result['low_score']"
   ]
  },
  {
   "cell_type": "code",
   "execution_count": null,
   "metadata": {},
   "outputs": [],
   "source": [
    "ctu.plot_trace_heatmap_t5(result)"
   ]
  },
  {
   "cell_type": "markdown",
   "metadata": {},
   "source": [
    "### Helpers\n",
    "- merged in create_analysis_sample_dicts()"
   ]
  },
  {
   "cell_type": "markdown",
   "metadata": {},
   "source": [
    "#### Evaluator"
   ]
  },
  {
   "cell_type": "code",
   "execution_count": 30,
   "metadata": {},
   "outputs": [],
   "source": [
    "table_path = '/home/yshao/Projects/language/language/xsp/data/spider/tables.json'\n",
    "db_dir = '/home/yshao/Projects/language/language/xsp/data/spider/database'"
   ]
  },
  {
   "cell_type": "code",
   "execution_count": 31,
   "metadata": {},
   "outputs": [],
   "source": [
    "kmaps = sp_eval.build_foreign_key_map_from_json(table_path)\n",
    "evaluator = sp_eval.Evaluator(db_dir=db_dir, kmaps=kmaps, etype='all')"
   ]
  },
  {
   "cell_type": "code",
   "execution_count": 32,
   "metadata": {},
   "outputs": [],
   "source": [
    "ctu.evaluate_hardness.evaluator = evaluator"
   ]
  },
  {
   "cell_type": "code",
   "execution_count": 33,
   "metadata": {},
   "outputs": [
    {
     "data": {
      "text/plain": [
       "(3, 0, 0, 'hard')"
      ]
     },
     "execution_count": 33,
     "metadata": {},
     "output_type": "execute_result"
    }
   ],
   "source": [
    "# test\n",
    "_sql_str = 'select t1.birth_date from people as t1 join poker_player as t2 on t1.people_id = t2.people_id order by t2.earnings asc limit 1'\n",
    "db_name = 'poker_player'\n",
    "schema = evaluator.schemas[db_name]\n",
    "_sql = sp_eval.get_sql(schema, _sql_str)\n",
    "sp_eval.count_component1(_sql), sp_eval.count_component2(_sql), sp_eval.count_others(_sql), \\\n",
    "evaluator.eval_hardness(_sql)"
   ]
  },
  {
   "cell_type": "markdown",
   "metadata": {},
   "source": [
    "#### Hardness"
   ]
  },
  {
   "cell_type": "code",
   "execution_count": 58,
   "metadata": {},
   "outputs": [
    {
     "data": {
      "text/plain": [
       "'hard'"
      ]
     },
     "execution_count": 58,
     "metadata": {},
     "output_type": "execute_result"
    }
   ],
   "source": [
    "ctu.evaluate_hardness(_sql_str, db_name, evaluator=evaluator)"
   ]
  },
  {
   "cell_type": "code",
   "execution_count": 59,
   "metadata": {},
   "outputs": [
    {
     "data": {
      "text/plain": [
       "<uskg.third_party.spider.evaluation.Evaluator at 0x7f4a744a8d90>"
      ]
     },
     "execution_count": 59,
     "metadata": {},
     "output_type": "execute_result"
    }
   ],
   "source": [
    "ctu.evaluate_hardness.evaluator"
   ]
  },
  {
   "cell_type": "markdown",
   "metadata": {},
   "source": [
    "#### Node role"
   ]
  },
  {
   "cell_type": "code",
   "execution_count": 29,
   "metadata": {},
   "outputs": [
    {
     "data": {
      "text/plain": [
       "'from'"
      ]
     },
     "execution_count": 29,
     "metadata": {},
     "output_type": "execute_result"
    }
   ],
   "source": [
    "dec_prompt = 'select avg(age), min(age), max(age) from'\n",
    "ctu.detect_node_role(dec_prompt)"
   ]
  },
  {
   "cell_type": "markdown",
   "metadata": {},
   "source": [
    "#### Text match"
   ]
  },
  {
   "cell_type": "code",
   "execution_count": 73,
   "metadata": {},
   "outputs": [
    {
     "data": {
      "text/plain": [
       "(4, ['car_makers', 'cars_data', 'car_names', 'model_list'])"
      ]
     },
     "execution_count": 73,
     "metadata": {},
     "output_type": "execute_result"
    }
   ],
   "source": [
    "a_dicts = ctu.create_analysis_sample_dicts(\n",
    "    mt=mt_uskg,\n",
    "    ex=processed_spider_dev[100],\n",
    "    subject_type='table'\n",
    ")\n",
    "len(a_dicts), [d['expect'] for d in a_dicts]"
   ]
  },
  {
   "cell_type": "code",
   "execution_count": 75,
   "metadata": {},
   "outputs": [
    {
     "data": {
      "text/plain": [
       "'partial'"
      ]
     },
     "execution_count": 75,
     "metadata": {},
     "output_type": "execute_result"
    }
   ],
   "source": [
    "a_ex = a_dicts[2]\n",
    "ctu.check_table_text_match(a_ex, 'car_names')"
   ]
  },
  {
   "cell_type": "code",
   "execution_count": 76,
   "metadata": {},
   "outputs": [
    {
     "data": {
      "text/plain": [
       "'What is the name of the different car makers who produced a car in 1970?'"
      ]
     },
     "execution_count": 76,
     "metadata": {},
     "output_type": "execute_result"
    }
   ],
   "source": [
    "a_ex['text_in']"
   ]
  },
  {
   "cell_type": "code",
   "execution_count": null,
   "metadata": {},
   "outputs": [],
   "source": []
  },
  {
   "cell_type": "markdown",
   "metadata": {},
   "source": [
    "### Exp0: Study the influence of corrupting a token"
   ]
  },
  {
   "cell_type": "code",
   "execution_count": 75,
   "metadata": {},
   "outputs": [
    {
     "data": {
      "text/plain": [
       "('What is the average, minimum, and maximum age for all French singers?',\n",
       " \"select avg(age), min(age), max(age) from singer where country = 'France'\")"
      ]
     },
     "execution_count": 75,
     "metadata": {},
     "output_type": "execute_result"
    }
   ],
   "source": [
    "_id = 5\n",
    "ex = processed_spider_dev[_id]\n",
    "ex['question'], ex['seq_out']"
   ]
  },
  {
   "cell_type": "code",
   "execution_count": 76,
   "metadata": {},
   "outputs": [
    {
     "data": {
      "text/plain": [
       "('select avg(age), min(age), max(age) from singer where', 'country')"
      ]
     },
     "execution_count": 76,
     "metadata": {},
     "output_type": "execute_result"
    }
   ],
   "source": [
    "text_in = ex['text_in']\n",
    "struct_in = ex['struct_in']\n",
    "\n",
    "enc_sentence = f\"{text_in}; structed knowledge: {struct_in}\"\n",
    "\n",
    "# expect = 'singer'\n",
    "# expect = 'age'\n",
    "expect = 'country'\n",
    "dec_prompt = ctu.make_dec_prompt(ex['seq_out'], expect)\n",
    "\n",
    "ex['enc_sentence'] = enc_sentence\n",
    "ex['dec_prompt'] = dec_prompt\n",
    "ex['expect'] = expect\n",
    "dec_prompt, expect"
   ]
  },
  {
   "cell_type": "code",
   "execution_count": 77,
   "metadata": {},
   "outputs": [
    {
     "data": {
      "text/plain": [
       "['country']"
      ]
     },
     "execution_count": 77,
     "metadata": {},
     "output_type": "execute_result"
    }
   ],
   "source": [
    "ans_toks = decode_tokens(mt_uskg.tokenizer, mt_uskg.tokenizer.encode(expect, add_special_tokens=False))\n",
    "ans_toks"
   ]
  },
  {
   "cell_type": "code",
   "execution_count": 78,
   "metadata": {},
   "outputs": [
    {
     "data": {
      "text/plain": [
       "(0.9999990463256836, 'country')"
      ]
     },
     "execution_count": 78,
     "metadata": {},
     "output_type": "execute_result"
    }
   ],
   "source": [
    "inp = ctu.make_inputs_t5(\n",
    "    mt_uskg.tokenizer,\n",
    "    [enc_sentence],\n",
    "    [dec_prompt],\n",
    "    answer=expect,\n",
    "    device='cuda'\n",
    ")\n",
    "\n",
    "answer_len = len(mt_uskg.tokenizer.tokenize(expect))\n",
    "with torch.no_grad():\n",
    "    answers_t, base_score = [d[0] for d in ctu.predict_from_input_uskg_multi_token(mt_uskg.model, inp, pred_len=answer_len)]\n",
    "base_score = base_score.min().item()\n",
    "answer = ctu.decode_sentences(mt_uskg.tokenizer, answers_t)\n",
    "base_score, answer"
   ]
  },
  {
   "cell_type": "code",
   "execution_count": 79,
   "metadata": {},
   "outputs": [
    {
     "data": {
      "text/plain": [
       "tensor([684], device='cuda:0')"
      ]
     },
     "execution_count": 79,
     "metadata": {},
     "output_type": "execute_result"
    }
   ],
   "source": [
    "answers_t"
   ]
  },
  {
   "cell_type": "code",
   "execution_count": 80,
   "metadata": {},
   "outputs": [
    {
     "data": {
      "application/vnd.jupyter.widget-view+json": {
       "model_id": "ad0bf9cb15134342bb9b3c4d40ebd864",
       "version_major": 2,
       "version_minor": 0
      },
      "text/plain": [
       "Corrupt effect: columns:   0%|          | 0/17 [00:00<?, ?it/s]"
      ]
     },
     "metadata": {},
     "output_type": "display_data"
    },
    {
     "data": {
      "application/vnd.jupyter.widget-view+json": {
       "model_id": "15951d5486094c779eaf34568678d9ad",
       "version_major": 2,
       "version_minor": 0
      },
      "text/plain": [
       "Corrupt effect: tables:   0%|          | 0/4 [00:00<?, ?it/s]"
      ]
     },
     "metadata": {},
     "output_type": "display_data"
    }
   ],
   "source": [
    "result_d = ctu.token_corruption_influence_uskg(\n",
    "    mt_uskg,\n",
    "#     enc_sentence=enc_sentence,\n",
    "#     dec_prompt=dec_prompt,\n",
    "#     expect=expect,\n",
    "    ex,\n",
    "    replace=True,\n",
    "    use_tqdm=True,\n",
    "    skips=('token',)\n",
    ")"
   ]
  },
  {
   "cell_type": "code",
   "execution_count": 81,
   "metadata": {},
   "outputs": [
    {
     "data": {
      "text/plain": [
       "dict_keys(['enc_sentence', 'dec_prompt', 'expect', 'base_score', 'answers_t', 'answer', 'res_list'])"
      ]
     },
     "execution_count": 81,
     "metadata": {},
     "output_type": "execute_result"
    }
   ],
   "source": [
    "result_d.keys()"
   ]
  },
  {
   "cell_type": "code",
   "execution_count": 82,
   "metadata": {
    "scrolled": true
   },
   "outputs": [
    {
     "data": {
      "text/plain": [
       "[{'corrpt_type': 'column',\n",
       "  'corrpt_idx': (38, 39),\n",
       "  'corrpt_token': 'location',\n",
       "  'corrpt_score': 0.9999988675117493,\n",
       "  'corrpt_drop': 1.7881393432617188e-07},\n",
       " {'corrpt_type': 'column',\n",
       "  'corrpt_idx': (44, 45),\n",
       "  'corrpt_token': 'capacity',\n",
       "  'corrpt_score': 0.9999990463256836,\n",
       "  'corrpt_drop': 0.0},\n",
       " {'corrpt_type': 'column',\n",
       "  'corrpt_idx': (47, 48),\n",
       "  'corrpt_token': 'highest',\n",
       "  'corrpt_score': 0.9999989867210388,\n",
       "  'corrpt_drop': 5.960464477539063e-08},\n",
       " {'corrpt_type': 'column',\n",
       "  'corrpt_idx': (50, 51),\n",
       "  'corrpt_token': 'lowest',\n",
       "  'corrpt_score': 0.9999990463256836,\n",
       "  'corrpt_drop': 0.0},\n",
       " {'corrpt_type': 'column',\n",
       "  'corrpt_idx': (53, 54),\n",
       "  'corrpt_token': 'average',\n",
       "  'corrpt_score': 0.9999991655349731,\n",
       "  'corrpt_drop': -1.1920928955078125e-07},\n",
       " {'corrpt_type': 'column',\n",
       "  'corrpt_idx': (67, 68),\n",
       "  'corrpt_token': 'country',\n",
       "  'corrpt_score': 4.299651834571705e-07,\n",
       "  'corrpt_drop': 0.9999986163605001},\n",
       " {'corrpt_type': 'column',\n",
       "  'corrpt_idx': (70, 73),\n",
       "  'corrpt_token': 'song_name',\n",
       "  'corrpt_score': 0.999999463558197,\n",
       "  'corrpt_drop': -4.172325134277344e-07},\n",
       " {'corrpt_type': 'column',\n",
       "  'corrpt_idx': (75, 80),\n",
       "  'corrpt_token': 'song_release_year',\n",
       "  'corrpt_score': 0.9999995231628418,\n",
       "  'corrpt_drop': -4.76837158203125e-07},\n",
       " {'corrpt_type': 'column',\n",
       "  'corrpt_idx': (82, 83),\n",
       "  'corrpt_token': 'age',\n",
       "  'corrpt_score': 0.9999995231628418,\n",
       "  'corrpt_drop': -4.76837158203125e-07},\n",
       " {'corrpt_type': 'column',\n",
       "  'corrpt_idx': (85, 88),\n",
       "  'corrpt_token': 'is_male',\n",
       "  'corrpt_score': 0.999999463558197,\n",
       "  'corrpt_drop': -4.172325134277344e-07},\n",
       " {'corrpt_type': 'column',\n",
       "  'corrpt_idx': (98, 101),\n",
       "  'corrpt_token': 'concert_name',\n",
       "  'corrpt_score': 0.9999990463256836,\n",
       "  'corrpt_drop': 0.0},\n",
       " {'corrpt_type': 'column',\n",
       "  'corrpt_idx': (103, 104),\n",
       "  'corrpt_token': 'theme',\n",
       "  'corrpt_score': 0.9999989867210388,\n",
       "  'corrpt_drop': 5.960464477539063e-08},\n",
       " {'corrpt_type': 'column',\n",
       "  'corrpt_idx': (112, 113),\n",
       "  'corrpt_token': 'year',\n",
       "  'corrpt_score': 0.9999988675117493,\n",
       "  'corrpt_drop': 1.7881393432617188e-07},\n",
       " {'corrpt_type': 'table',\n",
       "  'corrpt_idx': (29, 30),\n",
       "  'corrpt_token': 'stadium',\n",
       "  'corrpt_score': 0.9999991655349731,\n",
       "  'corrpt_drop': -1.1920928955078125e-07},\n",
       " {'corrpt_type': 'table',\n",
       "  'corrpt_idx': (55, 56),\n",
       "  'corrpt_token': 'singer',\n",
       "  'corrpt_score': 0.9999991655349731,\n",
       "  'corrpt_drop': -1.1920928955078125e-07},\n",
       " {'corrpt_type': 'table',\n",
       "  'corrpt_idx': (89, 90),\n",
       "  'corrpt_token': 'concert',\n",
       "  'corrpt_score': 0.9999993443489075,\n",
       "  'corrpt_drop': -2.980232238769531e-07},\n",
       " {'corrpt_type': 'table',\n",
       "  'corrpt_idx': (114, 121),\n",
       "  'corrpt_token': 'singer_in_concert',\n",
       "  'corrpt_score': 0.9999988675117493,\n",
       "  'corrpt_drop': 1.7881393432617188e-07}]"
      ]
     },
     "execution_count": 82,
     "metadata": {},
     "output_type": "execute_result"
    }
   ],
   "source": [
    "result = result_d['res_list']\n",
    "result"
   ]
  },
  {
   "cell_type": "code",
   "execution_count": null,
   "metadata": {
    "scrolled": true
   },
   "outputs": [],
   "source": [
    "[d for d in result if d['corrpt_type'] != 'token']"
   ]
  },
  {
   "cell_type": "code",
   "execution_count": 45,
   "metadata": {},
   "outputs": [
    {
     "name": "stdout",
     "output_type": "stream",
     "text": [
      "0\tHow\t0.0037964582443237305\n",
      "1\tmany\t0.0013628602027893066\n",
      "2\tbattle\t0.01413428783416748\n",
      "3\ts\t-0.0008431673049926758\n",
      "4\tdid\t0.052848875522613525\n",
      "5\tnot\t0.09322965145111084\n",
      "6\tlose\t0.002241969108581543\n",
      "7\tany\t0.056729793548583984\n",
      "8\tship\t-0.0024902820587158203\n",
      "9\twith\t0.04180067777633667\n",
      "10\tto\t0.006940901279449463\n",
      "11\tn\t0.07953697443008423\n",
      "12\tnage\t0.0018101334571838379\n",
      "13\t\t0.0008842945098876953\n",
      "14\t'\t0.0007312297821044922\n",
      "15\t225\t-0.002007007598876953\n",
      "16\t'\t0.000843048095703125\n",
      "17\t?\t0.001425027847290039\n",
      "18\t;\t-0.0008304119110107422\n",
      "19\t\t0.0033646225929260254\n",
      "20\tstruct\t0.005487203598022461\n",
      "21\te\t-0.0010203719139099121\n",
      "22\td\t0.0009642243385314941\n",
      "23\tknowledge\t-0.00048089027404785156\n",
      "24\t:\t-0.00015664100646972656\n",
      "25\t|\t0.0022062063217163086\n",
      "26\tbattle\t0.0007958412170410156\n",
      "27\t_\t0.000949561595916748\n",
      "28\tde\t0.002287924289703369\n",
      "29\ta\t0.0008778572082519531\n",
      "30\tth\t0.0004265308380126953\n",
      "31\t|\t0.0012375712394714355\n",
      "32\tbattle\t0.0064389705657958984\n",
      "33\t\t-0.0003082752227783203\n",
      "34\t:\t-0.0015889406204223633\n",
      "35\t\t-0.002041161060333252\n",
      "36\ti\t-0.002639591693878174\n",
      "37\td\t0.0030516386032104492\n",
      "38\t\t0.0008799433708190918\n",
      "39\t,\t0.001226961612701416\n",
      "40\tname\t0.0022575855255126953\n",
      "41\t\t0.0013141632080078125\n",
      "42\t,\t0.0004660487174987793\n",
      "43\tdate\t0.001199960708618164\n",
      "44\t\t0.0036588311195373535\n",
      "45\t,\t0.002676248550415039\n",
      "46\tbulg\t0.00016325712203979492\n",
      "47\tarian\t0.0017170906066894531\n",
      "48\t_\t0.00043189525604248047\n",
      "49\tcommand\t0.017362475395202637\n",
      "50\ter\t0.004083693027496338\n",
      "51\t\t0.003155231475830078\n",
      "52\t,\t0.0028000473976135254\n",
      "53\t\t0.0020836591720581055\n",
      "54\tlatin\t0.0017630457878112793\n",
      "55\t_\t0.0010582804679870605\n",
      "56\tcommand\t0.006787300109863281\n",
      "57\ter\t0.005815982818603516\n",
      "58\t\t0.005763590335845947\n",
      "59\t,\t0.01128298044204712\n",
      "60\tresult\t0.001990079879760742\n",
      "61\t|\t-0.0022734999656677246\n",
      "62\tship\t-0.0031125545501708984\n",
      "63\t\t-0.002832651138305664\n",
      "64\t:\t0.2955291271209717\n",
      "S*65*\tlost\t0.9968710248273283\n",
      "*66*\t_\t0.5390499830245972\n",
      "*67*\tin\t0.8797281607985497\n",
      "68\t_\t0.49318522214889526\n",
      "*69*\tb\t0.8122162520885468\n",
      "*70*\ta\t0.6109114289283752\n",
      "*71*E\tttle\t0.7297702133655548\n",
      "72\t\t-0.0015021562576293945\n",
      "73\t,\t0.023115992546081543\n",
      "74\t\t-0.003117501735687256\n",
      "75\ti\t-0.002889871597290039\n",
      "76\td\t-0.0015906691551208496\n",
      "77\t\t-0.00035506486892700195\n",
      "78\t,\t0.0039408206939697266\n",
      "79\tname\t-0.002143383026123047\n",
      "80\t\t0.0008987188339233398\n",
      "81\t,\t0.006338953971862793\n",
      "82\tto\t0.06164884567260742\n",
      "83\tn\t0.029359042644500732\n",
      "84\tnage\t0.0030454397201538086\n",
      "85\t\t0.005168020725250244\n",
      "86\t,\t0.001688838005065918\n",
      "87\tship\t0.008625507354736328\n",
      "88\t_\t0.005386054515838623\n",
      "89\ttype\t-0.0006664395332336426\n",
      "90\t\t0.009672999382019043\n",
      "91\t,\t0.0002510547637939453\n",
      "92\tlocation\t0.00198209285736084\n",
      "93\t\t0.0018159747123718262\n",
      "94\t,\t0.0002453327178955078\n",
      "95\tdisposition\t0.000460207462310791\n",
      "96\t_\t0.0017185211181640625\n",
      "97\tof\t0.0002980232238769531\n",
      "98\t_\t0.0056972503662109375\n",
      "99\tship\t0.0028567910194396973\n",
      "100\t|\t0.01932370662689209\n",
      "101\tdeath\t0.0008538961410522461\n",
      "102\t\t-0.001347661018371582\n",
      "103\t:\t0.002463400363922119\n",
      "104\tcaused\t-0.0013953447341918945\n",
      "105\t_\t0.0009922981262207031\n",
      "106\tby\t0.005261480808258057\n",
      "107\t_\t0.004453897476196289\n",
      "108\tship\t0.0012708306312561035\n",
      "109\t_\t0.002262592315673828\n",
      "110\ti\t0.00289839506149292\n",
      "111\td\t0.007022380828857422\n",
      "112\t\t-0.0002517104148864746\n",
      "113\t,\t-4.589557647705078e-05\n",
      "114\t\t-0.00299072265625\n",
      "115\ti\t-0.0028443336486816406\n",
      "116\td\t-0.0026192665100097656\n",
      "117\t\t-0.0006656646728515625\n",
      "118\t,\t0.0003933906555175781\n",
      "119\tnote\t-0.00017625093460083008\n",
      "120\t\t0.0006151795387268066\n",
      "121\t,\t5.9485435485839844e-05\n",
      "122\tkilled\t0.0003504753112792969\n",
      "123\t\t-0.0002913475036621094\n",
      "124\t,\t-0.0006744861602783203\n",
      "125\tinjured\t-0.0009760260581970215\n"
     ]
    }
   ],
   "source": [
    "# ID = 503\n",
    "\n",
    "_seq_len = len([d for d in result if d['corrpt_type'] == 'token'])\n",
    "_tags = [[False, False, False] for _ in range(_seq_len)]  # (is_span_start, is_span_end, is_unit)\n",
    "for i, d in enumerate(result):\n",
    "    if d['corrpt_drop'] > 0.5:\n",
    "        s, e = d['corrpt_idx']\n",
    "        if e - s > 1:\n",
    "            _tags[s][0] = True\n",
    "            _tags[e-1][1] = True\n",
    "        else:\n",
    "            _tags[s][2] = True\n",
    "\n",
    "l = []\n",
    "for i in range(_seq_len):\n",
    "    id_str = str(i)\n",
    "    if _tags[i][2]:\n",
    "        id_str = f'*{i}*'\n",
    "    if _tags[i][0]:\n",
    "        id_str = 'S' + id_str\n",
    "    if _tags[i][1]:\n",
    "        id_str = id_str + 'E'\n",
    "    \n",
    "    d = result[i]\n",
    "    l.append(f'{id_str}\\t{d[\"corrpt_token\"]}\\t{d[\"corrpt_drop\"]}')\n",
    "#         l.append(f'{i}\\t{d[\"corrpt_token\"]}\\t{d[\"corrpt_drop\"]}')\n",
    "print('\\n'.join(l))"
   ]
  },
  {
   "cell_type": "markdown",
   "metadata": {},
   "source": [
    "#### Exp3 (moved to py script)"
   ]
  },
  {
   "cell_type": "code",
   "execution_count": 258,
   "metadata": {},
   "outputs": [],
   "source": [
    "res_dir = '/home/yshao/Projects/rome/results/exp3_relational_nodes_mutual'\n",
    "os.makedirs(res_dir, exist_ok=True)\n",
    "res_path = os.path.join(res_dir, 'exp=3.0_dev_table.jsonl')"
   ]
  },
  {
   "cell_type": "code",
   "execution_count": 259,
   "metadata": {},
   "outputs": [],
   "source": [
    "# all_results = []\n",
    "# subject_type = 'column'\n",
    "# remove_struct_duplicate_cols = True\n",
    "# skips = ('token',)\n",
    "\n",
    "# f = open(res_path, 'w')\n",
    "\n",
    "# for ex_id, ex in enumerate(tqdm(processed_spider_dev)):\n",
    "#     text_in = ex['text_in']\n",
    "#     struct_in = ex['struct_in']\n",
    "\n",
    "#     enc_sentence = f\"{text_in}; structed knowledge: {struct_in}\"\n",
    "#     ex['enc_sentence'] = enc_sentence\n",
    "    \n",
    "#     parsed_struct_in = ctu.parse_struct_in(struct_in)\n",
    "#     col2table = defaultdict(list)\n",
    "#     db_id_t, tables = parsed_struct_in\n",
    "#     for table_name_t, cols in tables:\n",
    "#         for col_name_t, vals in cols:\n",
    "#             _, table_name, _ = table_name_t\n",
    "#             _, col_name, _ = col_name_t\n",
    "#             col2table[col_name].append(table_name)\n",
    "\n",
    "#     token_ranges_dict = ctu.find_struct_name_ranges(mt_uskg.tokenizer, ex)\n",
    "#     if subject_type == 'column':\n",
    "#         node_name_ranges = token_ranges_dict['col_name_ranges']\n",
    "#     elif subject_type == 'table':\n",
    "#         node_name_ranges = token_ranges_dict['table_name_ranges']\n",
    "    \n",
    "#     sql_tokens = ctu.separate_punct(ex['seq_out']).split(' ')\n",
    "#     sql_nodes = set()\n",
    "#     for t in sql_tokens:\n",
    "#         if t in node_name_ranges:\n",
    "#             sql_nodes.add(t)\n",
    "    \n",
    "#     if subject_type == 'column':\n",
    "#         for t in list(sql_nodes):\n",
    "#             if len(col2table[t]) == 0:\n",
    "#                 raise ValueError(struct_in, t)\n",
    "#             elif (len(col2table[t]) > 1) and remove_struct_duplicate_cols:\n",
    "#                 sql_nodes.remove(t)\n",
    "\n",
    "#     for node in sql_nodes:\n",
    "#         _ex = dict(ex)\n",
    "        \n",
    "#         tok_ranges = node_name_ranges[node]\n",
    "        \n",
    "#         expect = node\n",
    "#         dec_prompt = ctu.make_dec_prompt(ex['seq_out'], expect)\n",
    "\n",
    "#         ex['dec_prompt'] = dec_prompt\n",
    "#         ex['expect'] = expect\n",
    "        \n",
    "#         # Check base performance \n",
    "#         inp = ctu.make_inputs_t5(\n",
    "#             mt_uskg.tokenizer,\n",
    "#             [enc_sentence],\n",
    "#             [dec_prompt],\n",
    "#             answer=expect,\n",
    "#             device='cuda'\n",
    "#         )\n",
    "\n",
    "#         answer_len = len(mt_uskg.tokenizer.tokenize(expect))\n",
    "#         with torch.no_grad():\n",
    "#             answers_t, base_score = [d[0] for d in ctu.predict_from_input_uskg_multi_token(mt_uskg.model, inp, pred_len=answer_len)]\n",
    "#         base_score = base_score.min().item()\n",
    "#         answer = ctu.decode_sentences(mt_uskg.tokenizer, answers_t)\n",
    "\n",
    "#         result_d = ctu.token_corruption_influence_uskg(\n",
    "#             mt_uskg,\n",
    "#             # enc_sentence=enc_sentence,\n",
    "#             # dec_prompt=dec_prompt,\n",
    "#             # expect=expect,\n",
    "#             ex,\n",
    "#             replace=True,\n",
    "#             use_tqdm=False,\n",
    "#         )\n",
    "        \n",
    "#         result_d['ex_id'] = ex_id\n",
    "#         all_results.append(result_d)\n",
    "#         f.write(json.dumps(result_d, indent=None) + '\\n')\n"
   ]
  },
  {
   "cell_type": "markdown",
   "metadata": {},
   "source": [
    "#### Load results"
   ]
  },
  {
   "cell_type": "code",
   "execution_count": 260,
   "metadata": {},
   "outputs": [
    {
     "data": {
      "text/plain": [
       "1695"
      ]
     },
     "execution_count": 260,
     "metadata": {},
     "output_type": "execute_result"
    }
   ],
   "source": [
    "with open(res_path, 'r') as f:\n",
    "    all_results = [json.loads(l) for l in f]\n",
    "len(all_results)"
   ]
  },
  {
   "cell_type": "code",
   "execution_count": 261,
   "metadata": {},
   "outputs": [
    {
     "data": {
      "text/plain": [
       "(dict_keys(['enc_sentence', 'seq_out', 'dec_prompt', 'expect', 'expect_type', 'db_id', 'expect_input_ranges', 'expect_table', 'answer', 'base_score', 'answers_t', 'correct_prediction', 'category', 'res_list', 'ex_id']),\n",
       " dict_keys(['corrpt_type', 'corrpt_idx', 'corrpt_token', 'corrpt_score', 'corrpt_drop']))"
      ]
     },
     "execution_count": 261,
     "metadata": {},
     "output_type": "execute_result"
    }
   ],
   "source": [
    "all_results[0].keys(), all_results[0]['res_list'][0].keys()"
   ]
  },
  {
   "cell_type": "code",
   "execution_count": 262,
   "metadata": {},
   "outputs": [],
   "source": [
    "# # One-time patches\n",
    "# # patch 1, for those d without \"correct_prediction\", set it True \n",
    "# # patch 2, for each d, add \"expect_table\" which is table of \"expect\" column \n",
    "# # patch 3, for each d, add ex_id \n",
    "# # patch 4, remove d where db_id = 'orchestra' and expect = 'orchestra' (it is duplicated in struct, should be skipped for now)\n",
    "\n",
    "# in_path = os.path.join(res_dir, 'exp=3.0_dev_column_old.jsonl')\n",
    "# out_path = os.path.join(res_dir, 'exp=3.0_dev_column.jsonl')\n",
    "\n",
    "\n",
    "# with open(in_path, 'r') as f:\n",
    "#     all_results = [json.loads(l) for l in f]\n",
    "\n",
    "# keep_results = []\n",
    "# for d in all_results:\n",
    "#     if (d['db_id'] == 'orchestra') and (d['expect'] == 'orchestra'):\n",
    "#         continue\n",
    "#     keep_results.append(d)\n",
    "\n",
    "# # ex_id = 0\n",
    "# # for d in all_results:\n",
    "# #     d_text_in = d['enc_sentence'].split(ctu.USKG_SPLITTER)[0]\n",
    "# #     while True:\n",
    "# #         spider_ex = processed_spider_dev[ex_id]\n",
    "# #         if spider_ex['text_in'] != d_text_in:\n",
    "# #             ex_id += 1\n",
    "# #         else:\n",
    "# #             break\n",
    "# # #     db_id = spider_ex['db_id']\n",
    "# # #     col2table = db_col2table_cache[db_id]\n",
    "# # #     d['expect_table'] = col2table[d['expect']][0]\n",
    "# #     d['ex_id'] = ex_id\n",
    "\n",
    "# with open(out_path, 'w') as f:\n",
    "#     for d in keep_results:\n",
    "#         f.write(json.dumps(d, indent=None) + '\\n')\n",
    "\n",
    "# # ex_id\n",
    "# len(keep_results)"
   ]
  },
  {
   "cell_type": "code",
   "execution_count": 268,
   "metadata": {},
   "outputs": [
    {
     "data": {
      "text/plain": [
       "[('self', 1556),\n",
       " ('self_table', 1556),\n",
       " ('self_col', 7698),\n",
       " ('other_col', 24546),\n",
       " ('other_table', 5593),\n",
       " ('self_col_max', 1474),\n",
       " ('other_col_max', 1556),\n",
       " ('other_table_max', 1556)]"
      ]
     },
     "execution_count": 268,
     "metadata": {},
     "output_type": "execute_result"
    }
   ],
   "source": [
    "db_col2table_cache = dict()   # db_id -> col2table\n",
    "\n",
    "scores_per_rel = {\n",
    "    k: [] \n",
    "    for k in ['self', 'self_table', 'self_col', \n",
    "              'other_col', 'other_table', 'self_col_max', 'other_col_max', 'other_table_max']}\n",
    "n_corr_pred = 0\n",
    "\n",
    "for d in all_results:\n",
    "    if not d['correct_prediction']:\n",
    "        continue\n",
    "        \n",
    "    n_corr_pred += 1\n",
    "    ex_id = d['ex_id']\n",
    "    spider_ex = processed_spider_dev[ex_id]\n",
    "    db_id = spider_ex['db_id']\n",
    "    \n",
    "    # TODO: make this a function: get_col2table(struct_in)\n",
    "    if db_col2table_cache.get(db_id) is None:\n",
    "        struct_in = spider_ex['struct_in']\n",
    "        parsed_struct_in = ctu.parse_struct_in(struct_in)\n",
    "        # parsed_struct_in_cache[db_id] = parsed_struct_in\n",
    "    \n",
    "        col2table = defaultdict(list)\n",
    "        db_id_t, tables = parsed_struct_in\n",
    "        for table_name_t, cols in tables:\n",
    "            for col_name_t, vals in cols:\n",
    "                _, table_name, _ = table_name_t\n",
    "                _, col_name, _ = col_name_t\n",
    "                col2table[col_name].append(table_name)\n",
    "        db_col2table_cache[db_id] = col2table\n",
    "    col2table = db_col2table_cache[db_id]\n",
    "    \n",
    "    expect = d['expect']\n",
    "    tab = d['expect_table']\n",
    "    \n",
    "    d['self_drop'] = None\n",
    "    d['self_table_drop'] = None\n",
    "    d['self_col_drop'] = []\n",
    "    d['other_col_drop'] = []\n",
    "    d['other_table_drop'] = []\n",
    "    for res in d['res_list']:\n",
    "        _drop = res['corrpt_drop']\n",
    "        _is_other = True\n",
    "        if res['corrpt_token'] == expect:\n",
    "            d['self_drop'] = _drop\n",
    "            _is_other = False\n",
    "            if (res['corrpt_type'] == 'column') and (d['expect_type'] == 'column'):\n",
    "                d['self_col_drop'].append(_drop)\n",
    "        if res['corrpt_token'] == tab:\n",
    "            d['self_table_drop'] = _drop\n",
    "            _is_other = False\n",
    "        if (res['corrpt_type'] == 'column') and (d['expect_type'] == 'table'):\n",
    "            _c = res['corrpt_token']\n",
    "            _t = expect\n",
    "            if _t in col2table[_c]:\n",
    "                # corrupted is a column of expect table \n",
    "                d['self_col_drop'].append(_drop)\n",
    "                # print(_c, _t)\n",
    "                is_other = False\n",
    "        \n",
    "        if not _is_other:\n",
    "            continue    \n",
    "        if res['corrpt_type'] == 'column':\n",
    "            d['other_col_drop'].append(_drop)\n",
    "        elif res['corrpt_type'] == 'table':\n",
    "            d['other_table_drop'].append(_drop)\n",
    "            \n",
    "    d['self_col_max_drop'] = max(d['self_col_drop']) if d['self_col_drop'] else None\n",
    "    d['other_col_max_drop'] = max(d['other_col_drop'])\n",
    "    d['other_table_max_drop'] = max(d['other_table_drop'])\n",
    "    \n",
    "    scores_per_rel['self'].append(d['self_drop'])\n",
    "    scores_per_rel['self_table'].append(d['self_table_drop'])\n",
    "    scores_per_rel['self_col'].extend(d['self_col_drop'])\n",
    "    scores_per_rel['other_col'].extend(d['other_col_drop'])\n",
    "    scores_per_rel['other_table'].extend(d['other_table_drop'])\n",
    "    scores_per_rel['other_col_max'].append(d['other_col_max_drop'])\n",
    "    scores_per_rel['other_table_max'].append(d['other_table_max_drop'])\n",
    "    if d['self_col_max_drop'] is not None:\n",
    "        scores_per_rel['self_col_max'].append(d['self_col_max_drop'])\n",
    "    \n",
    "[(k, len(scores_per_rel[k])) for k in scores_per_rel]"
   ]
  },
  {
   "cell_type": "code",
   "execution_count": 284,
   "metadata": {},
   "outputs": [],
   "source": [
    "# None in scores_per_rel['self_col_max']"
   ]
  },
  {
   "cell_type": "code",
   "execution_count": 285,
   "metadata": {},
   "outputs": [
    {
     "data": {
      "text/plain": [
       "[('self', 0.7387205946038705),\n",
       " ('self_table', 0.7387205946038705),\n",
       " ('self_col', 0.014660158918760848),\n",
       " ('other_col', 0.006537220754201795),\n",
       " ('other_table', 0.005284151565397158),\n",
       " ('self_col_max', 0.06904510783421929),\n",
       " ('other_col_max', 0.07476104517248733),\n",
       " ('other_table_max', 0.02584633979267775)]"
      ]
     },
     "execution_count": 285,
     "metadata": {},
     "output_type": "execute_result"
    }
   ],
   "source": [
    "[(k, np.mean(scores_per_rel[k])) for k in scores_per_rel]"
   ]
  },
  {
   "cell_type": "code",
   "execution_count": 213,
   "metadata": {
    "scrolled": true
   },
   "outputs": [
    {
     "data": {
      "text/plain": [
       "97"
      ]
     },
     "execution_count": 213,
     "metadata": {},
     "output_type": "execute_result"
    }
   ],
   "source": [
    "# self_table_effective_ids = []\n",
    "\n",
    "# for i, d in enumerate(all_results):\n",
    "#     self_table_drop = d.get('self_table_drop', 0.0)\n",
    "#     if self_table_drop > 0.5:\n",
    "#         self_table_effective_ids.append(i)\n",
    "# len(self_table_effective_ids)"
   ]
  },
  {
   "cell_type": "code",
   "execution_count": 271,
   "metadata": {},
   "outputs": [
    {
     "data": {
      "text/plain": [
       "95"
      ]
     },
     "execution_count": 271,
     "metadata": {},
     "output_type": "execute_result"
    }
   ],
   "source": [
    "self_col_effective_ids = []\n",
    "\n",
    "for i, d in enumerate(all_results):\n",
    "    self_col_drop = d.get('self_col_max_drop', 0.0)\n",
    "    if (self_col_drop is not None) and (self_col_drop > 0.5):\n",
    "        self_col_effective_ids.append(i)\n",
    "len(self_col_effective_ids)"
   ]
  },
  {
   "cell_type": "code",
   "execution_count": 273,
   "metadata": {},
   "outputs": [
    {
     "name": "stdout",
     "output_type": "stream",
     "text": [
      "[135, 184, 190, 191, 194, 196, 200, 203, 204, 206, 207, 209, 224, 226, 235, 246, 247, 268, 273, 275, 278, 280, 281, 282, 285, 287, 294, 298, 316, 395, 402, 423, 446, 459, 463, 467, 471, 489, 491, 495, 531, 638, 642, 711, 719, 720, 750, 763, 764, 781, 794, 795, 842, 843, 848, 977, 978, 1020, 1022, 1025, 1038, 1039, 1040, 1044, 1061, 1065, 1071, 1118, 1302, 1304, 1308, 1310, 1358, 1359, 1360, 1414, 1416, 1418, 1422, 1424, 1440, 1442, 1443, 1456, 1469, 1474, 1486, 1489, 1499, 1641, 1644, 1667, 1671, 1689, 1690]\n"
     ]
    }
   ],
   "source": [
    "print(self_col_effective_ids)"
   ]
  },
  {
   "cell_type": "code",
   "execution_count": 274,
   "metadata": {
    "scrolled": true
   },
   "outputs": [
    {
     "name": "stdout",
     "output_type": "stream",
     "text": [
      "135 select t1.fname, t1.age from student as t1 join has_pet as t2 on t1.stuid = t2.stuid join pets as t3 on t3.petid = t2.petid where t3.pettype = 'dog' and t1.stuid not in (select t1.stuid from student as t1 join has_pet as t2 on t1.stuid = t2.stuid join --> pets\n",
      "184 select t1.model from --> car_names\n",
      "190 select t1.model from car_names as t1 join cars_data as t2 on t1.makeid = t2.id where t2.weight < (select avg(weight) from --> cars_data\n",
      "191 select t1.model from --> car_names\n",
      "194 select distinct t1.maker from car_makers as t1 join model_list as t2 on t1.id = t2.maker join --> car_names\n",
      "196 select distinct t1.maker from car_makers as t1 join model_list as t2 on t1.id = t2.maker join car_names as t3 on t2.model = t3.model join --> cars_data\n",
      "200 select distinct t1.maker from car_makers as t1 join model_list as t2 on t1.id = t2.maker join car_names as t3 on t2.model = t3.model join --> cars_data\n",
      "203 select t2.make, t1.year from --> cars_data\n",
      "204 select t2.make, t1.year from cars_data as t1 join car_names as t2 on t1.id = t2.makeid where t1.year = (select min(year) from --> cars_data\n",
      "206 select t2.make, t1.year from --> cars_data\n",
      "207 select t2.make, t1.year from cars_data as t1 join car_names as t2 on t1.id = t2.makeid where t1.year = (select min(year) from --> cars_data\n",
      "209 select distinct t1.model from --> model_list\n",
      "224 select count(*), t2.fullname from --> model_list\n",
      "226 select count(*), t2.fullname, t2.id from --> model_list\n",
      "235 select count(*) from --> car_makers\n",
      "246 select maker, model from --> model_list\n",
      "247 select maker, model from --> model_list\n",
      "268 select t1.model from --> car_names\n",
      "273 select avg(t2.edispl) from car_names as t1 join --> cars_data\n",
      "275 select avg(t2.edispl) from car_names as t1 join --> cars_data\n",
      "278 select model from --> car_names\n",
      "280 select count(*) from --> cars_data\n",
      "281 select count(*) from --> cars_data\n",
      "282 select count(*) from --> cars_data\n",
      "285 select count(*) from --> car_makers\n",
      "287 select count(*) from --> car_makers\n",
      "294 select distinct t2.model from car_names as t1 join model_list as t2 on t1.model = t2.model join car_makers as t3 on t2.maker = t3.id join --> cars_data\n",
      "298 select distinct t2.model from car_names as t1 join model_list as t2 on t1.model = t2.model join car_makers as t3 on t2.maker = t3.id join --> cars_data\n",
      "316 select count(*) from --> cars_data\n",
      "395 select count(*) from flights as t1 join --> airports\n",
      "402 select count(*) from flights as t1 join airports as t2 on t1.destairport = t2.airportcode join --> airports\n",
      "423 select count(*) from flights as t1 join --> airports\n",
      "446 select t1.abbreviation, t1.country from --> airlines\n",
      "459 select t1.airline from airlines as t1 join flights as t2 on t1.uid = t2.airline where t2.sourceairport = \"APG\" intersect select t1.airline from airlines as t1 join --> flights\n",
      "463 select t1.airline from airlines as t1 join flights as t2 on t1.uid = t2.airline where t2.sourceairport = \"APG\" intersect select t1.airline from airlines as t1 join --> flights\n",
      "467 select t1.airline from airlines as t1 join flights as t2 on t1.uid = t2.airline where t2.sourceairport = \"CVO\" except select t1.airline from airlines as t1 join --> flights\n",
      "471 select t1.airline from airlines as t1 join flights as t2 on t1.uid = t2.airline where t2.sourceairport = \"CVO\" except select t1.airline from airlines as t1 join --> flights\n",
      "489 select t1.flightno from flights as t1 join --> airports\n",
      "491 select t1.flightno from flights as t1 join --> airports\n",
      "495 select t1.flightno from flights as t1 join --> airports\n",
      "531 select t1.name from employee as t1 join --> evaluation\n",
      "638 select distinct t1.template_type_description from --> ref_template_types\n",
      "642 select t2.template_id from --> ref_template_types\n",
      "711 select t3.name, t2. --> course\n",
      "719 select t3.name from course_arrange as t1 join --> course\n",
      "720 select t3.name from course_arrange as t1 join course as t2 on t1.course_id = t2.course_id join teacher as t3 on t1.teacher_id = t3.teacher_id where t2. --> course\n",
      "750 select name from museum where museum_id not in (select museum_id from --> visit\n",
      "763 select count(*) from visitor where id not in (select t2.visitor_id from museum as t1 join --> visit\n",
      "764 select count(*) from visitor where id not in (select t2.visitor_id from --> museum\n",
      "781 select count(distinct loser_name) from --> matches\n",
      "794 select t1.country_code, t1.first_name from players as t1 join --> matches\n",
      "795 select t1.country_code, t1.first_name from players as t1 join matches as t2 on t1.player_id = t2.winner_id where t2.tourney_name = 'WTA Championships' intersect select t1.country_code, t1.first_name from players as t1 join --> matches\n",
      "842 select count(*), hand from --> players\n",
      "843 select count(*), hand from --> players\n",
      "848 select avg(injured) from --> death\n",
      "977 select distinct t2.semester_id from --> degree_programs\n",
      "978 select distinct t2.semester_id from degree_programs as t1 join student_enrolment as t2 on t1.degree_program_id = t2.degree_program_id where degree_summary_name = 'Master' intersect select distinct t2.semester_id from --> degree_programs\n",
      "1020 select t1.series_name from --> tv_channel\n",
      "1022 select t1.series_name from --> tv_channel\n",
      "1025 select t2.title from tv_channel as t1 join --> cartoon\n",
      "1038 select t1.series_name from --> tv_channel\n",
      "1039 select t1.series_name from tv_channel as t1 join --> tv_series\n",
      "1040 select t1.series_name from --> tv_channel\n",
      "1044 select t2.episode from --> tv_channel\n",
      "1061 select t1.series_name, t1.country from tv_channel as t1 join --> cartoon\n",
      "1065 select t1.series_name, t1.country from tv_channel as t1 join --> cartoon\n",
      "1071 select id from --> tv_channel\n",
      "1118 select t1.name from --> people\n",
      "1302 select countrycode from --> countrylanguage\n",
      "1304 select countrycode from --> countrylanguage\n",
      "1308 select code from country where governmentform != \"Republic\" except select countrycode from --> countrylanguage\n",
      "1310 select code from country where governmentform != \"Republic\" except select countrycode from --> countrylanguage\n",
      "1358 select language, countrycode, max(percentage) from --> countrylanguage\n",
      "1359 select language, countrycode, max(percentage) from --> countrylanguage\n",
      "1360 select count(*), max(percentage) from --> countrylanguage\n",
      "1414 select t2.name, count(*) from --> friend\n",
      "1416 select t2.name, count(*) from --> friend\n",
      "1418 select t2.name from --> friend\n",
      "1422 select t2.name from --> friend\n",
      "1424 select t2.name from --> friend\n",
      "1440 select name from highschooler except select t2.name from --> friend\n",
      "1442 select name from highschooler except select t2.name from friend as t1 join --> highschooler\n",
      "1443 select name from highschooler except select t2.name from --> friend\n",
      "1456 select t2.name from friend as t1 join --> highschooler\n",
      "1469 select t2.name from likes as t1 join --> highschooler\n",
      "1474 select t2.name from --> friend\n",
      "1486 select min(grade) from highschooler where id not in (select t1.student_id from --> friend\n",
      "1489 select min(grade) from highschooler where id not in (select t1.student_id from --> friend\n",
      "1499 select avg(age) from --> dogs\n",
      "1641 select distinct t1.first_name, t3.treatment_type_description from professionals as t1 join treatments as t2 on t1.professional_id = t2.professional_id join --> treatment_types\n",
      "1644 select distinct t1.first_name, t3.treatment_type_description from professionals as t1 join treatments as t2 on t1.professional_id = t2.professional_id join --> treatment_types\n",
      "1667 select t2.title, t1.name from --> singer\n",
      "1671 select distinct t1.name from --> singer\n",
      "1689 select t2.feature_type_name from other_available_features as t1 join --> ref_feature_types\n",
      "1690 select t2.feature_type_name from --> other_available_features\n"
     ]
    }
   ],
   "source": [
    "# Any type of samples make self-table effective? More with JOIN \n",
    "\n",
    "for i in self_col_effective_ids:\n",
    "    res_d = all_results[i]\n",
    "    print(i, res_d['dec_prompt'], '-->', res_d['expect'])\n"
   ]
  },
  {
   "cell_type": "code",
   "execution_count": null,
   "metadata": {
    "scrolled": true
   },
   "outputs": [],
   "source": [
    "_id = 263\n",
    "res_d = all_results[_id]\n",
    "result = res_d['res_list']\n",
    "# _seq_len = max([d['corrpt_idx'][1] - 1 for d in result])\n",
    "# _tags = [[False, False, False] for _ in range(_seq_len)]  # (is_span_start, is_span_end, is_unit)\n",
    "# for i, d in enumerate(result):\n",
    "#     if d['corrpt_drop'] > 0.5:\n",
    "#         s, e = d['corrpt_idx']\n",
    "#         if e - s > 1:\n",
    "#             _tags[s][0] = True\n",
    "#             _tags[e-1][1] = True\n",
    "#         else:\n",
    "#             _tags[s][2] = True\n",
    "\n",
    "# spider_ex = processed_spider_dev[res_d['ex_id']]\n",
    "print(res_d['enc_sentence'])\n",
    "print(res_d['dec_prompt'], '-->', res_d['expect'])\n",
    "print()\n",
    "\n",
    "l = []\n",
    "for d in result:\n",
    "    _prefix = ''\n",
    "    db_id = spider_ex['db_id']\n",
    "    \n",
    "    if d[\"corrpt_type\"] == 'column' and d[\"corrpt_token\"] == res_d['expect']:\n",
    "        _prefix = '**'\n",
    "    elif d[\"corrpt_type\"] == 'table' and d[\"corrpt_token\"] == res_d['expect_table']:\n",
    "        _prefix = '*>'\n",
    "    l.append(f'{_prefix}{d[\"corrpt_type\"]}\\t{d[\"corrpt_token\"]}\\t{d[\"corrpt_drop\"]}')\n",
    "#         l.append(f'{i}\\t{d[\"corrpt_token\"]}\\t{d[\"corrpt_drop\"]}')\n",
    "print('\\n'.join(l))"
   ]
  },
  {
   "cell_type": "markdown",
   "metadata": {},
   "source": [
    "#### Split by different aspects"
   ]
  },
  {
   "cell_type": "code",
   "execution_count": 275,
   "metadata": {},
   "outputs": [
    {
     "data": {
      "text/plain": [
       "[('easy', 252), ('medium', 587), ('hard', 304), ('extra', 413)]"
      ]
     },
     "execution_count": 275,
     "metadata": {},
     "output_type": "execute_result"
    }
   ],
   "source": [
    "## Hardness\n",
    "\n",
    "samples_by_hardness = defaultdict(list)\n",
    "\n",
    "for res_d in all_results:\n",
    "    if not res_d['correct_prediction']:\n",
    "        continue\n",
    "#     hardness = spider_id2hardness[res_d['ex_id']]\n",
    "    hardness = res_d['category']['sql_hardness']\n",
    "    samples_by_hardness[hardness].append(res_d)\n",
    "\n",
    "[(h, len(samples)) for h, samples in samples_by_hardness.items()]"
   ]
  },
  {
   "cell_type": "code",
   "execution_count": 286,
   "metadata": {
    "scrolled": true
   },
   "outputs": [
    {
     "name": "stdout",
     "output_type": "stream",
     "text": [
      "Hardness: easy (252)\n",
      "self\t0.7473\t\n",
      "self_table\t0.7473\t\n",
      "self_col\t0.0067\t\n",
      "other_col\t0.0035\t\n",
      "other_table\t0.0007\t\n",
      "self_col_max\t0.0349\t\n",
      "other_col_max\t0.0460\t\n",
      "other_table_max\t0.0028\t\n",
      "\n",
      "Hardness: medium (587)\n",
      "self\t0.7537\t\n",
      "self_table\t0.7537\t\n",
      "self_col\t0.0147\t\n",
      "other_col\t0.0062\t\n",
      "other_table\t0.0072\t\n",
      "self_col_max\t0.0711\t\n",
      "other_col_max\t0.0741\t\n",
      "other_table_max\t0.0274\t\n",
      "\n",
      "Hardness: hard (304)\n",
      "self\t0.7050\t\n",
      "self_table\t0.7050\t\n",
      "self_col\t0.0154\t\n",
      "other_col\t0.0084\t\n",
      "other_table\t0.0087\t\n",
      "self_col_max\t0.0787\t\n",
      "other_col_max\t0.0883\t\n",
      "other_table_max\t0.0377\t\n",
      "\n",
      "Hardness: extra (413)\n",
      "self\t0.7371\t\n",
      "self_table\t0.7371\t\n",
      "self_col\t0.0203\t\n",
      "other_col\t0.0076\t\n",
      "other_table\t0.0035\t\n",
      "self_col_max\t0.0814\t\n",
      "other_col_max\t0.0832\t\n",
      "other_table_max\t0.0290\t\n",
      "\n"
     ]
    }
   ],
   "source": [
    "for h in ['easy', 'medium', 'hard', 'extra']:\n",
    "    samples = samples_by_hardness[h]\n",
    "    print(f'Hardness: {h} ({len(samples)})')\n",
    "    # print('[Example sql]', samples[0]['seq_out'])\n",
    "    \n",
    "    for rel in scores_per_rel.keys():\n",
    "        _rel_k = rel + '_drop'\n",
    "        rel_scores = [x for res_d in samples for x in ctu.ensure_list(res_d[_rel_k]) if x is not None]\n",
    "        avg_score = np.mean(rel_scores, )\n",
    "        print(f'{rel}\\t{avg_score:.4f}\\t')\n",
    "    print()"
   ]
  },
  {
   "cell_type": "code",
   "execution_count": null,
   "metadata": {},
   "outputs": [],
   "source": [
    "# rel_scores"
   ]
  },
  {
   "cell_type": "code",
   "execution_count": 287,
   "metadata": {},
   "outputs": [
    {
     "data": {
      "text/plain": [
       "[('from', 1096), ('join', 454), ('select', 4), ('where', 2)]"
      ]
     },
     "execution_count": 287,
     "metadata": {},
     "output_type": "execute_result"
    }
   ],
   "source": [
    "## Node role\n",
    "\n",
    "samples_by_node_role = defaultdict(list)\n",
    "\n",
    "for res_d in all_results:\n",
    "    if not res_d['correct_prediction']:\n",
    "        continue\n",
    "#     col_role_kw = _detect_column_role(res_d['dec_prompt'])\n",
    "    role_kw = res_d['category']['node_role']\n",
    "    samples_by_node_role[role_kw].append(res_d)\n",
    "\n",
    "[(r, len(samples)) for r, samples in samples_by_node_role.items()]"
   ]
  },
  {
   "cell_type": "code",
   "execution_count": 288,
   "metadata": {
    "scrolled": false
   },
   "outputs": [
    {
     "name": "stdout",
     "output_type": "stream",
     "text": [
      "Column role: from (1096)\n",
      "self\t0.7255\t\n",
      "self_table\t0.7255\t\n",
      "self_col\t0.0109\t\n",
      "other_col\t0.0058\t\n",
      "other_table\t0.0004\t\n",
      "self_col_max\t0.0608\t\n",
      "other_col_max\t0.0686\t\n",
      "other_table_max\t0.0081\t\n",
      "\n",
      "Column role: join (454)\n",
      "self\t0.7804\t\n",
      "self_table\t0.7804\t\n",
      "self_col\t0.0288\t\n",
      "other_col\t0.0086\t\n",
      "other_table\t0.0168\t\n",
      "self_col_max\t0.0866\t\n",
      "other_col_max\t0.0907\t\n",
      "other_table_max\t0.0691\t\n",
      "\n"
     ]
    }
   ],
   "source": [
    "for r, samples in samples_by_node_role.items():\n",
    "    if len(samples) < 10:\n",
    "        continue\n",
    "    print(f'Column role: {r} ({len(samples)})')\n",
    "    # print('[Example sql]', samples[0]['seq_out'])\n",
    "    \n",
    "    for rel in scores_per_rel.keys():\n",
    "        _rel_k = rel + '_drop'\n",
    "        rel_scores = [x for res_d in samples for x in ctu.ensure_list(res_d[_rel_k]) if x is not None]\n",
    "        avg_score = np.mean(rel_scores)\n",
    "        print(f'{rel}\\t{avg_score:.4f}\\t')\n",
    "    print()"
   ]
  },
  {
   "cell_type": "code",
   "execution_count": 289,
   "metadata": {},
   "outputs": [
    {
     "data": {
      "text/plain": [
       "[('exact', 1051), ('partial', 143), ('no-match', 362)]"
      ]
     },
     "execution_count": 289,
     "metadata": {},
     "output_type": "execute_result"
    }
   ],
   "source": [
    "## Text match \n",
    "\n",
    "samples_by_text_match = {k: [] for k in ['exact', 'partial', 'no-match']}\n",
    "\n",
    "for res_d in all_results:\n",
    "    if not res_d['correct_prediction']:\n",
    "        continue\n",
    "#     spider_ex = processed_spider_dev[res_d['ex_id']]\n",
    "#     text_match = ctu.check_text_match(spider_ex, col=res_d['expect'], tab=res_d['expect_table'])\n",
    "    text_match = res_d['category']['text_match']\n",
    "    samples_by_text_match[text_match].append(res_d)\n",
    "\n",
    "[(m, len(samples)) for m, samples in samples_by_text_match.items()]"
   ]
  },
  {
   "cell_type": "code",
   "execution_count": 290,
   "metadata": {
    "scrolled": true
   },
   "outputs": [
    {
     "name": "stdout",
     "output_type": "stream",
     "text": [
      "Text-match: exact (1051)\n",
      "self\t0.6815\t\n",
      "self_table\t0.6815\t\n",
      "self_col\t0.0061\t\n",
      "other_col\t0.0038\t\n",
      "other_table\t0.0039\t\n",
      "self_col_max\t0.0303\t\n",
      "other_col_max\t0.0380\t\n",
      "other_table_max\t0.0168\t\n",
      "\n",
      "Text-match: partial (143)\n",
      "self\t0.8419\t\n",
      "self_table\t0.8419\t\n",
      "self_col\t0.0656\t\n",
      "other_col\t0.0130\t\n",
      "other_table\t0.0028\t\n",
      "self_col_max\t0.2214\t\n",
      "other_col_max\t0.1938\t\n",
      "other_table_max\t0.0644\t\n",
      "\n",
      "Text-match: no-match (362)\n",
      "self\t0.8642\t\n",
      "self_table\t0.8642\t\n",
      "self_col\t0.0259\t\n",
      "other_col\t0.0116\t\n",
      "other_table\t0.0116\t\n",
      "self_col_max\t0.1361\t\n",
      "other_col_max\t0.1344\t\n",
      "other_table_max\t0.0370\t\n",
      "\n"
     ]
    }
   ],
   "source": [
    "for m, samples in samples_by_text_match.items():\n",
    "    print(f'Text-match: {m} ({len(samples)})')\n",
    "    # print('[Example sql]', samples[0]['seq_out'])\n",
    "    \n",
    "    for rel in scores_per_rel.keys():\n",
    "        _rel_k = rel + '_drop'\n",
    "        rel_scores = [x for res_d in samples for x in ctu.ensure_list(res_d[_rel_k]) if x is not None]\n",
    "        avg_score = np.mean(rel_scores)\n",
    "        print(f'{rel}\\t{avg_score:.4f}\\t')\n",
    "    print()"
   ]
  },
  {
   "cell_type": "code",
   "execution_count": null,
   "metadata": {},
   "outputs": [],
   "source": []
  },
  {
   "cell_type": "markdown",
   "metadata": {},
   "source": [
    "### Exp-1: column/table corruption\n",
    "- In py script"
   ]
  },
  {
   "cell_type": "markdown",
   "metadata": {},
   "source": [
    "#### Plotting results"
   ]
  },
  {
   "cell_type": "code",
   "execution_count": 49,
   "metadata": {},
   "outputs": [
    {
     "data": {
      "text/plain": [
       "21"
      ]
     },
     "execution_count": 49,
     "metadata": {},
     "output_type": "execute_result"
    }
   ],
   "source": [
    "exp_name = 'dev_table_alias_encoder-tmp'\n",
    "\n",
    "res_json_path = f'/home/yshao/Projects/rome/results/exp1_struct_node_restore/{exp_name}.jsonl'\n",
    "with open(res_json_path, 'r') as f:\n",
    "    res_dicts = [json.loads(l) for l in f if l]\n",
    "#     all_str = f.read()\n",
    "# all_str = all_str.replace('{\"ex_id\":', '\\n{\"ex_id\":').strip()\n",
    "# res_dicts = [json.loads(l) for l in all_str.split('\\n')]\n",
    "len(res_dicts)"
   ]
  },
  {
   "cell_type": "code",
   "execution_count": 50,
   "metadata": {},
   "outputs": [
    {
     "data": {
      "text/plain": [
       "55"
      ]
     },
     "execution_count": 50,
     "metadata": {},
     "output_type": "execute_result"
    }
   ],
   "source": [
    "len([r for d in res_dicts for r in d['trace_results']])"
   ]
  },
  {
   "cell_type": "code",
   "execution_count": 51,
   "metadata": {},
   "outputs": [
    {
     "data": {
      "text/plain": [
       "3"
      ]
     },
     "execution_count": 51,
     "metadata": {},
     "output_type": "execute_result"
    }
   ],
   "source": [
    "good_trace_results = []\n",
    "for d in res_dicts:\n",
    "    for r in d['trace_results']:\n",
    "        if r['correct_prediction'] and r['is_good_sample']:\n",
    "            r['ex_id'] = d['ex_id']\n",
    "            good_trace_results.append(r)\n",
    "len(good_trace_results)"
   ]
  },
  {
   "cell_type": "code",
   "execution_count": 52,
   "metadata": {},
   "outputs": [
    {
     "data": {
      "text/plain": [
       "(dict_keys(['ex_id', 'trace_results']),\n",
       " dict_keys(['enc_sentence', 'seq_out', 'dec_prompt', 'expect', 'expect_type', 'db_id', 'expect_input_ranges', 'category', 'low_score', 'high_score', 'input_ids', 'input_tokens', 'dec_input_ids', 'dec_input_tokens', 'subject_range', 'subject_range_individual_indices', 'answer', 'window', 'correct_prediction', 'kind', 'sever_kind', 'scores', 'is_good_sample', 'ex_id']),\n",
       " list)"
      ]
     },
     "execution_count": 52,
     "metadata": {},
     "output_type": "execute_result"
    }
   ],
   "source": [
    "d.keys(), good_trace_results[0].keys(), type(good_trace_results[0]['scores'])"
   ]
  },
  {
   "cell_type": "code",
   "execution_count": 53,
   "metadata": {},
   "outputs": [
    {
     "data": {
      "application/vnd.jupyter.widget-view+json": {
       "model_id": "eccd9ea85445469dbb43564e8e0af1a7",
       "version_major": 2,
       "version_minor": 0
      },
      "text/plain": [
       "  0%|          | 0/3 [00:00<?, ?it/s]"
      ]
     },
     "metadata": {},
     "output_type": "display_data"
    },
    {
     "name": "stderr",
     "output_type": "stream",
     "text": [
      "findfont: Font family ['Times New Roman'] not found. Falling back to DejaVu Sans.\n",
      "findfont: Font family ['Times New Roman'] not found. Falling back to DejaVu Sans.\n",
      "findfont: Font family ['Times New Roman'] not found. Falling back to DejaVu Sans.\n"
     ]
    }
   ],
   "source": [
    "# Generating all plots\n",
    "fig_save_dir = f'/home/yshao/Projects/rome/results/figs/exp1_struct_node_restore/{exp_name}'\n",
    "\n",
    "for i, r in enumerate(tqdm(good_trace_results)):\n",
    "    result = dict(r)\n",
    "\n",
    "    enc_s, dec_s = result['scores']\n",
    "    enc_s = np.array(enc_s)\n",
    "    dec_s = np.array(dec_s)\n",
    "    result['scores'] = [enc_s, dec_s]\n",
    "\n",
    "    ex_id = r['ex_id']\n",
    "    ctu.plot_trace_heatmap_t5(result, savepdf=os.path.join(fig_save_dir, f'{i}-ex_id={ex_id}.pdf'))\n",
    "    "
   ]
  },
  {
   "cell_type": "markdown",
   "metadata": {},
   "source": [
    "#### Finding special samples"
   ]
  },
  {
   "cell_type": "code",
   "execution_count": 314,
   "metadata": {},
   "outputs": [
    {
     "name": "stdout",
     "output_type": "stream",
     "text": [
      "57-ex_id=69\n",
      "60-ex_id=70\n",
      "83-ex_id=139\n",
      "87-ex_id=143\n",
      "88-ex_id=144\n",
      "89-ex_id=145\n",
      "91-ex_id=153\n"
     ]
    }
   ],
   "source": [
    "for i, r in enumerate(good_trace_results):\n",
    "    _, dec_s = r['scores']\n",
    "    ## dec_s: (n_toks, n_layers)\n",
    "    non_last_token_s = np.array(dec_s)[:-1]\n",
    "    if (non_last_token_s > 0.5).any():\n",
    "        print(f'{i}-ex_id={r[\"ex_id\"]}')\n",
    "    "
   ]
  },
  {
   "cell_type": "code",
   "execution_count": null,
   "metadata": {},
   "outputs": [],
   "source": []
  },
  {
   "cell_type": "markdown",
   "metadata": {},
   "source": [
    "### Exp-1.1: severing decoder cross-attention\n",
    "- TODO: merge to py script"
   ]
  },
  {
   "cell_type": "markdown",
   "metadata": {},
   "source": [
    "#### Single sample (ID = 2)"
   ]
  },
  {
   "cell_type": "code",
   "execution_count": null,
   "metadata": {},
   "outputs": [],
   "source": [
    "_id = 2\n",
    "ex = processed_spider_dev[_id]\n",
    "ex['question'], ex['struct_in'], ex['seq_out']"
   ]
  },
  {
   "cell_type": "code",
   "execution_count": null,
   "metadata": {
    "scrolled": true
   },
   "outputs": [],
   "source": [
    "text_in = ex['text_in']\n",
    "struct_in = ex['struct_in']\n",
    "\n",
    "enc_sentence = f\"{text_in}; structed knowledge: {struct_in}\"\n",
    "enc_tokenized = mt_uskg.tokenizer(enc_sentence)\n",
    "\n",
    "token_ranges_dict = ctu.find_struct_name_ranges(mt_uskg.tokenizer, enc_tokenized['input_ids'], struct_in)\n",
    "token_ranges_dict"
   ]
  },
  {
   "cell_type": "code",
   "execution_count": null,
   "metadata": {},
   "outputs": [],
   "source": [
    "col = 'name'\n",
    "tok_ranges = token_ranges_dict['col_name_ranges'][col]\n",
    "tok_indices = [i for s, e in tok_ranges for i in range(s, e)]\n",
    "\n",
    "dec_prompt = make_dec_prompt(ex['seq_out'], col)\n",
    "\n",
    "dec_prompt, tok_indices"
   ]
  },
  {
   "cell_type": "code",
   "execution_count": null,
   "metadata": {},
   "outputs": [],
   "source": [
    "result = ctu.calculate_hidden_flow_uskg(\n",
    "    mt_uskg,\n",
    "    enc_sentence=enc_sentence,\n",
    "    dec_prompt=dec_prompt,\n",
    "    expect=col,\n",
    "    e_range=tok_indices,\n",
    "    enc_token_range=[],    # no analysis\n",
    "    dec_token_range=None,  # full analysis\n",
    "    tokens_to_mix_individual_indices=True,\n",
    "    replace=True,\n",
    "    sever_kind='self_attn'\n",
    ")"
   ]
  },
  {
   "cell_type": "code",
   "execution_count": null,
   "metadata": {},
   "outputs": [],
   "source": [
    "# no sever\n",
    "ctu.plot_trace_heatmap_t5(result)\n",
    "print([f\"{s:.2f}\" for s in result['scores'][1][-1]])"
   ]
  },
  {
   "cell_type": "code",
   "execution_count": null,
   "metadata": {},
   "outputs": [],
   "source": [
    "# sever cross_attn\n",
    "ctu.plot_trace_heatmap_t5(result)\n",
    "print([f\"{s:.2f}\" for s in result['scores'][1][-1]])"
   ]
  },
  {
   "cell_type": "code",
   "execution_count": null,
   "metadata": {},
   "outputs": [],
   "source": [
    "# sever mlp; a bit better than no severing??\n",
    "ctu.plot_trace_heatmap_t5(result)\n",
    "print([f\"{s:.2f}\" for s in result['scores'][1][-1]])"
   ]
  },
  {
   "cell_type": "code",
   "execution_count": null,
   "metadata": {},
   "outputs": [],
   "source": [
    "# sever self_attn\n",
    "ctu.plot_trace_heatmap_t5(result)\n",
    "print([f\"{s:.2f}\" for s in result['scores'][1][-1]])"
   ]
  },
  {
   "cell_type": "code",
   "execution_count": 338,
   "metadata": {},
   "outputs": [
    {
     "data": {
      "text/plain": [
       "24"
      ]
     },
     "execution_count": 338,
     "metadata": {},
     "output_type": "execute_result"
    }
   ],
   "source": [
    "len(result['scores'][1][-1])"
   ]
  },
  {
   "cell_type": "markdown",
   "metadata": {},
   "source": [
    "### Exp-2: dirty text recovery\n",
    "- Corrupt the text, restore different parts of encoder final output\n",
    "- Idea is to check the existence of contextual understanding (incorporating text info into struct representation)\n",
    "- (In py script)"
   ]
  },
  {
   "cell_type": "markdown",
   "metadata": {},
   "source": [
    "#### Single sample\n",
    "- ID = 2, col = 'name': (name exact match with text)\n",
    "    - none: wrong; text: correct; struct: correct; col: correct\n",
    "- ID = 5, col = 'country': (no exact match, but value match with text (French) )\n",
    "    - none: wrong; text: correct; struct: correct; col: correct\n",
    "- ID = 145, col = 'year': (no exact match, but value match with text (1980) )\n",
    "    - none: wrong; text: correct; struct: correct; col: correct\n",
    "- ID = 7, col = 'song_release_year': (multi-token, and with confusing columns in table (song_name) )\n",
    "    - none: wrong; text: wrong; struct: correct; col: wrong\n",
    "    - hypothesis: need clean struct to avoid confusion\n",
    "- ID = 185, col = 'airportcode': (multi-token, with confusing col (airportname), but have match with text (airport code) )\n",
    "    - none: wrong; text: correct; struct: wrong (2nd token); col: wrong\n",
    "    - differs from hypothesis... clean struct should know sql info about the column"
   ]
  },
  {
   "cell_type": "code",
   "execution_count": 192,
   "metadata": {},
   "outputs": [
    {
     "data": {
      "text/plain": [
       "('concert_singer',\n",
       " 'Show the stadium name and capacity with most number of concerts in year 2014 or after.',\n",
       " '| concert_singer | stadium : stadium_id , location , name , capacity , highest , lowest , average | singer : singer_id , name , country , song_name , song_release_year , age , is_male | concert : concert_id , concert_name , theme , stadium_id , year | singer_in_concert : concert_id , singer_id',\n",
       " 'select t2.name, t2.capacity from concert as t1 join stadium as t2 on t1.stadium_id = t2.stadium_id where t1.year >= 2014 group by t2.stadium_id order by count(*) desc limit 1')"
      ]
     },
     "execution_count": 192,
     "metadata": {},
     "output_type": "execute_result"
    }
   ],
   "source": [
    "_id = 24\n",
    "ex = processed_spider_dev[_id]\n",
    "ex['db_id'], ex['question'], ex['struct_in'], ex['seq_out']"
   ]
  },
  {
   "cell_type": "code",
   "execution_count": 193,
   "metadata": {},
   "outputs": [
    {
     "data": {
      "text/plain": [
       "((0, 17), (24, 134))"
      ]
     },
     "execution_count": 193,
     "metadata": {},
     "output_type": "execute_result"
    }
   ],
   "source": [
    "text_in = ex['text_in']\n",
    "struct_in = ex['struct_in']\n",
    "\n",
    "enc_sentence = f\"{text_in}; structed knowledge: {struct_in}\"\n",
    "enc_tokenized = mt_uskg.tokenizer(enc_sentence)\n",
    "\n",
    "text_range, struct_range = ctu.find_text_struct_in_range(mt_uskg.tokenizer, enc_tokenized['input_ids'])\n",
    "text_range, struct_range"
   ]
  },
  {
   "cell_type": "code",
   "execution_count": 34,
   "metadata": {},
   "outputs": [
    {
     "data": {
      "text/plain": [
       "{'name', 'nationality'}"
      ]
     },
     "execution_count": 34,
     "metadata": {},
     "output_type": "execute_result"
    }
   ],
   "source": [
    "token_ranges_dict = ctu.find_struct_name_ranges(mt_uskg.tokenizer, enc_tokenized['input_ids'], struct_in)\n",
    "\n",
    "col_name_ranges = token_ranges_dict['col_name_ranges']\n",
    "\n",
    "sql_tokens = ctu.separate_punct(ex['seq_out']).split(' ')\n",
    "\n",
    "sql_cols = set()\n",
    "for t in sql_tokens:\n",
    "    if t in col_name_ranges:\n",
    "        sql_cols.add(t)\n",
    "sql_cols"
   ]
  },
  {
   "cell_type": "code",
   "execution_count": 35,
   "metadata": {
    "scrolled": true
   },
   "outputs": [
    {
     "data": {
      "text/plain": [
       "((1, 'orchestra', 'orchestra'),\n",
       " [((3, 'conductor', 'conductor'),\n",
       "   [[(5, 'conductor_id', 'conductor_id'), []],\n",
       "    [(7, 'name', 'name'), []],\n",
       "    [(9, 'age', 'age'), []],\n",
       "    [(11, 'nationality', 'nationality ( USA )'), [(13, 'USA', 'USA')]],\n",
       "    [(16, 'year_of_work', 'year_of_work'), []]]),\n",
       "  ((18, 'orchestra', 'orchestra'),\n",
       "   [[(20, 'orchestra_id', 'orchestra_id'), []],\n",
       "    [(22, 'orchestra', 'orchestra'), []],\n",
       "    [(24, 'conductor_id', 'conductor_id'), []],\n",
       "    [(26, 'record_company', 'record_company'), []],\n",
       "    [(28, 'year_of_founded', 'year_of_founded'), []],\n",
       "    [(30, 'major_record_format', 'major_record_format'), []]]),\n",
       "  ((32, 'performance', 'performance'),\n",
       "   [[(34, 'performance_id', 'performance_id'), []],\n",
       "    [(36, 'orchestra_id', 'orchestra_id'), []],\n",
       "    [(38, 'type', 'type'), []],\n",
       "    [(40, 'date', 'date'), []],\n",
       "    [(42, 'official_ratings_(millions)', 'official_ratings_(millions)'), []],\n",
       "    [(44, 'weekly_rank', 'weekly_rank'), []],\n",
       "    [(46, 'share', 'share'), []]]),\n",
       "  ((48, 'show', 'show'),\n",
       "   [[(50, 'show_id', 'show_id'), []],\n",
       "    [(52, 'performance_id', 'performance_id'), []],\n",
       "    [(54, 'if_first_show', 'if_first_show'), []],\n",
       "    [(56, 'result', 'result'), []],\n",
       "    [(58, 'attendance', 'attendance'), []]])])"
      ]
     },
     "execution_count": 35,
     "metadata": {},
     "output_type": "execute_result"
    }
   ],
   "source": [
    "parsed_struct_in = ctu.parse_struct_in(struct_in)\n",
    "parsed_struct_in"
   ]
  },
  {
   "cell_type": "code",
   "execution_count": 37,
   "metadata": {},
   "outputs": [
    {
     "data": {
      "text/plain": [
       "('select name from conductor where', 'nationality')"
      ]
     },
     "execution_count": 37,
     "metadata": {},
     "output_type": "execute_result"
    }
   ],
   "source": [
    "col = 'nationality'\n",
    "# tok_ranges = token_ranges_dict['col_name_ranges'][col]\n",
    "# tok_indices = [i for s, e in tok_ranges for i in range(s, e)]\n",
    "dec_prompt = ctu.make_dec_prompt(ex['seq_out'], col)\n",
    "expect = col\n",
    "dec_prompt, expect"
   ]
  },
  {
   "cell_type": "code",
   "execution_count": 38,
   "metadata": {},
   "outputs": [
    {
     "data": {
      "text/plain": [
       "('nationality', [(45, 51)])"
      ]
     },
     "execution_count": 38,
     "metadata": {},
     "output_type": "execute_result"
    }
   ],
   "source": [
    "col_toks = token_ranges_dict['col_name_ranges'][col]\n",
    "col, col_toks"
   ]
  },
  {
   "cell_type": "code",
   "execution_count": 39,
   "metadata": {},
   "outputs": [],
   "source": [
    "# result = ctu.calculate_hidden_flow_uskg(\n",
    "#     mt_uskg,\n",
    "#     enc_sentence=enc_sentence,\n",
    "#     dec_prompt=dec_prompt,\n",
    "#     expect=col,\n",
    "#     e_range=text_range,\n",
    "#     enc_token_range=[],    # no analysis\n",
    "#     dec_token_range=None,  # full analysis\n",
    "#     tokens_to_mix_individual_indices=False,\n",
    "#     replace=True,\n",
    "#     sever_kind=None,\n",
    "# )\n",
    "\n",
    "inp = ctu.make_inputs_t5(\n",
    "    mt_uskg.tokenizer,\n",
    "    [enc_sentence] * 11,\n",
    "    [dec_prompt] * 11,\n",
    "    answer=expect)\n",
    "\n",
    "encoder_text_last_layer_states = [\n",
    "    (tnum, ctu.layername_uskg(mt_uskg.model, 'encoder', mt_uskg.num_enc_layers - 1))\n",
    "    for tnum in range(*text_range)\n",
    "]\n",
    "\n",
    "encoder_struct_last_layer_states = [\n",
    "    (tnum, ctu.layername_uskg(mt_uskg.model, 'encoder', mt_uskg.num_enc_layers - 1))\n",
    "    for tnum in range(*struct_range)\n",
    "]\n",
    "\n",
    "encoder_col_last_layer_states = [\n",
    "    (tnum, ctu.layername_uskg(mt_uskg.model, 'encoder', mt_uskg.num_enc_layers - 1))\n",
    "    for tnum in col_toks\n",
    "]\n",
    "\n",
    "answer_len = len(mt_uskg.tokenizer.tokenize(expect))\n",
    "answers_t, base_score = [d[0] for d in ctu.predict_from_input_uskg_multi_token(mt_uskg.model, inp, pred_len=answer_len)]"
   ]
  },
  {
   "cell_type": "code",
   "execution_count": 40,
   "metadata": {},
   "outputs": [
    {
     "data": {
      "text/plain": [
       "tensor([1.0000, 1.0000], device='cuda:0')"
      ]
     },
     "execution_count": 40,
     "metadata": {},
     "output_type": "execute_result"
    }
   ],
   "source": [
    "base_score"
   ]
  },
  {
   "cell_type": "code",
   "execution_count": 41,
   "metadata": {},
   "outputs": [
    {
     "data": {
      "text/plain": [
       "([tensor(0.1734, device='cuda:0'), tensor(1.0000, device='cuda:0')],\n",
       " tensor(0.1734, device='cuda:0'))"
      ]
     },
     "execution_count": 41,
     "metadata": {},
     "output_type": "execute_result"
    }
   ],
   "source": [
    "## Corrupting text: expect wrong pred \n",
    "\n",
    "all_ans_probs = ctu.trace_with_repatch_uskg_multi_token(\n",
    "    model=mt_uskg.model,\n",
    "    inp=inp,\n",
    "    states_to_patch=[],\n",
    "    states_to_unpatch=[],\n",
    "    answers_t=answers_t,\n",
    "    tokens_to_mix=text_range,\n",
    "    tokens_to_mix_individual_indices=False,\n",
    "    replace=True,\n",
    ")\n",
    "all_ans_probs, min(all_ans_probs)"
   ]
  },
  {
   "cell_type": "code",
   "execution_count": 42,
   "metadata": {},
   "outputs": [
    {
     "data": {
      "text/plain": [
       "([tensor(1.0000, device='cuda:0'), tensor(0.9999, device='cuda:0')],\n",
       " tensor(0.9999, device='cuda:0'))"
      ]
     },
     "execution_count": 42,
     "metadata": {},
     "output_type": "execute_result"
    }
   ],
   "source": [
    "## Restoring text encoding for decoder, but struct encoding are with dirty text encoding \n",
    "\n",
    "all_ans_probs = ctu.trace_with_repatch_uskg_multi_token(\n",
    "    model=mt_uskg.model,\n",
    "    inp=inp,\n",
    "    states_to_patch=encoder_text_last_layer_states,\n",
    "    states_to_unpatch=[],\n",
    "    answers_t=answers_t,\n",
    "    tokens_to_mix=text_range,\n",
    "    tokens_to_mix_individual_indices=False,\n",
    "    replace=True,\n",
    ")\n",
    "all_ans_probs, min(all_ans_probs)"
   ]
  },
  {
   "cell_type": "code",
   "execution_count": 43,
   "metadata": {},
   "outputs": [
    {
     "data": {
      "text/plain": [
       "([tensor(1.0000, device='cuda:0'), tensor(1., device='cuda:0')],\n",
       " tensor(1.0000, device='cuda:0'))"
      ]
     },
     "execution_count": 43,
     "metadata": {},
     "output_type": "execute_result"
    }
   ],
   "source": [
    "## Restoring clean struct encoding but dirty text encoding for decoder\n",
    "## Prediction being correct means encoder final output has \"contextual\" or \"semantic\" understanding of struct_in \n",
    "\n",
    "all_ans_probs = ctu.trace_with_repatch_uskg_multi_token(\n",
    "    model=mt_uskg.model,\n",
    "    inp=inp,\n",
    "    states_to_patch=encoder_struct_last_layer_states,\n",
    "    states_to_unpatch=[],\n",
    "    answers_t=answers_t,\n",
    "    tokens_to_mix=text_range,\n",
    "    tokens_to_mix_individual_indices=False,\n",
    "    replace=True,\n",
    ")\n",
    "all_ans_probs, min(all_ans_probs)"
   ]
  },
  {
   "cell_type": "code",
   "execution_count": 44,
   "metadata": {},
   "outputs": [
    {
     "data": {
      "text/plain": [
       "([tensor(1.0000, device='cuda:0'), tensor(1.0000, device='cuda:0')],\n",
       " tensor(1.0000, device='cuda:0'))"
      ]
     },
     "execution_count": 44,
     "metadata": {},
     "output_type": "execute_result"
    }
   ],
   "source": [
    "## Restoring clean col_name encoding but dirty text encoding for decoder (stricter than above)\n",
    "\n",
    "all_ans_probs = ctu.trace_with_repatch_uskg_multi_token(\n",
    "    model=mt_uskg.model,\n",
    "    inp=inp,\n",
    "    states_to_patch=encoder_col_last_layer_states,\n",
    "    states_to_unpatch=[],\n",
    "    answers_t=answers_t,\n",
    "    tokens_to_mix=text_range,\n",
    "    tokens_to_mix_individual_indices=False,\n",
    "    replace=True,\n",
    ")\n",
    "all_ans_probs, min(all_ans_probs)"
   ]
  },
  {
   "cell_type": "code",
   "execution_count": 45,
   "metadata": {},
   "outputs": [
    {
     "data": {
      "text/plain": [
       "([tensor(1.0000, device='cuda:0'), tensor(1.0000, device='cuda:0')],\n",
       " tensor(1.0000, device='cuda:0'))"
      ]
     },
     "execution_count": 45,
     "metadata": {},
     "output_type": "execute_result"
    }
   ],
   "source": [
    "## For exp-2.1: mutual corruption\n",
    "# First pass: corrupt text (no restore)\n",
    "# Second pass: corrupt struct, no restore, reset struct output to first pass\n",
    "\n",
    "all_ans_probs = ctu.trace_with_repatch_uskg_multi_token(\n",
    "    model=mt_uskg.model,\n",
    "    inp=inp,\n",
    "    states_to_patch=[],\n",
    "    states_to_unpatch=encoder_struct_last_layer_states,\n",
    "    answers_t=answers_t,\n",
    "    tokens_to_mix_1st_pass=text_range,\n",
    "    tokens_to_mix=struct_range,\n",
    "    tokens_to_mix_individual_indices=False,\n",
    "    replace=True,\n",
    ")\n",
    "all_ans_probs, min(all_ans_probs)"
   ]
  },
  {
   "cell_type": "code",
   "execution_count": null,
   "metadata": {},
   "outputs": [],
   "source": []
  },
  {
   "cell_type": "markdown",
   "metadata": {},
   "source": [
    "#### Load & Check results"
   ]
  },
  {
   "cell_type": "code",
   "execution_count": 124,
   "metadata": {},
   "outputs": [
    {
     "data": {
      "text/plain": [
       "1034"
      ]
     },
     "execution_count": 124,
     "metadata": {},
     "output_type": "execute_result"
    }
   ],
   "source": [
    "res_path = '/home/yshao/Projects/rome/results/exp2_text_struct_interaction/exp=2_dev_table.jsonl'\n",
    "\n",
    "with open(res_path, 'r') as f:\n",
    "    all_samples = [json.loads(l) for l in f]\n",
    "len(all_samples)"
   ]
  },
  {
   "cell_type": "code",
   "execution_count": 125,
   "metadata": {},
   "outputs": [],
   "source": [
    "# all_samples[5439]['ex_id'], all_samples[5440]['ex_id'], all_samples[-1]['ex_id'], "
   ]
  },
  {
   "cell_type": "code",
   "execution_count": 126,
   "metadata": {},
   "outputs": [],
   "source": [
    "total_samples = 0\n",
    "n_good_samples = 0\n",
    "n_too_hard = 0      # wrong answer \n",
    "n_too_easy = 0      # base - low < 0.5\n",
    "\n",
    "base_scores = []\n",
    "low_scores = []\n",
    "\n",
    "## len = n_good_samples\n",
    "restore_scores_dict = {\n",
    "    'text': [],\n",
    "    'struct': [],\n",
    "    'node': [],\n",
    "    'struct_no_node': [],\n",
    "    'node_corrupt_all': [],\n",
    "    # 2.0.1: cancelled\n",
    "    # 'ctname': [],      # col name + table name (col belongs to) \n",
    "    # 'catname': [],     # col name + all table names \n",
    "    # 'full_table': [],  # full table (col belongs to) \n",
    "    # 'all_col': [],     # all col names (regardless of table)\n",
    "}\n",
    "\n",
    "## len = total_samples\n",
    "mutual_scores_dict = {\n",
    "    f'{text}-{struct}': []\n",
    "    for text in ['clean_t', 'dc_t', 'dirty_t']\n",
    "    for struct in ['clean_s', 'dc_s', 'dirty_s']\n",
    "}\n"
   ]
  },
  {
   "cell_type": "code",
   "execution_count": 127,
   "metadata": {},
   "outputs": [
    {
     "data": {
      "text/plain": [
       "(1725, (821, 821), 141, 763)"
      ]
     },
     "execution_count": 127,
     "metadata": {},
     "output_type": "execute_result"
    }
   ],
   "source": [
    "good_samples = []\n",
    "\n",
    "for i, ex in enumerate(all_samples):\n",
    "    for d in ex['trace_results']:\n",
    "        total_samples += 1\n",
    "        if d['is_good_sample']:\n",
    "            n_good_samples += 1\n",
    "            d['ex_id'] = i\n",
    "            good_samples.append(d)\n",
    "        elif not d['correct_prediction']:\n",
    "            n_too_hard += 1\n",
    "        else:\n",
    "            assert d['base_score'] - d['low_score'] < 0.5\n",
    "            n_too_easy += 1\n",
    "            \n",
    "total_samples, (n_good_samples, len(good_samples)), n_too_hard, n_too_easy"
   ]
  },
  {
   "cell_type": "code",
   "execution_count": 128,
   "metadata": {},
   "outputs": [
    {
     "data": {
      "text/plain": [
       "(dict_keys(['enc_sentence', 'seq_out', 'dec_prompt', 'expect', 'expect_type', 'db_id', 'expect_input_ranges', 'expect_table', 'answer', 'base_score', 'answers_t', 'correct_prediction', 'category', 'mutual_scores', 'low_score', 'is_good_sample']),\n",
       " dict_keys(['clean_t-clean_s', 'clean_t-dc_s', 'clean_t-dirty_s', 'dc_t-clean_s', 'dc_t-dc_s', 'dc_t-dirty_s', 'dirty_t-clean_s', 'dirty_t-dc_s', 'dirty_t-dirty_s']))"
      ]
     },
     "execution_count": 128,
     "metadata": {},
     "output_type": "execute_result"
    }
   ],
   "source": [
    "d.keys(), d['mutual_scores'].keys()"
   ]
  },
  {
   "cell_type": "code",
   "execution_count": 129,
   "metadata": {},
   "outputs": [],
   "source": [
    "for d in good_samples:\n",
    "    base_scores.append(d['base_score'])\n",
    "    low_scores.append(d['low_score'])\n",
    "    for k in restore_scores_dict.keys():\n",
    "        restore_scores_dict[k].append(d[f'r_{k}_score'])\n",
    "    for k in mutual_scores_dict.keys():\n",
    "        mutual_scores_dict[k].append(d['mutual_scores'][k])"
   ]
  },
  {
   "cell_type": "code",
   "execution_count": 130,
   "metadata": {},
   "outputs": [
    {
     "data": {
      "text/plain": [
       "(821, 821, 821)"
      ]
     },
     "execution_count": 130,
     "metadata": {},
     "output_type": "execute_result"
    }
   ],
   "source": [
    "len(base_scores), len(restore_scores_dict['text']), len(mutual_scores_dict['dc_t-dc_s'])"
   ]
  },
  {
   "cell_type": "code",
   "execution_count": 131,
   "metadata": {},
   "outputs": [
    {
     "name": "stdout",
     "output_type": "stream",
     "text": [
      "text\t0.4472\n",
      "struct\t0.9687\n",
      "node\t0.8675\n",
      "struct_no_node\t0.4292\n",
      "node_corrupt_all\t0.9004\n"
     ]
    }
   ],
   "source": [
    "# results for exp2\n",
    "for k, scores in restore_scores_dict.items():\n",
    "    avg = np.mean(scores)\n",
    "    print(f'{k}\\t{avg:.4f}')"
   ]
  },
  {
   "cell_type": "code",
   "execution_count": 132,
   "metadata": {},
   "outputs": [
    {
     "name": "stdout",
     "output_type": "stream",
     "text": [
      "Score\tavg_gain\tperc_recover\n",
      "base_scores\t0.8885\t1.0000\n",
      "r_text\t0.3452\t0.3727\n",
      "r_struct\t0.8667\t0.9683\n",
      "r_node\t0.7654\t0.8551\n",
      "r_struct_no_node\t0.3272\t0.3666\n",
      "r_node_corrupt_all\t0.7984\t0.8940\n"
     ]
    }
   ],
   "source": [
    "print(f'Score\\tavg_gain\\tperc_recover')\n",
    "for score_label, high_scores in [\n",
    "    ('base_scores', base_scores),\n",
    "    ('r_text', restore_scores_dict['text']),\n",
    "    ('r_struct', restore_scores_dict['struct']),\n",
    "    ('r_node', restore_scores_dict['node']),\n",
    "    ('r_struct_no_node', restore_scores_dict['struct_no_node']),\n",
    "    ('r_node_corrupt_all', restore_scores_dict['node_corrupt_all']),\n",
    "]:\n",
    "    avg_gain = np.mean([h - l for h, l in zip(high_scores, low_scores)])\n",
    "    perc_recover = np.mean([h - l > 0.5 for h, l in zip(high_scores, low_scores)])\n",
    "    print(f'{score_label}\\t{avg_gain:.4f}\\t{perc_recover:.4f}')"
   ]
  },
  {
   "cell_type": "code",
   "execution_count": 133,
   "metadata": {},
   "outputs": [
    {
     "name": "stdout",
     "output_type": "stream",
     "text": [
      "        clean_t dc_t    dirty_t \n",
      "clean_s 0.9906  0.9802  0.9687  \n",
      "dc_s    0.4472  0.3965  0.1020  \n",
      "dirty_s 0.2241  0.1958  0.0015  \n",
      "\n"
     ]
    }
   ],
   "source": [
    "# results for exp2.1.1 \n",
    "msg = ' '*8\n",
    "for k_t in ['clean_t', 'dc_t', 'dirty_t']:\n",
    "    msg += f'{k_t:8s}'\n",
    "msg += '\\n'\n",
    "for k_s in ['clean_s', 'dc_s', 'dirty_s']:\n",
    "    msg += f'{k_s:8s}'\n",
    "    for k_t in ['clean_t', 'dc_t', 'dirty_t']:\n",
    "        k = f'{k_t}-{k_s}'\n",
    "        scores = mutual_scores_dict[k]\n",
    "        avg = np.mean(scores)\n",
    "        msg += f'{avg:.4f}  '\n",
    "    msg += '\\n'\n",
    "print(msg)"
   ]
  },
  {
   "cell_type": "code",
   "execution_count": null,
   "metadata": {},
   "outputs": [],
   "source": []
  },
  {
   "cell_type": "markdown",
   "metadata": {},
   "source": [
    "#### Split by hardness"
   ]
  },
  {
   "cell_type": "code",
   "execution_count": 134,
   "metadata": {},
   "outputs": [],
   "source": [
    "# # build an index for hardness \n",
    "\n",
    "# spider_indices_per_hardness = defaultdict(list)\n",
    "# spider_id2hardness = dict()\n",
    "\n",
    "# for i, ex in enumerate(processed_spider_dev):\n",
    "#     db_id = ex['db_id']\n",
    "#     sql_str = ex['seq_out']\n",
    "#     sql = sp_eval.get_sql(evaluator.schemas[db_id], sql_str)\n",
    "#     hardness = evaluator.eval_hardness(sql)\n",
    "#     spider_indices_per_hardness[hardness].append(i)\n",
    "#     spider_id2hardness[i] = hardness\n",
    "\n",
    "# [(h, len(indices)) for h, indices in spider_indices_per_hardness.items()]"
   ]
  },
  {
   "cell_type": "code",
   "execution_count": 135,
   "metadata": {},
   "outputs": [],
   "source": [
    "# spider_indices_per_hardness['extra'][:10]"
   ]
  },
  {
   "cell_type": "code",
   "execution_count": 136,
   "metadata": {},
   "outputs": [],
   "source": [
    "# exp2 + exp2.1.1 \n",
    "# res_path = '/home/yshao/Projects/rome/results/exp2_text_struct_interaction/exp=2_dev_column.jsonl'\n",
    "\n",
    "# with open(res_path, 'r') as f:\n",
    "#     all_samples = [json.loads(l) for l in f]\n",
    "# len(all_samples)"
   ]
  },
  {
   "cell_type": "code",
   "execution_count": 137,
   "metadata": {},
   "outputs": [],
   "source": [
    "# good_samples = []\n",
    "\n",
    "# for i, ex in enumerate(all_samples):\n",
    "#     for d in ex['trace_results']:\n",
    "#         if d['is_good_sample']:\n",
    "#             d['ex_id'] = i\n",
    "#             good_samples.append(d)\n",
    "# len(good_samples)"
   ]
  },
  {
   "cell_type": "code",
   "execution_count": 138,
   "metadata": {},
   "outputs": [],
   "source": [
    "samples_by_hardness = defaultdict(list)\n",
    "\n",
    "# for ex in all_samples:\n",
    "#     for d in ex['trace_results']:\n",
    "#         if not d['is_good_sample']:\n",
    "#             continue\n",
    "\n",
    "for d in good_samples:\n",
    "#     sql_str = d['seq_out']\n",
    "#     db_id = d['struct_in'].split('|')[1].strip()    # TODO: add db_id to result during experiment main run \n",
    "#     sql = sp_eval.get_sql(evaluator.schemas[db_id], sql_str)\n",
    "#     hardness = evaluator.eval_hardness(sql)\n",
    "#     hardness = spider_id2hardness[d['ex_id']]\n",
    "    hardness = d['category']['sql_hardness']\n",
    "    samples_by_hardness[hardness].append(d)"
   ]
  },
  {
   "cell_type": "code",
   "execution_count": 139,
   "metadata": {},
   "outputs": [
    {
     "data": {
      "text/plain": [
       "[('easy', 140), ('medium', 307), ('hard', 168), ('extra', 206)]"
      ]
     },
     "execution_count": 139,
     "metadata": {},
     "output_type": "execute_result"
    }
   ],
   "source": [
    "[(h, len(samples)) for h, samples in samples_by_hardness.items()]"
   ]
  },
  {
   "cell_type": "code",
   "execution_count": 140,
   "metadata": {
    "scrolled": true
   },
   "outputs": [
    {
     "name": "stdout",
     "output_type": "stream",
     "text": [
      "Hardness: easy (140)\n",
      "[Example sql] select count(*) from singer\n",
      "Score\tavg_gain\tperc_recover\n",
      "base_score\t0.8812\t1.0000\n",
      "r_text_score\t0.3415\t0.3643\n",
      "r_struct_score\t0.8589\t0.9714\n",
      "r_node_score\t0.6934\t0.7714\n",
      "r_struct_no_node_score\t0.4167\t0.4429\n",
      "r_node_corrupt_all_score\t0.8762\t1.0000\n",
      "\n",
      "Hardness: medium (307)\n",
      "[Example sql] select name, country, age from singer order by age desc\n",
      "Score\tavg_gain\tperc_recover\n",
      "base_score\t0.9013\t1.0000\n",
      "r_text_score\t0.3883\t0.4365\n",
      "r_struct_score\t0.8948\t0.9935\n",
      "r_node_score\t0.8010\t0.8925\n",
      "r_struct_no_node_score\t0.3597\t0.4202\n",
      "r_node_corrupt_all_score\t0.8096\t0.8990\n",
      "\n",
      "Hardness: hard (168)\n",
      "[Example sql] select song_name from singer where age > (select avg(age) from singer)\n",
      "Score\tavg_gain\tperc_recover\n",
      "base_score\t0.8995\t1.0000\n",
      "r_text_score\t0.3341\t0.3750\n",
      "r_struct_score\t0.8428\t0.9286\n",
      "r_node_score\t0.7446\t0.8393\n",
      "r_struct_no_node_score\t0.2623\t0.2798\n",
      "r_node_corrupt_all_score\t0.7794\t0.8690\n",
      "\n",
      "Hardness: extra (206)\n",
      "[Example sql] select t2.name, t2.capacity from concert as t1 join stadium as t2 on t1.stadium_id = t2.stadium_id where t1.year >= 2014 group by t2.stadium_id order by count(*) desc limit 1\n",
      "Score\tavg_gain\tperc_recover\n",
      "base_score\t0.8656\t1.0000\n",
      "r_text_score\t0.2924\t0.2816\n",
      "r_struct_score\t0.8494\t0.9612\n",
      "r_node_score\t0.7783\t0.8689\n",
      "r_struct_no_node_score\t0.2708\t0.3058\n",
      "r_node_corrupt_all_score\t0.7442\t0.8350\n",
      "\n"
     ]
    }
   ],
   "source": [
    "for h in ['easy', 'medium', 'hard', 'extra']:\n",
    "    samples = samples_by_hardness[h]\n",
    "    print(f'Hardness: {h} ({len(samples)})')\n",
    "    print('[Example sql]', samples[0]['seq_out'])\n",
    "    print(f'Score\\tavg_gain\\tperc_recover')\n",
    "    \n",
    "    low_scores = [d['low_score'] for d in samples]\n",
    "    for score_label in [\n",
    "        'base_score',\n",
    "        'r_text_score',\n",
    "        'r_struct_score',\n",
    "        'r_node_score',\n",
    "        'r_struct_no_node_score',\n",
    "        'r_node_corrupt_all_score'\n",
    "    ]:\n",
    "        high_scores = [d[score_label] for d in samples]\n",
    "        avg_gain = np.mean([h - l for h, l in zip(high_scores, low_scores)])\n",
    "        perc_recover = np.mean([h - l > 0.5 for h, l in zip(high_scores, low_scores)])\n",
    "        print(f'{score_label}\\t{avg_gain:.4f}\\t{perc_recover:.4f}')\n",
    "    print()"
   ]
  },
  {
   "cell_type": "markdown",
   "metadata": {},
   "source": [
    "#### Split by node role"
   ]
  },
  {
   "cell_type": "code",
   "execution_count": 141,
   "metadata": {},
   "outputs": [],
   "source": [
    "# role_keyword_pattern = r'\\W(select|where|join|group by|having|order by)\\W'"
   ]
  },
  {
   "cell_type": "code",
   "execution_count": 142,
   "metadata": {},
   "outputs": [],
   "source": [
    "# _sql_str = samples_by_hardness['extra'][0]['seq_out']\n",
    "# _sql_str"
   ]
  },
  {
   "cell_type": "code",
   "execution_count": 143,
   "metadata": {},
   "outputs": [],
   "source": [
    "# re.findall(role_keyword_pattern, ' ' + _sql_str + ' ')"
   ]
  },
  {
   "cell_type": "code",
   "execution_count": 144,
   "metadata": {},
   "outputs": [
    {
     "data": {
      "text/plain": [
       "[('from', 533), ('join', 282), ('select', 6)]"
      ]
     },
     "execution_count": 144,
     "metadata": {},
     "output_type": "execute_result"
    }
   ],
   "source": [
    "samples_by_node_role = defaultdict(list)\n",
    "\n",
    "for d in good_samples:\n",
    "#     all_kws = re.findall(role_keyword_pattern, ' ' + d['dec_prompt'] + ' ')\n",
    "#     assert len(all_kws) > 0, d['dec_prompt']\n",
    "#     col_role_kw = all_kws[-1]\n",
    "#     col_role_kw = _detect_column_role(d['dec_prompt'])\n",
    "    role_kw = d['category']['node_role']\n",
    "    samples_by_node_role[role_kw].append(d)\n",
    "\n",
    "[(r, len(samples)) for r, samples in samples_by_node_role.items()]"
   ]
  },
  {
   "cell_type": "code",
   "execution_count": 145,
   "metadata": {
    "scrolled": true
   },
   "outputs": [
    {
     "name": "stdout",
     "output_type": "stream",
     "text": [
      "Column role: from (533)\n",
      "[Example prompt] select count(*) from\n",
      "Score\tavg_gain\tperc_recover\n",
      "base_score\t0.8889\t1.0000\n",
      "r_text_score\t0.3948\t0.4447\n",
      "r_struct_score\t0.8652\t0.9681\n",
      "r_node_score\t0.7885\t0.8799\n",
      "r_struct_no_node_score\t0.3151\t0.3452\n",
      "r_node_corrupt_all_score\t0.8623\t0.9644\n",
      "\n",
      "Column role: join (282)\n",
      "[Example prompt] select t2.name, t2.capacity from concert as t1 join\n",
      "Score\tavg_gain\tperc_recover\n",
      "base_score\t0.8870\t1.0000\n",
      "r_text_score\t0.2458\t0.2305\n",
      "r_struct_score\t0.8752\t0.9752\n",
      "r_node_score\t0.7379\t0.8262\n",
      "r_struct_no_node_score\t0.3443\t0.4007\n",
      "r_node_corrupt_all_score\t0.6962\t0.7801\n",
      "\n"
     ]
    }
   ],
   "source": [
    "for r in samples_by_node_role.keys():\n",
    "    samples = samples_by_node_role[r]\n",
    "    if len(samples) < 10:\n",
    "        continue\n",
    "    print(f'Column role: {r} ({len(samples)})')\n",
    "    print('[Example prompt]', samples[0]['dec_prompt'])\n",
    "    print(f'Score\\tavg_gain\\tperc_recover')\n",
    "    \n",
    "    low_scores = [d['low_score'] for d in samples]\n",
    "    for score_label in [\n",
    "        'base_score',\n",
    "        'r_text_score',\n",
    "        'r_struct_score',\n",
    "        'r_node_score',\n",
    "        'r_struct_no_node_score',\n",
    "        'r_node_corrupt_all_score'\n",
    "    ]:\n",
    "        high_scores = [d[score_label] for d in samples]\n",
    "        avg_gain = np.mean([h - l for h, l in zip(high_scores, low_scores)])\n",
    "        perc_recover = np.mean([h - l > 0.5 for h, l in zip(high_scores, low_scores)])\n",
    "        print(f'{score_label}\\t{avg_gain:.4f}\\t{perc_recover:.4f}')\n",
    "    print()"
   ]
  },
  {
   "cell_type": "code",
   "execution_count": 146,
   "metadata": {},
   "outputs": [],
   "source": [
    "# res_path = '/home/yshao/Projects/rome/results/exp2_text_struct_interaction/exp=2_dev_column.jsonl'\n",
    "# with open(res_path, 'r') as f:\n",
    "#     all_samples = [json.loads(l) for l in f]\n",
    "# len(all_samples)"
   ]
  },
  {
   "cell_type": "markdown",
   "metadata": {},
   "source": [
    "#### Split by text match"
   ]
  },
  {
   "cell_type": "code",
   "execution_count": 147,
   "metadata": {},
   "outputs": [],
   "source": [
    "# d = good_samples[244]\n",
    "# spider_ex = processed_spider_dev[d['ex_id']]\n",
    "# col = d['expect']\n",
    "# tab = d['table']\n",
    "# d['table'], d['expect'], d['text_in'], ctu.check_text_match(spider_ex, col, tab)"
   ]
  },
  {
   "cell_type": "code",
   "execution_count": 148,
   "metadata": {},
   "outputs": [
    {
     "data": {
      "text/plain": [
       "[('exact', 551), ('partial', 98), ('no-match', 172)]"
      ]
     },
     "execution_count": 148,
     "metadata": {},
     "output_type": "execute_result"
    }
   ],
   "source": [
    "samples_by_text_match = {k: [] for k in ['exact', 'partial', 'no-match']}\n",
    "\n",
    "for d in good_samples:\n",
    "#     spider_ex = processed_spider_dev[d['ex_id']]\n",
    "#     text_match = _check_text_match(spider_ex, d)\n",
    "    text_match = d['category']['text_match']\n",
    "    samples_by_text_match[text_match].append(d)\n",
    "\n",
    "[(m, len(samples)) for m, samples in samples_by_text_match.items()]"
   ]
  },
  {
   "cell_type": "code",
   "execution_count": 149,
   "metadata": {
    "scrolled": true
   },
   "outputs": [
    {
     "name": "stdout",
     "output_type": "stream",
     "text": [
      "Text match: exact (551)\n",
      "[Example] How many singers do we have?; structed knowledge: | concert_singer | stadium : stadium_id , location , name , capacity , highest , lowest , average | singer : singer_id , name , country , song_name , song_release_year , age , is_male | concert : concert_id , concert_name , theme , stadium_id , year | singer_in_concert : concert_id , singer_id\n",
      "[Example] select count(*) from *singer*\n",
      "Score\tavg_gain\tperc_recover\n",
      "base_score\t0.8927\t1.0000\n",
      "r_text_score\t0.4673\t0.5245\n",
      "r_struct_score\t0.8768\t0.9800\n",
      "r_node_score\t0.7754\t0.8621\n",
      "r_struct_no_node_score\t0.3959\t0.4410\n",
      "r_node_corrupt_all_score\t0.8129\t0.9129\n",
      "\n",
      "Text match: partial (98)\n",
      "[Example] Show the name and theme for all concerts and the number of singers in each concert.; structed knowledge: | concert_singer | stadium : stadium_id , location , name , capacity , highest , lowest , average | singer : singer_id , name , country , song_name , song_release_year , age , is_male | concert : concert_id , concert_name , theme , stadium_id , year | singer_in_concert : concert_id , singer_id\n",
      "[Example] select t2.concert_name, t2.theme, count(*) from *singer_in_concert*\n",
      "Score\tavg_gain\tperc_recover\n",
      "base_score\t0.8966\t1.0000\n",
      "r_text_score\t0.0700\t0.0408\n",
      "r_struct_score\t0.8741\t0.9592\n",
      "r_node_score\t0.8173\t0.8980\n",
      "r_struct_no_node_score\t0.1588\t0.2041\n",
      "r_node_corrupt_all_score\t0.8866\t0.9592\n",
      "\n",
      "Text match: no-match (172)\n",
      "[Example] What are the locations and names of all stations with capacity between 5000 and 10000?; structed knowledge: | concert_singer | stadium : stadium_id , location , name , capacity , highest , lowest , average | singer : singer_id , name , country , song_name , song_release_year , age , is_male | concert : concert_id , concert_name , theme , stadium_id , year | singer_in_concert : concert_id , singer_id\n",
      "[Example] select location, name from *stadium*\n",
      "Score\tavg_gain\tperc_recover\n",
      "base_score\t0.8708\t1.0000\n",
      "r_text_score\t0.1106\t0.0756\n",
      "r_struct_score\t0.8298\t0.9360\n",
      "r_node_score\t0.7039\t0.8081\n",
      "r_struct_no_node_score\t0.2030\t0.2209\n",
      "r_node_corrupt_all_score\t0.7015\t0.7965\n",
      "\n"
     ]
    }
   ],
   "source": [
    "for m in ['exact', 'partial', 'no-match']:\n",
    "    samples = samples_by_text_match[m]\n",
    "    print(f'Text match: {m} ({len(samples)})')\n",
    "    print('[Example]', samples[0]['enc_sentence'])\n",
    "    print(f\"[Example] {samples[0]['dec_prompt']} *{samples[0]['expect']}*\")\n",
    "    print(f'Score\\tavg_gain\\tperc_recover')\n",
    "    \n",
    "    low_scores = [d['low_score'] for d in samples]\n",
    "    for score_label in [\n",
    "        'base_score',\n",
    "        'r_text_score',\n",
    "        'r_struct_score',\n",
    "        'r_node_score',\n",
    "        'r_struct_no_node_score',\n",
    "        'r_node_corrupt_all_score'\n",
    "    ]:\n",
    "        high_scores = [d[score_label] for d in samples]\n",
    "        avg_gain = np.mean([h - l for h, l in zip(high_scores, low_scores)])\n",
    "        perc_recover = np.mean([h - l > 0.5 for h, l in zip(high_scores, low_scores)])\n",
    "        print(f'{score_label}\\t{avg_gain:.4f}\\t{perc_recover:.4f}')\n",
    "    print()"
   ]
  },
  {
   "cell_type": "code",
   "execution_count": 150,
   "metadata": {},
   "outputs": [],
   "source": [
    "ex = samples_by_text_match['no-match'][50]"
   ]
  },
  {
   "cell_type": "code",
   "execution_count": 202,
   "metadata": {},
   "outputs": [
    {
     "data": {
      "text/plain": [
       "\"What are the names of all European countries with at least 3 manufacturers? The database is as following: | car_1 | continents : contid , continent ( europe ) | countries : countryid , countryname , continent | car_makers : id , maker , fullname , country | model_list : modelid , maker , model | car_names : makeid , model , make | cars_data : id , mpg , cylinders , edispl , horsepower , weight , accelerate , year => select t1.countryname from countries as t1 join continents as t2 on t1.continent = t2.contid join car_makers as t3 on t1.countryid = t3.country where t2.continent = 'europe' group by t1.countryname having count(*) >= 3;\""
      ]
     },
     "execution_count": 202,
     "metadata": {},
     "output_type": "execute_result"
    }
   ],
   "source": [
    "text_in = ex['text_in']\n",
    "struct_in = ex['struct_in']\n",
    "\n",
    "enc_sentence = f\"{text_in} The database is as following: {struct_in}\"\n",
    "\n",
    "f\"{enc_sentence} => {ex['seq_out']}\""
   ]
  },
  {
   "cell_type": "code",
   "execution_count": 203,
   "metadata": {},
   "outputs": [
    {
     "data": {
      "text/plain": [
       "130"
      ]
     },
     "execution_count": 203,
     "metadata": {},
     "output_type": "execute_result"
    }
   ],
   "source": [
    "ex['ex_id']"
   ]
  },
  {
   "cell_type": "code",
   "execution_count": null,
   "metadata": {},
   "outputs": [],
   "source": []
  },
  {
   "cell_type": "markdown",
   "metadata": {},
   "source": [
    "### Exp-2.2: dirty text struct restore"
   ]
  },
  {
   "cell_type": "markdown",
   "metadata": {},
   "source": [
    "#### Load & Plotting results"
   ]
  },
  {
   "cell_type": "code",
   "execution_count": 237,
   "metadata": {},
   "outputs": [
    {
     "data": {
      "text/plain": [
       "(1034, 1084)"
      ]
     },
     "execution_count": 237,
     "metadata": {},
     "output_type": "execute_result"
    }
   ],
   "source": [
    "res_json_path = f'/home/yshao/Projects/rome/results/exp2.2_dirty_text_struct_restore/exp=2.2_dev_column.jsonl'\n",
    "\n",
    "with open(res_json_path, 'r') as f:\n",
    "    all_samples = [json.loads(l) for l in f]\n",
    "\n",
    "good_trace_results = []\n",
    "for ex in all_samples:\n",
    "    for r in ex['trace_results']:\n",
    "        if r['is_good_sample']:\n",
    "            r['ex_id'] = ex['ex_id']\n",
    "            good_trace_results.append(r)\n",
    "    \n",
    "len(all_samples), len(good_trace_results)"
   ]
  },
  {
   "cell_type": "code",
   "execution_count": 238,
   "metadata": {},
   "outputs": [
    {
     "data": {
      "text/plain": [
       "dict_keys(['enc_sentence', 'seq_out', 'dec_prompt', 'expect', 'expect_type', 'db_id', 'expect_input_ranges', 'expect_table', 'category', 'low_score', 'high_score', 'input_ids', 'input_tokens', 'dec_input_ids', 'dec_input_tokens', 'subject_range', 'subject_range_individual_indices', 'answer', 'window', 'correct_prediction', 'kind', 'sever_kind', 'scores', 'is_good_sample', 'part', 'ex_id'])"
      ]
     },
     "execution_count": 238,
     "metadata": {},
     "output_type": "execute_result"
    }
   ],
   "source": [
    "good_trace_results[0].keys()"
   ]
  },
  {
   "cell_type": "code",
   "execution_count": 239,
   "metadata": {},
   "outputs": [],
   "source": [
    "# # Generating all plots\n",
    "# fig_save_dir = f'/home/yshao/Projects/rome/results/figs/exp2.2_dirty_text_struct_restore/exp=2.2_dev_column'\n",
    "\n",
    "# for i, r in enumerate(tqdm(good_trace_results)):\n",
    "#     result = dict(r)\n",
    "\n",
    "#     enc_s, dec_s = result['scores']\n",
    "    \n",
    "#     # enc_s = np.array(enc_s)\n",
    "#     enc_layers_vec = np.array(enc_s[0])\n",
    "#     assert enc_layers_vec.shape == (mt_uskg.num_enc_layers,)\n",
    "#     enc_token_range, = result['enc_token_range']\n",
    "    \n",
    "#     enc_s = np.zeros((len(result['input_tokens']), mt_uskg.num_enc_layers))\n",
    "#     enc_s[enc_token_range] = enc_layers_vec\n",
    "    \n",
    "#     dec_s = np.zeros((len(result['dec_input_tokens']), mt_uskg.num_dec_layers))\n",
    "#     result['scores'] = [enc_s, dec_s]\n",
    "\n",
    "#     ex_id = r['ex_id']\n",
    "#     ctu.plot_trace_heatmap_t5(result, savepdf=os.path.join(fig_save_dir, f'{i}-ex_id={ex_id}.pdf'))\n",
    "    "
   ]
  },
  {
   "cell_type": "markdown",
   "metadata": {},
   "source": [
    "#### Check avg per layer"
   ]
  },
  {
   "cell_type": "code",
   "execution_count": 240,
   "metadata": {},
   "outputs": [],
   "source": [
    "scores_per_layer = [[] for _ in range(mt_uskg.num_enc_layers)]\n",
    "\n",
    "for r in good_trace_results:\n",
    "    enc_s, dec_s = r['scores']\n",
    "    for l, s in enumerate(enc_s[0]):\n",
    "        scores_per_layer[l].append(s)"
   ]
  },
  {
   "cell_type": "code",
   "execution_count": 241,
   "metadata": {
    "scrolled": true
   },
   "outputs": [
    {
     "data": {
      "text/plain": [
       "[0.04998245431660366,\n",
       " 0.05325091241746874,\n",
       " 0.05578506940298435,\n",
       " 0.056500998754504546,\n",
       " 0.05632673384162137,\n",
       " 0.060122467615442834,\n",
       " 0.0743413356685932,\n",
       " 0.07793125936657581,\n",
       " 0.1187241473144563,\n",
       " 0.1544875932789873,\n",
       " 0.18513770163235047,\n",
       " 0.21917309280363884,\n",
       " 0.28553838302240797,\n",
       " 0.3615626793599896,\n",
       " 0.3617946804873726,\n",
       " 0.3946494784126291,\n",
       " 0.47267543055045763,\n",
       " 0.44948675620885103,\n",
       " 0.4737027594501244,\n",
       " 0.5257112130350594,\n",
       " 0.5352272429749859,\n",
       " 0.6249380804599364,\n",
       " 0.670510063510466,\n",
       " 0.7290238733215495]"
      ]
     },
     "execution_count": 241,
     "metadata": {},
     "output_type": "execute_result"
    }
   ],
   "source": [
    "all_avg_by_layer = [np.mean(scores) for scores in scores_per_layer]\n",
    "all_avg_by_layer"
   ]
  },
  {
   "cell_type": "code",
   "execution_count": 242,
   "metadata": {
    "scrolled": true
   },
   "outputs": [
    {
     "name": "stdout",
     "output_type": "stream",
     "text": [
      "Layer\tAvg. Score\n",
      "0    \t0.0500\n",
      "1    \t0.0533\n",
      "2    \t0.0558\n",
      "3    \t0.0565\n",
      "4    \t0.0563\n",
      "5    \t0.0601\n",
      "6    \t0.0743\n",
      "7    \t0.0779\n",
      "8    \t0.1187\n",
      "9    \t0.1545\n",
      "10   \t0.1851\n",
      "11   \t0.2192\n",
      "12   \t0.2855\n",
      "13   \t0.3616\n",
      "14   \t0.3618\n",
      "15   \t0.3946\n",
      "16   \t0.4727\n",
      "17   \t0.4495\n",
      "18   \t0.4737\n",
      "19   \t0.5257\n",
      "20   \t0.5352\n",
      "21   \t0.6249\n",
      "22   \t0.6705\n",
      "23   \t0.7290\n"
     ]
    }
   ],
   "source": [
    "print('Layer\\tAvg. Score')\n",
    "for l, avg in enumerate(all_avg_by_layer):\n",
    "    print(f'{l:<5d}\\t{avg:.4f}')"
   ]
  },
  {
   "cell_type": "code",
   "execution_count": 243,
   "metadata": {},
   "outputs": [
    {
     "data": {
      "text/plain": [
       "<matplotlib.legend.Legend at 0x7f82d35abf70>"
      ]
     },
     "execution_count": 243,
     "metadata": {},
     "output_type": "execute_result"
    },
    {
     "data": {
      "image/png": "[encoded data removed]",
      "text/plain": [
       "<Figure size 432x288 with 1 Axes>"
      ]
     },
     "metadata": {
      "needs_background": "light"
     },
     "output_type": "display_data"
    }
   ],
   "source": [
    "fig, ax = plt.subplots(1, 1)\n",
    "ax.plot(all_avg_by_layer, label='All')\n",
    "ax.set_xlabel('Layer to restore')\n",
    "ax.set_ylabel('Avg. P(correct answer)')\n",
    "ax.legend()"
   ]
  },
  {
   "cell_type": "markdown",
   "metadata": {},
   "source": [
    "####  by hardness "
   ]
  },
  {
   "cell_type": "code",
   "execution_count": 244,
   "metadata": {},
   "outputs": [
    {
     "data": {
      "text/plain": [
       "[('easy', 191), ('medium', 516), ('hard', 216), ('extra', 161)]"
      ]
     },
     "execution_count": 244,
     "metadata": {},
     "output_type": "execute_result"
    }
   ],
   "source": [
    "# {h : [[score], ...]}\n",
    "scores_by_hardness = {hardness : [] for hardness in ['easy', 'medium', 'hard', 'extra']}   \n",
    "\n",
    "for r in good_trace_results:\n",
    "    enc_s, dec_s = r['scores']\n",
    "    scores, = enc_s\n",
    "#     hardness = spider_id2hardness[r['ex_id']]\n",
    "    hardness = r['category']['sql_hardness']\n",
    "    scores_by_hardness[hardness].append(scores)\n",
    "\n",
    "[(h, len(scores)) for h, scores in scores_by_hardness.items()]"
   ]
  },
  {
   "cell_type": "code",
   "execution_count": 245,
   "metadata": {},
   "outputs": [
    {
     "name": "stdout",
     "output_type": "stream",
     "text": [
      "easy\n",
      "['0.05', '0.05', '0.06', '0.06', '0.06', '0.06', '0.08', '0.09', '0.14', '0.20', '0.24', '0.29', '0.35', '0.41', '0.40', '0.43', '0.49', '0.48', '0.50', '0.54', '0.55', '0.65', '0.71', '0.78']\n",
      "\n",
      "medium\n",
      "['0.05', '0.05', '0.06', '0.06', '0.06', '0.06', '0.07', '0.07', '0.11', '0.14', '0.17', '0.20', '0.27', '0.35', '0.35', '0.38', '0.45', '0.42', '0.45', '0.50', '0.51', '0.60', '0.65', '0.71']\n",
      "\n",
      "hard\n",
      "['0.04', '0.05', '0.05', '0.05', '0.05', '0.05', '0.06', '0.07', '0.11', '0.14', '0.17', '0.21', '0.27', '0.35', '0.37', '0.41', '0.49', '0.47', '0.48', '0.54', '0.54', '0.60', '0.65', '0.71']\n",
      "\n",
      "extra\n",
      "['0.06', '0.06', '0.07', '0.07', '0.07', '0.07', '0.09', '0.10', '0.13', '0.16', '0.19', '0.22', '0.28', '0.35', '0.35', '0.38', '0.50', '0.48', '0.52', '0.58', '0.60', '0.70', '0.72', '0.74']\n",
      "\n"
     ]
    }
   ],
   "source": [
    "for h, sample_scores in scores_by_hardness.items():\n",
    "    print(h)\n",
    "    scores_by_layer = zip(*sample_scores)\n",
    "    avg_by_layer = [np.mean(scores) for scores in scores_by_layer]\n",
    "    print([f'{avg:.2f}' for avg in avg_by_layer])\n",
    "    print()"
   ]
  },
  {
   "cell_type": "code",
   "execution_count": 246,
   "metadata": {},
   "outputs": [
    {
     "data": {
      "text/plain": [
       "<matplotlib.legend.Legend at 0x7f82d21f8130>"
      ]
     },
     "execution_count": 246,
     "metadata": {},
     "output_type": "execute_result"
    },
    {
     "data": {
      "image/png": "[encoded data removed]",
      "text/plain": [
       "<Figure size 432x288 with 1 Axes>"
      ]
     },
     "metadata": {
      "needs_background": "light"
     },
     "output_type": "display_data"
    }
   ],
   "source": [
    "fig, ax = plt.subplots()\n",
    "ax.plot(all_avg_by_layer, label='All')\n",
    "for h, sample_scores in scores_by_hardness.items():\n",
    "    h_scores_by_layer = zip(*sample_scores)\n",
    "    h_avg_by_layer = [np.mean(scores) for scores in h_scores_by_layer]\n",
    "    ax.plot(h_avg_by_layer, label=h)\n",
    "ax.set_xlabel('Layer to restore')\n",
    "ax.set_ylabel('Avg. P(correct answer)')\n",
    "ax.legend()"
   ]
  },
  {
   "cell_type": "markdown",
   "metadata": {},
   "source": [
    "####  by node role "
   ]
  },
  {
   "cell_type": "code",
   "execution_count": 247,
   "metadata": {},
   "outputs": [
    {
     "data": {
      "text/plain": [
       "[('select', 642),\n",
       " ('order by', 73),\n",
       " ('where', 267),\n",
       " ('group by', 26),\n",
       " ('join', 62),\n",
       " ('having', 4),\n",
       " ('from', 10)]"
      ]
     },
     "execution_count": 247,
     "metadata": {},
     "output_type": "execute_result"
    }
   ],
   "source": [
    "# {h : [[score], ...]}\n",
    "scores_by_node_role = defaultdict(list)\n",
    "\n",
    "for r in good_trace_results:\n",
    "    enc_s, dec_s = r['scores']\n",
    "    scores, = enc_s\n",
    "#     role = _detect_node_role(' '.join(r['dec_input_tokens']))\n",
    "    role = r['category']['node_role']\n",
    "    scores_by_node_role[role].append(scores)\n",
    "\n",
    "[(r, len(scores)) for r, scores in scores_by_node_role.items()]"
   ]
  },
  {
   "cell_type": "code",
   "execution_count": 248,
   "metadata": {},
   "outputs": [
    {
     "name": "stdout",
     "output_type": "stream",
     "text": [
      "select\n",
      "['0.03', '0.03', '0.03', '0.03', '0.03', '0.03', '0.04', '0.04', '0.04', '0.06', '0.07', '0.09', '0.13', '0.18', '0.18', '0.20', '0.28', '0.26', '0.29', '0.35', '0.37', '0.54', '0.62', '0.72']\n",
      "\n",
      "order by\n",
      "['0.05', '0.05', '0.05', '0.05', '0.05', '0.05', '0.06', '0.06', '0.07', '0.09', '0.13', '0.17', '0.29', '0.50', '0.49', '0.59', '0.71', '0.63', '0.65', '0.74', '0.75', '0.76', '0.75', '0.77']\n",
      "\n",
      "where\n",
      "['0.08', '0.09', '0.10', '0.10', '0.10', '0.12', '0.16', '0.17', '0.30', '0.40', '0.47', '0.54', '0.65', '0.75', '0.76', '0.81', '0.89', '0.87', '0.87', '0.91', '0.91', '0.88', '0.88', '0.88']\n",
      "\n",
      "group by\n",
      "['0.15', '0.16', '0.18', '0.18', '0.18', '0.18', '0.20', '0.21', '0.30', '0.40', '0.46', '0.50', '0.65', '0.74', '0.71', '0.77', '0.87', '0.81', '0.85', '0.88', '0.86', '0.80', '0.85', '0.88']\n",
      "\n",
      "join\n",
      "['0.06', '0.06', '0.06', '0.06', '0.06', '0.06', '0.06', '0.06', '0.06', '0.07', '0.07', '0.09', '0.15', '0.22', '0.23', '0.25', '0.33', '0.30', '0.31', '0.33', '0.30', '0.27', '0.26', '0.24']\n",
      "\n",
      "from\n",
      "['0.18', '0.18', '0.18', '0.18', '0.18', '0.18', '0.18', '0.18', '0.19', '0.20', '0.22', '0.22', '0.26', '0.29', '0.28', '0.30', '0.29', '0.28', '0.28', '0.29', '0.27', '0.26', '0.26', '0.24']\n",
      "\n"
     ]
    }
   ],
   "source": [
    "for r, sample_scores in scores_by_node_role.items():\n",
    "    if len(sample_scores) < 10:\n",
    "        continue\n",
    "    print(r)\n",
    "    scores_by_layer = zip(*sample_scores)\n",
    "    avg_by_layer = [np.mean(scores) for scores in scores_by_layer]\n",
    "    print([f'{avg:.2f}' for avg in avg_by_layer])\n",
    "    print()"
   ]
  },
  {
   "cell_type": "code",
   "execution_count": 249,
   "metadata": {},
   "outputs": [
    {
     "data": {
      "text/plain": [
       "<matplotlib.legend.Legend at 0x7f82d217e760>"
      ]
     },
     "execution_count": 249,
     "metadata": {},
     "output_type": "execute_result"
    },
    {
     "data": {
      "image/png": "[encoded data removed]",
      "text/plain": [
       "<Figure size 432x288 with 1 Axes>"
      ]
     },
     "metadata": {
      "needs_background": "light"
     },
     "output_type": "display_data"
    }
   ],
   "source": [
    "fig, ax = plt.subplots()\n",
    "ax.plot(all_avg_by_layer, label='All')\n",
    "for r, sample_scores in scores_by_node_role.items():\n",
    "    if len(sample_scores) < 50:\n",
    "        continue\n",
    "    r_scores_by_layer = zip(*sample_scores)\n",
    "    r_avg_by_layer = [np.mean(scores) for scores in r_scores_by_layer]\n",
    "    ax.plot(r_avg_by_layer, label=r)\n",
    "ax.set_xlabel('Layer to restore')\n",
    "ax.set_ylabel('Avg. P(correct answer)')\n",
    "ax.legend()"
   ]
  },
  {
   "cell_type": "markdown",
   "metadata": {},
   "source": [
    "#### by text matching"
   ]
  },
  {
   "cell_type": "code",
   "execution_count": 250,
   "metadata": {},
   "outputs": [
    {
     "data": {
      "text/plain": [
       "[('exact', 613), ('partial', 170), ('no-match', 301)]"
      ]
     },
     "execution_count": 250,
     "metadata": {},
     "output_type": "execute_result"
    }
   ],
   "source": [
    "scores_by_text_matching = {k: [] for k in ['exact', 'partial', 'no-match']}\n",
    "\n",
    "for r in good_trace_results:\n",
    "#     spider_ex = processed_spider_dev[r['ex_id']]\n",
    "#     col = r['target_node']\n",
    "#     tab = r['target_node_table']\n",
    "#     m = ctu.check_text_match(spider_ex, col, tab)\n",
    "    m = r['category']['text_match']\n",
    "\n",
    "    enc_s, dec_s = r['scores']\n",
    "    scores, = enc_s\n",
    "    scores_by_text_matching[m].append(scores)\n",
    "\n",
    "[(m, len(samples)) for m, samples in scores_by_text_matching.items()]"
   ]
  },
  {
   "cell_type": "code",
   "execution_count": 251,
   "metadata": {},
   "outputs": [
    {
     "name": "stdout",
     "output_type": "stream",
     "text": [
      "exact\n",
      "['0.05', '0.06', '0.06', '0.06', '0.06', '0.06', '0.08', '0.08', '0.13', '0.17', '0.20', '0.24', '0.29', '0.35', '0.35', '0.38', '0.46', '0.43', '0.45', '0.51', '0.53', '0.63', '0.68', '0.75']\n",
      "\n",
      "partial\n",
      "['0.05', '0.05', '0.05', '0.05', '0.05', '0.05', '0.05', '0.06', '0.07', '0.09', '0.12', '0.14', '0.22', '0.32', '0.32', '0.36', '0.44', '0.44', '0.47', '0.52', '0.52', '0.62', '0.67', '0.73']\n",
      "\n",
      "no-match\n",
      "['0.05', '0.05', '0.05', '0.05', '0.05', '0.06', '0.08', '0.08', '0.13', '0.15', '0.19', '0.23', '0.31', '0.41', '0.41', '0.44', '0.52', '0.50', '0.52', '0.57', '0.56', '0.61', '0.65', '0.70']\n",
      "\n"
     ]
    }
   ],
   "source": [
    "for r, sample_scores in scores_by_text_matching.items():\n",
    "    if len(sample_scores) < 10:\n",
    "        continue\n",
    "    print(r)\n",
    "    scores_by_layer = zip(*sample_scores)\n",
    "    avg_by_layer = [np.mean(scores) for scores in scores_by_layer]\n",
    "    print([f'{avg:.2f}' for avg in avg_by_layer])\n",
    "    print()"
   ]
  },
  {
   "cell_type": "code",
   "execution_count": 252,
   "metadata": {},
   "outputs": [
    {
     "data": {
      "text/plain": [
       "<matplotlib.legend.Legend at 0x7f82d20fc460>"
      ]
     },
     "execution_count": 252,
     "metadata": {},
     "output_type": "execute_result"
    },
    {
     "data": {
      "image/png": "[encoded data removed]",
      "text/plain": [
       "<Figure size 432x288 with 1 Axes>"
      ]
     },
     "metadata": {
      "needs_background": "light"
     },
     "output_type": "display_data"
    }
   ],
   "source": [
    "fig, ax = plt.subplots()\n",
    "ax.plot(all_avg_by_layer, label='All')\n",
    "for m, sample_scores in scores_by_text_matching.items():\n",
    "    if len(sample_scores) < 10:\n",
    "        continue\n",
    "    r_scores_by_layer = zip(*sample_scores)\n",
    "    r_avg_by_layer = [np.mean(scores) for scores in r_scores_by_layer]\n",
    "    ax.plot(r_avg_by_layer, label=m)\n",
    "ax.set_xlabel('Layer to restore')\n",
    "ax.set_ylabel('Avg. P(correct answer)')\n",
    "ax.legend()"
   ]
  },
  {
   "cell_type": "markdown",
   "metadata": {},
   "source": [
    "### Exp-3.1: dirty struct context restore"
   ]
  },
  {
   "cell_type": "markdown",
   "metadata": {},
   "source": [
    "#### Load & Check results"
   ]
  },
  {
   "cell_type": "code",
   "execution_count": 159,
   "metadata": {},
   "outputs": [
    {
     "data": {
      "text/plain": [
       "10"
      ]
     },
     "execution_count": 159,
     "metadata": {},
     "output_type": "execute_result"
    }
   ],
   "source": [
    "res_path = '/home/yshao/Projects/rome/results/exp3.1_dirty_struct_context_restore/exp=3.1_dev_table-tmp.jsonl'\n",
    "\n",
    "with open(res_path, 'r') as f:\n",
    "    all_samples = [json.loads(l) for l in f]\n",
    "len(all_samples)"
   ]
  },
  {
   "cell_type": "code",
   "execution_count": 160,
   "metadata": {
    "scrolled": true
   },
   "outputs": [
    {
     "data": {
      "text/plain": [
       "{'ex_id': 0,\n",
       " 'trace_results': [{'enc_sentence': 'How many singers do we have?; structed knowledge: | concert_singer | stadium : stadium_id , location , name , capacity , highest , lowest , average | singer : singer_id , name , country , song_name , song_release_year , age , is_male | concert : concert_id , concert_name , theme , stadium_id , year | singer_in_concert : concert_id , singer_id',\n",
       "   'seq_out': 'select count(*) from singer',\n",
       "   'dec_prompt': 'select count(*) from',\n",
       "   'expect': 'singer',\n",
       "   'expect_type': 'table',\n",
       "   'db_id': 'concert_singer',\n",
       "   'expect_input_ranges': [[47, 48]],\n",
       "   'expect_table': 'singer',\n",
       "   'answer': 'singer',\n",
       "   'base_score': 0.9999998807907104,\n",
       "   'answers_t': [7634],\n",
       "   'correct_prediction': True,\n",
       "   'category': {'sql_hardness': 'easy',\n",
       "    'node_role': 'from',\n",
       "    'text_match': 'exact'},\n",
       "   'self_ranges': [[46, 50]],\n",
       "   'struct_context_ranges': [[15, 46], [50, 125]],\n",
       "   'trace_scores': {'single_layer_corrupt': {},\n",
       "    'low_layers_restore': {},\n",
       "    'high_layers_restore': {},\n",
       "    'single_layer_restore': {},\n",
       "    'temp1': {}},\n",
       "   'low_score': 1.0,\n",
       "   'is_good_sample': False}]}"
      ]
     },
     "execution_count": 160,
     "metadata": {},
     "output_type": "execute_result"
    }
   ],
   "source": [
    "all_samples[0]"
   ]
  },
  {
   "cell_type": "code",
   "execution_count": 156,
   "metadata": {},
   "outputs": [],
   "source": [
    "total_samples = 0\n",
    "n_good_samples = 0\n",
    "n_too_hard = 0      # wrong answer \n",
    "n_too_easy = 0      # base - low < 0.5"
   ]
  },
  {
   "cell_type": "code",
   "execution_count": 157,
   "metadata": {},
   "outputs": [
    {
     "data": {
      "text/plain": [
       "(18, (0, 0), 2, 16, 18)"
      ]
     },
     "execution_count": 157,
     "metadata": {},
     "output_type": "execute_result"
    }
   ],
   "source": [
    "good_samples = []\n",
    "bad_samples = []\n",
    "\n",
    "for i, ex in enumerate(all_samples):\n",
    "    for d in ex['trace_results']:\n",
    "        total_samples += 1\n",
    "        if d['is_good_sample']:\n",
    "            n_good_samples += 1\n",
    "            d['ex_id'] = i\n",
    "            good_samples.append(d)\n",
    "        elif not d['correct_prediction']:\n",
    "            n_too_hard += 1\n",
    "            bad_samples.append(d)\n",
    "        else:\n",
    "            assert d['base_score'] - d['low_score'] < 0.5\n",
    "            n_too_easy += 1\n",
    "            bad_samples.append(d)\n",
    "            \n",
    "total_samples, (n_good_samples, len(good_samples)), n_too_hard, n_too_easy, len(bad_samples)"
   ]
  },
  {
   "cell_type": "code",
   "execution_count": 158,
   "metadata": {
    "scrolled": true
   },
   "outputs": [],
   "source": [
    "for d in good_samples:\n",
    "    print(d['enc_sentence'])\n",
    "    print(d['dec_prompt'], '-->', d['expect'])\n",
    "    print(json.dumps(d['trace_scores'], indent=1))"
   ]
  },
  {
   "cell_type": "code",
   "execution_count": null,
   "metadata": {},
   "outputs": [],
   "source": [
    "for d in bad_samples:\n",
    "    print(d['enc_sentence'])\n",
    "    print(d['dec_prompt'], '-->', d['expect'])\n",
    "    print()"
   ]
  },
  {
   "cell_type": "markdown",
   "metadata": {},
   "source": [
    "### Exp-3.2: dirty struct context compare"
   ]
  },
  {
   "cell_type": "markdown",
   "metadata": {},
   "source": [
    "#### Load & Check results"
   ]
  },
  {
   "cell_type": "code",
   "execution_count": 221,
   "metadata": {},
   "outputs": [
    {
     "data": {
      "text/plain": [
       "1034"
      ]
     },
     "execution_count": 221,
     "metadata": {},
     "output_type": "execute_result"
    }
   ],
   "source": [
    "res_path = '/home/yshao/Projects/rome/results/exp3.2_dirty_struct_context_compare/exp=3.2_dev_table.jsonl'\n",
    "\n",
    "with open(res_path, 'r') as f:\n",
    "    all_samples = [json.loads(l) for l in f]\n",
    "len(all_samples)"
   ]
  },
  {
   "cell_type": "code",
   "execution_count": 222,
   "metadata": {},
   "outputs": [
    {
     "data": {
      "text/plain": [
       "{'ex_id': 0,\n",
       " 'trace_results': [{'enc_sentence': 'How many singers do we have?; structed knowledge: | concert_singer | stadium : stadium_id , location , name , capacity , highest , lowest , average | singer : singer_id , name , country , song_name , song_release_year , age , is_male | concert : concert_id , concert_name , theme , stadium_id , year | singer_in_concert : concert_id , singer_id',\n",
       "   'seq_out': 'select count(*) from singer',\n",
       "   'dec_prompt': 'select count(*) from',\n",
       "   'expect': 'singer',\n",
       "   'expect_type': 'table',\n",
       "   'db_id': 'concert_singer',\n",
       "   'expect_input_ranges': [[47, 48]],\n",
       "   'expect_table': 'singer',\n",
       "   'answer': 'singer',\n",
       "   'base_score': 0.9999998807907104,\n",
       "   'answers_t': [7634],\n",
       "   'correct_prediction': True,\n",
       "   'category': {'sql_hardness': 'easy',\n",
       "    'node_role': 'from',\n",
       "    'text_match': 'exact'},\n",
       "   'self_ranges': [[46, 50]],\n",
       "   'struct_context_ranges': [[15, 46], [50, 125]],\n",
       "   'scc_score': 1.0,\n",
       "   'scc_answers_t': [7634],\n",
       "   'scc_answer': 'singer',\n",
       "   'scc_correct_prediction': True,\n",
       "   'compare': {'correctness_compare': 'both'}}]}"
      ]
     },
     "execution_count": 222,
     "metadata": {},
     "output_type": "execute_result"
    }
   ],
   "source": [
    "all_samples[0]"
   ]
  },
  {
   "cell_type": "code",
   "execution_count": 223,
   "metadata": {},
   "outputs": [
    {
     "data": {
      "text/plain": [
       "Counter({'both': 1424, 'clean+': 123, 'scc+': 105, 'none': 31})"
      ]
     },
     "execution_count": 223,
     "metadata": {},
     "output_type": "execute_result"
    }
   ],
   "source": [
    "correctness_compare_counter = Counter([d['compare']['correctness_compare'] for ex in all_samples for d in ex['trace_results']])\n",
    "correctness_compare_counter"
   ]
  },
  {
   "cell_type": "code",
   "execution_count": 231,
   "metadata": {},
   "outputs": [
    {
     "name": "stdout",
     "output_type": "stream",
     "text": [
      "#43: Find the number of concerts happened in the stadium with the highest capacity .; structed knowledge: | concert_singer | stadium : stadium_id , location , name , capacity , highest , lowest , average | singer : singer_id , name , country , song_name , song_release_year , age , is_male | concert : concert_id , concert_name , theme , stadium_id , year | singer_in_concert : concert_id , singer_id\n",
      "SQL: select count(*) from --> concert\n",
      "Clean: stadium\n",
      "SCC: concert\n",
      "COMP: scc+\n",
      "\n",
      "#44: What are the number of concerts that occurred in the stadium with the largest capacity ?; structed knowledge: | concert_singer | stadium : stadium_id , location , name , capacity , highest , lowest , average | singer : singer_id , name , country , song_name , song_release_year , age , is_male | concert : concert_id , concert_name , theme , stadium_id , year | singer_in_concert : concert_id , singer_id\n",
      "SQL: select count(*) from --> concert\n",
      "Clean: stadium\n",
      "SCC: concert\n",
      "COMP: scc+\n",
      "\n",
      "#51: Find number of pets owned by students who are older than 20.; structed knowledge: | pets_1 | student : stuid , lname , fname , age , sex , major , advisor , city_code | has_pet : stuid , petid | pets : petid , pettype , pet_age , weight\n",
      "SQL: select count(*) from --> student\n",
      "Clean: has\n",
      "SCC: student\n",
      "COMP: scc+\n",
      "\n",
      "#52: How many pets are owned by students that have an age greater than 20?; structed knowledge: | pets_1 | student : stuid , lname , fname , age , sex , major , advisor , city_code | has_pet : stuid , petid | pets : petid , pettype , pet_age , weight\n",
      "SQL: select count(*) from --> student\n",
      "Clean: has\n",
      "SCC: student\n",
      "COMP: scc+\n",
      "\n",
      "#53: Find the number of dog pets that are raised by female students (with sex F).; structed knowledge: | pets_1 | student : stuid , lname , fname , age , sex , major , advisor , city_code | has_pet : stuid , petid | pets : petid , pettype ( dog ) , pet_age , weight\n",
      "SQL: select count(*) from --> student\n",
      "Clean: pets\n",
      "SCC: student\n",
      "COMP: scc+\n",
      "\n",
      "#54: How many dog pets are raised by female students?; structed knowledge: | pets_1 | student : stuid , lname , fname , age , sex , major , advisor , city_code | has_pet : stuid , petid | pets : petid , pettype ( dog ) , pet_age , weight\n",
      "SQL: select count(*) from --> student\n",
      "Clean: pets\n",
      "SCC: student\n",
      "COMP: scc+\n",
      "\n",
      "#61: Find the major and age of students who do not have a cat pet.; structed knowledge: | pets_1 | student : stuid , lname , fname , age , sex , major , advisor , city_code | has_pet : stuid , petid | pets : petid , pettype ( cat ) , pet_age , weight\n",
      "SQL: select major, age from student where stuid not in (select t1.stuid from --> student\n",
      "Clean: has\n",
      "SCC: student\n",
      "COMP: scc+\n",
      "\n",
      "#62: What major is every student who does not own a cat as a pet, and also how old are they?; structed knowledge: | pets_1 | student : stuid , lname , fname , age , sex , major , advisor , city_code | has_pet : stuid , petid | pets : petid , pettype ( cat ) , pet_age , weight\n",
      "SQL: select major, age from student where stuid not in (select t1.stuid from --> student\n",
      "Clean: has\n",
      "SCC: student\n",
      "COMP: scc+\n",
      "\n",
      "#63: Find the id of students who do not have a cat pet.; structed knowledge: | pets_1 | student : stuid , lname , fname , age , sex , major , advisor , city_code | has_pet : stuid , petid | pets : petid , pettype ( cat ) , pet_age , weight\n",
      "SQL: select stuid from student except select t1.stuid from --> student\n",
      "Clean: has\n",
      "SCC: student\n",
      "COMP: scc+\n",
      "\n",
      "#64: What are the ids of the students who do not own cats as pets?; structed knowledge: | pets_1 | student : stuid , lname , fname , age , sex , major , advisor , city_code | has_pet : stuid , petid | pets : petid , pettype ( cat ) , pet_age , weight\n",
      "SQL: select stuid from student except select t1.stuid from --> student\n",
      "Clean: has\n",
      "SCC: student\n",
      "COMP: scc+\n",
      "\n",
      "#65: Find the first name and age of students who have a dog but do not have a cat as a pet.; structed knowledge: | pets_1 | student : stuid , lname , fname , age , sex , major , advisor , city_code | has_pet : stuid , petid | pets : petid , pettype ( dog , cat ) , pet_age , weight\n",
      "SQL: select t1.fname, t1.age from student as t1 join has_pet as t2 on t1.stuid = t2.stuid join pets as t3 on t3.petid = t2.petid where t3.pettype = 'dog' and t1.stuid not in (select t1.stuid from --> student\n",
      "Clean: has\n",
      "SCC: student\n",
      "COMP: scc+\n",
      "\n",
      "#66: What is the first name of every student who has a dog but does not have a cat?; structed knowledge: | pets_1 | student : stuid , lname , fname , age , sex , major , advisor , city_code | has_pet : stuid , petid | pets : petid , pettype ( dog , cat ) , pet_age , weight\n",
      "SQL: select t1.fname, t1.age from student as t1 join has_pet as t2 on t1.stuid = t2.stuid join pets as t3 on t3.petid = t2.petid where t3.pettype = 'dog' and t1.stuid not in (select t1.stuid from --> student\n",
      "Clean: has\n",
      "SCC: student\n",
      "COMP: scc+\n",
      "\n",
      "#77: Find the id of the pet owned by student whose last name is ‘Smith’.; structed knowledge: | pets_1 | student : stuid , lname , fname , age , sex , major , advisor , city_code | has_pet : stuid , petid | pets : petid , pettype , pet_age , weight\n",
      "SQL: select t2.petid from --> student\n",
      "Clean: has\n",
      "SCC: student\n",
      "COMP: scc+\n",
      "\n",
      "#78: What is the id of the pet owned by the student whose last name is 'Smith'?; structed knowledge: | pets_1 | student : stuid , lname ( Smith ) , fname , age , sex , major , advisor , city_code | has_pet : stuid , petid | pets : petid , pettype , pet_age , weight\n",
      "SQL: select t2.petid from --> student\n",
      "Clean: has\n",
      "SCC: student\n",
      "COMP: scc+\n",
      "\n",
      "#79: Find the number of pets for each student who has any pet and student id.; structed knowledge: | pets_1 | student : stuid , lname , fname , age , sex , major , advisor , city_code | has_pet : stuid , petid | pets : petid , pettype , pet_age , weight\n",
      "SQL: select count(*), t1.stuid from --> student\n",
      "Clean: has\n",
      "SCC: student\n",
      "COMP: scc+\n",
      "\n",
      "#80: For students who have pets , how many pets does each student have ? list their ids instead of names .; structed knowledge: | pets_1 | student : stuid , lname , fname , age , sex , major , advisor , city_code | has_pet : stuid , petid | pets : petid , pettype , pet_age , weight\n",
      "SQL: select count(*), t1.stuid from --> student\n",
      "Clean: has\n",
      "SCC: student\n",
      "COMP: scc+\n",
      "\n",
      "#113: How many car makers are there in france?; structed knowledge: | car_1 | continents : contid , continent | countries : countryid , countryname ( france ) , continent | car_makers : id , maker , fullname , country | model_list : modelid , maker , model | car_names : makeid , model , make | cars_data : id , mpg , cylinders , edispl , horsepower , weight , accelerate , year\n",
      "SQL: select count(*) from --> car_makers\n",
      "Clean: countries_makers\n",
      "SCC: car_makers\n",
      "COMP: scc+\n",
      "\n",
      "#115: How many car models are produced in the usa?; structed knowledge: | car_1 | continents : contid , continent | countries : countryid , countryname ( usa ) , continent | car_makers : id , maker , fullname , country | model_list : modelid , maker , model | car_names : makeid , model , make | cars_data : id , mpg , cylinders , edispl , horsepower , weight , accelerate , year\n",
      "SQL: select count(*) from --> model_list\n",
      "Clean: countries_list\n",
      "SCC: model_list\n",
      "COMP: scc+\n",
      "\n",
      "#116: What is the count of the car models produced in the United States?; structed knowledge: | car_1 | continents : contid , continent | countries : countryid , countryname , continent | car_makers : id , maker , fullname , country | model_list : modelid , maker , model | car_names : makeid , model , make | cars_data : id , mpg , cylinders , edispl , horsepower , weight , accelerate , year\n",
      "SQL: select count(*) from --> model_list\n",
      "Clean: car_list\n",
      "SCC: model_list\n",
      "COMP: scc+\n",
      "\n",
      "#133: Which model saves the most gasoline? That is to say, have the maximum miles per gallon.; structed knowledge: | car_1 | continents : contid , continent | countries : countryid , countryname , continent | car_makers : id , maker , fullname , country | model_list : modelid , maker , model | car_names : makeid , model , make | cars_data : id , mpg , cylinders , edispl , horsepower , weight , accelerate , year\n",
      "SQL: select t1.model from --> car_names\n",
      "Clean: model_names\n",
      "SCC: car_names\n",
      "COMP: scc+\n",
      "\n",
      "#137: What is the average edispl of the cars of model volvo?; structed knowledge: | car_1 | continents : contid , continent | countries : countryid , countryname , continent | car_makers : id , maker ( volvo ) , fullname ( Volvo ) , country | model_list : modelid , maker , model ( volvo ) | car_names : makeid , model ( volvo ) , make | cars_data : id , mpg , cylinders , edispl , horsepower , weight , accelerate , year\n",
      "SQL: select avg(t2.edispl) from --> car_names\n",
      "Clean: model_names\n",
      "SCC: car_names\n",
      "COMP: scc+\n",
      "\n",
      "#138: What is the average edispl for all volvos?; structed knowledge: | car_1 | continents : contid , continent | countries : countryid , countryname , continent | car_makers : id , maker ( volvo ) , fullname ( Volvo ) , country | model_list : modelid , maker , model ( volvo ) | car_names : makeid , model ( volvo ) , make | cars_data : id , mpg , cylinders , edispl , horsepower , weight , accelerate , year\n",
      "SQL: select avg(t2.edispl) from --> car_names\n",
      "Clean: car_datas\n",
      "SCC: car_names\n",
      "COMP: scc+\n",
      "\n",
      "#146: In 1980, how many cars were made?; structed knowledge: | car_1 | continents : contid , continent | countries : countryid , countryname , continent | car_makers : id , maker , fullname , country | model_list : modelid , maker , model | car_names : makeid , model , make | cars_data : id , mpg , cylinders , edispl , horsepower , weight , accelerate , year\n",
      "SQL: select count(*) from --> cars_data\n",
      "Clean: car_data\n",
      "SCC: cars_data\n",
      "COMP: scc+\n",
      "\n",
      "#151: Which distinctive models are produced by maker with the full name General Motors or weighing more than 3500?; structed knowledge: | car_1 | continents : contid , continent | countries : countryid , countryname , continent | car_makers : id , maker , fullname ( General Motors ) , country | model_list : modelid , maker , model | car_names : makeid , model , make | cars_data : id , mpg , cylinders , edispl , horsepower , weight , accelerate , year\n",
      "SQL: select distinct t2.model from --> car_names\n",
      "Clean: car_makerss\n",
      "SCC: car_names\n",
      "COMP: scc+\n",
      "\n",
      "#152: What are the different models created by either the car maker General Motors or weighed more than 3500?; structed knowledge: | car_1 | continents : contid , continent | countries : countryid , countryname , continent | car_makers : id , maker , fullname ( General Motors ) , country | model_list : modelid , maker , model | car_names : makeid , model , make | cars_data : id , mpg , cylinders , edispl , horsepower , weight , accelerate , year\n",
      "SQL: select distinct t2.model from --> car_names\n",
      "Clean: car_makerss\n",
      "SCC: car_names\n",
      "COMP: scc+\n",
      "\n",
      "#205: How many flights have destination ATO?; structed knowledge: | flight_2 | airlines : uid , airline , abbreviation , country | airports : city , airportcode ( ATO ) , airportname , country , countryabbrev | flights : airline , flightno , sourceairport , destairport\n",
      "SQL: select count(*) from --> flights\n",
      "Clean: airport\n",
      "SCC: flights\n",
      "COMP: scc+\n",
      "\n",
      "#206: Count the number of flights into ATO.; structed knowledge: | flight_2 | airlines : uid , airline , abbreviation , country | airports : city , airportcode ( ATO ) , airportname , country , countryabbrev | flights : airline , flightno , sourceairport , destairport\n",
      "SQL: select count(*) from --> flights\n",
      "Clean: airport\n",
      "SCC: flights\n",
      "COMP: scc+\n",
      "\n",
      "#207: How many flights depart from City Aberdeen?; structed knowledge: | flight_2 | airlines : uid , airline , abbreviation , country | airports : city ( Aberdeen  ) , airportcode , airportname , country , countryabbrev | flights : airline , flightno , sourceairport , destairport\n",
      "SQL: select count(*) from --> flights\n",
      "Clean: airport\n",
      "SCC: flights\n",
      "COMP: scc+\n",
      "\n",
      "#209: How many flights arriving in Aberdeen city?; structed knowledge: | flight_2 | airlines : uid , airline , abbreviation , country | airports : city ( Aberdeen  ) , airportcode , airportname , country , countryabbrev | flights : airline , flightno , sourceairport , destairport\n",
      "SQL: select count(*) from --> flights\n",
      "Clean: airport\n",
      "SCC: flights\n",
      "COMP: scc+\n",
      "\n",
      "#210: Return the number of flights arriving in Aberdeen.; structed knowledge: | flight_2 | airlines : uid , airline , abbreviation , country | airports : city ( Aberdeen  ) , airportcode , airportname , country , countryabbrev | flights : airline , flightno , sourceairport , destairport\n",
      "SQL: select count(*) from --> flights\n",
      "Clean: airport\n",
      "SCC: flights\n",
      "COMP: scc+\n",
      "\n",
      "#212: How many flights fly from Aberdeen to Ashley?; structed knowledge: | flight_2 | airlines : uid , airline , abbreviation , country | airports : city ( Aberdeen  , Ashley  ) , airportcode , airportname ( Ashley  ) , country , countryabbrev | flights : airline , flightno , sourceairport , destairport\n",
      "SQL: select count(*) from --> flights\n",
      "Clean: airport\n",
      "SCC: flights\n",
      "COMP: scc+\n",
      "\n",
      "#213: How many flights does airline 'JetBlue Airways' have?; structed knowledge: | flight_2 | airlines : uid , airline ( JetBlue Airways ) , abbreviation ( JetBlue ) , country | airports : city , airportcode , airportname , country , countryabbrev | flights : airline , flightno , sourceairport , destairport\n",
      "SQL: select count(*) from --> flights\n",
      "Clean: airlines\n",
      "SCC: flights\n",
      "COMP: scc+\n",
      "\n",
      "#214: Give the number of Jetblue Airways flights.; structed knowledge: | flight_2 | airlines : uid , airline ( JetBlue Airways ) , abbreviation ( JetBlue ) , country | airports : city , airportcode , airportname , country , countryabbrev | flights : airline , flightno , sourceairport , destairport\n",
      "SQL: select count(*) from --> flights\n",
      "Clean: airlines\n",
      "SCC: flights\n",
      "COMP: scc+\n",
      "\n",
      "#217: How many 'United Airlines' flights depart from Airport 'AHD'?; structed knowledge: | flight_2 | airlines : uid , airline ( United Airlines ) , abbreviation , country | airports : city , airportcode ( AHD ) , airportname , country , countryabbrev | flights : airline , flightno , sourceairport (  AHD ) , destairport (  AHD )\n",
      "SQL: select count(*) from --> airlines\n",
      "Clean: flights\n",
      "SCC: airlines\n",
      "COMP: scc+\n",
      "\n",
      "#218: Return the number of United Airlines flights leaving from AHD Airport.; structed knowledge: | flight_2 | airlines : uid , airline ( United Airlines ) , abbreviation , country | airports : city , airportcode ( AHD ) , airportname , country , countryabbrev | flights : airline , flightno , sourceairport (  AHD ) , destairport (  AHD )\n",
      "SQL: select count(*) from --> airlines\n",
      "Clean: flights\n",
      "SCC: airlines\n",
      "COMP: scc+\n",
      "\n",
      "#219: How many United Airlines flights go to City 'Aberdeen'?; structed knowledge: | flight_2 | airlines : uid , airline ( United Airlines ) , abbreviation , country | airports : city ( Aberdeen  ) , airportcode , airportname , country , countryabbrev | flights : airline , flightno , sourceairport , destairport\n",
      "SQL: select count(*) from --> flights\n",
      "Clean: airlines\n",
      "SCC: flights\n",
      "COMP: scc+\n",
      "\n",
      "#220: Count the number of United Airlines flights that arrive in Aberdeen.; structed knowledge: | flight_2 | airlines : uid , airline ( United Airlines ) , abbreviation , country | airports : city ( Aberdeen  ) , airportcode , airportname , country , countryabbrev | flights : airline , flightno , sourceairport , destairport\n",
      "SQL: select count(*) from --> flights\n",
      "Clean: airlines\n",
      "SCC: flights\n",
      "COMP: scc+\n",
      "\n",
      "#255: Find the number of flights landing in the city of Aberdeen or Abilene.; structed knowledge: | flight_2 | airlines : uid , airline , abbreviation , country | airports : city ( Aberdeen  , Abilene  ) , airportcode , airportname , country , countryabbrev | flights : airline , flightno , sourceairport , destairport\n",
      "SQL: select count(*) from --> flights\n",
      "Clean: airport\n",
      "SCC: flights\n",
      "COMP: scc+\n",
      "\n",
      "#256: How many flights land in Aberdeen or Abilene?; structed knowledge: | flight_2 | airlines : uid , airline , abbreviation , country | airports : city ( Aberdeen  , Abilene  ) , airportcode , airportname , country , countryabbrev | flights : airline , flightno , sourceairport , destairport\n",
      "SQL: select count(*) from --> flights\n",
      "Clean: airport\n",
      "SCC: flights\n",
      "COMP: scc+\n",
      "\n",
      "#307: How many documents are using the template with type code 'PPT'?; structed knowledge: | cre_Doc_Template_Mgt | ref_template_types : template_type_code ( PPT ) , template_type_description | templates : template_id , version_number , template_type_code ( PPT ) , date_effective_from , date_effective_to , template_details | documents : document_id , template_id , document_name , document_description , other_details | paragraphs : paragraph_id , document_id , paragraph_text , other_details\n",
      "SQL: select count(*) from --> documents\n",
      "Clean: templates\n",
      "SCC: documents\n",
      "COMP: scc+\n",
      "\n",
      "#311: What is the id and type code for the template used by the most documents?; structed knowledge: | cre_Doc_Template_Mgt | ref_template_types : template_type_code , template_type_description | templates : template_id , version_number , template_type_code , date_effective_from , date_effective_to , template_details | documents : document_id , template_id , document_name , document_description , other_details | paragraphs : paragraph_id , document_id , paragraph_text , other_details\n",
      "SQL: select t1.template_id, t2.template_type_code from --> documents\n",
      "Clean: templates\n",
      "SCC: documents\n",
      "COMP: scc+\n",
      "\n",
      "#312: Return the id and type code of the template that is used for the greatest number of documents.; structed knowledge: | cre_Doc_Template_Mgt | ref_template_types : template_type_code , template_type_description | templates : template_id , version_number , template_type_code , date_effective_from , date_effective_to , template_details | documents : document_id , template_id , document_name , document_description , other_details | paragraphs : paragraph_id , document_id , paragraph_text , other_details\n",
      "SQL: select t1.template_id, t2.template_type_code from --> documents\n",
      "Clean: templates\n",
      "SCC: documents\n",
      "COMP: scc+\n",
      "\n",
      "#314: What are the template ids of any templates used in more than a single document?; structed knowledge: | cre_Doc_Template_Mgt | ref_template_types : template_type_code , template_type_description | templates : template_id , version_number , template_type_code , date_effective_from , date_effective_to , template_details | documents : document_id , template_id , document_name , document_description , other_details | paragraphs : paragraph_id , document_id , paragraph_text , other_details\n",
      "SQL: select template_id from --> documents\n",
      "Clean: templates\n",
      "SCC: documents\n",
      "COMP: scc+\n",
      "\n",
      "#345: Show all template type codes that are not used by any document.; structed knowledge: | cre_Doc_Template_Mgt | ref_template_types : template_type_code , template_type_description | templates : template_id , version_number , template_type_code , date_effective_from , date_effective_to , template_details | documents : document_id , template_id , document_name , document_description , other_details | paragraphs : paragraph_id , document_id , paragraph_text , other_details\n",
      "SQL: select template_type_code from templates except select template_type_code from --> templates\n",
      "Clean: documents\n",
      "SCC: templates\n",
      "COMP: scc+\n",
      "\n",
      "#346: What are the codes of template types that are not used for any document?; structed knowledge: | cre_Doc_Template_Mgt | ref_template_types : template_type_code , template_type_description | templates : template_id , version_number , template_type_code , date_effective_from , date_effective_to , template_details | documents : document_id , template_id , document_name , document_description , other_details | paragraphs : paragraph_id , document_id , paragraph_text , other_details\n",
      "SQL: select template_type_code from templates except select template_type_code from --> templates\n",
      "Clean: documents\n",
      "SCC: templates\n",
      "COMP: scc+\n",
      "\n",
      "#359: How many paragraphs for the document with name 'Summer Show'?; structed knowledge: | cre_Doc_Template_Mgt | ref_template_types : template_type_code , template_type_description | templates : template_id , version_number , template_type_code , date_effective_from , date_effective_to , template_details | documents : document_id , template_id , document_name ( Summer Show ) , document_description , other_details | paragraphs : paragraph_id , document_id , paragraph_text , other_details\n",
      "SQL: select count(*) from --> paragraphs\n",
      "Clean: documentss\n",
      "SCC: paragraphs\n",
      "COMP: scc+\n",
      "\n",
      "#360: Count the number of paragraphs in the document named 'Summer Show'.; structed knowledge: | cre_Doc_Template_Mgt | ref_template_types : template_type_code , template_type_description | templates : template_id , version_number , template_type_code , date_effective_from , date_effective_to , template_details | documents : document_id , template_id , document_name ( Summer Show ) , document_description , other_details | paragraphs : paragraph_id , document_id , paragraph_text , other_details\n",
      "SQL: select count(*) from --> paragraphs\n",
      "Clean: documentss\n",
      "SCC: paragraphs\n",
      "COMP: scc+\n",
      "\n",
      "#403: Show the name of the teacher for the math course.; structed knowledge: | course_teach | course : course_id , staring_date , course ( Math ) | teacher : teacher_id , name , age , hometown | course_arrange : course_id , teacher_id , grade\n",
      "SQL: select t3.name from --> course_arrange\n",
      "Clean: course asarrange\n",
      "SCC: course_arrange\n",
      "COMP: scc+\n",
      "\n",
      "#404: What are the names of the people who teach math courses?; structed knowledge: | course_teach | course : course_id , staring_date , course ( Math ) | teacher : teacher_id , name , age , hometown | course_arrange : course_id , teacher_id , grade\n",
      "SQL: select t3.name from --> course_arrange\n",
      "Clean: course asarrange\n",
      "SCC: course_arrange\n",
      "COMP: scc+\n",
      "\n",
      "#486: Find the number of left handed winners who participated in the WTA Championships.; structed knowledge: | wta_1 | players : player_id , first_name , last_name , hand , birth_date , country_code | matches : best_of , draw_size , loser_age , loser_entry , loser_hand , loser_ht , loser_id , loser_ioc , loser_name , loser_rank , loser_rank_points , loser_seed , match_num , minutes , round , score , surface , tourney_date , tourney_id , tourney_level , tourney_name ( WTA Championships ) , winner_age , winner_entry , winner_hand , winner_ht , winner_id , winner_ioc , winner_name , winner_rank , winner_rank_points , winner_seed , year | rankings : ranking_date , ranking , player_id , ranking_points , tours\n",
      "SQL: select count(distinct winner_name) from --> matches\n",
      "Clean: players\n",
      "SCC: matches\n",
      "COMP: scc+\n",
      "\n",
      "#542: What is the first, middle, and last name, along with the id and number of enrollments, for the student who enrolled the most in any program?; structed knowledge: | student_transcripts_tracking | addresses : address_id , line_1 , line_2 , line_3 , city , zip_postcode , state_province_county , country , other_address_details | courses : course_id , course_name , course_description , other_details | departments : department_id , department_name , department_description , other_details | degree_programs : degree_program_id , department_id , degree_summary_name , degree_summary_description , other_details | sections : section_id , course_id , section_name , section_description , other_details | semesters : semester_id , semester_name , semester_description , other_details | students : student_id , current_address_id , permanent_address_id , first_name , middle_name , last_name , cell_mobile_number , email_address , ssn , date_first_registered , date_left , other_student_details | student_enrolment : student_enrolment_id , degree_program_id , semester_id , student_id , other_details | student_enrolment_courses : student_course_id , course_id , student_enrolment_id | transcripts : transcript_id , transcript_date , other_details | transcript_contents : student_course_id , transcript_id\n",
      "SQL: select t1.student_id, t1.first_name, t1.middle_name, t1.last_name, count(*), t1.student_id from --> students\n",
      "Clean: student\n",
      "SCC: students\n",
      "COMP: scc+\n",
      "\n",
      "#551: Show the date and id of the transcript with at least 2 course results.; structed knowledge: | student_transcripts_tracking | addresses : address_id , line_1 , line_2 , line_3 , city , zip_postcode , state_province_county , country , other_address_details | courses : course_id , course_name , course_description , other_details | departments : department_id , department_name , department_description , other_details | degree_programs : degree_program_id , department_id , degree_summary_name , degree_summary_description , other_details | sections : section_id , course_id , section_name , section_description , other_details | semesters : semester_id , semester_name , semester_description , other_details | students : student_id , current_address_id , permanent_address_id , first_name , middle_name , last_name , cell_mobile_number , email_address , ssn , date_first_registered , date_left , other_student_details | student_enrolment : student_enrolment_id , degree_program_id , semester_id , student_id , other_details | student_enrolment_courses : student_course_id , course_id , student_enrolment_id | transcripts : transcript_id , transcript_date , other_details | transcript_contents : student_course_id , transcript_id\n",
      "SQL: select t2.transcript_date, t1.transcript_id from --> transcript_contents\n",
      "Clean: transcriptsss\n",
      "SCC: transcript_contents\n",
      "COMP: scc+\n",
      "\n",
      "#552: What is the date and id of the transcript with at least 2 courses listed?; structed knowledge: | student_transcripts_tracking | addresses : address_id , line_1 , line_2 , line_3 , city , zip_postcode , state_province_county , country , other_address_details | courses : course_id , course_name , course_description , other_details | departments : department_id , department_name , department_description , other_details | degree_programs : degree_program_id , department_id , degree_summary_name , degree_summary_description , other_details | sections : section_id , course_id , section_name , section_description , other_details | semesters : semester_id , semester_name , semester_description , other_details | students : student_id , current_address_id , permanent_address_id , first_name , middle_name , last_name , cell_mobile_number , email_address , ssn , date_first_registered , date_left , other_student_details | student_enrolment : student_enrolment_id , degree_program_id , semester_id , student_id , other_details | student_enrolment_courses : student_course_id , course_id , student_enrolment_id | transcripts : transcript_id , transcript_date , other_details | transcript_contents : student_course_id , transcript_id\n",
      "SQL: select t2.transcript_date, t1.transcript_id from --> transcript_contents\n",
      "Clean: transcriptscontents\n",
      "SCC: transcript_contents\n",
      "COMP: scc+\n",
      "\n",
      "#571: How many times at most can a course enrollment result show in different transcripts? Also show the course enrollment id.; structed knowledge: | student_transcripts_tracking | addresses : address_id , line_1 , line_2 , line_3 , city , zip_postcode , state_province_county , country , other_address_details | courses : course_id , course_name , course_description , other_details | departments : department_id , department_name , department_description , other_details | degree_programs : degree_program_id , department_id , degree_summary_name , degree_summary_description , other_details | sections : section_id , course_id , section_name , section_description , other_details | semesters : semester_id , semester_name , semester_description , other_details | students : student_id , current_address_id , permanent_address_id , first_name , middle_name , last_name , cell_mobile_number , email_address , ssn , date_first_registered , date_left , other_student_details | student_enrolment : student_enrolment_id , degree_program_id , semester_id , student_id , other_details | student_enrolment_courses : student_course_id , course_id , student_enrolment_id | transcripts : transcript_id , transcript_date , other_details | transcript_contents : student_course_id , transcript_id\n",
      "SQL: select count(*), student_course_id from --> transcript_contents\n",
      "Clean: student_contents\n",
      "SCC: transcript_contents\n",
      "COMP: scc+\n",
      "\n",
      "#572: What is the maximum number of times that a course shows up in different transcripts and what is that course's enrollment id?; structed knowledge: | student_transcripts_tracking | addresses : address_id , line_1 , line_2 , line_3 , city , zip_postcode , state_province_county , country , other_address_details | courses : course_id , course_name , course_description , other_details | departments : department_id , department_name , department_description , other_details | degree_programs : degree_program_id , department_id , degree_summary_name , degree_summary_description , other_details | sections : section_id , course_id , section_name , section_description , other_details | semesters : semester_id , semester_name , semester_description , other_details | students : student_id , current_address_id , permanent_address_id , first_name , middle_name , last_name , cell_mobile_number , email_address , ssn , date_first_registered , date_left , other_student_details | student_enrolment : student_enrolment_id , degree_program_id , semester_id , student_id , other_details | student_enrolment_courses : student_course_id , course_id , student_enrolment_id | transcripts : transcript_id , transcript_date , other_details | transcript_contents : student_course_id , transcript_id\n",
      "SQL: select count(*), student_course_id from --> transcript_contents\n",
      "Clean: student_contents\n",
      "SCC: transcript_contents\n",
      "COMP: scc+\n",
      "\n",
      "#573: Show the date of the transcript which shows the least number of results, also list the id.; structed knowledge: | student_transcripts_tracking | addresses : address_id , line_1 , line_2 , line_3 , city , zip_postcode , state_province_county , country , other_address_details | courses : course_id , course_name , course_description , other_details | departments : department_id , department_name , department_description , other_details | degree_programs : degree_program_id , department_id , degree_summary_name , degree_summary_description , other_details | sections : section_id , course_id , section_name , section_description , other_details | semesters : semester_id , semester_name , semester_description , other_details | students : student_id , current_address_id , permanent_address_id , first_name , middle_name , last_name , cell_mobile_number , email_address , ssn , date_first_registered , date_left , other_student_details | student_enrolment : student_enrolment_id , degree_program_id , semester_id , student_id , other_details | student_enrolment_courses : student_course_id , course_id , student_enrolment_id | transcripts : transcript_id , transcript_date , other_details | transcript_contents : student_course_id , transcript_id\n",
      "SQL: select t2.transcript_date, t1.transcript_id from --> transcript_contents\n",
      "Clean: transcriptsss\n",
      "SCC: transcript_contents\n",
      "COMP: scc+\n",
      "\n",
      "#574: What is the date and id of the transcript with the least number of results?; structed knowledge: | student_transcripts_tracking | addresses : address_id , line_1 , line_2 , line_3 , city , zip_postcode , state_province_county , country , other_address_details | courses : course_id , course_name , course_description , other_details | departments : department_id , department_name , department_description , other_details | degree_programs : degree_program_id , department_id , degree_summary_name , degree_summary_description , other_details | sections : section_id , course_id , section_name , section_description , other_details | semesters : semester_id , semester_name , semester_description , other_details | students : student_id , current_address_id , permanent_address_id , first_name , middle_name , last_name , cell_mobile_number , email_address , ssn , date_first_registered , date_left , other_student_details | student_enrolment : student_enrolment_id , degree_program_id , semester_id , student_id , other_details | student_enrolment_courses : student_course_id , course_id , student_enrolment_id | transcripts : transcript_id , transcript_date , other_details | transcript_contents : student_course_id , transcript_id\n",
      "SQL: select t2.transcript_date, t1.transcript_id from --> transcript_contents\n",
      "Clean: transcriptsss\n",
      "SCC: transcript_contents\n",
      "COMP: scc+\n",
      "\n",
      "#576: What is the id of the semester that had both Masters and Bachelors students enrolled?; structed knowledge: | student_transcripts_tracking | addresses : address_id , line_1 , line_2 , line_3 , city , zip_postcode , state_province_county , country , other_address_details | courses : course_id , course_name , course_description , other_details | departments : department_id , department_name , department_description , other_details | degree_programs : degree_program_id , department_id , degree_summary_name , degree_summary_description , other_details | sections : section_id , course_id , section_name , section_description , other_details | semesters : semester_id , semester_name , semester_description , other_details | students : student_id , current_address_id , permanent_address_id , first_name , middle_name , last_name , cell_mobile_number , email_address , ssn , date_first_registered , date_left , other_student_details | student_enrolment : student_enrolment_id , degree_program_id , semester_id , student_id , other_details | student_enrolment_courses : student_course_id , course_id , student_enrolment_id | transcripts : transcript_id , transcript_date , other_details | transcript_contents : student_course_id , transcript_id\n",
      "SQL: select distinct t2.semester_id from --> degree_programs\n",
      "Clean: student_programs\n",
      "SCC: degree_programs\n",
      "COMP: scc+\n",
      "\n",
      "#576: What is the id of the semester that had both Masters and Bachelors students enrolled?; structed knowledge: | student_transcripts_tracking | addresses : address_id , line_1 , line_2 , line_3 , city , zip_postcode , state_province_county , country , other_address_details | courses : course_id , course_name , course_description , other_details | departments : department_id , department_name , department_description , other_details | degree_programs : degree_program_id , department_id , degree_summary_name , degree_summary_description , other_details | sections : section_id , course_id , section_name , section_description , other_details | semesters : semester_id , semester_name , semester_description , other_details | students : student_id , current_address_id , permanent_address_id , first_name , middle_name , last_name , cell_mobile_number , email_address , ssn , date_first_registered , date_left , other_student_details | student_enrolment : student_enrolment_id , degree_program_id , semester_id , student_id , other_details | student_enrolment_courses : student_course_id , course_id , student_enrolment_id | transcripts : transcript_id , transcript_date , other_details | transcript_contents : student_course_id , transcript_id\n",
      "SQL: select distinct t2.semester_id from degree_programs as t1 join student_enrolment as t2 on t1.degree_program_id = t2.degree_program_id where degree_summary_name = 'Master' intersect select distinct t2.semester_id from --> degree_programs\n",
      "Clean: student_programs\n",
      "SCC: degree_programs\n",
      "COMP: scc+\n",
      "\n",
      "#612: What is the title of all the cartools that are on the TV Channel with the series name \"Sky Radio\"?; structed knowledge: | tvshow | tv_channel : id , series_name ( Sky Radio ) , country , language , content , pixel_aspect_ratio_par , hight_definition_tv , pay_per_view_ppv , package_option | tv_series : id , episode , air_date , rating , share , 18_49_rating_share , viewers_m , weekly_rank , channel | cartoon : id , title , directed_by , written_by , original_air_date , production_code , channel\n",
      "SQL: select t2.title from --> tv_channel\n",
      "Clean: tv_serie\n",
      "SCC: tv_channel\n",
      "COMP: scc+\n",
      "\n",
      "#690: What are the maximum and minimum values of area codes?; structed knowledge: | voter_1 | area_code_state : area_code , state | contestants : contestant_number , contestant_name | votes : vote_id , phone_number , state , contestant_number , created\n",
      "SQL: select max(area_code), min(area_code) from --> area_code_state\n",
      "Clean: area_code</s>state\n",
      "SCC: area_code_state\n",
      "COMP: scc+\n",
      "\n",
      "#698: What is the area code in which the most voters voted?; structed knowledge: | voter_1 | area_code_state : area_code , state | contestants : contestant_number , contestant_name | votes : vote_id , phone_number , state , contestant_number , created\n",
      "SQL: select t1.area_code from --> area_code_state\n",
      "Clean: votes_code_state\n",
      "SCC: area_code_state\n",
      "COMP: scc+\n",
      "\n",
      "#710: Which region is the city Kabul located in?; structed knowledge: | world_1 | city : id , name ( Kabul ) , countrycode , district , population | sqlite_sequence : name , seq | country : code , name , continent , region , surfacearea , indepyear , population , lifeexpectancy , gnp , gnpold , localname , governmentform , headofstate , capital , code2 | countrylanguage : countrycode , language , isofficial , percentage\n",
      "SQL: select region from --> country\n",
      "Clean: city\n",
      "SCC: country\n",
      "COMP: scc+\n",
      "\n",
      "#711: What region is Kabul in?; structed knowledge: | world_1 | city : id , name ( Kabul ) , countrycode , district , population | sqlite_sequence : name , seq | country : code , name , continent , region , surfacearea , indepyear , population , lifeexpectancy , gnp , gnpold , localname , governmentform , headofstate , capital , code2 | countrylanguage : countrycode , language , isofficial , percentage\n",
      "SQL: select region from --> country\n",
      "Clean: city\n",
      "SCC: country\n",
      "COMP: scc+\n",
      "\n",
      "#890: Show the names of all of the high schooler Kyle's friends.; structed knowledge: | network_1 | highschooler : id , name ( Kyle ) , grade | friend : student_id , friend_id | likes : student_id , liked_id\n",
      "SQL: select t3.name from --> friend\n",
      "Clean: high\n",
      "SCC: friend\n",
      "COMP: scc+\n",
      "\n",
      "#892: How many friends does the high school student Kyle have?; structed knowledge: | network_1 | highschooler : id , name ( Kyle ) , grade | friend : student_id , friend_id | likes : student_id , liked_id\n",
      "SQL: select count(*) from --> friend\n",
      "Clean: high\n",
      "SCC: friend\n",
      "COMP: scc+\n",
      "\n",
      "#893: Count the number of friends Kyle has.; structed knowledge: | network_1 | highschooler : id , name ( Kyle ) , grade | friend : student_id , friend_id | likes : student_id , liked_id\n",
      "SQL: select count(*) from --> friend\n",
      "Clean: high\n",
      "SCC: friend\n",
      "COMP: scc+\n",
      "\n",
      "#894: Show ids of all students who do not have any friends.; structed knowledge: | network_1 | highschooler : id , name , grade | friend : student_id , friend_id | likes : student_id , liked_id\n",
      "SQL: select id from --> highschooler\n",
      "Clean: studentschooler\n",
      "SCC: highschooler\n",
      "COMP: scc+\n",
      "\n",
      "#912: How many likes does Kyle have?; structed knowledge: | network_1 | highschooler : id , name ( Kyle ) , grade | friend : student_id , friend_id | likes : student_id , liked_id\n",
      "SQL: select count(*) from --> likes\n",
      "Clean: highs\n",
      "SCC: likes\n",
      "COMP: scc+\n",
      "\n",
      "#913: Return the number of likes that the high schooler named Kyle has.; structed knowledge: | network_1 | highschooler : id , name ( Kyle ) , grade | friend : student_id , friend_id | likes : student_id , liked_id\n",
      "SQL: select count(*) from --> likes\n",
      "Clean: highs\n",
      "SCC: likes\n",
      "COMP: scc+\n",
      "\n",
      "#930: Which owner owns the most dogs? List the owner id, first name and last name.; structed knowledge: | dog_kennels | breeds : breed_code , breed_name | charges : charge_id , charge_type , charge_amount | sizes : size_code , size_description | treatment_types : treatment_type_code , treatment_type_description | owners : owner_id , first_name , last_name , street , city , state , zip_code , email_address , home_phone , cell_number | dogs : dog_id , owner_id , abandoned_yn , breed_code , size_code , name , age , date_of_birth , gender , weight , date_arrived , date_adopted , date_departed | professionals : professional_id , role_code , first_name , street , city , state , zip_code , last_name , email_address , home_phone , cell_number | treatments : treatment_id , dog_id , professional_id , treatment_type_code , date_of_treatment , cost_of_treatment\n",
      "SQL: select t1.owner_id, t2.first_name, t2.last_name from --> dogs\n",
      "Clean: owners\n",
      "SCC: dogs\n",
      "COMP: scc+\n",
      "\n",
      "#931: Return the owner id, first name and last name of the owner who has the most dogs.; structed knowledge: | dog_kennels | breeds : breed_code , breed_name | charges : charge_id , charge_type , charge_amount | sizes : size_code , size_description | treatment_types : treatment_type_code , treatment_type_description | owners : owner_id , first_name , last_name , street , city , state , zip_code , email_address , home_phone , cell_number | dogs : dog_id , owner_id , abandoned_yn , breed_code , size_code , name , age , date_of_birth , gender , weight , date_arrived , date_adopted , date_departed | professionals : professional_id , role_code , first_name , street , city , state , zip_code , last_name , email_address , home_phone , cell_number | treatments : treatment_id , dog_id , professional_id , treatment_type_code , date_of_treatment , cost_of_treatment\n",
      "SQL: select t1.owner_id, t2.first_name, t2.last_name from --> dogs\n",
      "Clean: owners\n",
      "SCC: dogs\n",
      "COMP: scc+\n",
      "\n",
      "#959: Find the arriving date and the departing date of the dogs that received a treatment.; structed knowledge: | dog_kennels | breeds : breed_code , breed_name | charges : charge_id , charge_type , charge_amount | sizes : size_code , size_description | treatment_types : treatment_type_code , treatment_type_description | owners : owner_id , first_name , last_name , street , city , state , zip_code , email_address , home_phone , cell_number | dogs : dog_id , owner_id , abandoned_yn , breed_code , size_code , name , age , date_of_birth , gender , weight , date_arrived , date_adopted , date_departed | professionals : professional_id , role_code , first_name , street , city , state , zip_code , last_name , email_address , home_phone , cell_number | treatments : treatment_id , dog_id , professional_id , treatment_type_code , date_of_treatment , cost_of_treatment\n",
      "SQL: select distinct t1.date_arrived, t1.date_departed from --> dogs\n",
      "Clean: treatments\n",
      "SCC: dogs\n",
      "COMP: scc+\n",
      "\n"
     ]
    }
   ],
   "source": [
    "for i, ex in enumerate(all_samples):\n",
    "    for d in ex['trace_results']:\n",
    "        _comp = d['compare']['correctness_compare']\n",
    "#         if _comp in {'scc+', 'clean+'}:\n",
    "        if (_comp == 'scc+') and (d['category']['node_role'] != 'join'):\n",
    "            print(f'#{i}:', d['enc_sentence'])\n",
    "            print('SQL:', d['dec_prompt'], '-->', d['expect'])\n",
    "            print('Clean:', d['answer'])\n",
    "            print('SCC:', d['scc_answer'])\n",
    "            print('COMP:', d['compare']['correctness_compare'])\n",
    "            print()"
   ]
  },
  {
   "cell_type": "code",
   "execution_count": 226,
   "metadata": {},
   "outputs": [
    {
     "data": {
      "text/plain": [
       "Counter({'join': 83, 'from': 40})"
      ]
     },
     "execution_count": 226,
     "metadata": {},
     "output_type": "execute_result"
    }
   ],
   "source": [
    "_clean_node_role_cnt = Counter()\n",
    "# TODO: make a larger counter: {comp -> category_k -> category_v -> count}\n",
    "\n",
    "for i, ex in enumerate(all_samples):\n",
    "    for d in ex['trace_results']:\n",
    "        if d['compare']['correctness_compare'] == 'clean+':\n",
    "            _role = d['category']['node_role']\n",
    "            _clean_node_role_cnt[_role] += 1\n",
    "\n",
    "_clean_node_role_cnt"
   ]
  },
  {
   "cell_type": "code",
   "execution_count": 227,
   "metadata": {},
   "outputs": [
    {
     "data": {
      "text/plain": [
       "Counter({'from': 73, 'join': 32})"
      ]
     },
     "execution_count": 227,
     "metadata": {},
     "output_type": "execute_result"
    }
   ],
   "source": [
    "_scc_node_role_cnt = Counter()\n",
    "\n",
    "for i, ex in enumerate(all_samples):\n",
    "    for d in ex['trace_results']:\n",
    "        if d['compare']['correctness_compare'] == 'scc+':\n",
    "            _role = d['category']['node_role']\n",
    "            _scc_node_role_cnt[_role] += 1\n",
    "\n",
    "_scc_node_role_cnt"
   ]
  },
  {
   "cell_type": "markdown",
   "metadata": {},
   "source": [
    "### Exp-4: inspect attention"
   ]
  },
  {
   "cell_type": "code",
   "execution_count": 20,
   "metadata": {},
   "outputs": [
    {
     "data": {
      "text/plain": [
       "104"
      ]
     },
     "execution_count": 20,
     "metadata": {},
     "output_type": "execute_result"
    }
   ],
   "source": [
    "res_path = '/home/yshao/Projects/rome/results/exp4_inspect_attention/exp=4_dev_column_both.jsonl'\n",
    "\n",
    "with open(res_path, 'r') as f:\n",
    "    all_samples = [json.loads(l) for l in f]\n",
    "len(all_samples)"
   ]
  },
  {
   "cell_type": "code",
   "execution_count": 21,
   "metadata": {},
   "outputs": [
    {
     "data": {
      "text/plain": [
       "dict_keys(['enc_sentence', 'seq_out', 'dec_prompt', 'expect', 'expect_type', 'db_id', 'expect_input_ranges', 'expect_table', 'category', 'answer', 'probs', 'base_score', 'answers_t', 'correct_prediction', 'attentions'])"
      ]
     },
     "execution_count": 21,
     "metadata": {},
     "output_type": "execute_result"
    }
   ],
   "source": [
    "all_samples[1]['trace_results'][0].keys()"
   ]
  },
  {
   "cell_type": "code",
   "execution_count": 22,
   "metadata": {},
   "outputs": [
    {
     "data": {
      "text/plain": [
       "(\"What are the students' first names who have both cats and dogs as pets?; structed knowledge: | pets_1 | student : stuid , lname , fname , age , sex , major , advisor , city_code | has_pet : stuid , petid | pets : petid , pettype ( dog , cat ) , pet_age , weight\",\n",
       " 'select t1.',\n",
       " 'fname')"
      ]
     },
     "execution_count": 22,
     "metadata": {},
     "output_type": "execute_result"
    }
   ],
   "source": [
    "d = all_samples[6]['trace_results'][0]\n",
    "d['enc_sentence'], d['dec_prompt'], d['expect']"
   ]
  },
  {
   "cell_type": "code",
   "execution_count": 23,
   "metadata": {},
   "outputs": [
    {
     "data": {
      "text/plain": [
       "(dict_keys(['enc_sentence', 'seq_out', 'dec_prompt', 'expect', 'expect_type', 'db_id', 'expect_input_ranges', 'expect_table', 'category', 'answer', 'probs', 'base_score', 'answers_t', 'correct_prediction', 'attentions']),\n",
       " dict_keys(['enc', 'cross', 'dec']),\n",
       " dict_keys(['attn', 'head_tokens', 'cand_tokens']))"
      ]
     },
     "execution_count": 23,
     "metadata": {},
     "output_type": "execute_result"
    }
   ],
   "source": [
    "d.keys(), d['attentions'].keys(), d['attentions']['enc'].keys()"
   ]
  },
  {
   "cell_type": "markdown",
   "metadata": {},
   "source": [
    "#### Plotting"
   ]
  },
  {
   "cell_type": "code",
   "execution_count": 24,
   "metadata": {},
   "outputs": [],
   "source": [
    "def _draw_single_plot_2(ax, val_mat, x_labels=None, y_labels=None, title=None):\n",
    "    \"\"\"\n",
    "    X: # heads\n",
    "    Y: cand tokens\n",
    "    Title: head token (together with full expect)\n",
    "    \"\"\"\n",
    "    if isinstance(val_mat, list):\n",
    "        val_mat = numpy.array(val_mat)\n",
    "    h = ax.pcolormesh(\n",
    "        val_mat,\n",
    "        cmap=\"Reds\",\n",
    "        vmax=1.0,\n",
    "        vmin=0.0,\n",
    "    )\n",
    "    ax.invert_yaxis()\n",
    "    ax.set_yticks([0.5 + i for i in range(val_mat.shape[0])])\n",
    "    ax.set_xticks([0.5 + i for i in range(val_mat.shape[1])])\n",
    "    if x_labels is not None:\n",
    "        ax.set_xticklabels(x_labels, fontsize=8)\n",
    "    if y_labels is not None:\n",
    "        ax.set_yticklabels(y_labels, fontsize=8)\n",
    "\n",
    "    if title is not None:\n",
    "        ax.set_title(title)\n",
    "    ax.set_xlabel(f\"# Head\")\n",
    "    ax.set_ylabel(f\"Attention candidate tokens\")\n",
    "    \n",
    "    # cb = plt.colorbar(h)\n",
    "    # divider = make_axes_locatable(ax)\n",
    "    # cax = divider.append_axes('right', size='5%', pad=0.05)\n",
    "    # cb = fig.colorbar(h, cax=cax)\n",
    "    cb = plt.colorbar(h, ax=ax)\n",
    "\n",
    "#     if xlabel is not None:\n",
    "#         ax.set_xlabel(xlabel)\n",
    "#     elif answer is not None:\n",
    "#         # The following should be cb.ax.set_xlabel, but this is broken in matplotlib 3.5.1.\n",
    "#         cb.ax.set_title(f\"p({str(answer).strip()})\", y=-0.16, fontsize=10)"
   ]
  },
  {
   "cell_type": "code",
   "execution_count": 25,
   "metadata": {},
   "outputs": [],
   "source": [
    "def plot_uskg_attention(d, att_part, savepdf=None):\n",
    "    \"\"\"\n",
    "    Assume 16 heads, 24 layers (T5 large config)\n",
    "    \n",
    "    att_part: enc, cross, dec \n",
    "    \"\"\"\n",
    "    \n",
    "    ## encoder self attention \n",
    "    inspect_layers = [0, 6, 12, 18, 23]\n",
    "    att_dict = d['attentions'][att_part]\n",
    "    \n",
    "    cand_len = len(att_dict['cand_tokens'])\n",
    "    head_len = len(att_dict['head_tokens'])\n",
    "    prompt_tokens = d['attentions']['dec']['cand_tokens']\n",
    "    prompt_len = len(prompt_tokens)\n",
    "\n",
    "    fig_w = 22\n",
    "    fig_h = (0.11*cand_len + 1) * head_len + 2\n",
    "    fig, ax_list = plt.subplots(\n",
    "        nrows=head_len,\n",
    "        ncols=len(inspect_layers),\n",
    "        squeeze=False,\n",
    "        figsize=(fig_w, fig_h))\n",
    "\n",
    "    att_mat = ctu.nested_list_processing(att_dict['attn'], func=float)\n",
    "    att_mat = np.array(att_mat)\n",
    "    \n",
    "    for expect_i in range(len(att_dict['head_tokens'])):\n",
    "        for l_id, layer in enumerate(inspect_layers):\n",
    "            val_mat = att_mat[layer, :, expect_i, :]  # layer, all heads, expect tok i -> all toks \n",
    "            val_mat = val_mat.transpose()    # (cand_toks, n_heads)\n",
    "            x_labels = range(val_mat.shape[1])\n",
    "            y_labels = att_dict['cand_tokens']\n",
    "            if att_part == 'enc':\n",
    "                # enc: correct tokens\n",
    "                title_toks = att_dict['head_tokens'][:expect_i] + [f\"*{att_dict['head_tokens'][expect_i]}*\"]\n",
    "            else:\n",
    "                # cross / dec: use gold tokens from dec_prompt for previous steps and predicted token at this step\n",
    "                # (dec_prompt ends with the first (head_len-1) tokens of the target node)\n",
    "                title_toks = prompt_tokens[prompt_len - (head_len-1) : prompt_len - (head_len-1) + expect_i] + [f\"*{att_dict['head_tokens'][expect_i]}*\"]\n",
    "            \n",
    "            title = f\"L{layer}  Head token: {' '.join(title_toks)}\\n\"\n",
    "            \n",
    "            ax = ax_list[expect_i, l_id]\n",
    "            _draw_single_plot_2(ax,\n",
    "                                val_mat=val_mat, \n",
    "                                x_labels=x_labels, \n",
    "                                y_labels=y_labels,\n",
    "                                title=title)\n",
    "            \n",
    "    fig.tight_layout()\n",
    "    if savepdf:\n",
    "        plt.savefig(savepdf, bbox_inches=\"tight\")\n",
    "        plt.close()\n",
    "    else:\n",
    "        plt.show()"
   ]
  },
  {
   "cell_type": "code",
   "execution_count": null,
   "metadata": {},
   "outputs": [],
   "source": [
    "# savepdf_tmpl = '/home/yshao/Projects/rome/results/figs/exp4_inspect_attention/tmp-6-{}.pdf'\n",
    "# for att_part in ['enc', 'cross', 'dec']:\n",
    "#     plot_uskg_attention(d, att_part, savepdf=savepdf_tmpl.format(att_part))"
   ]
  },
  {
   "cell_type": "code",
   "execution_count": 27,
   "metadata": {},
   "outputs": [
    {
     "data": {
      "application/vnd.jupyter.widget-view+json": {
       "model_id": "3f94b44e193545fca523609ccac0151b",
       "version_major": 2,
       "version_minor": 0
      },
      "text/plain": [
       "  0%|          | 0/104 [00:00<?, ?it/s]"
      ]
     },
     "metadata": {},
     "output_type": "display_data"
    }
   ],
   "source": [
    "## Run for all! \n",
    "\n",
    "fig_dir  = '/home/yshao/Projects/rome/results/figs/exp4_inspect_attention/dev_column'\n",
    "os.makedirs(fig_dir, exist_ok=True)\n",
    "\n",
    "global_ex_id = 0\n",
    "for ex_id in tqdm(range(len(all_samples))):\n",
    "    for a_ex_id in range(len(all_samples[ex_id]['trace_results'])):\n",
    "        d = all_samples[ex_id]['trace_results'][a_ex_id]\n",
    "        for att_part in ['enc', 'cross', 'dec']:\n",
    "            savepdf_path = os.path.join(fig_dir, f'{global_ex_id}-ex={ex_id}.{a_ex_id}-{att_part}.pdf')\n",
    "            plot_uskg_attention(d, att_part, savepdf=savepdf_path)\n",
    "        # print(f'{global_ex_id}-ex={ex_id}.{a_ex_id}')\n",
    "        global_ex_id += 1"
   ]
  },
  {
   "cell_type": "markdown",
   "metadata": {},
   "source": [
    "#### Exp-4.0.1: Prefix attention samples\n",
    "- Check the samples with high attention on a given layer & head & prefix token\n",
    "- Haven't found any insights..."
   ]
  },
  {
   "cell_type": "code",
   "execution_count": 63,
   "metadata": {},
   "outputs": [
    {
     "data": {
      "text/plain": [
       "(198, 680)"
      ]
     },
     "execution_count": 63,
     "metadata": {},
     "output_type": "execute_result"
    }
   ],
   "source": [
    "total_a_ex = 0\n",
    "total_tok_sample = 0\n",
    "\n",
    "for ex_id in (range(len(all_samples))):\n",
    "    for a_ex_id in range(len(all_samples[ex_id]['trace_results'])):\n",
    "        d = all_samples[ex_id]['trace_results'][a_ex_id]\n",
    "        _expect_len = len([i for s, e in d['expect_input_ranges'] for i in range(s, e)])\n",
    "        \n",
    "        total_a_ex += 1\n",
    "        total_tok_sample += _expect_len\n",
    "\n",
    "total_a_ex, total_tok_sample"
   ]
  },
  {
   "cell_type": "code",
   "execution_count": 57,
   "metadata": {},
   "outputs": [
    {
     "data": {
      "text/plain": [
       "(\"What are the students' first names who have both cats and dogs as pets?; structed knowledge: | pets_1 | student : stuid , lname , fname , age , sex , major , advisor , city_code | has_pet : stuid , petid | pets : petid , pettype ( dog , cat ) , pet_age , weight\",\n",
       " 'select t1.',\n",
       " 'fname')"
      ]
     },
     "execution_count": 57,
     "metadata": {},
     "output_type": "execute_result"
    }
   ],
   "source": [
    "d = all_samples[6]['trace_results'][0]\n",
    "d['enc_sentence'], d['dec_prompt'], d['expect']"
   ]
  },
  {
   "cell_type": "code",
   "execution_count": 61,
   "metadata": {},
   "outputs": [
    {
     "data": {
      "text/plain": [
       "([[41, 44]], 3)"
      ]
     },
     "execution_count": 61,
     "metadata": {},
     "output_type": "execute_result"
    }
   ],
   "source": [
    "_expect_len = len([i for s, e in d['expect_input_ranges'] for i in range(s, e)])\n",
    "d['expect_input_ranges'], _expect_len"
   ]
  },
  {
   "cell_type": "code",
   "execution_count": 52,
   "metadata": {},
   "outputs": [
    {
     "data": {
      "application/vnd.jupyter.widget-view+json": {
       "model_id": "11e8f3eab2c3411087afc827f49d7745",
       "version_major": 2,
       "version_minor": 0
      },
      "text/plain": [
       "  0%|          | 0/104 [00:00<?, ?it/s]"
      ]
     },
     "metadata": {},
     "output_type": "display_data"
    }
   ],
   "source": [
    "enc_prefix_att_samples = defaultdict(list)  # [(l_id, head_id, prefix_id) -> [dict(ex_id, a_ex_id, tok_id, ...)]]\n",
    "\n",
    "for ex_id in tqdm(range(len(all_samples))):\n",
    "    for a_ex_id in range(len(all_samples[ex_id]['trace_results'])):\n",
    "# for ex_id in [6]:\n",
    "#     for a_ex_id in [0]:\n",
    "        d = all_samples[ex_id]['trace_results'][a_ex_id]\n",
    "        \n",
    "        att_mat = ctu.nested_list_processing(d['attentions']['enc']['attn'], func=float)\n",
    "        # att_mat: (n_layers, n_heads, n_expect_toks, n_input_toks)\n",
    "        att_mat = np.array(att_mat)\n",
    "        n_layers, n_heads, n_expect_toks, n_input_toks = att_mat.shape\n",
    "        \n",
    "        # (n_layers, n_heads, expect_toks)\n",
    "#         input_att_positions = np.argmax(att_mat, axis=-1)\n",
    "#         for l_id in range(n_layers):\n",
    "#             for h_id in range(n_heads):\n",
    "#                 for tok_id in range(n_expect_toks):\n",
    "#                     _max_att_p = input_att_positions[l_id, h_id, tok_id]\n",
    "\n",
    "        input_att_positions = np.where(att_mat > 0.5)\n",
    "        for l_id, h_id, tok_id, _max_att_p in zip(*input_att_positions):\n",
    "            if _max_att_p < 10:\n",
    "                # is prefix \n",
    "                enc_prefix_att_samples[(l_id, h_id, _max_att_p)].append({\n",
    "                    'ex_id': ex_id,\n",
    "                    'a_ex_id': a_ex_id,\n",
    "                    'expect_tok_id': tok_id,\n",
    "                    'enc_sentence': d['enc_sentence'],\n",
    "                    'dec_prompt': d['dec_prompt'],\n",
    "                    'expect': d['expect'],\n",
    "                })"
   ]
  },
  {
   "cell_type": "code",
   "execution_count": 53,
   "metadata": {},
   "outputs": [
    {
     "data": {
      "text/plain": [
       "1873"
      ]
     },
     "execution_count": 53,
     "metadata": {},
     "output_type": "execute_result"
    }
   ],
   "source": [
    "len(enc_prefix_att_samples)"
   ]
  },
  {
   "cell_type": "code",
   "execution_count": 54,
   "metadata": {},
   "outputs": [
    {
     "data": {
      "text/plain": [
       "[(1, 270),\n",
       " (2, 214),\n",
       " (3, 139),\n",
       " (4, 127),\n",
       " (5, 92),\n",
       " (6, 92),\n",
       " (7, 59),\n",
       " (8, 61),\n",
       " (9, 48),\n",
       " (10, 42),\n",
       " (11, 47),\n",
       " (12, 37),\n",
       " (13, 43),\n",
       " (14, 42),\n",
       " (15, 31),\n",
       " (16, 32),\n",
       " (17, 29),\n",
       " (18, 28),\n",
       " (19, 14),\n",
       " (20, 17),\n",
       " (21, 14),\n",
       " (22, 16),\n",
       " (23, 13),\n",
       " (24, 15),\n",
       " (25, 16),\n",
       " (26, 14),\n",
       " (27, 26),\n",
       " (28, 7),\n",
       " (29, 15),\n",
       " (30, 16),\n",
       " (31, 10),\n",
       " (32, 9),\n",
       " (33, 4),\n",
       " (34, 7),\n",
       " (35, 9),\n",
       " (36, 8),\n",
       " (37, 8),\n",
       " (38, 15),\n",
       " (39, 9),\n",
       " (40, 5),\n",
       " (41, 9),\n",
       " (42, 5),\n",
       " (43, 1),\n",
       " (44, 10),\n",
       " (45, 3),\n",
       " (46, 2),\n",
       " (47, 2),\n",
       " (48, 5),\n",
       " (49, 8),\n",
       " (50, 1),\n",
       " (51, 4),\n",
       " (52, 1),\n",
       " (53, 3),\n",
       " (54, 4),\n",
       " (55, 4),\n",
       " (57, 2),\n",
       " (58, 1),\n",
       " (59, 1),\n",
       " (60, 5),\n",
       " (61, 4),\n",
       " (62, 1),\n",
       " (63, 3),\n",
       " (64, 3),\n",
       " (65, 4),\n",
       " (66, 3),\n",
       " (67, 3),\n",
       " (68, 4),\n",
       " (70, 3),\n",
       " (71, 2),\n",
       " (72, 1),\n",
       " (73, 5),\n",
       " (74, 1),\n",
       " (76, 3),\n",
       " (77, 2),\n",
       " (78, 1),\n",
       " (79, 2),\n",
       " (80, 1),\n",
       " (81, 1),\n",
       " (82, 2),\n",
       " (83, 2),\n",
       " (84, 1),\n",
       " (85, 3),\n",
       " (86, 4),\n",
       " (87, 2),\n",
       " (88, 1),\n",
       " (89, 1),\n",
       " (90, 2),\n",
       " (92, 1),\n",
       " (94, 2),\n",
       " (95, 1),\n",
       " (96, 2),\n",
       " (97, 2),\n",
       " (98, 3),\n",
       " (99, 1),\n",
       " (100, 1),\n",
       " (102, 1),\n",
       " (105, 1),\n",
       " (107, 1),\n",
       " (109, 1),\n",
       " (110, 3),\n",
       " (111, 1),\n",
       " (113, 1),\n",
       " (114, 1),\n",
       " (117, 1),\n",
       " (124, 1),\n",
       " (125, 1),\n",
       " (126, 1),\n",
       " (129, 1),\n",
       " (131, 1),\n",
       " (136, 1),\n",
       " (140, 1),\n",
       " (145, 1),\n",
       " (177, 1),\n",
       " (192, 1),\n",
       " (198, 1),\n",
       " (220, 1),\n",
       " (235, 1)]"
      ]
     },
     "execution_count": 54,
     "metadata": {},
     "output_type": "execute_result"
    }
   ],
   "source": [
    "len_profile_counter = Counter([len(v) for k, v in enc_prefix_att_samples.items()])\n",
    "sorted(len_profile_counter.items())"
   ]
  },
  {
   "cell_type": "code",
   "execution_count": 55,
   "metadata": {},
   "outputs": [
    {
     "name": "stdout",
     "output_type": "stream",
     "text": [
      "(18, 5, 4) 192\n",
      "(18, 6, 2) 145\n",
      "(20, 0, 7) 136\n",
      "(20, 4, 8) 198\n",
      "(23, 7, 0) 125\n",
      "(8, 5, 0) 140\n",
      "(15, 5, 4) 235\n",
      "(17, 1, 9) 220\n",
      "(19, 10, 1) 177\n",
      "(21, 12, 5) 131\n",
      "(3, 4, 8) 126\n",
      "(11, 8, 4) 124\n",
      "(21, 0, 1) 129\n"
     ]
    }
   ],
   "source": [
    "for k, v in enc_prefix_att_samples.items():\n",
    "    if len(v) > 120:\n",
    "        print(k, len(v))"
   ]
  },
  {
   "cell_type": "code",
   "execution_count": 56,
   "metadata": {
    "scrolled": true
   },
   "outputs": [
    {
     "data": {
      "text/plain": [
       "[{'ex_id': 1,\n",
       "  'a_ex_id': 0,\n",
       "  'expect_tok_id': 0,\n",
       "  'enc_sentence': 'Show all countries and the number of singers in each country.; structed knowledge: | concert_singer | stadium : stadium_id , location , name , capacity , highest , lowest , average | singer : singer_id , name , country , song_name , song_release_year , age , is_male | concert : concert_id , concert_name , theme , stadium_id , year | singer_in_concert : concert_id , singer_id',\n",
       "  'dec_prompt': 'select',\n",
       "  'expect': 'country'},\n",
       " {'ex_id': 1,\n",
       "  'a_ex_id': 1,\n",
       "  'expect_tok_id': 0,\n",
       "  'enc_sentence': 'Show all countries and the number of singers in each country.; structed knowledge: | concert_singer | stadium : stadium_id , location , name , capacity , highest , lowest , average | singer : singer_id , name , country , song_name , song_release_year , age , is_male | concert : concert_id , concert_name , theme , stadium_id , year | singer_in_concert : concert_id , singer_id',\n",
       "  'dec_prompt': 'select country, count(*) from singer group by',\n",
       "  'expect': 'country'},\n",
       " {'ex_id': 2,\n",
       "  'a_ex_id': 0,\n",
       "  'expect_tok_id': 0,\n",
       "  'enc_sentence': 'How many concerts are there in year 2014 or 2015?; structed knowledge: | concert_singer | stadium : stadium_id , location , name , capacity , highest , lowest , average | singer : singer_id , name , country , song_name , song_release_year , age , is_male | concert : concert_id , concert_name , theme , stadium_id , year | singer_in_concert : concert_id , singer_id',\n",
       "  'dec_prompt': 'select count(*) from concert where',\n",
       "  'expect': 'year'},\n",
       " {'ex_id': 2,\n",
       "  'a_ex_id': 1,\n",
       "  'expect_tok_id': 0,\n",
       "  'enc_sentence': 'How many concerts are there in year 2014 or 2015?; structed knowledge: | concert_singer | stadium : stadium_id , location , name , capacity , highest , lowest , average | singer : singer_id , name , country , song_name , song_release_year , age , is_male | concert : concert_id , concert_name , theme , stadium_id , year | singer_in_concert : concert_id , singer_id',\n",
       "  'dec_prompt': 'select count(*) from concert where year = 2014 or',\n",
       "  'expect': 'year'},\n",
       " {'ex_id': 3,\n",
       "  'a_ex_id': 0,\n",
       "  'expect_tok_id': 0,\n",
       "  'enc_sentence': 'Show countries where a singer above age 40 and a singer below 30 are from.; structed knowledge: | concert_singer | stadium : stadium_id , location , name , capacity , highest , lowest , average | singer : singer_id , name , country , song_name , song_release_year , age , is_male | concert : concert_id , concert_name , theme , stadium_id , year | singer_in_concert : concert_id , singer_id',\n",
       "  'dec_prompt': 'select',\n",
       "  'expect': 'country'},\n",
       " {'ex_id': 3,\n",
       "  'a_ex_id': 1,\n",
       "  'expect_tok_id': 0,\n",
       "  'enc_sentence': 'Show countries where a singer above age 40 and a singer below 30 are from.; structed knowledge: | concert_singer | stadium : stadium_id , location , name , capacity , highest , lowest , average | singer : singer_id , name , country , song_name , song_release_year , age , is_male | concert : concert_id , concert_name , theme , stadium_id , year | singer_in_concert : concert_id , singer_id',\n",
       "  'dec_prompt': 'select country from singer where age > 40 intersect select',\n",
       "  'expect': 'country'},\n",
       " {'ex_id': 3,\n",
       "  'a_ex_id': 2,\n",
       "  'expect_tok_id': 0,\n",
       "  'enc_sentence': 'Show countries where a singer above age 40 and a singer below 30 are from.; structed knowledge: | concert_singer | stadium : stadium_id , location , name , capacity , highest , lowest , average | singer : singer_id , name , country , song_name , song_release_year , age , is_male | concert : concert_id , concert_name , theme , stadium_id , year | singer_in_concert : concert_id , singer_id',\n",
       "  'dec_prompt': 'select country from singer where',\n",
       "  'expect': 'age'},\n",
       " {'ex_id': 3,\n",
       "  'a_ex_id': 3,\n",
       "  'expect_tok_id': 0,\n",
       "  'enc_sentence': 'Show countries where a singer above age 40 and a singer below 30 are from.; structed knowledge: | concert_singer | stadium : stadium_id , location , name , capacity , highest , lowest , average | singer : singer_id , name , country , song_name , song_release_year , age , is_male | concert : concert_id , concert_name , theme , stadium_id , year | singer_in_concert : concert_id , singer_id',\n",
       "  'dec_prompt': 'select country from singer where age > 40 intersect select country from singer where',\n",
       "  'expect': 'age'},\n",
       " {'ex_id': 4,\n",
       "  'a_ex_id': 0,\n",
       "  'expect_tok_id': 0,\n",
       "  'enc_sentence': \"What is the name and country of origin of every singer who has a song with the word 'Hey' in its title?; structed knowledge: | concert_singer | stadium : stadium_id , location , name , capacity , highest , lowest , average | singer : singer_id , name , country , song_name , song_release_year , age , is_male | concert : concert_id , concert_name , theme , stadium_id , year | singer_in_concert : concert_id , singer_id\",\n",
       "  'dec_prompt': 'select name,',\n",
       "  'expect': 'country'},\n",
       " {'ex_id': 5,\n",
       "  'a_ex_id': 0,\n",
       "  'expect_tok_id': 0,\n",
       "  'enc_sentence': 'List the maximum weight and type for each type of pet.; structed knowledge: | pets_1 | student : stuid , lname , fname , age , sex , major , advisor , city_code | has_pet : stuid , petid | pets : petid , pettype , pet_age , weight',\n",
       "  'dec_prompt': 'select max(',\n",
       "  'expect': 'weight'},\n",
       " {'ex_id': 6,\n",
       "  'a_ex_id': 0,\n",
       "  'expect_tok_id': 1,\n",
       "  'enc_sentence': \"What are the students' first names who have both cats and dogs as pets?; structed knowledge: | pets_1 | student : stuid , lname , fname , age , sex , major , advisor , city_code | has_pet : stuid , petid | pets : petid , pettype ( dog , cat ) , pet_age , weight\",\n",
       "  'dec_prompt': 'select t1.',\n",
       "  'expect': 'fname'},\n",
       " {'ex_id': 6,\n",
       "  'a_ex_id': 1,\n",
       "  'expect_tok_id': 1,\n",
       "  'enc_sentence': \"What are the students' first names who have both cats and dogs as pets?; structed knowledge: | pets_1 | student : stuid , lname , fname , age , sex , major , advisor , city_code | has_pet : stuid , petid | pets : petid , pettype ( dog , cat ) , pet_age , weight\",\n",
       "  'dec_prompt': \"select t1.fname from student as t1 join has_pet as t2 on t1.stuid = t2.stuid join pets as t3 on t3.petid = t2.petid where t3.pettype = 'cat' intersect select t1.\",\n",
       "  'expect': 'fname'},\n",
       " {'ex_id': 6,\n",
       "  'a_ex_id': 2,\n",
       "  'expect_tok_id': 1,\n",
       "  'enc_sentence': \"What are the students' first names who have both cats and dogs as pets?; structed knowledge: | pets_1 | student : stuid , lname , fname , age , sex , major , advisor , city_code | has_pet : stuid , petid | pets : petid , pettype ( dog , cat ) , pet_age , weight\",\n",
       "  'dec_prompt': 'select t1.fname from student as t1 join has_pet as t2 on t1.stuid = t2.stuid join pets as t3 on t3.petid = t2.petid where t3.',\n",
       "  'expect': 'pettype'},\n",
       " {'ex_id': 6,\n",
       "  'a_ex_id': 3,\n",
       "  'expect_tok_id': 1,\n",
       "  'enc_sentence': \"What are the students' first names who have both cats and dogs as pets?; structed knowledge: | pets_1 | student : stuid , lname , fname , age , sex , major , advisor , city_code | has_pet : stuid , petid | pets : petid , pettype ( dog , cat ) , pet_age , weight\",\n",
       "  'dec_prompt': \"select t1.fname from student as t1 join has_pet as t2 on t1.stuid = t2.stuid join pets as t3 on t3.petid = t2.petid where t3.pettype = 'cat' intersect select t1.fname from student as t1 join has_pet as t2 on t1.stuid = t2.stuid join pets as t3 on t3.petid = t2.petid where t3.\",\n",
       "  'expect': 'pettype'},\n",
       " {'ex_id': 7,\n",
       "  'a_ex_id': 0,\n",
       "  'expect_tok_id': 0,\n",
       "  'enc_sentence': 'What is the id and weight of every pet who is older than 1?; structed knowledge: | pets_1 | student : stuid , lname , fname , age , sex , major , advisor , city_code | has_pet : stuid , petid | pets : petid , pettype , pet_age , weight',\n",
       "  'dec_prompt': 'select petid,',\n",
       "  'expect': 'weight'},\n",
       " {'ex_id': 10,\n",
       "  'a_ex_id': 0,\n",
       "  'expect_tok_id': 0,\n",
       "  'enc_sentence': 'What is the name of the different car makers who produced a car in 1970?; structed knowledge: | car_1 | continents : contid , continent | countries : countryid , countryname , continent | car_makers : id , maker , fullname , country | model_list : modelid , maker , model | car_names : makeid , model , make | cars_data : id , mpg , cylinders , edispl , horsepower , weight , accelerate , year',\n",
       "  'dec_prompt': 'select distinct t1.maker from car_makers as t1 join model_list as t2 on t1.id = t2.maker join car_names as t3 on t2.model = t3.model join cars_data as t4 on t3.makeid = t4.id where t4.',\n",
       "  'expect': 'year'},\n",
       " {'ex_id': 10,\n",
       "  'a_ex_id': 1,\n",
       "  'expect_tok_id': 0,\n",
       "  'enc_sentence': 'What is the name of the different car makers who produced a car in 1970?; structed knowledge: | car_1 | continents : contid , continent | countries : countryid , countryname , continent | car_makers : id , maker , fullname , country | model_list : modelid , maker , model | car_names : makeid , model , make | cars_data : id , mpg , cylinders , edispl , horsepower , weight , accelerate , year',\n",
       "  'dec_prompt': 'select distinct t1.maker from car_makers as t1 join model_list as t2 on t1.id = t2.maker join car_names as t3 on t2.model = t3.model join cars_data as t4 on t3.',\n",
       "  'expect': 'makeid'},\n",
       " {'ex_id': 12,\n",
       "  'a_ex_id': 0,\n",
       "  'expect_tok_id': 0,\n",
       "  'enc_sentence': 'What is the minimum weight of the car with 8 cylinders produced in 1974 ?; structed knowledge: | car_1 | continents : contid , continent | countries : countryid , countryname , continent | car_makers : id , maker , fullname , country | model_list : modelid , maker , model | car_names : makeid , model , make | cars_data : id , mpg , cylinders , edispl , horsepower , weight , accelerate , year',\n",
       "  'dec_prompt': 'select min(',\n",
       "  'expect': 'weight'},\n",
       " {'ex_id': 12,\n",
       "  'a_ex_id': 1,\n",
       "  'expect_tok_id': 1,\n",
       "  'enc_sentence': 'What is the minimum weight of the car with 8 cylinders produced in 1974 ?; structed knowledge: | car_1 | continents : contid , continent | countries : countryid , countryname , continent | car_makers : id , maker , fullname , country | model_list : modelid , maker , model | car_names : makeid , model , make | cars_data : id , mpg , cylinders , edispl , horsepower , weight , accelerate , year',\n",
       "  'dec_prompt': 'select min(weight) from cars_data where',\n",
       "  'expect': 'cylinders'},\n",
       " {'ex_id': 12,\n",
       "  'a_ex_id': 2,\n",
       "  'expect_tok_id': 0,\n",
       "  'enc_sentence': 'What is the minimum weight of the car with 8 cylinders produced in 1974 ?; structed knowledge: | car_1 | continents : contid , continent | countries : countryid , countryname , continent | car_makers : id , maker , fullname , country | model_list : modelid , maker , model | car_names : makeid , model , make | cars_data : id , mpg , cylinders , edispl , horsepower , weight , accelerate , year',\n",
       "  'dec_prompt': 'select min(weight) from cars_data where cylinders = 8 and',\n",
       "  'expect': 'year'},\n",
       " {'ex_id': 13,\n",
       "  'a_ex_id': 0,\n",
       "  'expect_tok_id': 0,\n",
       "  'enc_sentence': 'What are the names of all European countries with at least 3 manufacturers?; structed knowledge: | car_1 | continents : contid , continent ( europe ) | countries : countryid , countryname , continent | car_makers : id , maker , fullname , country | model_list : modelid , maker , model | car_names : makeid , model , make | cars_data : id , mpg , cylinders , edispl , horsepower , weight , accelerate , year',\n",
       "  'dec_prompt': 'select t1.countryname from countries as t1 join continents as t2 on t1.continent = t2.contid join car_makers as t3 on t1.countryid = t3.',\n",
       "  'expect': 'country'},\n",
       " {'ex_id': 14,\n",
       "  'a_ex_id': 0,\n",
       "  'expect_tok_id': 0,\n",
       "  'enc_sentence': 'What is the maximum accelerate for all the different cylinders?; structed knowledge: | car_1 | continents : contid , continent | countries : countryid , countryname , continent | car_makers : id , maker , fullname , country | model_list : modelid , maker , model | car_names : makeid , model , make | cars_data : id , mpg , cylinders , edispl , horsepower , weight , accelerate , year',\n",
       "  'dec_prompt': 'select max(',\n",
       "  'expect': 'accelerate'},\n",
       " {'ex_id': 14,\n",
       "  'a_ex_id': 1,\n",
       "  'expect_tok_id': 1,\n",
       "  'enc_sentence': 'What is the maximum accelerate for all the different cylinders?; structed knowledge: | car_1 | continents : contid , continent | countries : countryid , countryname , continent | car_makers : id , maker , fullname , country | model_list : modelid , maker , model | car_names : makeid , model , make | cars_data : id , mpg , cylinders , edispl , horsepower , weight , accelerate , year',\n",
       "  'dec_prompt': 'select max(accelerate),',\n",
       "  'expect': 'cylinders'},\n",
       " {'ex_id': 14,\n",
       "  'a_ex_id': 2,\n",
       "  'expect_tok_id': 1,\n",
       "  'enc_sentence': 'What is the maximum accelerate for all the different cylinders?; structed knowledge: | car_1 | continents : contid , continent | countries : countryid , countryname , continent | car_makers : id , maker , fullname , country | model_list : modelid , maker , model | car_names : makeid , model , make | cars_data : id , mpg , cylinders , edispl , horsepower , weight , accelerate , year',\n",
       "  'dec_prompt': 'select max(accelerate), cylinders from cars_data group by',\n",
       "  'expect': 'cylinders'},\n",
       " {'ex_id': 16,\n",
       "  'a_ex_id': 0,\n",
       "  'expect_tok_id': 0,\n",
       "  'enc_sentence': 'What is the number of cars with a greater accelerate than the one with the most horsepower?; structed knowledge: | car_1 | continents : contid , continent | countries : countryid , countryname , continent | car_makers : id , maker , fullname , country | model_list : modelid , maker , model | car_names : makeid , model , make | cars_data : id , mpg , cylinders , edispl , horsepower , weight , accelerate , year',\n",
       "  'dec_prompt': 'select count(*) from cars_data where',\n",
       "  'expect': 'accelerate'},\n",
       " {'ex_id': 16,\n",
       "  'a_ex_id': 1,\n",
       "  'expect_tok_id': 0,\n",
       "  'enc_sentence': 'What is the number of cars with a greater accelerate than the one with the most horsepower?; structed knowledge: | car_1 | continents : contid , continent | countries : countryid , countryname , continent | car_makers : id , maker , fullname , country | model_list : modelid , maker , model | car_names : makeid , model , make | cars_data : id , mpg , cylinders , edispl , horsepower , weight , accelerate , year',\n",
       "  'dec_prompt': 'select count(*) from cars_data where accelerate > ( select',\n",
       "  'expect': 'accelerate'},\n",
       " {'ex_id': 17,\n",
       "  'a_ex_id': 0,\n",
       "  'expect_tok_id': 0,\n",
       "  'enc_sentence': 'What is the maximum mpg of the cars that had 8 cylinders or that were produced before 1980 ?; structed knowledge: | car_1 | continents : contid , continent | countries : countryid , countryname , continent | car_makers : id , maker , fullname , country | model_list : modelid , maker , model | car_names : makeid , model , make | cars_data : id , mpg , cylinders , edispl , horsepower , weight , accelerate , year',\n",
       "  'dec_prompt': 'select max(',\n",
       "  'expect': 'mpg'},\n",
       " {'ex_id': 17,\n",
       "  'a_ex_id': 0,\n",
       "  'expect_tok_id': 1,\n",
       "  'enc_sentence': 'What is the maximum mpg of the cars that had 8 cylinders or that were produced before 1980 ?; structed knowledge: | car_1 | continents : contid , continent | countries : countryid , countryname , continent | car_makers : id , maker , fullname , country | model_list : modelid , maker , model | car_names : makeid , model , make | cars_data : id , mpg , cylinders , edispl , horsepower , weight , accelerate , year',\n",
       "  'dec_prompt': 'select max(',\n",
       "  'expect': 'mpg'},\n",
       " {'ex_id': 17,\n",
       "  'a_ex_id': 1,\n",
       "  'expect_tok_id': 0,\n",
       "  'enc_sentence': 'What is the maximum mpg of the cars that had 8 cylinders or that were produced before 1980 ?; structed knowledge: | car_1 | continents : contid , continent | countries : countryid , countryname , continent | car_makers : id , maker , fullname , country | model_list : modelid , maker , model | car_names : makeid , model , make | cars_data : id , mpg , cylinders , edispl , horsepower , weight , accelerate , year',\n",
       "  'dec_prompt': 'select max(mpg) from cars_data where cylinders = 8 or',\n",
       "  'expect': 'year'},\n",
       " {'ex_id': 17,\n",
       "  'a_ex_id': 2,\n",
       "  'expect_tok_id': 1,\n",
       "  'enc_sentence': 'What is the maximum mpg of the cars that had 8 cylinders or that were produced before 1980 ?; structed knowledge: | car_1 | continents : contid , continent | countries : countryid , countryname , continent | car_makers : id , maker , fullname , country | model_list : modelid , maker , model | car_names : makeid , model , make | cars_data : id , mpg , cylinders , edispl , horsepower , weight , accelerate , year',\n",
       "  'dec_prompt': 'select max(mpg) from cars_data where',\n",
       "  'expect': 'cylinders'},\n",
       " {'ex_id': 20,\n",
       "  'a_ex_id': 1,\n",
       "  'expect_tok_id': 0,\n",
       "  'enc_sentence': \"Return the name of the airport with code 'AKO'.; structed knowledge: | flight_2 | airlines : uid , airline , abbreviation , country | airports : city , airportcode ( AKO ) , airportname , country , countryabbrev | flights : airline , flightno , sourceairport (  AKO ) , destairport (  AKO )\",\n",
       "  'dec_prompt': 'select airportname from airports where',\n",
       "  'expect': 'airportcode'},\n",
       " {'ex_id': 22,\n",
       "  'a_ex_id': 2,\n",
       "  'expect_tok_id': 1,\n",
       "  'enc_sentence': 'Count the number of United Airlines flights that arrive in Aberdeen.; structed knowledge: | flight_2 | airlines : uid , airline ( United Airlines ) , abbreviation , country | airports : city ( Aberdeen  ) , airportcode , airportname , country , countryabbrev | flights : airline , flightno , sourceairport , destairport',\n",
       "  'dec_prompt': 'select count(*) from flights as t1 join airports as t2 on t1.destairport = t2.airportcode join airlines as t3 on t3.',\n",
       "  'expect': 'uid'},\n",
       " {'ex_id': 23,\n",
       "  'a_ex_id': 0,\n",
       "  'expect_tok_id': 1,\n",
       "  'enc_sentence': 'What airline serves the most flights?; structed knowledge: | flight_2 | airlines : uid , airline , abbreviation , country | airports : city , airportcode , airportname , country , countryabbrev | flights : airline , flightno , sourceairport , destairport',\n",
       "  'dec_prompt': 'select t1.airline from airlines as t1 join flights as t2 on t1.',\n",
       "  'expect': 'uid'},\n",
       " {'ex_id': 24,\n",
       "  'a_ex_id': 2,\n",
       "  'expect_tok_id': 1,\n",
       "  'enc_sentence': 'Which airlines have departures from CVO but not from APG airports?; structed knowledge: | flight_2 | airlines : uid , airline , abbreviation , country | airports : city , airportcode ( APG , CVO ) , airportname , country , countryabbrev | flights : airline , flightno , sourceairport (  APG ,  CVO ) , destairport (  APG ,  CVO )',\n",
       "  'dec_prompt': 'select t1.airline from airlines as t1 join flights as t2 on t1.',\n",
       "  'expect': 'uid'},\n",
       " {'ex_id': 24,\n",
       "  'a_ex_id': 3,\n",
       "  'expect_tok_id': 1,\n",
       "  'enc_sentence': 'Which airlines have departures from CVO but not from APG airports?; structed knowledge: | flight_2 | airlines : uid , airline , abbreviation , country | airports : city , airportcode ( APG , CVO ) , airportname , country , countryabbrev | flights : airline , flightno , sourceairport (  APG ,  CVO ) , destairport (  APG ,  CVO )',\n",
       "  'dec_prompt': 'select t1.airline from airlines as t1 join flights as t2 on t1.uid = t2.airline where t2.sourceairport = \"CVO\" except select t1.airline from airlines as t1 join flights as t2 on t1.',\n",
       "  'expect': 'uid'},\n",
       " {'ex_id': 25,\n",
       "  'a_ex_id': 0,\n",
       "  'expect_tok_id': 0,\n",
       "  'enc_sentence': 'Give the flight numbers of flights landing at APG.; structed knowledge: | flight_2 | airlines : uid , airline , abbreviation , country | airports : city , airportcode ( APG ) , airportname , country , countryabbrev | flights : airline , flightno , sourceairport (  APG ) , destairport (  APG )',\n",
       "  'dec_prompt': 'select',\n",
       "  'expect': 'flightno'},\n",
       " {'ex_id': 27,\n",
       "  'a_ex_id': 0,\n",
       "  'expect_tok_id': 0,\n",
       "  'enc_sentence': 'What are the manager name and district of the shop that sells the largest number of products?; structed knowledge: | employee_hire_evaluation | employee : employee_id , name , age , city | shop : shop_id , name , location , district , number_products , manager_name | hiring : shop_id , employee_id , start_from , is_full_time | evaluation : employee_id , year_awarded , bonus',\n",
       "  'dec_prompt': 'select manager_name, district from shop order by',\n",
       "  'expect': 'number_products'},\n",
       " {'ex_id': 27,\n",
       "  'a_ex_id': 2,\n",
       "  'expect_tok_id': 0,\n",
       "  'enc_sentence': 'What are the manager name and district of the shop that sells the largest number of products?; structed knowledge: | employee_hire_evaluation | employee : employee_id , name , age , city | shop : shop_id , name , location , district , number_products , manager_name | hiring : shop_id , employee_id , start_from , is_full_time | evaluation : employee_id , year_awarded , bonus',\n",
       "  'dec_prompt': 'select manager_name,',\n",
       "  'expect': 'district'},\n",
       " {'ex_id': 28,\n",
       "  'a_ex_id': 0,\n",
       "  'expect_tok_id': 0,\n",
       "  'enc_sentence': 'Which employee received the biggest bonus? Give me the employee name.; structed knowledge: | employee_hire_evaluation | employee : employee_id , name , age , city | shop : shop_id , name , location , district , number_products , manager_name | hiring : shop_id , employee_id , start_from , is_full_time | evaluation : employee_id , year_awarded , bonus',\n",
       "  'dec_prompt': 'select t1.name from employee as t1 join evaluation as t2 on t1.employee_id = t2.employee_id order by t2.',\n",
       "  'expect': 'bonus'},\n",
       " {'ex_id': 29,\n",
       "  'a_ex_id': 0,\n",
       "  'expect_tok_id': 0,\n",
       "  'enc_sentence': 'Find the total amount of bonus given in all the evaluations.; structed knowledge: | employee_hire_evaluation | employee : employee_id , name , age , city | shop : shop_id , name , location , district , number_products , manager_name | hiring : shop_id , employee_id , start_from , is_full_time | evaluation : employee_id , year_awarded , bonus',\n",
       "  'dec_prompt': 'select sum(',\n",
       "  'expect': 'bonus'},\n",
       " {'ex_id': 39,\n",
       "  'a_ex_id': 0,\n",
       "  'expect_tok_id': 0,\n",
       "  'enc_sentence': 'What are the names of the teachers who are aged either 32 or 33?; structed knowledge: | course_teach | course : course_id , staring_date , course | teacher : teacher_id , name , age , hometown | course_arrange : course_id , teacher_id , grade',\n",
       "  'dec_prompt': 'select name from teacher where',\n",
       "  'expect': 'age'},\n",
       " {'ex_id': 39,\n",
       "  'a_ex_id': 1,\n",
       "  'expect_tok_id': 0,\n",
       "  'enc_sentence': 'What are the names of the teachers who are aged either 32 or 33?; structed knowledge: | course_teach | course : course_id , staring_date , course | teacher : teacher_id , name , age , hometown | course_arrange : course_id , teacher_id , grade',\n",
       "  'dec_prompt': 'select name from teacher where age = 32 or',\n",
       "  'expect': 'age'},\n",
       " {'ex_id': 39,\n",
       "  'a_ex_id': 2,\n",
       "  'expect_tok_id': 0,\n",
       "  'enc_sentence': 'What are the names of the teachers who are aged either 32 or 33?; structed knowledge: | course_teach | course : course_id , staring_date , course | teacher : teacher_id , name , age , hometown | course_arrange : course_id , teacher_id , grade',\n",
       "  'dec_prompt': 'select',\n",
       "  'expect': 'name'},\n",
       " {'ex_id': 40,\n",
       "  'a_ex_id': 0,\n",
       "  'expect_tok_id': 0,\n",
       "  'enc_sentence': 'What is the name of each teacher and what course they teach?; structed knowledge: | course_teach | course : course_id , staring_date , course | teacher : teacher_id , name , age , hometown | course_arrange : course_id , teacher_id , grade',\n",
       "  'dec_prompt': 'select t3.',\n",
       "  'expect': 'name'},\n",
       " {'ex_id': 41,\n",
       "  'a_ex_id': 0,\n",
       "  'expect_tok_id': 0,\n",
       "  'enc_sentence': 'What are the names of the teachers whose courses have not been arranged?; structed knowledge: | course_teach | course : course_id , staring_date , course | teacher : teacher_id , name , age , hometown | course_arrange : course_id , teacher_id , grade',\n",
       "  'dec_prompt': 'select',\n",
       "  'expect': 'name'},\n",
       " {'ex_id': 42,\n",
       "  'a_ex_id': 0,\n",
       "  'expect_tok_id': 1,\n",
       "  'enc_sentence': 'What are the id, name and membership level of visitors who have spent the largest amount of money in total in all museum tickets?; structed knowledge: | museum_visit | museum : museum_id , name , num_of_staff , open_year | visitor : id , name , level_of_membership , age | visit : museum_id , visitor_id , num_of_ticket , total_spent',\n",
       "  'dec_prompt': 'select t2.visitor_id, t1.name, t1.level_of_membership from visitor as t1 join visit as t2 on t1.',\n",
       "  'expect': 'id'},\n",
       " {'ex_id': 42,\n",
       "  'a_ex_id': 1,\n",
       "  'expect_tok_id': 0,\n",
       "  'enc_sentence': 'What are the id, name and membership level of visitors who have spent the largest amount of money in total in all museum tickets?; structed knowledge: | museum_visit | museum : museum_id , name , num_of_staff , open_year | visitor : id , name , level_of_membership , age | visit : museum_id , visitor_id , num_of_ticket , total_spent',\n",
       "  'dec_prompt': 'select t2.visitor_id, t1.name, t1.',\n",
       "  'expect': 'level_of_membership'},\n",
       " {'ex_id': 42,\n",
       "  'a_ex_id': 2,\n",
       "  'expect_tok_id': 0,\n",
       "  'enc_sentence': 'What are the id, name and membership level of visitors who have spent the largest amount of money in total in all museum tickets?; structed knowledge: | museum_visit | museum : museum_id , name , num_of_staff , open_year | visitor : id , name , level_of_membership , age | visit : museum_id , visitor_id , num_of_ticket , total_spent',\n",
       "  'dec_prompt': 'select t2.visitor_id, t1.name, t1.level_of_membership from visitor as t1 join visit as t2 on t1.id = t2.visitor_id group by t2.visitor_id order by sum(t2.',\n",
       "  'expect': 'total_spent'},\n",
       " {'ex_id': 45,\n",
       "  'a_ex_id': 0,\n",
       "  'expect_tok_id': 0,\n",
       "  'enc_sentence': 'How many matches were played in 2013 or 2016?; structed knowledge: | wta_1 | players : player_id , first_name , last_name , hand , birth_date , country_code | matches : best_of , draw_size , loser_age , loser_entry , loser_hand , loser_ht , loser_id , loser_ioc , loser_name , loser_rank , loser_rank_points , loser_seed , match_num , minutes , round , score , surface , tourney_date , tourney_id , tourney_level , tourney_name , winner_age , winner_entry , winner_hand , winner_ht , winner_id , winner_ioc , winner_name , winner_rank , winner_rank_points , winner_seed , year | rankings : ranking_date , ranking , player_id , ranking_points , tours',\n",
       "  'dec_prompt': 'select count(*) from matches where',\n",
       "  'expect': 'year'},\n",
       " {'ex_id': 45,\n",
       "  'a_ex_id': 1,\n",
       "  'expect_tok_id': 0,\n",
       "  'enc_sentence': 'How many matches were played in 2013 or 2016?; structed knowledge: | wta_1 | players : player_id , first_name , last_name , hand , birth_date , country_code | matches : best_of , draw_size , loser_age , loser_entry , loser_hand , loser_ht , loser_id , loser_ioc , loser_name , loser_rank , loser_rank_points , loser_seed , match_num , minutes , round , score , surface , tourney_date , tourney_id , tourney_level , tourney_name , winner_age , winner_entry , winner_hand , winner_ht , winner_id , winner_ioc , winner_name , winner_rank , winner_rank_points , winner_seed , year | rankings : ranking_date , ranking , player_id , ranking_points , tours',\n",
       "  'dec_prompt': 'select count(*) from matches where year = 2013 or',\n",
       "  'expect': 'year'},\n",
       " {'ex_id': 46,\n",
       "  'a_ex_id': 1,\n",
       "  'expect_tok_id': 0,\n",
       "  'enc_sentence': 'What is the first name and country code of the player with the most tours?; structed knowledge: | wta_1 | players : player_id , first_name , last_name , hand , birth_date , country_code | matches : best_of , draw_size , loser_age , loser_entry , loser_hand , loser_ht , loser_id , loser_ioc , loser_name , loser_rank , loser_rank_points , loser_seed , match_num , minutes , round , score , surface , tourney_date , tourney_id , tourney_level , tourney_name , winner_age , winner_entry , winner_hand , winner_ht , winner_id , winner_ioc , winner_name , winner_rank , winner_rank_points , winner_seed , year | rankings : ranking_date , ranking , player_id , ranking_points , tours',\n",
       "  'dec_prompt': 'select t1.country_code, t1.first_name from players as t1 join rankings as t2 on t1.player_id = t2.player_id order by t2.',\n",
       "  'expect': 'tours'},\n",
       " {'ex_id': 46,\n",
       "  'a_ex_id': 2,\n",
       "  'expect_tok_id': 0,\n",
       "  'enc_sentence': 'What is the first name and country code of the player with the most tours?; structed knowledge: | wta_1 | players : player_id , first_name , last_name , hand , birth_date , country_code | matches : best_of , draw_size , loser_age , loser_entry , loser_hand , loser_ht , loser_id , loser_ioc , loser_name , loser_rank , loser_rank_points , loser_seed , match_num , minutes , round , score , surface , tourney_date , tourney_id , tourney_level , tourney_name , winner_age , winner_entry , winner_hand , winner_ht , winner_id , winner_ioc , winner_name , winner_rank , winner_rank_points , winner_seed , year | rankings : ranking_date , ranking , player_id , ranking_points , tours',\n",
       "  'dec_prompt': 'select t1.',\n",
       "  'expect': 'country_code'},\n",
       " {'ex_id': 47,\n",
       "  'a_ex_id': 0,\n",
       "  'expect_tok_id': 0,\n",
       "  'enc_sentence': 'What are the first names of all players, and their average rankings?; structed knowledge: | wta_1 | players : player_id , first_name , last_name , hand , birth_date , country_code | matches : best_of , draw_size , loser_age , loser_entry , loser_hand , loser_ht , loser_id , loser_ioc , loser_name , loser_rank , loser_rank_points , loser_seed , match_num , minutes , round , score , surface , tourney_date , tourney_id , tourney_level , tourney_name , winner_age , winner_entry , winner_hand , winner_ht , winner_id , winner_ioc , winner_name , winner_rank , winner_rank_points , winner_seed , year | rankings : ranking_date , ranking , player_id , ranking_points , tours',\n",
       "  'dec_prompt': 'select avg(ranking), t1.',\n",
       "  'expect': 'first_name'},\n",
       " {'ex_id': 47,\n",
       "  'a_ex_id': 1,\n",
       "  'expect_tok_id': 0,\n",
       "  'enc_sentence': 'What are the first names of all players, and their average rankings?; structed knowledge: | wta_1 | players : player_id , first_name , last_name , hand , birth_date , country_code | matches : best_of , draw_size , loser_age , loser_entry , loser_hand , loser_ht , loser_id , loser_ioc , loser_name , loser_rank , loser_rank_points , loser_seed , match_num , minutes , round , score , surface , tourney_date , tourney_id , tourney_level , tourney_name , winner_age , winner_entry , winner_hand , winner_ht , winner_id , winner_ioc , winner_name , winner_rank , winner_rank_points , winner_seed , year | rankings : ranking_date , ranking , player_id , ranking_points , tours',\n",
       "  'dec_prompt': 'select avg(ranking), t1.first_name from players as t1 join rankings as t2 on t1.player_id = t2.player_id group by t1.',\n",
       "  'expect': 'first_name'},\n",
       " {'ex_id': 47,\n",
       "  'a_ex_id': 2,\n",
       "  'expect_tok_id': 0,\n",
       "  'enc_sentence': 'What are the first names of all players, and their average rankings?; structed knowledge: | wta_1 | players : player_id , first_name , last_name , hand , birth_date , country_code | matches : best_of , draw_size , loser_age , loser_entry , loser_hand , loser_ht , loser_id , loser_ioc , loser_name , loser_rank , loser_rank_points , loser_seed , match_num , minutes , round , score , surface , tourney_date , tourney_id , tourney_level , tourney_name , winner_age , winner_entry , winner_hand , winner_ht , winner_id , winner_ioc , winner_name , winner_rank , winner_rank_points , winner_seed , year | rankings : ranking_date , ranking , player_id , ranking_points , tours',\n",
       "  'dec_prompt': 'select avg(',\n",
       "  'expect': 'ranking'},\n",
       " {'ex_id': 48,\n",
       "  'a_ex_id': 2,\n",
       "  'expect_tok_id': 0,\n",
       "  'enc_sentence': 'How many total tours were there for each ranking date?; structed knowledge: | wta_1 | players : player_id , first_name , last_name ( Date ) , hand , birth_date , country_code | matches : best_of , draw_size , loser_age , loser_entry , loser_hand , loser_ht , loser_id , loser_ioc , loser_name , loser_rank , loser_rank_points , loser_seed , match_num , minutes , round , score , surface , tourney_date , tourney_id , tourney_level , tourney_name , winner_age , winner_entry , winner_hand , winner_ht , winner_id , winner_ioc , winner_name , winner_rank , winner_rank_points , winner_seed , year | rankings : ranking_date , ranking , player_id , ranking_points , tours',\n",
       "  'dec_prompt': 'select sum(',\n",
       "  'expect': 'tours'},\n",
       " {'ex_id': 49,\n",
       "  'a_ex_id': 0,\n",
       "  'expect_tok_id': 0,\n",
       "  'enc_sentence': 'How many players are there for each hand type?; structed knowledge: | wta_1 | players : player_id , first_name , last_name , hand , birth_date , country_code | matches : best_of , draw_size , loser_age , loser_entry , loser_hand , loser_ht , loser_id , loser_ioc , loser_name , loser_rank , loser_rank_points , loser_seed , match_num , minutes , round , score , surface , tourney_date , tourney_id , tourney_level , tourney_name , winner_age , winner_entry , winner_hand , winner_ht , winner_id , winner_ioc , winner_name , winner_rank , winner_rank_points , winner_seed , year | rankings : ranking_date , ranking , player_id , ranking_points , tours',\n",
       "  'dec_prompt': 'select count(*),',\n",
       "  'expect': 'hand'},\n",
       " {'ex_id': 49,\n",
       "  'a_ex_id': 1,\n",
       "  'expect_tok_id': 0,\n",
       "  'enc_sentence': 'How many players are there for each hand type?; structed knowledge: | wta_1 | players : player_id , first_name , last_name , hand , birth_date , country_code | matches : best_of , draw_size , loser_age , loser_entry , loser_hand , loser_ht , loser_id , loser_ioc , loser_name , loser_rank , loser_rank_points , loser_seed , match_num , minutes , round , score , surface , tourney_date , tourney_id , tourney_level , tourney_name , winner_age , winner_entry , winner_hand , winner_ht , winner_id , winner_ioc , winner_name , winner_rank , winner_rank_points , winner_seed , year | rankings : ranking_date , ranking , player_id , ranking_points , tours',\n",
       "  'dec_prompt': 'select count(*), hand from players group by',\n",
       "  'expect': 'hand'},\n",
       " {'ex_id': 50,\n",
       "  'a_ex_id': 0,\n",
       "  'expect_tok_id': 0,\n",
       "  'enc_sentence': 'What is the ship id and name that caused most total injuries?; structed knowledge: | battle_death | battle : id , name , date , bulgarian_commander , latin_commander , result | ship : lost_in_battle , id , name , tonnage , ship_type , location , disposition_of_ship | death : caused_by_ship_id , id , note , killed , injured',\n",
       "  'dec_prompt': 'select t2.id, t2.name from death as t1 join ship as t2 on t1.',\n",
       "  'expect': 'caused_by_ship_id'},\n",
       " {'ex_id': 55,\n",
       "  'a_ex_id': 0,\n",
       "  'expect_tok_id': 0,\n",
       "  'enc_sentence': 'What are the last name of the students who live in North Carolina but have not registered in any degree programs?; structed knowledge: | student_transcripts_tracking | addresses : address_id , line_1 , line_2 , line_3 , city , zip_postcode , state_province_county , country , other_address_details | courses : course_id , course_name , course_description , other_details | departments : department_id , department_name , department_description , other_details | degree_programs : degree_program_id , department_id , degree_summary_name , degree_summary_description , other_details | sections : section_id , course_id , section_name , section_description , other_details | semesters : semester_id , semester_name , semester_description , other_details | students : student_id , current_address_id , permanent_address_id , first_name , middle_name , last_name , cell_mobile_number , email_address , ssn , date_first_registered , date_left , other_student_details | student_enrolment : student_enrolment_id , degree_program_id , semester_id , student_id , other_details | student_enrolment_courses : student_course_id , course_id , student_enrolment_id | transcripts : transcript_id , transcript_date , other_details | transcript_contents : student_course_id , transcript_id',\n",
       "  'dec_prompt': 'select t1.',\n",
       "  'expect': 'last_name'},\n",
       " {'ex_id': 55,\n",
       "  'a_ex_id': 1,\n",
       "  'expect_tok_id': 0,\n",
       "  'enc_sentence': 'What are the last name of the students who live in North Carolina but have not registered in any degree programs?; structed knowledge: | student_transcripts_tracking | addresses : address_id , line_1 , line_2 , line_3 , city , zip_postcode , state_province_county , country , other_address_details | courses : course_id , course_name , course_description , other_details | departments : department_id , department_name , department_description , other_details | degree_programs : degree_program_id , department_id , degree_summary_name , degree_summary_description , other_details | sections : section_id , course_id , section_name , section_description , other_details | semesters : semester_id , semester_name , semester_description , other_details | students : student_id , current_address_id , permanent_address_id , first_name , middle_name , last_name , cell_mobile_number , email_address , ssn , date_first_registered , date_left , other_student_details | student_enrolment : student_enrolment_id , degree_program_id , semester_id , student_id , other_details | student_enrolment_courses : student_course_id , course_id , student_enrolment_id | transcripts : transcript_id , transcript_date , other_details | transcript_contents : student_course_id , transcript_id',\n",
       "  'dec_prompt': \"select t1.last_name from students as t1 join addresses as t2 on t1.current_address_id = t2.address_id where t2.state_province_county = 'NorthCarolina' except select distinct t3.\",\n",
       "  'expect': 'last_name'},\n",
       " {'ex_id': 56,\n",
       "  'a_ex_id': 0,\n",
       "  'expect_tok_id': 0,\n",
       "  'enc_sentence': 'What is the first name of the student whose permanent address is different from his or her current one?; structed knowledge: | student_transcripts_tracking | addresses : address_id , line_1 , line_2 , line_3 , city , zip_postcode , state_province_county , country , other_address_details | courses : course_id , course_name , course_description , other_details | departments : department_id , department_name , department_description , other_details | degree_programs : degree_program_id , department_id , degree_summary_name , degree_summary_description , other_details | sections : section_id , course_id , section_name , section_description , other_details | semesters : semester_id , semester_name , semester_description , other_details | students : student_id , current_address_id , permanent_address_id , first_name , middle_name , last_name , cell_mobile_number , email_address , ssn , date_first_registered , date_left , other_student_details | student_enrolment : student_enrolment_id , degree_program_id , semester_id , student_id , other_details | student_enrolment_courses : student_course_id , course_id , student_enrolment_id | transcripts : transcript_id , transcript_date , other_details | transcript_contents : student_course_id , transcript_id',\n",
       "  'dec_prompt': 'select',\n",
       "  'expect': 'first_name'},\n",
       " {'ex_id': 58,\n",
       "  'a_ex_id': 0,\n",
       "  'expect_tok_id': 0,\n",
       "  'enc_sentence': 'What other details can you tell me about students in reverse alphabetical order?; structed knowledge: | student_transcripts_tracking | addresses : address_id , line_1 , line_2 , line_3 , city , zip_postcode , state_province_county , country , other_address_details | courses : course_id , course_name , course_description , other_details | departments : department_id , department_name , department_description , other_details | degree_programs : degree_program_id , department_id , degree_summary_name , degree_summary_description , other_details | sections : section_id , course_id , section_name , section_description , other_details | semesters : semester_id , semester_name , semester_description , other_details | students : student_id , current_address_id , permanent_address_id , first_name , middle_name , last_name , cell_mobile_number , email_address , ssn , date_first_registered , date_left , other_student_details | student_enrolment : student_enrolment_id , degree_program_id , semester_id , student_id , other_details | student_enrolment_courses : student_course_id , course_id , student_enrolment_id | transcripts : transcript_id , transcript_date , other_details | transcript_contents : student_course_id , transcript_id',\n",
       "  'dec_prompt': 'select',\n",
       "  'expect': 'other_student_details'},\n",
       " {'ex_id': 58,\n",
       "  'a_ex_id': 1,\n",
       "  'expect_tok_id': 0,\n",
       "  'enc_sentence': 'What other details can you tell me about students in reverse alphabetical order?; structed knowledge: | student_transcripts_tracking | addresses : address_id , line_1 , line_2 , line_3 , city , zip_postcode , state_province_county , country , other_address_details | courses : course_id , course_name , course_description , other_details | departments : department_id , department_name , department_description , other_details | degree_programs : degree_program_id , department_id , degree_summary_name , degree_summary_description , other_details | sections : section_id , course_id , section_name , section_description , other_details | semesters : semester_id , semester_name , semester_description , other_details | students : student_id , current_address_id , permanent_address_id , first_name , middle_name , last_name , cell_mobile_number , email_address , ssn , date_first_registered , date_left , other_student_details | student_enrolment : student_enrolment_id , degree_program_id , semester_id , student_id , other_details | student_enrolment_courses : student_course_id , course_id , student_enrolment_id | transcripts : transcript_id , transcript_date , other_details | transcript_contents : student_course_id , transcript_id',\n",
       "  'dec_prompt': 'select other_student_details from students order by',\n",
       "  'expect': 'other_student_details'},\n",
       " {'ex_id': 59,\n",
       "  'a_ex_id': 0,\n",
       "  'expect_tok_id': 0,\n",
       "  'enc_sentence': 'What is the number of cartoones written by Joseph Kuhr?; structed knowledge: | tvshow | tv_channel : id , series_name , country , language , content , pixel_aspect_ratio_par , hight_definition_tv , pay_per_view_ppv , package_option | tv_series : id , episode , air_date , rating , share , 18_49_rating_share , viewers_m , weekly_rank , channel | cartoon : id , title , directed_by , written_by ( Joseph Kuhr ) , original_air_date , production_code , channel',\n",
       "  'dec_prompt': 'select count(*) from cartoon where',\n",
       "  'expect': 'written_by'},\n",
       " {'ex_id': 60,\n",
       "  'a_ex_id': 1,\n",
       "  'expect_tok_id': 0,\n",
       "  'enc_sentence': 'What is the content of the series Sky Radio?; structed knowledge: | tvshow | tv_channel : id , series_name ( Sky Radio ) , country , language , content , pixel_aspect_ratio_par , hight_definition_tv , pay_per_view_ppv , package_option | tv_series : id , episode , air_date , rating , share , 18_49_rating_share , viewers_m , weekly_rank , channel | cartoon : id , title , directed_by , written_by , original_air_date , production_code , channel',\n",
       "  'dec_prompt': 'select',\n",
       "  'expect': 'content'},\n",
       " {'ex_id': 61,\n",
       "  'a_ex_id': 0,\n",
       "  'expect_tok_id': 0,\n",
       "  'enc_sentence': 'What is the series name of the TV Channel that shows the cartoon \"The Rise of the Blue Beetle\"?; structed knowledge: | tvshow | tv_channel : id , series_name , country , language , content , pixel_aspect_ratio_par , hight_definition_tv , pay_per_view_ppv , package_option | tv_series : id , episode , air_date , rating , share , 18_49_rating_share , viewers_m , weekly_rank , channel | cartoon : id , title ( The Rise of the Blue Beetle! ) , directed_by , written_by , original_air_date , production_code , channel',\n",
       "  'dec_prompt': 'select t1.series_name from tv_channel as t1 join cartoon as t2 on t1.id = t2.channel where t2.',\n",
       "  'expect': 'title'},\n",
       " {'ex_id': 62,\n",
       "  'a_ex_id': 0,\n",
       "  'expect_tok_id': 0,\n",
       "  'enc_sentence': 'When did the episode \"A Love of a Lifetime\" air?; structed knowledge: | tvshow | tv_channel : id , series_name , country , language , content , pixel_aspect_ratio_par , hight_definition_tv , pay_per_view_ppv , package_option | tv_series : id , episode ( A Love of a Lifetime ) , air_date , rating , share , 18_49_rating_share , viewers_m , weekly_rank , channel | cartoon : id , title , directed_by , written_by , original_air_date , production_code , channel',\n",
       "  'dec_prompt': 'select',\n",
       "  'expect': 'air_date'},\n",
       " {'ex_id': 62,\n",
       "  'a_ex_id': 1,\n",
       "  'expect_tok_id': 0,\n",
       "  'enc_sentence': 'When did the episode \"A Love of a Lifetime\" air?; structed knowledge: | tvshow | tv_channel : id , series_name , country , language , content , pixel_aspect_ratio_par , hight_definition_tv , pay_per_view_ppv , package_option | tv_series : id , episode ( A Love of a Lifetime ) , air_date , rating , share , 18_49_rating_share , viewers_m , weekly_rank , channel | cartoon : id , title , directed_by , written_by , original_air_date , production_code , channel',\n",
       "  'dec_prompt': 'select air_date from tv_series where',\n",
       "  'expect': 'episode'},\n",
       " {'ex_id': 64,\n",
       "  'a_ex_id': 0,\n",
       "  'expect_tok_id': 0,\n",
       "  'enc_sentence': 'What is the pixel aspect ratio and country of origin for all TV channels that do not use English?; structed knowledge: | tvshow | tv_channel : id , series_name , country , language ( English ) , content , pixel_aspect_ratio_par , hight_definition_tv , pay_per_view_ppv , package_option | tv_series : id , episode , air_date , rating , share , 18_49_rating_share , viewers_m , weekly_rank , channel | cartoon : id , title , directed_by , written_by , original_air_date , production_code , channel',\n",
       "  'dec_prompt': 'select pixel_aspect_ratio_par,',\n",
       "  'expect': 'country'},\n",
       " {'ex_id': 64,\n",
       "  'a_ex_id': 1,\n",
       "  'expect_tok_id': 1,\n",
       "  'enc_sentence': 'What is the pixel aspect ratio and country of origin for all TV channels that do not use English?; structed knowledge: | tvshow | tv_channel : id , series_name , country , language ( English ) , content , pixel_aspect_ratio_par , hight_definition_tv , pay_per_view_ppv , package_option | tv_series : id , episode , air_date , rating , share , 18_49_rating_share , viewers_m , weekly_rank , channel | cartoon : id , title , directed_by , written_by , original_air_date , production_code , channel',\n",
       "  'dec_prompt': 'select',\n",
       "  'expect': 'pixel_aspect_ratio_par'},\n",
       " {'ex_id': 64,\n",
       "  'a_ex_id': 2,\n",
       "  'expect_tok_id': 0,\n",
       "  'enc_sentence': 'What is the pixel aspect ratio and country of origin for all TV channels that do not use English?; structed knowledge: | tvshow | tv_channel : id , series_name , country , language ( English ) , content , pixel_aspect_ratio_par , hight_definition_tv , pay_per_view_ppv , package_option | tv_series : id , episode , air_date , rating , share , 18_49_rating_share , viewers_m , weekly_rank , channel | cartoon : id , title , directed_by , written_by , original_air_date , production_code , channel',\n",
       "  'dec_prompt': 'select pixel_aspect_ratio_par, country from tv_channel where',\n",
       "  'expect': 'language'},\n",
       " {'ex_id': 65,\n",
       "  'a_ex_id': 0,\n",
       "  'expect_tok_id': 0,\n",
       "  'enc_sentence': 'What are the earnings of poker players, ordered descending by value?; structed knowledge: | poker_player | poker_player : poker_player_id , people_id , final_table_made , best_finish , money_rank , earnings | people : people_id , nationality , name , birth_date , height',\n",
       "  'dec_prompt': 'select',\n",
       "  'expect': 'earnings'},\n",
       " {'ex_id': 65,\n",
       "  'a_ex_id': 1,\n",
       "  'expect_tok_id': 0,\n",
       "  'enc_sentence': 'What are the earnings of poker players, ordered descending by value?; structed knowledge: | poker_player | poker_player : poker_player_id , people_id , final_table_made , best_finish , money_rank , earnings | people : people_id , nationality , name , birth_date , height',\n",
       "  'dec_prompt': 'select earnings from poker_player order by',\n",
       "  'expect': 'earnings'},\n",
       " {'ex_id': 66,\n",
       "  'a_ex_id': 0,\n",
       "  'expect_tok_id': 0,\n",
       "  'enc_sentence': 'Return the names of all the poker players.; structed knowledge: | poker_player | poker_player : poker_player_id , people_id , final_table_made , best_finish , money_rank , earnings | people : people_id , nationality , name , birth_date , height',\n",
       "  'dec_prompt': 'select t1.',\n",
       "  'expect': 'name'},\n",
       " {'ex_id': 67,\n",
       "  'a_ex_id': 0,\n",
       "  'expect_tok_id': 0,\n",
       "  'enc_sentence': 'Give average earnings of poker players who are taller than 200.; structed knowledge: | poker_player | poker_player : poker_player_id , people_id , final_table_made , best_finish , money_rank , earnings | people : people_id , nationality , name , birth_date , height',\n",
       "  'dec_prompt': 'select avg(t2.',\n",
       "  'expect': 'earnings'},\n",
       " {'ex_id': 67,\n",
       "  'a_ex_id': 1,\n",
       "  'expect_tok_id': 0,\n",
       "  'enc_sentence': 'Give average earnings of poker players who are taller than 200.; structed knowledge: | poker_player | poker_player : poker_player_id , people_id , final_table_made , best_finish , money_rank , earnings | people : people_id , nationality , name , birth_date , height',\n",
       "  'dec_prompt': 'select avg(t2.earnings) from people as t1 join poker_player as t2 on t1.people_id = t2.people_id where t1.',\n",
       "  'expect': 'height'},\n",
       " {'ex_id': 68,\n",
       "  'a_ex_id': 0,\n",
       "  'expect_tok_id': 0,\n",
       "  'enc_sentence': 'What are the names and birth dates of people, ordered by their names in alphabetical order?; structed knowledge: | poker_player | poker_player : poker_player_id , people_id , final_table_made , best_finish , money_rank , earnings | people : people_id , nationality , name , birth_date , height',\n",
       "  'dec_prompt': 'select name,',\n",
       "  'expect': 'birth_date'},\n",
       " {'ex_id': 68,\n",
       "  'a_ex_id': 1,\n",
       "  'expect_tok_id': 0,\n",
       "  'enc_sentence': 'What are the names and birth dates of people, ordered by their names in alphabetical order?; structed knowledge: | poker_player | poker_player : poker_player_id , people_id , final_table_made , best_finish , money_rank , earnings | people : people_id , nationality , name , birth_date , height',\n",
       "  'dec_prompt': 'select',\n",
       "  'expect': 'name'},\n",
       " {'ex_id': 68,\n",
       "  'a_ex_id': 2,\n",
       "  'expect_tok_id': 0,\n",
       "  'enc_sentence': 'What are the names and birth dates of people, ordered by their names in alphabetical order?; structed knowledge: | poker_player | poker_player : poker_player_id , people_id , final_table_made , best_finish , money_rank , earnings | people : people_id , nationality , name , birth_date , height',\n",
       "  'dec_prompt': 'select name, birth_date from people order by',\n",
       "  'expect': 'name'},\n",
       " {'ex_id': 71,\n",
       "  'a_ex_id': 0,\n",
       "  'expect_tok_id': 0,\n",
       "  'enc_sentence': 'Which region is the city Kabul located in?; structed knowledge: | world_1 | city : id , name ( Kabul ) , countrycode , district , population | sqlite_sequence : name , seq | country : code , name , continent , region , surfacearea , indepyear , population , lifeexpectancy , gnp , gnpold , localname , governmentform , headofstate , capital , code2 | countrylanguage : countrycode , language , isofficial , percentage',\n",
       "  'dec_prompt': 'select',\n",
       "  'expect': 'region'},\n",
       " {'ex_id': 72,\n",
       "  'a_ex_id': 0,\n",
       "  'expect_tok_id': 0,\n",
       "  'enc_sentence': 'What is the name of country that has the shortest life expectancy in Asia?; structed knowledge: | world_1 | city : id , name , countrycode , district , population | sqlite_sequence : name , seq | country : code , name , continent ( Asia ) , region , surfacearea , indepyear , population , lifeexpectancy , gnp , gnpold , localname , governmentform , headofstate , capital , code2 | countrylanguage : countrycode , language , isofficial , percentage',\n",
       "  'dec_prompt': 'select name from country where continent = \"Asia\" order by',\n",
       "  'expect': 'lifeexpectancy'},\n",
       " {'ex_id': 72,\n",
       "  'a_ex_id': 1,\n",
       "  'expect_tok_id': 0,\n",
       "  'enc_sentence': 'What is the name of country that has the shortest life expectancy in Asia?; structed knowledge: | world_1 | city : id , name , countrycode , district , population | sqlite_sequence : name , seq | country : code , name , continent ( Asia ) , region , surfacearea , indepyear , population , lifeexpectancy , gnp , gnpold , localname , governmentform , headofstate , capital , code2 | countrylanguage : countrycode , language , isofficial , percentage',\n",
       "  'dec_prompt': 'select name from country where',\n",
       "  'expect': 'continent'},\n",
       " {'ex_id': 73,\n",
       "  'a_ex_id': 0,\n",
       "  'expect_tok_id': 1,\n",
       "  'enc_sentence': 'What is the average GNP and total population in all nations whose government is US territory?; structed knowledge: | world_1 | city : id , name , countrycode , district , population | sqlite_sequence : name , seq | country : code , name , continent , region , surfacearea , indepyear , population , lifeexpectancy , gnp , gnpold , localname , governmentform ( US Territory ) , headofstate , capital , code2 ( US ) | countrylanguage : countrycode , language , isofficial , percentage',\n",
       "  'dec_prompt': 'select avg(',\n",
       "  'expect': 'gnp'},\n",
       " {'ex_id': 73,\n",
       "  'a_ex_id': 1,\n",
       "  'expect_tok_id': 0,\n",
       "  'enc_sentence': 'What is the average GNP and total population in all nations whose government is US territory?; structed knowledge: | world_1 | city : id , name , countrycode , district , population | sqlite_sequence : name , seq | country : code , name , continent , region , surfacearea , indepyear , population , lifeexpectancy , gnp , gnpold , localname , governmentform ( US Territory ) , headofstate , capital , code2 ( US ) | countrylanguage : countrycode , language , isofficial , percentage',\n",
       "  'dec_prompt': 'select avg(gnp), sum(population) from country where',\n",
       "  'expect': 'governmentform'},\n",
       " {'ex_id': 75,\n",
       "  'a_ex_id': 1,\n",
       "  'expect_tok_id': 0,\n",
       "  'enc_sentence': 'What is the number of distinct continents where Chinese is spoken?; structed knowledge: | world_1 | city : id , name , countrycode , district , population | sqlite_sequence : name , seq | country : code , name , continent , region , surfacearea , indepyear , population , lifeexpectancy , gnp , gnpold , localname , governmentform , headofstate , capital , code2 | countrylanguage : countrycode , language ( Chinese ) , isofficial , percentage',\n",
       "  'dec_prompt': 'select count( distinct',\n",
       "  'expect': 'continent'},\n",
       " {'ex_id': 75,\n",
       "  'a_ex_id': 2,\n",
       "  'expect_tok_id': 0,\n",
       "  'enc_sentence': 'What is the number of distinct continents where Chinese is spoken?; structed knowledge: | world_1 | city : id , name , countrycode , district , population | sqlite_sequence : name , seq | country : code , name , continent , region , surfacearea , indepyear , population , lifeexpectancy , gnp , gnpold , localname , governmentform , headofstate , capital , code2 | countrylanguage : countrycode , language ( Chinese ) , isofficial , percentage',\n",
       "  'dec_prompt': 'select count( distinct continent) from country as t1 join countrylanguage as t2 on t1.code = t2.countrycode where t2.',\n",
       "  'expect': 'language'},\n",
       " {'ex_id': 76,\n",
       "  'a_ex_id': 0,\n",
       "  'expect_tok_id': 0,\n",
       "  'enc_sentence': 'Find the city with the largest population that uses English.; structed knowledge: | world_1 | city : id , name , countrycode , district , population | sqlite_sequence : name , seq | country : code , name , continent , region , surfacearea , indepyear , population , lifeexpectancy , gnp , gnpold , localname , governmentform , headofstate , capital , code2 | countrylanguage : countrycode , language ( English ) , isofficial , percentage',\n",
       "  'dec_prompt': 'select t1.name, t1.population from city as t1 join countrylanguage as t2 on t1.countrycode = t2.countrycode where t2.',\n",
       "  'expect': 'language'},\n",
       " {'ex_id': 77,\n",
       "  'a_ex_id': 2,\n",
       "  'expect_tok_id': 0,\n",
       "  'enc_sentence': 'What is the total number of unique official languages spoken in the countries that are founded before 1930?; structed knowledge: | world_1 | city : id , name , countrycode , district , population | sqlite_sequence : name , seq | country : code , name , continent , region , surfacearea , indepyear , population , lifeexpectancy , gnp , gnpold , localname , governmentform , headofstate , capital , code2 | countrylanguage : countrycode , language , isofficial , percentage',\n",
       "  'dec_prompt': 'select count(distinct t2.language) from country as t1 join countrylanguage as t2 on t1.code = t2.countrycode where indepyear < 1930 and t2.',\n",
       "  'expect': 'isofficial'},\n",
       " {'ex_id': 77,\n",
       "  'a_ex_id': 3,\n",
       "  'expect_tok_id': 0,\n",
       "  'enc_sentence': 'What is the total number of unique official languages spoken in the countries that are founded before 1930?; structed knowledge: | world_1 | city : id , name , countrycode , district , population | sqlite_sequence : name , seq | country : code , name , continent , region , surfacearea , indepyear , population , lifeexpectancy , gnp , gnpold , localname , governmentform , headofstate , capital , code2 | countrylanguage : countrycode , language , isofficial , percentage',\n",
       "  'dec_prompt': 'select count(distinct t2.',\n",
       "  'expect': 'language'},\n",
       " {'ex_id': 78,\n",
       "  'a_ex_id': 0,\n",
       "  'expect_tok_id': 0,\n",
       "  'enc_sentence': 'What are the country codes of countries where people use languages other than English?; structed knowledge: | world_1 | city : id , name , countrycode , district , population | sqlite_sequence : name , seq | country : code , name , continent , region , surfacearea , indepyear , population , lifeexpectancy , gnp , gnpold , localname , governmentform , headofstate , capital , code2 | countrylanguage : countrycode , language ( English ) , isofficial , percentage',\n",
       "  'dec_prompt': 'select distinct countrycode from countrylanguage where',\n",
       "  'expect': 'language'},\n",
       " {'ex_id': 79,\n",
       "  'a_ex_id': 0,\n",
       "  'expect_tok_id': 0,\n",
       "  'enc_sentence': 'What are the population, name and leader of the country with the largest area?; structed knowledge: | world_1 | city : id , name , countrycode , district , population | sqlite_sequence : name , seq | country : code , name , continent , region , surfacearea , indepyear , population , lifeexpectancy , gnp , gnpold , localname , governmentform , headofstate , capital , code2 | countrylanguage : countrycode , language , isofficial , percentage',\n",
       "  'dec_prompt': 'select name, population, headofstate from country order by',\n",
       "  'expect': 'surfacearea'},\n",
       " {'ex_id': 80,\n",
       "  'a_ex_id': 0,\n",
       "  'expect_tok_id': 0,\n",
       "  'enc_sentence': 'What are the names and areas of countries with the top 5 largest area?; structed knowledge: | world_1 | city : id , name , countrycode , district , population | sqlite_sequence : name , seq | country : code , name , continent , region , surfacearea , indepyear , population , lifeexpectancy , gnp , gnpold , localname , governmentform , headofstate , capital , code2 | countrylanguage : countrycode , language , isofficial , percentage',\n",
       "  'dec_prompt': 'select name,',\n",
       "  'expect': 'surfacearea'},\n",
       " {'ex_id': 80,\n",
       "  'a_ex_id': 1,\n",
       "  'expect_tok_id': 0,\n",
       "  'enc_sentence': 'What are the names and areas of countries with the top 5 largest area?; structed knowledge: | world_1 | city : id , name , countrycode , district , population | sqlite_sequence : name , seq | country : code , name , continent , region , surfacearea , indepyear , population , lifeexpectancy , gnp , gnpold , localname , governmentform , headofstate , capital , code2 | countrylanguage : countrycode , language , isofficial , percentage',\n",
       "  'dec_prompt': 'select name, surfacearea from country order by',\n",
       "  'expect': 'surfacearea'},\n",
       " {'ex_id': 81,\n",
       "  'a_ex_id': 0,\n",
       "  'expect_tok_id': 0,\n",
       "  'enc_sentence': 'What is the total population and average area of countries in the continent of North America whose area is bigger than 3000 ?; structed knowledge: | world_1 | city : id , name ( Americana ) , countrycode , district , population | sqlite_sequence : name , seq | country : code , name , continent ( North America ) , region ( North America ) , surfacearea , indepyear , population , lifeexpectancy , gnp , gnpold , localname , governmentform , headofstate , capital , code2 | countrylanguage : countrycode , language , isofficial , percentage',\n",
       "  'dec_prompt': 'select sum(population), avg(surfacearea) from country where',\n",
       "  'expect': 'continent'},\n",
       " {'ex_id': 81,\n",
       "  'a_ex_id': 1,\n",
       "  'expect_tok_id': 0,\n",
       "  'enc_sentence': 'What is the total population and average area of countries in the continent of North America whose area is bigger than 3000 ?; structed knowledge: | world_1 | city : id , name ( Americana ) , countrycode , district , population | sqlite_sequence : name , seq | country : code , name , continent ( North America ) , region ( North America ) , surfacearea , indepyear , population , lifeexpectancy , gnp , gnpold , localname , governmentform , headofstate , capital , code2 | countrylanguage : countrycode , language , isofficial , percentage',\n",
       "  'dec_prompt': 'select sum(population), avg(',\n",
       "  'expect': 'surfacearea'},\n",
       " {'ex_id': 81,\n",
       "  'a_ex_id': 2,\n",
       "  'expect_tok_id': 0,\n",
       "  'enc_sentence': 'What is the total population and average area of countries in the continent of North America whose area is bigger than 3000 ?; structed knowledge: | world_1 | city : id , name ( Americana ) , countrycode , district , population | sqlite_sequence : name , seq | country : code , name , continent ( North America ) , region ( North America ) , surfacearea , indepyear , population , lifeexpectancy , gnp , gnpold , localname , governmentform , headofstate , capital , code2 | countrylanguage : countrycode , language , isofficial , percentage',\n",
       "  'dec_prompt': 'select sum(population), avg(surfacearea) from country where continent = \"north america\" and',\n",
       "  'expect': 'surfacearea'},\n",
       " {'ex_id': 82,\n",
       "  'a_ex_id': 0,\n",
       "  'expect_tok_id': 0,\n",
       "  'enc_sentence': 'What are the codes of countries where Spanish is spoken by the largest percentage of people?; structed knowledge: | world_1 | city : id , name , countrycode , district , population | sqlite_sequence : name , seq | country : code , name , continent , region , surfacearea , indepyear , population , lifeexpectancy , gnp , gnpold , localname , governmentform , headofstate , capital , code2 | countrylanguage : countrycode , language ( Spanish ) , isofficial , percentage',\n",
       "  'dec_prompt': 'select countrycode, max(',\n",
       "  'expect': 'percentage'},\n",
       " {'ex_id': 82,\n",
       "  'a_ex_id': 1,\n",
       "  'expect_tok_id': 0,\n",
       "  'enc_sentence': 'What are the codes of countries where Spanish is spoken by the largest percentage of people?; structed knowledge: | world_1 | city : id , name , countrycode , district , population | sqlite_sequence : name , seq | country : code , name , continent , region , surfacearea , indepyear , population , lifeexpectancy , gnp , gnpold , localname , governmentform , headofstate , capital , code2 | countrylanguage : countrycode , language ( Spanish ) , isofficial , percentage',\n",
       "  'dec_prompt': 'select countrycode, max(percentage) from countrylanguage where',\n",
       "  'expect': 'language'},\n",
       " {'ex_id': 83,\n",
       "  'a_ex_id': 0,\n",
       "  'expect_tok_id': 0,\n",
       "  'enc_sentence': 'What is the average attendance of shows?; structed knowledge: | orchestra | conductor : conductor_id , name , age , nationality , year_of_work | orchestra : orchestra_id , orchestra , conductor_id , record_company , year_of_founded , major_record_format | performance : performance_id , orchestra_id , type , date , official_ratings_(millions) , weekly_rank , share | show : show_id , performance_id , if_first_show , result , attendance',\n",
       "  'dec_prompt': 'select avg(',\n",
       "  'expect': 'attendance'},\n",
       " {'ex_id': 84,\n",
       "  'a_ex_id': 0,\n",
       "  'expect_tok_id': 0,\n",
       "  'enc_sentence': 'Show the names of conductors and the orchestras they have conducted.; structed knowledge: | orchestra | conductor : conductor_id , name , age , nationality , year_of_work | orchestra : orchestra_id , orchestra , conductor_id , record_company , year_of_founded , major_record_format | performance : performance_id , orchestra_id , type , date , official_ratings_(millions) , weekly_rank , share | show : show_id , performance_id , if_first_show , result , attendance',\n",
       "  'dec_prompt': 'select t1.',\n",
       "  'expect': 'name'},\n",
       " {'ex_id': 86,\n",
       "  'a_ex_id': 0,\n",
       "  'expect_tok_id': 0,\n",
       "  'enc_sentence': 'Show the years in which orchestras that have given more than one performance are founded.; structed knowledge: | orchestra | conductor : conductor_id , name , age , nationality , year_of_work | orchestra : orchestra_id , orchestra , conductor_id , record_company , year_of_founded , major_record_format | performance : performance_id , orchestra_id , type , date , official_ratings_(millions) , weekly_rank , share | show : show_id , performance_id , if_first_show , result , attendance',\n",
       "  'dec_prompt': 'select',\n",
       "  'expect': 'year_of_founded'},\n",
       " {'ex_id': 87,\n",
       "  'a_ex_id': 0,\n",
       "  'expect_tok_id': 0,\n",
       "  'enc_sentence': 'Show the names of all high schoolers in grade 10.; structed knowledge: | network_1 | highschooler : id , name , grade | friend : student_id , friend_id | likes : student_id , liked_id',\n",
       "  'dec_prompt': 'select name from highschooler where',\n",
       "  'expect': 'grade'},\n",
       " {'ex_id': 87,\n",
       "  'a_ex_id': 1,\n",
       "  'expect_tok_id': 0,\n",
       "  'enc_sentence': 'Show the names of all high schoolers in grade 10.; structed knowledge: | network_1 | highschooler : id , name , grade | friend : student_id , friend_id | likes : student_id , liked_id',\n",
       "  'dec_prompt': 'select',\n",
       "  'expect': 'name'},\n",
       " {'ex_id': 88,\n",
       "  'a_ex_id': 0,\n",
       "  'expect_tok_id': 0,\n",
       "  'enc_sentence': 'Show me all grades that have at least 4 students.; structed knowledge: | network_1 | highschooler : id , name , grade | friend : student_id , friend_id | likes : student_id , liked_id',\n",
       "  'dec_prompt': 'select',\n",
       "  'expect': 'grade'},\n",
       " {'ex_id': 88,\n",
       "  'a_ex_id': 1,\n",
       "  'expect_tok_id': 0,\n",
       "  'enc_sentence': 'Show me all grades that have at least 4 students.; structed knowledge: | network_1 | highschooler : id , name , grade | friend : student_id , friend_id | likes : student_id , liked_id',\n",
       "  'dec_prompt': 'select grade from highschooler group by',\n",
       "  'expect': 'grade'},\n",
       " {'ex_id': 89,\n",
       "  'a_ex_id': 0,\n",
       "  'expect_tok_id': 1,\n",
       "  'enc_sentence': \"Show the names of all of the high schooler Kyle's friends.; structed knowledge: | network_1 | highschooler : id , name ( Kyle ) , grade | friend : student_id , friend_id | likes : student_id , liked_id\",\n",
       "  'dec_prompt': 'select t3.name from friend as t1 join highschooler as t2 on t1.student_id = t2.',\n",
       "  'expect': 'id'},\n",
       " {'ex_id': 89,\n",
       "  'a_ex_id': 1,\n",
       "  'expect_tok_id': 1,\n",
       "  'enc_sentence': \"Show the names of all of the high schooler Kyle's friends.; structed knowledge: | network_1 | highschooler : id , name ( Kyle ) , grade | friend : student_id , friend_id | likes : student_id , liked_id\",\n",
       "  'dec_prompt': 'select t3.name from friend as t1 join highschooler as t2 on t1.student_id = t2.id join highschooler as t3 on t1.friend_id = t3.',\n",
       "  'expect': 'id'},\n",
       " {'ex_id': 89,\n",
       "  'a_ex_id': 3,\n",
       "  'expect_tok_id': 0,\n",
       "  'enc_sentence': \"Show the names of all of the high schooler Kyle's friends.; structed knowledge: | network_1 | highschooler : id , name ( Kyle ) , grade | friend : student_id , friend_id | likes : student_id , liked_id\",\n",
       "  'dec_prompt': 'select t3.',\n",
       "  'expect': 'name'},\n",
       " {'ex_id': 89,\n",
       "  'a_ex_id': 4,\n",
       "  'expect_tok_id': 0,\n",
       "  'enc_sentence': \"Show the names of all of the high schooler Kyle's friends.; structed knowledge: | network_1 | highschooler : id , name ( Kyle ) , grade | friend : student_id , friend_id | likes : student_id , liked_id\",\n",
       "  'dec_prompt': 'select t3.name from friend as t1 join highschooler as t2 on t1.student_id = t2.id join highschooler as t3 on t1.friend_id = t3.id where t2.',\n",
       "  'expect': 'name'},\n",
       " {'ex_id': 90,\n",
       "  'a_ex_id': 0,\n",
       "  'expect_tok_id': 1,\n",
       "  'enc_sentence': 'Show name of all students who have some friends and also are liked by someone else.; structed knowledge: | network_1 | highschooler : id , name , grade | friend : student_id , friend_id | likes : student_id , liked_id',\n",
       "  'dec_prompt': 'select t2.name from friend as t1 join highschooler as t2 on t1.student_id = t2.',\n",
       "  'expect': 'id'},\n",
       " {'ex_id': 90,\n",
       "  'a_ex_id': 1,\n",
       "  'expect_tok_id': 1,\n",
       "  'enc_sentence': 'Show name of all students who have some friends and also are liked by someone else.; structed knowledge: | network_1 | highschooler : id , name , grade | friend : student_id , friend_id | likes : student_id , liked_id',\n",
       "  'dec_prompt': 'select t2.name from friend as t1 join highschooler as t2 on t1.student_id = t2.id intersect select t2.name from likes as t1 join highschooler as t2 on t1.liked_id = t2.',\n",
       "  'expect': 'id'},\n",
       " {'ex_id': 90,\n",
       "  'a_ex_id': 2,\n",
       "  'expect_tok_id': 0,\n",
       "  'enc_sentence': 'Show name of all students who have some friends and also are liked by someone else.; structed knowledge: | network_1 | highschooler : id , name , grade | friend : student_id , friend_id | likes : student_id , liked_id',\n",
       "  'dec_prompt': 'select t2.name from friend as t1 join highschooler as t2 on t1.student_id = t2.id intersect select t2.name from likes as t1 join highschooler as t2 on t1.',\n",
       "  'expect': 'liked_id'},\n",
       " {'ex_id': 90,\n",
       "  'a_ex_id': 3,\n",
       "  'expect_tok_id': 0,\n",
       "  'enc_sentence': 'Show name of all students who have some friends and also are liked by someone else.; structed knowledge: | network_1 | highschooler : id , name , grade | friend : student_id , friend_id | likes : student_id , liked_id',\n",
       "  'dec_prompt': 'select t2.',\n",
       "  'expect': 'name'},\n",
       " {'ex_id': 90,\n",
       "  'a_ex_id': 4,\n",
       "  'expect_tok_id': 0,\n",
       "  'enc_sentence': 'Show name of all students who have some friends and also are liked by someone else.; structed knowledge: | network_1 | highschooler : id , name , grade | friend : student_id , friend_id | likes : student_id , liked_id',\n",
       "  'dec_prompt': 'select t2.name from friend as t1 join highschooler as t2 on t1.student_id = t2.id intersect select t2.',\n",
       "  'expect': 'name'},\n",
       " {'ex_id': 91,\n",
       "  'a_ex_id': 0,\n",
       "  'expect_tok_id': 1,\n",
       "  'enc_sentence': 'Show the names of students who have a grade higher than 5 and have at least 2 friends.; structed knowledge: | network_1 | highschooler : id , name , grade | friend : student_id , friend_id | likes : student_id , liked_id',\n",
       "  'dec_prompt': 'select t2.name from friend as t1 join highschooler as t2 on t1.student_id = t2.',\n",
       "  'expect': 'id'},\n",
       " {'ex_id': 91,\n",
       "  'a_ex_id': 1,\n",
       "  'expect_tok_id': 0,\n",
       "  'enc_sentence': 'Show the names of students who have a grade higher than 5 and have at least 2 friends.; structed knowledge: | network_1 | highschooler : id , name , grade | friend : student_id , friend_id | likes : student_id , liked_id',\n",
       "  'dec_prompt': 'select t2.name from friend as t1 join highschooler as t2 on t1.student_id = t2.id where t2.',\n",
       "  'expect': 'grade'},\n",
       " {'ex_id': 91,\n",
       "  'a_ex_id': 2,\n",
       "  'expect_tok_id': 0,\n",
       "  'enc_sentence': 'Show the names of students who have a grade higher than 5 and have at least 2 friends.; structed knowledge: | network_1 | highschooler : id , name , grade | friend : student_id , friend_id | likes : student_id , liked_id',\n",
       "  'dec_prompt': 'select t2.',\n",
       "  'expect': 'name'},\n",
       " {'ex_id': 92,\n",
       "  'a_ex_id': 0,\n",
       "  'expect_tok_id': 0,\n",
       "  'enc_sentence': 'What is the average age of the dogs who have gone through any treatments?; structed knowledge: | dog_kennels | breeds : breed_code , breed_name | charges : charge_id , charge_type , charge_amount | sizes : size_code , size_description | treatment_types : treatment_type_code , treatment_type_description | owners : owner_id , first_name , last_name , street , city , state , zip_code , email_address , home_phone , cell_number | dogs : dog_id , owner_id , abandoned_yn , breed_code , size_code , name , age , date_of_birth , gender , weight , date_arrived , date_adopted , date_departed | professionals : professional_id , role_code , first_name , street , city , state , zip_code , last_name , email_address , home_phone , cell_number | treatments : treatment_id , dog_id , professional_id , treatment_type_code , date_of_treatment , cost_of_treatment',\n",
       "  'dec_prompt': 'select avg(',\n",
       "  'expect': 'age'},\n",
       " {'ex_id': 96,\n",
       "  'a_ex_id': 0,\n",
       "  'expect_tok_id': 0,\n",
       "  'enc_sentence': 'List the last name of the owner owning the youngest dog.; structed knowledge: | dog_kennels | breeds : breed_code , breed_name | charges : charge_id , charge_type , charge_amount | sizes : size_code , size_description | treatment_types : treatment_type_code , treatment_type_description | owners : owner_id , first_name , last_name , street , city , state , zip_code , email_address , home_phone , cell_number | dogs : dog_id , owner_id , abandoned_yn , breed_code , size_code , name , age , date_of_birth , gender , weight , date_arrived , date_adopted , date_departed | professionals : professional_id , role_code , first_name , street , city , state , zip_code , last_name , email_address , home_phone , cell_number | treatments : treatment_id , dog_id , professional_id , treatment_type_code , date_of_treatment , cost_of_treatment',\n",
       "  'dec_prompt': 'select t1.last_name from owners as t1 join dogs as t2 on t1.owner_id = t2.owner_id where t2.',\n",
       "  'expect': 'age'},\n",
       " {'ex_id': 96,\n",
       "  'a_ex_id': 1,\n",
       "  'expect_tok_id': 0,\n",
       "  'enc_sentence': 'List the last name of the owner owning the youngest dog.; structed knowledge: | dog_kennels | breeds : breed_code , breed_name | charges : charge_id , charge_type , charge_amount | sizes : size_code , size_description | treatment_types : treatment_type_code , treatment_type_description | owners : owner_id , first_name , last_name , street , city , state , zip_code , email_address , home_phone , cell_number | dogs : dog_id , owner_id , abandoned_yn , breed_code , size_code , name , age , date_of_birth , gender , weight , date_arrived , date_adopted , date_departed | professionals : professional_id , role_code , first_name , street , city , state , zip_code , last_name , email_address , home_phone , cell_number | treatments : treatment_id , dog_id , professional_id , treatment_type_code , date_of_treatment , cost_of_treatment',\n",
       "  'dec_prompt': 'select t1.last_name from owners as t1 join dogs as t2 on t1.owner_id = t2.owner_id where t2.age = ( select max(',\n",
       "  'expect': 'age'},\n",
       " {'ex_id': 97,\n",
       "  'a_ex_id': 0,\n",
       "  'expect_tok_id': 0,\n",
       "  'enc_sentence': \"Which professionals live in a city containing the substring 'West'? List his or her role, street, city and state.; structed knowledge: | dog_kennels | breeds : breed_code , breed_name | charges : charge_id , charge_type , charge_amount | sizes : size_code , size_description | treatment_types : treatment_type_code , treatment_type_description | owners : owner_id , first_name , last_name , street , city , state , zip_code , email_address , home_phone , cell_number | dogs : dog_id , owner_id , abandoned_yn , breed_code , size_code , name , age , date_of_birth , gender , weight , date_arrived , date_adopted , date_departed | professionals : professional_id , role_code , first_name , street , city , state , zip_code , last_name , email_address , home_phone , cell_number | treatments : treatment_id , dog_id , professional_id , treatment_type_code , date_of_treatment , cost_of_treatment\",\n",
       "  'dec_prompt': 'select',\n",
       "  'expect': 'role_code'},\n",
       " {'ex_id': 101,\n",
       "  'a_ex_id': 1,\n",
       "  'expect_tok_id': 0,\n",
       "  'enc_sentence': 'What is the name of the singer with the largest net worth?; structed knowledge: | singer | singer : singer_id , name , birth_year , net_worth_millions , citizenship | song : song_id , title , singer_id , sales , highest_position',\n",
       "  'dec_prompt': 'select',\n",
       "  'expect': 'name'},\n",
       " {'ex_id': 102,\n",
       "  'a_ex_id': 0,\n",
       "  'expect_tok_id': 0,\n",
       "  'enc_sentence': 'Show distinct names of singers that have songs with sales more than 300000.; structed knowledge: | singer | singer : singer_id , name , birth_year , net_worth_millions , citizenship | song : song_id , title , singer_id , sales , highest_position',\n",
       "  'dec_prompt': 'select distinct t1.name from singer as t1 join song as t2 on t1.singer_id = t2.singer_id where t2.',\n",
       "  'expect': 'sales'},\n",
       " {'ex_id': 102,\n",
       "  'a_ex_id': 1,\n",
       "  'expect_tok_id': 0,\n",
       "  'enc_sentence': 'Show distinct names of singers that have songs with sales more than 300000.; structed knowledge: | singer | singer : singer_id , name , birth_year , net_worth_millions , citizenship | song : song_id , title , singer_id , sales , highest_position',\n",
       "  'dec_prompt': 'select distinct t1.',\n",
       "  'expect': 'name'}]"
      ]
     },
     "execution_count": 56,
     "metadata": {},
     "output_type": "execute_result"
    }
   ],
   "source": [
    "enc_prefix_att_samples[(23, 7, 0)]"
   ]
  },
  {
   "cell_type": "code",
   "execution_count": null,
   "metadata": {},
   "outputs": [],
   "source": []
  },
  {
   "cell_type": "code",
   "execution_count": null,
   "metadata": {},
   "outputs": [],
   "source": []
  },
  {
   "cell_type": "code",
   "execution_count": null,
   "metadata": {},
   "outputs": [],
   "source": []
  },
  {
   "cell_type": "markdown",
   "metadata": {},
   "source": [
    "## USKG error analysis"
   ]
  },
  {
   "cell_type": "code",
   "execution_count": 335,
   "metadata": {},
   "outputs": [],
   "source": [
    "# adapted from play_pred()\n",
    "\n",
    "def pred_sql(mt, ex):\n",
    "    text_in = ex['text_in']\n",
    "    struct_in = ex['struct_in']\n",
    "\n",
    "    txt = f\"{text_in}; structed knowledge: {struct_in}\"\n",
    "    \n",
    "    tokenized_txt = mt.tokenizer_uskg([txt], max_length=1024, padding=\"max_length\", truncation=True)\n",
    "    \n",
    "    device = mt.model.device\n",
    "    pred = mt.tokenizer_uskg.batch_decode(\n",
    "      mt.model.generate(\n",
    "        torch.tensor(tokenized_txt.data['input_ids'], dtype=int, device=device),\n",
    "        torch.tensor(tokenized_txt.data['attention_mask'], dtype=int, device=device),\n",
    "        num_beams=1, \n",
    "        max_length=256\n",
    "        ), \n",
    "      skip_special_tokens=True \n",
    "    )\n",
    "    return pred[0]\n"
   ]
  },
  {
   "cell_type": "code",
   "execution_count": 336,
   "metadata": {},
   "outputs": [],
   "source": [
    "# adapted from evaluator.evaluate_one()\n",
    "\n",
    "def evaluate_sql(evaluator, db_name, gold, predicted):\n",
    "    schema = evaluator.schemas[db_name]\n",
    "    g_sql = sp_eval.get_sql(schema, gold)\n",
    "    hardness = evaluator.eval_hardness(g_sql)\n",
    "    # self.scores[hardness][\"count\"] += 1\n",
    "    # self.scores[\"all\"][\"count\"] += 1\n",
    "\n",
    "    parse_error = False\n",
    "    try:\n",
    "        p_sql = sp_eval.get_sql(schema, predicted)\n",
    "    except:\n",
    "        # If p_sql is not valid, then we will use an empty sql to evaluate with the correct sql\n",
    "        p_sql = {\n",
    "            \"except\": None,\n",
    "            \"from\": {\"conds\": [], \"table_units\": []},\n",
    "            \"groupBy\": [],\n",
    "            \"having\": [],\n",
    "            \"intersect\": None,\n",
    "            \"limit\": None,\n",
    "            \"orderBy\": [],\n",
    "            \"select\": [False, []],\n",
    "            \"union\": None,\n",
    "            \"where\": [],\n",
    "        }\n",
    "\n",
    "        # TODO fix\n",
    "        parse_error = True\n",
    "\n",
    "    # rebuild sql for value evaluation\n",
    "    kmap = evaluator.kmaps[db_name]\n",
    "    g_valid_col_units = sp_eval.build_valid_col_units(g_sql[\"from\"][\"table_units\"], schema)\n",
    "    g_sql = sp_eval.rebuild_sql_val(g_sql)\n",
    "    g_sql = sp_eval.rebuild_sql_col(g_valid_col_units, g_sql, kmap)\n",
    "    p_valid_col_units = sp_eval.build_valid_col_units(p_sql[\"from\"][\"table_units\"], schema)\n",
    "    p_sql = sp_eval.rebuild_sql_val(p_sql)\n",
    "    p_sql = sp_eval.rebuild_sql_col(p_valid_col_units, p_sql, kmap)\n",
    "    \n",
    "    exec_score = None\n",
    "    partial_scores = None\n",
    "    exact_score = None\n",
    "    if evaluator.etype in [\"all\", \"exec\"]:\n",
    "        exec_score = sp_eval.eval_exec_match(\n",
    "            evaluator.db_paths[db_name], predicted, gold, p_sql, g_sql\n",
    "        )\n",
    "        exec_score = int(exec_score)\n",
    "    if evaluator.etype in [\"all\", \"match\"]:\n",
    "        partial_scores = evaluator.eval_partial_match(p_sql, g_sql)\n",
    "        exact_score = evaluator.eval_exact_match(p_sql, g_sql, partial_scores)\n",
    "        # update_scores_match(self.scores, exact_score, hardness, partial_scores, PARTIAL_TYPES)\n",
    "\n",
    "    return {\n",
    "        \"predicted\": predicted,\n",
    "        \"gold\": gold,\n",
    "        \"predicted_parse_error\": parse_error,\n",
    "        \"hardness\": hardness,\n",
    "        \"exact\": exact_score,\n",
    "        \"partial\": partial_scores,\n",
    "        \"exec\": exec_score,\n",
    "    }"
   ]
  },
  {
   "cell_type": "code",
   "execution_count": 354,
   "metadata": {},
   "outputs": [],
   "source": [
    "db_dir = '/home/yshao/Projects/language/language/xsp/data/spider/database'\n",
    "\n",
    "def execute_sql(db, sql_str):\n",
    "    db_path = os.path.join(db_dir, db, f'{db}.sqlite')\n",
    "    conn = sqlite3.connect(db_path)\n",
    "    cursor = conn.cursor()\n",
    "    try:\n",
    "        cursor.execute(sql_str)\n",
    "        res = cursor.fetchall()\n",
    "    except:\n",
    "        res = 'ERROR'\n",
    "    conn.close()\n",
    "    return res"
   ]
  },
  {
   "cell_type": "code",
   "execution_count": 403,
   "metadata": {},
   "outputs": [
    {
     "data": {
      "text/plain": [
       "dict_keys(['query', 'question', 'db_id', 'db_path', 'db_table_names', 'db_column_names', 'db_column_types', 'db_primary_keys', 'db_foreign_keys', 'rat_sql_graph', 'serialized_schema', 'struct_in', 'text_in', 'seq_out'])"
      ]
     },
     "execution_count": 403,
     "metadata": {},
     "output_type": "execute_result"
    }
   ],
   "source": [
    "ex = processed_spider_dev[503]\n",
    "ex.keys()"
   ]
  },
  {
   "cell_type": "code",
   "execution_count": 404,
   "metadata": {},
   "outputs": [
    {
     "data": {
      "text/plain": [
       "('battle_death',\n",
       " \"How many battles did not lose any ship with tonnage '225'?\",\n",
       " \"select count(*) from battle where id not in ( select lost_in_battle from ship where tonnage = '225' );\",\n",
       " 'select count(*) from battle where id not in ( select lost_in_battle from ship where tonnage > 225 )')"
      ]
     },
     "execution_count": 404,
     "metadata": {},
     "output_type": "execute_result"
    }
   ],
   "source": [
    "pred = pred_sql(mt_uskg, ex)\n",
    "ex['db_id'], ex['text_in'], ex['seq_out'], pred"
   ]
  },
  {
   "cell_type": "code",
   "execution_count": null,
   "metadata": {},
   "outputs": [],
   "source": [
    "text_in = ex['text_in']\n",
    "struct_in = ex['struct_in']\n",
    "txt = f\"{text_in}; structed knowledge: {struct_in}\"\n",
    "txt_toks = mt_uskg.tokenizer_uskg.tokenize(txt)\n",
    "len(txt_toks)"
   ]
  },
  {
   "cell_type": "code",
   "execution_count": null,
   "metadata": {},
   "outputs": [],
   "source": [
    "txt_toks"
   ]
  },
  {
   "cell_type": "code",
   "execution_count": 405,
   "metadata": {},
   "outputs": [
    {
     "data": {
      "text/plain": [
       "(\"select count(*) from battle where id not in ( select lost_in_battle from ship where tonnage = '225' );\",\n",
       " [(7,)])"
      ]
     },
     "execution_count": 405,
     "metadata": {},
     "output_type": "execute_result"
    }
   ],
   "source": [
    "exec_res = execute_sql(ex['db_id'], ex['seq_out'])\n",
    "ex['seq_out'], exec_res"
   ]
  },
  {
   "cell_type": "code",
   "execution_count": 406,
   "metadata": {},
   "outputs": [
    {
     "data": {
      "text/plain": [
       "('select count(*) from battle where id not in ( select lost_in_battle from ship where tonnage > 225 )',\n",
       " [(3,)])"
      ]
     },
     "execution_count": 406,
     "metadata": {},
     "output_type": "execute_result"
    }
   ],
   "source": [
    "exec_res = execute_sql(ex['db_id'], pred)\n",
    "pred, exec_res"
   ]
  },
  {
   "cell_type": "code",
   "execution_count": 407,
   "metadata": {},
   "outputs": [
    {
     "data": {
      "text/plain": [
       "[(8,)]"
      ]
     },
     "execution_count": 407,
     "metadata": {},
     "output_type": "execute_result"
    }
   ],
   "source": [
    "chatgpt_pred = \"\"\"\n",
    "SELECT COUNT(DISTINCT battle.id) AS num_battles\n",
    "FROM battle\n",
    "LEFT JOIN ship ON battle.id = ship.lost_in_battle\n",
    "WHERE (ship.tonnage != '225' OR ship.tonnage IS NULL)\n",
    "\"\"\"\n",
    "\n",
    "execute_sql(ex['db_id'], chatgpt_pred)"
   ]
  },
  {
   "cell_type": "code",
   "execution_count": 339,
   "metadata": {},
   "outputs": [],
   "source": [
    "eval_res = evaluate_sql(evaluator, db_name=spider_ex['db_id'], gold=spider_ex['seq_out'], predicted=pred)"
   ]
  },
  {
   "cell_type": "code",
   "execution_count": 340,
   "metadata": {
    "scrolled": true
   },
   "outputs": [
    {
     "data": {
      "text/plain": [
       "{'predicted': 'select avg(num_of_staff) from museum where open_year  < 2009',\n",
       " 'gold': 'select avg(num_of_staff) from museum where open_year < 2009',\n",
       " 'predicted_parse_error': False,\n",
       " 'hardness': 'easy',\n",
       " 'exact': True,\n",
       " 'partial': {'select': {'acc': 1,\n",
       "   'rec': 1,\n",
       "   'f1': 1,\n",
       "   'label_total': 1,\n",
       "   'pred_total': 1},\n",
       "  'select(no AGG)': {'acc': 1,\n",
       "   'rec': 1,\n",
       "   'f1': 1,\n",
       "   'label_total': 1,\n",
       "   'pred_total': 1},\n",
       "  'where': {'acc': 1, 'rec': 1, 'f1': 1, 'label_total': 1, 'pred_total': 1},\n",
       "  'where(no OP)': {'acc': 1,\n",
       "   'rec': 1,\n",
       "   'f1': 1,\n",
       "   'label_total': 1,\n",
       "   'pred_total': 1},\n",
       "  'group(no Having)': {'acc': 1,\n",
       "   'rec': 1,\n",
       "   'f1': 1,\n",
       "   'label_total': 0,\n",
       "   'pred_total': 0},\n",
       "  'group': {'acc': 1, 'rec': 1, 'f1': 1, 'label_total': 0, 'pred_total': 0},\n",
       "  'order': {'acc': 1, 'rec': 1, 'f1': 1, 'label_total': 0, 'pred_total': 0},\n",
       "  'and/or': {'acc': 1, 'rec': 1, 'f1': 1, 'label_total': 1, 'pred_total': 1},\n",
       "  'IUEN': {'acc': 1, 'rec': 1, 'f1': 1, 'label_total': 0, 'pred_total': 0},\n",
       "  'keywords': {'acc': 1,\n",
       "   'rec': 1,\n",
       "   'f1': 1,\n",
       "   'label_total': 1,\n",
       "   'pred_total': 1}},\n",
       " 'exec': 1}"
      ]
     },
     "execution_count": 340,
     "metadata": {},
     "output_type": "execute_result"
    }
   ],
   "source": [
    "eval_res"
   ]
  },
  {
   "cell_type": "code",
   "execution_count": 411,
   "metadata": {},
   "outputs": [
    {
     "data": {
      "application/vnd.jupyter.widget-view+json": {
       "model_id": "dab76cae127742adbc790384e85093b6",
       "version_major": 2,
       "version_minor": 0
      },
      "text/plain": [
       "  0%|          | 0/1034 [00:00<?, ?it/s]"
      ]
     },
     "metadata": {},
     "output_type": "display_data"
    }
   ],
   "source": [
    "# Eval all \n",
    "# TODO: rerun with tokenizer_uskg decoding \n",
    "\n",
    "eval_sql_results = []\n",
    "\n",
    "for ex_id, ex in enumerate(tqdm(processed_spider_dev)):\n",
    "    pred = pred_sql(mt_uskg, ex)\n",
    "    eval_res = evaluate_sql(evaluator, db_name=ex['db_id'], gold=ex['seq_out'], predicted=pred)\n",
    "    eval_sql_results.append(eval_res)\n",
    "    "
   ]
  },
  {
   "cell_type": "code",
   "execution_count": 412,
   "metadata": {},
   "outputs": [
    {
     "data": {
      "text/plain": [
       "(0.6692456479690522, 0.6808510638297872)"
      ]
     },
     "execution_count": 412,
     "metadata": {},
     "output_type": "execute_result"
    }
   ],
   "source": [
    "avg_exact = np.mean([d['exact'] for d in eval_sql_results])\n",
    "avg_exec = np.mean([d['exec'] for d in eval_sql_results])\n",
    "avg_exact, avg_exec"
   ]
  },
  {
   "cell_type": "code",
   "execution_count": null,
   "metadata": {},
   "outputs": [],
   "source": [
    "for i, d in enumerate(eval_sql_results):\n",
    "    if d['exact'] and d['exec']:\n",
    "        continue\n",
    "    err_msg = ('A' if not d['exact'] else '') + ('X' if not d['exec'] else '')\n",
    "    ex = processed_spider_dev[i]\n",
    "    print(f'ID = {i}: {err_msg}  ({ex[\"db_id\"]}) {ex[\"text_in\"]}')\n",
    "    print(f'Pred: {d[\"predicted\"]}')\n",
    "    print(f'Gold: {d[\"gold\"]}')\n",
    "    print()"
   ]
  },
  {
   "cell_type": "code",
   "execution_count": null,
   "metadata": {
    "scrolled": true
   },
   "outputs": [],
   "source": [
    "evaluator.schemas['dog_kennels'].schema"
   ]
  },
  {
   "cell_type": "code",
   "execution_count": 414,
   "metadata": {},
   "outputs": [
    {
     "data": {
      "text/plain": [
       "20"
      ]
     },
     "execution_count": 414,
     "metadata": {},
     "output_type": "execute_result"
    }
   ],
   "source": [
    "# acc by db_id \n",
    "eval_sql_results_by_db_id = defaultdict(list)\n",
    "\n",
    "for i, d in enumerate(eval_sql_results):\n",
    "    d['ex_id'] = i\n",
    "    ex = processed_spider_dev[i]\n",
    "    db_id = ex['db_id']\n",
    "    eval_sql_results_by_db_id[db_id].append(d)\n",
    "\n",
    "len(eval_sql_results_by_db_id)"
   ]
  },
  {
   "cell_type": "code",
   "execution_count": 415,
   "metadata": {},
   "outputs": [
    {
     "name": "stdout",
     "output_type": "stream",
     "text": [
      "concert_singer\t0.8889\t0.8889\n",
      "pets_1\t0.5714\t0.7381\n",
      "car_1\t0.3478\t0.3913\n",
      "flight_2\t0.7000\t0.7500\n",
      "employee_hire_evaluation\t0.9474\t0.9737\n",
      "cre_Doc_Template_Mgt\t0.8333\t0.9048\n",
      "course_teach\t0.8667\t0.9333\n",
      "museum_visit\t0.7222\t0.8333\n",
      "wta_1\t0.6774\t0.6129\n",
      "battle_death\t0.5000\t0.5000\n",
      "student_transcripts_tracking\t0.6667\t0.6795\n",
      "tvshow\t0.7258\t0.6613\n",
      "poker_player\t0.8750\t0.8750\n",
      "voter_1\t0.6000\t0.6667\n",
      "world_1\t0.5083\t0.4833\n",
      "orchestra\t0.8000\t0.8750\n",
      "network_1\t0.6250\t0.4643\n",
      "dog_kennels\t0.5854\t0.5976\n",
      "singer\t0.8667\t0.8667\n",
      "real_estate_properties\t0.5000\t0.5000\n"
     ]
    }
   ],
   "source": [
    "for db_id, results in eval_sql_results_by_db_id.items():\n",
    "    _avg_exact = np.mean([d['exact'] for d in results])\n",
    "    _avg_exec = np.mean([d['exec'] for d in results])\n",
    "    print(f'{db_id}\\t{_avg_exact:.4f}\\t{_avg_exec:.4f}')"
   ]
  },
  {
   "cell_type": "code",
   "execution_count": null,
   "metadata": {},
   "outputs": [],
   "source": []
  },
  {
   "cell_type": "markdown",
   "metadata": {},
   "source": [
    "## Model intermediate inspect"
   ]
  },
  {
   "cell_type": "code",
   "execution_count": 282,
   "metadata": {},
   "outputs": [
    {
     "data": {
      "text/plain": [
       "['pretrain_model.shared.weight',\n",
       " 'pretrain_model.encoder.block.0.layer.0.SelfAttention.q.weight',\n",
       " 'pretrain_model.encoder.block.0.layer.0.SelfAttention.k.weight',\n",
       " 'pretrain_model.encoder.block.0.layer.0.SelfAttention.v.weight',\n",
       " 'pretrain_model.encoder.block.0.layer.0.SelfAttention.o.weight',\n",
       " 'pretrain_model.encoder.block.0.layer.0.SelfAttention.relative_attention_bias.weight',\n",
       " 'pretrain_model.encoder.block.0.layer.0.layer_norm.weight',\n",
       " 'pretrain_model.encoder.block.0.layer.1.DenseReluDense.wi.weight',\n",
       " 'pretrain_model.encoder.block.0.layer.1.DenseReluDense.wo.weight',\n",
       " 'pretrain_model.encoder.block.0.layer.1.layer_norm.weight',\n",
       " 'pretrain_model.encoder.block.1.layer.0.SelfAttention.q.weight',\n",
       " 'pretrain_model.encoder.block.1.layer.0.SelfAttention.k.weight',\n",
       " 'pretrain_model.encoder.block.1.layer.0.SelfAttention.v.weight',\n",
       " 'pretrain_model.encoder.block.1.layer.0.SelfAttention.o.weight',\n",
       " 'pretrain_model.encoder.block.1.layer.0.layer_norm.weight',\n",
       " 'pretrain_model.encoder.block.1.layer.1.DenseReluDense.wi.weight',\n",
       " 'pretrain_model.encoder.block.1.layer.1.DenseReluDense.wo.weight',\n",
       " 'pretrain_model.encoder.block.1.layer.1.layer_norm.weight',\n",
       " 'pretrain_model.encoder.block.2.layer.0.SelfAttention.q.weight',\n",
       " 'pretrain_model.encoder.block.2.layer.0.SelfAttention.k.weight',\n",
       " 'pretrain_model.encoder.block.2.layer.0.SelfAttention.v.weight',\n",
       " 'pretrain_model.encoder.block.2.layer.0.SelfAttention.o.weight',\n",
       " 'pretrain_model.encoder.block.2.layer.0.layer_norm.weight',\n",
       " 'pretrain_model.encoder.block.2.layer.1.DenseReluDense.wi.weight',\n",
       " 'pretrain_model.encoder.block.2.layer.1.DenseReluDense.wo.weight',\n",
       " 'pretrain_model.encoder.block.2.layer.1.layer_norm.weight',\n",
       " 'pretrain_model.encoder.block.3.layer.0.SelfAttention.q.weight',\n",
       " 'pretrain_model.encoder.block.3.layer.0.SelfAttention.k.weight',\n",
       " 'pretrain_model.encoder.block.3.layer.0.SelfAttention.v.weight',\n",
       " 'pretrain_model.encoder.block.3.layer.0.SelfAttention.o.weight',\n",
       " 'pretrain_model.encoder.block.3.layer.0.layer_norm.weight',\n",
       " 'pretrain_model.encoder.block.3.layer.1.DenseReluDense.wi.weight',\n",
       " 'pretrain_model.encoder.block.3.layer.1.DenseReluDense.wo.weight',\n",
       " 'pretrain_model.encoder.block.3.layer.1.layer_norm.weight',\n",
       " 'pretrain_model.encoder.block.4.layer.0.SelfAttention.q.weight',\n",
       " 'pretrain_model.encoder.block.4.layer.0.SelfAttention.k.weight',\n",
       " 'pretrain_model.encoder.block.4.layer.0.SelfAttention.v.weight',\n",
       " 'pretrain_model.encoder.block.4.layer.0.SelfAttention.o.weight',\n",
       " 'pretrain_model.encoder.block.4.layer.0.layer_norm.weight',\n",
       " 'pretrain_model.encoder.block.4.layer.1.DenseReluDense.wi.weight',\n",
       " 'pretrain_model.encoder.block.4.layer.1.DenseReluDense.wo.weight',\n",
       " 'pretrain_model.encoder.block.4.layer.1.layer_norm.weight',\n",
       " 'pretrain_model.encoder.block.5.layer.0.SelfAttention.q.weight',\n",
       " 'pretrain_model.encoder.block.5.layer.0.SelfAttention.k.weight',\n",
       " 'pretrain_model.encoder.block.5.layer.0.SelfAttention.v.weight',\n",
       " 'pretrain_model.encoder.block.5.layer.0.SelfAttention.o.weight',\n",
       " 'pretrain_model.encoder.block.5.layer.0.layer_norm.weight',\n",
       " 'pretrain_model.encoder.block.5.layer.1.DenseReluDense.wi.weight',\n",
       " 'pretrain_model.encoder.block.5.layer.1.DenseReluDense.wo.weight',\n",
       " 'pretrain_model.encoder.block.5.layer.1.layer_norm.weight',\n",
       " 'pretrain_model.encoder.block.6.layer.0.SelfAttention.q.weight',\n",
       " 'pretrain_model.encoder.block.6.layer.0.SelfAttention.k.weight',\n",
       " 'pretrain_model.encoder.block.6.layer.0.SelfAttention.v.weight',\n",
       " 'pretrain_model.encoder.block.6.layer.0.SelfAttention.o.weight',\n",
       " 'pretrain_model.encoder.block.6.layer.0.layer_norm.weight',\n",
       " 'pretrain_model.encoder.block.6.layer.1.DenseReluDense.wi.weight',\n",
       " 'pretrain_model.encoder.block.6.layer.1.DenseReluDense.wo.weight',\n",
       " 'pretrain_model.encoder.block.6.layer.1.layer_norm.weight',\n",
       " 'pretrain_model.encoder.block.7.layer.0.SelfAttention.q.weight',\n",
       " 'pretrain_model.encoder.block.7.layer.0.SelfAttention.k.weight',\n",
       " 'pretrain_model.encoder.block.7.layer.0.SelfAttention.v.weight',\n",
       " 'pretrain_model.encoder.block.7.layer.0.SelfAttention.o.weight',\n",
       " 'pretrain_model.encoder.block.7.layer.0.layer_norm.weight',\n",
       " 'pretrain_model.encoder.block.7.layer.1.DenseReluDense.wi.weight',\n",
       " 'pretrain_model.encoder.block.7.layer.1.DenseReluDense.wo.weight',\n",
       " 'pretrain_model.encoder.block.7.layer.1.layer_norm.weight',\n",
       " 'pretrain_model.encoder.block.8.layer.0.SelfAttention.q.weight',\n",
       " 'pretrain_model.encoder.block.8.layer.0.SelfAttention.k.weight',\n",
       " 'pretrain_model.encoder.block.8.layer.0.SelfAttention.v.weight',\n",
       " 'pretrain_model.encoder.block.8.layer.0.SelfAttention.o.weight',\n",
       " 'pretrain_model.encoder.block.8.layer.0.layer_norm.weight',\n",
       " 'pretrain_model.encoder.block.8.layer.1.DenseReluDense.wi.weight',\n",
       " 'pretrain_model.encoder.block.8.layer.1.DenseReluDense.wo.weight',\n",
       " 'pretrain_model.encoder.block.8.layer.1.layer_norm.weight',\n",
       " 'pretrain_model.encoder.block.9.layer.0.SelfAttention.q.weight',\n",
       " 'pretrain_model.encoder.block.9.layer.0.SelfAttention.k.weight',\n",
       " 'pretrain_model.encoder.block.9.layer.0.SelfAttention.v.weight',\n",
       " 'pretrain_model.encoder.block.9.layer.0.SelfAttention.o.weight',\n",
       " 'pretrain_model.encoder.block.9.layer.0.layer_norm.weight',\n",
       " 'pretrain_model.encoder.block.9.layer.1.DenseReluDense.wi.weight',\n",
       " 'pretrain_model.encoder.block.9.layer.1.DenseReluDense.wo.weight',\n",
       " 'pretrain_model.encoder.block.9.layer.1.layer_norm.weight',\n",
       " 'pretrain_model.encoder.block.10.layer.0.SelfAttention.q.weight',\n",
       " 'pretrain_model.encoder.block.10.layer.0.SelfAttention.k.weight',\n",
       " 'pretrain_model.encoder.block.10.layer.0.SelfAttention.v.weight',\n",
       " 'pretrain_model.encoder.block.10.layer.0.SelfAttention.o.weight',\n",
       " 'pretrain_model.encoder.block.10.layer.0.layer_norm.weight',\n",
       " 'pretrain_model.encoder.block.10.layer.1.DenseReluDense.wi.weight',\n",
       " 'pretrain_model.encoder.block.10.layer.1.DenseReluDense.wo.weight',\n",
       " 'pretrain_model.encoder.block.10.layer.1.layer_norm.weight',\n",
       " 'pretrain_model.encoder.block.11.layer.0.SelfAttention.q.weight',\n",
       " 'pretrain_model.encoder.block.11.layer.0.SelfAttention.k.weight',\n",
       " 'pretrain_model.encoder.block.11.layer.0.SelfAttention.v.weight',\n",
       " 'pretrain_model.encoder.block.11.layer.0.SelfAttention.o.weight',\n",
       " 'pretrain_model.encoder.block.11.layer.0.layer_norm.weight',\n",
       " 'pretrain_model.encoder.block.11.layer.1.DenseReluDense.wi.weight',\n",
       " 'pretrain_model.encoder.block.11.layer.1.DenseReluDense.wo.weight',\n",
       " 'pretrain_model.encoder.block.11.layer.1.layer_norm.weight',\n",
       " 'pretrain_model.encoder.block.12.layer.0.SelfAttention.q.weight',\n",
       " 'pretrain_model.encoder.block.12.layer.0.SelfAttention.k.weight',\n",
       " 'pretrain_model.encoder.block.12.layer.0.SelfAttention.v.weight',\n",
       " 'pretrain_model.encoder.block.12.layer.0.SelfAttention.o.weight',\n",
       " 'pretrain_model.encoder.block.12.layer.0.layer_norm.weight',\n",
       " 'pretrain_model.encoder.block.12.layer.1.DenseReluDense.wi.weight',\n",
       " 'pretrain_model.encoder.block.12.layer.1.DenseReluDense.wo.weight',\n",
       " 'pretrain_model.encoder.block.12.layer.1.layer_norm.weight',\n",
       " 'pretrain_model.encoder.block.13.layer.0.SelfAttention.q.weight',\n",
       " 'pretrain_model.encoder.block.13.layer.0.SelfAttention.k.weight',\n",
       " 'pretrain_model.encoder.block.13.layer.0.SelfAttention.v.weight',\n",
       " 'pretrain_model.encoder.block.13.layer.0.SelfAttention.o.weight',\n",
       " 'pretrain_model.encoder.block.13.layer.0.layer_norm.weight',\n",
       " 'pretrain_model.encoder.block.13.layer.1.DenseReluDense.wi.weight',\n",
       " 'pretrain_model.encoder.block.13.layer.1.DenseReluDense.wo.weight',\n",
       " 'pretrain_model.encoder.block.13.layer.1.layer_norm.weight',\n",
       " 'pretrain_model.encoder.block.14.layer.0.SelfAttention.q.weight',\n",
       " 'pretrain_model.encoder.block.14.layer.0.SelfAttention.k.weight',\n",
       " 'pretrain_model.encoder.block.14.layer.0.SelfAttention.v.weight',\n",
       " 'pretrain_model.encoder.block.14.layer.0.SelfAttention.o.weight',\n",
       " 'pretrain_model.encoder.block.14.layer.0.layer_norm.weight',\n",
       " 'pretrain_model.encoder.block.14.layer.1.DenseReluDense.wi.weight',\n",
       " 'pretrain_model.encoder.block.14.layer.1.DenseReluDense.wo.weight',\n",
       " 'pretrain_model.encoder.block.14.layer.1.layer_norm.weight',\n",
       " 'pretrain_model.encoder.block.15.layer.0.SelfAttention.q.weight',\n",
       " 'pretrain_model.encoder.block.15.layer.0.SelfAttention.k.weight',\n",
       " 'pretrain_model.encoder.block.15.layer.0.SelfAttention.v.weight',\n",
       " 'pretrain_model.encoder.block.15.layer.0.SelfAttention.o.weight',\n",
       " 'pretrain_model.encoder.block.15.layer.0.layer_norm.weight',\n",
       " 'pretrain_model.encoder.block.15.layer.1.DenseReluDense.wi.weight',\n",
       " 'pretrain_model.encoder.block.15.layer.1.DenseReluDense.wo.weight',\n",
       " 'pretrain_model.encoder.block.15.layer.1.layer_norm.weight',\n",
       " 'pretrain_model.encoder.block.16.layer.0.SelfAttention.q.weight',\n",
       " 'pretrain_model.encoder.block.16.layer.0.SelfAttention.k.weight',\n",
       " 'pretrain_model.encoder.block.16.layer.0.SelfAttention.v.weight',\n",
       " 'pretrain_model.encoder.block.16.layer.0.SelfAttention.o.weight',\n",
       " 'pretrain_model.encoder.block.16.layer.0.layer_norm.weight',\n",
       " 'pretrain_model.encoder.block.16.layer.1.DenseReluDense.wi.weight',\n",
       " 'pretrain_model.encoder.block.16.layer.1.DenseReluDense.wo.weight',\n",
       " 'pretrain_model.encoder.block.16.layer.1.layer_norm.weight',\n",
       " 'pretrain_model.encoder.block.17.layer.0.SelfAttention.q.weight',\n",
       " 'pretrain_model.encoder.block.17.layer.0.SelfAttention.k.weight',\n",
       " 'pretrain_model.encoder.block.17.layer.0.SelfAttention.v.weight',\n",
       " 'pretrain_model.encoder.block.17.layer.0.SelfAttention.o.weight',\n",
       " 'pretrain_model.encoder.block.17.layer.0.layer_norm.weight',\n",
       " 'pretrain_model.encoder.block.17.layer.1.DenseReluDense.wi.weight',\n",
       " 'pretrain_model.encoder.block.17.layer.1.DenseReluDense.wo.weight',\n",
       " 'pretrain_model.encoder.block.17.layer.1.layer_norm.weight',\n",
       " 'pretrain_model.encoder.block.18.layer.0.SelfAttention.q.weight',\n",
       " 'pretrain_model.encoder.block.18.layer.0.SelfAttention.k.weight',\n",
       " 'pretrain_model.encoder.block.18.layer.0.SelfAttention.v.weight',\n",
       " 'pretrain_model.encoder.block.18.layer.0.SelfAttention.o.weight',\n",
       " 'pretrain_model.encoder.block.18.layer.0.layer_norm.weight',\n",
       " 'pretrain_model.encoder.block.18.layer.1.DenseReluDense.wi.weight',\n",
       " 'pretrain_model.encoder.block.18.layer.1.DenseReluDense.wo.weight',\n",
       " 'pretrain_model.encoder.block.18.layer.1.layer_norm.weight',\n",
       " 'pretrain_model.encoder.block.19.layer.0.SelfAttention.q.weight',\n",
       " 'pretrain_model.encoder.block.19.layer.0.SelfAttention.k.weight',\n",
       " 'pretrain_model.encoder.block.19.layer.0.SelfAttention.v.weight',\n",
       " 'pretrain_model.encoder.block.19.layer.0.SelfAttention.o.weight',\n",
       " 'pretrain_model.encoder.block.19.layer.0.layer_norm.weight',\n",
       " 'pretrain_model.encoder.block.19.layer.1.DenseReluDense.wi.weight',\n",
       " 'pretrain_model.encoder.block.19.layer.1.DenseReluDense.wo.weight',\n",
       " 'pretrain_model.encoder.block.19.layer.1.layer_norm.weight',\n",
       " 'pretrain_model.encoder.block.20.layer.0.SelfAttention.q.weight',\n",
       " 'pretrain_model.encoder.block.20.layer.0.SelfAttention.k.weight',\n",
       " 'pretrain_model.encoder.block.20.layer.0.SelfAttention.v.weight',\n",
       " 'pretrain_model.encoder.block.20.layer.0.SelfAttention.o.weight',\n",
       " 'pretrain_model.encoder.block.20.layer.0.layer_norm.weight',\n",
       " 'pretrain_model.encoder.block.20.layer.1.DenseReluDense.wi.weight',\n",
       " 'pretrain_model.encoder.block.20.layer.1.DenseReluDense.wo.weight',\n",
       " 'pretrain_model.encoder.block.20.layer.1.layer_norm.weight',\n",
       " 'pretrain_model.encoder.block.21.layer.0.SelfAttention.q.weight',\n",
       " 'pretrain_model.encoder.block.21.layer.0.SelfAttention.k.weight',\n",
       " 'pretrain_model.encoder.block.21.layer.0.SelfAttention.v.weight',\n",
       " 'pretrain_model.encoder.block.21.layer.0.SelfAttention.o.weight',\n",
       " 'pretrain_model.encoder.block.21.layer.0.layer_norm.weight',\n",
       " 'pretrain_model.encoder.block.21.layer.1.DenseReluDense.wi.weight',\n",
       " 'pretrain_model.encoder.block.21.layer.1.DenseReluDense.wo.weight',\n",
       " 'pretrain_model.encoder.block.21.layer.1.layer_norm.weight',\n",
       " 'pretrain_model.encoder.block.22.layer.0.SelfAttention.q.weight',\n",
       " 'pretrain_model.encoder.block.22.layer.0.SelfAttention.k.weight',\n",
       " 'pretrain_model.encoder.block.22.layer.0.SelfAttention.v.weight',\n",
       " 'pretrain_model.encoder.block.22.layer.0.SelfAttention.o.weight',\n",
       " 'pretrain_model.encoder.block.22.layer.0.layer_norm.weight',\n",
       " 'pretrain_model.encoder.block.22.layer.1.DenseReluDense.wi.weight',\n",
       " 'pretrain_model.encoder.block.22.layer.1.DenseReluDense.wo.weight',\n",
       " 'pretrain_model.encoder.block.22.layer.1.layer_norm.weight',\n",
       " 'pretrain_model.encoder.block.23.layer.0.SelfAttention.q.weight',\n",
       " 'pretrain_model.encoder.block.23.layer.0.SelfAttention.k.weight',\n",
       " 'pretrain_model.encoder.block.23.layer.0.SelfAttention.v.weight',\n",
       " 'pretrain_model.encoder.block.23.layer.0.SelfAttention.o.weight',\n",
       " 'pretrain_model.encoder.block.23.layer.0.layer_norm.weight',\n",
       " 'pretrain_model.encoder.block.23.layer.1.DenseReluDense.wi.weight',\n",
       " 'pretrain_model.encoder.block.23.layer.1.DenseReluDense.wo.weight',\n",
       " 'pretrain_model.encoder.block.23.layer.1.layer_norm.weight',\n",
       " 'pretrain_model.encoder.final_layer_norm.weight',\n",
       " 'pretrain_model.decoder.embed_tokens.weight',\n",
       " 'pretrain_model.decoder.block.0.layer.0.SelfAttention.q.weight',\n",
       " 'pretrain_model.decoder.block.0.layer.0.SelfAttention.k.weight',\n",
       " 'pretrain_model.decoder.block.0.layer.0.SelfAttention.v.weight',\n",
       " 'pretrain_model.decoder.block.0.layer.0.SelfAttention.o.weight',\n",
       " 'pretrain_model.decoder.block.0.layer.0.SelfAttention.relative_attention_bias.weight',\n",
       " 'pretrain_model.decoder.block.0.layer.0.layer_norm.weight',\n",
       " 'pretrain_model.decoder.block.0.layer.1.EncDecAttention.q.weight',\n",
       " 'pretrain_model.decoder.block.0.layer.1.EncDecAttention.k.weight',\n",
       " 'pretrain_model.decoder.block.0.layer.1.EncDecAttention.v.weight',\n",
       " 'pretrain_model.decoder.block.0.layer.1.EncDecAttention.o.weight',\n",
       " 'pretrain_model.decoder.block.0.layer.1.layer_norm.weight',\n",
       " 'pretrain_model.decoder.block.0.layer.2.DenseReluDense.wi.weight',\n",
       " 'pretrain_model.decoder.block.0.layer.2.DenseReluDense.wo.weight',\n",
       " 'pretrain_model.decoder.block.0.layer.2.layer_norm.weight',\n",
       " 'pretrain_model.decoder.block.1.layer.0.SelfAttention.q.weight',\n",
       " 'pretrain_model.decoder.block.1.layer.0.SelfAttention.k.weight',\n",
       " 'pretrain_model.decoder.block.1.layer.0.SelfAttention.v.weight',\n",
       " 'pretrain_model.decoder.block.1.layer.0.SelfAttention.o.weight',\n",
       " 'pretrain_model.decoder.block.1.layer.0.layer_norm.weight',\n",
       " 'pretrain_model.decoder.block.1.layer.1.EncDecAttention.q.weight',\n",
       " 'pretrain_model.decoder.block.1.layer.1.EncDecAttention.k.weight',\n",
       " 'pretrain_model.decoder.block.1.layer.1.EncDecAttention.v.weight',\n",
       " 'pretrain_model.decoder.block.1.layer.1.EncDecAttention.o.weight',\n",
       " 'pretrain_model.decoder.block.1.layer.1.layer_norm.weight',\n",
       " 'pretrain_model.decoder.block.1.layer.2.DenseReluDense.wi.weight',\n",
       " 'pretrain_model.decoder.block.1.layer.2.DenseReluDense.wo.weight',\n",
       " 'pretrain_model.decoder.block.1.layer.2.layer_norm.weight',\n",
       " 'pretrain_model.decoder.block.2.layer.0.SelfAttention.q.weight',\n",
       " 'pretrain_model.decoder.block.2.layer.0.SelfAttention.k.weight',\n",
       " 'pretrain_model.decoder.block.2.layer.0.SelfAttention.v.weight',\n",
       " 'pretrain_model.decoder.block.2.layer.0.SelfAttention.o.weight',\n",
       " 'pretrain_model.decoder.block.2.layer.0.layer_norm.weight',\n",
       " 'pretrain_model.decoder.block.2.layer.1.EncDecAttention.q.weight',\n",
       " 'pretrain_model.decoder.block.2.layer.1.EncDecAttention.k.weight',\n",
       " 'pretrain_model.decoder.block.2.layer.1.EncDecAttention.v.weight',\n",
       " 'pretrain_model.decoder.block.2.layer.1.EncDecAttention.o.weight',\n",
       " 'pretrain_model.decoder.block.2.layer.1.layer_norm.weight',\n",
       " 'pretrain_model.decoder.block.2.layer.2.DenseReluDense.wi.weight',\n",
       " 'pretrain_model.decoder.block.2.layer.2.DenseReluDense.wo.weight',\n",
       " 'pretrain_model.decoder.block.2.layer.2.layer_norm.weight',\n",
       " 'pretrain_model.decoder.block.3.layer.0.SelfAttention.q.weight',\n",
       " 'pretrain_model.decoder.block.3.layer.0.SelfAttention.k.weight',\n",
       " 'pretrain_model.decoder.block.3.layer.0.SelfAttention.v.weight',\n",
       " 'pretrain_model.decoder.block.3.layer.0.SelfAttention.o.weight',\n",
       " 'pretrain_model.decoder.block.3.layer.0.layer_norm.weight',\n",
       " 'pretrain_model.decoder.block.3.layer.1.EncDecAttention.q.weight',\n",
       " 'pretrain_model.decoder.block.3.layer.1.EncDecAttention.k.weight',\n",
       " 'pretrain_model.decoder.block.3.layer.1.EncDecAttention.v.weight',\n",
       " 'pretrain_model.decoder.block.3.layer.1.EncDecAttention.o.weight',\n",
       " 'pretrain_model.decoder.block.3.layer.1.layer_norm.weight',\n",
       " 'pretrain_model.decoder.block.3.layer.2.DenseReluDense.wi.weight',\n",
       " 'pretrain_model.decoder.block.3.layer.2.DenseReluDense.wo.weight',\n",
       " 'pretrain_model.decoder.block.3.layer.2.layer_norm.weight',\n",
       " 'pretrain_model.decoder.block.4.layer.0.SelfAttention.q.weight',\n",
       " 'pretrain_model.decoder.block.4.layer.0.SelfAttention.k.weight',\n",
       " 'pretrain_model.decoder.block.4.layer.0.SelfAttention.v.weight',\n",
       " 'pretrain_model.decoder.block.4.layer.0.SelfAttention.o.weight',\n",
       " 'pretrain_model.decoder.block.4.layer.0.layer_norm.weight',\n",
       " 'pretrain_model.decoder.block.4.layer.1.EncDecAttention.q.weight',\n",
       " 'pretrain_model.decoder.block.4.layer.1.EncDecAttention.k.weight',\n",
       " 'pretrain_model.decoder.block.4.layer.1.EncDecAttention.v.weight',\n",
       " 'pretrain_model.decoder.block.4.layer.1.EncDecAttention.o.weight',\n",
       " 'pretrain_model.decoder.block.4.layer.1.layer_norm.weight',\n",
       " 'pretrain_model.decoder.block.4.layer.2.DenseReluDense.wi.weight',\n",
       " 'pretrain_model.decoder.block.4.layer.2.DenseReluDense.wo.weight',\n",
       " 'pretrain_model.decoder.block.4.layer.2.layer_norm.weight',\n",
       " 'pretrain_model.decoder.block.5.layer.0.SelfAttention.q.weight',\n",
       " 'pretrain_model.decoder.block.5.layer.0.SelfAttention.k.weight',\n",
       " 'pretrain_model.decoder.block.5.layer.0.SelfAttention.v.weight',\n",
       " 'pretrain_model.decoder.block.5.layer.0.SelfAttention.o.weight',\n",
       " 'pretrain_model.decoder.block.5.layer.0.layer_norm.weight',\n",
       " 'pretrain_model.decoder.block.5.layer.1.EncDecAttention.q.weight',\n",
       " 'pretrain_model.decoder.block.5.layer.1.EncDecAttention.k.weight',\n",
       " 'pretrain_model.decoder.block.5.layer.1.EncDecAttention.v.weight',\n",
       " 'pretrain_model.decoder.block.5.layer.1.EncDecAttention.o.weight',\n",
       " 'pretrain_model.decoder.block.5.layer.1.layer_norm.weight',\n",
       " 'pretrain_model.decoder.block.5.layer.2.DenseReluDense.wi.weight',\n",
       " 'pretrain_model.decoder.block.5.layer.2.DenseReluDense.wo.weight',\n",
       " 'pretrain_model.decoder.block.5.layer.2.layer_norm.weight',\n",
       " 'pretrain_model.decoder.block.6.layer.0.SelfAttention.q.weight',\n",
       " 'pretrain_model.decoder.block.6.layer.0.SelfAttention.k.weight',\n",
       " 'pretrain_model.decoder.block.6.layer.0.SelfAttention.v.weight',\n",
       " 'pretrain_model.decoder.block.6.layer.0.SelfAttention.o.weight',\n",
       " 'pretrain_model.decoder.block.6.layer.0.layer_norm.weight',\n",
       " 'pretrain_model.decoder.block.6.layer.1.EncDecAttention.q.weight',\n",
       " 'pretrain_model.decoder.block.6.layer.1.EncDecAttention.k.weight',\n",
       " 'pretrain_model.decoder.block.6.layer.1.EncDecAttention.v.weight',\n",
       " 'pretrain_model.decoder.block.6.layer.1.EncDecAttention.o.weight',\n",
       " 'pretrain_model.decoder.block.6.layer.1.layer_norm.weight',\n",
       " 'pretrain_model.decoder.block.6.layer.2.DenseReluDense.wi.weight',\n",
       " 'pretrain_model.decoder.block.6.layer.2.DenseReluDense.wo.weight',\n",
       " 'pretrain_model.decoder.block.6.layer.2.layer_norm.weight',\n",
       " 'pretrain_model.decoder.block.7.layer.0.SelfAttention.q.weight',\n",
       " 'pretrain_model.decoder.block.7.layer.0.SelfAttention.k.weight',\n",
       " 'pretrain_model.decoder.block.7.layer.0.SelfAttention.v.weight',\n",
       " 'pretrain_model.decoder.block.7.layer.0.SelfAttention.o.weight',\n",
       " 'pretrain_model.decoder.block.7.layer.0.layer_norm.weight',\n",
       " 'pretrain_model.decoder.block.7.layer.1.EncDecAttention.q.weight',\n",
       " 'pretrain_model.decoder.block.7.layer.1.EncDecAttention.k.weight',\n",
       " 'pretrain_model.decoder.block.7.layer.1.EncDecAttention.v.weight',\n",
       " 'pretrain_model.decoder.block.7.layer.1.EncDecAttention.o.weight',\n",
       " 'pretrain_model.decoder.block.7.layer.1.layer_norm.weight',\n",
       " 'pretrain_model.decoder.block.7.layer.2.DenseReluDense.wi.weight',\n",
       " 'pretrain_model.decoder.block.7.layer.2.DenseReluDense.wo.weight',\n",
       " 'pretrain_model.decoder.block.7.layer.2.layer_norm.weight',\n",
       " 'pretrain_model.decoder.block.8.layer.0.SelfAttention.q.weight',\n",
       " 'pretrain_model.decoder.block.8.layer.0.SelfAttention.k.weight',\n",
       " 'pretrain_model.decoder.block.8.layer.0.SelfAttention.v.weight',\n",
       " 'pretrain_model.decoder.block.8.layer.0.SelfAttention.o.weight',\n",
       " 'pretrain_model.decoder.block.8.layer.0.layer_norm.weight',\n",
       " 'pretrain_model.decoder.block.8.layer.1.EncDecAttention.q.weight',\n",
       " 'pretrain_model.decoder.block.8.layer.1.EncDecAttention.k.weight',\n",
       " 'pretrain_model.decoder.block.8.layer.1.EncDecAttention.v.weight',\n",
       " 'pretrain_model.decoder.block.8.layer.1.EncDecAttention.o.weight',\n",
       " 'pretrain_model.decoder.block.8.layer.1.layer_norm.weight',\n",
       " 'pretrain_model.decoder.block.8.layer.2.DenseReluDense.wi.weight',\n",
       " 'pretrain_model.decoder.block.8.layer.2.DenseReluDense.wo.weight',\n",
       " 'pretrain_model.decoder.block.8.layer.2.layer_norm.weight',\n",
       " 'pretrain_model.decoder.block.9.layer.0.SelfAttention.q.weight',\n",
       " 'pretrain_model.decoder.block.9.layer.0.SelfAttention.k.weight',\n",
       " 'pretrain_model.decoder.block.9.layer.0.SelfAttention.v.weight',\n",
       " 'pretrain_model.decoder.block.9.layer.0.SelfAttention.o.weight',\n",
       " 'pretrain_model.decoder.block.9.layer.0.layer_norm.weight',\n",
       " 'pretrain_model.decoder.block.9.layer.1.EncDecAttention.q.weight',\n",
       " 'pretrain_model.decoder.block.9.layer.1.EncDecAttention.k.weight',\n",
       " 'pretrain_model.decoder.block.9.layer.1.EncDecAttention.v.weight',\n",
       " 'pretrain_model.decoder.block.9.layer.1.EncDecAttention.o.weight',\n",
       " 'pretrain_model.decoder.block.9.layer.1.layer_norm.weight',\n",
       " 'pretrain_model.decoder.block.9.layer.2.DenseReluDense.wi.weight',\n",
       " 'pretrain_model.decoder.block.9.layer.2.DenseReluDense.wo.weight',\n",
       " 'pretrain_model.decoder.block.9.layer.2.layer_norm.weight',\n",
       " 'pretrain_model.decoder.block.10.layer.0.SelfAttention.q.weight',\n",
       " 'pretrain_model.decoder.block.10.layer.0.SelfAttention.k.weight',\n",
       " 'pretrain_model.decoder.block.10.layer.0.SelfAttention.v.weight',\n",
       " 'pretrain_model.decoder.block.10.layer.0.SelfAttention.o.weight',\n",
       " 'pretrain_model.decoder.block.10.layer.0.layer_norm.weight',\n",
       " 'pretrain_model.decoder.block.10.layer.1.EncDecAttention.q.weight',\n",
       " 'pretrain_model.decoder.block.10.layer.1.EncDecAttention.k.weight',\n",
       " 'pretrain_model.decoder.block.10.layer.1.EncDecAttention.v.weight',\n",
       " 'pretrain_model.decoder.block.10.layer.1.EncDecAttention.o.weight',\n",
       " 'pretrain_model.decoder.block.10.layer.1.layer_norm.weight',\n",
       " 'pretrain_model.decoder.block.10.layer.2.DenseReluDense.wi.weight',\n",
       " 'pretrain_model.decoder.block.10.layer.2.DenseReluDense.wo.weight',\n",
       " 'pretrain_model.decoder.block.10.layer.2.layer_norm.weight',\n",
       " 'pretrain_model.decoder.block.11.layer.0.SelfAttention.q.weight',\n",
       " 'pretrain_model.decoder.block.11.layer.0.SelfAttention.k.weight',\n",
       " 'pretrain_model.decoder.block.11.layer.0.SelfAttention.v.weight',\n",
       " 'pretrain_model.decoder.block.11.layer.0.SelfAttention.o.weight',\n",
       " 'pretrain_model.decoder.block.11.layer.0.layer_norm.weight',\n",
       " 'pretrain_model.decoder.block.11.layer.1.EncDecAttention.q.weight',\n",
       " 'pretrain_model.decoder.block.11.layer.1.EncDecAttention.k.weight',\n",
       " 'pretrain_model.decoder.block.11.layer.1.EncDecAttention.v.weight',\n",
       " 'pretrain_model.decoder.block.11.layer.1.EncDecAttention.o.weight',\n",
       " 'pretrain_model.decoder.block.11.layer.1.layer_norm.weight',\n",
       " 'pretrain_model.decoder.block.11.layer.2.DenseReluDense.wi.weight',\n",
       " 'pretrain_model.decoder.block.11.layer.2.DenseReluDense.wo.weight',\n",
       " 'pretrain_model.decoder.block.11.layer.2.layer_norm.weight',\n",
       " 'pretrain_model.decoder.block.12.layer.0.SelfAttention.q.weight',\n",
       " 'pretrain_model.decoder.block.12.layer.0.SelfAttention.k.weight',\n",
       " 'pretrain_model.decoder.block.12.layer.0.SelfAttention.v.weight',\n",
       " 'pretrain_model.decoder.block.12.layer.0.SelfAttention.o.weight',\n",
       " 'pretrain_model.decoder.block.12.layer.0.layer_norm.weight',\n",
       " 'pretrain_model.decoder.block.12.layer.1.EncDecAttention.q.weight',\n",
       " 'pretrain_model.decoder.block.12.layer.1.EncDecAttention.k.weight',\n",
       " 'pretrain_model.decoder.block.12.layer.1.EncDecAttention.v.weight',\n",
       " 'pretrain_model.decoder.block.12.layer.1.EncDecAttention.o.weight',\n",
       " 'pretrain_model.decoder.block.12.layer.1.layer_norm.weight',\n",
       " 'pretrain_model.decoder.block.12.layer.2.DenseReluDense.wi.weight',\n",
       " 'pretrain_model.decoder.block.12.layer.2.DenseReluDense.wo.weight',\n",
       " 'pretrain_model.decoder.block.12.layer.2.layer_norm.weight',\n",
       " 'pretrain_model.decoder.block.13.layer.0.SelfAttention.q.weight',\n",
       " 'pretrain_model.decoder.block.13.layer.0.SelfAttention.k.weight',\n",
       " 'pretrain_model.decoder.block.13.layer.0.SelfAttention.v.weight',\n",
       " 'pretrain_model.decoder.block.13.layer.0.SelfAttention.o.weight',\n",
       " 'pretrain_model.decoder.block.13.layer.0.layer_norm.weight',\n",
       " 'pretrain_model.decoder.block.13.layer.1.EncDecAttention.q.weight',\n",
       " 'pretrain_model.decoder.block.13.layer.1.EncDecAttention.k.weight',\n",
       " 'pretrain_model.decoder.block.13.layer.1.EncDecAttention.v.weight',\n",
       " 'pretrain_model.decoder.block.13.layer.1.EncDecAttention.o.weight',\n",
       " 'pretrain_model.decoder.block.13.layer.1.layer_norm.weight',\n",
       " 'pretrain_model.decoder.block.13.layer.2.DenseReluDense.wi.weight',\n",
       " 'pretrain_model.decoder.block.13.layer.2.DenseReluDense.wo.weight',\n",
       " 'pretrain_model.decoder.block.13.layer.2.layer_norm.weight',\n",
       " 'pretrain_model.decoder.block.14.layer.0.SelfAttention.q.weight',\n",
       " 'pretrain_model.decoder.block.14.layer.0.SelfAttention.k.weight',\n",
       " 'pretrain_model.decoder.block.14.layer.0.SelfAttention.v.weight',\n",
       " 'pretrain_model.decoder.block.14.layer.0.SelfAttention.o.weight',\n",
       " 'pretrain_model.decoder.block.14.layer.0.layer_norm.weight',\n",
       " 'pretrain_model.decoder.block.14.layer.1.EncDecAttention.q.weight',\n",
       " 'pretrain_model.decoder.block.14.layer.1.EncDecAttention.k.weight',\n",
       " 'pretrain_model.decoder.block.14.layer.1.EncDecAttention.v.weight',\n",
       " 'pretrain_model.decoder.block.14.layer.1.EncDecAttention.o.weight',\n",
       " 'pretrain_model.decoder.block.14.layer.1.layer_norm.weight',\n",
       " 'pretrain_model.decoder.block.14.layer.2.DenseReluDense.wi.weight',\n",
       " 'pretrain_model.decoder.block.14.layer.2.DenseReluDense.wo.weight',\n",
       " 'pretrain_model.decoder.block.14.layer.2.layer_norm.weight',\n",
       " 'pretrain_model.decoder.block.15.layer.0.SelfAttention.q.weight',\n",
       " 'pretrain_model.decoder.block.15.layer.0.SelfAttention.k.weight',\n",
       " 'pretrain_model.decoder.block.15.layer.0.SelfAttention.v.weight',\n",
       " 'pretrain_model.decoder.block.15.layer.0.SelfAttention.o.weight',\n",
       " 'pretrain_model.decoder.block.15.layer.0.layer_norm.weight',\n",
       " 'pretrain_model.decoder.block.15.layer.1.EncDecAttention.q.weight',\n",
       " 'pretrain_model.decoder.block.15.layer.1.EncDecAttention.k.weight',\n",
       " 'pretrain_model.decoder.block.15.layer.1.EncDecAttention.v.weight',\n",
       " 'pretrain_model.decoder.block.15.layer.1.EncDecAttention.o.weight',\n",
       " 'pretrain_model.decoder.block.15.layer.1.layer_norm.weight',\n",
       " 'pretrain_model.decoder.block.15.layer.2.DenseReluDense.wi.weight',\n",
       " 'pretrain_model.decoder.block.15.layer.2.DenseReluDense.wo.weight',\n",
       " 'pretrain_model.decoder.block.15.layer.2.layer_norm.weight',\n",
       " 'pretrain_model.decoder.block.16.layer.0.SelfAttention.q.weight',\n",
       " 'pretrain_model.decoder.block.16.layer.0.SelfAttention.k.weight',\n",
       " 'pretrain_model.decoder.block.16.layer.0.SelfAttention.v.weight',\n",
       " 'pretrain_model.decoder.block.16.layer.0.SelfAttention.o.weight',\n",
       " 'pretrain_model.decoder.block.16.layer.0.layer_norm.weight',\n",
       " 'pretrain_model.decoder.block.16.layer.1.EncDecAttention.q.weight',\n",
       " 'pretrain_model.decoder.block.16.layer.1.EncDecAttention.k.weight',\n",
       " 'pretrain_model.decoder.block.16.layer.1.EncDecAttention.v.weight',\n",
       " 'pretrain_model.decoder.block.16.layer.1.EncDecAttention.o.weight',\n",
       " 'pretrain_model.decoder.block.16.layer.1.layer_norm.weight',\n",
       " 'pretrain_model.decoder.block.16.layer.2.DenseReluDense.wi.weight',\n",
       " 'pretrain_model.decoder.block.16.layer.2.DenseReluDense.wo.weight',\n",
       " 'pretrain_model.decoder.block.16.layer.2.layer_norm.weight',\n",
       " 'pretrain_model.decoder.block.17.layer.0.SelfAttention.q.weight',\n",
       " 'pretrain_model.decoder.block.17.layer.0.SelfAttention.k.weight',\n",
       " 'pretrain_model.decoder.block.17.layer.0.SelfAttention.v.weight',\n",
       " 'pretrain_model.decoder.block.17.layer.0.SelfAttention.o.weight',\n",
       " 'pretrain_model.decoder.block.17.layer.0.layer_norm.weight',\n",
       " 'pretrain_model.decoder.block.17.layer.1.EncDecAttention.q.weight',\n",
       " 'pretrain_model.decoder.block.17.layer.1.EncDecAttention.k.weight',\n",
       " 'pretrain_model.decoder.block.17.layer.1.EncDecAttention.v.weight',\n",
       " 'pretrain_model.decoder.block.17.layer.1.EncDecAttention.o.weight',\n",
       " 'pretrain_model.decoder.block.17.layer.1.layer_norm.weight',\n",
       " 'pretrain_model.decoder.block.17.layer.2.DenseReluDense.wi.weight',\n",
       " 'pretrain_model.decoder.block.17.layer.2.DenseReluDense.wo.weight',\n",
       " 'pretrain_model.decoder.block.17.layer.2.layer_norm.weight',\n",
       " 'pretrain_model.decoder.block.18.layer.0.SelfAttention.q.weight',\n",
       " 'pretrain_model.decoder.block.18.layer.0.SelfAttention.k.weight',\n",
       " 'pretrain_model.decoder.block.18.layer.0.SelfAttention.v.weight',\n",
       " 'pretrain_model.decoder.block.18.layer.0.SelfAttention.o.weight',\n",
       " 'pretrain_model.decoder.block.18.layer.0.layer_norm.weight',\n",
       " 'pretrain_model.decoder.block.18.layer.1.EncDecAttention.q.weight',\n",
       " 'pretrain_model.decoder.block.18.layer.1.EncDecAttention.k.weight',\n",
       " 'pretrain_model.decoder.block.18.layer.1.EncDecAttention.v.weight',\n",
       " 'pretrain_model.decoder.block.18.layer.1.EncDecAttention.o.weight',\n",
       " 'pretrain_model.decoder.block.18.layer.1.layer_norm.weight',\n",
       " 'pretrain_model.decoder.block.18.layer.2.DenseReluDense.wi.weight',\n",
       " 'pretrain_model.decoder.block.18.layer.2.DenseReluDense.wo.weight',\n",
       " 'pretrain_model.decoder.block.18.layer.2.layer_norm.weight',\n",
       " 'pretrain_model.decoder.block.19.layer.0.SelfAttention.q.weight',\n",
       " 'pretrain_model.decoder.block.19.layer.0.SelfAttention.k.weight',\n",
       " 'pretrain_model.decoder.block.19.layer.0.SelfAttention.v.weight',\n",
       " 'pretrain_model.decoder.block.19.layer.0.SelfAttention.o.weight',\n",
       " 'pretrain_model.decoder.block.19.layer.0.layer_norm.weight',\n",
       " 'pretrain_model.decoder.block.19.layer.1.EncDecAttention.q.weight',\n",
       " 'pretrain_model.decoder.block.19.layer.1.EncDecAttention.k.weight',\n",
       " 'pretrain_model.decoder.block.19.layer.1.EncDecAttention.v.weight',\n",
       " 'pretrain_model.decoder.block.19.layer.1.EncDecAttention.o.weight',\n",
       " 'pretrain_model.decoder.block.19.layer.1.layer_norm.weight',\n",
       " 'pretrain_model.decoder.block.19.layer.2.DenseReluDense.wi.weight',\n",
       " 'pretrain_model.decoder.block.19.layer.2.DenseReluDense.wo.weight',\n",
       " 'pretrain_model.decoder.block.19.layer.2.layer_norm.weight',\n",
       " 'pretrain_model.decoder.block.20.layer.0.SelfAttention.q.weight',\n",
       " 'pretrain_model.decoder.block.20.layer.0.SelfAttention.k.weight',\n",
       " 'pretrain_model.decoder.block.20.layer.0.SelfAttention.v.weight',\n",
       " 'pretrain_model.decoder.block.20.layer.0.SelfAttention.o.weight',\n",
       " 'pretrain_model.decoder.block.20.layer.0.layer_norm.weight',\n",
       " 'pretrain_model.decoder.block.20.layer.1.EncDecAttention.q.weight',\n",
       " 'pretrain_model.decoder.block.20.layer.1.EncDecAttention.k.weight',\n",
       " 'pretrain_model.decoder.block.20.layer.1.EncDecAttention.v.weight',\n",
       " 'pretrain_model.decoder.block.20.layer.1.EncDecAttention.o.weight',\n",
       " 'pretrain_model.decoder.block.20.layer.1.layer_norm.weight',\n",
       " 'pretrain_model.decoder.block.20.layer.2.DenseReluDense.wi.weight',\n",
       " 'pretrain_model.decoder.block.20.layer.2.DenseReluDense.wo.weight',\n",
       " 'pretrain_model.decoder.block.20.layer.2.layer_norm.weight',\n",
       " 'pretrain_model.decoder.block.21.layer.0.SelfAttention.q.weight',\n",
       " 'pretrain_model.decoder.block.21.layer.0.SelfAttention.k.weight',\n",
       " 'pretrain_model.decoder.block.21.layer.0.SelfAttention.v.weight',\n",
       " 'pretrain_model.decoder.block.21.layer.0.SelfAttention.o.weight',\n",
       " 'pretrain_model.decoder.block.21.layer.0.layer_norm.weight',\n",
       " 'pretrain_model.decoder.block.21.layer.1.EncDecAttention.q.weight',\n",
       " 'pretrain_model.decoder.block.21.layer.1.EncDecAttention.k.weight',\n",
       " 'pretrain_model.decoder.block.21.layer.1.EncDecAttention.v.weight',\n",
       " 'pretrain_model.decoder.block.21.layer.1.EncDecAttention.o.weight',\n",
       " 'pretrain_model.decoder.block.21.layer.1.layer_norm.weight',\n",
       " 'pretrain_model.decoder.block.21.layer.2.DenseReluDense.wi.weight',\n",
       " 'pretrain_model.decoder.block.21.layer.2.DenseReluDense.wo.weight',\n",
       " 'pretrain_model.decoder.block.21.layer.2.layer_norm.weight',\n",
       " 'pretrain_model.decoder.block.22.layer.0.SelfAttention.q.weight',\n",
       " 'pretrain_model.decoder.block.22.layer.0.SelfAttention.k.weight',\n",
       " 'pretrain_model.decoder.block.22.layer.0.SelfAttention.v.weight',\n",
       " 'pretrain_model.decoder.block.22.layer.0.SelfAttention.o.weight',\n",
       " 'pretrain_model.decoder.block.22.layer.0.layer_norm.weight',\n",
       " 'pretrain_model.decoder.block.22.layer.1.EncDecAttention.q.weight',\n",
       " 'pretrain_model.decoder.block.22.layer.1.EncDecAttention.k.weight',\n",
       " 'pretrain_model.decoder.block.22.layer.1.EncDecAttention.v.weight',\n",
       " 'pretrain_model.decoder.block.22.layer.1.EncDecAttention.o.weight',\n",
       " 'pretrain_model.decoder.block.22.layer.1.layer_norm.weight',\n",
       " 'pretrain_model.decoder.block.22.layer.2.DenseReluDense.wi.weight',\n",
       " 'pretrain_model.decoder.block.22.layer.2.DenseReluDense.wo.weight',\n",
       " 'pretrain_model.decoder.block.22.layer.2.layer_norm.weight',\n",
       " 'pretrain_model.decoder.block.23.layer.0.SelfAttention.q.weight',\n",
       " 'pretrain_model.decoder.block.23.layer.0.SelfAttention.k.weight',\n",
       " 'pretrain_model.decoder.block.23.layer.0.SelfAttention.v.weight',\n",
       " 'pretrain_model.decoder.block.23.layer.0.SelfAttention.o.weight',\n",
       " 'pretrain_model.decoder.block.23.layer.0.layer_norm.weight',\n",
       " 'pretrain_model.decoder.block.23.layer.1.EncDecAttention.q.weight',\n",
       " 'pretrain_model.decoder.block.23.layer.1.EncDecAttention.k.weight',\n",
       " 'pretrain_model.decoder.block.23.layer.1.EncDecAttention.v.weight',\n",
       " 'pretrain_model.decoder.block.23.layer.1.EncDecAttention.o.weight',\n",
       " 'pretrain_model.decoder.block.23.layer.1.layer_norm.weight',\n",
       " 'pretrain_model.decoder.block.23.layer.2.DenseReluDense.wi.weight',\n",
       " 'pretrain_model.decoder.block.23.layer.2.DenseReluDense.wo.weight',\n",
       " 'pretrain_model.decoder.block.23.layer.2.layer_norm.weight',\n",
       " 'pretrain_model.decoder.final_layer_norm.weight',\n",
       " 'wte.weight',\n",
       " 'control_trans.0.weight',\n",
       " 'control_trans.0.bias',\n",
       " 'control_trans.2.weight',\n",
       " 'control_trans.2.bias',\n",
       " 'wte_enc.weight',\n",
       " 'control_trans_enc.0.weight',\n",
       " 'control_trans_enc.0.bias',\n",
       " 'control_trans_enc.2.weight',\n",
       " 'control_trans_enc.2.bias',\n",
       " 'wte_dec.weight',\n",
       " 'control_trans_dec.0.weight',\n",
       " 'control_trans_dec.0.bias',\n",
       " 'control_trans_dec.2.weight',\n",
       " 'control_trans_dec.2.bias']"
      ]
     },
     "execution_count": 282,
     "metadata": {},
     "output_type": "execute_result"
    }
   ],
   "source": [
    "[k for k, v in mt_uskg.model.named_parameters()]"
   ]
  },
  {
   "cell_type": "markdown",
   "metadata": {},
   "source": [
    "### Self-attention"
   ]
  },
  {
   "cell_type": "code",
   "execution_count": 284,
   "metadata": {},
   "outputs": [
    {
     "data": {
      "text/plain": [
       "transformers.models.t5.configuration_t5.T5Config"
      ]
     },
     "execution_count": 284,
     "metadata": {},
     "output_type": "execute_result"
    }
   ],
   "source": [
    "_t5_config = mt_uskg.model.config\n",
    "type(_t5_config)"
   ]
  },
  {
   "cell_type": "code",
   "execution_count": 286,
   "metadata": {
    "scrolled": true
   },
   "outputs": [
    {
     "data": {
      "text/plain": [
       "T5Config {\n",
       "  \"_name_or_path\": \"t5-large\",\n",
       "  \"architectures\": [\n",
       "    \"T5ForConditionalGeneration\"\n",
       "  ],\n",
       "  \"d_ff\": 4096,\n",
       "  \"d_kv\": 64,\n",
       "  \"d_model\": 1024,\n",
       "  \"decoder_start_token_id\": 0,\n",
       "  \"dropout_rate\": 0.1,\n",
       "  \"eos_token_id\": 1,\n",
       "  \"feed_forward_proj\": \"relu\",\n",
       "  \"gradient_checkpointing\": false,\n",
       "  \"initializer_factor\": 1.0,\n",
       "  \"is_encoder_decoder\": true,\n",
       "  \"layer_norm_epsilon\": 1e-06,\n",
       "  \"model_type\": \"t5\",\n",
       "  \"n_positions\": 512,\n",
       "  \"num_decoder_layers\": 24,\n",
       "  \"num_heads\": 16,\n",
       "  \"num_layers\": 24,\n",
       "  \"output_past\": true,\n",
       "  \"pad_token_id\": 0,\n",
       "  \"relative_attention_num_buckets\": 32,\n",
       "  \"task_specific_params\": {\n",
       "    \"summarization\": {\n",
       "      \"early_stopping\": true,\n",
       "      \"length_penalty\": 2.0,\n",
       "      \"max_length\": 200,\n",
       "      \"min_length\": 30,\n",
       "      \"no_repeat_ngram_size\": 3,\n",
       "      \"num_beams\": 4,\n",
       "      \"prefix\": \"summarize: \"\n",
       "    },\n",
       "    \"translation_en_to_de\": {\n",
       "      \"early_stopping\": true,\n",
       "      \"max_length\": 300,\n",
       "      \"num_beams\": 4,\n",
       "      \"prefix\": \"translate English to German: \"\n",
       "    },\n",
       "    \"translation_en_to_fr\": {\n",
       "      \"early_stopping\": true,\n",
       "      \"max_length\": 300,\n",
       "      \"num_beams\": 4,\n",
       "      \"prefix\": \"translate English to French: \"\n",
       "    },\n",
       "    \"translation_en_to_ro\": {\n",
       "      \"early_stopping\": true,\n",
       "      \"max_length\": 300,\n",
       "      \"num_beams\": 4,\n",
       "      \"prefix\": \"translate English to Romanian: \"\n",
       "    }\n",
       "  },\n",
       "  \"transformers_version\": \"4.9.2\",\n",
       "  \"use_cache\": true,\n",
       "  \"vocab_size\": 32102\n",
       "}"
      ]
     },
     "execution_count": 286,
     "metadata": {},
     "output_type": "execute_result"
    }
   ],
   "source": [
    "_t5_config"
   ]
  },
  {
   "cell_type": "code",
   "execution_count": 306,
   "metadata": {},
   "outputs": [
    {
     "data": {
      "text/plain": [
       "T5Attention(\n",
       "  (q): Linear(in_features=1024, out_features=1024, bias=False)\n",
       "  (k): Linear(in_features=1024, out_features=1024, bias=False)\n",
       "  (v): Linear(in_features=1024, out_features=1024, bias=False)\n",
       "  (o): Linear(in_features=1024, out_features=1024, bias=False)\n",
       ")"
      ]
     },
     "execution_count": 306,
     "metadata": {},
     "output_type": "execute_result"
    }
   ],
   "source": [
    "sa_module = uskg.models.prompt.modeling_t5.T5Attention(_t5_config)\n",
    "sa_module.eval()\n",
    "sa_module"
   ]
  },
  {
   "cell_type": "code",
   "execution_count": 307,
   "metadata": {},
   "outputs": [
    {
     "data": {
      "text/plain": [
       "{'training': False,\n",
       " '_parameters': OrderedDict(),\n",
       " '_buffers': OrderedDict(),\n",
       " '_non_persistent_buffers_set': set(),\n",
       " '_backward_hooks': OrderedDict(),\n",
       " '_is_full_backward_hook': None,\n",
       " '_forward_hooks': OrderedDict(),\n",
       " '_forward_pre_hooks': OrderedDict(),\n",
       " '_state_dict_hooks': OrderedDict(),\n",
       " '_load_state_dict_pre_hooks': OrderedDict(),\n",
       " '_modules': OrderedDict([('q',\n",
       "               Linear(in_features=1024, out_features=1024, bias=False)),\n",
       "              ('k', Linear(in_features=1024, out_features=1024, bias=False)),\n",
       "              ('v', Linear(in_features=1024, out_features=1024, bias=False)),\n",
       "              ('o', Linear(in_features=1024, out_features=1024, bias=False))]),\n",
       " 'is_decoder': False,\n",
       " 'has_relative_attention_bias': False,\n",
       " 'relative_attention_num_buckets': 32,\n",
       " 'd_model': 1024,\n",
       " 'key_value_proj_dim': 64,\n",
       " 'n_heads': 16,\n",
       " 'dropout': 0.1,\n",
       " 'inner_dim': 1024,\n",
       " 'pruned_heads': set(),\n",
       " 'gradient_checkpointing': False}"
      ]
     },
     "execution_count": 307,
     "metadata": {},
     "output_type": "execute_result"
    }
   ],
   "source": [
    "sa_module.__dict__"
   ]
  },
  {
   "cell_type": "code",
   "execution_count": 308,
   "metadata": {},
   "outputs": [],
   "source": [
    "bsz = 3\n",
    "seq_len = 10\n",
    "dim = 1024\n",
    "fake_sa_input = torch.zeros(bsz, seq_len, dim)"
   ]
  },
  {
   "cell_type": "code",
   "execution_count": 309,
   "metadata": {
    "scrolled": true
   },
   "outputs": [],
   "source": [
    "attn_output, present_key_value_state, position_bias, attn_weights = sa_module(fake_sa_input, output_attentions=True)"
   ]
  },
  {
   "cell_type": "code",
   "execution_count": 310,
   "metadata": {},
   "outputs": [
    {
     "data": {
      "text/plain": [
       "torch.Size([3, 10, 1024])"
      ]
     },
     "execution_count": 310,
     "metadata": {},
     "output_type": "execute_result"
    }
   ],
   "source": [
    "attn_output.size()"
   ]
  },
  {
   "cell_type": "code",
   "execution_count": 311,
   "metadata": {},
   "outputs": [],
   "source": [
    "present_key_value_state"
   ]
  },
  {
   "cell_type": "code",
   "execution_count": 312,
   "metadata": {},
   "outputs": [
    {
     "data": {
      "text/plain": [
       "torch.Size([3, 16, 10, 10])"
      ]
     },
     "execution_count": 312,
     "metadata": {},
     "output_type": "execute_result"
    }
   ],
   "source": [
    "attn_weights.size()"
   ]
  },
  {
   "cell_type": "code",
   "execution_count": 313,
   "metadata": {},
   "outputs": [
    {
     "data": {
      "text/plain": [
       "torch.Size([1, 16, 10, 10])"
      ]
     },
     "execution_count": 313,
     "metadata": {},
     "output_type": "execute_result"
    }
   ],
   "source": [
    "position_bias.size()"
   ]
  },
  {
   "cell_type": "code",
   "execution_count": 314,
   "metadata": {},
   "outputs": [
    {
     "data": {
      "text/plain": [
       "tensor([[[[0.1000, 0.1000, 0.1000,  ..., 0.1000, 0.1000, 0.1000],\n",
       "          [0.1000, 0.1000, 0.1000,  ..., 0.1000, 0.1000, 0.1000],\n",
       "          [0.1000, 0.1000, 0.1000,  ..., 0.1000, 0.1000, 0.1000],\n",
       "          ...,\n",
       "          [0.1000, 0.1000, 0.1000,  ..., 0.1000, 0.1000, 0.1000],\n",
       "          [0.1000, 0.1000, 0.1000,  ..., 0.1000, 0.1000, 0.1000],\n",
       "          [0.1000, 0.1000, 0.1000,  ..., 0.1000, 0.1000, 0.1000]],\n",
       "\n",
       "         [[0.1000, 0.1000, 0.1000,  ..., 0.1000, 0.1000, 0.1000],\n",
       "          [0.1000, 0.1000, 0.1000,  ..., 0.1000, 0.1000, 0.1000],\n",
       "          [0.1000, 0.1000, 0.1000,  ..., 0.1000, 0.1000, 0.1000],\n",
       "          ...,\n",
       "          [0.1000, 0.1000, 0.1000,  ..., 0.1000, 0.1000, 0.1000],\n",
       "          [0.1000, 0.1000, 0.1000,  ..., 0.1000, 0.1000, 0.1000],\n",
       "          [0.1000, 0.1000, 0.1000,  ..., 0.1000, 0.1000, 0.1000]],\n",
       "\n",
       "         [[0.1000, 0.1000, 0.1000,  ..., 0.1000, 0.1000, 0.1000],\n",
       "          [0.1000, 0.1000, 0.1000,  ..., 0.1000, 0.1000, 0.1000],\n",
       "          [0.1000, 0.1000, 0.1000,  ..., 0.1000, 0.1000, 0.1000],\n",
       "          ...,\n",
       "          [0.1000, 0.1000, 0.1000,  ..., 0.1000, 0.1000, 0.1000],\n",
       "          [0.1000, 0.1000, 0.1000,  ..., 0.1000, 0.1000, 0.1000],\n",
       "          [0.1000, 0.1000, 0.1000,  ..., 0.1000, 0.1000, 0.1000]],\n",
       "\n",
       "         ...,\n",
       "\n",
       "         [[0.1000, 0.1000, 0.1000,  ..., 0.1000, 0.1000, 0.1000],\n",
       "          [0.1000, 0.1000, 0.1000,  ..., 0.1000, 0.1000, 0.1000],\n",
       "          [0.1000, 0.1000, 0.1000,  ..., 0.1000, 0.1000, 0.1000],\n",
       "          ...,\n",
       "          [0.1000, 0.1000, 0.1000,  ..., 0.1000, 0.1000, 0.1000],\n",
       "          [0.1000, 0.1000, 0.1000,  ..., 0.1000, 0.1000, 0.1000],\n",
       "          [0.1000, 0.1000, 0.1000,  ..., 0.1000, 0.1000, 0.1000]],\n",
       "\n",
       "         [[0.1000, 0.1000, 0.1000,  ..., 0.1000, 0.1000, 0.1000],\n",
       "          [0.1000, 0.1000, 0.1000,  ..., 0.1000, 0.1000, 0.1000],\n",
       "          [0.1000, 0.1000, 0.1000,  ..., 0.1000, 0.1000, 0.1000],\n",
       "          ...,\n",
       "          [0.1000, 0.1000, 0.1000,  ..., 0.1000, 0.1000, 0.1000],\n",
       "          [0.1000, 0.1000, 0.1000,  ..., 0.1000, 0.1000, 0.1000],\n",
       "          [0.1000, 0.1000, 0.1000,  ..., 0.1000, 0.1000, 0.1000]],\n",
       "\n",
       "         [[0.1000, 0.1000, 0.1000,  ..., 0.1000, 0.1000, 0.1000],\n",
       "          [0.1000, 0.1000, 0.1000,  ..., 0.1000, 0.1000, 0.1000],\n",
       "          [0.1000, 0.1000, 0.1000,  ..., 0.1000, 0.1000, 0.1000],\n",
       "          ...,\n",
       "          [0.1000, 0.1000, 0.1000,  ..., 0.1000, 0.1000, 0.1000],\n",
       "          [0.1000, 0.1000, 0.1000,  ..., 0.1000, 0.1000, 0.1000],\n",
       "          [0.1000, 0.1000, 0.1000,  ..., 0.1000, 0.1000, 0.1000]]],\n",
       "\n",
       "\n",
       "        [[[0.1000, 0.1000, 0.1000,  ..., 0.1000, 0.1000, 0.1000],\n",
       "          [0.1000, 0.1000, 0.1000,  ..., 0.1000, 0.1000, 0.1000],\n",
       "          [0.1000, 0.1000, 0.1000,  ..., 0.1000, 0.1000, 0.1000],\n",
       "          ...,\n",
       "          [0.1000, 0.1000, 0.1000,  ..., 0.1000, 0.1000, 0.1000],\n",
       "          [0.1000, 0.1000, 0.1000,  ..., 0.1000, 0.1000, 0.1000],\n",
       "          [0.1000, 0.1000, 0.1000,  ..., 0.1000, 0.1000, 0.1000]],\n",
       "\n",
       "         [[0.1000, 0.1000, 0.1000,  ..., 0.1000, 0.1000, 0.1000],\n",
       "          [0.1000, 0.1000, 0.1000,  ..., 0.1000, 0.1000, 0.1000],\n",
       "          [0.1000, 0.1000, 0.1000,  ..., 0.1000, 0.1000, 0.1000],\n",
       "          ...,\n",
       "          [0.1000, 0.1000, 0.1000,  ..., 0.1000, 0.1000, 0.1000],\n",
       "          [0.1000, 0.1000, 0.1000,  ..., 0.1000, 0.1000, 0.1000],\n",
       "          [0.1000, 0.1000, 0.1000,  ..., 0.1000, 0.1000, 0.1000]],\n",
       "\n",
       "         [[0.1000, 0.1000, 0.1000,  ..., 0.1000, 0.1000, 0.1000],\n",
       "          [0.1000, 0.1000, 0.1000,  ..., 0.1000, 0.1000, 0.1000],\n",
       "          [0.1000, 0.1000, 0.1000,  ..., 0.1000, 0.1000, 0.1000],\n",
       "          ...,\n",
       "          [0.1000, 0.1000, 0.1000,  ..., 0.1000, 0.1000, 0.1000],\n",
       "          [0.1000, 0.1000, 0.1000,  ..., 0.1000, 0.1000, 0.1000],\n",
       "          [0.1000, 0.1000, 0.1000,  ..., 0.1000, 0.1000, 0.1000]],\n",
       "\n",
       "         ...,\n",
       "\n",
       "         [[0.1000, 0.1000, 0.1000,  ..., 0.1000, 0.1000, 0.1000],\n",
       "          [0.1000, 0.1000, 0.1000,  ..., 0.1000, 0.1000, 0.1000],\n",
       "          [0.1000, 0.1000, 0.1000,  ..., 0.1000, 0.1000, 0.1000],\n",
       "          ...,\n",
       "          [0.1000, 0.1000, 0.1000,  ..., 0.1000, 0.1000, 0.1000],\n",
       "          [0.1000, 0.1000, 0.1000,  ..., 0.1000, 0.1000, 0.1000],\n",
       "          [0.1000, 0.1000, 0.1000,  ..., 0.1000, 0.1000, 0.1000]],\n",
       "\n",
       "         [[0.1000, 0.1000, 0.1000,  ..., 0.1000, 0.1000, 0.1000],\n",
       "          [0.1000, 0.1000, 0.1000,  ..., 0.1000, 0.1000, 0.1000],\n",
       "          [0.1000, 0.1000, 0.1000,  ..., 0.1000, 0.1000, 0.1000],\n",
       "          ...,\n",
       "          [0.1000, 0.1000, 0.1000,  ..., 0.1000, 0.1000, 0.1000],\n",
       "          [0.1000, 0.1000, 0.1000,  ..., 0.1000, 0.1000, 0.1000],\n",
       "          [0.1000, 0.1000, 0.1000,  ..., 0.1000, 0.1000, 0.1000]],\n",
       "\n",
       "         [[0.1000, 0.1000, 0.1000,  ..., 0.1000, 0.1000, 0.1000],\n",
       "          [0.1000, 0.1000, 0.1000,  ..., 0.1000, 0.1000, 0.1000],\n",
       "          [0.1000, 0.1000, 0.1000,  ..., 0.1000, 0.1000, 0.1000],\n",
       "          ...,\n",
       "          [0.1000, 0.1000, 0.1000,  ..., 0.1000, 0.1000, 0.1000],\n",
       "          [0.1000, 0.1000, 0.1000,  ..., 0.1000, 0.1000, 0.1000],\n",
       "          [0.1000, 0.1000, 0.1000,  ..., 0.1000, 0.1000, 0.1000]]],\n",
       "\n",
       "\n",
       "        [[[0.1000, 0.1000, 0.1000,  ..., 0.1000, 0.1000, 0.1000],\n",
       "          [0.1000, 0.1000, 0.1000,  ..., 0.1000, 0.1000, 0.1000],\n",
       "          [0.1000, 0.1000, 0.1000,  ..., 0.1000, 0.1000, 0.1000],\n",
       "          ...,\n",
       "          [0.1000, 0.1000, 0.1000,  ..., 0.1000, 0.1000, 0.1000],\n",
       "          [0.1000, 0.1000, 0.1000,  ..., 0.1000, 0.1000, 0.1000],\n",
       "          [0.1000, 0.1000, 0.1000,  ..., 0.1000, 0.1000, 0.1000]],\n",
       "\n",
       "         [[0.1000, 0.1000, 0.1000,  ..., 0.1000, 0.1000, 0.1000],\n",
       "          [0.1000, 0.1000, 0.1000,  ..., 0.1000, 0.1000, 0.1000],\n",
       "          [0.1000, 0.1000, 0.1000,  ..., 0.1000, 0.1000, 0.1000],\n",
       "          ...,\n",
       "          [0.1000, 0.1000, 0.1000,  ..., 0.1000, 0.1000, 0.1000],\n",
       "          [0.1000, 0.1000, 0.1000,  ..., 0.1000, 0.1000, 0.1000],\n",
       "          [0.1000, 0.1000, 0.1000,  ..., 0.1000, 0.1000, 0.1000]],\n",
       "\n",
       "         [[0.1000, 0.1000, 0.1000,  ..., 0.1000, 0.1000, 0.1000],\n",
       "          [0.1000, 0.1000, 0.1000,  ..., 0.1000, 0.1000, 0.1000],\n",
       "          [0.1000, 0.1000, 0.1000,  ..., 0.1000, 0.1000, 0.1000],\n",
       "          ...,\n",
       "          [0.1000, 0.1000, 0.1000,  ..., 0.1000, 0.1000, 0.1000],\n",
       "          [0.1000, 0.1000, 0.1000,  ..., 0.1000, 0.1000, 0.1000],\n",
       "          [0.1000, 0.1000, 0.1000,  ..., 0.1000, 0.1000, 0.1000]],\n",
       "\n",
       "         ...,\n",
       "\n",
       "         [[0.1000, 0.1000, 0.1000,  ..., 0.1000, 0.1000, 0.1000],\n",
       "          [0.1000, 0.1000, 0.1000,  ..., 0.1000, 0.1000, 0.1000],\n",
       "          [0.1000, 0.1000, 0.1000,  ..., 0.1000, 0.1000, 0.1000],\n",
       "          ...,\n",
       "          [0.1000, 0.1000, 0.1000,  ..., 0.1000, 0.1000, 0.1000],\n",
       "          [0.1000, 0.1000, 0.1000,  ..., 0.1000, 0.1000, 0.1000],\n",
       "          [0.1000, 0.1000, 0.1000,  ..., 0.1000, 0.1000, 0.1000]],\n",
       "\n",
       "         [[0.1000, 0.1000, 0.1000,  ..., 0.1000, 0.1000, 0.1000],\n",
       "          [0.1000, 0.1000, 0.1000,  ..., 0.1000, 0.1000, 0.1000],\n",
       "          [0.1000, 0.1000, 0.1000,  ..., 0.1000, 0.1000, 0.1000],\n",
       "          ...,\n",
       "          [0.1000, 0.1000, 0.1000,  ..., 0.1000, 0.1000, 0.1000],\n",
       "          [0.1000, 0.1000, 0.1000,  ..., 0.1000, 0.1000, 0.1000],\n",
       "          [0.1000, 0.1000, 0.1000,  ..., 0.1000, 0.1000, 0.1000]],\n",
       "\n",
       "         [[0.1000, 0.1000, 0.1000,  ..., 0.1000, 0.1000, 0.1000],\n",
       "          [0.1000, 0.1000, 0.1000,  ..., 0.1000, 0.1000, 0.1000],\n",
       "          [0.1000, 0.1000, 0.1000,  ..., 0.1000, 0.1000, 0.1000],\n",
       "          ...,\n",
       "          [0.1000, 0.1000, 0.1000,  ..., 0.1000, 0.1000, 0.1000],\n",
       "          [0.1000, 0.1000, 0.1000,  ..., 0.1000, 0.1000, 0.1000],\n",
       "          [0.1000, 0.1000, 0.1000,  ..., 0.1000, 0.1000, 0.1000]]]])"
      ]
     },
     "execution_count": 314,
     "metadata": {},
     "output_type": "execute_result"
    }
   ],
   "source": [
    "attn_weights"
   ]
  },
  {
   "cell_type": "code",
   "execution_count": null,
   "metadata": {},
   "outputs": [],
   "source": []
  },
  {
   "cell_type": "code",
   "execution_count": null,
   "metadata": {},
   "outputs": [],
   "source": []
  },
  {
   "cell_type": "code",
   "execution_count": null,
   "metadata": {},
   "outputs": [],
   "source": []
  },
  {
   "cell_type": "markdown",
   "metadata": {},
   "source": [
    "## Tests"
   ]
  },
  {
   "cell_type": "markdown",
   "metadata": {},
   "source": [
    "### create_analysis_samples"
   ]
  },
  {
   "cell_type": "code",
   "execution_count": 258,
   "metadata": {},
   "outputs": [
    {
     "data": {
      "text/plain": [
       "('What is the name of the different car makers who produced a car in 1970?',\n",
       " '| car_1 | continents : contid , continent | countries : countryid , countryname , continent | car_makers : id , maker , fullname , country | model_list : modelid , maker , model | car_names : makeid , model , make | cars_data : id , mpg , cylinders , edispl , horsepower , weight , accelerate , year',\n",
       " 'select year from cars_data')"
      ]
     },
     "execution_count": 258,
     "metadata": {},
     "output_type": "execute_result"
    }
   ],
   "source": [
    "_id = 100\n",
    "\n",
    "ex = processed_spider_dev[_id]\n",
    "ex['text_in'], \\\n",
    "ex['struct_in'], \\\n",
    "ex['seq_out']"
   ]
  },
  {
   "cell_type": "code",
   "execution_count": 259,
   "metadata": {},
   "outputs": [],
   "source": [
    "# temp test\n",
    "ex['seq_out'] = 'select year from cars_data'"
   ]
  },
  {
   "cell_type": "code",
   "execution_count": 261,
   "metadata": {},
   "outputs": [],
   "source": [
    "a_ex_list = ctu.create_analysis_sample_dicts(\n",
    "                mt_uskg, ex,\n",
    "                subject_type='column',\n",
    "                remove_struct_duplicate_nodes=True)"
   ]
  },
  {
   "cell_type": "code",
   "execution_count": 262,
   "metadata": {},
   "outputs": [
    {
     "data": {
      "text/plain": [
       "dict_keys(['query', 'question', 'db_id', 'db_path', 'db_table_names', 'db_column_names', 'db_column_types', 'db_primary_keys', 'db_foreign_keys', 'rat_sql_graph', 'serialized_schema', 'struct_in', 'text_in', 'seq_out', 'enc_sentence', 'enc_tokenized', 'text_range', 'struct_range', 'struct_node_ranges_dict', 'dec_prompt', 'expect', 'expect_type', 'remove_struct_duplicate_nodes', 'parsed_struct_in', 'col2table', 'token_ranges_dict', 'node_name_ranges', 'expect_input_ranges', 'alias2table', 'self_ranges', 'context_ranges', 'category'])"
      ]
     },
     "execution_count": 262,
     "metadata": {},
     "output_type": "execute_result"
    }
   ],
   "source": [
    "a_ex_list[0].keys()"
   ]
  },
  {
   "cell_type": "code",
   "execution_count": 263,
   "metadata": {},
   "outputs": [
    {
     "data": {
      "text/plain": [
       "{}"
      ]
     },
     "execution_count": 263,
     "metadata": {},
     "output_type": "execute_result"
    }
   ],
   "source": [
    "a_ex_list[0]['alias2table']"
   ]
  },
  {
   "cell_type": "code",
   "execution_count": 267,
   "metadata": {
    "scrolled": true
   },
   "outputs": [
    {
     "data": {
      "text/plain": [
       "[('select',\n",
       "  'year',\n",
       "  defaultdict(list,\n",
       "              {'contid': [(33, 36)],\n",
       "               'continent': [(38, 39), (52, 53)],\n",
       "               'countryid': [(43, 46)],\n",
       "               'countryname': [(48, 50)],\n",
       "               'id': [(59, 62), (109, 112)],\n",
       "               'maker': [(64, 65), (83, 84)],\n",
       "               'fullname': [(67, 69)],\n",
       "               'country': [(71, 72)],\n",
       "               'modelid': [(78, 81)],\n",
       "               'model': [(86, 87), (99, 100)],\n",
       "               'makeid': [(94, 97)],\n",
       "               'make': [(102, 103)],\n",
       "               'mpg': [(114, 117)],\n",
       "               'cylinders': [(119, 122)],\n",
       "               'edispl': [(124, 128)],\n",
       "               'horsepower': [(130, 131)],\n",
       "               'weight': [(133, 134)],\n",
       "               'accelerate': [(136, 137)],\n",
       "               'year': [(139, 140)]}),\n",
       "  [(139, 140)],\n",
       "  '------',\n",
       "  [(137, 140)],\n",
       "  [(24, 137)],\n",
       "  {'sql_hardness': 'easy', 'node_role': 'select', 'text_match': 'no-match'})]"
      ]
     },
     "execution_count": 267,
     "metadata": {},
     "output_type": "execute_result"
    }
   ],
   "source": [
    "[(d['dec_prompt'], d['expect'], d['node_name_ranges'], d['expect_input_ranges'], '------',\\\n",
    "  d['self_ranges'], d['context_ranges'],\\\n",
    "  d['category']) for d in a_ex_list]"
   ]
  },
  {
   "cell_type": "code",
   "execution_count": null,
   "metadata": {},
   "outputs": [],
   "source": [
    "d = a_ex_list[0]\n",
    "d"
   ]
  },
  {
   "cell_type": "code",
   "execution_count": null,
   "metadata": {},
   "outputs": [],
   "source": [
    "d = ctu.add_clean_prediction(mt_uskg, d)"
   ]
  },
  {
   "cell_type": "code",
   "execution_count": null,
   "metadata": {},
   "outputs": [],
   "source": [
    "d"
   ]
  },
  {
   "cell_type": "code",
   "execution_count": null,
   "metadata": {},
   "outputs": [],
   "source": []
  },
  {
   "cell_type": "markdown",
   "metadata": {},
   "source": [
    "#### parse_sql_alias2table"
   ]
  },
  {
   "cell_type": "code",
   "execution_count": 185,
   "metadata": {},
   "outputs": [
    {
     "data": {
      "text/plain": [
       "{'t1': 'table_name', 't2': 'other_table', 't3': 'ttt'}"
      ]
     },
     "execution_count": 185,
     "metadata": {},
     "output_type": "execute_result"
    }
   ],
   "source": [
    "_sql = 'SELECT t2.aaa , t3.ccc FROM table_name as t1 JOIN other_table as t2 on table_name.a_a = other_table.b_a JOIN ttt as t3 on other_table.asth = ttt.asth'\n",
    "ctu.parse_sql_alias2table(_sql)"
   ]
  },
  {
   "cell_type": "markdown",
   "metadata": {},
   "source": [
    "### context_ranges"
   ]
  },
  {
   "cell_type": "code",
   "execution_count": 249,
   "metadata": {},
   "outputs": [
    {
     "data": {
      "text/plain": [
       "('What is the name of the different car makers who produced a car in 1970?',\n",
       " '| car_1 | continents : contid , continent | countries : countryid , countryname , continent | car_makers : id , maker , fullname , country | model_list : modelid , maker , model | car_names : makeid , model , make | cars_data : id , mpg , cylinders , edispl , horsepower , weight , accelerate , year',\n",
       " 'select year from cars_data',\n",
       " 'year')"
      ]
     },
     "execution_count": 249,
     "metadata": {},
     "output_type": "execute_result"
    }
   ],
   "source": [
    "a_ex = dict(a_ex_list[0])\n",
    "a_ex['text_in'], a_ex['struct_in'], a_ex['seq_out'], a_ex['expect']"
   ]
  },
  {
   "cell_type": "code",
   "execution_count": 250,
   "metadata": {},
   "outputs": [
    {
     "data": {
      "text/plain": [
       "{}"
      ]
     },
     "execution_count": 250,
     "metadata": {},
     "output_type": "execute_result"
    }
   ],
   "source": [
    "a_ex['alias2table']"
   ]
  },
  {
   "cell_type": "code",
   "execution_count": 256,
   "metadata": {},
   "outputs": [],
   "source": [
    "text_range = a_ex['text_range']\n",
    "struct_range = a_ex['struct_range']\n",
    "\n",
    "# For full context tokens, use [0, L] and [R, -1]\n",
    "# L: node left max end index ; R: node right min start index\n",
    "\n",
    "token_ranges_dict = a_ex['token_ranges_dict']\n",
    "_all_node_range_lists = list(token_ranges_dict['col_name_ranges'].values()) + list(token_ranges_dict['table_name_ranges'].values()) + list(token_ranges_dict['db_id_ranges'].values())\n",
    "_all_node_ranges = [rg\n",
    "                    for rg_list in _all_node_range_lists\n",
    "                    for rg in rg_list]\n",
    "_all_left_endpoint = [s for s, e in _all_node_ranges] + [struct_range[1]]\n",
    "_all_right_endpoint = [e for s, e in _all_node_ranges] + [struct_range[0]]\n",
    "# TODO: pull this part out to the shared function (e.g. create_analysis_sample_dicts)\n",
    "# TODO: test for columns on ends\n",
    "\n",
    "expect_input_ranges = a_ex['expect_input_ranges']    # list of ranges of node-of-interest (code allows dup)\n",
    "# tok_indices = [i for s, e in expect_input_ranges for i in range(s, e)]\n",
    "# expect_input_indices = [i for s, e in expect_input_ranges for i in range(s, e)]\n",
    "enc_sentence = a_ex['enc_sentence']\n",
    "dec_prompt = a_ex['dec_prompt']\n",
    "# node = a_ex['expect']\n",
    "\n",
    "context_range_endpoints = [struct_range[0]]\n",
    "self_range_endpoints = []       # This is different from `expect_input_ranges`: this includes boundary toks\n",
    "for tok_s, tok_e in expect_input_ranges:\n",
    "    _l = max([e for e in _all_right_endpoint if e <= tok_s])\n",
    "    _r = min([s for s in _all_left_endpoint if s >= tok_e])\n",
    "    context_range_endpoints.extend([_l, _r])\n",
    "    self_range_endpoints.extend([_l, _r])\n",
    "context_range_endpoints.append(struct_range[1])\n",
    "\n",
    "self_ranges = [(self_range_endpoints[i], self_range_endpoints[i+1])\n",
    "                for i in range(0, len(self_range_endpoints), 2)]\n",
    "self_tok_indices = [i for s, e in self_ranges for i in range(s, e)]\n",
    "\n",
    "context_ranges = [(context_range_endpoints[i], context_range_endpoints[i+1])\n",
    "                    for i in range(0, len(context_range_endpoints), 2)]\n",
    "context_ranges = [(s, e) for s, e in context_ranges if e > s]\n",
    "context_tok_indices = corrupt_tok_indices = [i for s, e in context_ranges for i in range(s, e)]\n",
    "\n",
    "text_tok_indices = list(range(*text_range))\n"
   ]
  },
  {
   "cell_type": "code",
   "execution_count": 257,
   "metadata": {},
   "outputs": [
    {
     "data": {
      "text/plain": [
       "([(137, 140)], [(24, 137)])"
      ]
     },
     "execution_count": 257,
     "metadata": {},
     "output_type": "execute_result"
    }
   ],
   "source": [
    "self_ranges, context_ranges"
   ]
  },
  {
   "cell_type": "code",
   "execution_count": null,
   "metadata": {},
   "outputs": [],
   "source": [
    "context_tok_indices"
   ]
  },
  {
   "cell_type": "code",
   "execution_count": 265,
   "metadata": {},
   "outputs": [
    {
     "name": "stdout",
     "output_type": "stream",
     "text": [
      ", year\n"
     ]
    }
   ],
   "source": [
    "for s, e in self_ranges:\n",
    "    _piece = tokenizer.decode(a_ex['enc_tokenized']['input_ids'][s : e])\n",
    "    print(_piece)"
   ]
  },
  {
   "cell_type": "code",
   "execution_count": 254,
   "metadata": {},
   "outputs": [
    {
     "name": "stdout",
     "output_type": "stream",
     "text": [
      "| car_1 | continents : contid, continent | countries : countryid, countryname, continent | car_makers : id, maker, fullname, country | model_list : modelid, maker, model | car_names : makeid, model, make | cars_data : id, mpg, cylinders, edispl, horsepower, weight, accelerate\n",
      "\n"
     ]
    }
   ],
   "source": [
    "for s, e in context_ranges:\n",
    "    _piece = tokenizer.decode(a_ex['enc_tokenized']['input_ids'][s : e])\n",
    "    print(_piece)"
   ]
  },
  {
   "cell_type": "markdown",
   "metadata": {},
   "source": [
    "### run_uskg_forward"
   ]
  },
  {
   "cell_type": "code",
   "execution_count": 317,
   "metadata": {},
   "outputs": [],
   "source": [
    "a_ex = dict(a_ex_list[0])"
   ]
  },
  {
   "cell_type": "code",
   "execution_count": null,
   "metadata": {},
   "outputs": [],
   "source": [
    "enc_sentence = a_ex['enc_sentence']\n",
    "dec_prompt = a_ex['dec_prompt']\n",
    "expect = a_ex['expect']"
   ]
  },
  {
   "cell_type": "code",
   "execution_count": 327,
   "metadata": {},
   "outputs": [
    {
     "data": {
      "text/plain": [
       "('What is the name of the different car makers who produced a car in 1970?; structed knowledge: | car_1 | continents : contid , continent | countries : countryid , countryname , continent | car_makers : id , maker , fullname , country | model_list : modelid , maker , model | car_names : makeid , model , make | cars_data : id , mpg , cylinders , edispl , horsepower , weight , accelerate , year',\n",
       " 'select',\n",
       " 'year')"
      ]
     },
     "execution_count": 327,
     "metadata": {},
     "output_type": "execute_result"
    }
   ],
   "source": [
    "enc_sentence, dec_prompt, expect"
   ]
  },
  {
   "cell_type": "code",
   "execution_count": 318,
   "metadata": {},
   "outputs": [],
   "source": [
    "inp = ctu.make_inputs_t5(\n",
    "    mt_uskg.tokenizer,\n",
    "    [enc_sentence] * 11,\n",
    "    [dec_prompt] * 11,\n",
    "    answer=expect)"
   ]
  },
  {
   "cell_type": "code",
   "execution_count": 320,
   "metadata": {},
   "outputs": [],
   "source": [
    "_out = ctu.run_model_forward_uskg(mt_uskg.model, **inp, output_attentions=True)"
   ]
  },
  {
   "cell_type": "code",
   "execution_count": 322,
   "metadata": {},
   "outputs": [
    {
     "data": {
      "text/plain": [
       "dict_keys(['loss', 'logits', 'past_key_values', 'decoder_hidden_states', 'decoder_attentions', 'cross_attentions', 'encoder_last_hidden_state', 'encoder_hidden_states', 'encoder_attentions'])"
      ]
     },
     "execution_count": 322,
     "metadata": {},
     "output_type": "execute_result"
    }
   ],
   "source": [
    "_out.__dict__.keys()"
   ]
  },
  {
   "cell_type": "code",
   "execution_count": 329,
   "metadata": {},
   "outputs": [
    {
     "data": {
      "text/plain": [
       "(24, torch.Size([11, 16, 141, 151]))"
      ]
     },
     "execution_count": 329,
     "metadata": {},
     "output_type": "execute_result"
    }
   ],
   "source": [
    "# layers, (bsz, n_heads, seq_len, seq_len + prev_len)\n",
    "len(_out.encoder_attentions), _out.encoder_attentions[0].size()"
   ]
  },
  {
   "cell_type": "code",
   "execution_count": 330,
   "metadata": {},
   "outputs": [
    {
     "data": {
      "text/plain": [
       "(24, torch.Size([11, 16, 2, 151]))"
      ]
     },
     "execution_count": 330,
     "metadata": {},
     "output_type": "execute_result"
    }
   ],
   "source": [
    "# layers, (bsz, n_heads, prompt_len, seq_len + prev_len)\n",
    "len(_out.cross_attentions), _out.cross_attentions[0].size()"
   ]
  },
  {
   "cell_type": "code",
   "execution_count": 331,
   "metadata": {},
   "outputs": [
    {
     "data": {
      "text/plain": [
       "(24, torch.Size([11, 16, 2, 12]))"
      ]
     },
     "execution_count": 331,
     "metadata": {},
     "output_type": "execute_result"
    }
   ],
   "source": [
    "# layers, (bsz, n_heads, prompt_len, prompt_len + prev_len)\n",
    "len(_out.decoder_attentions), _out.decoder_attentions[0].size()"
   ]
  },
  {
   "cell_type": "code",
   "execution_count": 339,
   "metadata": {},
   "outputs": [
    {
     "data": {
      "text/plain": [
       "dict_keys(['input_ids', 'attention_mask', 'decoder_input_ids', 'decoder_attention_mask'])"
      ]
     },
     "execution_count": 339,
     "metadata": {},
     "output_type": "execute_result"
    }
   ],
   "source": [
    "inp.keys()"
   ]
  },
  {
   "cell_type": "code",
   "execution_count": null,
   "metadata": {},
   "outputs": [],
   "source": []
  },
  {
   "cell_type": "markdown",
   "metadata": {},
   "source": [
    "### trace"
   ]
  },
  {
   "cell_type": "code",
   "execution_count": 212,
   "metadata": {},
   "outputs": [],
   "source": [
    "a_ex = dict(a_ex_list[0])\n",
    "a_ex = ctu.add_clean_prediction(mt_uskg, a_ex)"
   ]
  },
  {
   "cell_type": "code",
   "execution_count": 213,
   "metadata": {},
   "outputs": [
    {
     "data": {
      "text/plain": [
       "{'enc_sentence': 'How many singers do we have?; structed knowledge: | concert_singer | stadium : stadium_id , location , name , capacity , highest , lowest , average | singer : singer_id , name , country , song_name , song_release_year , age , is_male | concert : concert_id , concert_name , theme , stadium_id , year | singer_in_concert : concert_id , singer_id',\n",
       " 'seq_out': 'select count(*) from singer',\n",
       " 'dec_prompt': 'select count(*) from',\n",
       " 'expect': 'singer',\n",
       " 'expect_type': 'table',\n",
       " 'db_id': 'concert_singer',\n",
       " 'expect_input_ranges': [(47, 48)],\n",
       " 'expect_table': 'singer',\n",
       " 'answer': 'singer',\n",
       " 'base_score': 0.9999998807907104,\n",
       " 'answers_t': [7634],\n",
       " 'correct_prediction': True,\n",
       " 'category': {'sql_hardness': 'easy',\n",
       "  'node_role': 'from',\n",
       "  'text_match': 'exact'}}"
      ]
     },
     "execution_count": 213,
     "metadata": {},
     "output_type": "execute_result"
    }
   ],
   "source": [
    "result = ctu.make_basic_result_dict(a_ex)\n",
    "result"
   ]
  },
  {
   "cell_type": "code",
   "execution_count": 214,
   "metadata": {},
   "outputs": [],
   "source": [
    "enc_sentence = a_ex['enc_sentence']\n",
    "dec_prompt = a_ex['dec_prompt']\n",
    "expect = a_ex['expect']\n",
    "answer = result['answer']\n",
    "answers_t = result['answers_t']\n",
    "\n",
    "inp = ctu.make_inputs_t5(\n",
    "    mt_uskg.tokenizer,\n",
    "    [enc_sentence] * 11,\n",
    "    [dec_prompt] * 11,\n",
    "    answer=expect)\n",
    "\n",
    "text_range = a_ex['text_range']\n",
    "struct_range = a_ex['struct_range']\n",
    "\n",
    "_score = ctu.trace_with_repatch_uskg(\n",
    "    model=mt_uskg.model,\n",
    "    inp=inp,\n",
    "#     states_to_patch=[(tnum, ctu.layername_uskg(mt_uskg.model, 'encoder', mt_uskg.num_enc_layers - 1))\n",
    "#                     for tnum in range(*struct_range)],\n",
    "    states_to_patch=[],\n",
    "    states_to_unpatch=[],\n",
    "    answers_t=answers_t,\n",
    "    tokens_to_mix=corrupt_tok_indices,\n",
    "    tokens_to_mix_individual_indices=True,\n",
    "    replace=True,\n",
    ").item()"
   ]
  },
  {
   "cell_type": "code",
   "execution_count": 215,
   "metadata": {},
   "outputs": [
    {
     "data": {
      "text/plain": [
       "([7634], 'singer', 1.0)"
      ]
     },
     "execution_count": 215,
     "metadata": {},
     "output_type": "execute_result"
    }
   ],
   "source": [
    "answers_t, answer, _score"
   ]
  },
  {
   "cell_type": "code",
   "execution_count": 216,
   "metadata": {},
   "outputs": [],
   "source": [
    "vocab_probs = ctu.run_repatch_uskg_multi_token(\n",
    "    model=mt_uskg.model,\n",
    "    inp=inp,\n",
    "#     states_to_patch=[(tnum, ctu.layername_uskg(mt_uskg.model, 'encoder', mt_uskg.num_enc_layers - 1))\n",
    "#                     for tnum in range(*struct_range)],\n",
    "    states_to_patch=[],\n",
    "    states_to_unpatch=[],\n",
    "    answer_len=len(answers_t),\n",
    "    tokens_to_mix=corrupt_tok_indices,\n",
    "    tokens_to_mix_individual_indices=True,\n",
    "    replace=True,\n",
    ")"
   ]
  },
  {
   "cell_type": "code",
   "execution_count": 217,
   "metadata": {},
   "outputs": [
    {
     "data": {
      "text/plain": [
       "torch.Size([1, 32102])"
      ]
     },
     "execution_count": 217,
     "metadata": {},
     "output_type": "execute_result"
    }
   ],
   "source": [
    "vocab_probs.size()"
   ]
  },
  {
   "cell_type": "code",
   "execution_count": 218,
   "metadata": {},
   "outputs": [
    {
     "data": {
      "text/plain": [
       "torch.return_types.max(\n",
       "values=tensor([1.], device='cuda:0'),\n",
       "indices=tensor([7634], device='cuda:0'))"
      ]
     },
     "execution_count": 218,
     "metadata": {},
     "output_type": "execute_result"
    }
   ],
   "source": [
    "torch.max(vocab_probs, dim=-1)"
   ]
  },
  {
   "cell_type": "code",
   "execution_count": 219,
   "metadata": {},
   "outputs": [
    {
     "data": {
      "text/plain": [
       "tensor(1., device='cuda:0')"
      ]
     },
     "execution_count": 219,
     "metadata": {},
     "output_type": "execute_result"
    }
   ],
   "source": [
    "vocab_probs[0, 7634]"
   ]
  },
  {
   "cell_type": "code",
   "execution_count": 220,
   "metadata": {},
   "outputs": [
    {
     "data": {
      "text/plain": [
       "tensor([[2.2642e-25, 1.2223e-15, 7.3942e-18,  ..., 9.1578e-20, 2.6884e-39,\n",
       "         2.8131e-39]], device='cuda:0')"
      ]
     },
     "execution_count": 220,
     "metadata": {},
     "output_type": "execute_result"
    }
   ],
   "source": [
    "vocab_probs"
   ]
  },
  {
   "cell_type": "markdown",
   "metadata": {},
   "source": [
    "### utils"
   ]
  },
  {
   "cell_type": "markdown",
   "metadata": {},
   "source": [
    "#### nested_list_processing"
   ]
  },
  {
   "cell_type": "code",
   "execution_count": 355,
   "metadata": {
    "scrolled": true
   },
   "outputs": [
    {
     "data": {
      "text/plain": [
       "[[[[0.173180925851182, 0.3853173797288368],\n",
       "   [-0.883857436201133, 0.1537251059455279]],\n",
       "  [[0.058208718445999896, -1.142970297830623],\n",
       "   [0.3577873603482833, 0.5607845263682344]]],\n",
       " [[[1.083051243175277, 1.053802052034903],\n",
       "   [-1.377669367957091, -0.9378250399151228]],\n",
       "  [[0.5150352672086598, 0.5137859509122088],\n",
       "   [0.5150476863060479, 3.852731490654721]]]]"
      ]
     },
     "execution_count": 355,
     "metadata": {},
     "output_type": "execute_result"
    }
   ],
   "source": [
    "a = np.random.randn(2,2,2,2).tolist()\n",
    "a"
   ]
  },
  {
   "cell_type": "code",
   "execution_count": 356,
   "metadata": {},
   "outputs": [
    {
     "data": {
      "text/plain": [
       "[[[['0.17', '0.39'], ['-0.88', '0.15']],\n",
       "  [['0.06', '-1.14'], ['0.36', '0.56']]],\n",
       " [[['1.08', '1.05'], ['-1.38', '-0.94']],\n",
       "  [['0.52', '0.51'], ['0.52', '3.85']]]]"
      ]
     },
     "execution_count": 356,
     "metadata": {},
     "output_type": "execute_result"
    }
   ],
   "source": [
    "ctu.nested_list_processing(a, func=lambda x: np.format_float_positional(x, precision=2))"
   ]
  },
  {
   "cell_type": "code",
   "execution_count": null,
   "metadata": {},
   "outputs": [],
   "source": []
  },
  {
   "cell_type": "markdown",
   "metadata": {},
   "source": [
    "## Temp"
   ]
  },
  {
   "cell_type": "markdown",
   "metadata": {},
   "source": [
    "### Debugging exp"
   ]
  },
  {
   "cell_type": "code",
   "execution_count": 497,
   "metadata": {},
   "outputs": [],
   "source": [
    "ex = processed_spider_dev[97]\n",
    "text_in = ex['text_in']\n",
    "struct_in = ex['struct_in']\n",
    "\n",
    "enc_sentence = f\"{text_in}; structed knowledge: {struct_in}\"\n",
    "dec_prompt = \"select t1.model from\"\n",
    "expect = \"car_names\""
   ]
  },
  {
   "cell_type": "code",
   "execution_count": 498,
   "metadata": {},
   "outputs": [],
   "source": [
    "inp = ctu.make_inputs_t5(\n",
    "    mt_uskg.tokenizer,\n",
    "    enc_sentences=[enc_sentence]*11,\n",
    "    dec_prompts=[dec_prompt]*11,\n",
    "    answer=expect\n",
    ")"
   ]
  },
  {
   "cell_type": "code",
   "execution_count": 499,
   "metadata": {},
   "outputs": [
    {
     "data": {
      "text/plain": [
       "['car', '_', 'name', 's']"
      ]
     },
     "execution_count": 499,
     "metadata": {},
     "output_type": "execute_result"
    }
   ],
   "source": [
    "ans_toks = decode_tokens(mt_uskg.tokenizer, mt_uskg.tokenizer.encode(expect, add_special_tokens=False))\n",
    "ans_toks"
   ]
  },
  {
   "cell_type": "code",
   "execution_count": 500,
   "metadata": {},
   "outputs": [
    {
     "data": {
      "text/plain": [
       "'<pad> select t1.model from car_name'"
      ]
     },
     "execution_count": 500,
     "metadata": {},
     "output_type": "execute_result"
    }
   ],
   "source": [
    "mt_uskg.tokenizer.decode(inp['decoder_input_ids'][0])"
   ]
  },
  {
   "cell_type": "code",
   "execution_count": 501,
   "metadata": {},
   "outputs": [
    {
     "data": {
      "text/plain": [
       "(['▁select', '▁', 't', '1.', 'model', '▁from'], 6)"
      ]
     },
     "execution_count": 501,
     "metadata": {},
     "output_type": "execute_result"
    }
   ],
   "source": [
    "mt_uskg.tokenizer.tokenize(dec_prompt), len(mt_uskg.tokenizer.tokenize(dec_prompt))"
   ]
  },
  {
   "cell_type": "code",
   "execution_count": 502,
   "metadata": {},
   "outputs": [
    {
     "data": {
      "text/plain": [
       "139"
      ]
     },
     "execution_count": 502,
     "metadata": {},
     "output_type": "execute_result"
    }
   ],
   "source": [
    "len(inp['input_ids'][0])"
   ]
  },
  {
   "cell_type": "code",
   "execution_count": 503,
   "metadata": {},
   "outputs": [],
   "source": [
    "# r = ctu.trace_with_patch_uskg_multi_token(\n",
    "#     mt_uskg.model,\n",
    "#     inp=inp,\n",
    "# #     states_to_patch=[(4, ctu.layername_uskg(mt_uskg.model, 'decoder', 3))],\n",
    "#     states_to_patch=[],\n",
    "# #     answers_t=mt_uskg.tokenizer.encode(expect, add_special_tokens=False),\n",
    "# #     tokens_to_mix=(0, len(inp['input_ids'][0])-1),\n",
    "#     tokens_to_mix=None,\n",
    "#     replace=True,\n",
    "# )"
   ]
  },
  {
   "cell_type": "code",
   "execution_count": 504,
   "metadata": {},
   "outputs": [
    {
     "data": {
      "text/plain": [
       "[tensor(0.5643, device='cuda:0'),\n",
       " tensor(1.0000, device='cuda:0'),\n",
       " tensor(0.9996, device='cuda:0'),\n",
       " tensor(1.0000, device='cuda:0')]"
      ]
     },
     "execution_count": 504,
     "metadata": {},
     "output_type": "execute_result"
    }
   ],
   "source": [
    "# r"
   ]
  },
  {
   "cell_type": "code",
   "execution_count": 506,
   "metadata": {},
   "outputs": [
    {
     "data": {
      "text/plain": [
       "tensor([ 443,  834, 4350,    7], device='cuda:0')"
      ]
     },
     "execution_count": 506,
     "metadata": {},
     "output_type": "execute_result"
    }
   ],
   "source": [
    "answer_len = len(mt_uskg.tokenizer.tokenize(expect))\n",
    "pred_out = ctu.predict_from_input_uskg_multi_token(mt_uskg.model, inp, pred_len=answer_len)\n",
    "pred, p = pred_out\n",
    "pred[0]"
   ]
  },
  {
   "cell_type": "code",
   "execution_count": 224,
   "metadata": {},
   "outputs": [
    {
     "data": {
      "text/plain": [
       "[('model', 'car'), ('_', '_'), ('name', 'name'), ('s', 's')]"
      ]
     },
     "execution_count": 224,
     "metadata": {},
     "output_type": "execute_result"
    }
   ],
   "source": [
    "# pred_toks = decode_tokens(mt_uskg.tokenizer, pred[0])\n",
    "# list(zip(pred_toks, ans_toks))"
   ]
  },
  {
   "cell_type": "code",
   "execution_count": 507,
   "metadata": {},
   "outputs": [
    {
     "data": {
      "text/plain": [
       "('car_1',\n",
       " 'Find the model of the car whose weight is below the average weight.',\n",
       " '| car_1 | continents : contid , continent | countries : countryid , countryname , continent | car_makers : id , maker , fullname , country | model_list : modelid , maker , model | car_names : makeid , model , make | cars_data : id , mpg , cylinders , edispl , horsepower , weight , accelerate , year',\n",
       " 'select t1.model from car_names as t1 join cars_data as t2 on t1.makeid = t2.id where t2.weight < (select avg(weight) from cars_data)')"
      ]
     },
     "execution_count": 507,
     "metadata": {},
     "output_type": "execute_result"
    }
   ],
   "source": [
    "ex['db_id'], ex['question'], ex['struct_in'], ex['seq_out']"
   ]
  },
  {
   "cell_type": "code",
   "execution_count": null,
   "metadata": {
    "scrolled": true
   },
   "outputs": [],
   "source": [
    "r = ctu.trace_with_repatch_uskg_multi_token(\n",
    "    mt_uskg.model,\n",
    "    inp=inp,\n",
    "    states_to_patch=[(4, ctu.layername_uskg(mt_uskg.model, 'decoder', 3))],\n",
    "    states_to_unpatch=[(4, ctu.layername_uskg(mt_uskg.model, 'decoder', 4, 'cross_attn'))],\n",
    "    states_to_patch_1st_pass=[(4, ctu.layername_uskg(mt_uskg.model, 'decoder', l)) for l in range(mt_uskg.num_enc_layers)],\n",
    "    answers_t=pred[0],\n",
    "    tokens_to_mix=(10, 20, 30, 40),\n",
    "    tokens_to_mix_1st_pass=(5, 15, 25),\n",
    "    tokens_to_mix_individual_indices=True,\n",
    "    replace=True,\n",
    ")"
   ]
  },
  {
   "cell_type": "code",
   "execution_count": 511,
   "metadata": {},
   "outputs": [
    {
     "data": {
      "text/plain": [
       "[tensor(0.5877, device='cuda:0'),\n",
       " tensor(1., device='cuda:0'),\n",
       " tensor(0.9988, device='cuda:0'),\n",
       " tensor(1.0000, device='cuda:0')]"
      ]
     },
     "execution_count": 511,
     "metadata": {},
     "output_type": "execute_result"
    }
   ],
   "source": [
    "r"
   ]
  },
  {
   "cell_type": "code",
   "execution_count": null,
   "metadata": {},
   "outputs": [],
   "source": [
    "# # inp = ctu.make_inputs_t5(mt_uskg.tokenizer, [text_in] * 11, [dec_prompt] * 11)\n",
    "# inp = ctu.make_inputs_t5(mt_uskg.tokenizer, [enc_sentence] * 11, [dec_prompt] * 11, answer=expect, device='cpu')\n",
    "# # answer_t, base_score = [d[0] for d in ctu.predict_from_input_uskg(mt_uskg.model, inp)]\n",
    "# # base_score = base_score.item()\n",
    "# # [answer] = ctu.decode_tokens(mt_uskg.tokenizer, [answer_t])\n",
    "# answer_len = 1\n",
    "# if expect is not None:\n",
    "#     answer_len = len(mt_uskg.tokenizer.tokenize(expect))\n",
    "# with torch.no_grad():\n",
    "#     answers_t, base_score = [d[0] for d in ctu.predict_from_input_uskg_multi_token(mt_uskg.model, inp, pred_len=answer_len)]\n",
    "# # base_score = base_score.min().item()\n",
    "# # [answer] = decode_tokens(mt.tokenizer, [answer_t])\n",
    "# answer = ctu.decode_sentences(mt_uskg.tokenizer, answers_t)\n",
    "\n",
    "# expect, answers_t, answer, base_score"
   ]
  },
  {
   "cell_type": "code",
   "execution_count": null,
   "metadata": {},
   "outputs": [],
   "source": [
    "# # e_range = (129, 132)\n",
    "# # e_range = [8, 13, 131]\n",
    "# e_range = list(range(7, 14))\n",
    "\n",
    "# r = ctu.trace_with_patch_uskg(\n",
    "#     mt_uskg.model,\n",
    "#     inp=inp,\n",
    "#     states_to_patch=[], \n",
    "#     answers_t=answer_t, \n",
    "#     tokens_to_mix=e_range,\n",
    "#     tokens_to_mix_individual_indices=True,\n",
    "#     replace=True,\n",
    "# )\n",
    "\n",
    "# r"
   ]
  },
  {
   "cell_type": "code",
   "execution_count": null,
   "metadata": {},
   "outputs": [],
   "source": []
  },
  {
   "cell_type": "code",
   "execution_count": null,
   "metadata": {},
   "outputs": [],
   "source": []
  },
  {
   "cell_type": "markdown",
   "metadata": {},
   "source": [
    "### Moving models"
   ]
  },
  {
   "cell_type": "code",
   "execution_count": 82,
   "metadata": {},
   "outputs": [
    {
     "data": {
      "text/plain": [
       "device(type='cpu')"
      ]
     },
     "execution_count": 82,
     "metadata": {},
     "output_type": "execute_result"
    }
   ],
   "source": [
    "mt_uskg.model.device"
   ]
  },
  {
   "cell_type": "code",
   "execution_count": null,
   "metadata": {},
   "outputs": [],
   "source": []
  },
  {
   "cell_type": "markdown",
   "metadata": {},
   "source": [
    "### tokenizer"
   ]
  },
  {
   "cell_type": "code",
   "execution_count": 55,
   "metadata": {},
   "outputs": [],
   "source": [
    "tokenizer = mt_uskg.tokenizer"
   ]
  },
  {
   "cell_type": "code",
   "execution_count": 56,
   "metadata": {},
   "outputs": [
    {
     "data": {
      "text/plain": [
       "(['▁mar', 'y', ':', '▁has', '▁', 'a', '▁little', '▁lamb', 'b', 'b'],\n",
       " ['▁mar', 'y', ':', '▁has', '▁', 'a', '▁little', '▁lamb', 'b', 'b'])"
      ]
     },
     "execution_count": 56,
     "metadata": {},
     "output_type": "execute_result"
    }
   ],
   "source": [
    "s = \"mary: has a little  lambbb\"\n",
    "s_ = \"mary: has a little lambbb\"\n",
    "tokenizer.tokenize(s), tokenizer.tokenize(s_)"
   ]
  },
  {
   "cell_type": "code",
   "execution_count": 428,
   "metadata": {},
   "outputs": [
    {
     "data": {
      "text/plain": [
       "{'input_ids': [3157, 63, 10, 65, 3, 9, 385, 17871, 115, 115, 1], 'attention_mask': [1, 1, 1, 1, 1, 1, 1, 1, 1, 1, 1]}"
      ]
     },
     "execution_count": 428,
     "metadata": {},
     "output_type": "execute_result"
    }
   ],
   "source": [
    "t = tokenizer(s)\n",
    "t"
   ]
  },
  {
   "cell_type": "code",
   "execution_count": 429,
   "metadata": {},
   "outputs": [
    {
     "data": {
      "text/plain": [
       "[(0, '▁mar'),\n",
       " (1, 'y'),\n",
       " (2, ':'),\n",
       " (3, '▁has'),\n",
       " (4, '▁'),\n",
       " (5, 'a'),\n",
       " (6, '▁little'),\n",
       " (7, '▁lamb'),\n",
       " (8, 'b'),\n",
       " (9, 'b'),\n",
       " (10, '</s>')]"
      ]
     },
     "execution_count": 429,
     "metadata": {},
     "output_type": "execute_result"
    }
   ],
   "source": [
    "list(enumerate(t.tokens()))"
   ]
  },
  {
   "cell_type": "code",
   "execution_count": 430,
   "metadata": {},
   "outputs": [
    {
     "data": {
      "text/plain": [
       "TokenSpan(start=7, end=10)"
      ]
     },
     "execution_count": 430,
     "metadata": {},
     "output_type": "execute_result"
    }
   ],
   "source": [
    "t.word_to_tokens(4)"
   ]
  },
  {
   "cell_type": "code",
   "execution_count": 431,
   "metadata": {},
   "outputs": [
    {
     "data": {
      "text/plain": [
       "'lambbb'"
      ]
     },
     "execution_count": 431,
     "metadata": {},
     "output_type": "execute_result"
    }
   ],
   "source": [
    "ctu.decode_sentences(tokenizer, t['input_ids'][7:10])"
   ]
  },
  {
   "cell_type": "code",
   "execution_count": null,
   "metadata": {},
   "outputs": [],
   "source": [
    "\"(a(a)a)\".rindex(\")\"), \"(a(a)a)\".index(\")\")"
   ]
  },
  {
   "cell_type": "code",
   "execution_count": 57,
   "metadata": {
    "scrolled": true
   },
   "outputs": [
    {
     "data": {
      "text/plain": [
       "['▁|',\n",
       " '▁concert',\n",
       " '_',\n",
       " 's',\n",
       " 'inger',\n",
       " '▁|',\n",
       " '▁singer',\n",
       " '▁',\n",
       " ':',\n",
       " '▁singer',\n",
       " '_',\n",
       " 'i',\n",
       " 'd',\n",
       " '▁',\n",
       " ',',\n",
       " '▁name',\n",
       " '▁(',\n",
       " '▁First',\n",
       " '▁Last',\n",
       " '▁',\n",
       " ')',\n",
       " '▁',\n",
       " ',',\n",
       " '▁country',\n",
       " '▁(',\n",
       " '▁France',\n",
       " '▁',\n",
       " ',',\n",
       " '▁Germany',\n",
       " '▁',\n",
       " ',',\n",
       " '▁United',\n",
       " '▁States',\n",
       " '▁',\n",
       " ')',\n",
       " '▁',\n",
       " ',',\n",
       " '▁song',\n",
       " '_',\n",
       " 'name',\n",
       " '▁',\n",
       " ',',\n",
       " '▁song',\n",
       " '_',\n",
       " 'release',\n",
       " '_',\n",
       " 'year',\n",
       " '▁',\n",
       " ',',\n",
       " '▁age',\n",
       " '▁',\n",
       " ',',\n",
       " '▁is',\n",
       " '_',\n",
       " 'male']"
      ]
     },
     "execution_count": 57,
     "metadata": {},
     "output_type": "execute_result"
    }
   ],
   "source": [
    "s = \"\"\"| concert_singer | singer : singer_id , name ( First Last ) , country ( France , Germany , United States ) , \\\n",
    "song_name , song_release_year , age , is_male\"\"\"\n",
    "\n",
    "tokenizer.tokenize(s)"
   ]
  },
  {
   "cell_type": "code",
   "execution_count": 269,
   "metadata": {},
   "outputs": [
    {
     "data": {
      "text/plain": [
       "':'"
      ]
     },
     "execution_count": 269,
     "metadata": {},
     "output_type": "execute_result"
    }
   ],
   "source": [
    "tokenizer.decode([10])"
   ]
  },
  {
   "cell_type": "code",
   "execution_count": null,
   "metadata": {},
   "outputs": [],
   "source": []
  },
  {
   "cell_type": "markdown",
   "metadata": {},
   "source": [
    "### Test struct_in parsing"
   ]
  },
  {
   "cell_type": "code",
   "execution_count": 66,
   "metadata": {},
   "outputs": [],
   "source": [
    "_struct_in = \"\"\"| concert_singer | stadium : stadium_id , location , name , capacity , highest , lowest , \\\n",
    "average | singer : singer_id , name ( First Last ) , country ( France , Germany , United States ) , \\\n",
    "song_name , song_release_year , age , is_male | concert : concert_id , concert_name , theme , \\\n",
    "stadium_id , year ( 2008 , 2012 , 2022 ) | singer_in_concert : concert_id , singer_id\"\"\""
   ]
  },
  {
   "cell_type": "code",
   "execution_count": 71,
   "metadata": {},
   "outputs": [
    {
     "data": {
      "text/plain": [
       "[((3, 'stadium'),\n",
       "  [[(5, 'stadium_id'), []],\n",
       "   [(7, 'location'), []],\n",
       "   [(9, 'name'), []],\n",
       "   [(11, 'capacity'), []],\n",
       "   [(13, 'highest'), []],\n",
       "   [(15, 'lowest'), []],\n",
       "   [(17, 'average'), []]]),\n",
       " ((19, 'singer'),\n",
       "  [[(21, 'singer_id'), []],\n",
       "   [(23, 'name'), [(25, 'First Last')]],\n",
       "   [(29, 'country'), [(31, 'France'), (33, 'Germany'), (35, 'United States')]],\n",
       "   [(39, 'song_name'), []],\n",
       "   [(41, 'song_release_year'), []],\n",
       "   [(43, 'age'), []],\n",
       "   [(45, 'is_male'), []]]),\n",
       " ((47, 'concert'),\n",
       "  [[(49, 'concert_id'), []],\n",
       "   [(51, 'concert_name'), []],\n",
       "   [(53, 'theme'), []],\n",
       "   [(55, 'stadium_id'), []],\n",
       "   [(57, 'year'), [(59, '2008'), (61, '2012'), (63, '2022')]]]),\n",
       " ((66, 'singer_in_concert'),\n",
       "  [[(68, 'concert_id'), []], [(70, 'singer_id'), []]])]"
      ]
     },
     "execution_count": 71,
     "metadata": {},
     "output_type": "execute_result"
    }
   ],
   "source": [
    "ctu.parse_struct_in(_struct_in)"
   ]
  },
  {
   "cell_type": "code",
   "execution_count": 84,
   "metadata": {},
   "outputs": [],
   "source": [
    "_text_in = text_in\n",
    "\n",
    "enc_sentence = f\"{_text_in}; structed knowledge: {_struct_in}\"\n",
    "enc_tokenized = mt_uskg.tokenizer(enc_sentence)"
   ]
  },
  {
   "cell_type": "code",
   "execution_count": 85,
   "metadata": {},
   "outputs": [],
   "source": [
    "token_ranges_dict = ctu.find_struct_name_ranges(mt_uskg.tokenizer, enc_tokenized['input_ids'], _struct_in)"
   ]
  },
  {
   "cell_type": "code",
   "execution_count": 86,
   "metadata": {
    "scrolled": true
   },
   "outputs": [
    {
     "data": {
      "text/plain": [
       "{'db_id_ranges': defaultdict(list, {'concert_singer': [(25, 29)]}),\n",
       " 'table_name_ranges': defaultdict(list,\n",
       "             {'stadium': [(30, 31)],\n",
       "              'singer': [(56, 57)],\n",
       "              'concert': [(106, 107)],\n",
       "              'singer_in_concert': [(142, 149)]}),\n",
       " 'col_name_ranges': defaultdict(list,\n",
       "             {'stadium_id': [(33, 37), (123, 127)],\n",
       "              'location': [(39, 40)],\n",
       "              'name': [(42, 43), (65, 66)],\n",
       "              'capacity': [(45, 46)],\n",
       "              'highest': [(48, 49)],\n",
       "              'lowest': [(51, 52)],\n",
       "              'average': [(54, 55)],\n",
       "              'singer_id': [(59, 63), (157, 161)],\n",
       "              'country': [(73, 74)],\n",
       "              'song_name': [(87, 90)],\n",
       "              'song_release_year': [(92, 97)],\n",
       "              'age': [(99, 100)],\n",
       "              'is_male': [(102, 105)],\n",
       "              'concert_id': [(109, 113), (151, 155)],\n",
       "              'concert_name': [(115, 118)],\n",
       "              'theme': [(120, 121)],\n",
       "              'year': [(129, 130)]}),\n",
       " 'val_name_ranges': defaultdict(list,\n",
       "             {'First Last': [(67, 69)],\n",
       "              'France': [(75, 76)],\n",
       "              'Germany': [(78, 79)],\n",
       "              'United States': [(81, 83)],\n",
       "              '2008': [(131, 132)],\n",
       "              '2012': [(134, 135)],\n",
       "              '2022': [(137, 139)]})}"
      ]
     },
     "execution_count": 86,
     "metadata": {},
     "output_type": "execute_result"
    }
   ],
   "source": [
    "token_ranges_dict"
   ]
  },
  {
   "cell_type": "code",
   "execution_count": 161,
   "metadata": {
    "scrolled": true
   },
   "outputs": [
    {
     "name": "stdout",
     "output_type": "stream",
     "text": [
      "db_id_ranges\tconcert_singer\tconcert_singer\n",
      "table_name_ranges\tstadium\tstadium\n",
      "table_name_ranges\tsinger\tsinger\n",
      "table_name_ranges\tconcert\tconcert\n",
      "table_name_ranges\tsinger_in_concert\tsinger_in_concert\n",
      "col_name_ranges\tstadium_id\tstadium_id\n",
      "col_name_ranges\tstadium_id\tstadium_id\n",
      "col_name_ranges\tlocation\tlocation\n",
      "col_name_ranges\tname\tname\n",
      "col_name_ranges\tname\tname\n",
      "col_name_ranges\tcapacity\tcapacity\n",
      "col_name_ranges\thighest\thighest\n",
      "col_name_ranges\tlowest\tlowest\n",
      "col_name_ranges\taverage\taverage\n",
      "col_name_ranges\tsinger_id\tsinger_id\n",
      "col_name_ranges\tsinger_id\tsinger_id\n",
      "col_name_ranges\tcountry\tcountry ( France )\n",
      "col_name_ranges\tsong_name\tsong_name\n",
      "col_name_ranges\tsong_release_year\tsong_release_year\n",
      "col_name_ranges\tage\tage\n",
      "col_name_ranges\tis_male\tis_male\n",
      "col_name_ranges\tconcert_id\tconcert_id\n",
      "col_name_ranges\tconcert_id\tconcert_id\n",
      "col_name_ranges\tconcert_name\tconcert_name\n",
      "col_name_ranges\ttheme\ttheme\n",
      "col_name_ranges\tyear\tyear\n",
      "val_name_ranges\tFrance\tFrance\n"
     ]
    }
   ],
   "source": [
    "for d_key, d in token_ranges_dict.items():\n",
    "    for name, ranges in d.items():\n",
    "        for s, e in ranges:\n",
    "            recs_name = ctu.decode_sentences(mt_uskg.tokenizer, enc_tokenized['input_ids'][s:e])\n",
    "            print(f'{d_key}\\t{name}\\t{recs_name}')"
   ]
  },
  {
   "cell_type": "code",
   "execution_count": null,
   "metadata": {},
   "outputs": [],
   "source": []
  },
  {
   "cell_type": "markdown",
   "metadata": {},
   "source": [
    "### Stanza"
   ]
  },
  {
   "cell_type": "code",
   "execution_count": 99,
   "metadata": {},
   "outputs": [],
   "source": [
    "import stanza"
   ]
  },
  {
   "cell_type": "code",
   "execution_count": null,
   "metadata": {},
   "outputs": [],
   "source": [
    "nlp = stanza.Pipeline(lang='en', processors='tokenize,mwt,pos,lemma')"
   ]
  },
  {
   "cell_type": "code",
   "execution_count": 102,
   "metadata": {
    "scrolled": true
   },
   "outputs": [
    {
     "name": "stdout",
     "output_type": "stream",
     "text": [
      "word: cars \tlemma: car\n",
      "word: data \tlemma: datum\n"
     ]
    }
   ],
   "source": [
    "doc = nlp('cars data')\n",
    "print(*[f'word: {word.text+\" \"}\\tlemma: {word.lemma}' for sent in doc.sentences for word in sent.words], sep='\\n')"
   ]
  },
  {
   "cell_type": "code",
   "execution_count": 122,
   "metadata": {},
   "outputs": [
    {
     "data": {
      "text/plain": [
       "{\n",
       "  \"id\": 1,\n",
       "  \"text\": \"cars\",\n",
       "  \"lemma\": \"car\",\n",
       "  \"upos\": \"NOUN\",\n",
       "  \"xpos\": \"NNS\",\n",
       "  \"feats\": \"Number=Plur\",\n",
       "  \"start_char\": 0,\n",
       "  \"end_char\": 4\n",
       "}"
      ]
     },
     "execution_count": 122,
     "metadata": {},
     "output_type": "execute_result"
    }
   ],
   "source": [
    "doc = nlp('cars data')\n",
    "doc.sentences[0].words[0]"
   ]
  },
  {
   "cell_type": "code",
   "execution_count": null,
   "metadata": {},
   "outputs": [],
   "source": [
    "# lemmatizer = WordNetLemmatizer()\n",
    "\n",
    "# stanza_nlp = stanza.Pipeline(lang='en', processors='tokenize,mwt,pos,lemma')"
   ]
  },
  {
   "cell_type": "code",
   "execution_count": 132,
   "metadata": {},
   "outputs": [],
   "source": [
    "# lemm_cache = dict()\n",
    "\n",
    "# def _lemmatize(name):\n",
    "# #     toks = []\n",
    "# #     for t in name.split('_'):\n",
    "# #         lemm_t = lemm_cache.get(t, None)\n",
    "# #         if lemm_t is None:\n",
    "# #             _doc = stanza_nlp(t)\n",
    "# #             lemm_t = _doc.sentences[0].words[0].lemma\n",
    "# #             lemm_cache[t] = lemm_t\n",
    "# #         toks.append(lemm_t)\n",
    "# #     return '_'.join(toks)\n",
    "#     _name = ' '.join(name.split('_'))\n",
    "#     _doc = stanza_nlp(_name)\n",
    "#     lemm_name = [w.lemma for sent in _doc.sentences for w in sent.words]\n",
    "#     return lemm_name\n",
    "    "
   ]
  },
  {
   "cell_type": "code",
   "execution_count": null,
   "metadata": {},
   "outputs": [],
   "source": [
    "# _lemmatize('ranking_date')"
   ]
  },
  {
   "cell_type": "code",
   "execution_count": 130,
   "metadata": {},
   "outputs": [],
   "source": [
    "# def _check_text_match(spider_ex, result_d):\n",
    "#     col = result_d['expect']\n",
    "#     tab = result_d['table']\n",
    "#     node_name = f'<C>{tab}::{col}'\n",
    "#     nodes = spider_ex['rat_sql_graph']['nodes']\n",
    "    \n",
    "#     if node_name in nodes:\n",
    "#         node_idx = nodes.index(node_name)\n",
    "#     else:\n",
    "#         _col = _lemmatize(col)\n",
    "#         _tab = _lemmatize(tab)\n",
    "#         _node_name = f'<C>{_tab}::{_col}'\n",
    "# #         if col != _col:\n",
    "# #             print(f'* Lemmatize: {node_name} ==> {_node_name}')\n",
    "#         if _node_name in nodes:\n",
    "#             node_idx = nodes.index(_node_name)\n",
    "#         else:\n",
    "#             assert False, ((node_name, _node_name), nodes)\n",
    "    \n",
    "#     rel_matrix = json.loads(spider_ex['rat_sql_graph']['relations'])\n",
    "#     rel_row = rel_matrix[node_idx]\n",
    "    \n",
    "#     if REL2ID['cqCEM'] in rel_row:\n",
    "#         return 'exact'\n",
    "#     elif REL2ID['cqCPM'] in rel_row:\n",
    "#         return 'partial'\n",
    "#     else:\n",
    "#         return 'no-match'\n",
    "    "
   ]
  },
  {
   "cell_type": "markdown",
   "metadata": {},
   "source": [
    "### Tokenizer-fast / uskg"
   ]
  },
  {
   "cell_type": "code",
   "execution_count": 331,
   "metadata": {},
   "outputs": [],
   "source": [
    "ex = processed_spider_dev[416]"
   ]
  },
  {
   "cell_type": "code",
   "execution_count": 332,
   "metadata": {},
   "outputs": [
    {
     "data": {
      "text/plain": [
       "tensor([[    0,  1738,     3,     9,   208,   122,   599,  5525,   834,   858,\n",
       "           834, 26416,    61,    45,  7071,   213,   539,   834,  1201, 32100,\n",
       "          2464,     1]], device='cuda:0')"
      ]
     },
     "execution_count": 332,
     "metadata": {},
     "output_type": "execute_result"
    }
   ],
   "source": [
    "# TODO: add special token (<, <=) to t5-tokenizer \n",
    "# could use uskg tokenizer, but it's not TokenizerFast \n",
    "\n",
    "text_in = ex['text_in']\n",
    "struct_in = ex['struct_in']\n",
    "\n",
    "txt = f\"{text_in}; structed knowledge: {struct_in}\"\n",
    "\n",
    "tokenized_txt = mt_uskg.tokenizer([txt], max_length=1024, padding=\"max_length\", truncation=True)\n",
    "\n",
    "device = mt_uskg.model.device\n",
    "_output = mt_uskg.model.generate(\n",
    "    torch.tensor(tokenized_txt.data['input_ids'], dtype=int, device=device),\n",
    "    torch.tensor(tokenized_txt.data['attention_mask'], dtype=int, device=device),\n",
    "    num_beams=1, \n",
    "    max_length=256\n",
    ")\n",
    "\n",
    "_output"
   ]
  },
  {
   "cell_type": "code",
   "execution_count": 334,
   "metadata": {},
   "outputs": [
    {
     "data": {
      "text/plain": [
       "['select avg(num_of_staff) from museum where open_year 2009']"
      ]
     },
     "execution_count": 334,
     "metadata": {},
     "output_type": "execute_result"
    }
   ],
   "source": [
    "mt_uskg.tokenizer.batch_decode(\n",
    "    _output,\n",
    "    skip_special_tokens=True \n",
    ")"
   ]
  },
  {
   "cell_type": "code",
   "execution_count": 333,
   "metadata": {},
   "outputs": [
    {
     "data": {
      "text/plain": [
       "['select avg(num_of_staff) from museum where open_year  < 2009']"
      ]
     },
     "execution_count": 333,
     "metadata": {},
     "output_type": "execute_result"
    }
   ],
   "source": [
    "mt_uskg.tokenizer_uskg.batch_decode(\n",
    "    _output,\n",
    "    skip_special_tokens=True \n",
    ")"
   ]
  },
  {
   "cell_type": "code",
   "execution_count": 48,
   "metadata": {},
   "outputs": [
    {
     "data": {
      "text/plain": [
       "['▁', 't', '3.']"
      ]
     },
     "execution_count": 48,
     "metadata": {},
     "output_type": "execute_result"
    }
   ],
   "source": [
    "mt_uskg.tokenizer.tokenize('t3.')"
   ]
  },
  {
   "cell_type": "code",
   "execution_count": null,
   "metadata": {},
   "outputs": [],
   "source": []
  },
  {
   "cell_type": "code",
   "execution_count": null,
   "metadata": {},
   "outputs": [],
   "source": []
  },
  {
   "cell_type": "markdown",
   "metadata": {},
   "source": [
    "### Prepare input for chatgpt"
   ]
  },
  {
   "cell_type": "code",
   "execution_count": 401,
   "metadata": {},
   "outputs": [],
   "source": [
    "ex = processed_spider_dev[503]"
   ]
  },
  {
   "cell_type": "code",
   "execution_count": 402,
   "metadata": {},
   "outputs": [
    {
     "name": "stdout",
     "output_type": "stream",
     "text": [
      "How many battles did not lose any ship with tonnage '225'?; structed knowledge: | battle_death | battle : id , name , date , bulgarian_commander , latin_commander , result | ship : lost_in_battle , id , name , tonnage , ship_type , location , disposition_of_ship | death : caused_by_ship_id , id , note , killed , injured => select count(*) from battle where id not in ( select lost_in_battle from ship where tonnage = '225' );\n"
     ]
    }
   ],
   "source": [
    "text_in = ex['text_in']\n",
    "struct_in = ex['struct_in']\n",
    "\n",
    "enc_sentence = f\"{text_in}; structed knowledge: {struct_in}\"\n",
    "\n",
    "print(f\"{enc_sentence} => {ex['seq_out']}\")"
   ]
  },
  {
   "cell_type": "code",
   "execution_count": null,
   "metadata": {},
   "outputs": [],
   "source": []
  },
  {
   "cell_type": "markdown",
   "metadata": {},
   "source": [
    "### One-time patches"
   ]
  },
  {
   "cell_type": "code",
   "execution_count": 173,
   "metadata": {},
   "outputs": [],
   "source": [
    "# # For exp2: ['trace_results'][.]: ['%col%_score'] -> ['%node%_score']\n",
    "\n",
    "# res_dir = '/home/yshao/Projects/rome/results/exp2_text_struct_interaction/'\n",
    "# in_path = os.path.join(res_dir, 'exp=2_train_column-tmp.jsonl')\n",
    "# out_path = os.path.join(res_dir, 'exp=2_train_column.jsonl')\n",
    "\n",
    "# with open(in_path, 'r') as f:\n",
    "#     all_results = [json.loads(l) for l in f]\n",
    "\n",
    "# for ex_d in all_results:\n",
    "#     for d in ex_d['trace_results']:\n",
    "#         if not d['is_good_sample']:\n",
    "#             continue\n",
    "#         d['r_node_score'] = d['r_col_score']\n",
    "#         d['r_struct_no_node_score'] = d['r_struct_no_col_score']\n",
    "#         d['r_node_corrupt_all_score'] = d['r_col_corrupt_all_score']\n",
    "#         del d['r_col_score']\n",
    "#         del d['r_struct_no_col_score']\n",
    "#         del d['r_col_corrupt_all_score']\n",
    "\n",
    "# all_results.sort(key=lambda d: d['ex_id'])\n",
    "        \n",
    "# with open(out_path, 'w') as f:\n",
    "#     for d in all_results:\n",
    "#         f.write(json.dumps(d, indent=None) + '\\n')\n",
    "        "
   ]
  },
  {
   "cell_type": "code",
   "execution_count": null,
   "metadata": {},
   "outputs": [],
   "source": [
    "d"
   ]
  },
  {
   "cell_type": "code",
   "execution_count": null,
   "metadata": {},
   "outputs": [],
   "source": []
  },
  {
   "cell_type": "markdown",
   "metadata": {},
   "source": [
    "### RE test"
   ]
  },
  {
   "cell_type": "code",
   "execution_count": 197,
   "metadata": {},
   "outputs": [],
   "source": [
    "dec_target = ' a b a c aa da a '\n",
    "subject = 'bb'\n",
    "m = re.search(fr'\\W({subject})\\W', dec_target)\n",
    "m"
   ]
  },
  {
   "cell_type": "code",
   "execution_count": 198,
   "metadata": {},
   "outputs": [
    {
     "data": {
      "text/plain": [
       "<callable_iterator at 0x7f9d8fe45b20>"
      ]
     },
     "execution_count": 198,
     "metadata": {},
     "output_type": "execute_result"
    }
   ],
   "source": [
    "m = re.finditer(fr'\\W({subject})\\W', dec_target)\n",
    "m"
   ]
  },
  {
   "cell_type": "code",
   "execution_count": 199,
   "metadata": {},
   "outputs": [
    {
     "data": {
      "text/plain": [
       "[]"
      ]
     },
     "execution_count": 199,
     "metadata": {},
     "output_type": "execute_result"
    }
   ],
   "source": [
    "m = list(m)\n",
    "m"
   ]
  },
  {
   "cell_type": "code",
   "execution_count": null,
   "metadata": {},
   "outputs": [],
   "source": []
  },
  {
   "cell_type": "markdown",
   "metadata": {},
   "source": [
    "### exp4 plotting"
   ]
  },
  {
   "cell_type": "code",
   "execution_count": 455,
   "metadata": {},
   "outputs": [],
   "source": [
    "def plot_uskg_enc_attention(d, savepdf=None):\n",
    "    ## Assume 16 heads, 24 layers (T5 large config)\n",
    "    \n",
    "    ## encoder self attention \n",
    "    inspect_layers = [0, 6, 12, 18, 23]\n",
    "    att_dict = d['attentions']\n",
    "    \n",
    "    cand_len = len(att_dict['enc_cand_tokens'])\n",
    "    head_len = len(att_dict['enc_head_tokens'])\n",
    "\n",
    "    fig_w = 22\n",
    "    fig_h = (0.11*cand_len + 1) * head_len\n",
    "    fig, ax_list = plt.subplots(\n",
    "        nrows=head_len,\n",
    "        ncols=len(inspect_layers),\n",
    "        squeeze=False,\n",
    "        figsize=(fig_w, fig_h))\n",
    "\n",
    "    att_mat = ctu.nested_list_processing(att_dict['enc_attn'], func=float)\n",
    "    att_mat = np.array(att_mat)\n",
    "    \n",
    "    for expect_i in range(len(att_dict['enc_head_tokens'])):\n",
    "        for l_id, layer in enumerate(inspect_layers):\n",
    "            val_mat = att_mat[layer, :, expect_i, :]  # layer, all heads, expect tok i -> all toks \n",
    "            val_mat = val_mat.transpose()    # (cand_toks, n_heads)\n",
    "            x_labels = range(val_mat.shape[1])\n",
    "            y_labels = att_dict['enc_cand_tokens']\n",
    "            title_toks = att_dict['enc_head_tokens'][:expect_i] + [f\"*{att_dict['enc_head_tokens'][expect_i]}*\"]\n",
    "            title = f\"L{layer}  Head token: {' '.join(title_toks)}\\n\"\n",
    "            \n",
    "            ax = ax_list[expect_i, l_id]\n",
    "            _draw_single_plot_2(ax,\n",
    "                                val_mat=val_mat, \n",
    "                                x_labels=x_labels, \n",
    "                                y_labels=y_labels,\n",
    "                                title=title)\n",
    "            \n",
    "    fig.tight_layout()\n",
    "    if savepdf:\n",
    "        plt.savefig(savepdf, bbox_inches=\"tight\")\n",
    "        plt.close()\n",
    "    else:\n",
    "        plt.show()"
   ]
  },
  {
   "cell_type": "code",
   "execution_count": 471,
   "metadata": {},
   "outputs": [],
   "source": [
    "def plot_uskg_cross_attention(d, savepdf=None):\n",
    "    ## Assume 16 heads, 24 layers (T5 large config)\n",
    "    \n",
    "    ## decoder cross attention \n",
    "    inspect_layers = [0, 6, 12, 18, 23]\n",
    "    att_dict = d['attentions']\n",
    "    cand_len = len(att_dict['cross_cand_tokens'])\n",
    "    head_len = len(att_dict['cross_head_tokens'])\n",
    "    prompt_len = len(att_dict['dec_cand_tokens'])\n",
    "\n",
    "    fig_w = 22\n",
    "    fig_h = (0.11*cand_len + 1) * head_len\n",
    "    fig, ax_list = plt.subplots(\n",
    "        nrows=head_len,\n",
    "        ncols=len(inspect_layers),\n",
    "        squeeze=False,\n",
    "        figsize=(fig_w, fig_h))\n",
    "\n",
    "    att_mat = ctu.nested_list_processing(att_dict['cross_attn'], func=float)\n",
    "    att_mat = np.array(att_mat)\n",
    "    \n",
    "    for expect_i in range(head_len):\n",
    "        for l_id, layer in enumerate(inspect_layers):\n",
    "            val_mat = att_mat[layer, :, expect_i, :]  # layer, all heads, expect tok i -> all toks \n",
    "            val_mat = val_mat.transpose()    # (cand_toks, n_heads)\n",
    "            x_labels = range(val_mat.shape[1])\n",
    "            y_labels = att_dict['cross_cand_tokens']\n",
    "            # a small hack to use gold tokens from dec_prompt (dec_cand_tokens) for previous steps and predicted tokens at this step \n",
    "            # dec_prompt ends with the first (head_len-1) tokens of the target node \n",
    "            title_toks = att_dict['dec_cand_tokens'][prompt_len - (head_len-1) : prompt_len - (head_len-1) + expect_i] + [f\"*{att_dict['cross_head_tokens'][expect_i]}*\"]\n",
    "            title = f\"L{layer}  Head token: {' '.join(title_toks)}\\n\"\n",
    "            \n",
    "            ax = ax_list[expect_i, l_id]\n",
    "            _draw_single_plot_2(ax,\n",
    "                                val_mat=val_mat, \n",
    "                                x_labels=x_labels, \n",
    "                                y_labels=y_labels,\n",
    "                                title=title)\n",
    "            \n",
    "    fig.tight_layout()\n",
    "    if savepdf:\n",
    "        plt.savefig(savepdf, bbox_inches=\"tight\")\n",
    "        plt.close()\n",
    "    else:\n",
    "        plt.show()"
   ]
  },
  {
   "cell_type": "code",
   "execution_count": 472,
   "metadata": {},
   "outputs": [],
   "source": [
    "# d['attentions']['dec_cand_tokens'][-5:]"
   ]
  },
  {
   "cell_type": "code",
   "execution_count": 473,
   "metadata": {},
   "outputs": [],
   "source": [
    "savepdf_path = '/home/yshao/Projects/rome/results/figs/exp4_inspect_attention/tmp-6-cross.pdf'\n",
    "plot_uskg_cross_attention(d, savepdf=savepdf_path)"
   ]
  },
  {
   "cell_type": "code",
   "execution_count": 474,
   "metadata": {},
   "outputs": [],
   "source": [
    "def plot_uskg_dec_attention(d, savepdf=None):\n",
    "    ## Assume 16 heads, 24 layers (T5 large config)\n",
    "    \n",
    "    ## decoder self attention \n",
    "    inspect_layers = [0, 6, 12, 18, 23]\n",
    "    att_dict = d['attentions']\n",
    "    prompt_len = cand_len = len(att_dict['dec_cand_tokens'])\n",
    "    head_len = len(att_dict['dec_head_tokens'])\n",
    "\n",
    "    fig_w = 22\n",
    "    fig_h = (0.11*cand_len + 1) * head_len\n",
    "    fig, ax_list = plt.subplots(\n",
    "        nrows=head_len,\n",
    "        ncols=len(inspect_layers),\n",
    "        squeeze=False,\n",
    "        figsize=(fig_w, fig_h))\n",
    "\n",
    "    att_mat = ctu.nested_list_processing(att_dict['dec_attn'], func=float)\n",
    "    att_mat = np.array(att_mat)\n",
    "    \n",
    "    for expect_i in range(head_len):\n",
    "        for l_id, layer in enumerate(inspect_layers):\n",
    "            val_mat = att_mat[layer, :, expect_i, :]  # layer, all heads, expect tok i -> all toks \n",
    "            val_mat = val_mat.transpose()    # (cand_toks, n_heads)\n",
    "            x_labels = range(val_mat.shape[1])\n",
    "            y_labels = att_dict['dec_cand_tokens']\n",
    "            # a small hack to use gold tokens from dec_prompt (dec_cand_tokens) for previous steps and predicted tokens at this step \n",
    "            # dec_prompt ends with the first (head_len-1) tokens of the target node \n",
    "            title_toks = att_dict['dec_cand_tokens'][prompt_len - (head_len-1) : prompt_len - (head_len-1) + expect_i] + [f\"*{att_dict['dec_head_tokens'][expect_i]}*\"]\n",
    "            title = f\"L{layer}  Head token: {' '.join(title_toks)}\\n\"\n",
    "            \n",
    "            ax = ax_list[expect_i, l_id]\n",
    "            _draw_single_plot_2(ax,\n",
    "                                val_mat=val_mat, \n",
    "                                x_labels=x_labels, \n",
    "                                y_labels=y_labels,\n",
    "                                title=title)\n",
    "            \n",
    "    fig.tight_layout()\n",
    "    if savepdf:\n",
    "        plt.savefig(savepdf, bbox_inches=\"tight\")\n",
    "        plt.close()\n",
    "    else:\n",
    "        plt.show()"
   ]
  },
  {
   "cell_type": "code",
   "execution_count": 475,
   "metadata": {},
   "outputs": [],
   "source": [
    "savepdf_path = '/home/yshao/Projects/rome/results/figs/exp4_inspect_attention/tmp-6-dec.pdf'\n",
    "plot_uskg_dec_attention(d, savepdf=savepdf_path)"
   ]
  },
  {
   "cell_type": "code",
   "execution_count": 366,
   "metadata": {},
   "outputs": [
    {
     "data": {
      "text/plain": [
       "(24, 16, 1, 141)"
      ]
     },
     "execution_count": 366,
     "metadata": {},
     "output_type": "execute_result"
    }
   ],
   "source": [
    "np.array(d['attentions']['enc_attn']).shape"
   ]
  },
  {
   "cell_type": "code",
   "execution_count": 418,
   "metadata": {},
   "outputs": [
    {
     "data": {
      "text/plain": [
       "(16, 141)"
      ]
     },
     "execution_count": 418,
     "metadata": {},
     "output_type": "execute_result"
    }
   ],
   "source": [
    "_att_mat = ctu.nested_list_processing(d['attentions']['enc_attn'], float)\n",
    "_att_mat = np.array(_att_mat)[-1, :, 0, :]  # layer 0, all heads, expect tok 0 -> all toks \n",
    "\n",
    "_att_mat.shape"
   ]
  },
  {
   "cell_type": "code",
   "execution_count": null,
   "metadata": {},
   "outputs": [],
   "source": [
    "cand_len = len(d['attentions']['enc_tgt_tokens'])\n",
    "fig_h = cand_len / 10\n",
    "\n",
    "fig = plt.figure(figsize=(4, fig_h))\n",
    "ax = fig.gca()\n",
    "\n",
    "val_mat = _att_mat.transpose()\n",
    "x_labels = range(val_mat.shape[1])\n",
    "y_labels = d['attentions']['enc_tgt_tokens']\n",
    "title_toks = d['attentions']['enc_src_tokens'][:-1] + [f\"*{d['attentions']['enc_src_tokens'][-1]}*\"]\n",
    "title = ' '.join(title_toks)\n",
    "\n",
    "_draw_single_plot_2(ax,\n",
    "                    val_mat=val_mat, \n",
    "                    x_labels=x_labels, \n",
    "                    y_labels=y_labels,\n",
    "                    title=title,\n",
    "                   )\n",
    "fig.tight_layout()\n",
    "plt.savefig('/home/yshao/Projects/rome/results/figs/exp4_inspect_attention/tmp-1.pdf',\n",
    "            bbox_inches=\"tight\")"
   ]
  },
  {
   "cell_type": "code",
   "execution_count": null,
   "metadata": {},
   "outputs": [],
   "source": [
    "fig, ax_list = plt.subplots(nrows=4, ncols=2)\n",
    "ax_list.shape"
   ]
  },
  {
   "cell_type": "code",
   "execution_count": 431,
   "metadata": {},
   "outputs": [],
   "source": [
    "# plt.close('all')"
   ]
  },
  {
   "cell_type": "code",
   "execution_count": null,
   "metadata": {},
   "outputs": [],
   "source": []
  },
  {
   "cell_type": "code",
   "execution_count": null,
   "metadata": {},
   "outputs": [],
   "source": []
  },
  {
   "cell_type": "markdown",
   "metadata": {},
   "source": [
    "### other temp"
   ]
  },
  {
   "cell_type": "code",
   "execution_count": 47,
   "metadata": {},
   "outputs": [
    {
     "data": {
      "text/plain": [
       "array([[[ 0.37569802, -0.60063869, -0.29169375],\n",
       "        [-0.60170661,  1.85227818, -0.01349722],\n",
       "        [-1.05771093,  0.82254491, -1.22084365]],\n",
       "\n",
       "       [[ 0.2088636 , -1.95967012, -1.32818605],\n",
       "        [ 0.19686124,  0.73846658,  0.17136828],\n",
       "        [-0.11564828, -0.3011037 , -1.47852199]],\n",
       "\n",
       "       [[-0.71984421, -0.46063877,  1.05712223],\n",
       "        [ 0.34361829, -1.76304016,  0.32408397],\n",
       "        [-0.38508228, -0.676922  ,  0.61167629]]])"
      ]
     },
     "execution_count": 47,
     "metadata": {},
     "output_type": "execute_result"
    }
   ],
   "source": [
    "a = np.random.randn(3,3,3)\n",
    "a"
   ]
  },
  {
   "cell_type": "code",
   "execution_count": 49,
   "metadata": {},
   "outputs": [
    {
     "data": {
      "text/plain": [
       "(array([0, 0, 1, 2, 2]), array([1, 2, 1, 0, 2]), array([1, 1, 1, 2, 2]))"
      ]
     },
     "execution_count": 49,
     "metadata": {},
     "output_type": "execute_result"
    }
   ],
   "source": [
    "np.where(a > 0.5)"
   ]
  },
  {
   "cell_type": "code",
   "execution_count": 51,
   "metadata": {},
   "outputs": [
    {
     "data": {
      "text/plain": [
       "[(0, 1, 1), (0, 2, 1), (1, 1, 1), (2, 0, 2), (2, 2, 2)]"
      ]
     },
     "execution_count": 51,
     "metadata": {},
     "output_type": "execute_result"
    }
   ],
   "source": [
    "list(zip(*np.where(a > 0.5)))"
   ]
  },
  {
   "cell_type": "code",
   "execution_count": 350,
   "metadata": {},
   "outputs": [
    {
     "data": {
      "text/plain": [
       "(1.6666666666666667, '1.667')"
      ]
     },
     "execution_count": 350,
     "metadata": {},
     "output_type": "execute_result"
    }
   ],
   "source": [
    "5/3, np.format_float_positional(5/3, precision=3)"
   ]
  },
  {
   "cell_type": "code",
   "execution_count": 149,
   "metadata": {},
   "outputs": [
    {
     "data": {
      "text/plain": [
       "int"
      ]
     },
     "execution_count": 149,
     "metadata": {},
     "output_type": "execute_result"
    }
   ],
   "source": [
    "type(t.item())"
   ]
  },
  {
   "cell_type": "code",
   "execution_count": 271,
   "metadata": {},
   "outputs": [
    {
     "name": "stdout",
     "output_type": "stream",
     "text": [
      "huggingface/tokenizers: The current process just got forked, after parallelism has already been used. Disabling parallelism to avoid deadlocks...\n",
      "To disable this warning, you can either:\n",
      "\t- Avoid using `tokenizers` before the fork if possible\n",
      "\t- Explicitly set the environment variable TOKENIZERS_PARALLELISM=(true | false)\n",
      "\u001b[33mWARNING: Package(s) not found: uskg\u001b[0m\n"
     ]
    }
   ],
   "source": [
    "!pip show uskg"
   ]
  },
  {
   "cell_type": "code",
   "execution_count": 276,
   "metadata": {},
   "outputs": [
    {
     "data": {
      "text/plain": [
       "{'__name__': 'uskg',\n",
       " '__doc__': None,\n",
       " '__package__': 'uskg',\n",
       " '__loader__': <_frozen_importlib_external._NamespaceLoader at 0x7f6cc73c6a00>,\n",
       " '__spec__': ModuleSpec(name='uskg', loader=<_frozen_importlib_external._NamespaceLoader object at 0x7f6cc73c6a00>, submodule_search_locations=_NamespacePath(['/home/yshao/Projects/UnifiedSKG/uskg_pip/uskg'])),\n",
       " '__file__': None,\n",
       " '__path__': _NamespacePath(['/home/yshao/Projects/UnifiedSKG/uskg_pip/uskg']),\n",
       " 'models': <module 'uskg.models' from '/home/yshao/Projects/UnifiedSKG/uskg_pip/uskg/models/__init__.py'>,\n",
       " 'utils': <module 'uskg.utils' from '/home/yshao/Projects/UnifiedSKG/uskg_pip/uskg/utils/__init__.py'>,\n",
       " 'seq2seq_construction': <module 'uskg.seq2seq_construction' from '/home/yshao/Projects/UnifiedSKG/uskg_pip/uskg/seq2seq_construction/__init__.py'>,\n",
       " 'third_party': <module 'uskg.third_party' from '/home/yshao/Projects/UnifiedSKG/uskg_pip/uskg/third_party/__init__.py'>}"
      ]
     },
     "execution_count": 276,
     "metadata": {},
     "output_type": "execute_result"
    }
   ],
   "source": [
    "uskg.__dict__"
   ]
  },
  {
   "cell_type": "code",
   "execution_count": 277,
   "metadata": {},
   "outputs": [
    {
     "name": "stdout",
     "output_type": "stream",
     "text": [
      "huggingface/tokenizers: The current process just got forked, after parallelism has already been used. Disabling parallelism to avoid deadlocks...\n",
      "To disable this warning, you can either:\n",
      "\t- Avoid using `tokenizers` before the fork if possible\n",
      "\t- Explicitly set the environment variable TOKENIZERS_PARALLELISM=(true | false)\n",
      "\r\n"
     ]
    }
   ],
   "source": [
    "!echo $PYTHONPATH "
   ]
  },
  {
   "cell_type": "code",
   "execution_count": 335,
   "metadata": {},
   "outputs": [
    {
     "data": {
      "text/plain": [
       "tensor([[0., 1., 2., 3., 4.],\n",
       "        [0., 1., 2., 3., 4.],\n",
       "        [0., 1., 2., 3., 4.]])"
      ]
     },
     "execution_count": 335,
     "metadata": {},
     "output_type": "execute_result"
    }
   ],
   "source": [
    "_t_list = [torch.ones(3) * i for i in range(5)]\n",
    "t1 = torch.stack(_t_list, dim=1)\n",
    "t1"
   ]
  },
  {
   "cell_type": "code",
   "execution_count": 336,
   "metadata": {},
   "outputs": [
    {
     "data": {
      "text/plain": [
       "tensor([[0., 1., 2., 3., 4.],\n",
       "        [0., 1., 2., 3., 4.],\n",
       "        [0., 1., 2., 3., 4.]])"
      ]
     },
     "execution_count": 336,
     "metadata": {},
     "output_type": "execute_result"
    }
   ],
   "source": [
    "t2 = torch.cat([_t.unsqueeze(dim=1) for _t in _t_list], dim=1)\n",
    "t2"
   ]
  },
  {
   "cell_type": "code",
   "execution_count": 338,
   "metadata": {},
   "outputs": [
    {
     "data": {
      "text/plain": [
       "tensor([[2., 3.],\n",
       "        [2., 3.],\n",
       "        [2., 3.]])"
      ]
     },
     "execution_count": 338,
     "metadata": {},
     "output_type": "execute_result"
    }
   ],
   "source": [
    "t1[:, [2,3]]"
   ]
  },
  {
   "cell_type": "code",
   "execution_count": 346,
   "metadata": {},
   "outputs": [
    {
     "data": {
      "text/plain": [
       "torch.return_types.max(\n",
       "values=tensor(0.3000),\n",
       "indices=tensor(2))"
      ]
     },
     "execution_count": 346,
     "metadata": {},
     "output_type": "execute_result"
    }
   ],
   "source": [
    "torch.max(torch.tensor([0.1, 0.2, 0.3]), dim=-1)"
   ]
  },
  {
   "cell_type": "code",
   "execution_count": null,
   "metadata": {},
   "outputs": [],
   "source": []
  },
  {
   "cell_type": "code",
   "execution_count": null,
   "metadata": {},
   "outputs": [],
   "source": []
  },
  {
   "cell_type": "code",
   "execution_count": null,
   "metadata": {},
   "outputs": [],
   "source": []
  },
  {
   "cell_type": "code",
   "execution_count": null,
   "metadata": {},
   "outputs": [],
   "source": []
  },
  {
   "cell_type": "code",
   "execution_count": null,
   "metadata": {},
   "outputs": [],
   "source": []
  },
  {
   "cell_type": "markdown",
   "metadata": {},
   "source": [
    "## (placeholder)"
   ]
  },
  {
   "cell_type": "code",
   "execution_count": null,
   "metadata": {},
   "outputs": [],
   "source": []
  }
 ],
 "metadata": {
  "accelerator": "GPU",
  "kernelspec": {
   "display_name": "Python 3 (ipykernel)",
   "language": "python",
   "name": "python3"
  },
  "language_info": {
   "codemirror_mode": {
    "name": "ipython",
    "version": 3
   },
   "file_extension": ".py",
   "mimetype": "text/x-python",
   "name": "python",
   "nbconvert_exporter": "python",
   "pygments_lexer": "ipython3",
   "version": "3.9.7"
  },
  "toc": {
   "base_numbering": 1,
   "nav_menu": {},
   "number_sections": true,
   "sideBar": true,
   "skip_h1_title": false,
   "title_cell": "Table of Contents",
   "title_sidebar": "Contents",
   "toc_cell": false,
   "toc_position": {
    "height": "706px",
    "left": "31px",
    "top": "319px",
    "width": "259px"
   },
   "toc_section_display": true,
   "toc_window_display": true
  },
  "vscode": {
   "interpreter": {
    "hash": "2c3ec9f9cb0aa45979d92499665f4b05f2a3528d3b2ca0efacea2020d32b93f4"
   }
  }
 },
 "nbformat": 4,
 "nbformat_minor": 4
}

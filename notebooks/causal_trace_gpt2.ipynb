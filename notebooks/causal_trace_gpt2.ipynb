{
 "cells": [
  {
   "cell_type": "markdown",
   "id": "2caf5237",
   "metadata": {},
   "source": [
    "<a href=\"https://colab.research.google.com/github/kmeng01/rome/blob/main/notebooks/causal_trace.ipynb\"><img src=\"https://colab.research.google.com/assets/colab-badge.svg\" align=\"left\"/></a>&nbsp;or in a local notebook."
   ]
  },
  {
   "cell_type": "code",
   "execution_count": 1,
   "id": "95ff194f",
   "metadata": {},
   "outputs": [],
   "source": [
    "IS_COLAB = False"
   ]
  },
  {
   "cell_type": "markdown",
   "id": "24aaf804",
   "metadata": {},
   "source": [
    "## Causal Tracing\n",
    "\n",
    "A demonstration of the double-intervention causal tracing method.\n",
    "\n",
    "The strategy used by causal tracing is to understand important\n",
    "states within a transfomer by doing two interventions simultaneously:\n",
    "\n",
    "1. Corrupt a subset of the input.  In our paper, we corrupt the subject tokens\n",
    "   to frustrate the ability of the transformer to accurately complete factual\n",
    "   prompts about the subject.\n",
    "2. Restore a subset of the internal hidden states.  In our paper, we scan\n",
    "   hidden states at all layers and all tokens, searching for individual states\n",
    "   that carry the necessary information for the transformer to recover its\n",
    "   capability to complete the factual prompt.\n",
    "\n",
    "The traces of decisive states can be shown on a heatmap.  This notebook\n",
    "demonstrates the code for conducting causal traces and creating these heatmaps."
   ]
  },
  {
   "cell_type": "code",
   "execution_count": 2,
   "id": "d501c2c8",
   "metadata": {
    "scrolled": false
   },
   "outputs": [],
   "source": [
    "%load_ext autoreload\n",
    "%autoreload 2"
   ]
  },
  {
   "cell_type": "markdown",
   "id": "4d8aa3bf",
   "metadata": {},
   "source": [
    "The `experiments.causal_trace` module contains a set of functions for running causal traces.\n",
    "\n",
    "In this notebook, we reproduce, demonstrate and discuss the interesting functions.\n",
    "\n",
    "We begin by importing several utility functions that deal with tokens and transformer models."
   ]
  },
  {
   "cell_type": "code",
   "execution_count": 3,
   "id": "356b3911",
   "metadata": {},
   "outputs": [],
   "source": [
    "import os, sys, re, json\n",
    "import string\n",
    "import torch\n",
    "import numpy as np\n",
    "import copy\n",
    "from collections import defaultdict, Counter\n",
    "from util import nethook\n",
    "from util.globals import DATA_DIR\n",
    "from experiments.causal_trace import (\n",
    "    ModelAndTokenizer,\n",
    "    layername,\n",
    "    guess_subject,\n",
    "    plot_trace_heatmap,\n",
    ")\n",
    "from experiments.causal_trace import (\n",
    "    make_inputs,\n",
    "    decode_tokens,\n",
    "    find_token_range,\n",
    "    predict_token,\n",
    "    predict_from_input,\n",
    "    collect_embedding_std,\n",
    ")\n",
    "from dsets import KnownsDataset"
   ]
  },
  {
   "cell_type": "code",
   "execution_count": 4,
   "id": "92eb49c8",
   "metadata": {
    "scrolled": false
   },
   "outputs": [
    {
     "data": {
      "text/plain": [
       "<torch.autograd.grad_mode.set_grad_enabled at 0x7fd1ec0d1bb0>"
      ]
     },
     "execution_count": 4,
     "metadata": {},
     "output_type": "execute_result"
    }
   ],
   "source": [
    "torch.set_grad_enabled(False)"
   ]
  },
  {
   "cell_type": "code",
   "execution_count": 5,
   "id": "c77904da",
   "metadata": {},
   "outputs": [],
   "source": [
    "os.environ['CUDA_VISIBLE_DEVICES'] = '3'"
   ]
  },
  {
   "cell_type": "markdown",
   "id": "c1cf0c69",
   "metadata": {},
   "source": [
    "## USKG"
   ]
  },
  {
   "cell_type": "code",
   "execution_count": 20,
   "id": "774591a2",
   "metadata": {},
   "outputs": [],
   "source": [
    "from transformers import (\n",
    "    HfArgumentParser,\n",
    "    set_seed,\n",
    "    AutoTokenizer\n",
    ")\n",
    "from transformers import AutoModelForPreTraining\n",
    "\n",
    "import uskg\n",
    "# from uskg.models.unified.prefixtuning import Model\n",
    "from uskg.models.unified import finetune, prefixtuning\n",
    "from uskg.utils.configue import Configure\n",
    "from uskg.utils.training_arguments import WrappedSeq2SeqTrainingArguments\n",
    "from uskg.seq2seq_construction import spider as s2s_spider\n",
    "from uskg.third_party.spider.preprocess.get_tables import dump_db_json_schema\n",
    "from uskg.third_party.spider import evaluation as sp_eval\n",
    "\n",
    "from uskg.utils.dataset import gpt2_construct_input\n",
    "\n",
    "from tqdm.notebook import tqdm\n",
    "\n",
    "\n",
    "# from nltk.stem.wordnet import WordNetLemmatizer\n",
    "# import stanza\n",
    "\n",
    "from sklearn.pipeline import Pipeline\n",
    "from sklearn.preprocessing import StandardScaler\n",
    "from sklearn.linear_model import LogisticRegression\n",
    "\n",
    "import matplotlib.pyplot as plt\n",
    "import sqlite3\n",
    "import ujson\n",
    "import pickle\n",
    "\n",
    "# import experiments\n",
    "from experiments import causal_trace_uskg as ctu\n",
    "from experiments import causal_trace_uskg_gpt2 as ctu2\n",
    "\n",
    "# import util"
   ]
  },
  {
   "cell_type": "code",
   "execution_count": 8,
   "id": "68ed5111",
   "metadata": {},
   "outputs": [],
   "source": [
    "# Try to re-import to solve the class mismatch problem, but still not working...\n",
    "\n",
    "# import importlib\n",
    "\n",
    "# importlib.reload(uskg.models.prompt.modeling_auto)\n",
    "# importlib.reload(uskg.models.prompt.modeling_gpt2)\n",
    "# importlib.reload(uskg.models.unified)\n",
    "# importlib.reload(experiments)\n",
    "# importlib.reload(ctu)\n",
    "# importlib.reload(util)\n",
    "# importlib.reload(util.uskg)\n",
    "# importlib.reload(uskg.utils)\n",
    "\n",
    "# from uskg.models.unified import finetune, prefixtuning\n",
    "\n",
    "# from uskg.models.prompt.modeling_auto import AutoModelForPreTraining\n",
    "# from uskg.models.prompt.modeling_gpt2 import GPT2LMHeadModel\n",
    "# from uskg.models.prompt.modeling_t5 import T5ForConditionalGeneration\n",
    "\n",
    "# from experiments import causal_trace_uskg as ctu"
   ]
  },
  {
   "cell_type": "code",
   "execution_count": 9,
   "id": "2379880b",
   "metadata": {},
   "outputs": [],
   "source": [
    "from util import uskg as uu\n",
    "from util import uskg_gpt2 as uu2"
   ]
  },
  {
   "cell_type": "markdown",
   "id": "030d89de",
   "metadata": {},
   "source": [
    "### Loading model"
   ]
  },
  {
   "cell_type": "code",
   "execution_count": 10,
   "id": "c91e95cf",
   "metadata": {},
   "outputs": [
    {
     "name": "stdout",
     "output_type": "stream",
     "text": [
      "Using tokenizer_uskg: /home/yshao/Projects/UnifiedSKG/output/A-GPT2_medium_prefix_spider_with_cell_value-pfx=20/run-20231113/checkpoint-23500\n",
      "Using tokenizer_fast: gpt2-medium\n",
      "gpt2-medium\n",
      "prefix-tuning sequence length is 20.\n"
     ]
    }
   ],
   "source": [
    "# uskg_gpt2_model, tokenizer_uskg, tokenizer_fast, training_args, model_args, task_args = ctu.load_model_uskg('gpt2-prefix', untie_embeddings=False)\n",
    "mt_uskg_gpt2 = ctu.ModelAndTokenizer_USKG_GPT2('gpt2-medium-prefix')"
   ]
  },
  {
   "cell_type": "code",
   "execution_count": null,
   "id": "213bef37",
   "metadata": {},
   "outputs": [],
   "source": [
    "mt_uskg_gpt2.model"
   ]
  },
  {
   "cell_type": "code",
   "execution_count": null,
   "id": "536b7df3",
   "metadata": {},
   "outputs": [],
   "source": [
    "# [k for k, v in mt_uskg_gpt2.model.named_modules()]"
   ]
  },
  {
   "cell_type": "markdown",
   "id": "87289f95",
   "metadata": {},
   "source": [
    "### Loading dataset"
   ]
  },
  {
   "cell_type": "code",
   "execution_count": 12,
   "id": "9f5bff96",
   "metadata": {},
   "outputs": [],
   "source": [
    "spider_train_path = '/home/yshao/Projects/SDR-analysis/data/spider/train+ratsql_graph.json'\n",
    "spider_dev_path = '/home/yshao/Projects/SDR-analysis/data/spider/dev+ratsql_graph.json'\n",
    "spider_db_dir = '/home/yshao/Projects/language/language/xsp/data/spider/database'"
   ]
  },
  {
   "cell_type": "code",
   "execution_count": 13,
   "id": "516536fd",
   "metadata": {},
   "outputs": [
    {
     "data": {
      "text/plain": [
       "1034"
      ]
     },
     "execution_count": 13,
     "metadata": {},
     "output_type": "execute_result"
    }
   ],
   "source": [
    "raw_spider_dev = ctu.load_raw_dataset(\n",
    "    data_filepath = spider_dev_path,\n",
    "    db_path=spider_db_dir,\n",
    "#     schema_cache=SCHEMA_CACHE\n",
    ")\n",
    "len(raw_spider_dev)"
   ]
  },
  {
   "cell_type": "code",
   "execution_count": 14,
   "id": "0095fcbc",
   "metadata": {},
   "outputs": [
    {
     "data": {
      "text/plain": [
       "dict_keys(['query', 'question', 'db_id', 'db_path', 'db_table_names', 'db_column_names', 'db_column_types', 'db_primary_keys', 'db_foreign_keys', 'rat_sql_graph'])"
      ]
     },
     "execution_count": 14,
     "metadata": {},
     "output_type": "execute_result"
    }
   ],
   "source": [
    "raw_spider_dev[0].keys()"
   ]
  },
  {
   "cell_type": "code",
   "execution_count": 15,
   "id": "d81a8860",
   "metadata": {
    "scrolled": false
   },
   "outputs": [
    {
     "data": {
      "text/plain": [
       "True"
      ]
     },
     "execution_count": 15,
     "metadata": {},
     "output_type": "execute_result"
    }
   ],
   "source": [
    "mt_uskg_gpt2.task_args.dataset.use_cache"
   ]
  },
  {
   "cell_type": "code",
   "execution_count": 16,
   "id": "ee20a1ec",
   "metadata": {},
   "outputs": [],
   "source": [
    "processed_spider_dev = s2s_spider.DevDataset(\n",
    "    args=mt_uskg_gpt2.task_args,\n",
    "    raw_datasets=raw_spider_dev,\n",
    "    cache_root='../cache')"
   ]
  },
  {
   "cell_type": "code",
   "execution_count": 17,
   "id": "375805ec",
   "metadata": {},
   "outputs": [
    {
     "data": {
      "text/plain": [
       "('What are the names of all European countries with at least 3 manufacturers?',\n",
       " '| car_1 | continents : contid , continent ( europe ) | countries : countryid , countryname , continent | car_makers : id , maker , fullname , country | model_list : modelid , maker , model | car_names : makeid , model , make | cars_data : id , mpg , cylinders , edispl , horsepower , weight , accelerate , year',\n",
       " \"select t1.countryname from countries as t1 join continents as t2 on t1.continent = t2.contid join car_makers as t3 on t1.countryid = t3.country where t2.continent = 'europe' group by t1.countryname having count(*) >= 3;\")"
      ]
     },
     "execution_count": 17,
     "metadata": {},
     "output_type": "execute_result"
    }
   ],
   "source": [
    "_id = 130\n",
    "processed_spider_dev[_id]['text_in'], \\\n",
    "processed_spider_dev[_id]['struct_in'], \\\n",
    "processed_spider_dev[_id]['seq_out']"
   ]
  },
  {
   "cell_type": "code",
   "execution_count": 18,
   "id": "5d89f7ee",
   "metadata": {},
   "outputs": [
    {
     "data": {
      "text/plain": [
       "102"
      ]
     },
     "execution_count": 18,
     "metadata": {},
     "output_type": "execute_result"
    }
   ],
   "source": [
    "_enc_sentence = f\"{processed_spider_dev[_id]['text_in']}; structed knowledge: {processed_spider_dev[_id]['struct_in']}\"\n",
    "_toks = mt_uskg_gpt2.tokenizer.tokenize(_enc_sentence)\n",
    "len(_toks)"
   ]
  },
  {
   "cell_type": "markdown",
   "id": "65470561",
   "metadata": {},
   "source": [
    "### Utils"
   ]
  },
  {
   "cell_type": "markdown",
   "id": "4826702b",
   "metadata": {},
   "source": [
    "#### Evaluator"
   ]
  },
  {
   "cell_type": "code",
   "execution_count": 24,
   "id": "5d704414",
   "metadata": {},
   "outputs": [],
   "source": [
    "table_path = '/home/yshao/Projects/language/language/xsp/data/spider/tables.json'\n",
    "db_dir = '/home/yshao/Projects/language/language/xsp/data/spider/database'"
   ]
  },
  {
   "cell_type": "code",
   "execution_count": 25,
   "id": "0972291c",
   "metadata": {},
   "outputs": [],
   "source": [
    "kmaps = sp_eval.build_foreign_key_map_from_json(table_path)\n",
    "evaluator = sp_eval.Evaluator(db_dir=db_dir, kmaps=kmaps, etype='all')"
   ]
  },
  {
   "cell_type": "code",
   "execution_count": 26,
   "id": "7b223d5e",
   "metadata": {},
   "outputs": [],
   "source": [
    "ctu.evaluate_hardness.evaluator = evaluator"
   ]
  },
  {
   "cell_type": "markdown",
   "id": "c3c0da13",
   "metadata": {},
   "source": [
    "## Testing"
   ]
  },
  {
   "cell_type": "markdown",
   "id": "77c87650",
   "metadata": {},
   "source": [
    "### find_text_struct_in_range_gpt2()"
   ]
  },
  {
   "cell_type": "code",
   "execution_count": 80,
   "id": "25076520",
   "metadata": {},
   "outputs": [],
   "source": [
    "_id = 130\n",
    "ex = processed_spider_dev[_id]\n",
    "seq_in = f\"{ex['text_in']}; structed knowledge: {ex['struct_in']}\"\n",
    "seq_out = ex['seq_out']\n",
    "_test_seq_input = gpt2_construct_input(seq_in, seq_out, mt_uskg_gpt2.tokenizer,\n",
    "                                       in_maxlen=362,\n",
    "                                       out_maxlen=128,\n",
    "                                       padding=False)"
   ]
  },
  {
   "cell_type": "code",
   "execution_count": 81,
   "id": "188e9d4e",
   "metadata": {},
   "outputs": [
    {
     "data": {
      "text/plain": [
       "\"What are the names of all European countries with at least 3 manufacturers?; structed knowledge: | car_1 | continents : contid, continent ( europe ) | countries : countryid, countryname, continent | car_makers : id, maker, fullname, country | model_list : modelid, maker, model | car_names : makeid, model, make | cars_data : id, mpg, cylinders, edispl, horsepower, weight, accelerate, year ; SQL: select t1.countryname from countries as t1 join continents as t2 on t1.continent = t2.contid join car_makers as t3 on t1.countryid = t3.country where t2.continent = 'europe' group by t1.countryname having count(*) >= 3; END OF SQL\""
      ]
     },
     "execution_count": 81,
     "metadata": {},
     "output_type": "execute_result"
    }
   ],
   "source": [
    "_test_seq = mt_uskg_gpt2.tokenizer.decode(_test_seq_input['input_ids'])\n",
    "_test_seq"
   ]
  },
  {
   "cell_type": "code",
   "execution_count": 82,
   "id": "21e7ae14",
   "metadata": {},
   "outputs": [
    {
     "name": "stdout",
     "output_type": "stream",
     "text": [
      "['What', ' are', ' the', ' names', ' of', ' all', ' European', ' countries', ' with', ' at', ' least', ' 3', ' manufacturers', '?', ';', ' struct', 'ed', ' knowledge', ':', ' |', ' car', '_', '1', ' |', ' continents', ' :', ' cont', 'id', ',', ' continent', ' (', ' euro', 'pe', ' )', ' |', ' countries', ' :', ' country', 'id', ',', ' country', 'name', ',', ' continent', ' |', ' car', '_', 'makers', ' :', ' id', ',', ' maker', ',', ' full', 'name', ',', ' country', ' |', ' model', '_', 'list', ' :', ' model', 'id', ',', ' maker', ',', ' model', ' |', ' car', '_', 'names', ' :', ' make', 'id', ',', ' model', ',', ' make', ' |', ' cars', '_', 'data', ' :', ' id', ',', ' m', 'pg', ',', ' cylinders', ',', ' ed', 'is', 'pl', ',', ' horsepower', ',', ' weight', ',', ' accelerate', ',', ' year', ' ;', ' SQL', ':', ' select', ' t', '1', '.', 'country', 'name', ' from', ' countries', ' as', ' t', '1', ' join', ' continents', ' as', ' t', '2', ' on', ' t', '1', '.', 'cont', 'inent', ' =', ' t', '2', '.', 'cont', 'id', ' join', ' car', '_', 'makers', ' as', ' t', '3', ' on', ' t', '1', '.', 'country', 'id', ' =', ' t', '3', '.', 'country', ' where', ' t', '2', '.', 'cont', 'inent', ' =', \" '\", 'euro', 'pe', \"'\", ' group', ' by', ' t', '1', '.', 'country', 'name', ' having', ' count', '(', '*)', ' >=', ' 3', ';', ' END', ' OF', ' SQL']\n"
     ]
    }
   ],
   "source": [
    "_toks = uu.decode_tokens(mt_uskg_gpt2.tokenizer, _test_seq_input['input_ids'])\n",
    "print(_toks)"
   ]
  },
  {
   "cell_type": "code",
   "execution_count": 83,
   "id": "493b2b83",
   "metadata": {},
   "outputs": [],
   "source": [
    "text_range, struct_range, out_range = uu2.find_text_struct_in_range_gpt2(mt_uskg_gpt2.tokenizer, _test_seq_input['input_ids'])"
   ]
  },
  {
   "cell_type": "code",
   "execution_count": 84,
   "id": "aa20a002",
   "metadata": {},
   "outputs": [
    {
     "data": {
      "text/plain": [
       "((0, 14), (19, 102), (105, 176))"
      ]
     },
     "execution_count": 84,
     "metadata": {},
     "output_type": "execute_result"
    }
   ],
   "source": [
    "text_range, struct_range, out_range"
   ]
  },
  {
   "cell_type": "code",
   "execution_count": 85,
   "id": "e2308ab6",
   "metadata": {},
   "outputs": [
    {
     "data": {
      "text/plain": [
       "('What are the names of all European countries with at least 3 manufacturers?',\n",
       " ' | car_1 | continents : contid, continent ( europe ) | countries : countryid, countryname, continent | car_makers : id, maker, fullname, country | model_list : modelid, maker, model | car_names : makeid, model, make | cars_data : id, mpg, cylinders, edispl, horsepower, weight, accelerate, year',\n",
       " \" select t1.countryname from countries as t1 join continents as t2 on t1.continent = t2.contid join car_makers as t3 on t1.countryid = t3.country where t2.continent = 'europe' group by t1.countryname having count(*) >= 3;\")"
      ]
     },
     "execution_count": 85,
     "metadata": {},
     "output_type": "execute_result"
    }
   ],
   "source": [
    "text_st, text_ed = text_range\n",
    "struct_st, struct_ed = struct_range\n",
    "out_st, out_ed = out_range\n",
    "\n",
    "''.join(_toks[text_st : text_ed]), \\\n",
    "''.join(_toks[struct_st : struct_ed]), \\\n",
    "''.join(_toks[out_st : out_ed])"
   ]
  },
  {
   "cell_type": "code",
   "execution_count": 86,
   "id": "ec0c92b0",
   "metadata": {},
   "outputs": [
    {
     "data": {
      "text/plain": [
       "' : countryid,'"
      ]
     },
     "execution_count": 86,
     "metadata": {},
     "output_type": "execute_result"
    }
   ],
   "source": [
    "''.join(_toks[36 : 40])"
   ]
  },
  {
   "cell_type": "markdown",
   "id": "24b60804",
   "metadata": {},
   "source": [
    "### create_analysis_sample_dicts() (& syntax)"
   ]
  },
  {
   "cell_type": "code",
   "execution_count": 215,
   "id": "963c3973",
   "metadata": {},
   "outputs": [],
   "source": [
    "_id = 222\n",
    "ex = copy.deepcopy(processed_spider_dev[_id])"
   ]
  },
  {
   "cell_type": "code",
   "execution_count": 216,
   "id": "a9dc8e79",
   "metadata": {},
   "outputs": [
    {
     "data": {
      "text/plain": [
       "('Which city has the most frequent destination airport?',\n",
       " '| flight_2 | airlines : uid , airline , abbreviation , country | airports : city , airportcode , airportname , country , countryabbrev | flights : airline , flightno , sourceairport , destairport',\n",
       " 'select t1.city from airports as t1 join flights as t2 on t1.airportcode = t2.destairport group by t1.city order by count(*) desc limit 1')"
      ]
     },
     "execution_count": 216,
     "metadata": {},
     "output_type": "execute_result"
    }
   ],
   "source": [
    "ex['text_in'], ex['struct_in'], ex['seq_out']"
   ]
  },
  {
   "cell_type": "code",
   "execution_count": 217,
   "id": "18e8031a",
   "metadata": {},
   "outputs": [],
   "source": [
    "a_ex_list = ctu2.create_analysis_sample_dicts_gpt2(mt_uskg_gpt2, ex, subject_type='column')"
   ]
  },
  {
   "cell_type": "code",
   "execution_count": 218,
   "id": "142c2e49",
   "metadata": {},
   "outputs": [
    {
     "data": {
      "text/plain": [
       "dict_keys(['query', 'question', 'db_id', 'db_path', 'db_table_names', 'db_column_names', 'db_column_types', 'db_primary_keys', 'db_foreign_keys', 'rat_sql_graph', 'serialized_schema', 'struct_in', 'text_in', 'seq_out', 'enc_sentence', 'tokenized_item', 'pre_sql_sequence', 'text_range', 'struct_range', 'sql_range', 'parsed_struct_in', 'alias2table', 'col2table', 'col_name_counter', 'tab_name_counter', 'struct_node_ranges_dict', 'sql_tokens', 'sql_token_ranges', 'tok_ranges2type', 'type2tok_ranges', 'sql_col_nodes', 'sql_tab_nodes', 'sql_alias_nodes', 'dec_prompt', 'expect', 'expect_type', 'remove_struct_duplicate_nodes', 'token_ranges_dict', 'node_name_ranges', 'expect_input_ranges', 'self_ranges', 'context_ranges', 'category'])"
      ]
     },
     "execution_count": 218,
     "metadata": {},
     "output_type": "execute_result"
    }
   ],
   "source": [
    "a_ex_list[0].keys()"
   ]
  },
  {
   "cell_type": "code",
   "execution_count": 219,
   "id": "c42d054b",
   "metadata": {},
   "outputs": [
    {
     "data": {
      "text/plain": [
       "{'t1': 'airports', 't2': 'flights'}"
      ]
     },
     "execution_count": 219,
     "metadata": {},
     "output_type": "execute_result"
    }
   ],
   "source": [
    "a_ex_list[0]['alias2table']"
   ]
  },
  {
   "cell_type": "code",
   "execution_count": 220,
   "id": "7382e086",
   "metadata": {},
   "outputs": [
    {
     "data": {
      "text/plain": [
       "defaultdict(list,\n",
       "            {'syntax': [(0, 6),\n",
       "              (15, 19),\n",
       "              (29, 31),\n",
       "              (35, 39),\n",
       "              (48, 50),\n",
       "              (54, 56),\n",
       "              (72, 73),\n",
       "              (89, 94),\n",
       "              (95, 97),\n",
       "              (106, 111),\n",
       "              (112, 114),\n",
       "              (115, 120),\n",
       "              (120, 121),\n",
       "              (121, 122),\n",
       "              (122, 123),\n",
       "              (124, 128),\n",
       "              (129, 134)],\n",
       "             'table_alias': [(7, 10),\n",
       "              (32, 34),\n",
       "              (51, 53),\n",
       "              (57, 60),\n",
       "              (74, 77),\n",
       "              (98, 101)],\n",
       "             'column': [(10, 14), (60, 71), (77, 88), (101, 105)],\n",
       "             'table': [(20, 28), (40, 47)],\n",
       "             'val': [(135, 136)]})"
      ]
     },
     "execution_count": 220,
     "metadata": {},
     "output_type": "execute_result"
    }
   ],
   "source": [
    "a_ex_list[0]['type2tok_ranges']"
   ]
  },
  {
   "cell_type": "code",
   "execution_count": 221,
   "id": "ed1e122c",
   "metadata": {},
   "outputs": [
    {
     "data": {
      "text/plain": [
       "43"
      ]
     },
     "execution_count": 221,
     "metadata": {},
     "output_type": "execute_result"
    }
   ],
   "source": [
    "_toks = mt_uskg_gpt2.tokenizer.tokenize(a_ex_list[0]['seq_out'])\n",
    "len(_toks)"
   ]
  },
  {
   "cell_type": "code",
   "execution_count": 222,
   "id": "71ad1e29",
   "metadata": {
    "scrolled": true
   },
   "outputs": [
    {
     "data": {
      "text/plain": [
       "['Ġas', 'Ġt', '1']"
      ]
     },
     "execution_count": 222,
     "metadata": {},
     "output_type": "execute_result"
    }
   ],
   "source": [
    "_toks[7:10]"
   ]
  },
  {
   "cell_type": "code",
   "execution_count": 223,
   "id": "7ee7aa79",
   "metadata": {},
   "outputs": [
    {
     "data": {
      "text/plain": [
       "'t1.'"
      ]
     },
     "execution_count": 223,
     "metadata": {},
     "output_type": "execute_result"
    }
   ],
   "source": [
    "a_ex_list[0]['seq_out'][7:10]"
   ]
  },
  {
   "cell_type": "code",
   "execution_count": 29,
   "id": "a7fcda1a",
   "metadata": {},
   "outputs": [],
   "source": [
    "a_ex_list = ctu2.create_analysis_sample_dicts_gpt2(mt_uskg_gpt2, ex, subject_type='table')"
   ]
  },
  {
   "cell_type": "code",
   "execution_count": null,
   "id": "4d75ecb6",
   "metadata": {},
   "outputs": [],
   "source": [
    "a_ex_list[0]"
   ]
  },
  {
   "cell_type": "code",
   "execution_count": 31,
   "id": "072e881b",
   "metadata": {},
   "outputs": [],
   "source": [
    "a_ex_list = ctu2.create_syntax_analysis_sample_dicts_gpt2(mt_uskg_gpt2, ex)"
   ]
  },
  {
   "cell_type": "code",
   "execution_count": null,
   "id": "61d03af5",
   "metadata": {},
   "outputs": [],
   "source": [
    "a_ex_list[0]"
   ]
  },
  {
   "cell_type": "markdown",
   "id": "3af9cb6e",
   "metadata": {},
   "source": [
    "### add_clean_prediction()"
   ]
  },
  {
   "cell_type": "code",
   "execution_count": 43,
   "id": "139f548f",
   "metadata": {},
   "outputs": [],
   "source": [
    "_id = 130\n",
    "ex = copy.deepcopy(processed_spider_dev[_id])\n",
    "a_ex_list = ctu2.create_analysis_sample_dicts_gpt2(mt_uskg_gpt2, ex, subject_type='column')\n",
    "a_ex = a_ex_list[0]"
   ]
  },
  {
   "cell_type": "code",
   "execution_count": 44,
   "id": "29748725",
   "metadata": {},
   "outputs": [
    {
     "data": {
      "text/plain": [
       "('What are the names of all European countries with at least 3 manufacturers?; structed knowledge: | car_1 | continents : contid, continent ( europe ) | countries : countryid, countryname, continent | car_makers : id, maker, fullname, country | model_list : modelid, maker, model | car_names : makeid, model, make | cars_data : id, mpg, cylinders, edispl, horsepower, weight, accelerate, year ; SQL: select t1.',\n",
       " 'countryname')"
      ]
     },
     "execution_count": 44,
     "metadata": {},
     "output_type": "execute_result"
    }
   ],
   "source": [
    "a_ex['dec_prompt'], a_ex['expect']"
   ]
  },
  {
   "cell_type": "code",
   "execution_count": 45,
   "id": "86a62f3c",
   "metadata": {},
   "outputs": [],
   "source": [
    "a_ex = ctu2.add_clean_prediction_gpt2(mt_uskg_gpt2, a_ex, samples=2)"
   ]
  },
  {
   "cell_type": "code",
   "execution_count": 46,
   "id": "0f107083",
   "metadata": {},
   "outputs": [
    {
     "data": {
      "text/plain": [
       "(2,\n",
       " 0.9999053478240967,\n",
       " tensor([19315,  3672], device='cuda:0'),\n",
       " 'countryname',\n",
       " True)"
      ]
     },
     "execution_count": 46,
     "metadata": {},
     "output_type": "execute_result"
    }
   ],
   "source": [
    "a_ex['answer_len'], \\\n",
    "a_ex['base_score'], \\\n",
    "a_ex['answers_t'], \\\n",
    "a_ex['answer'], \\\n",
    "a_ex['correct_prediction']"
   ]
  },
  {
   "cell_type": "markdown",
   "id": "e09dc0a3",
   "metadata": {},
   "source": [
    "### find_struct_name_ranges()"
   ]
  },
  {
   "cell_type": "code",
   "execution_count": 154,
   "id": "4c7ca3a9",
   "metadata": {},
   "outputs": [],
   "source": [
    "_id = 130\n",
    "ex = copy.deepcopy(processed_spider_dev[_id])\n",
    "ctu2.add_basic_analysis_info_gpt2(mt_uskg_gpt2, ex)"
   ]
  },
  {
   "cell_type": "code",
   "execution_count": 155,
   "id": "a109a811",
   "metadata": {},
   "outputs": [
    {
     "data": {
      "text/plain": [
       "dict_keys(['query', 'question', 'db_id', 'db_path', 'db_table_names', 'db_column_names', 'db_column_types', 'db_primary_keys', 'db_foreign_keys', 'rat_sql_graph', 'serialized_schema', 'struct_in', 'text_in', 'seq_out', 'enc_sentence', 'tokenized_item', 'pre_sql_sequence', 'text_range', 'struct_range', 'sql_range', 'parsed_struct_in', 'alias2table', 'col2table', 'col_name_counter', 'tab_name_counter', 'struct_node_ranges_dict', 'sql_tokens', 'sql_token_ranges', 'tok_ranges2type', 'type2tok_ranges', 'sql_col_nodes', 'sql_tab_nodes', 'sql_alias_nodes'])"
      ]
     },
     "execution_count": 155,
     "metadata": {},
     "output_type": "execute_result"
    }
   ],
   "source": [
    "ex.keys()"
   ]
  },
  {
   "cell_type": "code",
   "execution_count": 156,
   "id": "221a5f81",
   "metadata": {},
   "outputs": [],
   "source": [
    "struct_node_ranges_dict = uu2.find_struct_name_ranges_gpt2(mt_uskg_gpt2.tokenizer, ex)"
   ]
  },
  {
   "cell_type": "code",
   "execution_count": 157,
   "id": "16344706",
   "metadata": {},
   "outputs": [
    {
     "data": {
      "text/plain": [
       "{'db_id_ranges': defaultdict(list, {'car_1': [(20, 23)]}),\n",
       " 'table_name_ranges': defaultdict(list,\n",
       "             {'continents': [(24, 25)],\n",
       "              'countries': [(35, 36)],\n",
       "              'car_makers': [(45, 48)],\n",
       "              'model_list': [(58, 61)],\n",
       "              'car_names': [(69, 72)],\n",
       "              'cars_data': [(80, 83)]}),\n",
       " 'col_name_ranges': defaultdict(list,\n",
       "             {'contid': [(26, 28)],\n",
       "              'continent': [(29, 34), (43, 44)],\n",
       "              'countryid': [(37, 39)],\n",
       "              'countryname': [(40, 42)],\n",
       "              'id': [(49, 50), (84, 85)],\n",
       "              'maker': [(51, 52), (65, 66)],\n",
       "              'fullname': [(53, 55)],\n",
       "              'country': [(56, 57)],\n",
       "              'modelid': [(62, 64)],\n",
       "              'model': [(67, 68), (76, 77)],\n",
       "              'makeid': [(73, 75)],\n",
       "              'make': [(78, 79)],\n",
       "              'mpg': [(86, 88)],\n",
       "              'cylinders': [(89, 90)],\n",
       "              'edispl': [(91, 94)],\n",
       "              'horsepower': [(95, 96)],\n",
       "              'weight': [(97, 98)],\n",
       "              'accelerate': [(99, 100)],\n",
       "              'year': [(101, 102)]}),\n",
       " 'val_name_ranges': defaultdict(list, {'europe': [(31, 33)]})}"
      ]
     },
     "execution_count": 157,
     "metadata": {},
     "output_type": "execute_result"
    }
   ],
   "source": [
    "struct_node_ranges_dict"
   ]
  },
  {
   "cell_type": "code",
   "execution_count": 158,
   "id": "344da4e2",
   "metadata": {},
   "outputs": [
    {
     "name": "stdout",
     "output_type": "stream",
     "text": [
      "['What', 'Ġare', 'Ġthe', 'Ġnames', 'Ġof', 'Ġall', 'ĠEuropean', 'Ġcountries', 'Ġwith', 'Ġat', 'Ġleast', 'Ġ3', 'Ġmanufacturers', '?', ';', 'Ġstruct', 'ed', 'Ġknowledge', ':', 'Ġ|', 'Ġcar', '_', '1', 'Ġ|', 'Ġcontinents', 'Ġ:', 'Ġcont', 'id', 'Ġ,', 'Ġcontinent', 'Ġ(', 'Ġeuro', 'pe', 'Ġ)', 'Ġ|', 'Ġcountries', 'Ġ:', 'Ġcountry', 'id', 'Ġ,', 'Ġcountry', 'name', 'Ġ,', 'Ġcontinent', 'Ġ|', 'Ġcar', '_', 'makers', 'Ġ:', 'Ġid', 'Ġ,', 'Ġmaker', 'Ġ,', 'Ġfull', 'name', 'Ġ,', 'Ġcountry', 'Ġ|', 'Ġmodel', '_', 'list', 'Ġ:', 'Ġmodel', 'id', 'Ġ,', 'Ġmaker', 'Ġ,', 'Ġmodel', 'Ġ|', 'Ġcar', '_', 'names', 'Ġ:', 'Ġmake', 'id', 'Ġ,', 'Ġmodel', 'Ġ,', 'Ġmake', 'Ġ|', 'Ġcars', '_', 'data', 'Ġ:', 'Ġid', 'Ġ,', 'Ġm', 'pg', 'Ġ,', 'Ġcylinders', 'Ġ,', 'Ġed', 'is', 'pl', 'Ġ,', 'Ġhorsepower', 'Ġ,', 'Ġweight', 'Ġ,', 'Ġaccelerate', 'Ġ,', 'Ġyear', 'Ġ;', 'ĠSQL', ':', 'Ġselect', 'Ġt', '1', '.', 'country', 'name', 'Ġfrom', 'Ġcountries', 'Ġas', 'Ġt', '1', 'Ġjoin', 'Ġcontinents', 'Ġas', 'Ġt', '2', 'Ġon', 'Ġt', '1', '.', 'cont', 'inent', 'Ġ=', 'Ġt', '2', '.', 'cont', 'id', 'Ġjoin', 'Ġcar', '_', 'makers', 'Ġas', 'Ġt', '3', 'Ġon', 'Ġt', '1', '.', 'country', 'id', 'Ġ=', 'Ġt', '3', '.', 'country', 'Ġwhere', 'Ġt', '2', '.', 'cont', 'inent', 'Ġ=', \"Ġ'\", 'euro', 'pe', \"'\", 'Ġgroup', 'Ġby', 'Ġt', '1', '.', 'country', 'name', 'Ġhaving', 'Ġcount', '(', '*)', 'Ġ>=', 'Ġ3', ';', 'ĠEND', 'ĠOF', 'ĠSQL']\n"
     ]
    }
   ],
   "source": [
    "_toks = mt_uskg_gpt2.tokenizer.convert_ids_to_tokens(ex['tokenized_item']['input_ids'])\n",
    "print(_toks)"
   ]
  },
  {
   "cell_type": "code",
   "execution_count": 159,
   "id": "ef749129",
   "metadata": {
    "scrolled": true
   },
   "outputs": [
    {
     "name": "stdout",
     "output_type": "stream",
     "text": [
      "contid\n",
      "['Ġcont', 'id']\n",
      "--------------------\n",
      "continent\n",
      "['Ġcontinent', 'Ġ(', 'Ġeuro', 'pe', 'Ġ)']\n",
      "['Ġcontinent']\n",
      "--------------------\n",
      "countryid\n",
      "['Ġcountry', 'id']\n",
      "--------------------\n",
      "countryname\n",
      "['Ġcountry', 'name']\n",
      "--------------------\n",
      "id\n",
      "['Ġid']\n",
      "['Ġid']\n",
      "--------------------\n",
      "maker\n",
      "['Ġmaker']\n",
      "['Ġmaker']\n",
      "--------------------\n",
      "fullname\n",
      "['Ġfull', 'name']\n",
      "--------------------\n",
      "country\n",
      "['Ġcountry']\n",
      "--------------------\n",
      "modelid\n",
      "['Ġmodel', 'id']\n",
      "--------------------\n",
      "model\n",
      "['Ġmodel']\n",
      "['Ġmodel']\n",
      "--------------------\n",
      "makeid\n",
      "['Ġmake', 'id']\n",
      "--------------------\n",
      "make\n",
      "['Ġmake']\n",
      "--------------------\n",
      "mpg\n",
      "['Ġm', 'pg']\n",
      "--------------------\n",
      "cylinders\n",
      "['Ġcylinders']\n",
      "--------------------\n",
      "edispl\n",
      "['Ġed', 'is', 'pl']\n",
      "--------------------\n",
      "horsepower\n",
      "['Ġhorsepower']\n",
      "--------------------\n",
      "weight\n",
      "['Ġweight']\n",
      "--------------------\n",
      "accelerate\n",
      "['Ġaccelerate']\n",
      "--------------------\n",
      "year\n",
      "['Ġyear']\n",
      "--------------------\n"
     ]
    }
   ],
   "source": [
    "for k, v in struct_node_ranges_dict['col_name_ranges'].items():\n",
    "    print(k)\n",
    "    for s, e in v:\n",
    "        print(_toks[s:e])\n",
    "    print('-'*20)"
   ]
  },
  {
   "cell_type": "code",
   "execution_count": 160,
   "id": "be927c53",
   "metadata": {
    "scrolled": true
   },
   "outputs": [
    {
     "data": {
      "text/plain": [
       "('| car_1 | continents : contid , continent ( europe ) | countries : countryid , countryname , continent | car_makers : id , maker , fullname , country | model_list : modelid , maker , model | car_names : makeid , model , make | cars_data : id , mpg , cylinders , edispl , horsepower , weight , accelerate , year',\n",
       " ((1, 'car_1', 'car_1'),\n",
       "  [((3, 'continents', 'continents'),\n",
       "    [[(5, 'contid', 'contid'), []],\n",
       "     [(7, 'continent', 'continent ( europe )'), [(9, 'europe', 'europe')]]]),\n",
       "   ((12, 'countries', 'countries'),\n",
       "    [[(14, 'countryid', 'countryid'), []],\n",
       "     [(16, 'countryname', 'countryname'), []],\n",
       "     [(18, 'continent', 'continent'), []]]),\n",
       "   ((20, 'car_makers', 'car_makers'),\n",
       "    [[(22, 'id', 'id'), []],\n",
       "     [(24, 'maker', 'maker'), []],\n",
       "     [(26, 'fullname', 'fullname'), []],\n",
       "     [(28, 'country', 'country'), []]]),\n",
       "   ((30, 'model_list', 'model_list'),\n",
       "    [[(32, 'modelid', 'modelid'), []],\n",
       "     [(34, 'maker', 'maker'), []],\n",
       "     [(36, 'model', 'model'), []]]),\n",
       "   ((38, 'car_names', 'car_names'),\n",
       "    [[(40, 'makeid', 'makeid'), []],\n",
       "     [(42, 'model', 'model'), []],\n",
       "     [(44, 'make', 'make'), []]]),\n",
       "   ((46, 'cars_data', 'cars_data'),\n",
       "    [[(48, 'id', 'id'), []],\n",
       "     [(50, 'mpg', 'mpg'), []],\n",
       "     [(52, 'cylinders', 'cylinders'), []],\n",
       "     [(54, 'edispl', 'edispl'), []],\n",
       "     [(56, 'horsepower', 'horsepower'), []],\n",
       "     [(58, 'weight', 'weight'), []],\n",
       "     [(60, 'accelerate', 'accelerate'), []],\n",
       "     [(62, 'year', 'year'), []]])]))"
      ]
     },
     "execution_count": 160,
     "metadata": {},
     "output_type": "execute_result"
    }
   ],
   "source": [
    "ex['struct_in'], ex['parsed_struct_in']"
   ]
  },
  {
   "cell_type": "code",
   "execution_count": null,
   "id": "5e7a0d67",
   "metadata": {},
   "outputs": [],
   "source": []
  },
  {
   "cell_type": "markdown",
   "id": "8959bac7",
   "metadata": {},
   "source": [
    "### test exp2"
   ]
  },
  {
   "cell_type": "code",
   "execution_count": 168,
   "id": "937582c7",
   "metadata": {},
   "outputs": [],
   "source": [
    "from experiments.exp_2_gpt2 import trace_exp2_section_corrupt_restore_gpt2"
   ]
  },
  {
   "cell_type": "code",
   "execution_count": 190,
   "id": "b1aaf237",
   "metadata": {},
   "outputs": [
    {
     "data": {
      "text/plain": [
       "2"
      ]
     },
     "execution_count": 190,
     "metadata": {},
     "output_type": "execute_result"
    }
   ],
   "source": [
    "_id = 10\n",
    "ex = copy.deepcopy(processed_spider_dev[_id])\n",
    "a_ex_list = ctu2.create_analysis_sample_dicts_gpt2(mt_uskg_gpt2, ex, subject_type='column')\n",
    "len(a_ex_list)"
   ]
  },
  {
   "cell_type": "code",
   "execution_count": 191,
   "id": "73d5b86d",
   "metadata": {},
   "outputs": [
    {
     "data": {
      "text/plain": [
       "(1, 0.9999260902404785, tensor([1499], device='cuda:0'), ' country', True)"
      ]
     },
     "execution_count": 191,
     "metadata": {},
     "output_type": "execute_result"
    }
   ],
   "source": [
    "a_ex = a_ex_list[0]\n",
    "a_ex = ctu2.add_clean_prediction_gpt2(mt_uskg_gpt2, a_ex, samples=2)\n",
    "\n",
    "a_ex['answer_len'], \\\n",
    "a_ex['base_score'], \\\n",
    "a_ex['answers_t'], \\\n",
    "a_ex['answer'], \\\n",
    "a_ex['correct_prediction']"
   ]
  },
  {
   "cell_type": "code",
   "execution_count": 192,
   "id": "1937ad17",
   "metadata": {
    "scrolled": true
   },
   "outputs": [],
   "source": [
    "result = trace_exp2_section_corrupt_restore_gpt2(mt_uskg_gpt2, a_ex)"
   ]
  },
  {
   "cell_type": "code",
   "execution_count": 193,
   "id": "21c79e69",
   "metadata": {},
   "outputs": [
    {
     "data": {
      "text/plain": [
       "((0, 11),\n",
       " (16, 97),\n",
       " (100, 112),\n",
       " 'Show all countries and the number of singers in each country.; structed knowledge: | concert_singer | stadium : stadium_id, location, name, capacity, highest, lowest, average | singer : singer_id, name, country, song_name, song_release_year, age, is_male | concert : concert_id, concert_name, theme, stadium_id, year | singer_in_concert : concert_id, singer_id ; SQL: select',\n",
       " 'country')"
      ]
     },
     "execution_count": 193,
     "metadata": {},
     "output_type": "execute_result"
    }
   ],
   "source": [
    "a_ex['text_range'], a_ex['struct_range'], a_ex['sql_range'], a_ex['dec_prompt'], a_ex['expect']"
   ]
  },
  {
   "cell_type": "code",
   "execution_count": 198,
   "id": "e007ce9c",
   "metadata": {},
   "outputs": [
    {
     "data": {
      "text/plain": [
       "[(47, 50)]"
      ]
     },
     "execution_count": 198,
     "metadata": {},
     "output_type": "execute_result"
    }
   ],
   "source": [
    "a_ex['self_ranges']"
   ]
  },
  {
   "cell_type": "code",
   "execution_count": 195,
   "id": "0aeb0c1c",
   "metadata": {},
   "outputs": [
    {
     "data": {
      "text/plain": [
       "101"
      ]
     },
     "execution_count": 195,
     "metadata": {},
     "output_type": "execute_result"
    }
   ],
   "source": [
    "dec_toks = mt_uskg_gpt2.tokenizer.tokenize(a_ex['dec_prompt'])\n",
    "len(dec_toks)"
   ]
  },
  {
   "cell_type": "code",
   "execution_count": 200,
   "id": "691721fe",
   "metadata": {},
   "outputs": [
    {
     "data": {
      "text/plain": [
       "[',', 'Ġcountry', ',']"
      ]
     },
     "execution_count": 200,
     "metadata": {},
     "output_type": "execute_result"
    }
   ],
   "source": [
    "dec_toks[a_ex['self_ranges'][0][0] : a_ex['self_ranges'][0][1]]"
   ]
  },
  {
   "cell_type": "code",
   "execution_count": 201,
   "id": "d868fbfd",
   "metadata": {},
   "outputs": [
    {
     "data": {
      "text/plain": [
       "1"
      ]
     },
     "execution_count": 201,
     "metadata": {},
     "output_type": "execute_result"
    }
   ],
   "source": [
    "len(mt_uskg_gpt2.tokenizer.tokenize(a_ex['expect']))"
   ]
  },
  {
   "cell_type": "code",
   "execution_count": 202,
   "id": "dba2955c",
   "metadata": {},
   "outputs": [
    {
     "data": {
      "text/plain": [
       "{'enc_sentence': 'Show all countries and the number of singers in each country.; structed knowledge: | concert_singer | stadium : stadium_id , location , name , capacity , highest , lowest , average | singer : singer_id , name , country , song_name , song_release_year , age , is_male | concert : concert_id , concert_name , theme , stadium_id , year | singer_in_concert : concert_id , singer_id',\n",
       " 'seq_out': 'select country, count(*) from singer group by country',\n",
       " 'dec_prompt': 'Show all countries and the number of singers in each country.; structed knowledge: | concert_singer | stadium : stadium_id, location, name, capacity, highest, lowest, average | singer : singer_id, name, country, song_name, song_release_year, age, is_male | concert : concert_id, concert_name, theme, stadium_id, year | singer_in_concert : concert_id, singer_id ; SQL: select',\n",
       " 'db_id': 'concert_singer',\n",
       " 'expect': 'country',\n",
       " 'expect_type': 'column',\n",
       " 'expect_input_ranges': [(48, 49)],\n",
       " 'self_ranges': [(47, 50)],\n",
       " 'expect_table': 'singer',\n",
       " 'answer': ' country',\n",
       " 'base_score': 0.9999260902404785,\n",
       " 'answers_t': [1499],\n",
       " 'correct_prediction': True,\n",
       " 'category': {'sql_hardness': 'medium',\n",
       "  'node_role': 'select',\n",
       "  'text_match': 'exact',\n",
       "  'node_len': '1'},\n",
       " 'trace_scores': {'corrupt': {'text': 3.304064739495516e-05,\n",
       "   'struct': 2.078924808301963e-06,\n",
       "   'self': 0.3419209420681,\n",
       "   'struct_context': 1.1454174142500051e-07,\n",
       "   'all': 9.779104637175351e-09},\n",
       "  'corrupt_text_restore': {'text': 0.004112886730581522,\n",
       "   'struct': 0.9999667406082153,\n",
       "   'self': 0.1688166707754135,\n",
       "   'struct_context': 0.04002547264099121,\n",
       "   'all': 0.9998542070388794}},\n",
       " 'low_score': 9.779104637175351e-09,\n",
       " 'is_good_sample': True}"
      ]
     },
     "execution_count": 202,
     "metadata": {},
     "output_type": "execute_result"
    }
   ],
   "source": [
    "result"
   ]
  },
  {
   "cell_type": "code",
   "execution_count": null,
   "id": "7d38540f",
   "metadata": {},
   "outputs": [],
   "source": []
  },
  {
   "cell_type": "markdown",
   "id": "c64b99f8",
   "metadata": {},
   "source": [
    "## Temp"
   ]
  },
  {
   "cell_type": "code",
   "execution_count": 10,
   "id": "f20a4b97",
   "metadata": {},
   "outputs": [],
   "source": [
    "gpt2_model = AutoModelForPreTraining.from_pretrained('gpt2')"
   ]
  },
  {
   "cell_type": "code",
   "execution_count": 9,
   "id": "8d8519c0",
   "metadata": {},
   "outputs": [],
   "source": [
    "gpt2_tokenizer = AutoTokenizer.from_pretrained('gpt2')"
   ]
  },
  {
   "cell_type": "markdown",
   "id": "bfd15395",
   "metadata": {},
   "source": [
    "### Tokenizer"
   ]
  },
  {
   "cell_type": "code",
   "execution_count": 11,
   "id": "c41c39f9",
   "metadata": {
    "scrolled": true
   },
   "outputs": [
    {
     "data": {
      "text/plain": [
       "PreTrainedTokenizerFast(name_or_path='gpt2', vocab_size=50257, model_max_len=1024, is_fast=True, padding_side='right', special_tokens={'bos_token': '<|endoftext|>', 'eos_token': '<|endoftext|>', 'unk_token': '<|endoftext|>'})"
      ]
     },
     "execution_count": 11,
     "metadata": {},
     "output_type": "execute_result"
    }
   ],
   "source": [
    "gpt2_tokenizer"
   ]
  },
  {
   "cell_type": "code",
   "execution_count": 12,
   "id": "88a8701d",
   "metadata": {},
   "outputs": [
    {
     "data": {
      "text/plain": [
       "50256"
      ]
     },
     "execution_count": 12,
     "metadata": {},
     "output_type": "execute_result"
    }
   ],
   "source": [
    "gpt2_tokenizer.eos_token_id"
   ]
  },
  {
   "cell_type": "code",
   "execution_count": 13,
   "id": "f105e976",
   "metadata": {},
   "outputs": [
    {
     "data": {
      "text/plain": [
       "['ĠSelect', 'Ġ*', 'Ġfrom', 'Ġsinger']"
      ]
     },
     "execution_count": 13,
     "metadata": {},
     "output_type": "execute_result"
    }
   ],
   "source": [
    "_toks = gpt2_tokenizer.tokenize(' Select * from singer')\n",
    "_toks"
   ]
  },
  {
   "cell_type": "code",
   "execution_count": 18,
   "id": "1e4664d7",
   "metadata": {},
   "outputs": [
    {
     "data": {
      "text/plain": [
       "['x', 'Ġ;', 'ĠSQL', ':', 'ĠSelect']"
      ]
     },
     "execution_count": 18,
     "metadata": {},
     "output_type": "execute_result"
    }
   ],
   "source": [
    "_toks = gpt2_tokenizer.tokenize('x ; SQL: Select')\n",
    "_toks"
   ]
  },
  {
   "cell_type": "code",
   "execution_count": 19,
   "id": "85344dce",
   "metadata": {},
   "outputs": [
    {
     "data": {
      "text/plain": [
       "'x ; SQL: Select'"
      ]
     },
     "execution_count": 19,
     "metadata": {},
     "output_type": "execute_result"
    }
   ],
   "source": [
    "gpt2_tokenizer.convert_tokens_to_string(_toks)"
   ]
  },
  {
   "cell_type": "code",
   "execution_count": 20,
   "id": "5bce0884",
   "metadata": {},
   "outputs": [
    {
     "data": {
      "text/plain": [
       "[87, 2162, 16363, 25, 9683]"
      ]
     },
     "execution_count": 20,
     "metadata": {},
     "output_type": "execute_result"
    }
   ],
   "source": [
    "gpt2_tokenizer.convert_tokens_to_ids(_toks)"
   ]
  },
  {
   "cell_type": "code",
   "execution_count": 30,
   "id": "4e35d6a4",
   "metadata": {
    "scrolled": true
   },
   "outputs": [],
   "source": [
    "_sql = \"select role_code from project_staff where date_from > '2003-04-19 15:06:20' and date_to < '2016-03-15 00:33:18'\"\n",
    "_toks = gpt2_tokenizer.tokenize(_sql)"
   ]
  },
  {
   "cell_type": "code",
   "execution_count": 31,
   "id": "f97f4b45",
   "metadata": {},
   "outputs": [
    {
     "name": "stdout",
     "output_type": "stream",
     "text": [
      "['select', 'Ġrole', '_', 'code', 'Ġfrom', 'Ġproject', '_', 'staff', 'Ġwhere', 'Ġdate', '_', 'from', 'Ġ>', \"Ġ'\", '2003', '-', '04', '-', '19', 'Ġ15', ':', '06', ':', '20', \"'\", 'Ġand', 'Ġdate', '_', 'to', 'Ġ<', \"Ġ'\", '2016', '-', '03', '-', '15', 'Ġ00', ':', '33', ':', '18', \"'\"]\n"
     ]
    }
   ],
   "source": [
    "print(_toks)"
   ]
  },
  {
   "cell_type": "code",
   "execution_count": 32,
   "id": "e2600372",
   "metadata": {},
   "outputs": [],
   "source": [
    "gpt2_tokenizer.pad_token = gpt2_tokenizer.eos_token"
   ]
  },
  {
   "cell_type": "code",
   "execution_count": 33,
   "id": "364f651b",
   "metadata": {},
   "outputs": [
    {
     "data": {
      "text/plain": [
       "\"select role_code from project_staff where date_from > '2003-04-19 15:06:20' and date_to < '2016-03-15 00:33:18'\""
      ]
     },
     "execution_count": 33,
     "metadata": {},
     "output_type": "execute_result"
    }
   ],
   "source": [
    "gpt2_tokenizer.convert_tokens_to_string(_toks)"
   ]
  },
  {
   "cell_type": "code",
   "execution_count": 34,
   "id": "eadfdc40",
   "metadata": {},
   "outputs": [
    {
     "data": {
      "text/plain": [
       "42"
      ]
     },
     "execution_count": 34,
     "metadata": {},
     "output_type": "execute_result"
    }
   ],
   "source": [
    "len(_toks)"
   ]
  },
  {
   "cell_type": "code",
   "execution_count": 142,
   "id": "b2040301",
   "metadata": {
    "scrolled": true
   },
   "outputs": [
    {
     "data": {
      "text/plain": [
       "((1, 'car_1', 'car_1'),\n",
       " [((3, 'continents', 'continents'),\n",
       "   [[(5, 'contid', 'contid'), []],\n",
       "    [(7, 'continent', 'continent ( europe )'), [(9, 'europe', 'europe')]]]),\n",
       "  ((12, 'countries', 'countries'),\n",
       "   [[(14, 'countryid', 'countryid'), []],\n",
       "    [(16, 'countryname', 'countryname'), []],\n",
       "    [(18, 'continent', 'continent'), []]]),\n",
       "  ((20, 'car_makers', 'car_makers'),\n",
       "   [[(22, 'id', 'id'), []],\n",
       "    [(24, 'maker', 'maker'), []],\n",
       "    [(26, 'fullname', 'fullname'), []],\n",
       "    [(28, 'country', 'country'), []]]),\n",
       "  ((30, 'model_list', 'model_list'),\n",
       "   [[(32, 'modelid', 'modelid'), []],\n",
       "    [(34, 'maker', 'maker'), []],\n",
       "    [(36, 'model', 'model'), []]]),\n",
       "  ((38, 'car_names', 'car_names'),\n",
       "   [[(40, 'makeid', 'makeid'), []],\n",
       "    [(42, 'model', 'model'), []],\n",
       "    [(44, 'make', 'make'), []]]),\n",
       "  ((46, 'cars_data', 'cars_data'),\n",
       "   [[(48, 'id', 'id'), []],\n",
       "    [(50, 'mpg', 'mpg'), []],\n",
       "    [(52, 'cylinders', 'cylinders'), []],\n",
       "    [(54, 'edispl', 'edispl'), []],\n",
       "    [(56, 'horsepower', 'horsepower'), []],\n",
       "    [(58, 'weight', 'weight'), []],\n",
       "    [(60, 'accelerate', 'accelerate'), []],\n",
       "    [(62, 'year', 'year'), []]])])"
      ]
     },
     "execution_count": 142,
     "metadata": {},
     "output_type": "execute_result"
    }
   ],
   "source": [
    "ex['parsed_struct_in']"
   ]
  },
  {
   "cell_type": "code",
   "execution_count": 136,
   "id": "10a626ce",
   "metadata": {},
   "outputs": [
    {
     "data": {
      "text/plain": [
       "'| car_1 | continents : contid , continent ( europe ) | countries : countryid , countryname , continent | car_makers : id , maker , fullname , country | model_list : modelid , maker , model | car_names : makeid , model , make | cars_data : id , mpg , cylinders , edispl , horsepower , weight , accelerate , year'"
      ]
     },
     "execution_count": 136,
     "metadata": {},
     "output_type": "execute_result"
    }
   ],
   "source": [
    "# _sent = 'What are the names of all European countries with at least 3 manufacturers?; structed knowledge: | car_1 | continents : contid , continent ( europe ) | countries : countryid , countryname , continent | car_makers : id , maker , fullname , country | model_list : modelid , maker , model | car_names : makeid , model , make | cars_data : id , mpg , cylinders , edispl , horsepower , weight , accelerate , year'\n",
    "_sent = '| car_1 | continents : contid , continent ( europe ) | countries : countryid , countryname , continent | car_makers : id , maker , fullname , country | model_list : modelid , maker , model | car_names : makeid , model , make | cars_data : id , mpg , cylinders , edispl , horsepower , weight , accelerate , year'\n",
    "_sent"
   ]
  },
  {
   "cell_type": "code",
   "execution_count": 137,
   "id": "1ec21486",
   "metadata": {},
   "outputs": [],
   "source": [
    "_toks = mt_uskg_gpt2.tokenizer.tokenize(_sent)"
   ]
  },
  {
   "cell_type": "code",
   "execution_count": 138,
   "id": "684979e8",
   "metadata": {},
   "outputs": [],
   "source": [
    "tokenized_sent = mt_uskg_gpt2.tokenizer(_sent)"
   ]
  },
  {
   "cell_type": "code",
   "execution_count": 139,
   "id": "7d4bc0fe",
   "metadata": {
    "scrolled": true
   },
   "outputs": [
    {
     "data": {
      "text/plain": [
       "[(0, '|'),\n",
       " (1, 'car_1'),\n",
       " (2, '|'),\n",
       " (3, 'continents'),\n",
       " (4, ':'),\n",
       " (5, 'contid'),\n",
       " (6, ','),\n",
       " (7, 'continent'),\n",
       " (8, '('),\n",
       " (9, 'europe'),\n",
       " (10, ')'),\n",
       " (11, '|'),\n",
       " (12, 'countries'),\n",
       " (13, ':'),\n",
       " (14, 'countryid'),\n",
       " (15, ','),\n",
       " (16, 'countryname'),\n",
       " (17, ','),\n",
       " (18, 'continent'),\n",
       " (19, '|'),\n",
       " (20, 'car_makers'),\n",
       " (21, ':'),\n",
       " (22, 'id'),\n",
       " (23, ','),\n",
       " (24, 'maker'),\n",
       " (25, ','),\n",
       " (26, 'fullname'),\n",
       " (27, ','),\n",
       " (28, 'country'),\n",
       " (29, '|'),\n",
       " (30, 'model_list'),\n",
       " (31, ':'),\n",
       " (32, 'modelid'),\n",
       " (33, ','),\n",
       " (34, 'maker'),\n",
       " (35, ','),\n",
       " (36, 'model'),\n",
       " (37, '|'),\n",
       " (38, 'car_names'),\n",
       " (39, ':'),\n",
       " (40, 'makeid'),\n",
       " (41, ','),\n",
       " (42, 'model'),\n",
       " (43, ','),\n",
       " (44, 'make'),\n",
       " (45, '|'),\n",
       " (46, 'cars_data'),\n",
       " (47, ':'),\n",
       " (48, 'id'),\n",
       " (49, ','),\n",
       " (50, 'mpg'),\n",
       " (51, ','),\n",
       " (52, 'cylinders'),\n",
       " (53, ','),\n",
       " (54, 'edispl'),\n",
       " (55, ','),\n",
       " (56, 'horsepower'),\n",
       " (57, ','),\n",
       " (58, 'weight'),\n",
       " (59, ','),\n",
       " (60, 'accelerate'),\n",
       " (61, ','),\n",
       " (62, 'year')]"
      ]
     },
     "execution_count": 139,
     "metadata": {},
     "output_type": "execute_result"
    }
   ],
   "source": [
    "list(enumerate(_sent.split()))"
   ]
  },
  {
   "cell_type": "code",
   "execution_count": 140,
   "id": "7400adc2",
   "metadata": {
    "scrolled": true
   },
   "outputs": [
    {
     "data": {
      "text/plain": [
       "[(0, '|'),\n",
       " (1, 'Ġcar'),\n",
       " (2, '_'),\n",
       " (3, '1'),\n",
       " (4, 'Ġ|'),\n",
       " (5, 'Ġcontinents'),\n",
       " (6, 'Ġ:'),\n",
       " (7, 'Ġcont'),\n",
       " (8, 'id'),\n",
       " (9, 'Ġ,'),\n",
       " (10, 'Ġcontinent'),\n",
       " (11, 'Ġ('),\n",
       " (12, 'Ġeuro'),\n",
       " (13, 'pe'),\n",
       " (14, 'Ġ)'),\n",
       " (15, 'Ġ|'),\n",
       " (16, 'Ġcountries'),\n",
       " (17, 'Ġ:'),\n",
       " (18, 'Ġcountry'),\n",
       " (19, 'id'),\n",
       " (20, 'Ġ,'),\n",
       " (21, 'Ġcountry'),\n",
       " (22, 'name'),\n",
       " (23, 'Ġ,'),\n",
       " (24, 'Ġcontinent'),\n",
       " (25, 'Ġ|'),\n",
       " (26, 'Ġcar'),\n",
       " (27, '_'),\n",
       " (28, 'makers'),\n",
       " (29, 'Ġ:'),\n",
       " (30, 'Ġid'),\n",
       " (31, 'Ġ,'),\n",
       " (32, 'Ġmaker'),\n",
       " (33, 'Ġ,'),\n",
       " (34, 'Ġfull'),\n",
       " (35, 'name'),\n",
       " (36, 'Ġ,'),\n",
       " (37, 'Ġcountry'),\n",
       " (38, 'Ġ|'),\n",
       " (39, 'Ġmodel'),\n",
       " (40, '_'),\n",
       " (41, 'list'),\n",
       " (42, 'Ġ:'),\n",
       " (43, 'Ġmodel'),\n",
       " (44, 'id'),\n",
       " (45, 'Ġ,'),\n",
       " (46, 'Ġmaker'),\n",
       " (47, 'Ġ,'),\n",
       " (48, 'Ġmodel'),\n",
       " (49, 'Ġ|'),\n",
       " (50, 'Ġcar'),\n",
       " (51, '_'),\n",
       " (52, 'names'),\n",
       " (53, 'Ġ:'),\n",
       " (54, 'Ġmake'),\n",
       " (55, 'id'),\n",
       " (56, 'Ġ,'),\n",
       " (57, 'Ġmodel'),\n",
       " (58, 'Ġ,'),\n",
       " (59, 'Ġmake'),\n",
       " (60, 'Ġ|'),\n",
       " (61, 'Ġcars'),\n",
       " (62, '_'),\n",
       " (63, 'data'),\n",
       " (64, 'Ġ:'),\n",
       " (65, 'Ġid'),\n",
       " (66, 'Ġ,'),\n",
       " (67, 'Ġm'),\n",
       " (68, 'pg'),\n",
       " (69, 'Ġ,'),\n",
       " (70, 'Ġcylinders'),\n",
       " (71, 'Ġ,'),\n",
       " (72, 'Ġed'),\n",
       " (73, 'is'),\n",
       " (74, 'pl'),\n",
       " (75, 'Ġ,'),\n",
       " (76, 'Ġhorsepower'),\n",
       " (77, 'Ġ,'),\n",
       " (78, 'Ġweight'),\n",
       " (79, 'Ġ,'),\n",
       " (80, 'Ġaccelerate'),\n",
       " (81, 'Ġ,'),\n",
       " (82, 'Ġyear')]"
      ]
     },
     "execution_count": 140,
     "metadata": {},
     "output_type": "execute_result"
    }
   ],
   "source": [
    "list(enumerate(_toks))"
   ]
  },
  {
   "cell_type": "code",
   "execution_count": 141,
   "id": "19db0196",
   "metadata": {
    "scrolled": true
   },
   "outputs": [
    {
     "data": {
      "text/plain": [
       "[(0, '|'),\n",
       " (1, ' car'),\n",
       " (2, '_'),\n",
       " (3, '1'),\n",
       " (4, ' |'),\n",
       " (5, ' continents'),\n",
       " (6, ' :'),\n",
       " (7, ' cont'),\n",
       " (8, 'id'),\n",
       " (9, ','),\n",
       " (10, ' continent'),\n",
       " (11, ' ('),\n",
       " (12, ' euro'),\n",
       " (13, 'pe'),\n",
       " (14, ' )'),\n",
       " (15, ' |'),\n",
       " (16, ' countries'),\n",
       " (17, ' :'),\n",
       " (18, ' country'),\n",
       " (19, 'id'),\n",
       " (20, ','),\n",
       " (21, ' country'),\n",
       " (22, 'name'),\n",
       " (23, ','),\n",
       " (24, ' continent'),\n",
       " (25, ' |'),\n",
       " (26, ' car'),\n",
       " (27, '_'),\n",
       " (28, 'makers'),\n",
       " (29, ' :'),\n",
       " (30, ' id'),\n",
       " (31, ','),\n",
       " (32, ' maker'),\n",
       " (33, ','),\n",
       " (34, ' full'),\n",
       " (35, 'name'),\n",
       " (36, ','),\n",
       " (37, ' country'),\n",
       " (38, ' |'),\n",
       " (39, ' model'),\n",
       " (40, '_'),\n",
       " (41, 'list'),\n",
       " (42, ' :'),\n",
       " (43, ' model'),\n",
       " (44, 'id'),\n",
       " (45, ','),\n",
       " (46, ' maker'),\n",
       " (47, ','),\n",
       " (48, ' model'),\n",
       " (49, ' |'),\n",
       " (50, ' car'),\n",
       " (51, '_'),\n",
       " (52, 'names'),\n",
       " (53, ' :'),\n",
       " (54, ' make'),\n",
       " (55, 'id'),\n",
       " (56, ','),\n",
       " (57, ' model'),\n",
       " (58, ','),\n",
       " (59, ' make'),\n",
       " (60, ' |'),\n",
       " (61, ' cars'),\n",
       " (62, '_'),\n",
       " (63, 'data'),\n",
       " (64, ' :'),\n",
       " (65, ' id'),\n",
       " (66, ','),\n",
       " (67, ' m'),\n",
       " (68, 'pg'),\n",
       " (69, ','),\n",
       " (70, ' cylinders'),\n",
       " (71, ','),\n",
       " (72, ' ed'),\n",
       " (73, 'is'),\n",
       " (74, 'pl'),\n",
       " (75, ','),\n",
       " (76, ' horsepower'),\n",
       " (77, ','),\n",
       " (78, ' weight'),\n",
       " (79, ','),\n",
       " (80, ' accelerate'),\n",
       " (81, ','),\n",
       " (82, ' year')]"
      ]
     },
     "execution_count": 141,
     "metadata": {},
     "output_type": "execute_result"
    }
   ],
   "source": [
    "list([(i, mt_uskg_gpt2.tokenizer.decode(tokenized_sent['input_ids'][i])) for i in range(len(tokenized_sent['input_ids']))])"
   ]
  },
  {
   "cell_type": "code",
   "execution_count": 129,
   "id": "fa85c419",
   "metadata": {},
   "outputs": [
    {
     "data": {
      "text/plain": [
       "TokenSpan(start=12, end=13)"
      ]
     },
     "execution_count": 129,
     "metadata": {},
     "output_type": "execute_result"
    }
   ],
   "source": [
    "tokenized_sent.word_to_tokens(12)"
   ]
  },
  {
   "cell_type": "code",
   "execution_count": 144,
   "id": "95f49470",
   "metadata": {
    "scrolled": true
   },
   "outputs": [
    {
     "data": {
      "text/plain": [
       "(83,\n",
       " [0,\n",
       "  1,\n",
       "  2,\n",
       "  3,\n",
       "  4,\n",
       "  5,\n",
       "  6,\n",
       "  7,\n",
       "  7,\n",
       "  8,\n",
       "  9,\n",
       "  10,\n",
       "  11,\n",
       "  11,\n",
       "  12,\n",
       "  13,\n",
       "  14,\n",
       "  15,\n",
       "  16,\n",
       "  16,\n",
       "  17,\n",
       "  18,\n",
       "  18,\n",
       "  19,\n",
       "  20,\n",
       "  21,\n",
       "  22,\n",
       "  23,\n",
       "  24,\n",
       "  25,\n",
       "  26,\n",
       "  27,\n",
       "  28,\n",
       "  29,\n",
       "  30,\n",
       "  30,\n",
       "  31,\n",
       "  32,\n",
       "  33,\n",
       "  34,\n",
       "  35,\n",
       "  36,\n",
       "  37,\n",
       "  38,\n",
       "  38,\n",
       "  39,\n",
       "  40,\n",
       "  41,\n",
       "  42,\n",
       "  43,\n",
       "  44,\n",
       "  45,\n",
       "  46,\n",
       "  47,\n",
       "  48,\n",
       "  48,\n",
       "  49,\n",
       "  50,\n",
       "  51,\n",
       "  52,\n",
       "  53,\n",
       "  54,\n",
       "  55,\n",
       "  56,\n",
       "  57,\n",
       "  58,\n",
       "  59,\n",
       "  60,\n",
       "  60,\n",
       "  61,\n",
       "  62,\n",
       "  63,\n",
       "  64,\n",
       "  64,\n",
       "  64,\n",
       "  65,\n",
       "  66,\n",
       "  67,\n",
       "  68,\n",
       "  69,\n",
       "  70,\n",
       "  71,\n",
       "  72])"
      ]
     },
     "execution_count": 144,
     "metadata": {},
     "output_type": "execute_result"
    }
   ],
   "source": [
    "len(tokenized_sent.word_ids()), tokenized_sent.word_ids()"
   ]
  },
  {
   "cell_type": "code",
   "execution_count": 134,
   "id": "d9ddf1f4",
   "metadata": {
    "scrolled": true
   },
   "outputs": [],
   "source": [
    "i = 0\n",
    "_words = []\n",
    "while True:\n",
    "    try:\n",
    "        s, e = tokenized_sent.word_to_chars(i)\n",
    "        _words.append(_sent[s : e])\n",
    "        i += 1\n",
    "    except:\n",
    "        break"
   ]
  },
  {
   "cell_type": "code",
   "execution_count": 135,
   "id": "5c167e60",
   "metadata": {
    "scrolled": true
   },
   "outputs": [
    {
     "data": {
      "text/plain": [
       "['What',\n",
       " ' are',\n",
       " ' the',\n",
       " ' names',\n",
       " ' of',\n",
       " ' all',\n",
       " ' European',\n",
       " ' countries',\n",
       " ' with',\n",
       " ' at',\n",
       " ' least',\n",
       " ' 3',\n",
       " ' manufacturers',\n",
       " '?;',\n",
       " ' structed',\n",
       " ' knowledge',\n",
       " ':',\n",
       " ' |',\n",
       " ' car',\n",
       " '_',\n",
       " '1',\n",
       " ' |',\n",
       " ' continents',\n",
       " ' :',\n",
       " ' contid',\n",
       " ' ,',\n",
       " ' continent',\n",
       " ' (',\n",
       " ' europe',\n",
       " ' )',\n",
       " ' |',\n",
       " ' countries',\n",
       " ' :',\n",
       " ' countryid',\n",
       " ' ,',\n",
       " ' countryname',\n",
       " ' ,',\n",
       " ' continent',\n",
       " ' |',\n",
       " ' car',\n",
       " '_',\n",
       " 'makers',\n",
       " ' :',\n",
       " ' id',\n",
       " ' ,',\n",
       " ' maker',\n",
       " ' ,',\n",
       " ' fullname',\n",
       " ' ,',\n",
       " ' country',\n",
       " ' |',\n",
       " ' model',\n",
       " '_',\n",
       " 'list',\n",
       " ' :',\n",
       " ' modelid',\n",
       " ' ,',\n",
       " ' maker',\n",
       " ' ,',\n",
       " ' model',\n",
       " ' |',\n",
       " ' car',\n",
       " '_',\n",
       " 'names',\n",
       " ' :',\n",
       " ' makeid',\n",
       " ' ,',\n",
       " ' model',\n",
       " ' ,',\n",
       " ' make',\n",
       " ' |',\n",
       " ' cars',\n",
       " '_',\n",
       " 'data',\n",
       " ' :',\n",
       " ' id',\n",
       " ' ,',\n",
       " ' mpg',\n",
       " ' ,',\n",
       " ' cylinders',\n",
       " ' ,',\n",
       " ' edispl',\n",
       " ' ,',\n",
       " ' horsepower',\n",
       " ' ,',\n",
       " ' weight',\n",
       " ' ,',\n",
       " ' accelerate',\n",
       " ' ,',\n",
       " ' year']"
      ]
     },
     "execution_count": 135,
     "metadata": {},
     "output_type": "execute_result"
    }
   ],
   "source": [
    "_words"
   ]
  },
  {
   "cell_type": "code",
   "execution_count": 146,
   "id": "f003a145",
   "metadata": {},
   "outputs": [
    {
     "data": {
      "text/plain": [
       "5"
      ]
     },
     "execution_count": 146,
     "metadata": {},
     "output_type": "execute_result"
    }
   ],
   "source": [
    "tokenized_sent.char_to_token(10)"
   ]
  },
  {
   "cell_type": "code",
   "execution_count": 147,
   "id": "5d059bf8",
   "metadata": {},
   "outputs": [
    {
     "data": {
      "text/plain": [
       "('| co', 'Ġcontinents')"
      ]
     },
     "execution_count": 147,
     "metadata": {},
     "output_type": "execute_result"
    }
   ],
   "source": [
    "_sent[8:12], _toks[5]"
   ]
  },
  {
   "cell_type": "code",
   "execution_count": null,
   "id": "4fb16a21",
   "metadata": {},
   "outputs": [],
   "source": []
  },
  {
   "cell_type": "markdown",
   "id": "880647d7",
   "metadata": {},
   "source": [
    "### GPT2 Model"
   ]
  },
  {
   "cell_type": "code",
   "execution_count": 38,
   "id": "20eda41d",
   "metadata": {},
   "outputs": [
    {
     "data": {
      "text/plain": [
       "['',\n",
       " 'transformer',\n",
       " 'transformer.wte',\n",
       " 'transformer.wpe',\n",
       " 'transformer.drop',\n",
       " 'transformer.h',\n",
       " 'transformer.h.0',\n",
       " 'transformer.h.0.ln_1',\n",
       " 'transformer.h.0.attn',\n",
       " 'transformer.h.0.attn.c_attn',\n",
       " 'transformer.h.0.attn.c_proj',\n",
       " 'transformer.h.0.attn.attn_dropout',\n",
       " 'transformer.h.0.attn.resid_dropout',\n",
       " 'transformer.h.0.ln_2',\n",
       " 'transformer.h.0.mlp',\n",
       " 'transformer.h.0.mlp.c_fc',\n",
       " 'transformer.h.0.mlp.c_proj',\n",
       " 'transformer.h.0.mlp.dropout',\n",
       " 'transformer.h.1',\n",
       " 'transformer.h.1.ln_1',\n",
       " 'transformer.h.1.attn',\n",
       " 'transformer.h.1.attn.c_attn',\n",
       " 'transformer.h.1.attn.c_proj',\n",
       " 'transformer.h.1.attn.attn_dropout',\n",
       " 'transformer.h.1.attn.resid_dropout',\n",
       " 'transformer.h.1.ln_2',\n",
       " 'transformer.h.1.mlp',\n",
       " 'transformer.h.1.mlp.c_fc',\n",
       " 'transformer.h.1.mlp.c_proj',\n",
       " 'transformer.h.1.mlp.dropout',\n",
       " 'transformer.h.2',\n",
       " 'transformer.h.2.ln_1',\n",
       " 'transformer.h.2.attn',\n",
       " 'transformer.h.2.attn.c_attn',\n",
       " 'transformer.h.2.attn.c_proj',\n",
       " 'transformer.h.2.attn.attn_dropout',\n",
       " 'transformer.h.2.attn.resid_dropout',\n",
       " 'transformer.h.2.ln_2',\n",
       " 'transformer.h.2.mlp',\n",
       " 'transformer.h.2.mlp.c_fc',\n",
       " 'transformer.h.2.mlp.c_proj',\n",
       " 'transformer.h.2.mlp.dropout',\n",
       " 'transformer.h.3',\n",
       " 'transformer.h.3.ln_1',\n",
       " 'transformer.h.3.attn',\n",
       " 'transformer.h.3.attn.c_attn',\n",
       " 'transformer.h.3.attn.c_proj',\n",
       " 'transformer.h.3.attn.attn_dropout',\n",
       " 'transformer.h.3.attn.resid_dropout',\n",
       " 'transformer.h.3.ln_2',\n",
       " 'transformer.h.3.mlp',\n",
       " 'transformer.h.3.mlp.c_fc',\n",
       " 'transformer.h.3.mlp.c_proj',\n",
       " 'transformer.h.3.mlp.dropout',\n",
       " 'transformer.h.4',\n",
       " 'transformer.h.4.ln_1',\n",
       " 'transformer.h.4.attn',\n",
       " 'transformer.h.4.attn.c_attn',\n",
       " 'transformer.h.4.attn.c_proj',\n",
       " 'transformer.h.4.attn.attn_dropout',\n",
       " 'transformer.h.4.attn.resid_dropout',\n",
       " 'transformer.h.4.ln_2',\n",
       " 'transformer.h.4.mlp',\n",
       " 'transformer.h.4.mlp.c_fc',\n",
       " 'transformer.h.4.mlp.c_proj',\n",
       " 'transformer.h.4.mlp.dropout',\n",
       " 'transformer.h.5',\n",
       " 'transformer.h.5.ln_1',\n",
       " 'transformer.h.5.attn',\n",
       " 'transformer.h.5.attn.c_attn',\n",
       " 'transformer.h.5.attn.c_proj',\n",
       " 'transformer.h.5.attn.attn_dropout',\n",
       " 'transformer.h.5.attn.resid_dropout',\n",
       " 'transformer.h.5.ln_2',\n",
       " 'transformer.h.5.mlp',\n",
       " 'transformer.h.5.mlp.c_fc',\n",
       " 'transformer.h.5.mlp.c_proj',\n",
       " 'transformer.h.5.mlp.dropout',\n",
       " 'transformer.h.6',\n",
       " 'transformer.h.6.ln_1',\n",
       " 'transformer.h.6.attn',\n",
       " 'transformer.h.6.attn.c_attn',\n",
       " 'transformer.h.6.attn.c_proj',\n",
       " 'transformer.h.6.attn.attn_dropout',\n",
       " 'transformer.h.6.attn.resid_dropout',\n",
       " 'transformer.h.6.ln_2',\n",
       " 'transformer.h.6.mlp',\n",
       " 'transformer.h.6.mlp.c_fc',\n",
       " 'transformer.h.6.mlp.c_proj',\n",
       " 'transformer.h.6.mlp.dropout',\n",
       " 'transformer.h.7',\n",
       " 'transformer.h.7.ln_1',\n",
       " 'transformer.h.7.attn',\n",
       " 'transformer.h.7.attn.c_attn',\n",
       " 'transformer.h.7.attn.c_proj',\n",
       " 'transformer.h.7.attn.attn_dropout',\n",
       " 'transformer.h.7.attn.resid_dropout',\n",
       " 'transformer.h.7.ln_2',\n",
       " 'transformer.h.7.mlp',\n",
       " 'transformer.h.7.mlp.c_fc',\n",
       " 'transformer.h.7.mlp.c_proj',\n",
       " 'transformer.h.7.mlp.dropout',\n",
       " 'transformer.h.8',\n",
       " 'transformer.h.8.ln_1',\n",
       " 'transformer.h.8.attn',\n",
       " 'transformer.h.8.attn.c_attn',\n",
       " 'transformer.h.8.attn.c_proj',\n",
       " 'transformer.h.8.attn.attn_dropout',\n",
       " 'transformer.h.8.attn.resid_dropout',\n",
       " 'transformer.h.8.ln_2',\n",
       " 'transformer.h.8.mlp',\n",
       " 'transformer.h.8.mlp.c_fc',\n",
       " 'transformer.h.8.mlp.c_proj',\n",
       " 'transformer.h.8.mlp.dropout',\n",
       " 'transformer.h.9',\n",
       " 'transformer.h.9.ln_1',\n",
       " 'transformer.h.9.attn',\n",
       " 'transformer.h.9.attn.c_attn',\n",
       " 'transformer.h.9.attn.c_proj',\n",
       " 'transformer.h.9.attn.attn_dropout',\n",
       " 'transformer.h.9.attn.resid_dropout',\n",
       " 'transformer.h.9.ln_2',\n",
       " 'transformer.h.9.mlp',\n",
       " 'transformer.h.9.mlp.c_fc',\n",
       " 'transformer.h.9.mlp.c_proj',\n",
       " 'transformer.h.9.mlp.dropout',\n",
       " 'transformer.h.10',\n",
       " 'transformer.h.10.ln_1',\n",
       " 'transformer.h.10.attn',\n",
       " 'transformer.h.10.attn.c_attn',\n",
       " 'transformer.h.10.attn.c_proj',\n",
       " 'transformer.h.10.attn.attn_dropout',\n",
       " 'transformer.h.10.attn.resid_dropout',\n",
       " 'transformer.h.10.ln_2',\n",
       " 'transformer.h.10.mlp',\n",
       " 'transformer.h.10.mlp.c_fc',\n",
       " 'transformer.h.10.mlp.c_proj',\n",
       " 'transformer.h.10.mlp.dropout',\n",
       " 'transformer.h.11',\n",
       " 'transformer.h.11.ln_1',\n",
       " 'transformer.h.11.attn',\n",
       " 'transformer.h.11.attn.c_attn',\n",
       " 'transformer.h.11.attn.c_proj',\n",
       " 'transformer.h.11.attn.attn_dropout',\n",
       " 'transformer.h.11.attn.resid_dropout',\n",
       " 'transformer.h.11.ln_2',\n",
       " 'transformer.h.11.mlp',\n",
       " 'transformer.h.11.mlp.c_fc',\n",
       " 'transformer.h.11.mlp.c_proj',\n",
       " 'transformer.h.11.mlp.dropout',\n",
       " 'transformer.ln_f',\n",
       " 'lm_head']"
      ]
     },
     "execution_count": 38,
     "metadata": {},
     "output_type": "execute_result"
    }
   ],
   "source": [
    "[k for k, v in gpt2_model.named_modules()]"
   ]
  },
  {
   "cell_type": "code",
   "execution_count": null,
   "id": "99f1a801",
   "metadata": {},
   "outputs": [],
   "source": []
  },
  {
   "cell_type": "markdown",
   "id": "580886e1",
   "metadata": {},
   "source": [
    "### Temp debugging"
   ]
  },
  {
   "cell_type": "code",
   "execution_count": 21,
   "id": "bab69448",
   "metadata": {},
   "outputs": [],
   "source": [
    "import uskg\n",
    "\n",
    "from transformers.models.auto.configuration_auto import AutoConfig"
   ]
  },
  {
   "cell_type": "code",
   "execution_count": 45,
   "id": "3cce8bbc",
   "metadata": {},
   "outputs": [],
   "source": [
    "import importlib\n",
    "\n",
    "importlib.reload(uskg.models.prompt.modeling_auto)\n",
    "\n",
    "from uskg.models.unified import finetune, prefixtuning\n",
    "\n",
    "from uskg.models.prompt.modeling_auto import AutoModelForPreTraining\n",
    "from uskg.models.prompt.modeling_gpt2 import GPT2LMHeadModel\n",
    "from uskg.models.prompt.modeling_t5 import T5ForConditionalGeneration"
   ]
  },
  {
   "cell_type": "code",
   "execution_count": 46,
   "id": "15e67e93",
   "metadata": {},
   "outputs": [],
   "source": [
    "_m = AutoModelForPreTraining.from_pretrained('gpt2')"
   ]
  },
  {
   "cell_type": "code",
   "execution_count": 47,
   "id": "0ee72fe1",
   "metadata": {},
   "outputs": [
    {
     "data": {
      "text/plain": [
       "uskg.models.prompt.modeling_gpt2.GPT2LMHeadModel"
      ]
     },
     "execution_count": 47,
     "metadata": {},
     "output_type": "execute_result"
    }
   ],
   "source": [
    "type(_m)"
   ]
  },
  {
   "cell_type": "code",
   "execution_count": 48,
   "id": "896f1df2",
   "metadata": {},
   "outputs": [
    {
     "data": {
      "text/plain": [
       "94854136059536"
      ]
     },
     "execution_count": 48,
     "metadata": {},
     "output_type": "execute_result"
    }
   ],
   "source": [
    "id(type(_m))"
   ]
  },
  {
   "cell_type": "code",
   "execution_count": 49,
   "id": "a4f6fa2e",
   "metadata": {},
   "outputs": [
    {
     "data": {
      "text/plain": [
       "True"
      ]
     },
     "execution_count": 49,
     "metadata": {},
     "output_type": "execute_result"
    }
   ],
   "source": [
    "isinstance(_m, uskg.models.prompt.modeling_gpt2.GPT2LMHeadModel)"
   ]
  },
  {
   "cell_type": "code",
   "execution_count": 50,
   "id": "b78c47b7",
   "metadata": {},
   "outputs": [
    {
     "data": {
      "text/plain": [
       "True"
      ]
     },
     "execution_count": 50,
     "metadata": {},
     "output_type": "execute_result"
    }
   ],
   "source": [
    "isinstance(_m, GPT2LMHeadModel)"
   ]
  },
  {
   "cell_type": "code",
   "execution_count": 51,
   "id": "61238372",
   "metadata": {},
   "outputs": [
    {
     "data": {
      "text/plain": [
       "True"
      ]
     },
     "execution_count": 51,
     "metadata": {},
     "output_type": "execute_result"
    }
   ],
   "source": [
    "GPT2LMHeadModel is uskg.models.prompt.modeling_gpt2.GPT2LMHeadModel"
   ]
  },
  {
   "cell_type": "code",
   "execution_count": 37,
   "id": "4d491d4a",
   "metadata": {},
   "outputs": [
    {
     "data": {
      "text/plain": [
       "94854135704752"
      ]
     },
     "execution_count": 37,
     "metadata": {},
     "output_type": "execute_result"
    }
   ],
   "source": [
    "id(uskg.models.prompt.modeling_gpt2.GPT2LMHeadModel)"
   ]
  },
  {
   "cell_type": "code",
   "execution_count": 15,
   "id": "d80f5ad1",
   "metadata": {},
   "outputs": [
    {
     "data": {
      "text/plain": [
       "True"
      ]
     },
     "execution_count": 15,
     "metadata": {},
     "output_type": "execute_result"
    }
   ],
   "source": [
    "type(_m) is uskg.models.prompt.modeling_gpt2.GPT2LMHeadModel"
   ]
  },
  {
   "cell_type": "code",
   "execution_count": 67,
   "id": "13d3e588",
   "metadata": {},
   "outputs": [
    {
     "data": {
      "text/plain": [
       "False"
      ]
     },
     "execution_count": 67,
     "metadata": {},
     "output_type": "execute_result"
    }
   ],
   "source": [
    "type(_m) is GPT2LMHeadModel"
   ]
  },
  {
   "cell_type": "code",
   "execution_count": 69,
   "id": "dc2ef4a4",
   "metadata": {},
   "outputs": [
    {
     "data": {
      "text/plain": [
       "True"
      ]
     },
     "execution_count": 69,
     "metadata": {},
     "output_type": "execute_result"
    }
   ],
   "source": [
    "isinstance(_m, type(_m))"
   ]
  },
  {
   "cell_type": "code",
   "execution_count": 64,
   "id": "03a18e0f",
   "metadata": {},
   "outputs": [
    {
     "data": {
      "text/plain": [
       "uskg.models.prompt.modeling_gpt2.GPT2LMHeadModel"
      ]
     },
     "execution_count": 64,
     "metadata": {},
     "output_type": "execute_result"
    }
   ],
   "source": [
    "type(_m)"
   ]
  },
  {
   "cell_type": "code",
   "execution_count": 65,
   "id": "785d77d6",
   "metadata": {},
   "outputs": [
    {
     "data": {
      "text/plain": [
       "uskg.models.prompt.modeling_gpt2.GPT2LMHeadModel"
      ]
     },
     "execution_count": 65,
     "metadata": {},
     "output_type": "execute_result"
    }
   ],
   "source": [
    "_m.__class__"
   ]
  },
  {
   "cell_type": "code",
   "execution_count": 87,
   "id": "3d9ca0d3",
   "metadata": {},
   "outputs": [],
   "source": [
    "_cfg = AutoConfig.from_pretrained('gpt2')"
   ]
  },
  {
   "cell_type": "code",
   "execution_count": 88,
   "id": "2266cb95",
   "metadata": {},
   "outputs": [
    {
     "data": {
      "text/plain": [
       "GPT2Config {\n",
       "  \"activation_function\": \"gelu_new\",\n",
       "  \"architectures\": [\n",
       "    \"GPT2LMHeadModel\"\n",
       "  ],\n",
       "  \"attn_pdrop\": 0.1,\n",
       "  \"bos_token_id\": 50256,\n",
       "  \"embd_pdrop\": 0.1,\n",
       "  \"eos_token_id\": 50256,\n",
       "  \"gradient_checkpointing\": false,\n",
       "  \"initializer_range\": 0.02,\n",
       "  \"layer_norm_epsilon\": 1e-05,\n",
       "  \"model_type\": \"gpt2\",\n",
       "  \"n_ctx\": 1024,\n",
       "  \"n_embd\": 768,\n",
       "  \"n_head\": 12,\n",
       "  \"n_inner\": null,\n",
       "  \"n_layer\": 12,\n",
       "  \"n_positions\": 1024,\n",
       "  \"resid_pdrop\": 0.1,\n",
       "  \"scale_attn_weights\": true,\n",
       "  \"summary_activation\": null,\n",
       "  \"summary_first_dropout\": 0.1,\n",
       "  \"summary_proj_to_labels\": true,\n",
       "  \"summary_type\": \"cls_index\",\n",
       "  \"summary_use_proj\": true,\n",
       "  \"task_specific_params\": {\n",
       "    \"text-generation\": {\n",
       "      \"do_sample\": true,\n",
       "      \"max_length\": 50\n",
       "    }\n",
       "  },\n",
       "  \"transformers_version\": \"4.9.2\",\n",
       "  \"use_cache\": true,\n",
       "  \"vocab_size\": 50257\n",
       "}"
      ]
     },
     "execution_count": 88,
     "metadata": {},
     "output_type": "execute_result"
    }
   ],
   "source": [
    "_cfg"
   ]
  },
  {
   "cell_type": "code",
   "execution_count": null,
   "id": "d93c0164",
   "metadata": {},
   "outputs": [],
   "source": [
    "## T5\n",
    "_m2 = AutoModelForPreTraining.from_pretrained('t5-base')"
   ]
  },
  {
   "cell_type": "code",
   "execution_count": 83,
   "id": "80359c9e",
   "metadata": {},
   "outputs": [
    {
     "data": {
      "text/plain": [
       "True"
      ]
     },
     "execution_count": 83,
     "metadata": {},
     "output_type": "execute_result"
    }
   ],
   "source": [
    "isinstance(_m2, uskg.models.prompt.modeling_t5.T5ForConditionalGeneration)"
   ]
  },
  {
   "cell_type": "code",
   "execution_count": 84,
   "id": "0b70fb4f",
   "metadata": {},
   "outputs": [
    {
     "data": {
      "text/plain": [
       "True"
      ]
     },
     "execution_count": 84,
     "metadata": {},
     "output_type": "execute_result"
    }
   ],
   "source": [
    "isinstance(_m2, T5ForConditionalGeneration)"
   ]
  },
  {
   "cell_type": "code",
   "execution_count": null,
   "id": "ed77b19b",
   "metadata": {},
   "outputs": [],
   "source": []
  },
  {
   "cell_type": "code",
   "execution_count": null,
   "id": "2c116a34",
   "metadata": {},
   "outputs": [],
   "source": []
  }
 ],
 "metadata": {
  "kernelspec": {
   "display_name": "Python 3 (ipykernel)",
   "language": "python",
   "name": "python3"
  },
  "language_info": {
   "codemirror_mode": {
    "name": "ipython",
    "version": 3
   },
   "file_extension": ".py",
   "mimetype": "text/x-python",
   "name": "python",
   "nbconvert_exporter": "python",
   "pygments_lexer": "ipython3",
   "version": "3.9.7"
  },
  "toc": {
   "base_numbering": 1,
   "nav_menu": {},
   "number_sections": true,
   "sideBar": true,
   "skip_h1_title": false,
   "title_cell": "Table of Contents",
   "title_sidebar": "Contents",
   "toc_cell": false,
   "toc_position": {
    "height": "670px",
    "left": "21px",
    "top": "135px",
    "width": "269px"
   },
   "toc_section_display": true,
   "toc_window_display": true
  }
 },
 "nbformat": 4,
 "nbformat_minor": 5
}

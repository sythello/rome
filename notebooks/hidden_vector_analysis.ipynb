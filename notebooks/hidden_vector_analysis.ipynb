{
 "cells": [
  {
   "cell_type": "markdown",
   "metadata": {},
   "source": [
    "<a href=\"https://colab.research.google.com/github/kmeng01/rome/blob/main/notebooks/causal_trace.ipynb\"><img src=\"https://colab.research.google.com/assets/colab-badge.svg\" align=\"left\"/></a>&nbsp;or in a local notebook."
   ]
  },
  {
   "cell_type": "markdown",
   "metadata": {},
   "source": [
    "## Initialization"
   ]
  },
  {
   "cell_type": "code",
   "execution_count": 1,
   "metadata": {},
   "outputs": [],
   "source": [
    "IS_COLAB = False"
   ]
  },
  {
   "cell_type": "code",
   "execution_count": 2,
   "metadata": {
    "scrolled": false
   },
   "outputs": [],
   "source": [
    "%load_ext autoreload\n",
    "%autoreload 2"
   ]
  },
  {
   "cell_type": "code",
   "execution_count": 111,
   "metadata": {},
   "outputs": [],
   "source": [
    "import os, sys, re, json\n",
    "import string\n",
    "import torch\n",
    "import numpy as np\n",
    "\n",
    "import copy\n",
    "from collections import defaultdict, Counter\n",
    "from util import nethook\n",
    "from util.globals import DATA_DIR\n",
    "from experiments.causal_trace import (\n",
    "    ModelAndTokenizer,\n",
    "    layername,\n",
    "    guess_subject,\n",
    "    plot_trace_heatmap,\n",
    ")\n",
    "from experiments.causal_trace import (\n",
    "    make_inputs,\n",
    "    decode_tokens,\n",
    "    find_token_range,\n",
    "    predict_token,\n",
    "    predict_from_input,\n",
    "    collect_embedding_std,\n",
    ")\n",
    "from dsets import KnownsDataset\n",
    "\n",
    "import random\n",
    "import matplotlib.pyplot as plt\n",
    "import sqlite3\n",
    "from sklearn.manifold import TSNE\n",
    "from sklearn.decomposition import PCA"
   ]
  },
  {
   "cell_type": "code",
   "execution_count": 4,
   "metadata": {
    "scrolled": false
   },
   "outputs": [
    {
     "data": {
      "text/plain": [
       "<torch.autograd.grad_mode.set_grad_enabled at 0x7ff90841fa60>"
      ]
     },
     "execution_count": 4,
     "metadata": {},
     "output_type": "execute_result"
    }
   ],
   "source": [
    "torch.set_grad_enabled(False)"
   ]
  },
  {
   "cell_type": "code",
   "execution_count": 5,
   "metadata": {},
   "outputs": [],
   "source": [
    "os.environ['CUDA_VISIBLE_DEVICES'] = '0'"
   ]
  },
  {
   "cell_type": "code",
   "execution_count": 6,
   "metadata": {},
   "outputs": [],
   "source": [
    "from transformers import (\n",
    "    HfArgumentParser,\n",
    "    set_seed,\n",
    "    AutoTokenizer\n",
    ")\n",
    "\n",
    "# from uskg.models.unified.prefixtuning import Model\n",
    "from uskg.models.unified import finetune, prefixtuning\n",
    "from uskg.utils.configue import Configure\n",
    "from uskg.utils.training_arguments import WrappedSeq2SeqTrainingArguments\n",
    "from uskg.seq2seq_construction import spider as s2s_spider\n",
    "from uskg.third_party.spider.preprocess.get_tables import dump_db_json_schema\n",
    "from uskg.third_party.spider import evaluation as sp_eval\n",
    "from tqdm.notebook import tqdm\n",
    "\n",
    "# from nltk.stem.wordnet import WordNetLemmatizer\n",
    "# import stanza\n",
    "from experiments import causal_trace_uskg as ctu"
   ]
  },
  {
   "cell_type": "code",
   "execution_count": 7,
   "metadata": {
    "scrolled": true
   },
   "outputs": [
    {
     "name": "stdout",
     "output_type": "stream",
     "text": [
      "Using tokenizer_uskg: hkunlp/from_all_T5_large_prefix_spider_with_cell_value2\n",
      "Using tokenizer_fast: t5-large\n",
      "prefix-tuning sequence length is 10.\n"
     ]
    }
   ],
   "source": [
    "mt_uskg = ctu.ModelAndTokenizer_USKG('t5-large-prefix')"
   ]
  },
  {
   "cell_type": "code",
   "execution_count": 8,
   "metadata": {},
   "outputs": [
    {
     "data": {
      "text/plain": [
       "[('constructor', 'seq2seq_construction.spider'),\n",
       " ('schema_serialization_with_db_content', True),\n",
       " ('target_with_db_id', False)]"
      ]
     },
     "execution_count": 8,
     "metadata": {},
     "output_type": "execute_result"
    }
   ],
   "source": [
    "list(mt_uskg.task_args.seq2seq)"
   ]
  },
  {
   "cell_type": "code",
   "execution_count": 9,
   "metadata": {},
   "outputs": [
    {
     "data": {
      "text/plain": [
       "(True, False)"
      ]
     },
     "execution_count": 9,
     "metadata": {},
     "output_type": "execute_result"
    }
   ],
   "source": [
    "mt_uskg.model.pretrain_model.encoder.embed_tokens is mt_uskg.model.pretrain_model.shared, \\\n",
    "mt_uskg.model.pretrain_model.decoder.embed_tokens is mt_uskg.model.pretrain_model.shared"
   ]
  },
  {
   "cell_type": "code",
   "execution_count": 10,
   "metadata": {},
   "outputs": [
    {
     "data": {
      "text/plain": [
       "10"
      ]
     },
     "execution_count": 10,
     "metadata": {},
     "output_type": "execute_result"
    }
   ],
   "source": [
    "mt_uskg.model.preseqlen"
   ]
  },
  {
   "cell_type": "code",
   "execution_count": 167,
   "metadata": {
    "scrolled": true
   },
   "outputs": [
    {
     "data": {
      "text/plain": [
       "['pretrain_model.decoder.block.22.layer.2.DenseReluDense',\n",
       " 'pretrain_model.decoder.block.22.layer.2.DenseReluDense.wi',\n",
       " 'pretrain_model.decoder.block.22.layer.2.DenseReluDense.wo',\n",
       " 'pretrain_model.decoder.block.22.layer.2.DenseReluDense.dropout',\n",
       " 'pretrain_model.decoder.block.22.layer.2.layer_norm',\n",
       " 'pretrain_model.decoder.block.22.layer.2.dropout',\n",
       " 'pretrain_model.decoder.block.23',\n",
       " 'pretrain_model.decoder.block.23.layer',\n",
       " 'pretrain_model.decoder.block.23.layer.0',\n",
       " 'pretrain_model.decoder.block.23.layer.0.SelfAttention',\n",
       " 'pretrain_model.decoder.block.23.layer.0.SelfAttention.q',\n",
       " 'pretrain_model.decoder.block.23.layer.0.SelfAttention.k',\n",
       " 'pretrain_model.decoder.block.23.layer.0.SelfAttention.v',\n",
       " 'pretrain_model.decoder.block.23.layer.0.SelfAttention.o',\n",
       " 'pretrain_model.decoder.block.23.layer.0.layer_norm',\n",
       " 'pretrain_model.decoder.block.23.layer.0.dropout',\n",
       " 'pretrain_model.decoder.block.23.layer.1',\n",
       " 'pretrain_model.decoder.block.23.layer.1.EncDecAttention',\n",
       " 'pretrain_model.decoder.block.23.layer.1.EncDecAttention.q',\n",
       " 'pretrain_model.decoder.block.23.layer.1.EncDecAttention.k',\n",
       " 'pretrain_model.decoder.block.23.layer.1.EncDecAttention.v',\n",
       " 'pretrain_model.decoder.block.23.layer.1.EncDecAttention.o',\n",
       " 'pretrain_model.decoder.block.23.layer.1.layer_norm',\n",
       " 'pretrain_model.decoder.block.23.layer.1.dropout',\n",
       " 'pretrain_model.decoder.block.23.layer.2',\n",
       " 'pretrain_model.decoder.block.23.layer.2.DenseReluDense',\n",
       " 'pretrain_model.decoder.block.23.layer.2.DenseReluDense.wi',\n",
       " 'pretrain_model.decoder.block.23.layer.2.DenseReluDense.wo',\n",
       " 'pretrain_model.decoder.block.23.layer.2.DenseReluDense.dropout',\n",
       " 'pretrain_model.decoder.block.23.layer.2.layer_norm',\n",
       " 'pretrain_model.decoder.block.23.layer.2.dropout',\n",
       " 'pretrain_model.decoder.final_layer_norm',\n",
       " 'pretrain_model.decoder.dropout',\n",
       " 'pretrain_model.lm_head',\n",
       " 'wte',\n",
       " 'control_trans',\n",
       " 'control_trans.0',\n",
       " 'control_trans.1',\n",
       " 'control_trans.2',\n",
       " 'wte_enc',\n",
       " 'control_trans_enc',\n",
       " 'control_trans_enc.0',\n",
       " 'control_trans_enc.1',\n",
       " 'control_trans_enc.2',\n",
       " 'wte_dec',\n",
       " 'control_trans_dec',\n",
       " 'control_trans_dec.0',\n",
       " 'control_trans_dec.1',\n",
       " 'control_trans_dec.2',\n",
       " 'dropout']"
      ]
     },
     "execution_count": 167,
     "metadata": {},
     "output_type": "execute_result"
    }
   ],
   "source": [
    "# [k for k,v in mt_uskg.model.named_parameters()]\n",
    "[k for k,v in mt_uskg.model.named_modules()][-50:]"
   ]
  },
  {
   "cell_type": "markdown",
   "metadata": {},
   "source": [
    "## Data"
   ]
  },
  {
   "cell_type": "markdown",
   "metadata": {},
   "source": [
    "### Load spider dataset"
   ]
  },
  {
   "cell_type": "code",
   "execution_count": 12,
   "metadata": {},
   "outputs": [],
   "source": [
    "spider_train_path = '/home/yshao/Projects/SDR-analysis/data/spider/train+ratsql_graph.json'\n",
    "spider_dev_path = '/home/yshao/Projects/SDR-analysis/data/spider/dev+ratsql_graph.json'\n",
    "spider_db_dir = '/home/yshao/Projects/language/language/xsp/data/spider/database'"
   ]
  },
  {
   "cell_type": "code",
   "execution_count": 13,
   "metadata": {},
   "outputs": [
    {
     "data": {
      "text/plain": [
       "1034"
      ]
     },
     "execution_count": 13,
     "metadata": {},
     "output_type": "execute_result"
    }
   ],
   "source": [
    "raw_spider_dev = ctu.load_raw_dataset(\n",
    "    data_filepath = spider_dev_path,\n",
    "    db_path=spider_db_dir,\n",
    "#     schema_cache=SCHEMA_CACHE\n",
    ")\n",
    "len(raw_spider_dev)"
   ]
  },
  {
   "cell_type": "code",
   "execution_count": 14,
   "metadata": {},
   "outputs": [
    {
     "data": {
      "text/plain": [
       "dict_keys(['query', 'question', 'db_id', 'db_path', 'db_table_names', 'db_column_names', 'db_column_types', 'db_primary_keys', 'db_foreign_keys', 'rat_sql_graph'])"
      ]
     },
     "execution_count": 14,
     "metadata": {},
     "output_type": "execute_result"
    }
   ],
   "source": [
    "raw_spider_dev[0].keys()"
   ]
  },
  {
   "cell_type": "code",
   "execution_count": 15,
   "metadata": {
    "scrolled": false
   },
   "outputs": [
    {
     "data": {
      "text/plain": [
       "True"
      ]
     },
     "execution_count": 15,
     "metadata": {},
     "output_type": "execute_result"
    }
   ],
   "source": [
    "mt_uskg.task_args.dataset.use_cache"
   ]
  },
  {
   "cell_type": "code",
   "execution_count": 16,
   "metadata": {},
   "outputs": [],
   "source": [
    "processed_spider_dev = s2s_spider.DevDataset(\n",
    "    args=mt_uskg.task_args,\n",
    "    raw_datasets=raw_spider_dev,\n",
    "    cache_root='../cache')"
   ]
  },
  {
   "cell_type": "code",
   "execution_count": 17,
   "metadata": {},
   "outputs": [
    {
     "data": {
      "text/plain": [
       "('What are the names of all European countries with at least 3 manufacturers?',\n",
       " '| car_1 | continents : contid , continent ( europe ) | countries : countryid , countryname , continent | car_makers : id , maker , fullname , country | model_list : modelid , maker , model | car_names : makeid , model , make | cars_data : id , mpg , cylinders , edispl , horsepower , weight , accelerate , year',\n",
       " \"select t1.countryname from countries as t1 join continents as t2 on t1.continent = t2.contid join car_makers as t3 on t1.countryid = t3.country where t2.continent = 'europe' group by t1.countryname having count(*) >= 3;\")"
      ]
     },
     "execution_count": 17,
     "metadata": {},
     "output_type": "execute_result"
    }
   ],
   "source": [
    "_id = 130\n",
    "processed_spider_dev[_id]['text_in'], \\\n",
    "processed_spider_dev[_id]['struct_in'], \\\n",
    "processed_spider_dev[_id]['seq_out']"
   ]
  },
  {
   "cell_type": "code",
   "execution_count": 18,
   "metadata": {},
   "outputs": [
    {
     "data": {
      "text/plain": [
       "142"
      ]
     },
     "execution_count": 18,
     "metadata": {},
     "output_type": "execute_result"
    }
   ],
   "source": [
    "_enc_sentence = f\"{processed_spider_dev[_id]['text_in']}; structed knowledge: {processed_spider_dev[_id]['struct_in']}\"\n",
    "_toks = mt_uskg.tokenizer.tokenize(_enc_sentence)\n",
    "len(_toks)"
   ]
  },
  {
   "cell_type": "code",
   "execution_count": 19,
   "metadata": {},
   "outputs": [],
   "source": [
    "# # _occ_punct = set()\n",
    "\n",
    "# for _id in range(len(processed_spider_dev)):\n",
    "#     ex = processed_spider_dev[_id]\n",
    "# #     _occ_punct.update(set(string.punctuation) & set(ex['seq_out']))\n",
    "#     if '_(' in ex['struct_in']:\n",
    "#         print(_id, ex['question'])\n",
    "#         print(ex['struct_in'])\n",
    "#         print(ex['seq_out'])\n",
    "#         print()"
   ]
  },
  {
   "cell_type": "code",
   "execution_count": 20,
   "metadata": {},
   "outputs": [],
   "source": [
    "# ## Train set\n",
    "\n",
    "# raw_spider_train = ctu.load_raw_dataset(\n",
    "#     data_filepath = spider_train_path,\n",
    "#     db_path=spider_db_dir,\n",
    "# )\n",
    "# processed_spider_train = s2s_spider.TrainDataset(\n",
    "#     args=mt_uskg.task_args,\n",
    "#     raw_datasets=raw_spider_train,\n",
    "#     cache_root='../cache')\n",
    "# len(processed_spider_train)"
   ]
  },
  {
   "cell_type": "code",
   "execution_count": 21,
   "metadata": {},
   "outputs": [],
   "source": [
    "# processed_spider_train[5441]"
   ]
  },
  {
   "cell_type": "markdown",
   "metadata": {},
   "source": [
    "### Helpers\n",
    "- Aspects-related helpers are merged into create_analysis_sample_dicts()"
   ]
  },
  {
   "cell_type": "markdown",
   "metadata": {},
   "source": [
    "#### Utils"
   ]
  },
  {
   "cell_type": "code",
   "execution_count": 22,
   "metadata": {},
   "outputs": [],
   "source": [
    "def exp6_ob_by_exp_tok(samples):\n",
    "    # samples: usually `good_samples`\n",
    "    \n",
    "    # Key: (expect_tok, sect_k, layer) -> [scores]\n",
    "    trace_scores_by_exp_tok = defaultdict(lambda: defaultdict(lambda: defaultdict(list)))\n",
    "    trace_scores_avg_by_exp_tok = defaultdict(lambda: defaultdict(lambda: defaultdict(float)))\n",
    "    trace_scores_cnt_by_exp_tok = defaultdict(int)  # no sect key & layer key \n",
    "\n",
    "    trace_sample_ids_by_exp_tok = defaultdict(list)\n",
    "    \n",
    "    for i, d in enumerate(samples):\n",
    "        expect = d['expect']\n",
    "        trace_sample_ids_by_exp_tok[expect].append(i)\n",
    "        for sect_k, sect_d in d['trace_scores'].items():\n",
    "            for layer_k, v in sect_d.items():\n",
    "                trace_scores_by_exp_tok[expect][sect_k][layer_k].append(v)\n",
    "\n",
    "    for exp_tok, d1 in trace_scores_by_exp_tok.items():\n",
    "        if exp_tok.isnumeric(): continue\n",
    "        for sect_k, d2 in d1.items():\n",
    "            for layer_k, scores in d2.items():\n",
    "                if len(scores) <= 2: continue\n",
    "                trace_scores_avg_by_exp_tok[exp_tok][sect_k][layer_k] = np.mean(scores)\n",
    "                trace_scores_cnt_by_exp_tok[exp_tok] = len(scores)\n",
    "    \n",
    "    return {\n",
    "        'avg': trace_scores_avg_by_exp_tok,\n",
    "        'cnt': trace_scores_cnt_by_exp_tok,\n",
    "        'sample_ids': trace_sample_ids_by_exp_tok,\n",
    "    }"
   ]
  },
  {
   "cell_type": "code",
   "execution_count": 23,
   "metadata": {},
   "outputs": [],
   "source": [
    "def reverse_2D_dict(d):\n",
    "    out_d = defaultdict(lambda: defaultdict(np.nan))\n",
    "    for k1, d1 in d.items():\n",
    "        for k2, v in d1.items():\n",
    "            out_d[k2][k1] = v\n",
    "    return out_d\n",
    "\n",
    "def format_print_1D_dict(d, sort_by=None, reverse=False, head_col_w=10, col_w=6):\n",
    "    # sort: None, 'key' or 'value'\n",
    "    \n",
    "    item_l = list(d.items())\n",
    "    if sort_by == 'key':\n",
    "        item_l.sort(reverse=reverse)\n",
    "    elif sort_by == 'value':\n",
    "        item_l.sort(key=lambda x: (x[1], x[0]), reverse=reverse)\n",
    "    \n",
    "    decm_w = col_w - 2\n",
    "    \n",
    "    for k, v in item_l:\n",
    "        print(f'{k:<{head_col_w}s}{v:.{decm_w}f}')\n",
    "\n",
    "def format_print_2D_dict(d, \n",
    "                         all_k1=None, \n",
    "                         all_k2=None, \n",
    "                         sort_k1_kwargs=None, \n",
    "                         sort_k2_kwargs=None, \n",
    "                         head_col_w=12, \n",
    "                         col_w=6,\n",
    "                         decm_w=4):\n",
    "    if all_k1 is None:\n",
    "        all_k1 = list(d.keys())\n",
    "        if sort_k1_kwargs is not None:\n",
    "            all_k1.sort(**sort_k1_kwargs)\n",
    "    \n",
    "    if all_k2 is None:\n",
    "        for k1, d1 in d.items():\n",
    "            d1_keys = list(d1.keys())\n",
    "            if all_k2 is None:\n",
    "                all_k2 = d1_keys\n",
    "            else:\n",
    "                if set(d1_keys) != set(all_k2):\n",
    "                    print('Warning:\\n', d1_keys, '\\n', all_k2)\n",
    "            # all_k2.update(list(d1.keys()))\n",
    "        if sort_k2_kwargs is not None:\n",
    "            all_k2.sort(**sort_k2_kwargs)\n",
    "    \n",
    "    print_str = '\\t'.join(['X' * head_col_w] + [f'{k2:<{col_w}s}' for k2 in all_k2]) + '\\n'\n",
    "    \n",
    "    for k1 in all_k1:\n",
    "        d1 = d[k1]\n",
    "        print_str += f'{k1:<{head_col_w}s}'\n",
    "        for k2 in all_k2:\n",
    "            v = d1[k2]\n",
    "            print_str += f'\\t{v:<{col_w}.{decm_w}f}'\n",
    "        print_str += '\\n'\n",
    "    \n",
    "    print(print_str)"
   ]
  },
  {
   "cell_type": "code",
   "execution_count": 171,
   "metadata": {},
   "outputs": [],
   "source": [
    "def untuple(x):\n",
    "    if isinstance(x, tuple):\n",
    "        return x[0]\n",
    "    else:\n",
    "        return x"
   ]
  },
  {
   "cell_type": "markdown",
   "metadata": {},
   "source": [
    "#### Evaluator"
   ]
  },
  {
   "cell_type": "code",
   "execution_count": 24,
   "metadata": {},
   "outputs": [],
   "source": [
    "table_path = '/home/yshao/Projects/language/language/xsp/data/spider/tables.json'\n",
    "db_dir = '/home/yshao/Projects/language/language/xsp/data/spider/database'"
   ]
  },
  {
   "cell_type": "code",
   "execution_count": 25,
   "metadata": {},
   "outputs": [],
   "source": [
    "kmaps = sp_eval.build_foreign_key_map_from_json(table_path)\n",
    "evaluator = sp_eval.Evaluator(db_dir=db_dir, kmaps=kmaps, etype='all')"
   ]
  },
  {
   "cell_type": "code",
   "execution_count": 26,
   "metadata": {},
   "outputs": [],
   "source": [
    "ctu.evaluate_hardness.evaluator = evaluator"
   ]
  },
  {
   "cell_type": "code",
   "execution_count": 27,
   "metadata": {},
   "outputs": [
    {
     "data": {
      "text/plain": [
       "(3, 0, 0, 'hard')"
      ]
     },
     "execution_count": 27,
     "metadata": {},
     "output_type": "execute_result"
    }
   ],
   "source": [
    "# test\n",
    "_sql_str = 'select t1.birth_date from people as t1 join poker_player as t2 on t1.people_id = t2.people_id order by t2.earnings asc limit 1'\n",
    "db_name = 'poker_player'\n",
    "schema = evaluator.schemas[db_name]\n",
    "_sql = sp_eval.get_sql(schema, _sql_str)\n",
    "sp_eval.count_component1(_sql), sp_eval.count_component2(_sql), sp_eval.count_others(_sql), \\\n",
    "evaluator.eval_hardness(_sql)"
   ]
  },
  {
   "cell_type": "markdown",
   "metadata": {},
   "source": [
    "### Exp-7.0: layer skipping\n",
    "- Including 7.0.[0-3]"
   ]
  },
  {
   "cell_type": "markdown",
   "metadata": {},
   "source": [
    "#### Load & Check"
   ]
  },
  {
   "cell_type": "code",
   "execution_count": null,
   "metadata": {},
   "outputs": [],
   "source": [
    "# expect_type = 'table_alias'\n",
    "\n",
    "# res_path = f'/home/yshao/Projects/rome/results/exp7_0_1_decoder_layer_skip_effect/exp=7.0.1_dev_{expect_type}.jsonl'\n",
    "\n",
    "res_path = f'/home/yshao/Projects/rome/results/exp7_0_3_decoder_syntax_layer_skip_effect/exp=7.0.3_dev.jsonl'\n",
    "\n",
    "with open(res_path, 'r') as f:\n",
    "    all_samples = [json.loads(l) for l in f]\n",
    "len(all_samples)"
   ]
  },
  {
   "cell_type": "code",
   "execution_count": null,
   "metadata": {},
   "outputs": [],
   "source": [
    "total_samples = 0\n",
    "n_good_samples = 0\n",
    "n_too_hard = 0      # wrong answer \n",
    "n_too_easy = 0      # base - low < 0.5"
   ]
  },
  {
   "cell_type": "code",
   "execution_count": null,
   "metadata": {},
   "outputs": [],
   "source": [
    "good_samples = []\n",
    "bad_samples = []\n",
    "\n",
    "for i, ex in enumerate(all_samples):\n",
    "    for d in ex['trace_results']:\n",
    "        total_samples += 1\n",
    "\n",
    "        if d.get('is_good_sample', True):\n",
    "            n_good_samples += 1\n",
    "            d['ex_id'] = i\n",
    "            good_samples.append(d)\n",
    "        elif not d['correct_prediction']:\n",
    "            n_too_hard += 1\n",
    "            bad_samples.append(d)\n",
    "        else:\n",
    "            assert d['base_score'] - d['low_score'] < 0.5\n",
    "            n_too_easy += 1\n",
    "            bad_samples.append(d)\n",
    "            \n",
    "total_samples, (n_good_samples, len(good_samples)), n_too_hard, n_too_easy, len(bad_samples), \\\n",
    "f'good / correct = {n_good_samples} / {n_good_samples + n_too_easy}'"
   ]
  },
  {
   "cell_type": "markdown",
   "metadata": {},
   "source": [
    "#### Overall avg"
   ]
  },
  {
   "cell_type": "code",
   "execution_count": null,
   "metadata": {},
   "outputs": [],
   "source": [
    "trace_scores_avg = {sect_k : defaultdict(int) for sect_k in good_samples[0]['trace_scores'].keys()}\n",
    "\n",
    "for d in good_samples:\n",
    "    for sect_k, sect_d in d['trace_scores'].items():\n",
    "        for k, v in sect_d.items():\n",
    "            trace_scores_avg[sect_k][k] += v\n",
    "\n",
    "for sect_k, sect_d in trace_scores_avg.items():\n",
    "    for k, s in sect_d.items():\n",
    "        sect_d[k] = s / len(good_samples)"
   ]
  },
  {
   "cell_type": "code",
   "execution_count": null,
   "metadata": {},
   "outputs": [],
   "source": [
    "# trace_scores_avg\n",
    "format_print_2D_dict(trace_scores_avg, head_col_w=16, col_w=11)"
   ]
  },
  {
   "cell_type": "code",
   "execution_count": null,
   "metadata": {},
   "outputs": [],
   "source": []
  },
  {
   "cell_type": "markdown",
   "metadata": {},
   "source": [
    "## Tests"
   ]
  },
  {
   "cell_type": "markdown",
   "metadata": {},
   "source": [
    "### create_analysis_samples"
   ]
  },
  {
   "cell_type": "code",
   "execution_count": 29,
   "metadata": {},
   "outputs": [
    {
     "data": {
      "text/plain": [
       "('What is the accelerate of the car make amc hornet sportabout (sw)?',\n",
       " '| car_1 | continents : contid , continent | countries : countryid , countryname , continent | car_makers : id , maker ( amc ) , fullname , country | model_list : modelid , maker , model ( amc ) | car_names : makeid , model ( amc ) , make ( amc hornet , amc hornet sportabout (sw) ) | cars_data : id , mpg , cylinders , edispl , horsepower , weight , accelerate , year',\n",
       " \"select t1.accelerate from cars_data as t1 join car_names as t2 on t1.id = t2.makeid where t2.make = 'amc hornet sportabout (sw)';\")"
      ]
     },
     "execution_count": 29,
     "metadata": {},
     "output_type": "execute_result"
    }
   ],
   "source": [
    "ex_id = 111\n",
    "a_ex_id = 0\n",
    "\n",
    "ex = processed_spider_dev[ex_id]\n",
    "ex['text_in'], \\\n",
    "ex['struct_in'], \\\n",
    "ex['seq_out']"
   ]
  },
  {
   "cell_type": "code",
   "execution_count": 30,
   "metadata": {},
   "outputs": [],
   "source": [
    "# temp test\n",
    "# ex['seq_out'] = 'select year from cars_data'"
   ]
  },
  {
   "cell_type": "code",
   "execution_count": 31,
   "metadata": {},
   "outputs": [],
   "source": [
    "a_ex_list = ctu.create_analysis_sample_dicts(\n",
    "                mt_uskg, ex,\n",
    "                subject_type='column',\n",
    "                remove_struct_duplicate_nodes=True)"
   ]
  },
  {
   "cell_type": "code",
   "execution_count": 32,
   "metadata": {},
   "outputs": [
    {
     "data": {
      "text/plain": [
       "dict_keys(['query', 'question', 'db_id', 'db_path', 'db_table_names', 'db_column_names', 'db_column_types', 'db_primary_keys', 'db_foreign_keys', 'rat_sql_graph', 'serialized_schema', 'struct_in', 'text_in', 'seq_out', 'enc_sentence', 'enc_tokenized', 'text_range', 'struct_range', 'struct_node_ranges_dict', 'dec_prompt', 'expect', 'expect_type', 'remove_struct_duplicate_nodes', 'parsed_struct_in', 'col2table', 'token_ranges_dict', 'node_name_ranges', 'expect_input_ranges', 'alias2table', 'self_ranges', 'context_ranges', 'category'])"
      ]
     },
     "execution_count": 32,
     "metadata": {},
     "output_type": "execute_result"
    }
   ],
   "source": [
    "a_ex_list[a_ex_id].keys()"
   ]
  },
  {
   "cell_type": "code",
   "execution_count": 33,
   "metadata": {},
   "outputs": [
    {
     "data": {
      "text/plain": [
       "{'t1': 'cars_data', 't2': 'car_names'}"
      ]
     },
     "execution_count": 33,
     "metadata": {},
     "output_type": "execute_result"
    }
   ],
   "source": [
    "a_ex_list[a_ex_id]['alias2table']"
   ]
  },
  {
   "cell_type": "code",
   "execution_count": null,
   "metadata": {
    "scrolled": true
   },
   "outputs": [],
   "source": [
    "[(d['dec_prompt'], d['expect'], d['node_name_ranges'], d['expect_input_ranges'], '------',\\\n",
    "  d['self_ranges'], d['context_ranges'],\\\n",
    "  d['category'], '------' * 2) for d in a_ex_list]"
   ]
  },
  {
   "cell_type": "code",
   "execution_count": null,
   "metadata": {},
   "outputs": [],
   "source": [
    "d = dict(a_ex_list[a_ex_id])\n",
    "d"
   ]
  },
  {
   "cell_type": "code",
   "execution_count": null,
   "metadata": {},
   "outputs": [],
   "source": [
    "d = ctu.add_clean_prediction(mt_uskg, d)"
   ]
  },
  {
   "cell_type": "code",
   "execution_count": null,
   "metadata": {},
   "outputs": [],
   "source": [
    "d"
   ]
  },
  {
   "cell_type": "code",
   "execution_count": null,
   "metadata": {},
   "outputs": [],
   "source": []
  },
  {
   "cell_type": "markdown",
   "metadata": {},
   "source": [
    "#### parse_sql_alias2table"
   ]
  },
  {
   "cell_type": "code",
   "execution_count": 185,
   "metadata": {},
   "outputs": [
    {
     "data": {
      "text/plain": [
       "{'t1': 'table_name', 't2': 'other_table', 't3': 'ttt'}"
      ]
     },
     "execution_count": 185,
     "metadata": {},
     "output_type": "execute_result"
    }
   ],
   "source": [
    "_sql = 'SELECT t2.aaa , t3.ccc FROM table_name as t1 JOIN other_table as t2 on table_name.a_a = other_table.b_a JOIN ttt as t3 on other_table.asth = ttt.asth'\n",
    "ctu.parse_sql_alias2table(_sql)"
   ]
  },
  {
   "cell_type": "markdown",
   "metadata": {},
   "source": [
    "#### for syntax"
   ]
  },
  {
   "cell_type": "code",
   "execution_count": 149,
   "metadata": {},
   "outputs": [
    {
     "name": "stdout",
     "output_type": "stream",
     "text": [
      "from \t None \t False\n",
      "as \t None \t False\n",
      "join \t None \t False\n",
      "as \t None \t False\n",
      "on \t None \t False\n",
      "= \t None \t False\n",
      "where \t None \t False\n",
      "= \t None \t False\n",
      "' \t ' \t True\n",
      "amc \t ' \t True\n",
      "hornet \t ' \t True\n",
      "sportabout \t ' \t True\n",
      "( \t ' \t True\n",
      "sw \t ' \t True\n",
      ") \t ' \t True\n",
      "' \t None \t True\n"
     ]
    }
   ],
   "source": [
    "_ex = copy.deepcopy(ex)\n",
    "# _ex['seq_out'] += 'order by t1.mpg'\n",
    "a_ex_list_syntax = ctu.create_syntax_analysis_sample_dicts(mt_uskg, _ex)"
   ]
  },
  {
   "cell_type": "code",
   "execution_count": 150,
   "metadata": {},
   "outputs": [
    {
     "name": "stdout",
     "output_type": "stream",
     "text": [
      "select t1.accelerate  -->  from\n",
      "select t1.accelerate from cars_data  -->  as\n",
      "select t1.accelerate from cars_data as t1  -->  join\n",
      "select t1.accelerate from cars_data as t1 join car_names  -->  as\n",
      "select t1.accelerate from cars_data as t1 join car_names as t2  -->  on\n",
      "select t1.accelerate from cars_data as t1 join car_names as t2 on t1.id  -->  =\n",
      "select t1.accelerate from cars_data as t1 join car_names as t2 on t1.id = t2.makeid  -->  where\n",
      "select t1.accelerate from cars_data as t1 join car_names as t2 on t1.id = t2.makeid where t2.make  -->  =\n"
     ]
    }
   ],
   "source": [
    "for a_ex in a_ex_list_syntax:\n",
    "    print(a_ex['dec_prompt'], ' --> ', a_ex['expect'])"
   ]
  },
  {
   "cell_type": "code",
   "execution_count": null,
   "metadata": {},
   "outputs": [],
   "source": []
  },
  {
   "cell_type": "code",
   "execution_count": 156,
   "metadata": {},
   "outputs": [
    {
     "data": {
      "text/plain": [
       "{'input_ids': [363, 19, 8, 16845, 13, 8, 443, 143, 183, 75, 3, 6293, 15, 17, 2600, 7932, 41, 7, 210, 61, 58, 117, 3, 7593, 15, 26, 1103, 10, 1820, 443, 834, 536, 1820, 10829, 7, 3, 10, 3622, 23, 26, 3, 6, 10829, 1820, 1440, 3, 10, 684, 23, 26, 3, 6, 684, 4350, 3, 6, 10829, 1820, 443, 834, 8910, 3, 10, 3, 23, 26, 3, 6, 13762, 41, 183, 75, 3, 61, 3, 6, 423, 4350, 3, 6, 684, 1820, 825, 834, 3350, 3, 10, 825, 23, 26, 3, 6, 13762, 3, 6, 825, 41, 183, 75, 3, 61, 1820, 443, 834, 4350, 7, 3, 10, 143, 23, 26, 3, 6, 825, 41, 183, 75, 3, 61, 3, 6, 143, 41, 183, 75, 3, 6293, 15, 17, 3, 6, 183, 75, 3, 6293, 15, 17, 2600, 7932, 41, 7, 210, 61, 3, 61, 1820, 2948, 834, 6757, 3, 10, 3, 23, 26, 3, 6, 3, 1167, 122, 3, 6, 3, 12980, 7, 3, 6, 3, 15, 10475, 40, 3, 6, 28906, 3, 6, 1293, 3, 6, 16845, 3, 6, 215, 1], 'attention_mask': [1, 1, 1, 1, 1, 1, 1, 1, 1, 1, 1, 1, 1, 1, 1, 1, 1, 1, 1, 1, 1, 1, 1, 1, 1, 1, 1, 1, 1, 1, 1, 1, 1, 1, 1, 1, 1, 1, 1, 1, 1, 1, 1, 1, 1, 1, 1, 1, 1, 1, 1, 1, 1, 1, 1, 1, 1, 1, 1, 1, 1, 1, 1, 1, 1, 1, 1, 1, 1, 1, 1, 1, 1, 1, 1, 1, 1, 1, 1, 1, 1, 1, 1, 1, 1, 1, 1, 1, 1, 1, 1, 1, 1, 1, 1, 1, 1, 1, 1, 1, 1, 1, 1, 1, 1, 1, 1, 1, 1, 1, 1, 1, 1, 1, 1, 1, 1, 1, 1, 1, 1, 1, 1, 1, 1, 1, 1, 1, 1, 1, 1, 1, 1, 1, 1, 1, 1, 1, 1, 1, 1, 1, 1, 1, 1, 1, 1, 1, 1, 1, 1, 1, 1, 1, 1, 1, 1, 1, 1, 1, 1, 1, 1, 1, 1, 1, 1, 1, 1, 1, 1, 1, 1, 1, 1, 1, 1, 1, 1, 1, 1, 1, 1]}"
      ]
     },
     "execution_count": 156,
     "metadata": {},
     "output_type": "execute_result"
    }
   ],
   "source": [
    "a_ex['enc_tokenized']"
   ]
  },
  {
   "cell_type": "code",
   "execution_count": 159,
   "metadata": {},
   "outputs": [
    {
     "name": "stdout",
     "output_type": "stream",
     "text": [
      "['contid']\n",
      "['continent', 'continent']\n",
      "['countryid']\n",
      "['countryname']\n",
      "['id', 'id']\n",
      "['maker ( amc )', 'maker']\n",
      "['fullname']\n",
      "['country']\n",
      "['modelid']\n",
      "['model ( amc )', 'model ( amc )']\n",
      "['makeid']\n",
      "['make ( amc hornet, amc hornet sportabout (sw) )']\n",
      "['mpg']\n",
      "['cylinders']\n",
      "['edispl']\n",
      "['horsepower']\n",
      "['weight']\n",
      "['accelerate']\n",
      "['year']\n"
     ]
    }
   ],
   "source": [
    "col_name_ranges = a_ex['token_ranges_dict']['col_name_ranges']\n",
    "# col_name_indices = [i for s, e in col_name_ranges.values() for i in range(s, e)]\n",
    "for ranges in col_name_ranges.values():\n",
    "    print([mt_uskg.tokenizer.decode(a_ex['enc_tokenized']['input_ids'][s:e]) for s, e in ranges])"
   ]
  },
  {
   "cell_type": "code",
   "execution_count": null,
   "metadata": {},
   "outputs": [],
   "source": [
    "col_name_ranges"
   ]
  },
  {
   "cell_type": "code",
   "execution_count": 160,
   "metadata": {},
   "outputs": [
    {
     "name": "stdout",
     "output_type": "stream",
     "text": [
      "['continents']\n",
      "['countries']\n",
      "['car_makers']\n",
      "['model_list']\n",
      "['car_names']\n",
      "['cars_data']\n"
     ]
    }
   ],
   "source": [
    "table_name_ranges = a_ex['token_ranges_dict']['table_name_ranges']\n",
    "# col_name_indices = [i for s, e in col_name_ranges.values() for i in range(s, e)]\n",
    "for ranges in table_name_ranges.values():\n",
    "    print([mt_uskg.tokenizer.decode(a_ex['enc_tokenized']['input_ids'][s:e]) for s, e in ranges])"
   ]
  },
  {
   "cell_type": "code",
   "execution_count": 161,
   "metadata": {},
   "outputs": [
    {
     "data": {
      "text/plain": [
       "defaultdict(list,\n",
       "            {'continents': [(33, 35)],\n",
       "             'countries': [(44, 45)],\n",
       "             'car_makers': [(58, 61)],\n",
       "             'model_list': [(82, 85)],\n",
       "             'car_names': [(102, 106)],\n",
       "             'cars_data': [(146, 149)]})"
      ]
     },
     "execution_count": 161,
     "metadata": {},
     "output_type": "execute_result"
    }
   ],
   "source": [
    "table_name_ranges"
   ]
  },
  {
   "cell_type": "code",
   "execution_count": null,
   "metadata": {},
   "outputs": [],
   "source": []
  },
  {
   "cell_type": "code",
   "execution_count": null,
   "metadata": {},
   "outputs": [],
   "source": [
    "#  'pretrain_model',\n",
    "#  'pretrain_model.shared',\n",
    "#  'pretrain_model.encoder',\n",
    "#  'pretrain_model.encoder.block',\n",
    "#  'pretrain_model.encoder.block.0',\n",
    "#  'pretrain_model.encoder.block.0.layer',\n",
    "#  'pretrain_model.encoder.block.0.layer.0',\n",
    "#  'pretrain_model.encoder.block.0.layer.0.SelfAttention',\n",
    "#  'pretrain_model.encoder.block.0.layer.0.SelfAttention.q',\n",
    "#  'pretrain_model.encoder.block.0.layer.0.SelfAttention.k',\n",
    "#  'pretrain_model.encoder.block.0.layer.0.SelfAttention.v',\n",
    "#  'pretrain_model.encoder.block.0.layer.0.SelfAttention.o',\n",
    "#  'pretrain_model.encoder.block.0.layer.0.SelfAttention.relative_attention_bias',\n",
    "#  'pretrain_model.encoder.block.0.layer.0.layer_norm',\n",
    "#  'pretrain_model.encoder.block.0.layer.0.dropout',\n",
    "#  'pretrain_model.encoder.block.0.layer.1',\n",
    "#  'pretrain_model.encoder.block.0.layer.1.DenseReluDense',\n",
    "#  'pretrain_model.encoder.block.0.layer.1.DenseReluDense.wi',\n",
    "#  'pretrain_model.encoder.block.0.layer.1.DenseReluDense.wo',\n",
    "#  'pretrain_model.encoder.block.0.layer.1.DenseReluDense.dropout',\n",
    "#  'pretrain_model.encoder.block.0.layer.1.layer_norm',\n",
    "#  'pretrain_model.encoder.block.0.layer.1.dropout',"
   ]
  },
  {
   "cell_type": "markdown",
   "metadata": {},
   "source": [
    "## Other observation"
   ]
  },
  {
   "cell_type": "markdown",
   "metadata": {},
   "source": [
    "### Model"
   ]
  },
  {
   "cell_type": "markdown",
   "metadata": {},
   "source": [
    "#### Embedding"
   ]
  },
  {
   "cell_type": "code",
   "execution_count": 604,
   "metadata": {},
   "outputs": [
    {
     "data": {
      "text/plain": [
       "torch.Size([32102, 1024])"
      ]
     },
     "execution_count": 604,
     "metadata": {},
     "output_type": "execute_result"
    }
   ],
   "source": [
    "embs = mt_uskg.model.pretrain_model.encoder.embed_tokens.weight\n",
    "embs.size()"
   ]
  },
  {
   "cell_type": "code",
   "execution_count": 605,
   "metadata": {},
   "outputs": [
    {
     "data": {
      "text/plain": [
       "{'input_ids': [[564], [1246], [2982], [7634]], 'attention_mask': [[1], [1], [1], [1]]}"
      ]
     },
     "execution_count": 605,
     "metadata": {},
     "output_type": "execute_result"
    }
   ],
   "source": [
    "mt_uskg.tokenizer.batch_encode_plus(['name', 'age', 'nation', 'singer'], add_special_tokens=False)"
   ]
  },
  {
   "cell_type": "code",
   "execution_count": 613,
   "metadata": {},
   "outputs": [
    {
     "data": {
      "text/plain": [
       "tensor([[  2.8750,  17.0000,   5.3438,  ..., -15.8750,  -0.8789,   2.6562],\n",
       "        [  6.3750,  13.5000, -35.7500,  ...,   2.3281,  15.7500,   3.5938],\n",
       "        [  3.3750, -16.8750, -25.2500,  ...,   0.9258,  -5.8750,   4.5625],\n",
       "        [  0.4629,  -3.0156, -10.1875,  ...,  -8.4375,   1.8828,   3.3750]],\n",
       "       device='cuda:0')"
      ]
     },
     "execution_count": 613,
     "metadata": {},
     "output_type": "execute_result"
    }
   ],
   "source": [
    "embs[[564, 1246, 2982, 7634]]"
   ]
  },
  {
   "cell_type": "code",
   "execution_count": 687,
   "metadata": {},
   "outputs": [
    {
     "data": {
      "text/plain": [
       "(tensor([12.6989, 15.4454, 16.5982,  ..., 12.3047, 12.5982,  9.7114],\n",
       "        device='cuda:0'),\n",
       " tensor([-4.3081, -2.5801,  2.5176,  ..., -2.8731,  3.0601, 12.4257],\n",
       "        device='cuda:0'))"
      ]
     },
     "execution_count": 687,
     "metadata": {},
     "output_type": "execute_result"
    }
   ],
   "source": [
    "embs_std, embs_mean = torch.std_mean(embs, dim=0)\n",
    "embs_std, embs_mean"
   ]
  },
  {
   "cell_type": "code",
   "execution_count": 688,
   "metadata": {},
   "outputs": [
    {
     "data": {
      "text/plain": [
       "((tensor(2.3013, device='cuda:0'), tensor(13.3482, device='cuda:0')),\n",
       " (tensor(4.8516, device='cuda:0'), tensor(0.1390, device='cuda:0')))"
      ]
     },
     "execution_count": 688,
     "metadata": {},
     "output_type": "execute_result"
    }
   ],
   "source": [
    "torch.std_mean(embs_std), torch.std_mean(embs_mean)"
   ]
  },
  {
   "cell_type": "code",
   "execution_count": 609,
   "metadata": {},
   "outputs": [
    {
     "data": {
      "text/plain": [
       "tensor([639.1667, 281.5377, 303.9011,  ..., 242.6456, 397.0485, 398.6314],\n",
       "       device='cuda:0')"
      ]
     },
     "execution_count": 609,
     "metadata": {},
     "output_type": "execute_result"
    }
   ],
   "source": [
    "embs_norm = torch.linalg.norm(embs, ord=2, dim=1)\n",
    "embs_norm"
   ]
  },
  {
   "cell_type": "code",
   "execution_count": 610,
   "metadata": {},
   "outputs": [
    {
     "data": {
      "text/plain": [
       "(tensor(66.8115, device='cuda:0'), tensor(455.5204, device='cuda:0'))"
      ]
     },
     "execution_count": 610,
     "metadata": {},
     "output_type": "execute_result"
    }
   ],
   "source": [
    "torch.std_mean(embs_norm)"
   ]
  },
  {
   "cell_type": "code",
   "execution_count": 639,
   "metadata": {},
   "outputs": [
    {
     "data": {
      "text/plain": [
       "tensor([719.9138, 459.3446, 463.6613,  ..., 422.5326, 498.5402, 499.7012],\n",
       "       device='cuda:0')"
      ]
     },
     "execution_count": 639,
     "metadata": {},
     "output_type": "execute_result"
    }
   ],
   "source": [
    "tgt_wid = 564\n",
    "tgt_vec = embs[tgt_wid]\n",
    "# delta = 5.0 * torch.randn_like(tgt_vec)\n",
    "# tgt_vec = tgt_vec + delta\n",
    "\n",
    "embs_dist = torch.linalg.norm(embs - tgt_vec, ord=2, dim=1)\n",
    "embs_dist"
   ]
  },
  {
   "cell_type": "code",
   "execution_count": 640,
   "metadata": {},
   "outputs": [
    {
     "data": {
      "text/plain": [
       "((tensor(54.9653, device='cuda:0'), tensor(565.9248, device='cuda:0')),\n",
       " tensor(0., device='cuda:0'),\n",
       " tensor(564, device='cuda:0'))"
      ]
     },
     "execution_count": 640,
     "metadata": {},
     "output_type": "execute_result"
    }
   ],
   "source": [
    "torch.std_mean(embs_dist), torch.min(embs_dist), torch.argmin(embs_dist)"
   ]
  },
  {
   "cell_type": "code",
   "execution_count": 641,
   "metadata": {},
   "outputs": [
    {
     "data": {
      "text/plain": [
       "[(0.0, 564),\n",
       " (273.6109924316406, 5570),\n",
       " (279.52862548828125, 3056),\n",
       " (315.5259704589844, 4350),\n",
       " (353.9427490234375, 23954),\n",
       " (359.2679443359375, 2650),\n",
       " (369.5257873535156, 10016),\n",
       " (405.4482421875, 2233),\n",
       " (411.2537841796875, 3),\n",
       " (411.6006164550781, 2862)]"
      ]
     },
     "execution_count": 641,
     "metadata": {},
     "output_type": "execute_result"
    }
   ],
   "source": [
    "sorted_dists = sorted((dist, i) for i, dist in enumerate(embs_dist.cpu().tolist()))\n",
    "sorted_dists[:10]"
   ]
  },
  {
   "cell_type": "code",
   "execution_count": 642,
   "metadata": {},
   "outputs": [
    {
     "data": {
      "text/plain": [
       "['name',\n",
       " 'Name',\n",
       " 'names',\n",
       " 'name',\n",
       " 'Name',\n",
       " 'named',\n",
       " 'Namen',\n",
       " 'title',\n",
       " '',\n",
       " 'identify']"
      ]
     },
     "execution_count": 642,
     "metadata": {},
     "output_type": "execute_result"
    }
   ],
   "source": [
    "ctu.decode_tokens(mt_uskg.tokenizer, [tok_id for _, tok_id in sorted_dists[:10]])"
   ]
  },
  {
   "cell_type": "code",
   "execution_count": 650,
   "metadata": {},
   "outputs": [
    {
     "data": {
      "text/plain": [
       "tensor([737.6123, 487.0907, 491.6216,  ..., 456.4087, 529.4299, 530.4269],\n",
       "       device='cuda:0')"
      ]
     },
     "execution_count": 650,
     "metadata": {},
     "output_type": "execute_result"
    }
   ],
   "source": [
    "tgt_wid = 564\n",
    "tgt_vec = embs[tgt_wid]\n",
    "delta = 5.0 * torch.randn_like(tgt_vec)\n",
    "tgt_vec = tgt_vec + delta\n",
    "\n",
    "embs_dist = torch.linalg.norm(embs - tgt_vec, ord=2, dim=1)\n",
    "embs_dist"
   ]
  },
  {
   "cell_type": "code",
   "execution_count": 651,
   "metadata": {},
   "outputs": [
    {
     "data": {
      "text/plain": [
       "((tensor(53.0791, device='cuda:0'), tensor(590.1509, device='cuda:0')),\n",
       " tensor(158.3963, device='cuda:0'),\n",
       " tensor(564, device='cuda:0'))"
      ]
     },
     "execution_count": 651,
     "metadata": {},
     "output_type": "execute_result"
    }
   ],
   "source": [
    "torch.std_mean(embs_dist), torch.min(embs_dist), torch.argmin(embs_dist)"
   ]
  },
  {
   "cell_type": "code",
   "execution_count": 652,
   "metadata": {},
   "outputs": [
    {
     "data": {
      "text/plain": [
       "[(158.39627075195312, 564),\n",
       " (316.92431640625, 5570),\n",
       " (323.1575927734375, 3056),\n",
       " (357.3472595214844, 4350),\n",
       " (393.6805419921875, 23954),\n",
       " (400.9082946777344, 10016),\n",
       " (402.192138671875, 2650),\n",
       " (433.865234375, 2233),\n",
       " (441.6644592285156, 3),\n",
       " (443.2170715332031, 2862)]"
      ]
     },
     "execution_count": 652,
     "metadata": {},
     "output_type": "execute_result"
    }
   ],
   "source": [
    "sorted_dists = sorted((dist, i) for i, dist in enumerate(embs_dist.cpu().tolist()))\n",
    "sorted_dists[:10]"
   ]
  },
  {
   "cell_type": "code",
   "execution_count": 646,
   "metadata": {},
   "outputs": [
    {
     "data": {
      "text/plain": [
       "['name', 'names', 'Name', 'name', 'named', 'Name', 'Namen', '', 'title', '.']"
      ]
     },
     "execution_count": 646,
     "metadata": {},
     "output_type": "execute_result"
    }
   ],
   "source": [
    "ctu.decode_tokens(mt_uskg.tokenizer, [tok_id for _, tok_id in sorted_dists[:10]])"
   ]
  },
  {
   "cell_type": "markdown",
   "metadata": {},
   "source": [
    "#### Encoding"
   ]
  },
  {
   "cell_type": "code",
   "execution_count": 653,
   "metadata": {},
   "outputs": [
    {
     "data": {
      "text/plain": [
       "('What is the accelerate of the car make amc hornet sportabout (sw)?',\n",
       " '| car_1 | continents : contid , continent | countries : countryid , countryname , continent | car_makers : id , maker ( amc ) , fullname , country | model_list : modelid , maker , model ( amc ) | car_names : makeid , model ( amc ) , make ( amc hornet , amc hornet sportabout (sw) ) | cars_data : id , mpg , cylinders , edispl , horsepower , weight , accelerate , year',\n",
       " \"select t1.accelerate from cars_data as t1 join car_names as t2 on t1.id = t2.makeid where t2.make = 'amc hornet sportabout (sw)';\")"
      ]
     },
     "execution_count": 653,
     "metadata": {},
     "output_type": "execute_result"
    }
   ],
   "source": [
    "ex_id = 111\n",
    "a_ex_id = 0\n",
    "\n",
    "ex = processed_spider_dev[ex_id]\n",
    "ex['text_in'], \\\n",
    "ex['struct_in'], \\\n",
    "ex['seq_out']"
   ]
  },
  {
   "cell_type": "code",
   "execution_count": 654,
   "metadata": {},
   "outputs": [],
   "source": [
    "a_ex_list = ctu.create_analysis_sample_dicts(\n",
    "                mt_uskg, ex,\n",
    "                subject_type='column',\n",
    "                remove_struct_duplicate_nodes=True)"
   ]
  },
  {
   "cell_type": "code",
   "execution_count": 758,
   "metadata": {},
   "outputs": [],
   "source": [
    "enc_sentence = a_ex['enc_sentence']\n",
    "dec_prompt = a_ex['dec_prompt']\n",
    "expect = a_ex['expect']\n",
    "answer = result['answer']\n",
    "answers_t = result['answers_t']\n",
    "\n",
    "text_range = a_ex['text_range']\n",
    "struct_range = a_ex['struct_range']\n",
    "\n",
    "self_ranges = a_ex['self_ranges']\n",
    "struct_context_ranges = a_ex['context_ranges']"
   ]
  },
  {
   "cell_type": "code",
   "execution_count": 655,
   "metadata": {},
   "outputs": [],
   "source": [
    "inp = ctu.make_inputs_t5(\n",
    "    mt_uskg.tokenizer,\n",
    "    [enc_sentence] * 2,\n",
    "    [dec_prompt] * 2,\n",
    "    answer=expect)"
   ]
  },
  {
   "cell_type": "code",
   "execution_count": 656,
   "metadata": {},
   "outputs": [],
   "source": [
    "from util import nethook"
   ]
  },
  {
   "cell_type": "code",
   "execution_count": 659,
   "metadata": {},
   "outputs": [],
   "source": [
    "with torch.no_grad(), nethook.TraceDict(\n",
    "    mt_uskg.model,\n",
    "    [ctu.layername_uskg(mt_uskg.model, \"encoder\", l) for l in [0, 12, 23]]\n",
    ") as td:\n",
    "    outputs_exp = ctu.run_model_forward_uskg(mt_uskg.model, **inp)"
   ]
  },
  {
   "cell_type": "code",
   "execution_count": 660,
   "metadata": {},
   "outputs": [
    {
     "data": {
      "text/plain": [
       "odict_keys(['pretrain_model.encoder.block.0', 'pretrain_model.encoder.block.12', 'pretrain_model.encoder.block.23'])"
      ]
     },
     "execution_count": 660,
     "metadata": {},
     "output_type": "execute_result"
    }
   ],
   "source": [
    "td.keys()"
   ]
  },
  {
   "cell_type": "code",
   "execution_count": 665,
   "metadata": {},
   "outputs": [
    {
     "data": {
      "text/plain": [
       "(torch.Size([2, 183, 1024]), torch.Size([2, 16, 183, 193]))"
      ]
     },
     "execution_count": 665,
     "metadata": {},
     "output_type": "execute_result"
    }
   ],
   "source": [
    "hidden, attn = td['pretrain_model.encoder.block.23'].output\n",
    "hidden.size(), attn.size()"
   ]
  },
  {
   "cell_type": "code",
   "execution_count": 666,
   "metadata": {},
   "outputs": [
    {
     "data": {
      "text/plain": [
       "tensor([[ 431.2646,   22.2026,  -46.9836,  ...,  236.4605, -101.4929,\n",
       "          -13.4173],\n",
       "        [ 680.9009, -155.7530,   -3.9374,  ...,  357.9876,  -74.5153,\n",
       "         -248.9389],\n",
       "        [ 726.4300,  -97.9734,   82.3419,  ...,  280.2939,  -92.4423,\n",
       "         -208.4543],\n",
       "        ...,\n",
       "        [ -12.3197,  -82.2136,  -86.8491,  ...,  343.5234,   46.3294,\n",
       "          -30.3550],\n",
       "        [ 430.2145,  197.3166, -176.3856,  ...,  235.9048,  -84.3116,\n",
       "         -104.0558],\n",
       "        [ 935.1066,  134.0760,   52.9306,  ...,  -17.0239,  -42.8478,\n",
       "          -13.8100]], device='cuda:0')"
      ]
     },
     "execution_count": 666,
     "metadata": {},
     "output_type": "execute_result"
    }
   ],
   "source": [
    "hidden[0]"
   ]
  },
  {
   "cell_type": "code",
   "execution_count": 673,
   "metadata": {},
   "outputs": [
    {
     "data": {
      "text/plain": [
       "((tensor(3933.3369, device='cuda:0'), tensor(-22.5662, device='cuda:0')),\n",
       " (tensor(120171.7969, device='cuda:0'), tensor(38477.7578, device='cuda:0')))"
      ]
     },
     "execution_count": 673,
     "metadata": {},
     "output_type": "execute_result"
    }
   ],
   "source": [
    "torch.std_mean(hidden[0]), torch.std_mean(torch.norm(hidden[0], dim=-1))"
   ]
  },
  {
   "cell_type": "code",
   "execution_count": 685,
   "metadata": {
    "scrolled": true
   },
   "outputs": [
    {
     "data": {
      "text/plain": [
       "[(124030.015625, 28),\n",
       " (145044.171875, 40),\n",
       " (199170.0625, 50),\n",
       " (409527.75, 164),\n",
       " (489051.65625, 143),\n",
       " (592587.4375, 135),\n",
       " (672203.0, 78),\n",
       " (684664.5625, 170),\n",
       " (685764.875, 74),\n",
       " (766906.25, 54)]"
      ]
     },
     "execution_count": 685,
     "metadata": {},
     "output_type": "execute_result"
    }
   ],
   "source": [
    "sorted_norms = sorted((dist, i) for i, dist in enumerate(torch.norm(hidden[0], dim=-1).cpu().tolist()))\n",
    "sorted_norms[-10:]"
   ]
  },
  {
   "cell_type": "code",
   "execution_count": 683,
   "metadata": {},
   "outputs": [
    {
     "name": "stdout",
     "output_type": "stream",
     "text": [
      "183 ['▁What', '▁is', '▁the', '▁accelerate', '▁of', '▁the', '▁car', '▁make', '▁am', 'c', '▁', 'horn', 'e', 't', '▁sport', 'about', '▁(', 's', 'w', ')', '?', ';', '▁', 'struct', 'e', 'd', '▁knowledge', ':', '▁|', '▁car', '_', '1', '▁|', '▁continent', 's', '▁', ':', '▁cont', 'i', 'd', '▁', ',', '▁continent', '▁|', '▁countries', '▁', ':', '▁country', 'i', 'd', '▁', ',', '▁country', 'name', '▁', ',', '▁continent', '▁|', '▁car', '_', 'makers', '▁', ':', '▁', 'i', 'd', '▁', ',', '▁maker', '▁(', '▁am', 'c', '▁', ')', '▁', ',', '▁full', 'name', '▁', ',', '▁country', '▁|', '▁model', '_', 'list', '▁', ':', '▁model', 'i', 'd', '▁', ',', '▁maker', '▁', ',', '▁model', '▁(', '▁am', 'c', '▁', ')', '▁|', '▁car', '_', 'name', 's', '▁', ':', '▁make', 'i', 'd', '▁', ',', '▁model', '▁(', '▁am', 'c', '▁', ')', '▁', ',', '▁make', '▁(', '▁am', 'c', '▁', 'horn', 'e', 't', '▁', ',', '▁am', 'c', '▁', 'horn', 'e', 't', '▁sport', 'about', '▁(', 's', 'w', ')', '▁', ')', '▁|', '▁cars', '_', 'data', '▁', ':', '▁', 'i', 'd', '▁', ',', '▁', 'mp', 'g', '▁', ',', '▁', 'cylinder', 's', '▁', ',', '▁', 'e', 'disp', 'l', '▁', ',', '▁horsepower', '▁', ',', '▁weight', '▁', ',', '▁accelerate', '▁', ',', '▁year', '</s>']\n"
     ]
    }
   ],
   "source": [
    "tokenized_input = mt_uskg.tokenizer.tokenize(enc_sentence, add_special_tokens=True)\n",
    "print(len(tokenized_input), tokenized_input)"
   ]
  },
  {
   "cell_type": "code",
   "execution_count": 686,
   "metadata": {},
   "outputs": [
    {
     "name": "stdout",
     "output_type": "stream",
     "text": [
      "[':', ';', '▁', '▁', '▁', '▁', '</s>', 's', '▁', '_', '▁|', '▁', '▁', '▁', '▁', 'e', '▁', '▁', '▁', '▁']\n"
     ]
    }
   ],
   "source": [
    "print([tokenized_input[i] for _, i in sorted_norms[-20:]])"
   ]
  },
  {
   "cell_type": "code",
   "execution_count": null,
   "metadata": {},
   "outputs": [],
   "source": [
    "# hidden[0, ::10, ::100]"
   ]
  },
  {
   "cell_type": "markdown",
   "metadata": {},
   "source": [
    "#### Edit output"
   ]
  },
  {
   "cell_type": "code",
   "execution_count": 726,
   "metadata": {},
   "outputs": [],
   "source": [
    "def untuple(x):\n",
    "    return x[0] if isinstance(x, tuple) else x\n",
    "\n",
    "def patch_rep(x, layer):\n",
    "    h = untuple(x)\n",
    "    if layer in corrupt_spec:\n",
    "        toks_to_mix = corrupt_spec[layer]\n",
    "        if toks_to_mix:\n",
    "            mix_len = len(toks_to_mix)\n",
    "#             noise_data = noise_fn(\n",
    "#                 torch.from_numpy(prng(h.shape[0] - 1, mix_len, h.shape[2]))\n",
    "#             ).to(device=h.device, dtype=h.dtype)\n",
    "#             if replace:\n",
    "#                 h[1:, toks_to_mix] = noise_data\n",
    "#             else:\n",
    "#                 h[1:, toks_to_mix] += noise_data\n",
    "            h[1:, toks_to_mix] = 0\n",
    "\n",
    "#     # If this layer is in the patch_spec, restore the uncorrupted hidden state\n",
    "#     # for selected tokens.\n",
    "#     toks_to_patch = patch_spec.get(layer, [])\n",
    "#     toks_to_unpatch = unpatch_spec.get(layer, [])\n",
    "\n",
    "#     for t in toks_to_patch:\n",
    "#         h[1:, t] = h[0, t]\n",
    "#     for t in toks_to_unpatch:\n",
    "#         h[1:, t] = untuple(first_pass_trace[layer].output)[1:, t]\n",
    "    return x"
   ]
  },
  {
   "cell_type": "code",
   "execution_count": 759,
   "metadata": {},
   "outputs": [
    {
     "data": {
      "text/plain": [
       "(0, 21)"
      ]
     },
     "execution_count": 759,
     "metadata": {},
     "output_type": "execute_result"
    }
   ],
   "source": [
    "text_range"
   ]
  },
  {
   "cell_type": "code",
   "execution_count": 771,
   "metadata": {},
   "outputs": [],
   "source": [
    "# corrupt_spec = {ctu.layername_uskg(mt_uskg.model, \"encoder\", 0, \"embed\") : list(range(*text_range))}\n",
    "corrupt_spec = {ctu.layername_uskg(mt_uskg.model, \"encoder\", 23) : list(range(*text_range))}\n",
    "\n",
    "hook_layers = [ctu.layername_uskg(mt_uskg.model, \"encoder\", l) for l in [0, 12, 23]] + \\\n",
    "    [ctu.layername_uskg(mt_uskg.model, \"encoder\", 0, \"embed\")]\n",
    "\n",
    "with torch.no_grad(), nethook.TraceDict(\n",
    "    mt_uskg.model,\n",
    "    layers=hook_layers,\n",
    "    edit_output=patch_rep,\n",
    ") as td:\n",
    "    outputs_exp = ctu.run_model_forward_uskg(mt_uskg.model, **inp)"
   ]
  },
  {
   "cell_type": "code",
   "execution_count": 772,
   "metadata": {},
   "outputs": [
    {
     "data": {
      "text/plain": [
       "(torch.Size([2, 183, 1024]), torch.Size([2, 16, 183, 193]))"
      ]
     },
     "execution_count": 772,
     "metadata": {},
     "output_type": "execute_result"
    }
   ],
   "source": [
    "hidden, attn = td['pretrain_model.encoder.block.0'].output\n",
    "hidden.size(), attn.size()"
   ]
  },
  {
   "cell_type": "code",
   "execution_count": 773,
   "metadata": {},
   "outputs": [
    {
     "data": {
      "text/plain": [
       "(tensor([[ -0.2820,  -0.0777, -10.0541,  ...,  18.3919,  19.2083,   4.6788],\n",
       "         [  2.3624,  -4.3468,   2.1581,  ...,   0.8777,  -2.4387,   1.6466],\n",
       "         [ -0.4869,   5.1502,   1.1220,  ...,   9.9191,  -7.7408,  -6.1049],\n",
       "         ...,\n",
       "         [  7.9017,  -2.7019, -14.2257,  ...,   6.8594,  -0.4216,   0.3843],\n",
       "         [ -2.5844,  13.8755,   1.1908,  ...,   1.7322,  -7.5010,   6.5653],\n",
       "         [ 19.2494, -10.1652,   1.5651,  ...,   9.0200,  13.4675,  31.8201]],\n",
       "        device='cuda:0'),\n",
       " tensor([[ -0.2820,  -0.0777, -10.0541,  ...,  18.3919,  19.2083,   4.6788],\n",
       "         [  2.3624,  -4.3468,   2.1581,  ...,   0.8777,  -2.4387,   1.6466],\n",
       "         [ -0.4869,   5.1502,   1.1220,  ...,   9.9191,  -7.7408,  -6.1049],\n",
       "         ...,\n",
       "         [  7.9017,  -2.7019, -14.2257,  ...,   6.8594,  -0.4216,   0.3843],\n",
       "         [ -2.5844,  13.8755,   1.1908,  ...,   1.7322,  -7.5010,   6.5653],\n",
       "         [ 19.2494, -10.1652,   1.5651,  ...,   9.0200,  13.4675,  31.8201]],\n",
       "        device='cuda:0'))"
      ]
     },
     "execution_count": 773,
     "metadata": {},
     "output_type": "execute_result"
    }
   ],
   "source": [
    "hidden[0], hidden[1]"
   ]
  },
  {
   "cell_type": "code",
   "execution_count": null,
   "metadata": {},
   "outputs": [],
   "source": [
    "hidden, attn = td['pretrain_model.encoder.block.12'].output\n",
    "hidden[0], hidden[1]"
   ]
  },
  {
   "cell_type": "code",
   "execution_count": 774,
   "metadata": {},
   "outputs": [
    {
     "data": {
      "text/plain": [
       "(tensor([[ 431.2646,   22.2026,  -46.9836,  ...,  236.4605, -101.4929,\n",
       "           -13.4173],\n",
       "         [ 680.9009, -155.7530,   -3.9374,  ...,  357.9876,  -74.5153,\n",
       "          -248.9389],\n",
       "         [ 726.4300,  -97.9734,   82.3419,  ...,  280.2939,  -92.4423,\n",
       "          -208.4543],\n",
       "         ...,\n",
       "         [ -12.3197,  -82.2136,  -86.8491,  ...,  343.5234,   46.3294,\n",
       "           -30.3550],\n",
       "         [ 430.2145,  197.3166, -176.3856,  ...,  235.9048,  -84.3116,\n",
       "          -104.0558],\n",
       "         [ 935.1066,  134.0760,   52.9306,  ...,  -17.0239,  -42.8478,\n",
       "           -13.8100]], device='cuda:0'),\n",
       " tensor([[   0.0000,    0.0000,    0.0000,  ...,    0.0000,    0.0000,\n",
       "             0.0000],\n",
       "         [   0.0000,    0.0000,    0.0000,  ...,    0.0000,    0.0000,\n",
       "             0.0000],\n",
       "         [   0.0000,    0.0000,    0.0000,  ...,    0.0000,    0.0000,\n",
       "             0.0000],\n",
       "         ...,\n",
       "         [ -12.3197,  -82.2136,  -86.8491,  ...,  343.5234,   46.3294,\n",
       "           -30.3550],\n",
       "         [ 430.2145,  197.3166, -176.3856,  ...,  235.9048,  -84.3116,\n",
       "          -104.0558],\n",
       "         [ 935.1066,  134.0760,   52.9306,  ...,  -17.0239,  -42.8478,\n",
       "           -13.8100]], device='cuda:0'))"
      ]
     },
     "execution_count": 774,
     "metadata": {},
     "output_type": "execute_result"
    }
   ],
   "source": [
    "hidden, attn = td['pretrain_model.encoder.block.23'].output\n",
    "hidden[0], hidden[1]"
   ]
  },
  {
   "cell_type": "code",
   "execution_count": 775,
   "metadata": {},
   "outputs": [
    {
     "data": {
      "text/plain": [
       "((tensor(3933.3369, device='cuda:0'), tensor(-22.5662, device='cuda:0')),\n",
       " (tensor(3931.8728, device='cuda:0'), tensor(-22.0143, device='cuda:0')))"
      ]
     },
     "execution_count": 775,
     "metadata": {},
     "output_type": "execute_result"
    }
   ],
   "source": [
    "torch.std_mean(hidden[0]), torch.std_mean(hidden[1])"
   ]
  },
  {
   "cell_type": "code",
   "execution_count": 776,
   "metadata": {},
   "outputs": [
    {
     "data": {
      "text/plain": [
       "torch.Size([2, 1, 32102])"
      ]
     },
     "execution_count": 776,
     "metadata": {},
     "output_type": "execute_result"
    }
   ],
   "source": [
    "probs = torch.softmax(outputs_exp.logits[:, -len(answers_t):, :], dim=-1)\n",
    "probs.size()"
   ]
  },
  {
   "cell_type": "code",
   "execution_count": 777,
   "metadata": {},
   "outputs": [
    {
     "data": {
      "text/plain": [
       "[(0.9999758005142212, 6004),\n",
       " (1.38331379275769e-05, 9),\n",
       " (7.489517884096131e-06, 30819),\n",
       " (1.270908683181915e-06, 20246),\n",
       " (5.996853360556997e-07, 21007),\n",
       " (4.935201332045835e-07, 26389),\n",
       " (1.2063669885264972e-07, 11584),\n",
       " (1.1599770033399182e-07, 6500),\n",
       " (1.004895580081211e-07, 291),\n",
       " (3.185817476492048e-08, 12497)]"
      ]
     },
     "execution_count": 777,
     "metadata": {},
     "output_type": "execute_result"
    }
   ],
   "source": [
    "sorted_probs = sorted([(p, i) for i, p in enumerate(probs[0, 0].cpu().tolist())], reverse=True)\n",
    "sorted_probs[:10]"
   ]
  },
  {
   "cell_type": "code",
   "execution_count": 778,
   "metadata": {},
   "outputs": [
    {
     "name": "stdout",
     "output_type": "stream",
     "text": [
      "['acc', 'a', 'accelerating', 'inclin', 'acco', 'accelerated', 'fast', 'assi', 'ar', 'appro']\n"
     ]
    }
   ],
   "source": [
    "print(ctu.decode_tokens(mt_uskg.tokenizer, [i for p, i in sorted_probs[:10]]))"
   ]
  },
  {
   "cell_type": "code",
   "execution_count": 779,
   "metadata": {},
   "outputs": [
    {
     "data": {
      "text/plain": [
       "[(0.8888899087905884, 6004),\n",
       " (0.10935894399881363, 9),\n",
       " (0.0005981624126434326, 30819),\n",
       " (0.0003909562074113637, 21007),\n",
       " (0.0002998432901222259, 9993),\n",
       " (8.253266423707828e-05, 291),\n",
       " (7.506454858230427e-05, 144),\n",
       " (5.3470714192371815e-05, 8010),\n",
       " (5.256106669548899e-05, 11584),\n",
       " (4.682378130382858e-05, 23)]"
      ]
     },
     "execution_count": 779,
     "metadata": {},
     "output_type": "execute_result"
    }
   ],
   "source": [
    "sorted_probs = sorted([(p, i) for i, p in enumerate(probs[1, 0].cpu().tolist())], reverse=True)\n",
    "sorted_probs[:10]"
   ]
  },
  {
   "cell_type": "code",
   "execution_count": 780,
   "metadata": {},
   "outputs": [
    {
     "name": "stdout",
     "output_type": "stream",
     "text": [
      "['acc', 'a', 'accelerating', 'acco', 'speed', 'ar', 'at', 'auto', 'fast', 'i']\n"
     ]
    }
   ],
   "source": [
    "print(ctu.decode_tokens(mt_uskg.tokenizer, [i for p, i in sorted_probs[:10]]))"
   ]
  },
  {
   "cell_type": "code",
   "execution_count": null,
   "metadata": {},
   "outputs": [],
   "source": []
  },
  {
   "cell_type": "markdown",
   "metadata": {},
   "source": [
    "## 2D visualization"
   ]
  },
  {
   "cell_type": "code",
   "execution_count": 69,
   "metadata": {},
   "outputs": [
    {
     "data": {
      "image/png": "[encoded data removed]",
      "text/plain": [
       "<Figure size 432x288 with 1 Axes>"
      ]
     },
     "metadata": {
      "needs_background": "light"
     },
     "output_type": "display_data"
    }
   ],
   "source": [
    "# Example data\n",
    "vectors = [np.random.randn(10) * 0.1 + (i % 2) * 3 for i in range(10)]\n",
    "names = [f'p{i}' for i in range(len(vectors))]\n",
    "\n",
    "# Convert data to numpy array\n",
    "vectors = np.array(vectors)\n",
    "\n",
    "# Apply t-SNE for dimensionality reduction\n",
    "# tsne = TSNE(n_components=2, random_state=42)\n",
    "# vectors_tsne = tsne.fit_transform(vectors)\n",
    "\n",
    "pca = PCA(n_components=2)\n",
    "vectors_2d = pca.fit_transform(vectors)\n",
    "\n",
    "_scalar = np.max(np.abs(vectors_2d)) + 1e-9\n",
    "vectors_2d /= _scalar\n",
    "\n",
    "# Create the scatter plot\n",
    "plt.scatter(vectors_2d[:, 0], vectors_2d[:, 1])\n",
    "\n",
    "# Add labels for each point\n",
    "for i, name in enumerate(names):\n",
    "    plt.annotate(name, (vectors_2d[i, 0], vectors_2d[i, 1]))\n",
    "\n",
    "# Show the plot\n",
    "plt.xlim(-1, 1)\n",
    "plt.ylim(-1, 1)\n",
    "plt.show()\n"
   ]
  },
  {
   "cell_type": "code",
   "execution_count": null,
   "metadata": {},
   "outputs": [],
   "source": [
    "vectors"
   ]
  },
  {
   "cell_type": "code",
   "execution_count": null,
   "metadata": {},
   "outputs": [],
   "source": [
    "vectors_2d, _scalar"
   ]
  },
  {
   "cell_type": "markdown",
   "metadata": {},
   "source": [
    "### Actual inspection \n",
    "- For now, using the first tok representation for each node"
   ]
  },
  {
   "cell_type": "code",
   "execution_count": 74,
   "metadata": {},
   "outputs": [
    {
     "data": {
      "text/plain": [
       "('What is the accelerate of the car make amc hornet sportabout (sw)?',\n",
       " '| car_1 | continents : contid , continent | countries : countryid , countryname , continent | car_makers : id , maker ( amc ) , fullname , country | model_list : modelid , maker , model ( amc ) | car_names : makeid , model ( amc ) , make ( amc hornet , amc hornet sportabout (sw) ) | cars_data : id , mpg , cylinders , edispl , horsepower , weight , accelerate , year',\n",
       " \"select t1.accelerate from cars_data as t1 join car_names as t2 on t1.id = t2.makeid where t2.make = 'amc hornet sportabout (sw)';\")"
      ]
     },
     "execution_count": 74,
     "metadata": {},
     "output_type": "execute_result"
    }
   ],
   "source": [
    "ex_id = 111\n",
    "a_ex_id = 0\n",
    "\n",
    "ex = processed_spider_dev[ex_id]\n",
    "ex['text_in'], \\\n",
    "ex['struct_in'], \\\n",
    "ex['seq_out']"
   ]
  },
  {
   "cell_type": "code",
   "execution_count": 84,
   "metadata": {},
   "outputs": [],
   "source": [
    "a_ex_col_list = ctu.create_analysis_sample_dicts(\n",
    "                    mt_uskg, ex,\n",
    "                    subject_type='column',\n",
    "                    remove_struct_duplicate_nodes=True)\n",
    "a_ex_tab_list = ctu.create_analysis_sample_dicts(\n",
    "                    mt_uskg, ex,\n",
    "                    subject_type='table',\n",
    "                    remove_struct_duplicate_nodes=True)\n",
    "a_ex_list = a_ex_col_list + a_ex_tab_list"
   ]
  },
  {
   "cell_type": "code",
   "execution_count": 85,
   "metadata": {},
   "outputs": [],
   "source": [
    "a_ex = a_ex_list[0]"
   ]
  },
  {
   "cell_type": "code",
   "execution_count": 86,
   "metadata": {},
   "outputs": [
    {
     "data": {
      "text/plain": [
       "dict_keys(['query', 'question', 'db_id', 'db_path', 'db_table_names', 'db_column_names', 'db_column_types', 'db_primary_keys', 'db_foreign_keys', 'rat_sql_graph', 'serialized_schema', 'struct_in', 'text_in', 'seq_out', 'enc_sentence', 'enc_tokenized', 'text_range', 'struct_range', 'struct_node_ranges_dict', 'dec_prompt', 'expect', 'expect_type', 'remove_struct_duplicate_nodes', 'parsed_struct_in', 'col2table', 'token_ranges_dict', 'node_name_ranges', 'expect_input_ranges', 'alias2table', 'self_ranges', 'context_ranges', 'category'])"
      ]
     },
     "execution_count": 86,
     "metadata": {},
     "output_type": "execute_result"
    }
   ],
   "source": [
    "a_ex.keys()"
   ]
  },
  {
   "cell_type": "code",
   "execution_count": 100,
   "metadata": {},
   "outputs": [
    {
     "data": {
      "text/plain": [
       "[(178, 179)]"
      ]
     },
     "execution_count": 100,
     "metadata": {},
     "output_type": "execute_result"
    }
   ],
   "source": [
    "a_ex['expect_input_ranges']"
   ]
  },
  {
   "cell_type": "code",
   "execution_count": 96,
   "metadata": {},
   "outputs": [
    {
     "data": {
      "text/plain": [
       "\"select t1.accelerate from cars_data as t1 join car_names as t2 on t1.id = t2.makeid where t2.make = 'amc hornet sportabout (sw)';\""
      ]
     },
     "execution_count": 96,
     "metadata": {},
     "output_type": "execute_result"
    }
   ],
   "source": [
    "a_ex['seq_out']"
   ]
  },
  {
   "cell_type": "code",
   "execution_count": 89,
   "metadata": {},
   "outputs": [
    {
     "data": {
      "text/plain": [
       "(['accelerate', 'makeid', 'make'], ['cars_data', 'car_names'])"
      ]
     },
     "execution_count": 89,
     "metadata": {},
     "output_type": "execute_result"
    }
   ],
   "source": [
    "occ_cols = [d['expect'] for d in a_ex_col_list]\n",
    "occ_tabs = [d['expect'] for d in a_ex_tab_list]\n",
    "occ_cols, occ_tabs"
   ]
  },
  {
   "cell_type": "code",
   "execution_count": 93,
   "metadata": {},
   "outputs": [
    {
     "data": {
      "text/plain": [
       "(['contid',\n",
       "  'countryid',\n",
       "  'countryname',\n",
       "  'fullname',\n",
       "  'country',\n",
       "  'modelid',\n",
       "  'mpg',\n",
       "  'cylinders',\n",
       "  'edispl',\n",
       "  'horsepower',\n",
       "  'weight',\n",
       "  'year'],\n",
       " ['continents', 'countries', 'car_makers', 'model_list'])"
      ]
     },
     "execution_count": 93,
     "metadata": {},
     "output_type": "execute_result"
    }
   ],
   "source": [
    "col_name_ranges = a_ex['struct_node_ranges_dict']['col_name_ranges']\n",
    "table_name_ranges = a_ex['struct_node_ranges_dict']['table_name_ranges']\n",
    "\n",
    "non_occ_cols = [col for col in col_name_ranges\n",
    "                    if (col not in occ_cols) and (len(col_name_ranges[col]) == 1)]\n",
    "non_occ_tabs = [tab for tab in table_name_ranges\n",
    "                    if (tab not in occ_tabs) and (len(table_name_ranges[tab]) == 1)]\n",
    "non_occ_cols, non_occ_tabs"
   ]
  },
  {
   "cell_type": "code",
   "execution_count": 99,
   "metadata": {
    "scrolled": true
   },
   "outputs": [
    {
     "data": {
      "text/plain": [
       "{'db_id_ranges': defaultdict(list, {'car_1': [(29, 32)]}),\n",
       " 'table_name_ranges': defaultdict(list,\n",
       "             {'continents': [(33, 35)],\n",
       "              'countries': [(44, 45)],\n",
       "              'car_makers': [(58, 61)],\n",
       "              'model_list': [(82, 85)],\n",
       "              'car_names': [(102, 106)],\n",
       "              'cars_data': [(146, 149)]}),\n",
       " 'col_name_ranges': defaultdict(list,\n",
       "             {'contid': [(37, 40)],\n",
       "              'continent': [(42, 43), (56, 57)],\n",
       "              'countryid': [(47, 50)],\n",
       "              'countryname': [(52, 54)],\n",
       "              'id': [(63, 66), (151, 154)],\n",
       "              'maker': [(68, 74), (92, 93)],\n",
       "              'fullname': [(76, 78)],\n",
       "              'country': [(80, 81)],\n",
       "              'modelid': [(87, 90)],\n",
       "              'model': [(95, 101), (113, 119)],\n",
       "              'makeid': [(108, 111)],\n",
       "              'make': [(121, 145)],\n",
       "              'mpg': [(156, 159)],\n",
       "              'cylinders': [(161, 164)],\n",
       "              'edispl': [(166, 170)],\n",
       "              'horsepower': [(172, 173)],\n",
       "              'weight': [(175, 176)],\n",
       "              'accelerate': [(178, 179)],\n",
       "              'year': [(181, 182)]}),\n",
       " 'val_name_ranges': defaultdict(list,\n",
       "             {'amc': [(70, 72), (97, 99), (115, 117)],\n",
       "              'amc hornet': [(123, 129)],\n",
       "              'amc hornet sportabout (sw)': [(131, 143)]})}"
      ]
     },
     "execution_count": 99,
     "metadata": {},
     "output_type": "execute_result"
    }
   ],
   "source": [
    "a_ex['token_ranges_dict']"
   ]
  },
  {
   "cell_type": "code",
   "execution_count": 128,
   "metadata": {},
   "outputs": [],
   "source": [
    "# Dict[tok_id, part(enc/dec), name]\n",
    "trace_positions = []\n",
    "\n",
    "random.seed(42)\n",
    "\n",
    "_occ_cols = random.sample(a_ex_col_list, k=2)\n",
    "\n",
    "for d in _occ_cols:\n",
    "    col = d['expect']\n",
    "    assert len(d['expect_input_ranges']) == 1, d['expect_input_ranges']\n",
    "    col_range = d['expect_input_ranges'][0]\n",
    "    dec_prompt = d['dec_prompt']\n",
    "    dec_prompt_len = len(mt_uskg.tokenizer.tokenize(dec_prompt, add_special_tokens=False))\n",
    "    \n",
    "    trace_positions.append({\n",
    "        'tok_id': col_range[0],  # first tok \n",
    "        'part': 'encoder',\n",
    "        'name': f'ENC-Y-COL::{col}',\n",
    "    })\n",
    "    trace_positions.append({\n",
    "        'tok_id': dec_prompt_len,  # dec_prompt pos in dec seq \n",
    "        'part': 'decoder',\n",
    "        'name': f'DEC-COL::{col}',\n",
    "    })\n",
    "\n",
    "_non_occ_cols = random.sample(non_occ_cols, k=2)\n",
    "\n",
    "for col in _non_occ_cols:\n",
    "    col_ranges = d['token_ranges_dict']['col_name_ranges'][col]\n",
    "    assert len(col_ranges) == 1, (col, col_ranges)\n",
    "    col_range = col_ranges[0]\n",
    "    \n",
    "    trace_positions.append({\n",
    "        'tok_id': col_range[0],  # first tok \n",
    "        'part': 'encoder',\n",
    "        'name': f'ENC-N-COL::{col}',\n",
    "    })\n",
    "\n",
    "## TODO: tables \n"
   ]
  },
  {
   "cell_type": "code",
   "execution_count": 129,
   "metadata": {
    "scrolled": true
   },
   "outputs": [
    {
     "data": {
      "text/plain": [
       "[{'tok_id': 121, 'part': 'encoder', 'name': 'ENC-Y-COL::make'},\n",
       " {'tok_id': 41, 'part': 'decoder', 'name': 'DEC-COL::make'},\n",
       " {'tok_id': 178, 'part': 'encoder', 'name': 'ENC-Y-COL::accelerate'},\n",
       " {'tok_id': 4, 'part': 'decoder', 'name': 'DEC-COL::accelerate'},\n",
       " {'tok_id': 37, 'part': 'encoder', 'name': 'ENC-N-COL::contid'},\n",
       " {'tok_id': 80, 'part': 'encoder', 'name': 'ENC-N-COL::country'}]"
      ]
     },
     "execution_count": 129,
     "metadata": {},
     "output_type": "execute_result"
    }
   ],
   "source": [
    "trace_positions"
   ]
  },
  {
   "cell_type": "code",
   "execution_count": 106,
   "metadata": {},
   "outputs": [
    {
     "name": "stdout",
     "output_type": "stream",
     "text": [
      "['▁select', '▁', 't', '1.', 'acc', 'ele', 'rate', '▁from', '▁cars', '_', 'data', '▁as', '▁', 't', '1', '▁join', '▁car', '_', 'name', 's', '▁as', '▁', 't', '2', '▁on', '▁', 't', '1.', 'i', 'd', '▁=', '▁', 't', '2.', 'make', 'i', 'd', '▁where', '▁', 't', '2.', 'make', '▁=', '▁', \"'\", 'am', 'c', '▁', 'horn', 'e', 't', '▁sport', 'about', '▁(', 's', 'w', ')', \"'\", ';']\n"
     ]
    }
   ],
   "source": [
    "print(mt_uskg.tokenizer.tokenize(a_ex['seq_out'], add_special_tokens=False))"
   ]
  },
  {
   "cell_type": "code",
   "execution_count": 122,
   "metadata": {},
   "outputs": [],
   "source": [
    "enc_sentence = a_ex['enc_sentence']\n",
    "\n",
    "seq_out = a_ex['seq_out']  ## Use the full decoder input \n",
    "\n",
    "# expect = a_ex['expect']\n",
    "expect = '</s>'\n",
    "\n",
    "bsz = 2\n",
    "\n",
    "inp = ctu.make_inputs_t5(\n",
    "    mt_uskg.tokenizer,\n",
    "    [enc_sentence] * bsz,\n",
    "    [seq_out] * bsz,\n",
    "    answer=expect)"
   ]
  },
  {
   "cell_type": "code",
   "execution_count": 148,
   "metadata": {},
   "outputs": [
    {
     "data": {
      "text/plain": [
       "torch.Size([2, 183])"
      ]
     },
     "execution_count": 148,
     "metadata": {},
     "output_type": "execute_result"
    }
   ],
   "source": [
    "inp['input_ids'].size()"
   ]
  },
  {
   "cell_type": "code",
   "execution_count": 185,
   "metadata": {},
   "outputs": [],
   "source": [
    "part2kinds = {\n",
    "    'encoder': ['self_attn', 'mlp'],\n",
    "    'decoder': ['self_attn', 'cross_attn', 'mlp'],\n",
    "}\n",
    "\n",
    "kind2projs = {\n",
    "    'self_attn': ['.q', '.k', '.v', '.o', ''],\n",
    "    'cross_attn': ['.q', '.k', '.v', '.o', ''],\n",
    "    'mlp': [''],\n",
    "}\n",
    "\n",
    "kind2abbr = {\n",
    "    'self_attn': 'SA',\n",
    "    'cross_attn': 'XA',\n",
    "    'mlp': 'MLP',\n",
    "}"
   ]
  },
  {
   "cell_type": "code",
   "execution_count": 168,
   "metadata": {},
   "outputs": [],
   "source": [
    "inspect_layer_ids = [0, 4, 8, 12, 16, 20, 23]\n",
    "\n",
    "enc_inspect_layers = [ctu.layername_uskg(mt_uskg.model, 'encoder', l, kind) + proj\n",
    "                      for l in inspect_layer_ids\n",
    "                      for kind in part2kinds['encoder']\n",
    "                      for proj in kind2projs[kind]] + \\\n",
    "                    ['control_trans_enc']\n",
    "\n",
    "dec_inspect_layers = [ctu.layername_uskg(mt_uskg.model, 'decoder', l, kind) + proj\n",
    "                      for l in inspect_layer_ids\n",
    "                      for kind in part2kinds['decoder']\n",
    "                      for proj in kind2projs[kind]] + \\\n",
    "                    ['control_trans', 'control_trans_dec']\n",
    "\n",
    "inspect_layers = enc_inspect_layers + dec_inspect_layers\n",
    "\n",
    "with torch.no_grad(), nethook.TraceDict(\n",
    "    mt_uskg.model,\n",
    "    layers=inspect_layers,\n",
    "    edit_output=None,\n",
    ") as td:\n",
    "    outputs_exp = ctu.run_model_forward_uskg(mt_uskg.model, **inp)"
   ]
  },
  {
   "cell_type": "code",
   "execution_count": 170,
   "metadata": {},
   "outputs": [
    {
     "data": {
      "text/plain": [
       "['pretrain_model.decoder.block.20.layer.1.EncDecAttention',\n",
       " 'pretrain_model.decoder.block.23.layer.0.SelfAttention.q',\n",
       " 'pretrain_model.decoder.block.23.layer.0.SelfAttention.k',\n",
       " 'pretrain_model.decoder.block.23.layer.0.SelfAttention.v',\n",
       " 'pretrain_model.decoder.block.23.layer.0.SelfAttention.o',\n",
       " 'pretrain_model.decoder.block.23.layer.0.SelfAttention',\n",
       " 'pretrain_model.decoder.block.23.layer.1.EncDecAttention.q',\n",
       " 'pretrain_model.decoder.block.23.layer.1.EncDecAttention.k',\n",
       " 'pretrain_model.decoder.block.23.layer.1.EncDecAttention.v',\n",
       " 'pretrain_model.decoder.block.23.layer.1.EncDecAttention.o',\n",
       " 'pretrain_model.decoder.block.23.layer.1.EncDecAttention',\n",
       " 'pretrain_model.decoder.block.0.layer.2.DenseReluDense',\n",
       " 'pretrain_model.decoder.block.4.layer.2.DenseReluDense',\n",
       " 'pretrain_model.decoder.block.8.layer.2.DenseReluDense',\n",
       " 'pretrain_model.decoder.block.12.layer.2.DenseReluDense',\n",
       " 'pretrain_model.decoder.block.16.layer.2.DenseReluDense',\n",
       " 'pretrain_model.decoder.block.20.layer.2.DenseReluDense',\n",
       " 'pretrain_model.decoder.block.23.layer.2.DenseReluDense',\n",
       " 'control_trans',\n",
       " 'control_trans_dec']"
      ]
     },
     "execution_count": 170,
     "metadata": {},
     "output_type": "execute_result"
    }
   ],
   "source": [
    "# each object.output = hidden, attn_weights \n",
    "list(td.keys())[-20:]"
   ]
  },
  {
   "cell_type": "code",
   "execution_count": 173,
   "metadata": {
    "scrolled": true
   },
   "outputs": [
    {
     "data": {
      "text/plain": [
       "torch.Size([2, 10, 49152])"
      ]
     },
     "execution_count": 173,
     "metadata": {},
     "output_type": "execute_result"
    }
   ],
   "source": [
    "# _t = td['pretrain_model.encoder.block.8.layer.0.SelfAttention.v']\n",
    "_t = td['control_trans_enc']\n",
    "untuple(_t.output).size()\n",
    "# for _k, _t in td.items():\n",
    "#     print(_k, untuple(_t.output).size())"
   ]
  },
  {
   "cell_type": "code",
   "execution_count": 164,
   "metadata": {},
   "outputs": [
    {
     "data": {
      "text/plain": [
       "Linear(in_features=1024, out_features=1024, bias=False)"
      ]
     },
     "execution_count": 164,
     "metadata": {},
     "output_type": "execute_result"
    }
   ],
   "source": [
    "mt_uskg.model.pretrain_model.encoder.block[8].layer[0].SelfAttention.k"
   ]
  },
  {
   "cell_type": "code",
   "execution_count": null,
   "metadata": {
    "scrolled": true
   },
   "outputs": [],
   "source": [
    "mt_uskg.model.pretrain_model.config"
   ]
  },
  {
   "cell_type": "code",
   "execution_count": 182,
   "metadata": {
    "scrolled": true
   },
   "outputs": [
    {
     "data": {
      "text/plain": [
       "[torch.Size([2, 2, 10, 1024]),\n",
       " torch.Size([2, 2, 10, 1024]),\n",
       " torch.Size([2, 2, 10, 1024]),\n",
       " torch.Size([2, 2, 10, 1024]),\n",
       " torch.Size([2, 2, 10, 1024]),\n",
       " torch.Size([2, 2, 10, 1024]),\n",
       " torch.Size([2, 2, 10, 1024]),\n",
       " torch.Size([2, 2, 10, 1024]),\n",
       " torch.Size([2, 2, 10, 1024]),\n",
       " torch.Size([2, 2, 10, 1024]),\n",
       " torch.Size([2, 2, 10, 1024]),\n",
       " torch.Size([2, 2, 10, 1024]),\n",
       " torch.Size([2, 2, 10, 1024]),\n",
       " torch.Size([2, 2, 10, 1024]),\n",
       " torch.Size([2, 2, 10, 1024]),\n",
       " torch.Size([2, 2, 10, 1024]),\n",
       " torch.Size([2, 2, 10, 1024]),\n",
       " torch.Size([2, 2, 10, 1024]),\n",
       " torch.Size([2, 2, 10, 1024]),\n",
       " torch.Size([2, 2, 10, 1024]),\n",
       " torch.Size([2, 2, 10, 1024]),\n",
       " torch.Size([2, 2, 10, 1024]),\n",
       " torch.Size([2, 2, 10, 1024]),\n",
       " torch.Size([2, 2, 10, 1024])]"
      ]
     },
     "execution_count": 182,
     "metadata": {},
     "output_type": "execute_result"
    }
   ],
   "source": [
    "bsz = 2\n",
    "seqlen = mt_uskg.model.preseqlen\n",
    "match_n_layer = 24\n",
    "match_n_head = 16\n",
    "match_n_embd = 64\n",
    "\n",
    "past_key_values = untuple(td['control_trans_enc'].output)\n",
    "# past_key_values = past_key_values.view(bsz, seqlen, match_n_layer * 2, match_n_head, match_n_embd)\n",
    "# past_key_values = past_key_values.permute([2, 0, 3, 1, 4])\n",
    "past_key_values = past_key_values.view(bsz, seqlen, match_n_layer * 2, match_n_head * match_n_embd)\n",
    "past_key_values = past_key_values.permute([2, 0, 1, 3]).split(2)\n",
    "\n",
    "## (kv, bsz, prefix_len, n_head * d_kv)\n",
    "[t.size() for t in past_key_values]"
   ]
  },
  {
   "cell_type": "code",
   "execution_count": 239,
   "metadata": {},
   "outputs": [],
   "source": [
    "all_vectors = []\n",
    "all_names = []\n",
    "\n",
    "for l_id in inspect_layer_ids:\n",
    "    for trace_pos_d in trace_positions:\n",
    "        tok_id = trace_pos_d['tok_id']\n",
    "        part = trace_pos_d['part']\n",
    "        name = trace_pos_d['name']\n",
    "        \n",
    "        for kind in part2kinds[part]:\n",
    "            for proj in kind2projs[kind]:\n",
    "                layer_name = ctu.layername_uskg(mt_uskg.model, part, l_id, kind) + proj\n",
    "                layer_hidden = untuple(td[layer_name].output)\n",
    "                vec = layer_hidden[0, tok_id].cpu().numpy()\n",
    "\n",
    "                all_vectors.append(vec)\n",
    "                all_names.append(f'{name}::L{l_id}.{kind2abbr[kind]}{proj}')"
   ]
  },
  {
   "cell_type": "code",
   "execution_count": 240,
   "metadata": {},
   "outputs": [
    {
     "data": {
      "text/plain": [
       "(322, 322)"
      ]
     },
     "execution_count": 240,
     "metadata": {},
     "output_type": "execute_result"
    }
   ],
   "source": [
    "len(all_vectors), len(all_names)"
   ]
  },
  {
   "cell_type": "code",
   "execution_count": 241,
   "metadata": {},
   "outputs": [],
   "source": [
    "# prefix \n",
    "\n",
    "prefix_layer2abbr = {\n",
    "    'control_trans': 'DEC-PFX-XA',\n",
    "    'control_trans_enc': 'ENC-PFX-SA',\n",
    "    'control_trans_dec': 'DEC-PFX-SA',\n",
    "}\n",
    "\n",
    "preseqlen = mt_uskg.model.preseqlen\n",
    "match_n_layer = 24\n",
    "match_n_head = 16\n",
    "match_n_embd = 64\n",
    "\n",
    "for pfx_lname, pfx_abbr in prefix_layer2abbr.items():\n",
    "    past_key_values = untuple(td[pfx_lname].output)\n",
    "    past_key_values = past_key_values.view(bsz, preseqlen, match_n_layer * 2, match_n_head * match_n_embd)\n",
    "    past_key_values = past_key_values.permute([2, 0, 1, 3]).split(2)\n",
    "    for l_id in inspect_layer_ids:\n",
    "        # (kv, bsz, preseqlen, n_head * d_kv)\n",
    "        kv_vecs = past_key_values[l_id]\n",
    "        k_vecs = kv_vecs[0, 0].cpu().numpy()\n",
    "        v_vecs = kv_vecs[1, 0].cpu().numpy()\n",
    "        for pfx_pos in range(preseqlen):\n",
    "            all_vectors.append(k_vecs[pfx_pos])\n",
    "            all_names.append(f'{pfx_abbr}::#{pfx_pos}::L{l_id}.k')\n",
    "            all_vectors.append(v_vecs[pfx_pos])\n",
    "            all_names.append(f'{pfx_abbr}::#{pfx_pos}::L{l_id}.v')\n"
   ]
  },
  {
   "cell_type": "code",
   "execution_count": 242,
   "metadata": {},
   "outputs": [
    {
     "data": {
      "text/plain": [
       "(742, 742)"
      ]
     },
     "execution_count": 242,
     "metadata": {},
     "output_type": "execute_result"
    }
   ],
   "source": [
    "len(all_vectors), len(all_names)"
   ]
  },
  {
   "cell_type": "code",
   "execution_count": null,
   "metadata": {},
   "outputs": [],
   "source": [
    "all_names"
   ]
  },
  {
   "cell_type": "code",
   "execution_count": 281,
   "metadata": {},
   "outputs": [],
   "source": [
    "vectors, names = zip(*[(v, n) for v, n in zip(all_vectors, all_names)\n",
    "                       if (n.startswith('ENC'))\n",
    "                       and (n.endswith('.q') or n.endswith('.k'))\n",
    "#                        and ('L12' in n)\n",
    "#                        if not (n.startswith('DEC') and (n.endswith('L20') or n.endswith('L23')))\n",
    "                      ])"
   ]
  },
  {
   "cell_type": "code",
   "execution_count": 282,
   "metadata": {},
   "outputs": [
    {
     "data": {
      "text/plain": [
       "(126, 126)"
      ]
     },
     "execution_count": 282,
     "metadata": {},
     "output_type": "execute_result"
    }
   ],
   "source": [
    "len(vectors), len(names)"
   ]
  },
  {
   "cell_type": "code",
   "execution_count": 283,
   "metadata": {
    "scrolled": true
   },
   "outputs": [
    {
     "data": {
      "text/plain": [
       "('ENC-Y-COL::make::L0.SA.q',\n",
       " 'ENC-Y-COL::make::L0.SA.k',\n",
       " 'ENC-Y-COL::accelerate::L0.SA.q',\n",
       " 'ENC-Y-COL::accelerate::L0.SA.k',\n",
       " 'ENC-N-COL::contid::L0.SA.q',\n",
       " 'ENC-N-COL::contid::L0.SA.k',\n",
       " 'ENC-N-COL::country::L0.SA.q',\n",
       " 'ENC-N-COL::country::L0.SA.k',\n",
       " 'ENC-Y-COL::make::L4.SA.q',\n",
       " 'ENC-Y-COL::make::L4.SA.k',\n",
       " 'ENC-Y-COL::accelerate::L4.SA.q',\n",
       " 'ENC-Y-COL::accelerate::L4.SA.k',\n",
       " 'ENC-N-COL::contid::L4.SA.q',\n",
       " 'ENC-N-COL::contid::L4.SA.k',\n",
       " 'ENC-N-COL::country::L4.SA.q',\n",
       " 'ENC-N-COL::country::L4.SA.k',\n",
       " 'ENC-Y-COL::make::L8.SA.q',\n",
       " 'ENC-Y-COL::make::L8.SA.k',\n",
       " 'ENC-Y-COL::accelerate::L8.SA.q',\n",
       " 'ENC-Y-COL::accelerate::L8.SA.k',\n",
       " 'ENC-N-COL::contid::L8.SA.q',\n",
       " 'ENC-N-COL::contid::L8.SA.k',\n",
       " 'ENC-N-COL::country::L8.SA.q',\n",
       " 'ENC-N-COL::country::L8.SA.k',\n",
       " 'ENC-Y-COL::make::L12.SA.q',\n",
       " 'ENC-Y-COL::make::L12.SA.k',\n",
       " 'ENC-Y-COL::accelerate::L12.SA.q',\n",
       " 'ENC-Y-COL::accelerate::L12.SA.k',\n",
       " 'ENC-N-COL::contid::L12.SA.q',\n",
       " 'ENC-N-COL::contid::L12.SA.k',\n",
       " 'ENC-N-COL::country::L12.SA.q',\n",
       " 'ENC-N-COL::country::L12.SA.k',\n",
       " 'ENC-Y-COL::make::L16.SA.q',\n",
       " 'ENC-Y-COL::make::L16.SA.k',\n",
       " 'ENC-Y-COL::accelerate::L16.SA.q',\n",
       " 'ENC-Y-COL::accelerate::L16.SA.k',\n",
       " 'ENC-N-COL::contid::L16.SA.q',\n",
       " 'ENC-N-COL::contid::L16.SA.k',\n",
       " 'ENC-N-COL::country::L16.SA.q',\n",
       " 'ENC-N-COL::country::L16.SA.k',\n",
       " 'ENC-Y-COL::make::L20.SA.q',\n",
       " 'ENC-Y-COL::make::L20.SA.k',\n",
       " 'ENC-Y-COL::accelerate::L20.SA.q',\n",
       " 'ENC-Y-COL::accelerate::L20.SA.k',\n",
       " 'ENC-N-COL::contid::L20.SA.q',\n",
       " 'ENC-N-COL::contid::L20.SA.k',\n",
       " 'ENC-N-COL::country::L20.SA.q',\n",
       " 'ENC-N-COL::country::L20.SA.k',\n",
       " 'ENC-Y-COL::make::L23.SA.q',\n",
       " 'ENC-Y-COL::make::L23.SA.k',\n",
       " 'ENC-Y-COL::accelerate::L23.SA.q',\n",
       " 'ENC-Y-COL::accelerate::L23.SA.k',\n",
       " 'ENC-N-COL::contid::L23.SA.q',\n",
       " 'ENC-N-COL::contid::L23.SA.k',\n",
       " 'ENC-N-COL::country::L23.SA.q',\n",
       " 'ENC-N-COL::country::L23.SA.k',\n",
       " 'ENC-PFX-SA::#0::L0.k',\n",
       " 'ENC-PFX-SA::#1::L0.k',\n",
       " 'ENC-PFX-SA::#2::L0.k',\n",
       " 'ENC-PFX-SA::#3::L0.k',\n",
       " 'ENC-PFX-SA::#4::L0.k',\n",
       " 'ENC-PFX-SA::#5::L0.k',\n",
       " 'ENC-PFX-SA::#6::L0.k',\n",
       " 'ENC-PFX-SA::#7::L0.k',\n",
       " 'ENC-PFX-SA::#8::L0.k',\n",
       " 'ENC-PFX-SA::#9::L0.k',\n",
       " 'ENC-PFX-SA::#0::L4.k',\n",
       " 'ENC-PFX-SA::#1::L4.k',\n",
       " 'ENC-PFX-SA::#2::L4.k',\n",
       " 'ENC-PFX-SA::#3::L4.k',\n",
       " 'ENC-PFX-SA::#4::L4.k',\n",
       " 'ENC-PFX-SA::#5::L4.k',\n",
       " 'ENC-PFX-SA::#6::L4.k',\n",
       " 'ENC-PFX-SA::#7::L4.k',\n",
       " 'ENC-PFX-SA::#8::L4.k',\n",
       " 'ENC-PFX-SA::#9::L4.k',\n",
       " 'ENC-PFX-SA::#0::L8.k',\n",
       " 'ENC-PFX-SA::#1::L8.k',\n",
       " 'ENC-PFX-SA::#2::L8.k',\n",
       " 'ENC-PFX-SA::#3::L8.k',\n",
       " 'ENC-PFX-SA::#4::L8.k',\n",
       " 'ENC-PFX-SA::#5::L8.k',\n",
       " 'ENC-PFX-SA::#6::L8.k',\n",
       " 'ENC-PFX-SA::#7::L8.k',\n",
       " 'ENC-PFX-SA::#8::L8.k',\n",
       " 'ENC-PFX-SA::#9::L8.k',\n",
       " 'ENC-PFX-SA::#0::L12.k',\n",
       " 'ENC-PFX-SA::#1::L12.k',\n",
       " 'ENC-PFX-SA::#2::L12.k',\n",
       " 'ENC-PFX-SA::#3::L12.k',\n",
       " 'ENC-PFX-SA::#4::L12.k',\n",
       " 'ENC-PFX-SA::#5::L12.k',\n",
       " 'ENC-PFX-SA::#6::L12.k',\n",
       " 'ENC-PFX-SA::#7::L12.k',\n",
       " 'ENC-PFX-SA::#8::L12.k',\n",
       " 'ENC-PFX-SA::#9::L12.k',\n",
       " 'ENC-PFX-SA::#0::L16.k',\n",
       " 'ENC-PFX-SA::#1::L16.k',\n",
       " 'ENC-PFX-SA::#2::L16.k',\n",
       " 'ENC-PFX-SA::#3::L16.k',\n",
       " 'ENC-PFX-SA::#4::L16.k',\n",
       " 'ENC-PFX-SA::#5::L16.k',\n",
       " 'ENC-PFX-SA::#6::L16.k',\n",
       " 'ENC-PFX-SA::#7::L16.k',\n",
       " 'ENC-PFX-SA::#8::L16.k',\n",
       " 'ENC-PFX-SA::#9::L16.k',\n",
       " 'ENC-PFX-SA::#0::L20.k',\n",
       " 'ENC-PFX-SA::#1::L20.k',\n",
       " 'ENC-PFX-SA::#2::L20.k',\n",
       " 'ENC-PFX-SA::#3::L20.k',\n",
       " 'ENC-PFX-SA::#4::L20.k',\n",
       " 'ENC-PFX-SA::#5::L20.k',\n",
       " 'ENC-PFX-SA::#6::L20.k',\n",
       " 'ENC-PFX-SA::#7::L20.k',\n",
       " 'ENC-PFX-SA::#8::L20.k',\n",
       " 'ENC-PFX-SA::#9::L20.k',\n",
       " 'ENC-PFX-SA::#0::L23.k',\n",
       " 'ENC-PFX-SA::#1::L23.k',\n",
       " 'ENC-PFX-SA::#2::L23.k',\n",
       " 'ENC-PFX-SA::#3::L23.k',\n",
       " 'ENC-PFX-SA::#4::L23.k',\n",
       " 'ENC-PFX-SA::#5::L23.k',\n",
       " 'ENC-PFX-SA::#6::L23.k',\n",
       " 'ENC-PFX-SA::#7::L23.k',\n",
       " 'ENC-PFX-SA::#8::L23.k',\n",
       " 'ENC-PFX-SA::#9::L23.k')"
      ]
     },
     "execution_count": 283,
     "metadata": {},
     "output_type": "execute_result"
    }
   ],
   "source": [
    "names"
   ]
  },
  {
   "cell_type": "code",
   "execution_count": 284,
   "metadata": {},
   "outputs": [
    {
     "name": "stderr",
     "output_type": "stream",
     "text": [
      "/home/yshao/anaconda3/envs/rome/lib/python3.9/site-packages/sklearn/manifold/_t_sne.py:780: FutureWarning: The default initialization in TSNE will change from 'random' to 'pca' in 1.2.\n",
      "  warnings.warn(\n",
      "/home/yshao/anaconda3/envs/rome/lib/python3.9/site-packages/sklearn/manifold/_t_sne.py:790: FutureWarning: The default learning rate in TSNE will change from 200.0 to 'auto' in 1.2.\n",
      "  warnings.warn(\n",
      "/home/yshao/anaconda3/envs/rome/lib/python3.9/site-packages/sklearn/manifold/_t_sne.py:819: FutureWarning: 'square_distances' has been introduced in 0.24 to help phase out legacy squaring behavior. The 'legacy' setting will be removed in 1.1 (renaming of 0.26), and the default setting will be changed to True. In 1.3, 'square_distances' will be removed altogether, and distances will be squared by default. Set 'square_distances'=True to silence this warning.\n",
      "  warnings.warn(\n"
     ]
    },
    {
     "data": {
      "image/png": "[encoded data removed]",
      "text/plain": [
       "<Figure size 1728x1440 with 1 Axes>"
      ]
     },
     "metadata": {
      "needs_background": "light"
     },
     "output_type": "display_data"
    }
   ],
   "source": [
    "# Convert data to numpy array\n",
    "vectors = np.array(vectors)\n",
    "\n",
    "# Apply dimensionality reduction\n",
    "tsne = TSNE(n_components=2, random_state=42, metric=lambda x, y: 1 - np.dot(x, y))\n",
    "vectors_2d = tsne.fit_transform(vectors)\n",
    "\n",
    "# pca = PCA(n_components=2)\n",
    "# vectors_2d = pca.fit_transform(vectors)\n",
    "\n",
    "_scalar = np.max(np.abs(vectors_2d)) + 1e-9\n",
    "vectors_2d /= _scalar\n",
    "\n",
    "# Create the scatter plot\n",
    "fig = plt.figure(figsize=(24, 20))\n",
    "ax = fig.gca()\n",
    "\n",
    "ax.scatter(vectors_2d[:, 0], vectors_2d[:, 1])\n",
    "\n",
    "zoom_x = 1.0\n",
    "zoom_y = 1.0\n",
    "\n",
    "# Add labels for each point\n",
    "for i, name in enumerate(names):\n",
    "    ax.annotate(name, (vectors_2d[i, 0], vectors_2d[i, 1]))\n",
    "# + np.random.uniform(-zoom_y * 0.03, zoom_y * 0.03)\n",
    "\n",
    "# Show the plot\n",
    "# ax.set_xlim(-zoom_x, zoom_x)\n",
    "# ax.set_ylim(-zoom_y, zoom_y)\n",
    "fig.show()\n"
   ]
  },
  {
   "cell_type": "code",
   "execution_count": null,
   "metadata": {},
   "outputs": [],
   "source": [
    "# np.dot()"
   ]
  },
  {
   "cell_type": "code",
   "execution_count": null,
   "metadata": {},
   "outputs": [],
   "source": []
  },
  {
   "cell_type": "markdown",
   "metadata": {},
   "source": [
    "## Temp"
   ]
  },
  {
   "cell_type": "markdown",
   "metadata": {},
   "source": [
    "### One-time patch"
   ]
  },
  {
   "cell_type": "code",
   "execution_count": 496,
   "metadata": {},
   "outputs": [],
   "source": [
    "# # expect_type = 'table_alias'\n",
    "# orig_res_path = f'/home/yshao/Projects/rome/results/exp6_2_decoder_cross_attention_corruption_syntax/no_o_exp=6.2_dev_corrupt=zero.jsonl'\n",
    "# add_res_path = f'/home/yshao/Projects/rome/results/exp6_2_decoder_cross_attention_corruption_syntax/exp=6.2+o_dev_corrupt=zero.jsonl'\n",
    "\n",
    "# merge_res_path = f'/home/yshao/Projects/rome/results/exp6_2_decoder_cross_attention_corruption_syntax/exp=6.2_dev_corrupt=zero.jsonl'"
   ]
  },
  {
   "cell_type": "code",
   "execution_count": 497,
   "metadata": {},
   "outputs": [],
   "source": [
    "# with open(orig_res_path, 'r') as f:\n",
    "#     orig_all_samples = [json.loads(l) for l in f]\n",
    "# with open(add_res_path, 'r') as f:\n",
    "#     add_all_samples = [json.loads(l) for l in f]\n",
    "\n",
    "# f = open(merge_res_path, 'w')\n",
    "\n",
    "# for i, (orig_ex, add_ex) in enumerate(zip(orig_all_samples, add_all_samples)):\n",
    "#     assert len(orig_ex['trace_results']) == len(add_ex['trace_results']), i\n",
    "#     # There is randomness in the order of expected node (from set()), thus sorting here \n",
    "#     orig_ex['trace_results'].sort(key=lambda d: len(d['dec_prompt']))\n",
    "#     add_ex['trace_results'].sort(key=lambda d: len(d['dec_prompt']))\n",
    "#     for j, (orig_d, add_d) in enumerate(zip(orig_ex['trace_results'], add_ex['trace_results'])):\n",
    "#         assert orig_d['is_good_sample'] == add_d['is_good_sample'], (i, j)\n",
    "#         if not orig_d['is_good_sample']:\n",
    "#             continue\n",
    "            \n",
    "#         # is good sample: add the new sections \n",
    "#         for k, v in add_d['trace_scores'].items():\n",
    "#             if k in orig_d['trace_scores']:\n",
    "#                 continue\n",
    "#             orig_d['trace_scores'][k] = add_d['trace_scores'][k]\n",
    "        \n",
    "#     f.write(json.dumps(orig_ex, indent=None) + '\\n')\n",
    "    \n",
    "# f.close()"
   ]
  },
  {
   "cell_type": "code",
   "execution_count": null,
   "metadata": {},
   "outputs": [],
   "source": []
  },
  {
   "cell_type": "code",
   "execution_count": null,
   "metadata": {},
   "outputs": [],
   "source": []
  },
  {
   "cell_type": "markdown",
   "metadata": {},
   "source": [
    "### Debugging exp"
   ]
  },
  {
   "cell_type": "code",
   "execution_count": 497,
   "metadata": {},
   "outputs": [],
   "source": [
    "ex = processed_spider_dev[97]\n",
    "text_in = ex['text_in']\n",
    "struct_in = ex['struct_in']\n",
    "\n",
    "enc_sentence = f\"{text_in}; structed knowledge: {struct_in}\"\n",
    "dec_prompt = \"select t1.model from\"\n",
    "expect = \"car_names\""
   ]
  },
  {
   "cell_type": "code",
   "execution_count": 498,
   "metadata": {},
   "outputs": [],
   "source": [
    "inp = ctu.make_inputs_t5(\n",
    "    mt_uskg.tokenizer,\n",
    "    enc_sentences=[enc_sentence]*11,\n",
    "    dec_prompts=[dec_prompt]*11,\n",
    "    answer=expect\n",
    ")"
   ]
  },
  {
   "cell_type": "markdown",
   "metadata": {},
   "source": [
    "### RE"
   ]
  },
  {
   "cell_type": "code",
   "execution_count": 70,
   "metadata": {},
   "outputs": [],
   "source": [
    "seq = 'aa,bb< cc  \\t dd(  )ee <= ff=5 %h% \"06-15\".'\n",
    "sep_pattern = r'\\s+|\\W'\n",
    "\n",
    "all_matches = re.finditer(sep_pattern, seq)"
   ]
  },
  {
   "cell_type": "code",
   "execution_count": 71,
   "metadata": {},
   "outputs": [
    {
     "data": {
      "text/plain": [
       "[<re.Match object; span=(2, 3), match=','>,\n",
       " <re.Match object; span=(5, 6), match='<'>,\n",
       " <re.Match object; span=(6, 7), match=' '>,\n",
       " <re.Match object; span=(9, 13), match='  \\t '>,\n",
       " <re.Match object; span=(15, 16), match='('>,\n",
       " <re.Match object; span=(16, 18), match='  '>,\n",
       " <re.Match object; span=(18, 19), match=')'>,\n",
       " <re.Match object; span=(21, 22), match=' '>,\n",
       " <re.Match object; span=(22, 23), match='<'>,\n",
       " <re.Match object; span=(23, 24), match='='>,\n",
       " <re.Match object; span=(24, 25), match=' '>,\n",
       " <re.Match object; span=(27, 28), match='='>,\n",
       " <re.Match object; span=(29, 30), match=' '>,\n",
       " <re.Match object; span=(30, 31), match='%'>,\n",
       " <re.Match object; span=(32, 33), match='%'>,\n",
       " <re.Match object; span=(33, 34), match=' '>,\n",
       " <re.Match object; span=(34, 35), match='\"'>,\n",
       " <re.Match object; span=(37, 38), match='-'>,\n",
       " <re.Match object; span=(40, 41), match='\"'>,\n",
       " <re.Match object; span=(41, 42), match='.'>]"
      ]
     },
     "execution_count": 71,
     "metadata": {},
     "output_type": "execute_result"
    }
   ],
   "source": [
    "all_matches = list(all_matches)\n",
    "all_matches"
   ]
  },
  {
   "cell_type": "code",
   "execution_count": 72,
   "metadata": {},
   "outputs": [
    {
     "data": {
      "text/plain": [
       "(2, 3)"
      ]
     },
     "execution_count": 72,
     "metadata": {},
     "output_type": "execute_result"
    }
   ],
   "source": [
    "all_matches[0].span()"
   ]
  },
  {
   "cell_type": "code",
   "execution_count": 73,
   "metadata": {},
   "outputs": [
    {
     "name": "stdout",
     "output_type": "stream",
     "text": [
      "[0, 2, 3, 5, 6, 7, 9, 13, 15, 16, 18, 19, 21, 22, 23, 24, 25, 27, 28, 29, 30, 31, 32, 33, 34, 35, 37, 38, 40, 41, 42]\n"
     ]
    }
   ],
   "source": [
    "splits = [0] + [i for m in all_matches for i in m.span()] + [len(seq)]\n",
    "splits = sorted(list(set(splits)))\n",
    "print(splits)"
   ]
  },
  {
   "cell_type": "code",
   "execution_count": 74,
   "metadata": {},
   "outputs": [],
   "source": [
    "st = 0\n",
    "SP = [\"<=\", \">=\", \"<>\", \"!=\"]\n",
    "toks = []\n",
    "\n",
    "for s, e in zip(splits[:-1], splits[1:]):\n",
    "    if not seq[s:e].strip():\n",
    "        # is a whitespace\n",
    "        st = e\n",
    "    else:\n",
    "        # is a punct\n",
    "        if seq[s:s+2] in SP:\n",
    "            # wait next\n",
    "            continue\n",
    "        toks.append(seq[st:e])\n",
    "        st = e\n",
    "        "
   ]
  },
  {
   "cell_type": "code",
   "execution_count": 75,
   "metadata": {},
   "outputs": [
    {
     "name": "stdout",
     "output_type": "stream",
     "text": [
      "['aa', ',', 'bb', '<', 'cc', 'dd', '(', ')', 'ee', '<=', 'ff', '=', '5', '%', 'h', '%', '\"', '06', '-', '15', '\"', '.']\n"
     ]
    }
   ],
   "source": [
    "print(toks)"
   ]
  },
  {
   "cell_type": "code",
   "execution_count": null,
   "metadata": {},
   "outputs": [],
   "source": []
  },
  {
   "cell_type": "markdown",
   "metadata": {},
   "source": [
    "### other temp"
   ]
  },
  {
   "cell_type": "code",
   "execution_count": 311,
   "metadata": {},
   "outputs": [
    {
     "data": {
      "text/plain": [
       "['▁school', '_', 'name']"
      ]
     },
     "execution_count": 311,
     "metadata": {},
     "output_type": "execute_result"
    }
   ],
   "source": [
    "mt_uskg.tokenizer.tokenize('school_name')"
   ]
  },
  {
   "cell_type": "code",
   "execution_count": 183,
   "metadata": {
    "scrolled": true
   },
   "outputs": [
    {
     "data": {
      "text/plain": [
       "(tensor([[[0., 0., 0., 0., 0., 0., 0., 0., 0., 0.],\n",
       "          [0., 0., 0., 0., 0., 0., 0., 0., 0., 0.],\n",
       "          [0., 0., 0., 0., 0., 0., 0., 0., 0., 0.],\n",
       "          [0., 0., 0., 0., 0., 0., 0., 0., 0., 0.],\n",
       "          [0., 0., 0., 0., 0., 0., 0., 0., 0., 0.],\n",
       "          [0., 0., 0., 0., 0., 0., 0., 0., 0., 0.],\n",
       "          [0., 0., 0., 0., 0., 0., 0., 0., 0., 0.],\n",
       "          [0., 0., 0., 0., 0., 0., 0., 0., 0., 0.]],\n",
       " \n",
       "         [[0., 0., 0., 0., 0., 0., 0., 0., 0., 0.],\n",
       "          [0., 0., 0., 0., 0., 0., 0., 0., 0., 0.],\n",
       "          [0., 0., 0., 0., 0., 0., 0., 0., 0., 0.],\n",
       "          [0., 0., 0., 0., 0., 0., 0., 0., 0., 0.],\n",
       "          [0., 0., 0., 0., 0., 0., 0., 0., 0., 0.],\n",
       "          [0., 0., 0., 0., 0., 0., 0., 0., 0., 0.],\n",
       "          [0., 0., 0., 0., 0., 0., 0., 0., 0., 0.],\n",
       "          [0., 0., 0., 0., 0., 0., 0., 0., 0., 0.]]]),\n",
       " tensor([[[0., 0., 0., 0., 0., 0., 0., 0., 0., 0.],\n",
       "          [0., 0., 0., 0., 0., 0., 0., 0., 0., 0.],\n",
       "          [0., 0., 0., 0., 0., 0., 0., 0., 0., 0.],\n",
       "          [0., 0., 0., 0., 0., 0., 0., 0., 0., 0.],\n",
       "          [0., 0., 0., 0., 0., 0., 0., 0., 0., 0.],\n",
       "          [0., 0., 0., 0., 0., 0., 0., 0., 0., 0.],\n",
       "          [0., 0., 0., 0., 0., 0., 0., 0., 0., 0.],\n",
       "          [0., 0., 0., 0., 0., 0., 0., 0., 0., 0.]],\n",
       " \n",
       "         [[0., 0., 0., 0., 0., 0., 0., 0., 0., 0.],\n",
       "          [0., 0., 0., 0., 0., 0., 0., 0., 0., 0.],\n",
       "          [0., 0., 0., 0., 0., 0., 0., 0., 0., 0.],\n",
       "          [0., 0., 0., 0., 0., 0., 0., 0., 0., 0.],\n",
       "          [0., 0., 0., 0., 0., 0., 0., 0., 0., 0.],\n",
       "          [0., 0., 0., 0., 0., 0., 0., 0., 0., 0.],\n",
       "          [0., 0., 0., 0., 0., 0., 0., 0., 0., 0.],\n",
       "          [0., 0., 0., 0., 0., 0., 0., 0., 0., 0.]]]),\n",
       " tensor([[[0., 0., 0., 0., 0., 0., 0., 0., 0., 0.],\n",
       "          [0., 0., 0., 0., 0., 0., 0., 0., 0., 0.],\n",
       "          [0., 0., 0., 0., 0., 0., 0., 0., 0., 0.],\n",
       "          [0., 0., 0., 0., 0., 0., 0., 0., 0., 0.],\n",
       "          [0., 0., 0., 0., 0., 0., 0., 0., 0., 0.],\n",
       "          [0., 0., 0., 0., 0., 0., 0., 0., 0., 0.],\n",
       "          [0., 0., 0., 0., 0., 0., 0., 0., 0., 0.],\n",
       "          [0., 0., 0., 0., 0., 0., 0., 0., 0., 0.]],\n",
       " \n",
       "         [[0., 0., 0., 0., 0., 0., 0., 0., 0., 0.],\n",
       "          [0., 0., 0., 0., 0., 0., 0., 0., 0., 0.],\n",
       "          [0., 0., 0., 0., 0., 0., 0., 0., 0., 0.],\n",
       "          [0., 0., 0., 0., 0., 0., 0., 0., 0., 0.],\n",
       "          [0., 0., 0., 0., 0., 0., 0., 0., 0., 0.],\n",
       "          [0., 0., 0., 0., 0., 0., 0., 0., 0., 0.],\n",
       "          [0., 0., 0., 0., 0., 0., 0., 0., 0., 0.],\n",
       "          [0., 0., 0., 0., 0., 0., 0., 0., 0., 0.]]]))"
      ]
     },
     "execution_count": 183,
     "metadata": {},
     "output_type": "execute_result"
    }
   ],
   "source": [
    "torch.zeros(6,8,10).split(2)"
   ]
  },
  {
   "cell_type": "code",
   "execution_count": null,
   "metadata": {},
   "outputs": [],
   "source": [
    "torch.split()"
   ]
  },
  {
   "cell_type": "code",
   "execution_count": null,
   "metadata": {},
   "outputs": [],
   "source": []
  },
  {
   "cell_type": "markdown",
   "metadata": {},
   "source": [
    "## (placeholder)"
   ]
  },
  {
   "cell_type": "code",
   "execution_count": null,
   "metadata": {},
   "outputs": [],
   "source": []
  }
 ],
 "metadata": {
  "accelerator": "GPU",
  "kernelspec": {
   "display_name": "Python 3 (ipykernel)",
   "language": "python",
   "name": "python3"
  },
  "language_info": {
   "codemirror_mode": {
    "name": "ipython",
    "version": 3
   },
   "file_extension": ".py",
   "mimetype": "text/x-python",
   "name": "python",
   "nbconvert_exporter": "python",
   "pygments_lexer": "ipython3",
   "version": "3.9.7"
  },
  "toc": {
   "base_numbering": 1,
   "nav_menu": {},
   "number_sections": true,
   "sideBar": true,
   "skip_h1_title": false,
   "title_cell": "Table of Contents",
   "title_sidebar": "Contents",
   "toc_cell": false,
   "toc_position": {
    "height": "706px",
    "left": "30px",
    "top": "220px",
    "width": "259px"
   },
   "toc_section_display": true,
   "toc_window_display": true
  },
  "vscode": {
   "interpreter": {
    "hash": "2c3ec9f9cb0aa45979d92499665f4b05f2a3528d3b2ca0efacea2020d32b93f4"
   }
  }
 },
 "nbformat": 4,
 "nbformat_minor": 4
}
